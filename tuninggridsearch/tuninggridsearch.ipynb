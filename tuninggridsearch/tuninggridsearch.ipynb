{
  "nbformat": 4,
  "nbformat_minor": 0,
  "metadata": {
    "colab": {
      "name": "tuninggridsearch.ipynb",
      "provenance": []
    },
    "kernelspec": {
      "name": "python3",
      "display_name": "Python 3"
    },
    "language_info": {
      "name": "python"
    }
  },
  "cells": [
    {
      "cell_type": "code",
      "metadata": {
        "id": "ak0gFzybdDP8"
      },
      "source": [
        "import numpy as np"
      ],
      "execution_count": null,
      "outputs": []
    },
    {
      "cell_type": "markdown",
      "metadata": {
        "id": "3x-qEhY5aJqf"
      },
      "source": [
        "**Tuning dos parâmetros com GridSearch**"
      ]
    },
    {
      "cell_type": "markdown",
      "metadata": {
        "id": "npaCN4sLVDrN"
      },
      "source": [
        "Inicialmente é feito o tuning dos parâmetros com a classe GridSearchCV para encontrar o melhor conjunto de parâmetros para obter os melhores resultados com o algoritmo. Algumas vezes é possível melhorar a acurácia do algoritmo de aprendizado de máquina modificando um ou mais parâmetros. Após aplicar o tuning, podemos aplicar os melhores parâmetros para a implementação do algoritmo."
      ]
    },
    {
      "cell_type": "markdown",
      "metadata": {
        "id": "XmhJ86A9filj"
      },
      "source": [
        "**Preparação dos dados**"
      ]
    },
    {
      "cell_type": "markdown",
      "metadata": {
        "id": "EU8diN7SaN53"
      },
      "source": [
        "Ao invés de dividirmos a base de dados em dados de treinamento e dados de teste, podemos usar o conceito de validação cruzada. A validação cruzada particiona a base de dados em partes iguais e seleciona um conjunto como teste e outro para o treinamento. Em seguida, outros conjuntos são selecionados de modo a utilizar todos os dados no treinamento e no teste. Em geral, utiliza-se K = 10 (partes iguais)"
      ]
    },
    {
      "cell_type": "code",
      "metadata": {
        "id": "uMyfK6UzaFfx"
      },
      "source": [
        "#importando a classe responsável por fazer a validação cruzada, temos:\n",
        "from sklearn.model_selection import GridSearchCV"
      ],
      "execution_count": null,
      "outputs": []
    },
    {
      "cell_type": "code",
      "metadata": {
        "id": "Su6HSnfaa3Uy"
      },
      "source": [
        "#Importando todas as bibliotecas dos algoritmos de aprendizagem de máquina que utilizamos, temos:\n",
        "from sklearn.tree import DecisionTreeClassifier #árvore de decisão\n",
        "from sklearn.ensemble import RandomForestClassifier #florestas randômicas\n",
        "from sklearn.neighbors import KNeighborsClassifier #algoritmo de KNN\n",
        "from sklearn.linear_model import LogisticRegression #algoritmo de regressão logística\n",
        "from sklearn.svm import SVC\n",
        "from sklearn.neural_network import MLPClassifier"
      ],
      "execution_count": null,
      "outputs": []
    },
    {
      "cell_type": "code",
      "metadata": {
        "id": "yQHN2YFRbvf7"
      },
      "source": [
        "#importando a base de dados base credit\n",
        "import pickle\n",
        "with open('credit.pkl','rb') as f:\n",
        "  x_credit_treinamento, y_credit_treinamento, x_credit_teste, y_credit_teste = pickle.load(f)"
      ],
      "execution_count": null,
      "outputs": []
    },
    {
      "cell_type": "code",
      "metadata": {
        "colab": {
          "base_uri": "https://localhost:8080/"
        },
        "id": "VdZwv_R9cBUl",
        "outputId": "023f5875-41a3-490d-8770-c727956e2f87"
      },
      "source": [
        "x_credit_treinamento.shape, y_credit_treinamento.shape"
      ],
      "execution_count": null,
      "outputs": [
        {
          "output_type": "execute_result",
          "data": {
            "text/plain": [
              "((1500, 3), (1500,))"
            ]
          },
          "metadata": {
            "tags": []
          },
          "execution_count": 5
        }
      ]
    },
    {
      "cell_type": "code",
      "metadata": {
        "colab": {
          "base_uri": "https://localhost:8080/"
        },
        "id": "dnLPKnNScGXA",
        "outputId": "fc3c3872-5918-4bdf-917d-3066d1550388"
      },
      "source": [
        "x_credit_teste.shape, y_credit_teste.shape"
      ],
      "execution_count": null,
      "outputs": [
        {
          "output_type": "execute_result",
          "data": {
            "text/plain": [
              "((500, 3), (500,))"
            ]
          },
          "metadata": {
            "tags": []
          },
          "execution_count": 6
        }
      ]
    },
    {
      "cell_type": "markdown",
      "metadata": {
        "id": "R1Xkr7I_ccwM"
      },
      "source": [
        "Na validação cruzada usamos toda a base de dados, sem a necessidade de dividir a base de dados em treinamento e teste."
      ]
    },
    {
      "cell_type": "code",
      "metadata": {
        "colab": {
          "base_uri": "https://localhost:8080/"
        },
        "id": "Rua3hCgncijs",
        "outputId": "40fea820-8d0f-4960-b226-62f3803925d9"
      },
      "source": [
        "#Podemos concatenar as duas bases de dados novamente. Para isso utilizamos a função np.concatenate((xtreino,xteste), axis = 0)\n",
        "x_credit = np.concatenate((x_credit_treinamento,x_credit_teste),axis=0)\n",
        "x_credit.shape"
      ],
      "execution_count": null,
      "outputs": [
        {
          "output_type": "execute_result",
          "data": {
            "text/plain": [
              "(2000, 3)"
            ]
          },
          "metadata": {
            "tags": []
          },
          "execution_count": 5
        }
      ]
    },
    {
      "cell_type": "code",
      "metadata": {
        "colab": {
          "base_uri": "https://localhost:8080/"
        },
        "id": "cM-q5crYeM07",
        "outputId": "4f16815b-a0ee-4a3a-e406-759c0548f484"
      },
      "source": [
        "x_credit"
      ],
      "execution_count": null,
      "outputs": [
        {
          "output_type": "execute_result",
          "data": {
            "text/plain": [
              "array([[-1.3754462 ,  0.50631087,  0.10980934],\n",
              "       [ 1.45826409, -1.6489393 , -1.21501497],\n",
              "       [-0.79356829,  0.22531191, -0.43370226],\n",
              "       ...,\n",
              "       [ 1.37445674, -1.05746281, -1.12564819],\n",
              "       [-1.57087737, -0.63488173, -0.36981671],\n",
              "       [-1.03572293, -0.93978122,  0.04244312]])"
            ]
          },
          "metadata": {
            "tags": []
          },
          "execution_count": 7
        }
      ]
    },
    {
      "cell_type": "code",
      "metadata": {
        "colab": {
          "base_uri": "https://localhost:8080/"
        },
        "id": "-jpnpvgCeOQK",
        "outputId": "9078d6a2-00c1-4989-896e-081e67866ee5"
      },
      "source": [
        "#Agora concatenamos as classificações armazenadas nas variáveis y_credit_treinamento e y_credit_teste\n",
        "y_credit = np.concatenate((y_credit_treinamento,y_credit_teste),axis=0)\n",
        "y_credit.shape"
      ],
      "execution_count": null,
      "outputs": [
        {
          "output_type": "execute_result",
          "data": {
            "text/plain": [
              "(2000,)"
            ]
          },
          "metadata": {
            "tags": []
          },
          "execution_count": 6
        }
      ]
    },
    {
      "cell_type": "code",
      "metadata": {
        "colab": {
          "base_uri": "https://localhost:8080/"
        },
        "id": "zJqCpGaIfMDA",
        "outputId": "12e3596d-2e7f-4b72-8a9d-ad144c7754bf"
      },
      "source": [
        "y_credit"
      ],
      "execution_count": null,
      "outputs": [
        {
          "output_type": "execute_result",
          "data": {
            "text/plain": [
              "array([0, 0, 0, ..., 0, 1, 1])"
            ]
          },
          "metadata": {
            "tags": []
          },
          "execution_count": 16
        }
      ]
    },
    {
      "cell_type": "markdown",
      "metadata": {
        "id": "LAo2qbbzoWbk"
      },
      "source": [
        "**Árvore de decisão**"
      ]
    },
    {
      "cell_type": "code",
      "metadata": {
        "id": "YIxCiBCIl6y_"
      },
      "source": [
        "parametros = {'criterion':['gini','entropy'],'splitter':['best','random'],'min_samples_split':[1,2,3,4,5,6,7,8,9,10]\n",
        "              ,'min_samples_leaf':[1,2,3,4,5,6,7,8,9,10,15,20]}"
      ],
      "execution_count": null,
      "outputs": []
    },
    {
      "cell_type": "code",
      "metadata": {
        "id": "YNx4CKeSk3SP"
      },
      "source": [
        "grid_search = GridSearchCV(estimator=DecisionTreeClassifier(),param_grid=parametros);\n",
        "grid_search.fit(x_credit,y_credit);\n",
        "melhores_parametros = grid_search.best_params_;\n",
        "melhores_resultados = grid_search.best_score_;"
      ],
      "execution_count": null,
      "outputs": []
    },
    {
      "cell_type": "code",
      "metadata": {
        "colab": {
          "base_uri": "https://localhost:8080/"
        },
        "id": "GkoHmt8XU2dm",
        "outputId": "cb523a21-319d-4abd-912e-47646f02a8bf"
      },
      "source": [
        "print(melhores_parametros)\n",
        "print(melhores_resultados)"
      ],
      "execution_count": null,
      "outputs": [
        {
          "output_type": "stream",
          "text": [
            "{'criterion': 'entropy', 'min_samples_leaf': 3, 'min_samples_split': 2, 'splitter': 'best'}\n",
            "0.9840000000000002\n"
          ],
          "name": "stdout"
        }
      ]
    },
    {
      "cell_type": "markdown",
      "metadata": {
        "id": "_rD2Xd7Oogwo"
      },
      "source": [
        "**Random Forest**"
      ]
    },
    {
      "cell_type": "code",
      "metadata": {
        "id": "hlthLt31p9yU"
      },
      "source": [
        "RandomForestClassifier()"
      ],
      "execution_count": null,
      "outputs": []
    },
    {
      "cell_type": "code",
      "metadata": {
        "id": "nGnsbjcFokBo"
      },
      "source": [
        "parametros = {'n_estimators':[10,30,40,50,60,70,90,100,150]\n",
        "              ,'criterion':['gini','entropy']\n",
        "              ,'min_samples_split':[1,2,3,4,5],\n",
        "              'min_samples_leaf':[1,2,3,4,5]}"
      ],
      "execution_count": null,
      "outputs": []
    },
    {
      "cell_type": "code",
      "metadata": {
        "id": "VQBj-EgIpD3N"
      },
      "source": [
        "grid_search = GridSearchCV(estimator=RandomForestClassifier(),param_grid=parametros)\n",
        "grid_search.fit(x_credit,y_credit)\n",
        "melhores_parametros = grid_search.best_params_\n",
        "melhores_resultados = grid_search.best_score_"
      ],
      "execution_count": null,
      "outputs": []
    },
    {
      "cell_type": "code",
      "metadata": {
        "colab": {
          "base_uri": "https://localhost:8080/"
        },
        "id": "8KNC-ffsWJRE",
        "outputId": "c6793981-8861-4f8a-e7d1-0d7760d7b85f"
      },
      "source": [
        "print(melhores_parametros)\n",
        "print(melhores_resultados)"
      ],
      "execution_count": null,
      "outputs": [
        {
          "output_type": "stream",
          "text": [
            "{'criterion': 'gini', 'min_samples_leaf': 1, 'min_samples_split': 4, 'n_estimators': 40}\n",
            "0.9880000000000001\n"
          ],
          "name": "stdout"
        }
      ]
    },
    {
      "cell_type": "markdown",
      "metadata": {
        "id": "nKxPXZRWymNy"
      },
      "source": [
        "**Cross validation KNN**"
      ]
    },
    {
      "cell_type": "code",
      "metadata": {
        "id": "YT7OyBkZyq7O"
      },
      "source": [
        "KNeighborsClassifier()"
      ],
      "execution_count": null,
      "outputs": []
    },
    {
      "cell_type": "code",
      "metadata": {
        "id": "s8KnnRduzFvx"
      },
      "source": [
        "parametros = {'n_neighbors':[3,5,10,20],'p':[1,2]}"
      ],
      "execution_count": null,
      "outputs": []
    },
    {
      "cell_type": "code",
      "metadata": {
        "colab": {
          "base_uri": "https://localhost:8080/"
        },
        "id": "AR9Ilypxy6Sd",
        "outputId": "583f11f4-fb93-41fd-f4d0-bc06c62bee17"
      },
      "source": [
        "grid_search = GridSearchCV(estimator=KNeighborsClassifier(),param_grid=parametros)\n",
        "grid_search.fit(x_credit,y_credit)\n",
        "melhores_parametros = grid_search.best_params_\n",
        "melhores_resultados = grid_search.best_score_\n",
        "print(melhores_parametros)\n",
        "print(melhores_resultados)"
      ],
      "execution_count": null,
      "outputs": [
        {
          "output_type": "stream",
          "text": [
            "{'n_neighbors': 20, 'p': 1}\n",
            "0.9800000000000001\n"
          ],
          "name": "stdout"
        }
      ]
    },
    {
      "cell_type": "markdown",
      "metadata": {
        "id": "M0bLZrEgz_ZQ"
      },
      "source": [
        "**Cross validation - Regressão logística**"
      ]
    },
    {
      "cell_type": "code",
      "metadata": {
        "id": "3W9j11o40FX-"
      },
      "source": [
        "LogisticRegression()"
      ],
      "execution_count": null,
      "outputs": []
    },
    {
      "cell_type": "code",
      "metadata": {
        "id": "Vx0Tu-OQ0Na1"
      },
      "source": [
        "parametros = {'tol':[0.0001,0.00001,0.000001], 'C':[1.0, 1.5,2.0],'solver':['lblfgs','sag','saga']}"
      ],
      "execution_count": null,
      "outputs": []
    },
    {
      "cell_type": "code",
      "metadata": {
        "id": "WuY0hOay0gbb"
      },
      "source": [
        "grid_search = GridSearchCV(estimator = LogisticRegression(),param_grid=parametros)\n",
        "grid_search.fit(x_credit,y_credit)\n",
        "best_resultados = grid_search.best_score_\n",
        "best_parametros = grid_search.best_params_"
      ],
      "execution_count": null,
      "outputs": []
    },
    {
      "cell_type": "code",
      "metadata": {
        "colab": {
          "base_uri": "https://localhost:8080/"
        },
        "id": "ItXlRh92WYue",
        "outputId": "18215ebb-c7aa-4ca7-d434-5baa3c4566ee"
      },
      "source": [
        "print(best_resultados)\n",
        "print(best_parametros)"
      ],
      "execution_count": null,
      "outputs": [
        {
          "output_type": "stream",
          "text": [
            "0.9484999999999999\n",
            "{'C': 1.0, 'solver': 'sag', 'tol': 0.0001}\n"
          ],
          "name": "stdout"
        }
      ]
    },
    {
      "cell_type": "markdown",
      "metadata": {
        "id": "YYAUjaJ2Wcub"
      },
      "source": [
        "**Tuning dos parâmetros do SVM**"
      ]
    },
    {
      "cell_type": "code",
      "metadata": {
        "id": "mcVx1NC1WgTn"
      },
      "source": [
        "parametros = {'C':[0.1,0.4,0.7,0.9,1.0,1.5,2.0],\n",
        "              'kernel':['poly','rbf','sigmoid'],'tol':[0.01,0.001,0.001]}"
      ],
      "execution_count": null,
      "outputs": []
    },
    {
      "cell_type": "code",
      "metadata": {
        "id": "WcyrijIpXrdz"
      },
      "source": [
        "grid_search = GridSearchCV(estimator=SVC(),param_grid=parametros)\n",
        "grid_search.fit(x_credit,y_credit)\n",
        "melhores_parametros=grid_search.best_params_\n",
        "melhores_resultados=grid_search.best_score_"
      ],
      "execution_count": null,
      "outputs": []
    },
    {
      "cell_type": "code",
      "metadata": {
        "colab": {
          "base_uri": "https://localhost:8080/"
        },
        "id": "rpQh_b_cYRs_",
        "outputId": "7171f37b-0797-4969-932c-7078a3424e82"
      },
      "source": [
        "print(melhores_parametros)\n",
        "print(melhores_resultados)"
      ],
      "execution_count": null,
      "outputs": [
        {
          "output_type": "stream",
          "text": [
            "{'C': 1.5, 'kernel': 'rbf', 'tol': 0.01}\n",
            "0.9835\n"
          ],
          "name": "stdout"
        }
      ]
    },
    {
      "cell_type": "markdown",
      "metadata": {
        "id": "cgAIeaW3YZKX"
      },
      "source": [
        "**Tuning de parâmetros usando redes neurais de multicamadas**"
      ]
    },
    {
      "cell_type": "code",
      "metadata": {
        "id": "1WLN0mEeYi-V"
      },
      "source": [
        "parametros = {'hidden_layer_sizes':[(50,50),(100,100),(60,60)],'activation':['relu','logistic','identify'],\n",
        "              'solver':['adam','lbfgs','sgd'],'batch_size':[10,20],'max_iter':[1000],\n",
        "              'tol':[0.01,0.001,0.0001]}"
      ],
      "execution_count": null,
      "outputs": []
    },
    {
      "cell_type": "code",
      "metadata": {
        "colab": {
          "base_uri": "https://localhost:8080/"
        },
        "id": "QJBbN9xRaX3_",
        "outputId": "669d82f0-b52b-4e13-b29d-06ac181f3947"
      },
      "source": [
        "grid_search = GridSearchCV(MLPClassifier(),param_grid=parametros)\n",
        "grid_search.fit(x_credit,y_credit)\n",
        "melhores_parametros=grid_search.best_params_\n",
        "melhores_resultados=grid_search.best_score_"
      ],
      "execution_count": null,
      "outputs": [
        {
          "output_type": "stream",
          "text": [
            "/usr/local/lib/python3.7/dist-packages/sklearn/neural_network/_multilayer_perceptron.py:571: ConvergenceWarning: Stochastic Optimizer: Maximum iterations (1000) reached and the optimization hasn't converged yet.\n",
            "  % self.max_iter, ConvergenceWarning)\n",
            "/usr/local/lib/python3.7/dist-packages/sklearn/neural_network/_multilayer_perceptron.py:571: ConvergenceWarning: Stochastic Optimizer: Maximum iterations (1000) reached and the optimization hasn't converged yet.\n",
            "  % self.max_iter, ConvergenceWarning)\n",
            "/usr/local/lib/python3.7/dist-packages/sklearn/model_selection/_validation.py:536: FitFailedWarning: Estimator fit failed. The score on this train-test partition for these parameters will be set to nan. Details: \n",
            "ValueError: The activation 'identify' is not supported. Supported activations are ['identity', 'logistic', 'relu', 'softmax', 'tanh'].\n",
            "\n",
            "  FitFailedWarning)\n"
          ],
          "name": "stderr"
        }
      ]
    },
    {
      "cell_type": "code",
      "metadata": {
        "colab": {
          "base_uri": "https://localhost:8080/"
        },
        "id": "FuzbK1Rqlbhy",
        "outputId": "b4d26aad-b223-481b-d92d-b2be9697e8ee"
      },
      "source": [
        "print(melhores_parametros)\n",
        "print(melhores_resultados)"
      ],
      "execution_count": null,
      "outputs": [
        {
          "output_type": "stream",
          "text": [
            "{'activation': 'relu', 'batch_size': 10, 'hidden_layer_sizes': (50, 50), 'max_iter': 1000, 'solver': 'sgd', 'tol': 0.0001}\n",
            "0.9975000000000002\n"
          ],
          "name": "stdout"
        }
      ]
    }
  ]
}