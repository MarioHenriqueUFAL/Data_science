{
  "nbformat": 4,
  "nbformat_minor": 0,
  "metadata": {
    "colab": {
      "name": "SVM.ipynb",
      "provenance": []
    },
    "kernelspec": {
      "name": "python3",
      "display_name": "Python 3"
    },
    "language_info": {
      "name": "python"
    }
  },
  "cells": [
    {
      "cell_type": "markdown",
      "metadata": {
        "id": "uwn33QFtL2X3"
      },
      "source": [
        "Aprendizado de máquina por SVM"
      ]
    },
    {
      "cell_type": "code",
      "metadata": {
        "id": "KbPgGmO6LtSE"
      },
      "source": [
        "#Para aplicação do algoritmo de SVM devemos importar a classe responsável pela implementação do algoritmo:\n",
        "from sklearn.svm import SVC"
      ],
      "execution_count": null,
      "outputs": []
    },
    {
      "cell_type": "code",
      "metadata": {
        "id": "HBPJcpKAMJ_l"
      },
      "source": [
        "#Abrindo a base de dados de treinamento e teste, temos:\n",
        "import pickle\n",
        "with open('credit.pkl','rb') as f:\n",
        "  x_credit_treinamento, y_credit_treinamento, x_credit_teste, y_credit_teste = pickle.load(f)"
      ],
      "execution_count": null,
      "outputs": []
    },
    {
      "cell_type": "code",
      "metadata": {
        "colab": {
          "base_uri": "https://localhost:8080/"
        },
        "id": "wuLZtcJIMcCn",
        "outputId": "0eb879cc-21d1-4bb4-d2c4-5e2f3f0cc37b"
      },
      "source": [
        "x_credit_treinamento.shape, y_credit_treinamento.shape"
      ],
      "execution_count": null,
      "outputs": [
        {
          "output_type": "execute_result",
          "data": {
            "text/plain": [
              "((1500, 3), (1500,))"
            ]
          },
          "metadata": {
            "tags": []
          },
          "execution_count": 3
        }
      ]
    },
    {
      "cell_type": "code",
      "metadata": {
        "colab": {
          "base_uri": "https://localhost:8080/"
        },
        "id": "pcM5DWzGMihh",
        "outputId": "4ad99daf-78d9-41e2-a67d-359b171eb0a5"
      },
      "source": [
        "x_credit_treinamento"
      ],
      "execution_count": null,
      "outputs": [
        {
          "output_type": "execute_result",
          "data": {
            "text/plain": [
              "array([[-1.3754462 ,  0.50631087,  0.10980934],\n",
              "       [ 1.45826409, -1.6489393 , -1.21501497],\n",
              "       [-0.79356829,  0.22531191, -0.43370226],\n",
              "       ...,\n",
              "       [ 0.21738243, -0.14704404,  1.40872498],\n",
              "       [ 0.58716195,  0.66435493,  0.67948086],\n",
              "       [ 0.68315357,  0.04084946,  1.91819744]])"
            ]
          },
          "metadata": {
            "tags": []
          },
          "execution_count": 4
        }
      ]
    },
    {
      "cell_type": "code",
      "metadata": {
        "colab": {
          "base_uri": "https://localhost:8080/"
        },
        "id": "EaG_gGPiMzk-",
        "outputId": "4fb4f0e6-496b-4760-d21e-efec8175daf3"
      },
      "source": [
        "y_credit_treinamento"
      ],
      "execution_count": null,
      "outputs": [
        {
          "output_type": "execute_result",
          "data": {
            "text/plain": [
              "array([0, 0, 0, ..., 0, 0, 0])"
            ]
          },
          "metadata": {
            "tags": []
          },
          "execution_count": 5
        }
      ]
    },
    {
      "cell_type": "code",
      "metadata": {
        "colab": {
          "base_uri": "https://localhost:8080/"
        },
        "id": "Xok_CP6kM9b7",
        "outputId": "1b08fa17-29dc-4a41-ace5-b212ba3f7b6c"
      },
      "source": [
        "#Após abertura da base de dados, realizamos o treinamento do algoritmo de SVM\n",
        "#A função kernel é utilizada para manipulação de dados para que seja possível a separação dos dados\n",
        "#por uma linha reta que, baseado nos support vectors, construirá a margem máxima. \n",
        "#C é um parâmetro de ajuste, quanto mais C melhor será a separação dos dados e menores os erros. Quanto menor\n",
        "#o valor de c haverá maior tendência a erros.\n",
        "svm_credit = SVC(random_state = 1, kernel = 'rbf', C = 2.0)\n",
        "svm_credit.fit(x_credit_treinamento,y_credit_treinamento)"
      ],
      "execution_count": null,
      "outputs": [
        {
          "output_type": "execute_result",
          "data": {
            "text/plain": [
              "SVC(C=2.0, break_ties=False, cache_size=200, class_weight=None, coef0=0.0,\n",
              "    decision_function_shape='ovr', degree=3, gamma='scale', kernel='rbf',\n",
              "    max_iter=-1, probability=False, random_state=1, shrinking=True, tol=0.001,\n",
              "    verbose=False)"
            ]
          },
          "metadata": {
            "tags": []
          },
          "execution_count": 26
        }
      ]
    },
    {
      "cell_type": "code",
      "metadata": {
        "id": "WPEceA2bOXrK"
      },
      "source": [
        "previsoes = svm_credit.predict(x_credit_teste)"
      ],
      "execution_count": null,
      "outputs": []
    },
    {
      "cell_type": "code",
      "metadata": {
        "id": "gNCznzE1Pld_"
      },
      "source": [
        "#Agora comparamos os dados verdadeiros com os dados previstos pelo algoritmo\n",
        "from sklearn.metrics import accuracy_score, classification_report"
      ],
      "execution_count": null,
      "outputs": []
    },
    {
      "cell_type": "code",
      "metadata": {
        "colab": {
          "base_uri": "https://localhost:8080/"
        },
        "id": "Qkz6CfM_PtNI",
        "outputId": "8e3866d5-ed34-4b48-d15a-6e0f5c5dd33c"
      },
      "source": [
        "accuracy_score(y_credit_teste,previsoes)"
      ],
      "execution_count": null,
      "outputs": [
        {
          "output_type": "execute_result",
          "data": {
            "text/plain": [
              "0.988"
            ]
          },
          "metadata": {
            "tags": []
          },
          "execution_count": 28
        }
      ]
    },
    {
      "cell_type": "code",
      "metadata": {
        "colab": {
          "base_uri": "https://localhost:8080/",
          "height": 361
        },
        "id": "ZuSUEvF8Pzq2",
        "outputId": "26868d71-1e66-4cd2-df6f-45ad7469b419"
      },
      "source": [
        "from yellowbrick.classifier import ConfusionMatrix\n",
        "cn = ConfusionMatrix(svm_credit)\n",
        "cn.fit(x_credit_treinamento, y_credit_treinamento)\n",
        "cn.score(x_credit_teste,y_credit_teste)"
      ],
      "execution_count": null,
      "outputs": [
        {
          "output_type": "execute_result",
          "data": {
            "text/plain": [
              "0.988"
            ]
          },
          "metadata": {
            "tags": []
          },
          "execution_count": 29
        },
        {
          "output_type": "display_data",
          "data": {
            "image/png": "[encoded data removed]",
            "text/plain": [
              "<Figure size 576x396 with 1 Axes>"
            ]
          },
          "metadata": {
            "tags": []
          }
        }
      ]
    },
    {
      "cell_type": "code",
      "metadata": {
        "colab": {
          "base_uri": "https://localhost:8080/"
        },
        "id": "-WPR2U4jQWcc",
        "outputId": "72d9274d-2faa-43bd-e93a-8e54ee98fd1d"
      },
      "source": [
        "print(classification_report(y_credit_teste,previsoes))"
      ],
      "execution_count": null,
      "outputs": [
        {
          "output_type": "stream",
          "text": [
            "              precision    recall  f1-score   support\n",
            "\n",
            "           0       0.99      1.00      0.99       436\n",
            "           1       0.97      0.94      0.95        64\n",
            "\n",
            "    accuracy                           0.99       500\n",
            "   macro avg       0.98      0.97      0.97       500\n",
            "weighted avg       0.99      0.99      0.99       500\n",
            "\n"
          ],
          "name": "stdout"
        }
      ]
    },
    {
      "cell_type": "markdown",
      "metadata": {
        "id": "dUGo5aIwTrNb"
      },
      "source": [
        "Base census"
      ]
    },
    {
      "cell_type": "code",
      "metadata": {
        "id": "N2yzH1JZTsbZ"
      },
      "source": [
        "#Primeiramente importamos a biblioteca responsável pela implementação do algoritmo\n",
        "from sklearn.svm import SVC"
      ],
      "execution_count": null,
      "outputs": []
    },
    {
      "cell_type": "code",
      "metadata": {
        "id": "IOeQHGiHT2Fc"
      },
      "source": [
        "#Abrindo a base de dados de treinamento e de teste\n",
        "with open('census.pkl','rb') as f:\n",
        "  x_census_treinamento, y_census_treinamento, x_census_teste, y_census_teste = pickle.load(f)"
      ],
      "execution_count": null,
      "outputs": []
    },
    {
      "cell_type": "code",
      "metadata": {
        "colab": {
          "base_uri": "https://localhost:8080/"
        },
        "id": "rIIHL6ZxVbJj",
        "outputId": "dc8591b9-7472-4bf9-de65-a679a65b8d0c"
      },
      "source": [
        "x_census_treinamento.shape, y_census_treinamento.shape"
      ],
      "execution_count": null,
      "outputs": [
        {
          "output_type": "execute_result",
          "data": {
            "text/plain": [
              "((27676, 108), (27676,))"
            ]
          },
          "metadata": {
            "tags": []
          },
          "execution_count": 33
        }
      ]
    },
    {
      "cell_type": "code",
      "metadata": {
        "colab": {
          "base_uri": "https://localhost:8080/"
        },
        "id": "YKF7O-cQVe5j",
        "outputId": "f7d66dab-44fb-4975-a492-63ab249d5b68"
      },
      "source": [
        "x_census_teste.shape, y_census_teste.shape"
      ],
      "execution_count": null,
      "outputs": [
        {
          "output_type": "execute_result",
          "data": {
            "text/plain": [
              "((4885, 108), (4885,))"
            ]
          },
          "metadata": {
            "tags": []
          },
          "execution_count": 34
        }
      ]
    },
    {
      "cell_type": "code",
      "metadata": {
        "colab": {
          "base_uri": "https://localhost:8080/"
        },
        "id": "LNRETGdcVlE-",
        "outputId": "f9890acb-0024-428b-cc4a-0b80549460f4"
      },
      "source": [
        "#Treinando o algoritmo, temos:\n",
        "svm_census = SVC(kernel='linear',C=1.0, random_state=1)\n",
        "svm_census.fit(x_census_treinamento, y_census_treinamento)"
      ],
      "execution_count": null,
      "outputs": [
        {
          "output_type": "execute_result",
          "data": {
            "text/plain": [
              "SVC(C=1.0, break_ties=False, cache_size=200, class_weight=None, coef0=0.0,\n",
              "    decision_function_shape='ovr', degree=3, gamma='scale', kernel='linear',\n",
              "    max_iter=-1, probability=False, random_state=1, shrinking=True, tol=0.001,\n",
              "    verbose=False)"
            ]
          },
          "metadata": {
            "tags": []
          },
          "execution_count": 35
        }
      ]
    },
    {
      "cell_type": "code",
      "metadata": {
        "id": "yJmPEPnJWY_i"
      },
      "source": [
        "previsoes = svm_census.predict(x_census_teste)"
      ],
      "execution_count": null,
      "outputs": []
    },
    {
      "cell_type": "code",
      "metadata": {
        "id": "eQZFckNlWdP5"
      },
      "source": [
        "from sklearn.metrics import accuracy_score, classification_report"
      ],
      "execution_count": null,
      "outputs": []
    },
    {
      "cell_type": "code",
      "metadata": {
        "colab": {
          "base_uri": "https://localhost:8080/"
        },
        "id": "0C7eJiZiWkOP",
        "outputId": "06be6987-c215-41a5-bb96-df045f3d4550"
      },
      "source": [
        "accuracy_score(y_census_teste,previsoes)"
      ],
      "execution_count": null,
      "outputs": [
        {
          "output_type": "execute_result",
          "data": {
            "text/plain": [
              "0.8507676560900717"
            ]
          },
          "metadata": {
            "tags": []
          },
          "execution_count": 39
        }
      ]
    },
    {
      "cell_type": "code",
      "metadata": {
        "colab": {
          "base_uri": "https://localhost:8080/",
          "height": 393
        },
        "id": "HixbSkWLWoO7",
        "outputId": "37e8258d-397a-432b-a880-3ef0b2fe9935"
      },
      "source": [
        "from yellowbrick.classifier import ConfusionMatrix\n",
        "cn = ConfusionMatrix(svm_census)\n",
        "cn.fit(x_census_treinamento, y_census_treinamento)\n",
        "cn.score(x_census_teste,y_census_teste)"
      ],
      "execution_count": null,
      "outputs": [
        {
          "output_type": "execute_result",
          "data": {
            "text/plain": [
              "0.8507676560900717"
            ]
          },
          "metadata": {
            "tags": []
          },
          "execution_count": 40
        },
        {
          "output_type": "display_data",
          "data": {
            "image/png": "[encoded data removed]",
            "text/plain": [
              "<Figure size 576x396 with 1 Axes>"
            ]
          },
          "metadata": {
            "tags": []
          }
        }
      ]
    },
    {
      "cell_type": "code",
      "metadata": {
        "id": "HsNAo9bKW2Ra"
      },
      "source": [
        "print(classification_report())"
      ],
      "execution_count": null,
      "outputs": []
    }
  ]
}