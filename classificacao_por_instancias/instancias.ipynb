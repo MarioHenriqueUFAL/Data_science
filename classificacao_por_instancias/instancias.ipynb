{
  "nbformat": 4,
  "nbformat_minor": 0,
  "metadata": {
    "colab": {
      "name": "instancias.ipynb",
      "provenance": []
    },
    "kernelspec": {
      "name": "python3",
      "display_name": "Python 3"
    },
    "language_info": {
      "name": "python"
    }
  },
  "cells": [
    {
      "cell_type": "markdown",
      "metadata": {
        "id": "WrE0B6PmfV2U"
      },
      "source": [
        "Aprendizagem baseada em instâncias\n",
        "Na aprendizagem baseada em instâncias, a classificação é realizada medindo as distâncias entre a nova instância a ser classificada e as instâncias da base de treinamento. Selecionando, de acordo com o K especificado, as variáveis mais próximas da instância a ser classificada e classificando de acordo com a classes das instâncias próximas. Essa aprendizagem não gera modelos de algoritmo, ela armazena os dados de treinamento para serem utilizados na classificação de novas instâncias."
      ]
    },
    {
      "cell_type": "markdown",
      "metadata": {
        "id": "_C5iCKEegKkc"
      },
      "source": [
        "Base credit data"
      ]
    },
    {
      "cell_type": "code",
      "metadata": {
        "id": "52XO243NfTeK"
      },
      "source": [
        "#abrindo a base de dados credit data, temos\n",
        "import pickle\n",
        "with open('credit.pkl','rb') as f:\n",
        "  x_credit_treinamento, y_credit_treinamento, x_credit_teste, y_credit_teste = pickle.load(f)"
      ],
      "execution_count": null,
      "outputs": []
    },
    {
      "cell_type": "code",
      "metadata": {
        "colab": {
          "base_uri": "https://localhost:8080/"
        },
        "id": "BOI9K3mvglQ2",
        "outputId": "53769e42-fe38-46a6-ede0-ae2ddf2ba54a"
      },
      "source": [
        "#Observando as variáveis que foram criadas, temos:\n",
        "x_credit_treinamento.shape, y_credit_treinamento.shape"
      ],
      "execution_count": null,
      "outputs": [
        {
          "output_type": "execute_result",
          "data": {
            "text/plain": [
              "((1500, 3), (1500,))"
            ]
          },
          "metadata": {
            "tags": []
          },
          "execution_count": 3
        }
      ]
    },
    {
      "cell_type": "code",
      "metadata": {
        "colab": {
          "base_uri": "https://localhost:8080/"
        },
        "id": "gHLpoEZFgvJ2",
        "outputId": "d5b3cb97-61e5-45b3-d124-f76d1d5728a7"
      },
      "source": [
        "x_credit_treinamento"
      ],
      "execution_count": null,
      "outputs": [
        {
          "output_type": "execute_result",
          "data": {
            "text/plain": [
              "array([[-1.3754462 ,  0.50631087,  0.10980934],\n",
              "       [ 1.45826409, -1.6489393 , -1.21501497],\n",
              "       [-0.79356829,  0.22531191, -0.43370226],\n",
              "       ...,\n",
              "       [ 0.21738243, -0.14704404,  1.40872498],\n",
              "       [ 0.58716195,  0.66435493,  0.67948086],\n",
              "       [ 0.68315357,  0.04084946,  1.91819744]])"
            ]
          },
          "metadata": {
            "tags": []
          },
          "execution_count": 4
        }
      ]
    },
    {
      "cell_type": "code",
      "metadata": {
        "colab": {
          "base_uri": "https://localhost:8080/"
        },
        "id": "SgWG4RhxgzHf",
        "outputId": "c1ee11ab-ca30-4176-a229-b49be6dcbcfb"
      },
      "source": [
        "y_credit_treinamento"
      ],
      "execution_count": null,
      "outputs": [
        {
          "output_type": "execute_result",
          "data": {
            "text/plain": [
              "array([0, 0, 0, ..., 0, 0, 0])"
            ]
          },
          "metadata": {
            "tags": []
          },
          "execution_count": 5
        }
      ]
    },
    {
      "cell_type": "code",
      "metadata": {
        "colab": {
          "base_uri": "https://localhost:8080/"
        },
        "id": "6Qk8_bbKg23y",
        "outputId": "97c67b45-43cf-4f0d-df67-4b2767f2183e"
      },
      "source": [
        "x_credit_teste.shape, y_credit_teste.shape"
      ],
      "execution_count": null,
      "outputs": [
        {
          "output_type": "execute_result",
          "data": {
            "text/plain": [
              "((500, 3), (500,))"
            ]
          },
          "metadata": {
            "tags": []
          },
          "execution_count": 6
        }
      ]
    },
    {
      "cell_type": "code",
      "metadata": {
        "id": "8n3iNUwThWde"
      },
      "source": [
        "#Agora aplicamos o algoritmo de aprendizagem de máquina baseada em instâncias, importando a função\n",
        "#KNeighborsClassifier(). Essa função recebe três parâmetros:\n",
        "#KNeighborsClassifier(qntd de vizinhos mais próximos (valor de K), opcional - forma de cálculo da distância ,opcional - forma de cálculo da distância)\n",
        "from sklearn.neighbors import KNeighborsClassifier"
      ],
      "execution_count": null,
      "outputs": []
    },
    {
      "cell_type": "code",
      "metadata": {
        "colab": {
          "base_uri": "https://localhost:8080/"
        },
        "id": "TVFHxc0niOCE",
        "outputId": "fd4b5251-065d-42d8-f3d1-7db150591a1c"
      },
      "source": [
        "knn_credit = KNeighborsClassifier(n_neighbors=5,metric='minkowski', p = 2)\n",
        "knn_credit.fit(x_credit_treinamento,y_credit_treinamento)"
      ],
      "execution_count": null,
      "outputs": [
        {
          "output_type": "execute_result",
          "data": {
            "text/plain": [
              "KNeighborsClassifier(algorithm='auto', leaf_size=30, metric='minkowski',\n",
              "                     metric_params=None, n_jobs=None, n_neighbors=5, p=2,\n",
              "                     weights='uniform')"
            ]
          },
          "metadata": {
            "tags": []
          },
          "execution_count": 9
        }
      ]
    },
    {
      "cell_type": "code",
      "metadata": {
        "id": "X6r3QIqxjgGx"
      },
      "source": [
        "previsoes = knn_credit.predict(x_credit_teste)"
      ],
      "execution_count": null,
      "outputs": []
    },
    {
      "cell_type": "code",
      "metadata": {
        "id": "C5PN0R-PkLrm"
      },
      "source": [
        "from sklearn.metrics import accuracy_score, classification_report"
      ],
      "execution_count": null,
      "outputs": []
    },
    {
      "cell_type": "code",
      "metadata": {
        "colab": {
          "base_uri": "https://localhost:8080/"
        },
        "id": "VfRAHuYmkRS2",
        "outputId": "828482ed-31ad-402e-95aa-d9f0314cf777"
      },
      "source": [
        "print(accuracy_score(y_credit_teste,previsoes))"
      ],
      "execution_count": null,
      "outputs": [
        {
          "output_type": "stream",
          "text": [
            "0.986\n"
          ],
          "name": "stdout"
        }
      ]
    },
    {
      "cell_type": "code",
      "metadata": {
        "colab": {
          "base_uri": "https://localhost:8080/",
          "height": 361
        },
        "id": "IJ786WCjko-j",
        "outputId": "9c6ea076-c292-4a37-81dc-f42130ccbc54"
      },
      "source": [
        "#O eixo y refere-se aos dados verdadeiros\n",
        "#O eixo x refere-se aos dados \n",
        "from yellowbrick.classifier import ConfusionMatrix\n",
        "cn = ConfusionMatrix(knn_credit)\n",
        "cn.fit(x_credit_treinamento, y_credit_treinamento)\n",
        "cn.score(x_credit_teste,y_credit_teste)"
      ],
      "execution_count": null,
      "outputs": [
        {
          "output_type": "execute_result",
          "data": {
            "text/plain": [
              "0.986"
            ]
          },
          "metadata": {
            "tags": []
          },
          "execution_count": 20
        },
        {
          "output_type": "display_data",
          "data": {
            "image/png": "[encoded data removed]",
            "text/plain": [
              "<Figure size 576x396 with 1 Axes>"
            ]
          },
          "metadata": {
            "tags": []
          }
        }
      ]
    },
    {
      "cell_type": "code",
      "metadata": {
        "colab": {
          "base_uri": "https://localhost:8080/"
        },
        "id": "A8HjaoNimxja",
        "outputId": "0813e49f-554a-47cb-d709-2e83112ec6c8"
      },
      "source": [
        "print(classification_report(y_credit_teste,previsoes))"
      ],
      "execution_count": null,
      "outputs": [
        {
          "output_type": "stream",
          "text": [
            "              precision    recall  f1-score   support\n",
            "\n",
            "           0       0.99      0.99      0.99       436\n",
            "           1       0.94      0.95      0.95        64\n",
            "\n",
            "    accuracy                           0.99       500\n",
            "   macro avg       0.97      0.97      0.97       500\n",
            "weighted avg       0.99      0.99      0.99       500\n",
            "\n"
          ],
          "name": "stdout"
        }
      ]
    },
    {
      "cell_type": "markdown",
      "metadata": {
        "id": "bqDafVyhoEKd"
      },
      "source": [
        "Base de dados census"
      ]
    },
    {
      "cell_type": "code",
      "metadata": {
        "id": "c-Ca7b-1oFy2"
      },
      "source": [
        "#Abrindo a base de dados census, temos:\n",
        "import pickle\n",
        "with open('census.pkl','rb') as f:\n",
        "  x_census_train, y_census_train, x_census_test, y_census_test = pickle.load(f)"
      ],
      "execution_count": null,
      "outputs": []
    },
    {
      "cell_type": "code",
      "metadata": {
        "colab": {
          "base_uri": "https://localhost:8080/"
        },
        "id": "wovJB8pP7i2t",
        "outputId": "dc76d17a-ce49-466b-fe7f-b5948e8a4c26"
      },
      "source": [
        "x_census_train.shape, y_census_train.shape"
      ],
      "execution_count": null,
      "outputs": [
        {
          "output_type": "execute_result",
          "data": {
            "text/plain": [
              "((27676, 108), (27676,))"
            ]
          },
          "metadata": {
            "tags": []
          },
          "execution_count": 27
        }
      ]
    },
    {
      "cell_type": "code",
      "metadata": {
        "colab": {
          "base_uri": "https://localhost:8080/"
        },
        "id": "2rjmqjPL7qAo",
        "outputId": "34fb68f3-1613-48c1-91b3-905bd62e021e"
      },
      "source": [
        "x_census_test.shape, y_census_test.shape"
      ],
      "execution_count": null,
      "outputs": [
        {
          "output_type": "execute_result",
          "data": {
            "text/plain": [
              "((4885, 108), (4885,))"
            ]
          },
          "metadata": {
            "tags": []
          },
          "execution_count": 29
        }
      ]
    },
    {
      "cell_type": "code",
      "metadata": {
        "id": "BCigIqXz8CI3"
      },
      "source": [
        "#Agora que nossa base de dados está pronto, podemos aplicar o algoritmo\n",
        "from sklearn.neighbors import KNeighborsClassifier\n",
        "kn_census = KNeighborsClassifier(n_neighbors=5)\n",
        "kn_census.fit(x_census_train,y_census_train)\n",
        "previsoes = kn_census.predict(x_census_test)"
      ],
      "execution_count": null,
      "outputs": []
    },
    {
      "cell_type": "code",
      "metadata": {
        "colab": {
          "base_uri": "https://localhost:8080/"
        },
        "id": "WKSrxtjl8nuN",
        "outputId": "eab95bc2-629e-46e7-fadb-5dc7d0db19a0"
      },
      "source": [
        "#Agora podemos comparar os dados verdadeiros com os dados previstos pelo algoritmo\n",
        "from sklearn.metrics import accuracy_score, classification_report\n",
        "accuracy_score(y_census_test,previsoes)"
      ],
      "execution_count": null,
      "outputs": [
        {
          "output_type": "execute_result",
          "data": {
            "text/plain": [
              "0.8223132036847492"
            ]
          },
          "metadata": {
            "tags": []
          },
          "execution_count": 34
        }
      ]
    },
    {
      "cell_type": "code",
      "metadata": {
        "colab": {
          "base_uri": "https://localhost:8080/",
          "height": 393
        },
        "id": "c7cVjGfv80yY",
        "outputId": "75c32b2d-1fd5-4f30-d556-7795c182ab67"
      },
      "source": [
        "from yellowbrick.classifier import ConfusionMatrix\n",
        "cn = ConfusionMatrix(kn_census)\n",
        "cn.fit(x_census_train,y_census_train)\n",
        "cn.score(x_census_test,y_census_test)"
      ],
      "execution_count": null,
      "outputs": [
        {
          "output_type": "execute_result",
          "data": {
            "text/plain": [
              "0.8223132036847492"
            ]
          },
          "metadata": {
            "tags": []
          },
          "execution_count": 37
        },
        {
          "output_type": "display_data",
          "data": {
            "image/png": "[encoded data removed]",
            "text/plain": [
              "<Figure size 576x396 with 1 Axes>"
            ]
          },
          "metadata": {
            "tags": []
          }
        }
      ]
    },
    {
      "cell_type": "code",
      "metadata": {
        "colab": {
          "base_uri": "https://localhost:8080/"
        },
        "id": "7ntdUFW5-8JA",
        "outputId": "e42e8822-ca46-4eca-e975-15418264ffb4"
      },
      "source": [
        "print(classification_report(y_census_test,previsoes))"
      ],
      "execution_count": null,
      "outputs": [
        {
          "output_type": "stream",
          "text": [
            "              precision    recall  f1-score   support\n",
            "\n",
            "       <=50K       0.87      0.90      0.88      3693\n",
            "        >50K       0.66      0.57      0.61      1192\n",
            "\n",
            "    accuracy                           0.82      4885\n",
            "   macro avg       0.76      0.74      0.75      4885\n",
            "weighted avg       0.82      0.82      0.82      4885\n",
            "\n"
          ],
          "name": "stdout"
        }
      ]
    }
  ]
}