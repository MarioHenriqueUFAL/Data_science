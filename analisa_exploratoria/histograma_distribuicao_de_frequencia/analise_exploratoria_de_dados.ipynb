{
  "nbformat": 4,
  "nbformat_minor": 0,
  "metadata": {
    "colab": {
      "name": "distribuicao_frequencia_e_histogramas.ipynb",
      "provenance": []
    },
    "kernelspec": {
      "name": "python3",
      "display_name": "Python 3"
    },
    "language_info": {
      "name": "python"
    }
  },
  "cells": [
    {
      "cell_type": "markdown",
      "source": [
        "Neste projeto foram resolvidos problemas de distribuição de frequência do livro \"Introdução à Estatística\", 12ª edição, do autor Mario F. Triola."
      ],
      "metadata": {
        "id": "5aM_G1ehrTtb"
      }
    },
    {
      "cell_type": "markdown",
      "source": [
        "## Importação das bibliotecas necessárias"
      ],
      "metadata": {
        "id": "KPQjOJIWt_gA"
      }
    },
    {
      "cell_type": "code",
      "source": [
        "#Importanto as bibliotecas necessárias, temos:\n",
        "import pandas as pd\n",
        "import numpy as np\n",
        "import seaborn as sns\n",
        "import matplotlib.pyplot as plt"
      ],
      "metadata": {
        "id": "X_EmsL-tt-75"
      },
      "execution_count": 2,
      "outputs": []
    },
    {
      "cell_type": "markdown",
      "source": [
        "## Problema 19 - Análise dos Últimos Dígitos\n"
      ],
      "metadata": {
        "id": "PQvxyiKXrqYZ"
      }
    },
    {
      "cell_type": "markdown",
      "source": [
        "As alturas de estudantes de estatística foram obtidas pelo autor como parte de um experimento realizado em classe. Os últimos dígitos dessas alturas estão listados a seguir. Construa uma distribuição de frequência com 10 classes. Com base na distribuição, as alturas parecem ter sido relatadas ou realmente medidas? O que você sabe sobre a precisão dos resultados?"
      ],
      "metadata": {
        "id": "3Bfg4YIyr2PT"
      }
    },
    {
      "cell_type": "code",
      "source": [
        "#Criando um Series com os dados fornecidos no problema e salvando em uma planilha de Excel, temos:\n",
        "string = '0 0 0 0 0 0 0 0 0 1 1 2 3 3 3 4 5 5 5 5 5 5 5 5 5 5 5 5 5 5 5 6 6 8 8 8'\n",
        "dados_string = string.split(' ')\n",
        "dados_numericos = []\n",
        "for i in dados_string:\n",
        "  dados_numericos.append(int(i))\n",
        "dados_numericos = pd.DataFrame({'Digito final de alturas':dados_numericos})\n",
        "dados_numericos.to_csv('digito_final_alturas.csv')"
      ],
      "metadata": {
        "id": "WMy20y7jr1jb"
      },
      "execution_count": null,
      "outputs": []
    },
    {
      "cell_type": "code",
      "source": [
        "#abrindo os dados .csv, temos:\n",
        "base_dados = pd.read_csv('digito_final_alturas.csv')\n",
        "base_dados.drop('Unnamed: 0', axis = 'columns', inplace = True)\n",
        "base_dados.head(10)"
      ],
      "metadata": {
        "colab": {
          "base_uri": "https://localhost:8080/",
          "height": 363
        },
        "id": "9Gprp03dzDxl",
        "outputId": "f240aedd-abef-45c3-c16a-799ccf7e7ed3"
      },
      "execution_count": null,
      "outputs": [
        {
          "output_type": "execute_result",
          "data": {
            "text/plain": [
              "   Digito final de alturas\n",
              "0                        0\n",
              "1                        0\n",
              "2                        0\n",
              "3                        0\n",
              "4                        0\n",
              "5                        0\n",
              "6                        0\n",
              "7                        0\n",
              "8                        0\n",
              "9                        1"
            ],
            "text/html": [
              "\n",
              "  <div id=\"df-5e87dabe-8a57-4f9c-8401-1eb6961afd1b\">\n",
              "    <div class=\"colab-df-container\">\n",
              "      <div>\n",
              "<style scoped>\n",
              "    .dataframe tbody tr th:only-of-type {\n",
              "        vertical-align: middle;\n",
              "    }\n",
              "\n",
              "    .dataframe tbody tr th {\n",
              "        vertical-align: top;\n",
              "    }\n",
              "\n",
              "    .dataframe thead th {\n",
              "        text-align: right;\n",
              "    }\n",
              "</style>\n",
              "<table border=\"1\" class=\"dataframe\">\n",
              "  <thead>\n",
              "    <tr style=\"text-align: right;\">\n",
              "      <th></th>\n",
              "      <th>Digito final de alturas</th>\n",
              "    </tr>\n",
              "  </thead>\n",
              "  <tbody>\n",
              "    <tr>\n",
              "      <th>0</th>\n",
              "      <td>0</td>\n",
              "    </tr>\n",
              "    <tr>\n",
              "      <th>1</th>\n",
              "      <td>0</td>\n",
              "    </tr>\n",
              "    <tr>\n",
              "      <th>2</th>\n",
              "      <td>0</td>\n",
              "    </tr>\n",
              "    <tr>\n",
              "      <th>3</th>\n",
              "      <td>0</td>\n",
              "    </tr>\n",
              "    <tr>\n",
              "      <th>4</th>\n",
              "      <td>0</td>\n",
              "    </tr>\n",
              "    <tr>\n",
              "      <th>5</th>\n",
              "      <td>0</td>\n",
              "    </tr>\n",
              "    <tr>\n",
              "      <th>6</th>\n",
              "      <td>0</td>\n",
              "    </tr>\n",
              "    <tr>\n",
              "      <th>7</th>\n",
              "      <td>0</td>\n",
              "    </tr>\n",
              "    <tr>\n",
              "      <th>8</th>\n",
              "      <td>0</td>\n",
              "    </tr>\n",
              "    <tr>\n",
              "      <th>9</th>\n",
              "      <td>1</td>\n",
              "    </tr>\n",
              "  </tbody>\n",
              "</table>\n",
              "</div>\n",
              "      <button class=\"colab-df-convert\" onclick=\"convertToInteractive('df-5e87dabe-8a57-4f9c-8401-1eb6961afd1b')\"\n",
              "              title=\"Convert this dataframe to an interactive table.\"\n",
              "              style=\"display:none;\">\n",
              "        \n",
              "  <svg xmlns=\"http://www.w3.org/2000/svg\" height=\"24px\"viewBox=\"0 0 24 24\"\n",
              "       width=\"24px\">\n",
              "    <path d=\"M0 0h24v24H0V0z\" fill=\"none\"/>\n",
              "    <path d=\"M18.56 5.44l.94 2.06.94-2.06 2.06-.94-2.06-.94-.94-2.06-.94 2.06-2.06.94zm-11 1L8.5 8.5l.94-2.06 2.06-.94-2.06-.94L8.5 2.5l-.94 2.06-2.06.94zm10 10l.94 2.06.94-2.06 2.06-.94-2.06-.94-.94-2.06-.94 2.06-2.06.94z\"/><path d=\"M17.41 7.96l-1.37-1.37c-.4-.4-.92-.59-1.43-.59-.52 0-1.04.2-1.43.59L10.3 9.45l-7.72 7.72c-.78.78-.78 2.05 0 2.83L4 21.41c.39.39.9.59 1.41.59.51 0 1.02-.2 1.41-.59l7.78-7.78 2.81-2.81c.8-.78.8-2.07 0-2.86zM5.41 20L4 18.59l7.72-7.72 1.47 1.35L5.41 20z\"/>\n",
              "  </svg>\n",
              "      </button>\n",
              "      \n",
              "  <style>\n",
              "    .colab-df-container {\n",
              "      display:flex;\n",
              "      flex-wrap:wrap;\n",
              "      gap: 12px;\n",
              "    }\n",
              "\n",
              "    .colab-df-convert {\n",
              "      background-color: #E8F0FE;\n",
              "      border: none;\n",
              "      border-radius: 50%;\n",
              "      cursor: pointer;\n",
              "      display: none;\n",
              "      fill: #1967D2;\n",
              "      height: 32px;\n",
              "      padding: 0 0 0 0;\n",
              "      width: 32px;\n",
              "    }\n",
              "\n",
              "    .colab-df-convert:hover {\n",
              "      background-color: #E2EBFA;\n",
              "      box-shadow: 0px 1px 2px rgba(60, 64, 67, 0.3), 0px 1px 3px 1px rgba(60, 64, 67, 0.15);\n",
              "      fill: #174EA6;\n",
              "    }\n",
              "\n",
              "    [theme=dark] .colab-df-convert {\n",
              "      background-color: #3B4455;\n",
              "      fill: #D2E3FC;\n",
              "    }\n",
              "\n",
              "    [theme=dark] .colab-df-convert:hover {\n",
              "      background-color: #434B5C;\n",
              "      box-shadow: 0px 1px 3px 1px rgba(0, 0, 0, 0.15);\n",
              "      filter: drop-shadow(0px 1px 2px rgba(0, 0, 0, 0.3));\n",
              "      fill: #FFFFFF;\n",
              "    }\n",
              "  </style>\n",
              "\n",
              "      <script>\n",
              "        const buttonEl =\n",
              "          document.querySelector('#df-5e87dabe-8a57-4f9c-8401-1eb6961afd1b button.colab-df-convert');\n",
              "        buttonEl.style.display =\n",
              "          google.colab.kernel.accessAllowed ? 'block' : 'none';\n",
              "\n",
              "        async function convertToInteractive(key) {\n",
              "          const element = document.querySelector('#df-5e87dabe-8a57-4f9c-8401-1eb6961afd1b');\n",
              "          const dataTable =\n",
              "            await google.colab.kernel.invokeFunction('convertToInteractive',\n",
              "                                                     [key], {});\n",
              "          if (!dataTable) return;\n",
              "\n",
              "          const docLinkHtml = 'Like what you see? Visit the ' +\n",
              "            '<a target=\"_blank\" href=https://colab.research.google.com/notebooks/data_table.ipynb>data table notebook</a>'\n",
              "            + ' to learn more about interactive tables.';\n",
              "          element.innerHTML = '';\n",
              "          dataTable['output_type'] = 'display_data';\n",
              "          await google.colab.output.renderOutput(dataTable, element);\n",
              "          const docLink = document.createElement('div');\n",
              "          docLink.innerHTML = docLinkHtml;\n",
              "          element.appendChild(docLink);\n",
              "        }\n",
              "      </script>\n",
              "    </div>\n",
              "  </div>\n",
              "  "
            ]
          },
          "metadata": {},
          "execution_count": 22
        }
      ]
    },
    {
      "cell_type": "markdown",
      "source": [
        "O problema informa que devemos criar uma distribuição de frequências com 10 classes. Para criar uma distribuição de frequência para variáveis quanntitativas com classes de amplitude fixa podemos usar o seguinte método:\n",
        "\n",
        "pandas.cut(x, bins, right=True, labels=None, retbins=False, precision=3, include_lowest=False, duplicates='raise', ordered=True)\n",
        "\n",
        "onde:\n",
        "\n",
        "x = array a ser segmentado\n",
        "\n",
        "bins = pode ser numero inteiro (numero de classes de amplitude igual no intervalo de x); pode ser uma sequencia de escalares (definindo os limites inferiores e superiores de cada classe, admitindo tamanhos de classe não uniformes); e pode ser um lista contendo os segmentos exatos a serem usados.\n",
        "\n",
        "labels = Especifica os rótulos para os compartimentos retornados. Deve ter o mesmo comprimento dos compartimentos resultantes.\n",
        "\n",
        "include_lowest = Se o primeiro intervalo deve ser inclusivo à esquerda ou não."
      ],
      "metadata": {
        "id": "lpKm8S-Mu_7k"
      }
    },
    {
      "cell_type": "code",
      "source": [
        "#Criando uma Series contendo as frequências de cada classe, temos:\n",
        "numero_classes = 10\n",
        "frequencia = pd.value_counts(pd.cut(x = base_dados['Digito final de alturas'], bins = numero_classes, include_lowest = True),\n",
        "                             sort = False)\n",
        "frequencia"
      ],
      "metadata": {
        "colab": {
          "base_uri": "https://localhost:8080/"
        },
        "id": "gRCnqFeQsVXU",
        "outputId": "4105ee88-3cf0-4720-96cb-a9d40e75373e"
      },
      "execution_count": null,
      "outputs": [
        {
          "output_type": "execute_result",
          "data": {
            "text/plain": [
              "(-0.009000000000000001, 0.8]     9\n",
              "(0.8, 1.6]                       2\n",
              "(1.6, 2.4]                       1\n",
              "(2.4, 3.2]                       3\n",
              "(3.2, 4.0]                       1\n",
              "(4.0, 4.8]                       0\n",
              "(4.8, 5.6]                      15\n",
              "(5.6, 6.4]                       2\n",
              "(6.4, 7.2]                       0\n",
              "(7.2, 8.0]                       3\n",
              "Name: Digito final de alturas, dtype: int64"
            ]
          },
          "metadata": {},
          "execution_count": 23
        }
      ]
    },
    {
      "cell_type": "code",
      "source": [
        "#Criando uma Series contendo as frequências relativas de cada classe, temos:\n",
        "percentual = pd.value_counts(pd.cut(x = base_dados['Digito final de alturas'], bins = numero_classes, include_lowest = True), \n",
        "                             sort = False, normalize = True)*100\n",
        "percentual"
      ],
      "metadata": {
        "colab": {
          "base_uri": "https://localhost:8080/"
        },
        "id": "GeI5X6F30h7u",
        "outputId": "c29eef43-4600-41ea-efe7-6ad9474e6e1f"
      },
      "execution_count": null,
      "outputs": [
        {
          "output_type": "execute_result",
          "data": {
            "text/plain": [
              "(-0.009000000000000001, 0.8]    25.000000\n",
              "(0.8, 1.6]                       5.555556\n",
              "(1.6, 2.4]                       2.777778\n",
              "(2.4, 3.2]                       8.333333\n",
              "(3.2, 4.0]                       2.777778\n",
              "(4.0, 4.8]                       0.000000\n",
              "(4.8, 5.6]                      41.666667\n",
              "(5.6, 6.4]                       5.555556\n",
              "(6.4, 7.2]                       0.000000\n",
              "(7.2, 8.0]                       8.333333\n",
              "Name: Digito final de alturas, dtype: float64"
            ]
          },
          "metadata": {},
          "execution_count": 24
        }
      ]
    },
    {
      "cell_type": "code",
      "source": [
        "#Criando a tabela de distribuição de frequência, temos:\n",
        "dist_freq = pd.DataFrame({'Frequencia':frequencia,'Porcentagem (%)':percentual})\n",
        "dist_freq"
      ],
      "metadata": {
        "colab": {
          "base_uri": "https://localhost:8080/",
          "height": 363
        },
        "id": "sDZpx8PU1ZER",
        "outputId": "73ae2987-a688-4017-da60-06b77c90d364"
      },
      "execution_count": null,
      "outputs": [
        {
          "output_type": "execute_result",
          "data": {
            "text/plain": [
              "                              Frequencia  Porcentagem (%)\n",
              "(-0.009000000000000001, 0.8]           9        25.000000\n",
              "(0.8, 1.6]                             2         5.555556\n",
              "(1.6, 2.4]                             1         2.777778\n",
              "(2.4, 3.2]                             3         8.333333\n",
              "(3.2, 4.0]                             1         2.777778\n",
              "(4.0, 4.8]                             0         0.000000\n",
              "(4.8, 5.6]                            15        41.666667\n",
              "(5.6, 6.4]                             2         5.555556\n",
              "(6.4, 7.2]                             0         0.000000\n",
              "(7.2, 8.0]                             3         8.333333"
            ],
            "text/html": [
              "\n",
              "  <div id=\"df-f10ddcf0-9d03-4aae-885a-53006f6f6ade\">\n",
              "    <div class=\"colab-df-container\">\n",
              "      <div>\n",
              "<style scoped>\n",
              "    .dataframe tbody tr th:only-of-type {\n",
              "        vertical-align: middle;\n",
              "    }\n",
              "\n",
              "    .dataframe tbody tr th {\n",
              "        vertical-align: top;\n",
              "    }\n",
              "\n",
              "    .dataframe thead th {\n",
              "        text-align: right;\n",
              "    }\n",
              "</style>\n",
              "<table border=\"1\" class=\"dataframe\">\n",
              "  <thead>\n",
              "    <tr style=\"text-align: right;\">\n",
              "      <th></th>\n",
              "      <th>Frequencia</th>\n",
              "      <th>Porcentagem (%)</th>\n",
              "    </tr>\n",
              "  </thead>\n",
              "  <tbody>\n",
              "    <tr>\n",
              "      <th>(-0.009000000000000001, 0.8]</th>\n",
              "      <td>9</td>\n",
              "      <td>25.000000</td>\n",
              "    </tr>\n",
              "    <tr>\n",
              "      <th>(0.8, 1.6]</th>\n",
              "      <td>2</td>\n",
              "      <td>5.555556</td>\n",
              "    </tr>\n",
              "    <tr>\n",
              "      <th>(1.6, 2.4]</th>\n",
              "      <td>1</td>\n",
              "      <td>2.777778</td>\n",
              "    </tr>\n",
              "    <tr>\n",
              "      <th>(2.4, 3.2]</th>\n",
              "      <td>3</td>\n",
              "      <td>8.333333</td>\n",
              "    </tr>\n",
              "    <tr>\n",
              "      <th>(3.2, 4.0]</th>\n",
              "      <td>1</td>\n",
              "      <td>2.777778</td>\n",
              "    </tr>\n",
              "    <tr>\n",
              "      <th>(4.0, 4.8]</th>\n",
              "      <td>0</td>\n",
              "      <td>0.000000</td>\n",
              "    </tr>\n",
              "    <tr>\n",
              "      <th>(4.8, 5.6]</th>\n",
              "      <td>15</td>\n",
              "      <td>41.666667</td>\n",
              "    </tr>\n",
              "    <tr>\n",
              "      <th>(5.6, 6.4]</th>\n",
              "      <td>2</td>\n",
              "      <td>5.555556</td>\n",
              "    </tr>\n",
              "    <tr>\n",
              "      <th>(6.4, 7.2]</th>\n",
              "      <td>0</td>\n",
              "      <td>0.000000</td>\n",
              "    </tr>\n",
              "    <tr>\n",
              "      <th>(7.2, 8.0]</th>\n",
              "      <td>3</td>\n",
              "      <td>8.333333</td>\n",
              "    </tr>\n",
              "  </tbody>\n",
              "</table>\n",
              "</div>\n",
              "      <button class=\"colab-df-convert\" onclick=\"convertToInteractive('df-f10ddcf0-9d03-4aae-885a-53006f6f6ade')\"\n",
              "              title=\"Convert this dataframe to an interactive table.\"\n",
              "              style=\"display:none;\">\n",
              "        \n",
              "  <svg xmlns=\"http://www.w3.org/2000/svg\" height=\"24px\"viewBox=\"0 0 24 24\"\n",
              "       width=\"24px\">\n",
              "    <path d=\"M0 0h24v24H0V0z\" fill=\"none\"/>\n",
              "    <path d=\"M18.56 5.44l.94 2.06.94-2.06 2.06-.94-2.06-.94-.94-2.06-.94 2.06-2.06.94zm-11 1L8.5 8.5l.94-2.06 2.06-.94-2.06-.94L8.5 2.5l-.94 2.06-2.06.94zm10 10l.94 2.06.94-2.06 2.06-.94-2.06-.94-.94-2.06-.94 2.06-2.06.94z\"/><path d=\"M17.41 7.96l-1.37-1.37c-.4-.4-.92-.59-1.43-.59-.52 0-1.04.2-1.43.59L10.3 9.45l-7.72 7.72c-.78.78-.78 2.05 0 2.83L4 21.41c.39.39.9.59 1.41.59.51 0 1.02-.2 1.41-.59l7.78-7.78 2.81-2.81c.8-.78.8-2.07 0-2.86zM5.41 20L4 18.59l7.72-7.72 1.47 1.35L5.41 20z\"/>\n",
              "  </svg>\n",
              "      </button>\n",
              "      \n",
              "  <style>\n",
              "    .colab-df-container {\n",
              "      display:flex;\n",
              "      flex-wrap:wrap;\n",
              "      gap: 12px;\n",
              "    }\n",
              "\n",
              "    .colab-df-convert {\n",
              "      background-color: #E8F0FE;\n",
              "      border: none;\n",
              "      border-radius: 50%;\n",
              "      cursor: pointer;\n",
              "      display: none;\n",
              "      fill: #1967D2;\n",
              "      height: 32px;\n",
              "      padding: 0 0 0 0;\n",
              "      width: 32px;\n",
              "    }\n",
              "\n",
              "    .colab-df-convert:hover {\n",
              "      background-color: #E2EBFA;\n",
              "      box-shadow: 0px 1px 2px rgba(60, 64, 67, 0.3), 0px 1px 3px 1px rgba(60, 64, 67, 0.15);\n",
              "      fill: #174EA6;\n",
              "    }\n",
              "\n",
              "    [theme=dark] .colab-df-convert {\n",
              "      background-color: #3B4455;\n",
              "      fill: #D2E3FC;\n",
              "    }\n",
              "\n",
              "    [theme=dark] .colab-df-convert:hover {\n",
              "      background-color: #434B5C;\n",
              "      box-shadow: 0px 1px 3px 1px rgba(0, 0, 0, 0.15);\n",
              "      filter: drop-shadow(0px 1px 2px rgba(0, 0, 0, 0.3));\n",
              "      fill: #FFFFFF;\n",
              "    }\n",
              "  </style>\n",
              "\n",
              "      <script>\n",
              "        const buttonEl =\n",
              "          document.querySelector('#df-f10ddcf0-9d03-4aae-885a-53006f6f6ade button.colab-df-convert');\n",
              "        buttonEl.style.display =\n",
              "          google.colab.kernel.accessAllowed ? 'block' : 'none';\n",
              "\n",
              "        async function convertToInteractive(key) {\n",
              "          const element = document.querySelector('#df-f10ddcf0-9d03-4aae-885a-53006f6f6ade');\n",
              "          const dataTable =\n",
              "            await google.colab.kernel.invokeFunction('convertToInteractive',\n",
              "                                                     [key], {});\n",
              "          if (!dataTable) return;\n",
              "\n",
              "          const docLinkHtml = 'Like what you see? Visit the ' +\n",
              "            '<a target=\"_blank\" href=https://colab.research.google.com/notebooks/data_table.ipynb>data table notebook</a>'\n",
              "            + ' to learn more about interactive tables.';\n",
              "          element.innerHTML = '';\n",
              "          dataTable['output_type'] = 'display_data';\n",
              "          await google.colab.output.renderOutput(dataTable, element);\n",
              "          const docLink = document.createElement('div');\n",
              "          docLink.innerHTML = docLinkHtml;\n",
              "          element.appendChild(docLink);\n",
              "        }\n",
              "      </script>\n",
              "    </div>\n",
              "  </div>\n",
              "  "
            ]
          },
          "metadata": {},
          "execution_count": 25
        }
      ]
    },
    {
      "cell_type": "code",
      "source": [
        "dist_freq.rename_axis('Classes', axis = 'columns', inplace = True)\n",
        "dist_freq"
      ],
      "metadata": {
        "colab": {
          "base_uri": "https://localhost:8080/",
          "height": 363
        },
        "id": "PuVy4xch2HdZ",
        "outputId": "a0e5bd6a-8995-46f4-8abc-a3e5818b1c49"
      },
      "execution_count": null,
      "outputs": [
        {
          "output_type": "execute_result",
          "data": {
            "text/plain": [
              "Classes                       Frequencia  Porcentagem (%)\n",
              "(-0.009000000000000001, 0.8]           9        25.000000\n",
              "(0.8, 1.6]                             2         5.555556\n",
              "(1.6, 2.4]                             1         2.777778\n",
              "(2.4, 3.2]                             3         8.333333\n",
              "(3.2, 4.0]                             1         2.777778\n",
              "(4.0, 4.8]                             0         0.000000\n",
              "(4.8, 5.6]                            15        41.666667\n",
              "(5.6, 6.4]                             2         5.555556\n",
              "(6.4, 7.2]                             0         0.000000\n",
              "(7.2, 8.0]                             3         8.333333"
            ],
            "text/html": [
              "\n",
              "  <div id=\"df-0805f3d6-0521-4674-803d-98dd5a876604\">\n",
              "    <div class=\"colab-df-container\">\n",
              "      <div>\n",
              "<style scoped>\n",
              "    .dataframe tbody tr th:only-of-type {\n",
              "        vertical-align: middle;\n",
              "    }\n",
              "\n",
              "    .dataframe tbody tr th {\n",
              "        vertical-align: top;\n",
              "    }\n",
              "\n",
              "    .dataframe thead th {\n",
              "        text-align: right;\n",
              "    }\n",
              "</style>\n",
              "<table border=\"1\" class=\"dataframe\">\n",
              "  <thead>\n",
              "    <tr style=\"text-align: right;\">\n",
              "      <th>Classes</th>\n",
              "      <th>Frequencia</th>\n",
              "      <th>Porcentagem (%)</th>\n",
              "    </tr>\n",
              "  </thead>\n",
              "  <tbody>\n",
              "    <tr>\n",
              "      <th>(-0.009000000000000001, 0.8]</th>\n",
              "      <td>9</td>\n",
              "      <td>25.000000</td>\n",
              "    </tr>\n",
              "    <tr>\n",
              "      <th>(0.8, 1.6]</th>\n",
              "      <td>2</td>\n",
              "      <td>5.555556</td>\n",
              "    </tr>\n",
              "    <tr>\n",
              "      <th>(1.6, 2.4]</th>\n",
              "      <td>1</td>\n",
              "      <td>2.777778</td>\n",
              "    </tr>\n",
              "    <tr>\n",
              "      <th>(2.4, 3.2]</th>\n",
              "      <td>3</td>\n",
              "      <td>8.333333</td>\n",
              "    </tr>\n",
              "    <tr>\n",
              "      <th>(3.2, 4.0]</th>\n",
              "      <td>1</td>\n",
              "      <td>2.777778</td>\n",
              "    </tr>\n",
              "    <tr>\n",
              "      <th>(4.0, 4.8]</th>\n",
              "      <td>0</td>\n",
              "      <td>0.000000</td>\n",
              "    </tr>\n",
              "    <tr>\n",
              "      <th>(4.8, 5.6]</th>\n",
              "      <td>15</td>\n",
              "      <td>41.666667</td>\n",
              "    </tr>\n",
              "    <tr>\n",
              "      <th>(5.6, 6.4]</th>\n",
              "      <td>2</td>\n",
              "      <td>5.555556</td>\n",
              "    </tr>\n",
              "    <tr>\n",
              "      <th>(6.4, 7.2]</th>\n",
              "      <td>0</td>\n",
              "      <td>0.000000</td>\n",
              "    </tr>\n",
              "    <tr>\n",
              "      <th>(7.2, 8.0]</th>\n",
              "      <td>3</td>\n",
              "      <td>8.333333</td>\n",
              "    </tr>\n",
              "  </tbody>\n",
              "</table>\n",
              "</div>\n",
              "      <button class=\"colab-df-convert\" onclick=\"convertToInteractive('df-0805f3d6-0521-4674-803d-98dd5a876604')\"\n",
              "              title=\"Convert this dataframe to an interactive table.\"\n",
              "              style=\"display:none;\">\n",
              "        \n",
              "  <svg xmlns=\"http://www.w3.org/2000/svg\" height=\"24px\"viewBox=\"0 0 24 24\"\n",
              "       width=\"24px\">\n",
              "    <path d=\"M0 0h24v24H0V0z\" fill=\"none\"/>\n",
              "    <path d=\"M18.56 5.44l.94 2.06.94-2.06 2.06-.94-2.06-.94-.94-2.06-.94 2.06-2.06.94zm-11 1L8.5 8.5l.94-2.06 2.06-.94-2.06-.94L8.5 2.5l-.94 2.06-2.06.94zm10 10l.94 2.06.94-2.06 2.06-.94-2.06-.94-.94-2.06-.94 2.06-2.06.94z\"/><path d=\"M17.41 7.96l-1.37-1.37c-.4-.4-.92-.59-1.43-.59-.52 0-1.04.2-1.43.59L10.3 9.45l-7.72 7.72c-.78.78-.78 2.05 0 2.83L4 21.41c.39.39.9.59 1.41.59.51 0 1.02-.2 1.41-.59l7.78-7.78 2.81-2.81c.8-.78.8-2.07 0-2.86zM5.41 20L4 18.59l7.72-7.72 1.47 1.35L5.41 20z\"/>\n",
              "  </svg>\n",
              "      </button>\n",
              "      \n",
              "  <style>\n",
              "    .colab-df-container {\n",
              "      display:flex;\n",
              "      flex-wrap:wrap;\n",
              "      gap: 12px;\n",
              "    }\n",
              "\n",
              "    .colab-df-convert {\n",
              "      background-color: #E8F0FE;\n",
              "      border: none;\n",
              "      border-radius: 50%;\n",
              "      cursor: pointer;\n",
              "      display: none;\n",
              "      fill: #1967D2;\n",
              "      height: 32px;\n",
              "      padding: 0 0 0 0;\n",
              "      width: 32px;\n",
              "    }\n",
              "\n",
              "    .colab-df-convert:hover {\n",
              "      background-color: #E2EBFA;\n",
              "      box-shadow: 0px 1px 2px rgba(60, 64, 67, 0.3), 0px 1px 3px 1px rgba(60, 64, 67, 0.15);\n",
              "      fill: #174EA6;\n",
              "    }\n",
              "\n",
              "    [theme=dark] .colab-df-convert {\n",
              "      background-color: #3B4455;\n",
              "      fill: #D2E3FC;\n",
              "    }\n",
              "\n",
              "    [theme=dark] .colab-df-convert:hover {\n",
              "      background-color: #434B5C;\n",
              "      box-shadow: 0px 1px 3px 1px rgba(0, 0, 0, 0.15);\n",
              "      filter: drop-shadow(0px 1px 2px rgba(0, 0, 0, 0.3));\n",
              "      fill: #FFFFFF;\n",
              "    }\n",
              "  </style>\n",
              "\n",
              "      <script>\n",
              "        const buttonEl =\n",
              "          document.querySelector('#df-0805f3d6-0521-4674-803d-98dd5a876604 button.colab-df-convert');\n",
              "        buttonEl.style.display =\n",
              "          google.colab.kernel.accessAllowed ? 'block' : 'none';\n",
              "\n",
              "        async function convertToInteractive(key) {\n",
              "          const element = document.querySelector('#df-0805f3d6-0521-4674-803d-98dd5a876604');\n",
              "          const dataTable =\n",
              "            await google.colab.kernel.invokeFunction('convertToInteractive',\n",
              "                                                     [key], {});\n",
              "          if (!dataTable) return;\n",
              "\n",
              "          const docLinkHtml = 'Like what you see? Visit the ' +\n",
              "            '<a target=\"_blank\" href=https://colab.research.google.com/notebooks/data_table.ipynb>data table notebook</a>'\n",
              "            + ' to learn more about interactive tables.';\n",
              "          element.innerHTML = '';\n",
              "          dataTable['output_type'] = 'display_data';\n",
              "          await google.colab.output.renderOutput(dataTable, element);\n",
              "          const docLink = document.createElement('div');\n",
              "          docLink.innerHTML = docLinkHtml;\n",
              "          element.appendChild(docLink);\n",
              "        }\n",
              "      </script>\n",
              "    </div>\n",
              "  </div>\n",
              "  "
            ]
          },
          "metadata": {},
          "execution_count": 27
        }
      ]
    },
    {
      "cell_type": "markdown",
      "source": [
        "**Conclusões**\n",
        "\n",
        "A partir da tabela de distribuição de frequência, podemos concluir que os dados, possivelmente, foram coletados a partir de entrevistas onde os indivíduos informaram suas alturas, ou seja, os dados não foram medidos pelos entrevistadores. Se os dados de altura fossem medidos, os dados apresentariam uma distribuição do dígito final mais uniforme."
      ],
      "metadata": {
        "id": "QlSjd9XU20P9"
      }
    },
    {
      "cell_type": "markdown",
      "source": [
        "## Problema 20 - Análise dos Últimos Dígitos \n"
      ],
      "metadata": {
        "id": "uRQZTcvF3nV-"
      }
    },
    {
      "cell_type": "markdown",
      "source": [
        "Pesos de respondentes foram registrados como parte de California Health Interview\n",
        "Survey. Os últimos dígitos dos pesos de 50 respondentes selecionados aleatoriamente estão listados a seguir. Construa\n",
        "uma distribuição de frequência com 10 classes. Com base na distribuição, as alturas parecem ter sido relatadas ou\n",
        "realmente medidas? O que você sabe sobre a precisão dos resultados?\n"
      ],
      "metadata": {
        "id": "GRnYrdr-3rH2"
      }
    },
    {
      "cell_type": "code",
      "source": [
        "#Criando um Series com os dados fornecidos no problema e salvando em uma planilha de Excel, temos:\n",
        "string = '5 0 1 0 2 0 5 0 5 0 3 8 5 0 5 0 5 6 0 0 0 0 0 0 8 5 5 0 4 5 0 0 4 0 0 0 0 0 8 0 9 5 3 0 5 0 0 0 5 8'\n",
        "dados_string = string.split(' ')\n",
        "dados_numericos = []\n",
        "for i in dados_string:\n",
        "  dados_numericos.append(int(i))\n",
        "dados_numericos = pd.DataFrame({'Ultimo digito':dados_numericos})\n",
        "dados_numericos.to_csv('ultimo_digito_peso.csv')"
      ],
      "metadata": {
        "id": "tDmoYbp13RKx"
      },
      "execution_count": null,
      "outputs": []
    },
    {
      "cell_type": "code",
      "source": [
        "#abrindo os dados .csv, temos:\n",
        "base_dados = pd.read_csv('ultimo_digito_peso.csv')\n",
        "base_dados.drop('Unnamed: 0', axis = 'columns', inplace = True)\n",
        "base_dados.head()"
      ],
      "metadata": {
        "colab": {
          "base_uri": "https://localhost:8080/",
          "height": 206
        },
        "id": "6_hVQ0fA4MSx",
        "outputId": "f8ba7bdc-2c5e-4564-8ea3-63781832fb37"
      },
      "execution_count": null,
      "outputs": [
        {
          "output_type": "execute_result",
          "data": {
            "text/plain": [
              "   Ultimo digito\n",
              "0              5\n",
              "1              0\n",
              "2              1\n",
              "3              0\n",
              "4              2"
            ],
            "text/html": [
              "\n",
              "  <div id=\"df-eceb53a1-d0f6-4abf-aab7-11e0a305a0ba\">\n",
              "    <div class=\"colab-df-container\">\n",
              "      <div>\n",
              "<style scoped>\n",
              "    .dataframe tbody tr th:only-of-type {\n",
              "        vertical-align: middle;\n",
              "    }\n",
              "\n",
              "    .dataframe tbody tr th {\n",
              "        vertical-align: top;\n",
              "    }\n",
              "\n",
              "    .dataframe thead th {\n",
              "        text-align: right;\n",
              "    }\n",
              "</style>\n",
              "<table border=\"1\" class=\"dataframe\">\n",
              "  <thead>\n",
              "    <tr style=\"text-align: right;\">\n",
              "      <th></th>\n",
              "      <th>Ultimo digito</th>\n",
              "    </tr>\n",
              "  </thead>\n",
              "  <tbody>\n",
              "    <tr>\n",
              "      <th>0</th>\n",
              "      <td>5</td>\n",
              "    </tr>\n",
              "    <tr>\n",
              "      <th>1</th>\n",
              "      <td>0</td>\n",
              "    </tr>\n",
              "    <tr>\n",
              "      <th>2</th>\n",
              "      <td>1</td>\n",
              "    </tr>\n",
              "    <tr>\n",
              "      <th>3</th>\n",
              "      <td>0</td>\n",
              "    </tr>\n",
              "    <tr>\n",
              "      <th>4</th>\n",
              "      <td>2</td>\n",
              "    </tr>\n",
              "  </tbody>\n",
              "</table>\n",
              "</div>\n",
              "      <button class=\"colab-df-convert\" onclick=\"convertToInteractive('df-eceb53a1-d0f6-4abf-aab7-11e0a305a0ba')\"\n",
              "              title=\"Convert this dataframe to an interactive table.\"\n",
              "              style=\"display:none;\">\n",
              "        \n",
              "  <svg xmlns=\"http://www.w3.org/2000/svg\" height=\"24px\"viewBox=\"0 0 24 24\"\n",
              "       width=\"24px\">\n",
              "    <path d=\"M0 0h24v24H0V0z\" fill=\"none\"/>\n",
              "    <path d=\"M18.56 5.44l.94 2.06.94-2.06 2.06-.94-2.06-.94-.94-2.06-.94 2.06-2.06.94zm-11 1L8.5 8.5l.94-2.06 2.06-.94-2.06-.94L8.5 2.5l-.94 2.06-2.06.94zm10 10l.94 2.06.94-2.06 2.06-.94-2.06-.94-.94-2.06-.94 2.06-2.06.94z\"/><path d=\"M17.41 7.96l-1.37-1.37c-.4-.4-.92-.59-1.43-.59-.52 0-1.04.2-1.43.59L10.3 9.45l-7.72 7.72c-.78.78-.78 2.05 0 2.83L4 21.41c.39.39.9.59 1.41.59.51 0 1.02-.2 1.41-.59l7.78-7.78 2.81-2.81c.8-.78.8-2.07 0-2.86zM5.41 20L4 18.59l7.72-7.72 1.47 1.35L5.41 20z\"/>\n",
              "  </svg>\n",
              "      </button>\n",
              "      \n",
              "  <style>\n",
              "    .colab-df-container {\n",
              "      display:flex;\n",
              "      flex-wrap:wrap;\n",
              "      gap: 12px;\n",
              "    }\n",
              "\n",
              "    .colab-df-convert {\n",
              "      background-color: #E8F0FE;\n",
              "      border: none;\n",
              "      border-radius: 50%;\n",
              "      cursor: pointer;\n",
              "      display: none;\n",
              "      fill: #1967D2;\n",
              "      height: 32px;\n",
              "      padding: 0 0 0 0;\n",
              "      width: 32px;\n",
              "    }\n",
              "\n",
              "    .colab-df-convert:hover {\n",
              "      background-color: #E2EBFA;\n",
              "      box-shadow: 0px 1px 2px rgba(60, 64, 67, 0.3), 0px 1px 3px 1px rgba(60, 64, 67, 0.15);\n",
              "      fill: #174EA6;\n",
              "    }\n",
              "\n",
              "    [theme=dark] .colab-df-convert {\n",
              "      background-color: #3B4455;\n",
              "      fill: #D2E3FC;\n",
              "    }\n",
              "\n",
              "    [theme=dark] .colab-df-convert:hover {\n",
              "      background-color: #434B5C;\n",
              "      box-shadow: 0px 1px 3px 1px rgba(0, 0, 0, 0.15);\n",
              "      filter: drop-shadow(0px 1px 2px rgba(0, 0, 0, 0.3));\n",
              "      fill: #FFFFFF;\n",
              "    }\n",
              "  </style>\n",
              "\n",
              "      <script>\n",
              "        const buttonEl =\n",
              "          document.querySelector('#df-eceb53a1-d0f6-4abf-aab7-11e0a305a0ba button.colab-df-convert');\n",
              "        buttonEl.style.display =\n",
              "          google.colab.kernel.accessAllowed ? 'block' : 'none';\n",
              "\n",
              "        async function convertToInteractive(key) {\n",
              "          const element = document.querySelector('#df-eceb53a1-d0f6-4abf-aab7-11e0a305a0ba');\n",
              "          const dataTable =\n",
              "            await google.colab.kernel.invokeFunction('convertToInteractive',\n",
              "                                                     [key], {});\n",
              "          if (!dataTable) return;\n",
              "\n",
              "          const docLinkHtml = 'Like what you see? Visit the ' +\n",
              "            '<a target=\"_blank\" href=https://colab.research.google.com/notebooks/data_table.ipynb>data table notebook</a>'\n",
              "            + ' to learn more about interactive tables.';\n",
              "          element.innerHTML = '';\n",
              "          dataTable['output_type'] = 'display_data';\n",
              "          await google.colab.output.renderOutput(dataTable, element);\n",
              "          const docLink = document.createElement('div');\n",
              "          docLink.innerHTML = docLinkHtml;\n",
              "          element.appendChild(docLink);\n",
              "        }\n",
              "      </script>\n",
              "    </div>\n",
              "  </div>\n",
              "  "
            ]
          },
          "metadata": {},
          "execution_count": 107
        }
      ]
    },
    {
      "cell_type": "code",
      "source": [
        "#segmentando os dados quantitativos em 10 classes de amplitude fixa, temos:\n",
        "numero_classes = 10\n",
        "dados_segmentados = pd.cut(x = base_dados['Ultimo digito'], bins = numero_classes, include_lowest = True)\n",
        "frequencia = pd.value_counts(dados_segmentados, sort = False)\n",
        "frequencia"
      ],
      "metadata": {
        "colab": {
          "base_uri": "https://localhost:8080/"
        },
        "id": "v2-xFR664-Sw",
        "outputId": "1231aa80-895d-4ecd-c24d-fa53efae1303"
      },
      "execution_count": null,
      "outputs": [
        {
          "output_type": "execute_result",
          "data": {
            "text/plain": [
              "(-0.009999999999999998, 0.9]    26\n",
              "(0.9, 1.8]                       1\n",
              "(1.8, 2.7]                       1\n",
              "(2.7, 3.6]                       2\n",
              "(3.6, 4.5]                       2\n",
              "(4.5, 5.4]                      12\n",
              "(5.4, 6.3]                       1\n",
              "(6.3, 7.2]                       0\n",
              "(7.2, 8.1]                       4\n",
              "(8.1, 9.0]                       1\n",
              "Name: Ultimo digito, dtype: int64"
            ]
          },
          "metadata": {},
          "execution_count": 108
        }
      ]
    },
    {
      "cell_type": "code",
      "source": [
        "#segmentando os dados em classes de amplitude fixa e fornecendo frquências relativas, temos:\n",
        "percentual = pd.value_counts(pd.cut(x = base_dados['Ultimo digito'], bins = numero_classes, include_lowest = True),\n",
        "                             sort = False, normalize = True)*100\n",
        "percentual"
      ],
      "metadata": {
        "colab": {
          "base_uri": "https://localhost:8080/"
        },
        "id": "UYcxAiOI5yJV",
        "outputId": "076955ed-c6fe-4045-e820-72cf14e6262c"
      },
      "execution_count": null,
      "outputs": [
        {
          "output_type": "execute_result",
          "data": {
            "text/plain": [
              "(-0.009999999999999998, 0.9]    52.0\n",
              "(0.9, 1.8]                       2.0\n",
              "(1.8, 2.7]                       2.0\n",
              "(2.7, 3.6]                       4.0\n",
              "(3.6, 4.5]                       4.0\n",
              "(4.5, 5.4]                      24.0\n",
              "(5.4, 6.3]                       2.0\n",
              "(6.3, 7.2]                       0.0\n",
              "(7.2, 8.1]                       8.0\n",
              "(8.1, 9.0]                       2.0\n",
              "Name: Ultimo digito, dtype: float64"
            ]
          },
          "metadata": {},
          "execution_count": 109
        }
      ]
    },
    {
      "cell_type": "code",
      "source": [
        "#Criando tabela de distribuição de frequência e distribuição de frequência relativa, temos:\n",
        "dist_freq = pd.DataFrame({'Frequência':frequencia,'Porcentagem(%)':percentual})\n",
        "dist_freq.rename_axis('Classes', axis = 'index', inplace = True)\n",
        "dist_freq"
      ],
      "metadata": {
        "colab": {
          "base_uri": "https://localhost:8080/",
          "height": 394
        },
        "id": "a3Dt1_zd6Tk_",
        "outputId": "519180b5-b6d1-4723-e71a-a31916927b5f"
      },
      "execution_count": null,
      "outputs": [
        {
          "output_type": "execute_result",
          "data": {
            "text/plain": [
              "                              Frequência  Porcentagem(%)\n",
              "Classes                                                 \n",
              "(-0.009999999999999998, 0.9]          26            52.0\n",
              "(0.9, 1.8]                             1             2.0\n",
              "(1.8, 2.7]                             1             2.0\n",
              "(2.7, 3.6]                             2             4.0\n",
              "(3.6, 4.5]                             2             4.0\n",
              "(4.5, 5.4]                            12            24.0\n",
              "(5.4, 6.3]                             1             2.0\n",
              "(6.3, 7.2]                             0             0.0\n",
              "(7.2, 8.1]                             4             8.0\n",
              "(8.1, 9.0]                             1             2.0"
            ],
            "text/html": [
              "\n",
              "  <div id=\"df-2f342e1c-849d-4dcb-aa7c-0d02b3e57d5b\">\n",
              "    <div class=\"colab-df-container\">\n",
              "      <div>\n",
              "<style scoped>\n",
              "    .dataframe tbody tr th:only-of-type {\n",
              "        vertical-align: middle;\n",
              "    }\n",
              "\n",
              "    .dataframe tbody tr th {\n",
              "        vertical-align: top;\n",
              "    }\n",
              "\n",
              "    .dataframe thead th {\n",
              "        text-align: right;\n",
              "    }\n",
              "</style>\n",
              "<table border=\"1\" class=\"dataframe\">\n",
              "  <thead>\n",
              "    <tr style=\"text-align: right;\">\n",
              "      <th></th>\n",
              "      <th>Frequência</th>\n",
              "      <th>Porcentagem(%)</th>\n",
              "    </tr>\n",
              "    <tr>\n",
              "      <th>Classes</th>\n",
              "      <th></th>\n",
              "      <th></th>\n",
              "    </tr>\n",
              "  </thead>\n",
              "  <tbody>\n",
              "    <tr>\n",
              "      <th>(-0.009999999999999998, 0.9]</th>\n",
              "      <td>26</td>\n",
              "      <td>52.0</td>\n",
              "    </tr>\n",
              "    <tr>\n",
              "      <th>(0.9, 1.8]</th>\n",
              "      <td>1</td>\n",
              "      <td>2.0</td>\n",
              "    </tr>\n",
              "    <tr>\n",
              "      <th>(1.8, 2.7]</th>\n",
              "      <td>1</td>\n",
              "      <td>2.0</td>\n",
              "    </tr>\n",
              "    <tr>\n",
              "      <th>(2.7, 3.6]</th>\n",
              "      <td>2</td>\n",
              "      <td>4.0</td>\n",
              "    </tr>\n",
              "    <tr>\n",
              "      <th>(3.6, 4.5]</th>\n",
              "      <td>2</td>\n",
              "      <td>4.0</td>\n",
              "    </tr>\n",
              "    <tr>\n",
              "      <th>(4.5, 5.4]</th>\n",
              "      <td>12</td>\n",
              "      <td>24.0</td>\n",
              "    </tr>\n",
              "    <tr>\n",
              "      <th>(5.4, 6.3]</th>\n",
              "      <td>1</td>\n",
              "      <td>2.0</td>\n",
              "    </tr>\n",
              "    <tr>\n",
              "      <th>(6.3, 7.2]</th>\n",
              "      <td>0</td>\n",
              "      <td>0.0</td>\n",
              "    </tr>\n",
              "    <tr>\n",
              "      <th>(7.2, 8.1]</th>\n",
              "      <td>4</td>\n",
              "      <td>8.0</td>\n",
              "    </tr>\n",
              "    <tr>\n",
              "      <th>(8.1, 9.0]</th>\n",
              "      <td>1</td>\n",
              "      <td>2.0</td>\n",
              "    </tr>\n",
              "  </tbody>\n",
              "</table>\n",
              "</div>\n",
              "      <button class=\"colab-df-convert\" onclick=\"convertToInteractive('df-2f342e1c-849d-4dcb-aa7c-0d02b3e57d5b')\"\n",
              "              title=\"Convert this dataframe to an interactive table.\"\n",
              "              style=\"display:none;\">\n",
              "        \n",
              "  <svg xmlns=\"http://www.w3.org/2000/svg\" height=\"24px\"viewBox=\"0 0 24 24\"\n",
              "       width=\"24px\">\n",
              "    <path d=\"M0 0h24v24H0V0z\" fill=\"none\"/>\n",
              "    <path d=\"M18.56 5.44l.94 2.06.94-2.06 2.06-.94-2.06-.94-.94-2.06-.94 2.06-2.06.94zm-11 1L8.5 8.5l.94-2.06 2.06-.94-2.06-.94L8.5 2.5l-.94 2.06-2.06.94zm10 10l.94 2.06.94-2.06 2.06-.94-2.06-.94-.94-2.06-.94 2.06-2.06.94z\"/><path d=\"M17.41 7.96l-1.37-1.37c-.4-.4-.92-.59-1.43-.59-.52 0-1.04.2-1.43.59L10.3 9.45l-7.72 7.72c-.78.78-.78 2.05 0 2.83L4 21.41c.39.39.9.59 1.41.59.51 0 1.02-.2 1.41-.59l7.78-7.78 2.81-2.81c.8-.78.8-2.07 0-2.86zM5.41 20L4 18.59l7.72-7.72 1.47 1.35L5.41 20z\"/>\n",
              "  </svg>\n",
              "      </button>\n",
              "      \n",
              "  <style>\n",
              "    .colab-df-container {\n",
              "      display:flex;\n",
              "      flex-wrap:wrap;\n",
              "      gap: 12px;\n",
              "    }\n",
              "\n",
              "    .colab-df-convert {\n",
              "      background-color: #E8F0FE;\n",
              "      border: none;\n",
              "      border-radius: 50%;\n",
              "      cursor: pointer;\n",
              "      display: none;\n",
              "      fill: #1967D2;\n",
              "      height: 32px;\n",
              "      padding: 0 0 0 0;\n",
              "      width: 32px;\n",
              "    }\n",
              "\n",
              "    .colab-df-convert:hover {\n",
              "      background-color: #E2EBFA;\n",
              "      box-shadow: 0px 1px 2px rgba(60, 64, 67, 0.3), 0px 1px 3px 1px rgba(60, 64, 67, 0.15);\n",
              "      fill: #174EA6;\n",
              "    }\n",
              "\n",
              "    [theme=dark] .colab-df-convert {\n",
              "      background-color: #3B4455;\n",
              "      fill: #D2E3FC;\n",
              "    }\n",
              "\n",
              "    [theme=dark] .colab-df-convert:hover {\n",
              "      background-color: #434B5C;\n",
              "      box-shadow: 0px 1px 3px 1px rgba(0, 0, 0, 0.15);\n",
              "      filter: drop-shadow(0px 1px 2px rgba(0, 0, 0, 0.3));\n",
              "      fill: #FFFFFF;\n",
              "    }\n",
              "  </style>\n",
              "\n",
              "      <script>\n",
              "        const buttonEl =\n",
              "          document.querySelector('#df-2f342e1c-849d-4dcb-aa7c-0d02b3e57d5b button.colab-df-convert');\n",
              "        buttonEl.style.display =\n",
              "          google.colab.kernel.accessAllowed ? 'block' : 'none';\n",
              "\n",
              "        async function convertToInteractive(key) {\n",
              "          const element = document.querySelector('#df-2f342e1c-849d-4dcb-aa7c-0d02b3e57d5b');\n",
              "          const dataTable =\n",
              "            await google.colab.kernel.invokeFunction('convertToInteractive',\n",
              "                                                     [key], {});\n",
              "          if (!dataTable) return;\n",
              "\n",
              "          const docLinkHtml = 'Like what you see? Visit the ' +\n",
              "            '<a target=\"_blank\" href=https://colab.research.google.com/notebooks/data_table.ipynb>data table notebook</a>'\n",
              "            + ' to learn more about interactive tables.';\n",
              "          element.innerHTML = '';\n",
              "          dataTable['output_type'] = 'display_data';\n",
              "          await google.colab.output.renderOutput(dataTable, element);\n",
              "          const docLink = document.createElement('div');\n",
              "          docLink.innerHTML = docLinkHtml;\n",
              "          element.appendChild(docLink);\n",
              "        }\n",
              "      </script>\n",
              "    </div>\n",
              "  </div>\n",
              "  "
            ]
          },
          "metadata": {},
          "execution_count": 110
        }
      ]
    },
    {
      "cell_type": "markdown",
      "source": [
        "**Conclusão**\n",
        "\n",
        "A partir da distribuição de frequência, podemos concluir que os dados são, possivelmente, oriundos de uma coleta na qual os entrevistados relataram as medidas de peso. Os dados de dígito final coletados de uma amostra aleatória simples apresentam uma distribuição mais uniforme dos dígitos finais. Portanto, os dados obtidos podem não ser representativos dessa população, dependendo dos desvios dos dados reais (que seriam obtidos a partir de uma medição utilizando-se uma balança no momento da coleta)."
      ],
      "metadata": {
        "id": "roJqkmTK6250"
      }
    },
    {
      "cell_type": "markdown",
      "source": [
        "## Problema 21 - Taxas de Pulsação de Homens"
      ],
      "metadata": {
        "id": "W07tDh677h1W"
      }
    },
    {
      "cell_type": "markdown",
      "source": [
        "Consulte o Conjunto de Dados 1 no Apêndice B e use as taxas de pulsação\n",
        "(batimentos por minuto) de homens. Comece com um limite inferior de classe de 40 e use uma amplitude de classe de 10.\n",
        "As taxas de pulsação de homens parecem ter uma distribuição normal?"
      ],
      "metadata": {
        "id": "mb9e8TC67mgc"
      }
    },
    {
      "cell_type": "code",
      "source": [
        "#Abrindo os dados, temos:\n",
        "base_dados = pd.read_csv('MBODY.csv')\n",
        "base_dados.head()"
      ],
      "metadata": {
        "colab": {
          "base_uri": "https://localhost:8080/",
          "height": 206
        },
        "id": "KOOHZ8os608b",
        "outputId": "e8423740-4379-4625-e58d-e56e22b552ee"
      },
      "execution_count": null,
      "outputs": [
        {
          "output_type": "execute_result",
          "data": {
            "text/plain": [
              "   AGE  PULSE  SYS  DIAS  HDL  LDL  WHITE   RED  PLATE    WT     HT  WAIST  \\\n",
              "0   18     60  132    68   44  213    8.7  4.91    409  64.4  178.8   81.4   \n",
              "1   20     74  120    68   41   88    5.9  5.59    187  61.8  177.5   74.8   \n",
              "2   43     86  106    84   71  174    7.3  4.44    250  78.5  187.8   84.1   \n",
              "3   39     54  104    60   41  121    6.2  4.80    273  86.3  172.4   95.5   \n",
              "4   60     90  122    80   57  124    5.9  5.17    278  73.1  181.7   90.1   \n",
              "\n",
              "   ARMC    BMI  \n",
              "0  28.4  20.14  \n",
              "1  26.8  19.62  \n",
              "2  32.3  22.26  \n",
              "3  39.0  29.04  \n",
              "4  29.4  22.14  "
            ],
            "text/html": [
              "\n",
              "  <div id=\"df-c00b91f2-4f3a-451c-bb13-29050a23fbba\">\n",
              "    <div class=\"colab-df-container\">\n",
              "      <div>\n",
              "<style scoped>\n",
              "    .dataframe tbody tr th:only-of-type {\n",
              "        vertical-align: middle;\n",
              "    }\n",
              "\n",
              "    .dataframe tbody tr th {\n",
              "        vertical-align: top;\n",
              "    }\n",
              "\n",
              "    .dataframe thead th {\n",
              "        text-align: right;\n",
              "    }\n",
              "</style>\n",
              "<table border=\"1\" class=\"dataframe\">\n",
              "  <thead>\n",
              "    <tr style=\"text-align: right;\">\n",
              "      <th></th>\n",
              "      <th>AGE</th>\n",
              "      <th>PULSE</th>\n",
              "      <th>SYS</th>\n",
              "      <th>DIAS</th>\n",
              "      <th>HDL</th>\n",
              "      <th>LDL</th>\n",
              "      <th>WHITE</th>\n",
              "      <th>RED</th>\n",
              "      <th>PLATE</th>\n",
              "      <th>WT</th>\n",
              "      <th>HT</th>\n",
              "      <th>WAIST</th>\n",
              "      <th>ARMC</th>\n",
              "      <th>BMI</th>\n",
              "    </tr>\n",
              "  </thead>\n",
              "  <tbody>\n",
              "    <tr>\n",
              "      <th>0</th>\n",
              "      <td>18</td>\n",
              "      <td>60</td>\n",
              "      <td>132</td>\n",
              "      <td>68</td>\n",
              "      <td>44</td>\n",
              "      <td>213</td>\n",
              "      <td>8.7</td>\n",
              "      <td>4.91</td>\n",
              "      <td>409</td>\n",
              "      <td>64.4</td>\n",
              "      <td>178.8</td>\n",
              "      <td>81.4</td>\n",
              "      <td>28.4</td>\n",
              "      <td>20.14</td>\n",
              "    </tr>\n",
              "    <tr>\n",
              "      <th>1</th>\n",
              "      <td>20</td>\n",
              "      <td>74</td>\n",
              "      <td>120</td>\n",
              "      <td>68</td>\n",
              "      <td>41</td>\n",
              "      <td>88</td>\n",
              "      <td>5.9</td>\n",
              "      <td>5.59</td>\n",
              "      <td>187</td>\n",
              "      <td>61.8</td>\n",
              "      <td>177.5</td>\n",
              "      <td>74.8</td>\n",
              "      <td>26.8</td>\n",
              "      <td>19.62</td>\n",
              "    </tr>\n",
              "    <tr>\n",
              "      <th>2</th>\n",
              "      <td>43</td>\n",
              "      <td>86</td>\n",
              "      <td>106</td>\n",
              "      <td>84</td>\n",
              "      <td>71</td>\n",
              "      <td>174</td>\n",
              "      <td>7.3</td>\n",
              "      <td>4.44</td>\n",
              "      <td>250</td>\n",
              "      <td>78.5</td>\n",
              "      <td>187.8</td>\n",
              "      <td>84.1</td>\n",
              "      <td>32.3</td>\n",
              "      <td>22.26</td>\n",
              "    </tr>\n",
              "    <tr>\n",
              "      <th>3</th>\n",
              "      <td>39</td>\n",
              "      <td>54</td>\n",
              "      <td>104</td>\n",
              "      <td>60</td>\n",
              "      <td>41</td>\n",
              "      <td>121</td>\n",
              "      <td>6.2</td>\n",
              "      <td>4.80</td>\n",
              "      <td>273</td>\n",
              "      <td>86.3</td>\n",
              "      <td>172.4</td>\n",
              "      <td>95.5</td>\n",
              "      <td>39.0</td>\n",
              "      <td>29.04</td>\n",
              "    </tr>\n",
              "    <tr>\n",
              "      <th>4</th>\n",
              "      <td>60</td>\n",
              "      <td>90</td>\n",
              "      <td>122</td>\n",
              "      <td>80</td>\n",
              "      <td>57</td>\n",
              "      <td>124</td>\n",
              "      <td>5.9</td>\n",
              "      <td>5.17</td>\n",
              "      <td>278</td>\n",
              "      <td>73.1</td>\n",
              "      <td>181.7</td>\n",
              "      <td>90.1</td>\n",
              "      <td>29.4</td>\n",
              "      <td>22.14</td>\n",
              "    </tr>\n",
              "  </tbody>\n",
              "</table>\n",
              "</div>\n",
              "      <button class=\"colab-df-convert\" onclick=\"convertToInteractive('df-c00b91f2-4f3a-451c-bb13-29050a23fbba')\"\n",
              "              title=\"Convert this dataframe to an interactive table.\"\n",
              "              style=\"display:none;\">\n",
              "        \n",
              "  <svg xmlns=\"http://www.w3.org/2000/svg\" height=\"24px\"viewBox=\"0 0 24 24\"\n",
              "       width=\"24px\">\n",
              "    <path d=\"M0 0h24v24H0V0z\" fill=\"none\"/>\n",
              "    <path d=\"M18.56 5.44l.94 2.06.94-2.06 2.06-.94-2.06-.94-.94-2.06-.94 2.06-2.06.94zm-11 1L8.5 8.5l.94-2.06 2.06-.94-2.06-.94L8.5 2.5l-.94 2.06-2.06.94zm10 10l.94 2.06.94-2.06 2.06-.94-2.06-.94-.94-2.06-.94 2.06-2.06.94z\"/><path d=\"M17.41 7.96l-1.37-1.37c-.4-.4-.92-.59-1.43-.59-.52 0-1.04.2-1.43.59L10.3 9.45l-7.72 7.72c-.78.78-.78 2.05 0 2.83L4 21.41c.39.39.9.59 1.41.59.51 0 1.02-.2 1.41-.59l7.78-7.78 2.81-2.81c.8-.78.8-2.07 0-2.86zM5.41 20L4 18.59l7.72-7.72 1.47 1.35L5.41 20z\"/>\n",
              "  </svg>\n",
              "      </button>\n",
              "      \n",
              "  <style>\n",
              "    .colab-df-container {\n",
              "      display:flex;\n",
              "      flex-wrap:wrap;\n",
              "      gap: 12px;\n",
              "    }\n",
              "\n",
              "    .colab-df-convert {\n",
              "      background-color: #E8F0FE;\n",
              "      border: none;\n",
              "      border-radius: 50%;\n",
              "      cursor: pointer;\n",
              "      display: none;\n",
              "      fill: #1967D2;\n",
              "      height: 32px;\n",
              "      padding: 0 0 0 0;\n",
              "      width: 32px;\n",
              "    }\n",
              "\n",
              "    .colab-df-convert:hover {\n",
              "      background-color: #E2EBFA;\n",
              "      box-shadow: 0px 1px 2px rgba(60, 64, 67, 0.3), 0px 1px 3px 1px rgba(60, 64, 67, 0.15);\n",
              "      fill: #174EA6;\n",
              "    }\n",
              "\n",
              "    [theme=dark] .colab-df-convert {\n",
              "      background-color: #3B4455;\n",
              "      fill: #D2E3FC;\n",
              "    }\n",
              "\n",
              "    [theme=dark] .colab-df-convert:hover {\n",
              "      background-color: #434B5C;\n",
              "      box-shadow: 0px 1px 3px 1px rgba(0, 0, 0, 0.15);\n",
              "      filter: drop-shadow(0px 1px 2px rgba(0, 0, 0, 0.3));\n",
              "      fill: #FFFFFF;\n",
              "    }\n",
              "  </style>\n",
              "\n",
              "      <script>\n",
              "        const buttonEl =\n",
              "          document.querySelector('#df-c00b91f2-4f3a-451c-bb13-29050a23fbba button.colab-df-convert');\n",
              "        buttonEl.style.display =\n",
              "          google.colab.kernel.accessAllowed ? 'block' : 'none';\n",
              "\n",
              "        async function convertToInteractive(key) {\n",
              "          const element = document.querySelector('#df-c00b91f2-4f3a-451c-bb13-29050a23fbba');\n",
              "          const dataTable =\n",
              "            await google.colab.kernel.invokeFunction('convertToInteractive',\n",
              "                                                     [key], {});\n",
              "          if (!dataTable) return;\n",
              "\n",
              "          const docLinkHtml = 'Like what you see? Visit the ' +\n",
              "            '<a target=\"_blank\" href=https://colab.research.google.com/notebooks/data_table.ipynb>data table notebook</a>'\n",
              "            + ' to learn more about interactive tables.';\n",
              "          element.innerHTML = '';\n",
              "          dataTable['output_type'] = 'display_data';\n",
              "          await google.colab.output.renderOutput(dataTable, element);\n",
              "          const docLink = document.createElement('div');\n",
              "          docLink.innerHTML = docLinkHtml;\n",
              "          element.appendChild(docLink);\n",
              "        }\n",
              "      </script>\n",
              "    </div>\n",
              "  </div>\n",
              "  "
            ]
          },
          "metadata": {},
          "execution_count": 111
        }
      ]
    },
    {
      "cell_type": "markdown",
      "source": [
        "Primeiramente analisamos as informações contidas no dataset"
      ],
      "metadata": {
        "id": "VDyFTX00KWEN"
      }
    },
    {
      "cell_type": "code",
      "source": [
        "base_dados.info()"
      ],
      "metadata": {
        "colab": {
          "base_uri": "https://localhost:8080/"
        },
        "id": "aao4dVAhKajX",
        "outputId": "f8b53f25-759a-4217-8509-061036430d6a"
      },
      "execution_count": null,
      "outputs": [
        {
          "output_type": "stream",
          "name": "stdout",
          "text": [
            "<class 'pandas.core.frame.DataFrame'>\n",
            "RangeIndex: 40 entries, 0 to 39\n",
            "Data columns (total 14 columns):\n",
            " #   Column  Non-Null Count  Dtype  \n",
            "---  ------  --------------  -----  \n",
            " 0   AGE     40 non-null     int64  \n",
            " 1   PULSE   40 non-null     int64  \n",
            " 2   SYS     40 non-null     int64  \n",
            " 3   DIAS    40 non-null     int64  \n",
            " 4   HDL     40 non-null     int64  \n",
            " 5   LDL     40 non-null     int64  \n",
            " 6   WHITE   40 non-null     float64\n",
            " 7   RED     40 non-null     float64\n",
            " 8   PLATE   40 non-null     int64  \n",
            " 9   WT      40 non-null     float64\n",
            " 10  HT      40 non-null     float64\n",
            " 11  WAIST   40 non-null     float64\n",
            " 12  ARMC    40 non-null     float64\n",
            " 13  BMI     40 non-null     float64\n",
            "dtypes: float64(7), int64(7)\n",
            "memory usage: 4.5 KB\n"
          ]
        }
      ]
    },
    {
      "cell_type": "code",
      "source": [
        "#renomeando as colunas, temos:\n",
        "colunas = {'AGE':'Idade (anos)',\n",
        "           'PULSE':'Batimentos (bpm)',\n",
        "           'SYS':'PSist (mmHg)',\n",
        "           'DIAS':'PDiast (mmHg)',\n",
        "           'HDL':'Colesterol HDL (mg/dL)',\n",
        "           'LDL':'Colesterol LDL (mg/dL)',\n",
        "           'WHITE':'Células brancas sangue (1.000 cel/μL)',\n",
        "           'RED':'Células vermelhas sangue (1.000 cel/μL)',\n",
        "           'PLATE':'Plaquetas (1.000 cel/μL)',\n",
        "           'WT':'Peso (kg)',\n",
        "           'HT':'Altura (cm)',\n",
        "           'WAIST':'Circun cintura(cm)',\n",
        "           'ARMC':'Circun braco (cm)',\n",
        "           'BMI':'IMC (kg/m²)'}\n",
        "base_dados.rename(colunas, axis = 'columns', inplace = True)\n",
        "base_dados.head()"
      ],
      "metadata": {
        "colab": {
          "base_uri": "https://localhost:8080/",
          "height": 302
        },
        "id": "Gg73f5d_F7jw",
        "outputId": "46dc8776-27a6-4bd7-8f69-8e5a1c43ffaa"
      },
      "execution_count": null,
      "outputs": [
        {
          "output_type": "execute_result",
          "data": {
            "text/plain": [
              "   Idade (anos)  Batimentos (bpm)  PSist (mmHg)  PDiast (mmHg)  \\\n",
              "0            18                60           132             68   \n",
              "1            20                74           120             68   \n",
              "2            43                86           106             84   \n",
              "3            39                54           104             60   \n",
              "4            60                90           122             80   \n",
              "\n",
              "   Colesterol HDL (mg/dL)  Colesterol LDL (mg/dL)  \\\n",
              "0                      44                     213   \n",
              "1                      41                      88   \n",
              "2                      71                     174   \n",
              "3                      41                     121   \n",
              "4                      57                     124   \n",
              "\n",
              "   Células brancas sangue (1.000 cel/μL)  \\\n",
              "0                                    8.7   \n",
              "1                                    5.9   \n",
              "2                                    7.3   \n",
              "3                                    6.2   \n",
              "4                                    5.9   \n",
              "\n",
              "   Células vermelhas sangue (1.000 cel/μL)  Plaquetas (1.000 cel/μL)  \\\n",
              "0                                     4.91                       409   \n",
              "1                                     5.59                       187   \n",
              "2                                     4.44                       250   \n",
              "3                                     4.80                       273   \n",
              "4                                     5.17                       278   \n",
              "\n",
              "   Peso (kg)  Altura (cm)  Circun cintura(cm)  Circun braco (cm)  IMC (kg/m²)  \n",
              "0       64.4        178.8                81.4               28.4        20.14  \n",
              "1       61.8        177.5                74.8               26.8        19.62  \n",
              "2       78.5        187.8                84.1               32.3        22.26  \n",
              "3       86.3        172.4                95.5               39.0        29.04  \n",
              "4       73.1        181.7                90.1               29.4        22.14  "
            ],
            "text/html": [
              "\n",
              "  <div id=\"df-a77bd1e8-cd46-4034-b3f3-0d70f8c58995\">\n",
              "    <div class=\"colab-df-container\">\n",
              "      <div>\n",
              "<style scoped>\n",
              "    .dataframe tbody tr th:only-of-type {\n",
              "        vertical-align: middle;\n",
              "    }\n",
              "\n",
              "    .dataframe tbody tr th {\n",
              "        vertical-align: top;\n",
              "    }\n",
              "\n",
              "    .dataframe thead th {\n",
              "        text-align: right;\n",
              "    }\n",
              "</style>\n",
              "<table border=\"1\" class=\"dataframe\">\n",
              "  <thead>\n",
              "    <tr style=\"text-align: right;\">\n",
              "      <th></th>\n",
              "      <th>Idade (anos)</th>\n",
              "      <th>Batimentos (bpm)</th>\n",
              "      <th>PSist (mmHg)</th>\n",
              "      <th>PDiast (mmHg)</th>\n",
              "      <th>Colesterol HDL (mg/dL)</th>\n",
              "      <th>Colesterol LDL (mg/dL)</th>\n",
              "      <th>Células brancas sangue (1.000 cel/μL)</th>\n",
              "      <th>Células vermelhas sangue (1.000 cel/μL)</th>\n",
              "      <th>Plaquetas (1.000 cel/μL)</th>\n",
              "      <th>Peso (kg)</th>\n",
              "      <th>Altura (cm)</th>\n",
              "      <th>Circun cintura(cm)</th>\n",
              "      <th>Circun braco (cm)</th>\n",
              "      <th>IMC (kg/m²)</th>\n",
              "    </tr>\n",
              "  </thead>\n",
              "  <tbody>\n",
              "    <tr>\n",
              "      <th>0</th>\n",
              "      <td>18</td>\n",
              "      <td>60</td>\n",
              "      <td>132</td>\n",
              "      <td>68</td>\n",
              "      <td>44</td>\n",
              "      <td>213</td>\n",
              "      <td>8.7</td>\n",
              "      <td>4.91</td>\n",
              "      <td>409</td>\n",
              "      <td>64.4</td>\n",
              "      <td>178.8</td>\n",
              "      <td>81.4</td>\n",
              "      <td>28.4</td>\n",
              "      <td>20.14</td>\n",
              "    </tr>\n",
              "    <tr>\n",
              "      <th>1</th>\n",
              "      <td>20</td>\n",
              "      <td>74</td>\n",
              "      <td>120</td>\n",
              "      <td>68</td>\n",
              "      <td>41</td>\n",
              "      <td>88</td>\n",
              "      <td>5.9</td>\n",
              "      <td>5.59</td>\n",
              "      <td>187</td>\n",
              "      <td>61.8</td>\n",
              "      <td>177.5</td>\n",
              "      <td>74.8</td>\n",
              "      <td>26.8</td>\n",
              "      <td>19.62</td>\n",
              "    </tr>\n",
              "    <tr>\n",
              "      <th>2</th>\n",
              "      <td>43</td>\n",
              "      <td>86</td>\n",
              "      <td>106</td>\n",
              "      <td>84</td>\n",
              "      <td>71</td>\n",
              "      <td>174</td>\n",
              "      <td>7.3</td>\n",
              "      <td>4.44</td>\n",
              "      <td>250</td>\n",
              "      <td>78.5</td>\n",
              "      <td>187.8</td>\n",
              "      <td>84.1</td>\n",
              "      <td>32.3</td>\n",
              "      <td>22.26</td>\n",
              "    </tr>\n",
              "    <tr>\n",
              "      <th>3</th>\n",
              "      <td>39</td>\n",
              "      <td>54</td>\n",
              "      <td>104</td>\n",
              "      <td>60</td>\n",
              "      <td>41</td>\n",
              "      <td>121</td>\n",
              "      <td>6.2</td>\n",
              "      <td>4.80</td>\n",
              "      <td>273</td>\n",
              "      <td>86.3</td>\n",
              "      <td>172.4</td>\n",
              "      <td>95.5</td>\n",
              "      <td>39.0</td>\n",
              "      <td>29.04</td>\n",
              "    </tr>\n",
              "    <tr>\n",
              "      <th>4</th>\n",
              "      <td>60</td>\n",
              "      <td>90</td>\n",
              "      <td>122</td>\n",
              "      <td>80</td>\n",
              "      <td>57</td>\n",
              "      <td>124</td>\n",
              "      <td>5.9</td>\n",
              "      <td>5.17</td>\n",
              "      <td>278</td>\n",
              "      <td>73.1</td>\n",
              "      <td>181.7</td>\n",
              "      <td>90.1</td>\n",
              "      <td>29.4</td>\n",
              "      <td>22.14</td>\n",
              "    </tr>\n",
              "  </tbody>\n",
              "</table>\n",
              "</div>\n",
              "      <button class=\"colab-df-convert\" onclick=\"convertToInteractive('df-a77bd1e8-cd46-4034-b3f3-0d70f8c58995')\"\n",
              "              title=\"Convert this dataframe to an interactive table.\"\n",
              "              style=\"display:none;\">\n",
              "        \n",
              "  <svg xmlns=\"http://www.w3.org/2000/svg\" height=\"24px\"viewBox=\"0 0 24 24\"\n",
              "       width=\"24px\">\n",
              "    <path d=\"M0 0h24v24H0V0z\" fill=\"none\"/>\n",
              "    <path d=\"M18.56 5.44l.94 2.06.94-2.06 2.06-.94-2.06-.94-.94-2.06-.94 2.06-2.06.94zm-11 1L8.5 8.5l.94-2.06 2.06-.94-2.06-.94L8.5 2.5l-.94 2.06-2.06.94zm10 10l.94 2.06.94-2.06 2.06-.94-2.06-.94-.94-2.06-.94 2.06-2.06.94z\"/><path d=\"M17.41 7.96l-1.37-1.37c-.4-.4-.92-.59-1.43-.59-.52 0-1.04.2-1.43.59L10.3 9.45l-7.72 7.72c-.78.78-.78 2.05 0 2.83L4 21.41c.39.39.9.59 1.41.59.51 0 1.02-.2 1.41-.59l7.78-7.78 2.81-2.81c.8-.78.8-2.07 0-2.86zM5.41 20L4 18.59l7.72-7.72 1.47 1.35L5.41 20z\"/>\n",
              "  </svg>\n",
              "      </button>\n",
              "      \n",
              "  <style>\n",
              "    .colab-df-container {\n",
              "      display:flex;\n",
              "      flex-wrap:wrap;\n",
              "      gap: 12px;\n",
              "    }\n",
              "\n",
              "    .colab-df-convert {\n",
              "      background-color: #E8F0FE;\n",
              "      border: none;\n",
              "      border-radius: 50%;\n",
              "      cursor: pointer;\n",
              "      display: none;\n",
              "      fill: #1967D2;\n",
              "      height: 32px;\n",
              "      padding: 0 0 0 0;\n",
              "      width: 32px;\n",
              "    }\n",
              "\n",
              "    .colab-df-convert:hover {\n",
              "      background-color: #E2EBFA;\n",
              "      box-shadow: 0px 1px 2px rgba(60, 64, 67, 0.3), 0px 1px 3px 1px rgba(60, 64, 67, 0.15);\n",
              "      fill: #174EA6;\n",
              "    }\n",
              "\n",
              "    [theme=dark] .colab-df-convert {\n",
              "      background-color: #3B4455;\n",
              "      fill: #D2E3FC;\n",
              "    }\n",
              "\n",
              "    [theme=dark] .colab-df-convert:hover {\n",
              "      background-color: #434B5C;\n",
              "      box-shadow: 0px 1px 3px 1px rgba(0, 0, 0, 0.15);\n",
              "      filter: drop-shadow(0px 1px 2px rgba(0, 0, 0, 0.3));\n",
              "      fill: #FFFFFF;\n",
              "    }\n",
              "  </style>\n",
              "\n",
              "      <script>\n",
              "        const buttonEl =\n",
              "          document.querySelector('#df-a77bd1e8-cd46-4034-b3f3-0d70f8c58995 button.colab-df-convert');\n",
              "        buttonEl.style.display =\n",
              "          google.colab.kernel.accessAllowed ? 'block' : 'none';\n",
              "\n",
              "        async function convertToInteractive(key) {\n",
              "          const element = document.querySelector('#df-a77bd1e8-cd46-4034-b3f3-0d70f8c58995');\n",
              "          const dataTable =\n",
              "            await google.colab.kernel.invokeFunction('convertToInteractive',\n",
              "                                                     [key], {});\n",
              "          if (!dataTable) return;\n",
              "\n",
              "          const docLinkHtml = 'Like what you see? Visit the ' +\n",
              "            '<a target=\"_blank\" href=https://colab.research.google.com/notebooks/data_table.ipynb>data table notebook</a>'\n",
              "            + ' to learn more about interactive tables.';\n",
              "          element.innerHTML = '';\n",
              "          dataTable['output_type'] = 'display_data';\n",
              "          await google.colab.output.renderOutput(dataTable, element);\n",
              "          const docLink = document.createElement('div');\n",
              "          docLink.innerHTML = docLinkHtml;\n",
              "          element.appendChild(docLink);\n",
              "        }\n",
              "      </script>\n",
              "    </div>\n",
              "  </div>\n",
              "  "
            ]
          },
          "metadata": {},
          "execution_count": 113
        }
      ]
    },
    {
      "cell_type": "code",
      "source": [
        "#salvando os dados para utilizar em outros projetos\n",
        "base_dados.to_csv('medidas_corporais_homens.csv')"
      ],
      "metadata": {
        "id": "ozL-XtWUKn3E"
      },
      "execution_count": null,
      "outputs": []
    },
    {
      "cell_type": "code",
      "source": [
        "#calculando o menor valor do dataset\n",
        "base_dados['Batimentos (bpm)'].min()"
      ],
      "metadata": {
        "colab": {
          "base_uri": "https://localhost:8080/"
        },
        "id": "kuNWXQiZQ9wZ",
        "outputId": "6a626c16-9819-429a-d8be-30d26c2620d2"
      },
      "execution_count": null,
      "outputs": [
        {
          "output_type": "execute_result",
          "data": {
            "text/plain": [
              "46"
            ]
          },
          "metadata": {},
          "execution_count": 115
        }
      ]
    },
    {
      "cell_type": "code",
      "source": [
        "#calculando o maior valor do dataset\n",
        "base_dados['Batimentos (bpm)'].max()"
      ],
      "metadata": {
        "colab": {
          "base_uri": "https://localhost:8080/"
        },
        "id": "VW1x17_ZRCXL",
        "outputId": "03490c43-40c1-44a7-98fe-9eca3c2ec6d4"
      },
      "execution_count": null,
      "outputs": [
        {
          "output_type": "execute_result",
          "data": {
            "text/plain": [
              "90"
            ]
          },
          "metadata": {},
          "execution_count": 116
        }
      ]
    },
    {
      "cell_type": "code",
      "source": [
        "#definindo classes personalizadas para a construção da distribuição de frequência:\n",
        "#convenientemente definimos o valor mínimo de 40 para a primeira classe, logo, teremos 5 classes de amplitude fixa\n",
        "classes = [40,50,60,70,80,90]"
      ],
      "metadata": {
        "id": "_bnFSLlIRaQp"
      },
      "execution_count": null,
      "outputs": []
    },
    {
      "cell_type": "code",
      "source": [
        "#construindo a distribuição de frequências e frequências relativas, temos:\n",
        "frequencia = pd.value_counts(pd.cut(x = base_dados['Batimentos (bpm)'], bins = classes, include_lowest = True),\n",
        "                             sort = False)\n",
        "frequencia"
      ],
      "metadata": {
        "colab": {
          "base_uri": "https://localhost:8080/"
        },
        "id": "dm3nHOu2RaTW",
        "outputId": "776025d7-a47c-4020-9131-902cd99c3315"
      },
      "execution_count": null,
      "outputs": [
        {
          "output_type": "execute_result",
          "data": {
            "text/plain": [
              "(39.999, 50.0]     2\n",
              "(50.0, 60.0]      10\n",
              "(60.0, 70.0]      16\n",
              "(70.0, 80.0]       8\n",
              "(80.0, 90.0]       4\n",
              "Name: Batimentos (bpm), dtype: int64"
            ]
          },
          "metadata": {},
          "execution_count": 118
        }
      ]
    },
    {
      "cell_type": "code",
      "source": [
        "percentual = pd.value_counts(pd.cut(x = base_dados['Batimentos (bpm)'], bins = classes, include_lowest = True),\n",
        "                             sort = False, normalize = True) * 100\n",
        "percentual"
      ],
      "metadata": {
        "colab": {
          "base_uri": "https://localhost:8080/"
        },
        "id": "NhXVXQz3RaWN",
        "outputId": "0fd720cc-78cc-4147-bc96-dd5201032d6f"
      },
      "execution_count": null,
      "outputs": [
        {
          "output_type": "execute_result",
          "data": {
            "text/plain": [
              "(39.999, 50.0]     5.0\n",
              "(50.0, 60.0]      25.0\n",
              "(60.0, 70.0]      40.0\n",
              "(70.0, 80.0]      20.0\n",
              "(80.0, 90.0]      10.0\n",
              "Name: Batimentos (bpm), dtype: float64"
            ]
          },
          "metadata": {},
          "execution_count": 119
        }
      ]
    },
    {
      "cell_type": "code",
      "source": [
        "dist_freq = pd.DataFrame({'Frequência':frequencia,'Porcentagem (%)':percentual})\n",
        "dist_freq.rename_axis('Classes', axis = 'index', inplace = True)\n",
        "dist_freq"
      ],
      "metadata": {
        "colab": {
          "base_uri": "https://localhost:8080/",
          "height": 237
        },
        "id": "CuLc3gZWRaYq",
        "outputId": "f09a60b8-ba86-4c9e-c0b9-62ddadd7bd10"
      },
      "execution_count": null,
      "outputs": [
        {
          "output_type": "execute_result",
          "data": {
            "text/plain": [
              "                Frequência  Porcentagem (%)\n",
              "Classes                                    \n",
              "(39.999, 50.0]           2              5.0\n",
              "(50.0, 60.0]            10             25.0\n",
              "(60.0, 70.0]            16             40.0\n",
              "(70.0, 80.0]             8             20.0\n",
              "(80.0, 90.0]             4             10.0"
            ],
            "text/html": [
              "\n",
              "  <div id=\"df-032de84f-dda3-440f-8200-008d545dab72\">\n",
              "    <div class=\"colab-df-container\">\n",
              "      <div>\n",
              "<style scoped>\n",
              "    .dataframe tbody tr th:only-of-type {\n",
              "        vertical-align: middle;\n",
              "    }\n",
              "\n",
              "    .dataframe tbody tr th {\n",
              "        vertical-align: top;\n",
              "    }\n",
              "\n",
              "    .dataframe thead th {\n",
              "        text-align: right;\n",
              "    }\n",
              "</style>\n",
              "<table border=\"1\" class=\"dataframe\">\n",
              "  <thead>\n",
              "    <tr style=\"text-align: right;\">\n",
              "      <th></th>\n",
              "      <th>Frequência</th>\n",
              "      <th>Porcentagem (%)</th>\n",
              "    </tr>\n",
              "    <tr>\n",
              "      <th>Classes</th>\n",
              "      <th></th>\n",
              "      <th></th>\n",
              "    </tr>\n",
              "  </thead>\n",
              "  <tbody>\n",
              "    <tr>\n",
              "      <th>(39.999, 50.0]</th>\n",
              "      <td>2</td>\n",
              "      <td>5.0</td>\n",
              "    </tr>\n",
              "    <tr>\n",
              "      <th>(50.0, 60.0]</th>\n",
              "      <td>10</td>\n",
              "      <td>25.0</td>\n",
              "    </tr>\n",
              "    <tr>\n",
              "      <th>(60.0, 70.0]</th>\n",
              "      <td>16</td>\n",
              "      <td>40.0</td>\n",
              "    </tr>\n",
              "    <tr>\n",
              "      <th>(70.0, 80.0]</th>\n",
              "      <td>8</td>\n",
              "      <td>20.0</td>\n",
              "    </tr>\n",
              "    <tr>\n",
              "      <th>(80.0, 90.0]</th>\n",
              "      <td>4</td>\n",
              "      <td>10.0</td>\n",
              "    </tr>\n",
              "  </tbody>\n",
              "</table>\n",
              "</div>\n",
              "      <button class=\"colab-df-convert\" onclick=\"convertToInteractive('df-032de84f-dda3-440f-8200-008d545dab72')\"\n",
              "              title=\"Convert this dataframe to an interactive table.\"\n",
              "              style=\"display:none;\">\n",
              "        \n",
              "  <svg xmlns=\"http://www.w3.org/2000/svg\" height=\"24px\"viewBox=\"0 0 24 24\"\n",
              "       width=\"24px\">\n",
              "    <path d=\"M0 0h24v24H0V0z\" fill=\"none\"/>\n",
              "    <path d=\"M18.56 5.44l.94 2.06.94-2.06 2.06-.94-2.06-.94-.94-2.06-.94 2.06-2.06.94zm-11 1L8.5 8.5l.94-2.06 2.06-.94-2.06-.94L8.5 2.5l-.94 2.06-2.06.94zm10 10l.94 2.06.94-2.06 2.06-.94-2.06-.94-.94-2.06-.94 2.06-2.06.94z\"/><path d=\"M17.41 7.96l-1.37-1.37c-.4-.4-.92-.59-1.43-.59-.52 0-1.04.2-1.43.59L10.3 9.45l-7.72 7.72c-.78.78-.78 2.05 0 2.83L4 21.41c.39.39.9.59 1.41.59.51 0 1.02-.2 1.41-.59l7.78-7.78 2.81-2.81c.8-.78.8-2.07 0-2.86zM5.41 20L4 18.59l7.72-7.72 1.47 1.35L5.41 20z\"/>\n",
              "  </svg>\n",
              "      </button>\n",
              "      \n",
              "  <style>\n",
              "    .colab-df-container {\n",
              "      display:flex;\n",
              "      flex-wrap:wrap;\n",
              "      gap: 12px;\n",
              "    }\n",
              "\n",
              "    .colab-df-convert {\n",
              "      background-color: #E8F0FE;\n",
              "      border: none;\n",
              "      border-radius: 50%;\n",
              "      cursor: pointer;\n",
              "      display: none;\n",
              "      fill: #1967D2;\n",
              "      height: 32px;\n",
              "      padding: 0 0 0 0;\n",
              "      width: 32px;\n",
              "    }\n",
              "\n",
              "    .colab-df-convert:hover {\n",
              "      background-color: #E2EBFA;\n",
              "      box-shadow: 0px 1px 2px rgba(60, 64, 67, 0.3), 0px 1px 3px 1px rgba(60, 64, 67, 0.15);\n",
              "      fill: #174EA6;\n",
              "    }\n",
              "\n",
              "    [theme=dark] .colab-df-convert {\n",
              "      background-color: #3B4455;\n",
              "      fill: #D2E3FC;\n",
              "    }\n",
              "\n",
              "    [theme=dark] .colab-df-convert:hover {\n",
              "      background-color: #434B5C;\n",
              "      box-shadow: 0px 1px 3px 1px rgba(0, 0, 0, 0.15);\n",
              "      filter: drop-shadow(0px 1px 2px rgba(0, 0, 0, 0.3));\n",
              "      fill: #FFFFFF;\n",
              "    }\n",
              "  </style>\n",
              "\n",
              "      <script>\n",
              "        const buttonEl =\n",
              "          document.querySelector('#df-032de84f-dda3-440f-8200-008d545dab72 button.colab-df-convert');\n",
              "        buttonEl.style.display =\n",
              "          google.colab.kernel.accessAllowed ? 'block' : 'none';\n",
              "\n",
              "        async function convertToInteractive(key) {\n",
              "          const element = document.querySelector('#df-032de84f-dda3-440f-8200-008d545dab72');\n",
              "          const dataTable =\n",
              "            await google.colab.kernel.invokeFunction('convertToInteractive',\n",
              "                                                     [key], {});\n",
              "          if (!dataTable) return;\n",
              "\n",
              "          const docLinkHtml = 'Like what you see? Visit the ' +\n",
              "            '<a target=\"_blank\" href=https://colab.research.google.com/notebooks/data_table.ipynb>data table notebook</a>'\n",
              "            + ' to learn more about interactive tables.';\n",
              "          element.innerHTML = '';\n",
              "          dataTable['output_type'] = 'display_data';\n",
              "          await google.colab.output.renderOutput(dataTable, element);\n",
              "          const docLink = document.createElement('div');\n",
              "          docLink.innerHTML = docLinkHtml;\n",
              "          element.appendChild(docLink);\n",
              "        }\n",
              "      </script>\n",
              "    </div>\n",
              "  </div>\n",
              "  "
            ]
          },
          "metadata": {},
          "execution_count": 120
        }
      ]
    },
    {
      "cell_type": "markdown",
      "source": [
        "Para visualizar a distribuição dos dados contruímos um histograma:"
      ],
      "metadata": {
        "id": "MuifcV79NBkQ"
      }
    },
    {
      "cell_type": "code",
      "source": [
        "classes = [40,50.01,60.01,70.01,80.01,90.01]"
      ],
      "metadata": {
        "id": "53KTz-QDQRwh"
      },
      "execution_count": null,
      "outputs": []
    },
    {
      "cell_type": "code",
      "source": [
        "#Construindo um histograma para observar graficamente a distribuição dos dados, temos:\n",
        "ax = sns.histplot(base_dados['Batimentos (bpm)'],bins = classes)\n",
        "ax.figure.set_size_inches(12,6)\n",
        "ax.set_title('Distribuição de frequências - taxa pulsação homens', fontsize = 18)\n",
        "ax.set_xlabel('batimentos (bpm)', fontsize = 14)\n",
        "ax.set_ylabel('Frequência', fontsize = 14)\n",
        "ax"
      ],
      "metadata": {
        "colab": {
          "base_uri": "https://localhost:8080/",
          "height": 431
        },
        "id": "EBb_YhMINIFJ",
        "outputId": "05605531-78d4-43de-ec4e-0c81efc77d1e"
      },
      "execution_count": null,
      "outputs": [
        {
          "output_type": "execute_result",
          "data": {
            "text/plain": [
              "<matplotlib.axes._subplots.AxesSubplot at 0x7fbfebac0f10>"
            ]
          },
          "metadata": {},
          "execution_count": 128
        },
        {
          "output_type": "display_data",
          "data": {
            "text/plain": [
              "<Figure size 864x432 with 1 Axes>"
            ],
            "image/png": "[encoded data removed]"
          },
          "metadata": {
            "needs_background": "light"
          }
        }
      ]
    },
    {
      "cell_type": "code",
      "source": [
        "#Construindo um histograma de frequência relativa para observar graficamente a distribuição dos dados, temos:\n",
        "ax = sns.histplot(base_dados['Batimentos (bpm)'],bins = classes, stat = 'percent')\n",
        "ax.figure.set_size_inches(12,6)\n",
        "ax.set_title('Distribuição de frequências relativas - taxa pulsação homens', fontsize = 18)\n",
        "ax.set_xlabel('batimentos (bpm)', fontsize = 14)\n",
        "ax.set_ylabel('Frequência', fontsize = 14)\n",
        "ax"
      ],
      "metadata": {
        "colab": {
          "base_uri": "https://localhost:8080/",
          "height": 431
        },
        "id": "fh4cI76HaS-9",
        "outputId": "1a6a6c97-5648-4672-f56a-7f89222bf546"
      },
      "execution_count": null,
      "outputs": [
        {
          "output_type": "execute_result",
          "data": {
            "text/plain": [
              "<matplotlib.axes._subplots.AxesSubplot at 0x7fbfebaf4e50>"
            ]
          },
          "metadata": {},
          "execution_count": 129
        },
        {
          "output_type": "display_data",
          "data": {
            "text/plain": [
              "<Figure size 864x432 with 1 Axes>"
            ],
            "image/png": "[encoded data removed]"
          },
          "metadata": {
            "needs_background": "light"
          }
        }
      ]
    },
    {
      "cell_type": "code",
      "source": [
        "base_dados['Batimentos (bpm)'].mean()"
      ],
      "metadata": {
        "colab": {
          "base_uri": "https://localhost:8080/"
        },
        "id": "RFHMTcSzN7kB",
        "outputId": "e95e96d0-8a17-44ff-86c8-ac19d8a73b72"
      },
      "execution_count": null,
      "outputs": [
        {
          "output_type": "execute_result",
          "data": {
            "text/plain": [
              "67.25"
            ]
          },
          "metadata": {},
          "execution_count": 126
        }
      ]
    },
    {
      "cell_type": "markdown",
      "source": [
        "**Conclusão sobre taxa de pulsação de homens**\n",
        "\n",
        "A partir da distribuição de frequência e do histograma, podemos concluir que os dados de taxa de pulsação (batimentos por minuto) apresentam uma distribuição aproximadamente normal (distribuição com forma de sino), pois as (1)frequências crescem até um máximo e depois descrescem; (2) o histograma apresenta uma simetria, ou seja, a metade esquerda é aproximadamente uma imagem espelhada da metade direita. Além disso, os dados se concentram em torno de 50 à 80 batimentos por minuto, com uma média de batimentos de 67.25 batimentos por minuto. Ademais, os dados se distribuem entre 40 e 90 bpm e não apresentam outliers."
      ],
      "metadata": {
        "id": "e_a3le-DNX9A"
      }
    },
    {
      "cell_type": "markdown",
      "source": [
        "## Problema 22 - Taxas de Pulsação de Mulheres\n",
        "\n",
        "Consulte o Conjunto de Dados 1 no Apêndice B e use as taxas de pulsação\n",
        "(batimentos por minuto) de mulheres. Comece com um limite inferior de classe de 50 e use uma amplitude de classe de 10. Compare essa distribuição de frequência à encontrada no exercício anterior. Há uma diferença notável entre as taxas\n",
        "de pulsação de homens e mulheres?\n"
      ],
      "metadata": {
        "id": "5Eh9Hi_NQh_u"
      }
    },
    {
      "cell_type": "code",
      "source": [
        "#abrindo o dataset de dados de taxa de pulsação de mulheres, temos:\n",
        "base_dados = pd.read_csv('FBODY.csv')\n",
        "base_dados.head()"
      ],
      "metadata": {
        "colab": {
          "base_uri": "https://localhost:8080/",
          "height": 206
        },
        "id": "2ARPAOQEQUSX",
        "outputId": "073ba904-e7f8-41d0-bd34-1145467ea836"
      },
      "execution_count": null,
      "outputs": [
        {
          "output_type": "execute_result",
          "data": {
            "text/plain": [
              "   AGE  PULSE  SYS  DIAS  HDL  LDL  WHITE   RED  PLATE    WT     HT  WAIST  \\\n",
              "0   60     78  122    60   74  140    9.6  4.70    317  59.3  163.7   82.3   \n",
              "1   24     80  120    64   56  142    7.1  4.64    224  74.5  165.5   88.5   \n",
              "2   49     68   90    48   70   72    7.5  4.61    248  77.7  163.1   94.9   \n",
              "3   62     56  150    80   40  164    6.8  4.09    309  97.9  166.3  111.8   \n",
              "4   53     76  132    58   67  109    5.6  4.36    335  71.7  163.6   86.5   \n",
              "\n",
              "   ARMC    BMI  \n",
              "0  27.5  22.13  \n",
              "1  30.0  27.20  \n",
              "2  34.4  29.21  \n",
              "3  38.7  35.40  \n",
              "4  32.2  26.79  "
            ],
            "text/html": [
              "\n",
              "  <div id=\"df-52a23dba-b3f0-4bf8-a94f-f2c1f32b32d2\">\n",
              "    <div class=\"colab-df-container\">\n",
              "      <div>\n",
              "<style scoped>\n",
              "    .dataframe tbody tr th:only-of-type {\n",
              "        vertical-align: middle;\n",
              "    }\n",
              "\n",
              "    .dataframe tbody tr th {\n",
              "        vertical-align: top;\n",
              "    }\n",
              "\n",
              "    .dataframe thead th {\n",
              "        text-align: right;\n",
              "    }\n",
              "</style>\n",
              "<table border=\"1\" class=\"dataframe\">\n",
              "  <thead>\n",
              "    <tr style=\"text-align: right;\">\n",
              "      <th></th>\n",
              "      <th>AGE</th>\n",
              "      <th>PULSE</th>\n",
              "      <th>SYS</th>\n",
              "      <th>DIAS</th>\n",
              "      <th>HDL</th>\n",
              "      <th>LDL</th>\n",
              "      <th>WHITE</th>\n",
              "      <th>RED</th>\n",
              "      <th>PLATE</th>\n",
              "      <th>WT</th>\n",
              "      <th>HT</th>\n",
              "      <th>WAIST</th>\n",
              "      <th>ARMC</th>\n",
              "      <th>BMI</th>\n",
              "    </tr>\n",
              "  </thead>\n",
              "  <tbody>\n",
              "    <tr>\n",
              "      <th>0</th>\n",
              "      <td>60</td>\n",
              "      <td>78</td>\n",
              "      <td>122</td>\n",
              "      <td>60</td>\n",
              "      <td>74</td>\n",
              "      <td>140</td>\n",
              "      <td>9.6</td>\n",
              "      <td>4.70</td>\n",
              "      <td>317</td>\n",
              "      <td>59.3</td>\n",
              "      <td>163.7</td>\n",
              "      <td>82.3</td>\n",
              "      <td>27.5</td>\n",
              "      <td>22.13</td>\n",
              "    </tr>\n",
              "    <tr>\n",
              "      <th>1</th>\n",
              "      <td>24</td>\n",
              "      <td>80</td>\n",
              "      <td>120</td>\n",
              "      <td>64</td>\n",
              "      <td>56</td>\n",
              "      <td>142</td>\n",
              "      <td>7.1</td>\n",
              "      <td>4.64</td>\n",
              "      <td>224</td>\n",
              "      <td>74.5</td>\n",
              "      <td>165.5</td>\n",
              "      <td>88.5</td>\n",
              "      <td>30.0</td>\n",
              "      <td>27.20</td>\n",
              "    </tr>\n",
              "    <tr>\n",
              "      <th>2</th>\n",
              "      <td>49</td>\n",
              "      <td>68</td>\n",
              "      <td>90</td>\n",
              "      <td>48</td>\n",
              "      <td>70</td>\n",
              "      <td>72</td>\n",
              "      <td>7.5</td>\n",
              "      <td>4.61</td>\n",
              "      <td>248</td>\n",
              "      <td>77.7</td>\n",
              "      <td>163.1</td>\n",
              "      <td>94.9</td>\n",
              "      <td>34.4</td>\n",
              "      <td>29.21</td>\n",
              "    </tr>\n",
              "    <tr>\n",
              "      <th>3</th>\n",
              "      <td>62</td>\n",
              "      <td>56</td>\n",
              "      <td>150</td>\n",
              "      <td>80</td>\n",
              "      <td>40</td>\n",
              "      <td>164</td>\n",
              "      <td>6.8</td>\n",
              "      <td>4.09</td>\n",
              "      <td>309</td>\n",
              "      <td>97.9</td>\n",
              "      <td>166.3</td>\n",
              "      <td>111.8</td>\n",
              "      <td>38.7</td>\n",
              "      <td>35.40</td>\n",
              "    </tr>\n",
              "    <tr>\n",
              "      <th>4</th>\n",
              "      <td>53</td>\n",
              "      <td>76</td>\n",
              "      <td>132</td>\n",
              "      <td>58</td>\n",
              "      <td>67</td>\n",
              "      <td>109</td>\n",
              "      <td>5.6</td>\n",
              "      <td>4.36</td>\n",
              "      <td>335</td>\n",
              "      <td>71.7</td>\n",
              "      <td>163.6</td>\n",
              "      <td>86.5</td>\n",
              "      <td>32.2</td>\n",
              "      <td>26.79</td>\n",
              "    </tr>\n",
              "  </tbody>\n",
              "</table>\n",
              "</div>\n",
              "      <button class=\"colab-df-convert\" onclick=\"convertToInteractive('df-52a23dba-b3f0-4bf8-a94f-f2c1f32b32d2')\"\n",
              "              title=\"Convert this dataframe to an interactive table.\"\n",
              "              style=\"display:none;\">\n",
              "        \n",
              "  <svg xmlns=\"http://www.w3.org/2000/svg\" height=\"24px\"viewBox=\"0 0 24 24\"\n",
              "       width=\"24px\">\n",
              "    <path d=\"M0 0h24v24H0V0z\" fill=\"none\"/>\n",
              "    <path d=\"M18.56 5.44l.94 2.06.94-2.06 2.06-.94-2.06-.94-.94-2.06-.94 2.06-2.06.94zm-11 1L8.5 8.5l.94-2.06 2.06-.94-2.06-.94L8.5 2.5l-.94 2.06-2.06.94zm10 10l.94 2.06.94-2.06 2.06-.94-2.06-.94-.94-2.06-.94 2.06-2.06.94z\"/><path d=\"M17.41 7.96l-1.37-1.37c-.4-.4-.92-.59-1.43-.59-.52 0-1.04.2-1.43.59L10.3 9.45l-7.72 7.72c-.78.78-.78 2.05 0 2.83L4 21.41c.39.39.9.59 1.41.59.51 0 1.02-.2 1.41-.59l7.78-7.78 2.81-2.81c.8-.78.8-2.07 0-2.86zM5.41 20L4 18.59l7.72-7.72 1.47 1.35L5.41 20z\"/>\n",
              "  </svg>\n",
              "      </button>\n",
              "      \n",
              "  <style>\n",
              "    .colab-df-container {\n",
              "      display:flex;\n",
              "      flex-wrap:wrap;\n",
              "      gap: 12px;\n",
              "    }\n",
              "\n",
              "    .colab-df-convert {\n",
              "      background-color: #E8F0FE;\n",
              "      border: none;\n",
              "      border-radius: 50%;\n",
              "      cursor: pointer;\n",
              "      display: none;\n",
              "      fill: #1967D2;\n",
              "      height: 32px;\n",
              "      padding: 0 0 0 0;\n",
              "      width: 32px;\n",
              "    }\n",
              "\n",
              "    .colab-df-convert:hover {\n",
              "      background-color: #E2EBFA;\n",
              "      box-shadow: 0px 1px 2px rgba(60, 64, 67, 0.3), 0px 1px 3px 1px rgba(60, 64, 67, 0.15);\n",
              "      fill: #174EA6;\n",
              "    }\n",
              "\n",
              "    [theme=dark] .colab-df-convert {\n",
              "      background-color: #3B4455;\n",
              "      fill: #D2E3FC;\n",
              "    }\n",
              "\n",
              "    [theme=dark] .colab-df-convert:hover {\n",
              "      background-color: #434B5C;\n",
              "      box-shadow: 0px 1px 3px 1px rgba(0, 0, 0, 0.15);\n",
              "      filter: drop-shadow(0px 1px 2px rgba(0, 0, 0, 0.3));\n",
              "      fill: #FFFFFF;\n",
              "    }\n",
              "  </style>\n",
              "\n",
              "      <script>\n",
              "        const buttonEl =\n",
              "          document.querySelector('#df-52a23dba-b3f0-4bf8-a94f-f2c1f32b32d2 button.colab-df-convert');\n",
              "        buttonEl.style.display =\n",
              "          google.colab.kernel.accessAllowed ? 'block' : 'none';\n",
              "\n",
              "        async function convertToInteractive(key) {\n",
              "          const element = document.querySelector('#df-52a23dba-b3f0-4bf8-a94f-f2c1f32b32d2');\n",
              "          const dataTable =\n",
              "            await google.colab.kernel.invokeFunction('convertToInteractive',\n",
              "                                                     [key], {});\n",
              "          if (!dataTable) return;\n",
              "\n",
              "          const docLinkHtml = 'Like what you see? Visit the ' +\n",
              "            '<a target=\"_blank\" href=https://colab.research.google.com/notebooks/data_table.ipynb>data table notebook</a>'\n",
              "            + ' to learn more about interactive tables.';\n",
              "          element.innerHTML = '';\n",
              "          dataTable['output_type'] = 'display_data';\n",
              "          await google.colab.output.renderOutput(dataTable, element);\n",
              "          const docLink = document.createElement('div');\n",
              "          docLink.innerHTML = docLinkHtml;\n",
              "          element.appendChild(docLink);\n",
              "        }\n",
              "      </script>\n",
              "    </div>\n",
              "  </div>\n",
              "  "
            ]
          },
          "metadata": {},
          "execution_count": 130
        }
      ]
    },
    {
      "cell_type": "code",
      "source": [
        "#Renomeando as colunas, temos:\n",
        "#passamos um dicionário onde as chaves são os nomes atuais e os valores são os novos nomes\n",
        "colunas = {'AGE':'Idade (anos)',\n",
        "           'PULSE':'Batimentos (bpm)',\n",
        "           'SYS':'PSist (mmHg)',\n",
        "           'DIAS':'PDiast (mmHg)',\n",
        "           'HDL':'Colesterol HDL (mg/dL)',\n",
        "           'LDL':'Colesterol LDL (mg/dL)',\n",
        "           'WHITE':'Células brancas sangue (1.000 cel/μL)',\n",
        "           'RED':'Células vermelhas sangue (1.000 cel/μL)',\n",
        "           'PLATE':'Plaquetas (1.000 cel/μL)',\n",
        "           'WT':'Peso (kg)',\n",
        "           'HT':'Altura (cm)',\n",
        "           'WAIST':'Circun cintura (cm)',\n",
        "           'ARMC':'Circun braco (cm)',\n",
        "           'BMI':'IMC (kg/m²)'}\n",
        "base_dados.rename(colunas, axis = 'columns', inplace = True)\n",
        "base_dados.head()"
      ],
      "metadata": {
        "colab": {
          "base_uri": "https://localhost:8080/",
          "height": 302
        },
        "id": "J7nGSXQKT1WD",
        "outputId": "fc3ca161-247d-4bfc-b103-2c616c720e01"
      },
      "execution_count": null,
      "outputs": [
        {
          "output_type": "execute_result",
          "data": {
            "text/plain": [
              "   Idade (anos)  Batimentos (bpm)  PSist (mmHg)  PDiast (mmHg)  \\\n",
              "0            60                78           122             60   \n",
              "1            24                80           120             64   \n",
              "2            49                68            90             48   \n",
              "3            62                56           150             80   \n",
              "4            53                76           132             58   \n",
              "\n",
              "   Colesterol HDL (mg/dL)  Colesterol LDL (mg/dL)  \\\n",
              "0                      74                     140   \n",
              "1                      56                     142   \n",
              "2                      70                      72   \n",
              "3                      40                     164   \n",
              "4                      67                     109   \n",
              "\n",
              "   Células brancas sangue (1.000 cel/μL)  \\\n",
              "0                                    9.6   \n",
              "1                                    7.1   \n",
              "2                                    7.5   \n",
              "3                                    6.8   \n",
              "4                                    5.6   \n",
              "\n",
              "   Células vermelhas sangue (1.000 cel/μL)  Plaquetas (1.000 cel/μL)  \\\n",
              "0                                     4.70                       317   \n",
              "1                                     4.64                       224   \n",
              "2                                     4.61                       248   \n",
              "3                                     4.09                       309   \n",
              "4                                     4.36                       335   \n",
              "\n",
              "   Peso (kg)  Altura (cm)  Circun cintura (cm)  Circun braco (cm)  IMC (kg/m²)  \n",
              "0       59.3        163.7                 82.3               27.5        22.13  \n",
              "1       74.5        165.5                 88.5               30.0        27.20  \n",
              "2       77.7        163.1                 94.9               34.4        29.21  \n",
              "3       97.9        166.3                111.8               38.7        35.40  \n",
              "4       71.7        163.6                 86.5               32.2        26.79  "
            ],
            "text/html": [
              "\n",
              "  <div id=\"df-eac15639-fbb4-469e-9ee1-2dd295e9112d\">\n",
              "    <div class=\"colab-df-container\">\n",
              "      <div>\n",
              "<style scoped>\n",
              "    .dataframe tbody tr th:only-of-type {\n",
              "        vertical-align: middle;\n",
              "    }\n",
              "\n",
              "    .dataframe tbody tr th {\n",
              "        vertical-align: top;\n",
              "    }\n",
              "\n",
              "    .dataframe thead th {\n",
              "        text-align: right;\n",
              "    }\n",
              "</style>\n",
              "<table border=\"1\" class=\"dataframe\">\n",
              "  <thead>\n",
              "    <tr style=\"text-align: right;\">\n",
              "      <th></th>\n",
              "      <th>Idade (anos)</th>\n",
              "      <th>Batimentos (bpm)</th>\n",
              "      <th>PSist (mmHg)</th>\n",
              "      <th>PDiast (mmHg)</th>\n",
              "      <th>Colesterol HDL (mg/dL)</th>\n",
              "      <th>Colesterol LDL (mg/dL)</th>\n",
              "      <th>Células brancas sangue (1.000 cel/μL)</th>\n",
              "      <th>Células vermelhas sangue (1.000 cel/μL)</th>\n",
              "      <th>Plaquetas (1.000 cel/μL)</th>\n",
              "      <th>Peso (kg)</th>\n",
              "      <th>Altura (cm)</th>\n",
              "      <th>Circun cintura (cm)</th>\n",
              "      <th>Circun braco (cm)</th>\n",
              "      <th>IMC (kg/m²)</th>\n",
              "    </tr>\n",
              "  </thead>\n",
              "  <tbody>\n",
              "    <tr>\n",
              "      <th>0</th>\n",
              "      <td>60</td>\n",
              "      <td>78</td>\n",
              "      <td>122</td>\n",
              "      <td>60</td>\n",
              "      <td>74</td>\n",
              "      <td>140</td>\n",
              "      <td>9.6</td>\n",
              "      <td>4.70</td>\n",
              "      <td>317</td>\n",
              "      <td>59.3</td>\n",
              "      <td>163.7</td>\n",
              "      <td>82.3</td>\n",
              "      <td>27.5</td>\n",
              "      <td>22.13</td>\n",
              "    </tr>\n",
              "    <tr>\n",
              "      <th>1</th>\n",
              "      <td>24</td>\n",
              "      <td>80</td>\n",
              "      <td>120</td>\n",
              "      <td>64</td>\n",
              "      <td>56</td>\n",
              "      <td>142</td>\n",
              "      <td>7.1</td>\n",
              "      <td>4.64</td>\n",
              "      <td>224</td>\n",
              "      <td>74.5</td>\n",
              "      <td>165.5</td>\n",
              "      <td>88.5</td>\n",
              "      <td>30.0</td>\n",
              "      <td>27.20</td>\n",
              "    </tr>\n",
              "    <tr>\n",
              "      <th>2</th>\n",
              "      <td>49</td>\n",
              "      <td>68</td>\n",
              "      <td>90</td>\n",
              "      <td>48</td>\n",
              "      <td>70</td>\n",
              "      <td>72</td>\n",
              "      <td>7.5</td>\n",
              "      <td>4.61</td>\n",
              "      <td>248</td>\n",
              "      <td>77.7</td>\n",
              "      <td>163.1</td>\n",
              "      <td>94.9</td>\n",
              "      <td>34.4</td>\n",
              "      <td>29.21</td>\n",
              "    </tr>\n",
              "    <tr>\n",
              "      <th>3</th>\n",
              "      <td>62</td>\n",
              "      <td>56</td>\n",
              "      <td>150</td>\n",
              "      <td>80</td>\n",
              "      <td>40</td>\n",
              "      <td>164</td>\n",
              "      <td>6.8</td>\n",
              "      <td>4.09</td>\n",
              "      <td>309</td>\n",
              "      <td>97.9</td>\n",
              "      <td>166.3</td>\n",
              "      <td>111.8</td>\n",
              "      <td>38.7</td>\n",
              "      <td>35.40</td>\n",
              "    </tr>\n",
              "    <tr>\n",
              "      <th>4</th>\n",
              "      <td>53</td>\n",
              "      <td>76</td>\n",
              "      <td>132</td>\n",
              "      <td>58</td>\n",
              "      <td>67</td>\n",
              "      <td>109</td>\n",
              "      <td>5.6</td>\n",
              "      <td>4.36</td>\n",
              "      <td>335</td>\n",
              "      <td>71.7</td>\n",
              "      <td>163.6</td>\n",
              "      <td>86.5</td>\n",
              "      <td>32.2</td>\n",
              "      <td>26.79</td>\n",
              "    </tr>\n",
              "  </tbody>\n",
              "</table>\n",
              "</div>\n",
              "      <button class=\"colab-df-convert\" onclick=\"convertToInteractive('df-eac15639-fbb4-469e-9ee1-2dd295e9112d')\"\n",
              "              title=\"Convert this dataframe to an interactive table.\"\n",
              "              style=\"display:none;\">\n",
              "        \n",
              "  <svg xmlns=\"http://www.w3.org/2000/svg\" height=\"24px\"viewBox=\"0 0 24 24\"\n",
              "       width=\"24px\">\n",
              "    <path d=\"M0 0h24v24H0V0z\" fill=\"none\"/>\n",
              "    <path d=\"M18.56 5.44l.94 2.06.94-2.06 2.06-.94-2.06-.94-.94-2.06-.94 2.06-2.06.94zm-11 1L8.5 8.5l.94-2.06 2.06-.94-2.06-.94L8.5 2.5l-.94 2.06-2.06.94zm10 10l.94 2.06.94-2.06 2.06-.94-2.06-.94-.94-2.06-.94 2.06-2.06.94z\"/><path d=\"M17.41 7.96l-1.37-1.37c-.4-.4-.92-.59-1.43-.59-.52 0-1.04.2-1.43.59L10.3 9.45l-7.72 7.72c-.78.78-.78 2.05 0 2.83L4 21.41c.39.39.9.59 1.41.59.51 0 1.02-.2 1.41-.59l7.78-7.78 2.81-2.81c.8-.78.8-2.07 0-2.86zM5.41 20L4 18.59l7.72-7.72 1.47 1.35L5.41 20z\"/>\n",
              "  </svg>\n",
              "      </button>\n",
              "      \n",
              "  <style>\n",
              "    .colab-df-container {\n",
              "      display:flex;\n",
              "      flex-wrap:wrap;\n",
              "      gap: 12px;\n",
              "    }\n",
              "\n",
              "    .colab-df-convert {\n",
              "      background-color: #E8F0FE;\n",
              "      border: none;\n",
              "      border-radius: 50%;\n",
              "      cursor: pointer;\n",
              "      display: none;\n",
              "      fill: #1967D2;\n",
              "      height: 32px;\n",
              "      padding: 0 0 0 0;\n",
              "      width: 32px;\n",
              "    }\n",
              "\n",
              "    .colab-df-convert:hover {\n",
              "      background-color: #E2EBFA;\n",
              "      box-shadow: 0px 1px 2px rgba(60, 64, 67, 0.3), 0px 1px 3px 1px rgba(60, 64, 67, 0.15);\n",
              "      fill: #174EA6;\n",
              "    }\n",
              "\n",
              "    [theme=dark] .colab-df-convert {\n",
              "      background-color: #3B4455;\n",
              "      fill: #D2E3FC;\n",
              "    }\n",
              "\n",
              "    [theme=dark] .colab-df-convert:hover {\n",
              "      background-color: #434B5C;\n",
              "      box-shadow: 0px 1px 3px 1px rgba(0, 0, 0, 0.15);\n",
              "      filter: drop-shadow(0px 1px 2px rgba(0, 0, 0, 0.3));\n",
              "      fill: #FFFFFF;\n",
              "    }\n",
              "  </style>\n",
              "\n",
              "      <script>\n",
              "        const buttonEl =\n",
              "          document.querySelector('#df-eac15639-fbb4-469e-9ee1-2dd295e9112d button.colab-df-convert');\n",
              "        buttonEl.style.display =\n",
              "          google.colab.kernel.accessAllowed ? 'block' : 'none';\n",
              "\n",
              "        async function convertToInteractive(key) {\n",
              "          const element = document.querySelector('#df-eac15639-fbb4-469e-9ee1-2dd295e9112d');\n",
              "          const dataTable =\n",
              "            await google.colab.kernel.invokeFunction('convertToInteractive',\n",
              "                                                     [key], {});\n",
              "          if (!dataTable) return;\n",
              "\n",
              "          const docLinkHtml = 'Like what you see? Visit the ' +\n",
              "            '<a target=\"_blank\" href=https://colab.research.google.com/notebooks/data_table.ipynb>data table notebook</a>'\n",
              "            + ' to learn more about interactive tables.';\n",
              "          element.innerHTML = '';\n",
              "          dataTable['output_type'] = 'display_data';\n",
              "          await google.colab.output.renderOutput(dataTable, element);\n",
              "          const docLink = document.createElement('div');\n",
              "          docLink.innerHTML = docLinkHtml;\n",
              "          element.appendChild(docLink);\n",
              "        }\n",
              "      </script>\n",
              "    </div>\n",
              "  </div>\n",
              "  "
            ]
          },
          "metadata": {},
          "execution_count": 131
        }
      ]
    },
    {
      "cell_type": "code",
      "source": [
        "#Salvando os dados tratados para uso em outros projetos, temos:\n",
        "base_dados.to_csv('medidas_corporais_mulheres.csv')"
      ],
      "metadata": {
        "id": "fflZ-6TLXwTS"
      },
      "execution_count": null,
      "outputs": []
    },
    {
      "cell_type": "markdown",
      "source": [
        "Construindo a distribuição de frequência, temos:"
      ],
      "metadata": {
        "id": "FS3jlBeZUWVx"
      }
    },
    {
      "cell_type": "code",
      "source": [
        "#valor mínimo de taxa de pulsação no dataset\n",
        "base_dados['Batimentos (bpm)'].min()"
      ],
      "metadata": {
        "colab": {
          "base_uri": "https://localhost:8080/"
        },
        "id": "_1oEYzCmUDYs",
        "outputId": "1a36d990-c5e1-450e-8e18-875d1c209490"
      },
      "execution_count": null,
      "outputs": [
        {
          "output_type": "execute_result",
          "data": {
            "text/plain": [
              "56"
            ]
          },
          "metadata": {},
          "execution_count": 133
        }
      ]
    },
    {
      "cell_type": "code",
      "source": [
        "#valor máximo de taxa de pulsação no dataset\n",
        "base_dados['Batimentos (bpm)'].max()"
      ],
      "metadata": {
        "colab": {
          "base_uri": "https://localhost:8080/"
        },
        "id": "tzwUtJYVUhMW",
        "outputId": "9576b2a1-cbe2-4e75-f336-84f02e8cfd4c"
      },
      "execution_count": null,
      "outputs": [
        {
          "output_type": "execute_result",
          "data": {
            "text/plain": [
              "104"
            ]
          },
          "metadata": {},
          "execution_count": 134
        }
      ]
    },
    {
      "cell_type": "code",
      "source": [
        "#convenientemente assumimos que o limite inferior da primeira classe é 50 e utilizando uma amplitude fixa de tamanho 10, temos:\n",
        "classes = [50,60,70,80,90,100,110]"
      ],
      "metadata": {
        "id": "ROn1Hi1JUm0c"
      },
      "execution_count": null,
      "outputs": []
    },
    {
      "cell_type": "code",
      "source": [
        "frequencia = pd.value_counts(pd.cut(x = base_dados['Batimentos (bpm)'], bins = classes, include_lowest = True),\n",
        "                             sort = False)\n",
        "frequencia"
      ],
      "metadata": {
        "colab": {
          "base_uri": "https://localhost:8080/"
        },
        "id": "N66O2mTgU6pm",
        "outputId": "23401157-77d9-4bc9-d4be-02353d5c3548"
      },
      "execution_count": null,
      "outputs": [
        {
          "output_type": "execute_result",
          "data": {
            "text/plain": [
              "(49.999, 60.0]     2\n",
              "(60.0, 70.0]       7\n",
              "(70.0, 80.0]      19\n",
              "(80.0, 90.0]       7\n",
              "(90.0, 100.0]      4\n",
              "(100.0, 110.0]     1\n",
              "Name: Batimentos (bpm), dtype: int64"
            ]
          },
          "metadata": {},
          "execution_count": 140
        }
      ]
    },
    {
      "cell_type": "code",
      "source": [
        "percentual = pd.value_counts(pd.cut(x = base_dados['Batimentos (bpm)'], bins = classes, include_lowest = True),\n",
        "                             sort = False, normalize = True) * 100\n",
        "percentual"
      ],
      "metadata": {
        "colab": {
          "base_uri": "https://localhost:8080/"
        },
        "id": "8WoapvlfVGgz",
        "outputId": "00074483-8cbd-4d4c-d003-0033ad0f34d0"
      },
      "execution_count": null,
      "outputs": [
        {
          "output_type": "execute_result",
          "data": {
            "text/plain": [
              "(49.999, 60.0]     5.0\n",
              "(60.0, 70.0]      17.5\n",
              "(70.0, 80.0]      47.5\n",
              "(80.0, 90.0]      17.5\n",
              "(90.0, 100.0]     10.0\n",
              "(100.0, 110.0]     2.5\n",
              "Name: Batimentos (bpm), dtype: float64"
            ]
          },
          "metadata": {},
          "execution_count": 141
        }
      ]
    },
    {
      "cell_type": "code",
      "source": [
        "#construindo a tabela de distribuição de frequência, temos:\n",
        "dist_freq = pd.DataFrame({'Frequência':frequencia,'Porcentagem (%)':percentual})\n",
        "dist_freq.rename_axis('Classes', axis = 'index', inplace = True)\n",
        "dist_freq"
      ],
      "metadata": {
        "colab": {
          "base_uri": "https://localhost:8080/",
          "height": 268
        },
        "id": "xr1yXugMVYfT",
        "outputId": "00666ba5-01af-40ad-de81-d835a74369f5"
      },
      "execution_count": null,
      "outputs": [
        {
          "output_type": "execute_result",
          "data": {
            "text/plain": [
              "                Frequência  Porcentagem (%)\n",
              "Classes                                    \n",
              "(49.999, 60.0]           2              5.0\n",
              "(60.0, 70.0]             7             17.5\n",
              "(70.0, 80.0]            19             47.5\n",
              "(80.0, 90.0]             7             17.5\n",
              "(90.0, 100.0]            4             10.0\n",
              "(100.0, 110.0]           1              2.5"
            ],
            "text/html": [
              "\n",
              "  <div id=\"df-3c3db924-f71b-4dfe-b059-ae7034d6b7a7\">\n",
              "    <div class=\"colab-df-container\">\n",
              "      <div>\n",
              "<style scoped>\n",
              "    .dataframe tbody tr th:only-of-type {\n",
              "        vertical-align: middle;\n",
              "    }\n",
              "\n",
              "    .dataframe tbody tr th {\n",
              "        vertical-align: top;\n",
              "    }\n",
              "\n",
              "    .dataframe thead th {\n",
              "        text-align: right;\n",
              "    }\n",
              "</style>\n",
              "<table border=\"1\" class=\"dataframe\">\n",
              "  <thead>\n",
              "    <tr style=\"text-align: right;\">\n",
              "      <th></th>\n",
              "      <th>Frequência</th>\n",
              "      <th>Porcentagem (%)</th>\n",
              "    </tr>\n",
              "    <tr>\n",
              "      <th>Classes</th>\n",
              "      <th></th>\n",
              "      <th></th>\n",
              "    </tr>\n",
              "  </thead>\n",
              "  <tbody>\n",
              "    <tr>\n",
              "      <th>(49.999, 60.0]</th>\n",
              "      <td>2</td>\n",
              "      <td>5.0</td>\n",
              "    </tr>\n",
              "    <tr>\n",
              "      <th>(60.0, 70.0]</th>\n",
              "      <td>7</td>\n",
              "      <td>17.5</td>\n",
              "    </tr>\n",
              "    <tr>\n",
              "      <th>(70.0, 80.0]</th>\n",
              "      <td>19</td>\n",
              "      <td>47.5</td>\n",
              "    </tr>\n",
              "    <tr>\n",
              "      <th>(80.0, 90.0]</th>\n",
              "      <td>7</td>\n",
              "      <td>17.5</td>\n",
              "    </tr>\n",
              "    <tr>\n",
              "      <th>(90.0, 100.0]</th>\n",
              "      <td>4</td>\n",
              "      <td>10.0</td>\n",
              "    </tr>\n",
              "    <tr>\n",
              "      <th>(100.0, 110.0]</th>\n",
              "      <td>1</td>\n",
              "      <td>2.5</td>\n",
              "    </tr>\n",
              "  </tbody>\n",
              "</table>\n",
              "</div>\n",
              "      <button class=\"colab-df-convert\" onclick=\"convertToInteractive('df-3c3db924-f71b-4dfe-b059-ae7034d6b7a7')\"\n",
              "              title=\"Convert this dataframe to an interactive table.\"\n",
              "              style=\"display:none;\">\n",
              "        \n",
              "  <svg xmlns=\"http://www.w3.org/2000/svg\" height=\"24px\"viewBox=\"0 0 24 24\"\n",
              "       width=\"24px\">\n",
              "    <path d=\"M0 0h24v24H0V0z\" fill=\"none\"/>\n",
              "    <path d=\"M18.56 5.44l.94 2.06.94-2.06 2.06-.94-2.06-.94-.94-2.06-.94 2.06-2.06.94zm-11 1L8.5 8.5l.94-2.06 2.06-.94-2.06-.94L8.5 2.5l-.94 2.06-2.06.94zm10 10l.94 2.06.94-2.06 2.06-.94-2.06-.94-.94-2.06-.94 2.06-2.06.94z\"/><path d=\"M17.41 7.96l-1.37-1.37c-.4-.4-.92-.59-1.43-.59-.52 0-1.04.2-1.43.59L10.3 9.45l-7.72 7.72c-.78.78-.78 2.05 0 2.83L4 21.41c.39.39.9.59 1.41.59.51 0 1.02-.2 1.41-.59l7.78-7.78 2.81-2.81c.8-.78.8-2.07 0-2.86zM5.41 20L4 18.59l7.72-7.72 1.47 1.35L5.41 20z\"/>\n",
              "  </svg>\n",
              "      </button>\n",
              "      \n",
              "  <style>\n",
              "    .colab-df-container {\n",
              "      display:flex;\n",
              "      flex-wrap:wrap;\n",
              "      gap: 12px;\n",
              "    }\n",
              "\n",
              "    .colab-df-convert {\n",
              "      background-color: #E8F0FE;\n",
              "      border: none;\n",
              "      border-radius: 50%;\n",
              "      cursor: pointer;\n",
              "      display: none;\n",
              "      fill: #1967D2;\n",
              "      height: 32px;\n",
              "      padding: 0 0 0 0;\n",
              "      width: 32px;\n",
              "    }\n",
              "\n",
              "    .colab-df-convert:hover {\n",
              "      background-color: #E2EBFA;\n",
              "      box-shadow: 0px 1px 2px rgba(60, 64, 67, 0.3), 0px 1px 3px 1px rgba(60, 64, 67, 0.15);\n",
              "      fill: #174EA6;\n",
              "    }\n",
              "\n",
              "    [theme=dark] .colab-df-convert {\n",
              "      background-color: #3B4455;\n",
              "      fill: #D2E3FC;\n",
              "    }\n",
              "\n",
              "    [theme=dark] .colab-df-convert:hover {\n",
              "      background-color: #434B5C;\n",
              "      box-shadow: 0px 1px 3px 1px rgba(0, 0, 0, 0.15);\n",
              "      filter: drop-shadow(0px 1px 2px rgba(0, 0, 0, 0.3));\n",
              "      fill: #FFFFFF;\n",
              "    }\n",
              "  </style>\n",
              "\n",
              "      <script>\n",
              "        const buttonEl =\n",
              "          document.querySelector('#df-3c3db924-f71b-4dfe-b059-ae7034d6b7a7 button.colab-df-convert');\n",
              "        buttonEl.style.display =\n",
              "          google.colab.kernel.accessAllowed ? 'block' : 'none';\n",
              "\n",
              "        async function convertToInteractive(key) {\n",
              "          const element = document.querySelector('#df-3c3db924-f71b-4dfe-b059-ae7034d6b7a7');\n",
              "          const dataTable =\n",
              "            await google.colab.kernel.invokeFunction('convertToInteractive',\n",
              "                                                     [key], {});\n",
              "          if (!dataTable) return;\n",
              "\n",
              "          const docLinkHtml = 'Like what you see? Visit the ' +\n",
              "            '<a target=\"_blank\" href=https://colab.research.google.com/notebooks/data_table.ipynb>data table notebook</a>'\n",
              "            + ' to learn more about interactive tables.';\n",
              "          element.innerHTML = '';\n",
              "          dataTable['output_type'] = 'display_data';\n",
              "          await google.colab.output.renderOutput(dataTable, element);\n",
              "          const docLink = document.createElement('div');\n",
              "          docLink.innerHTML = docLinkHtml;\n",
              "          element.appendChild(docLink);\n",
              "        }\n",
              "      </script>\n",
              "    </div>\n",
              "  </div>\n",
              "  "
            ]
          },
          "metadata": {},
          "execution_count": 142
        }
      ]
    },
    {
      "cell_type": "markdown",
      "source": [
        "A distribuição de frequência mostra que a maioria das medidas de taxa de pulsação de mulheres se concentram entre 60 e 90 batimentos por minuto. Para visualizar melhor a distribuição dos dados construiu-se o seguinte histograma:"
      ],
      "metadata": {
        "id": "JnOuZvqfVrDI"
      }
    },
    {
      "cell_type": "code",
      "source": [
        "#Construindo um histograma para observar graficamente a distribuição dos dados, temos:\n",
        "classes = [49.999,60.01,70.01,80.01,90.01,100.01,110.01]\n",
        "\n",
        "ax = sns.histplot(base_dados['Batimentos (bpm)'],bins = classes)\n",
        "ax.figure.set_size_inches(12,6)\n",
        "ax.set_title('Distribuição de frequências - taxa pulsação mulheres', fontsize = 18)\n",
        "ax.set_xlabel('batimentos (bpm)', fontsize = 14)\n",
        "ax.set_ylabel('Frequência', fontsize = 14)\n",
        "ax.set_yticks([i for i in range(0,22,1)])\n",
        "ax"
      ],
      "metadata": {
        "colab": {
          "base_uri": "https://localhost:8080/",
          "height": 431
        },
        "id": "MAEq9dHEVi02",
        "outputId": "cde9eae9-8f1e-4610-99dd-fc51991e476e"
      },
      "execution_count": null,
      "outputs": [
        {
          "output_type": "execute_result",
          "data": {
            "text/plain": [
              "<matplotlib.axes._subplots.AxesSubplot at 0x7fbfeb9b9210>"
            ]
          },
          "metadata": {},
          "execution_count": 143
        },
        {
          "output_type": "display_data",
          "data": {
            "text/plain": [
              "<Figure size 864x432 with 1 Axes>"
            ],
            "image/png": "[encoded data removed]"
          },
          "metadata": {
            "needs_background": "light"
          }
        }
      ]
    },
    {
      "cell_type": "code",
      "source": [
        "#Construindo um histograma de frequência relativa para observar graficamente a distribuição dos dados, temos:\n",
        "classes = [49.999,60.01,70.01,80.01,90.01,100.01,110.01]\n",
        "\n",
        "ax = sns.histplot(base_dados['Batimentos (bpm)'],bins = classes, stat = 'percent')\n",
        "ax.figure.set_size_inches(10,6)\n",
        "ax.set_title('Distribuição de frequências relativas - taxa pulsação mulheres', fontsize = 18)\n",
        "ax.set_xlabel('batimentos (bpm)', fontsize = 14)\n",
        "ax.set_ylabel('Frequência', fontsize = 14)\n",
        "ax.set_yticks([i for i in range(0,50,2)])\n",
        "ax"
      ],
      "metadata": {
        "colab": {
          "base_uri": "https://localhost:8080/",
          "height": 431
        },
        "id": "0HKdrCGwbjTN",
        "outputId": "8e3bafdb-cf74-4e88-bdfd-9d425b8d4868"
      },
      "execution_count": null,
      "outputs": [
        {
          "output_type": "execute_result",
          "data": {
            "text/plain": [
              "<matplotlib.axes._subplots.AxesSubplot at 0x7fbfeb7e5450>"
            ]
          },
          "metadata": {},
          "execution_count": 148
        },
        {
          "output_type": "display_data",
          "data": {
            "text/plain": [
              "<Figure size 720x432 with 1 Axes>"
            ],
            "image/png": "[encoded data removed]"
          },
          "metadata": {
            "needs_background": "light"
          }
        }
      ]
    },
    {
      "cell_type": "markdown",
      "source": [
        "**Conclusões sobre a taxa de pulsação cardíaca de mulheres**\n",
        "\n",
        "Analisando o histograma de taxas de pulsação de mulheres, é possível verificar que os dados estão mais deslocados para a direita, em relação aos dados masculinos. Este fato nos indica que as mulheres, possivelmente, apresentam taxas de pulsação superiores em relação às dos homens."
      ],
      "metadata": {
        "id": "b0tNv5wLWOih"
      }
    },
    {
      "cell_type": "markdown",
      "source": [
        "## Comparando taxas de pulsação de homens e mulheres (problemas 21 e 22)"
      ],
      "metadata": {
        "id": "vv8ap9uwWtz_"
      }
    },
    {
      "cell_type": "markdown",
      "source": [
        "A partir dos resultados de taxa de pulsação de homens e mulheres, construiu-se o seguinte diagrama boxplot. Os diagramas boxplot são utilizados quando deseja-se comparar dois conjuntos de dados e visualizar a distribuição dos dados."
      ],
      "metadata": {
        "id": "NMM7_-_LWxsA"
      }
    },
    {
      "cell_type": "code",
      "source": [
        "#Primeiramente, vamos criar uma nova coluna identificando os sexos e concatenar ambos conjuntos de dados em uma nova base de dados.\n",
        "base_dados_homens = pd.read_csv('medidas_corporais_homens.csv')\n",
        "base_dados_homens.drop('Unnamed: 0',axis = 'columns', inplace = True)\n",
        "base_dados_homens.head()"
      ],
      "metadata": {
        "colab": {
          "base_uri": "https://localhost:8080/",
          "height": 302
        },
        "id": "b0CcksJoXexy",
        "outputId": "12f42e9f-f885-4e3d-9f57-25f4537ac971"
      },
      "execution_count": null,
      "outputs": [
        {
          "output_type": "execute_result",
          "data": {
            "text/plain": [
              "   Idade (anos)  Batimentos (bpm)  PSist (mmHg)  PDiast (mmHg)  \\\n",
              "0            18                60           132             68   \n",
              "1            20                74           120             68   \n",
              "2            43                86           106             84   \n",
              "3            39                54           104             60   \n",
              "4            60                90           122             80   \n",
              "\n",
              "   Colesterol HDL (mg/dL)  Colesterol LDL (mg/dL)  \\\n",
              "0                      44                     213   \n",
              "1                      41                      88   \n",
              "2                      71                     174   \n",
              "3                      41                     121   \n",
              "4                      57                     124   \n",
              "\n",
              "   Células brancas sangue (1.000 cel/μL)  \\\n",
              "0                                    8.7   \n",
              "1                                    5.9   \n",
              "2                                    7.3   \n",
              "3                                    6.2   \n",
              "4                                    5.9   \n",
              "\n",
              "   Células vermelhas sangue (1.000 cel/μL)  Plaquetas (1.000 cel/μL)  \\\n",
              "0                                     4.91                       409   \n",
              "1                                     5.59                       187   \n",
              "2                                     4.44                       250   \n",
              "3                                     4.80                       273   \n",
              "4                                     5.17                       278   \n",
              "\n",
              "   Peso (kg)  Altura (cm)  Circun cintura(cm)  Circun braco (cm)  IMC (kg/m²)  \n",
              "0       64.4        178.8                81.4               28.4        20.14  \n",
              "1       61.8        177.5                74.8               26.8        19.62  \n",
              "2       78.5        187.8                84.1               32.3        22.26  \n",
              "3       86.3        172.4                95.5               39.0        29.04  \n",
              "4       73.1        181.7                90.1               29.4        22.14  "
            ],
            "text/html": [
              "\n",
              "  <div id=\"df-67a946b1-ef7a-4bf4-b4e6-080a73b3136c\">\n",
              "    <div class=\"colab-df-container\">\n",
              "      <div>\n",
              "<style scoped>\n",
              "    .dataframe tbody tr th:only-of-type {\n",
              "        vertical-align: middle;\n",
              "    }\n",
              "\n",
              "    .dataframe tbody tr th {\n",
              "        vertical-align: top;\n",
              "    }\n",
              "\n",
              "    .dataframe thead th {\n",
              "        text-align: right;\n",
              "    }\n",
              "</style>\n",
              "<table border=\"1\" class=\"dataframe\">\n",
              "  <thead>\n",
              "    <tr style=\"text-align: right;\">\n",
              "      <th></th>\n",
              "      <th>Idade (anos)</th>\n",
              "      <th>Batimentos (bpm)</th>\n",
              "      <th>PSist (mmHg)</th>\n",
              "      <th>PDiast (mmHg)</th>\n",
              "      <th>Colesterol HDL (mg/dL)</th>\n",
              "      <th>Colesterol LDL (mg/dL)</th>\n",
              "      <th>Células brancas sangue (1.000 cel/μL)</th>\n",
              "      <th>Células vermelhas sangue (1.000 cel/μL)</th>\n",
              "      <th>Plaquetas (1.000 cel/μL)</th>\n",
              "      <th>Peso (kg)</th>\n",
              "      <th>Altura (cm)</th>\n",
              "      <th>Circun cintura(cm)</th>\n",
              "      <th>Circun braco (cm)</th>\n",
              "      <th>IMC (kg/m²)</th>\n",
              "    </tr>\n",
              "  </thead>\n",
              "  <tbody>\n",
              "    <tr>\n",
              "      <th>0</th>\n",
              "      <td>18</td>\n",
              "      <td>60</td>\n",
              "      <td>132</td>\n",
              "      <td>68</td>\n",
              "      <td>44</td>\n",
              "      <td>213</td>\n",
              "      <td>8.7</td>\n",
              "      <td>4.91</td>\n",
              "      <td>409</td>\n",
              "      <td>64.4</td>\n",
              "      <td>178.8</td>\n",
              "      <td>81.4</td>\n",
              "      <td>28.4</td>\n",
              "      <td>20.14</td>\n",
              "    </tr>\n",
              "    <tr>\n",
              "      <th>1</th>\n",
              "      <td>20</td>\n",
              "      <td>74</td>\n",
              "      <td>120</td>\n",
              "      <td>68</td>\n",
              "      <td>41</td>\n",
              "      <td>88</td>\n",
              "      <td>5.9</td>\n",
              "      <td>5.59</td>\n",
              "      <td>187</td>\n",
              "      <td>61.8</td>\n",
              "      <td>177.5</td>\n",
              "      <td>74.8</td>\n",
              "      <td>26.8</td>\n",
              "      <td>19.62</td>\n",
              "    </tr>\n",
              "    <tr>\n",
              "      <th>2</th>\n",
              "      <td>43</td>\n",
              "      <td>86</td>\n",
              "      <td>106</td>\n",
              "      <td>84</td>\n",
              "      <td>71</td>\n",
              "      <td>174</td>\n",
              "      <td>7.3</td>\n",
              "      <td>4.44</td>\n",
              "      <td>250</td>\n",
              "      <td>78.5</td>\n",
              "      <td>187.8</td>\n",
              "      <td>84.1</td>\n",
              "      <td>32.3</td>\n",
              "      <td>22.26</td>\n",
              "    </tr>\n",
              "    <tr>\n",
              "      <th>3</th>\n",
              "      <td>39</td>\n",
              "      <td>54</td>\n",
              "      <td>104</td>\n",
              "      <td>60</td>\n",
              "      <td>41</td>\n",
              "      <td>121</td>\n",
              "      <td>6.2</td>\n",
              "      <td>4.80</td>\n",
              "      <td>273</td>\n",
              "      <td>86.3</td>\n",
              "      <td>172.4</td>\n",
              "      <td>95.5</td>\n",
              "      <td>39.0</td>\n",
              "      <td>29.04</td>\n",
              "    </tr>\n",
              "    <tr>\n",
              "      <th>4</th>\n",
              "      <td>60</td>\n",
              "      <td>90</td>\n",
              "      <td>122</td>\n",
              "      <td>80</td>\n",
              "      <td>57</td>\n",
              "      <td>124</td>\n",
              "      <td>5.9</td>\n",
              "      <td>5.17</td>\n",
              "      <td>278</td>\n",
              "      <td>73.1</td>\n",
              "      <td>181.7</td>\n",
              "      <td>90.1</td>\n",
              "      <td>29.4</td>\n",
              "      <td>22.14</td>\n",
              "    </tr>\n",
              "  </tbody>\n",
              "</table>\n",
              "</div>\n",
              "      <button class=\"colab-df-convert\" onclick=\"convertToInteractive('df-67a946b1-ef7a-4bf4-b4e6-080a73b3136c')\"\n",
              "              title=\"Convert this dataframe to an interactive table.\"\n",
              "              style=\"display:none;\">\n",
              "        \n",
              "  <svg xmlns=\"http://www.w3.org/2000/svg\" height=\"24px\"viewBox=\"0 0 24 24\"\n",
              "       width=\"24px\">\n",
              "    <path d=\"M0 0h24v24H0V0z\" fill=\"none\"/>\n",
              "    <path d=\"M18.56 5.44l.94 2.06.94-2.06 2.06-.94-2.06-.94-.94-2.06-.94 2.06-2.06.94zm-11 1L8.5 8.5l.94-2.06 2.06-.94-2.06-.94L8.5 2.5l-.94 2.06-2.06.94zm10 10l.94 2.06.94-2.06 2.06-.94-2.06-.94-.94-2.06-.94 2.06-2.06.94z\"/><path d=\"M17.41 7.96l-1.37-1.37c-.4-.4-.92-.59-1.43-.59-.52 0-1.04.2-1.43.59L10.3 9.45l-7.72 7.72c-.78.78-.78 2.05 0 2.83L4 21.41c.39.39.9.59 1.41.59.51 0 1.02-.2 1.41-.59l7.78-7.78 2.81-2.81c.8-.78.8-2.07 0-2.86zM5.41 20L4 18.59l7.72-7.72 1.47 1.35L5.41 20z\"/>\n",
              "  </svg>\n",
              "      </button>\n",
              "      \n",
              "  <style>\n",
              "    .colab-df-container {\n",
              "      display:flex;\n",
              "      flex-wrap:wrap;\n",
              "      gap: 12px;\n",
              "    }\n",
              "\n",
              "    .colab-df-convert {\n",
              "      background-color: #E8F0FE;\n",
              "      border: none;\n",
              "      border-radius: 50%;\n",
              "      cursor: pointer;\n",
              "      display: none;\n",
              "      fill: #1967D2;\n",
              "      height: 32px;\n",
              "      padding: 0 0 0 0;\n",
              "      width: 32px;\n",
              "    }\n",
              "\n",
              "    .colab-df-convert:hover {\n",
              "      background-color: #E2EBFA;\n",
              "      box-shadow: 0px 1px 2px rgba(60, 64, 67, 0.3), 0px 1px 3px 1px rgba(60, 64, 67, 0.15);\n",
              "      fill: #174EA6;\n",
              "    }\n",
              "\n",
              "    [theme=dark] .colab-df-convert {\n",
              "      background-color: #3B4455;\n",
              "      fill: #D2E3FC;\n",
              "    }\n",
              "\n",
              "    [theme=dark] .colab-df-convert:hover {\n",
              "      background-color: #434B5C;\n",
              "      box-shadow: 0px 1px 3px 1px rgba(0, 0, 0, 0.15);\n",
              "      filter: drop-shadow(0px 1px 2px rgba(0, 0, 0, 0.3));\n",
              "      fill: #FFFFFF;\n",
              "    }\n",
              "  </style>\n",
              "\n",
              "      <script>\n",
              "        const buttonEl =\n",
              "          document.querySelector('#df-67a946b1-ef7a-4bf4-b4e6-080a73b3136c button.colab-df-convert');\n",
              "        buttonEl.style.display =\n",
              "          google.colab.kernel.accessAllowed ? 'block' : 'none';\n",
              "\n",
              "        async function convertToInteractive(key) {\n",
              "          const element = document.querySelector('#df-67a946b1-ef7a-4bf4-b4e6-080a73b3136c');\n",
              "          const dataTable =\n",
              "            await google.colab.kernel.invokeFunction('convertToInteractive',\n",
              "                                                     [key], {});\n",
              "          if (!dataTable) return;\n",
              "\n",
              "          const docLinkHtml = 'Like what you see? Visit the ' +\n",
              "            '<a target=\"_blank\" href=https://colab.research.google.com/notebooks/data_table.ipynb>data table notebook</a>'\n",
              "            + ' to learn more about interactive tables.';\n",
              "          element.innerHTML = '';\n",
              "          dataTable['output_type'] = 'display_data';\n",
              "          await google.colab.output.renderOutput(dataTable, element);\n",
              "          const docLink = document.createElement('div');\n",
              "          docLink.innerHTML = docLinkHtml;\n",
              "          element.appendChild(docLink);\n",
              "        }\n",
              "      </script>\n",
              "    </div>\n",
              "  </div>\n",
              "  "
            ]
          },
          "metadata": {},
          "execution_count": 3
        }
      ]
    },
    {
      "cell_type": "code",
      "source": [
        "#criando uma nova coluna identificando o sexo na base de dados masculinos, temos:\n",
        "sexo = []\n",
        "for i in base_dados_homens.index:\n",
        "  sexo.append(int(0))\n",
        "base_dados_homens['Sexo'] = sexo\n",
        "base_dados_homens.head()"
      ],
      "metadata": {
        "colab": {
          "base_uri": "https://localhost:8080/",
          "height": 319
        },
        "id": "UuHWP4A8YfXd",
        "outputId": "2101efc7-6152-44e3-c287-4e7de6e5b212"
      },
      "execution_count": null,
      "outputs": [
        {
          "output_type": "execute_result",
          "data": {
            "text/plain": [
              "   Idade (anos)  Batimentos (bpm)  PSist (mmHg)  PDiast (mmHg)  \\\n",
              "0            18                60           132             68   \n",
              "1            20                74           120             68   \n",
              "2            43                86           106             84   \n",
              "3            39                54           104             60   \n",
              "4            60                90           122             80   \n",
              "\n",
              "   Colesterol HDL (mg/dL)  Colesterol LDL (mg/dL)  \\\n",
              "0                      44                     213   \n",
              "1                      41                      88   \n",
              "2                      71                     174   \n",
              "3                      41                     121   \n",
              "4                      57                     124   \n",
              "\n",
              "   Células brancas sangue (1.000 cel/μL)  \\\n",
              "0                                    8.7   \n",
              "1                                    5.9   \n",
              "2                                    7.3   \n",
              "3                                    6.2   \n",
              "4                                    5.9   \n",
              "\n",
              "   Células vermelhas sangue (1.000 cel/μL)  Plaquetas (1.000 cel/μL)  \\\n",
              "0                                     4.91                       409   \n",
              "1                                     5.59                       187   \n",
              "2                                     4.44                       250   \n",
              "3                                     4.80                       273   \n",
              "4                                     5.17                       278   \n",
              "\n",
              "   Peso (kg)  Altura (cm)  Circun cintura(cm)  Circun braco (cm)  IMC (kg/m²)  \\\n",
              "0       64.4        178.8                81.4               28.4        20.14   \n",
              "1       61.8        177.5                74.8               26.8        19.62   \n",
              "2       78.5        187.8                84.1               32.3        22.26   \n",
              "3       86.3        172.4                95.5               39.0        29.04   \n",
              "4       73.1        181.7                90.1               29.4        22.14   \n",
              "\n",
              "   Sexo  \n",
              "0     0  \n",
              "1     0  \n",
              "2     0  \n",
              "3     0  \n",
              "4     0  "
            ],
            "text/html": [
              "\n",
              "  <div id=\"df-511a786e-2900-4596-b790-a43aa96384c1\">\n",
              "    <div class=\"colab-df-container\">\n",
              "      <div>\n",
              "<style scoped>\n",
              "    .dataframe tbody tr th:only-of-type {\n",
              "        vertical-align: middle;\n",
              "    }\n",
              "\n",
              "    .dataframe tbody tr th {\n",
              "        vertical-align: top;\n",
              "    }\n",
              "\n",
              "    .dataframe thead th {\n",
              "        text-align: right;\n",
              "    }\n",
              "</style>\n",
              "<table border=\"1\" class=\"dataframe\">\n",
              "  <thead>\n",
              "    <tr style=\"text-align: right;\">\n",
              "      <th></th>\n",
              "      <th>Idade (anos)</th>\n",
              "      <th>Batimentos (bpm)</th>\n",
              "      <th>PSist (mmHg)</th>\n",
              "      <th>PDiast (mmHg)</th>\n",
              "      <th>Colesterol HDL (mg/dL)</th>\n",
              "      <th>Colesterol LDL (mg/dL)</th>\n",
              "      <th>Células brancas sangue (1.000 cel/μL)</th>\n",
              "      <th>Células vermelhas sangue (1.000 cel/μL)</th>\n",
              "      <th>Plaquetas (1.000 cel/μL)</th>\n",
              "      <th>Peso (kg)</th>\n",
              "      <th>Altura (cm)</th>\n",
              "      <th>Circun cintura(cm)</th>\n",
              "      <th>Circun braco (cm)</th>\n",
              "      <th>IMC (kg/m²)</th>\n",
              "      <th>Sexo</th>\n",
              "    </tr>\n",
              "  </thead>\n",
              "  <tbody>\n",
              "    <tr>\n",
              "      <th>0</th>\n",
              "      <td>18</td>\n",
              "      <td>60</td>\n",
              "      <td>132</td>\n",
              "      <td>68</td>\n",
              "      <td>44</td>\n",
              "      <td>213</td>\n",
              "      <td>8.7</td>\n",
              "      <td>4.91</td>\n",
              "      <td>409</td>\n",
              "      <td>64.4</td>\n",
              "      <td>178.8</td>\n",
              "      <td>81.4</td>\n",
              "      <td>28.4</td>\n",
              "      <td>20.14</td>\n",
              "      <td>0</td>\n",
              "    </tr>\n",
              "    <tr>\n",
              "      <th>1</th>\n",
              "      <td>20</td>\n",
              "      <td>74</td>\n",
              "      <td>120</td>\n",
              "      <td>68</td>\n",
              "      <td>41</td>\n",
              "      <td>88</td>\n",
              "      <td>5.9</td>\n",
              "      <td>5.59</td>\n",
              "      <td>187</td>\n",
              "      <td>61.8</td>\n",
              "      <td>177.5</td>\n",
              "      <td>74.8</td>\n",
              "      <td>26.8</td>\n",
              "      <td>19.62</td>\n",
              "      <td>0</td>\n",
              "    </tr>\n",
              "    <tr>\n",
              "      <th>2</th>\n",
              "      <td>43</td>\n",
              "      <td>86</td>\n",
              "      <td>106</td>\n",
              "      <td>84</td>\n",
              "      <td>71</td>\n",
              "      <td>174</td>\n",
              "      <td>7.3</td>\n",
              "      <td>4.44</td>\n",
              "      <td>250</td>\n",
              "      <td>78.5</td>\n",
              "      <td>187.8</td>\n",
              "      <td>84.1</td>\n",
              "      <td>32.3</td>\n",
              "      <td>22.26</td>\n",
              "      <td>0</td>\n",
              "    </tr>\n",
              "    <tr>\n",
              "      <th>3</th>\n",
              "      <td>39</td>\n",
              "      <td>54</td>\n",
              "      <td>104</td>\n",
              "      <td>60</td>\n",
              "      <td>41</td>\n",
              "      <td>121</td>\n",
              "      <td>6.2</td>\n",
              "      <td>4.80</td>\n",
              "      <td>273</td>\n",
              "      <td>86.3</td>\n",
              "      <td>172.4</td>\n",
              "      <td>95.5</td>\n",
              "      <td>39.0</td>\n",
              "      <td>29.04</td>\n",
              "      <td>0</td>\n",
              "    </tr>\n",
              "    <tr>\n",
              "      <th>4</th>\n",
              "      <td>60</td>\n",
              "      <td>90</td>\n",
              "      <td>122</td>\n",
              "      <td>80</td>\n",
              "      <td>57</td>\n",
              "      <td>124</td>\n",
              "      <td>5.9</td>\n",
              "      <td>5.17</td>\n",
              "      <td>278</td>\n",
              "      <td>73.1</td>\n",
              "      <td>181.7</td>\n",
              "      <td>90.1</td>\n",
              "      <td>29.4</td>\n",
              "      <td>22.14</td>\n",
              "      <td>0</td>\n",
              "    </tr>\n",
              "  </tbody>\n",
              "</table>\n",
              "</div>\n",
              "      <button class=\"colab-df-convert\" onclick=\"convertToInteractive('df-511a786e-2900-4596-b790-a43aa96384c1')\"\n",
              "              title=\"Convert this dataframe to an interactive table.\"\n",
              "              style=\"display:none;\">\n",
              "        \n",
              "  <svg xmlns=\"http://www.w3.org/2000/svg\" height=\"24px\"viewBox=\"0 0 24 24\"\n",
              "       width=\"24px\">\n",
              "    <path d=\"M0 0h24v24H0V0z\" fill=\"none\"/>\n",
              "    <path d=\"M18.56 5.44l.94 2.06.94-2.06 2.06-.94-2.06-.94-.94-2.06-.94 2.06-2.06.94zm-11 1L8.5 8.5l.94-2.06 2.06-.94-2.06-.94L8.5 2.5l-.94 2.06-2.06.94zm10 10l.94 2.06.94-2.06 2.06-.94-2.06-.94-.94-2.06-.94 2.06-2.06.94z\"/><path d=\"M17.41 7.96l-1.37-1.37c-.4-.4-.92-.59-1.43-.59-.52 0-1.04.2-1.43.59L10.3 9.45l-7.72 7.72c-.78.78-.78 2.05 0 2.83L4 21.41c.39.39.9.59 1.41.59.51 0 1.02-.2 1.41-.59l7.78-7.78 2.81-2.81c.8-.78.8-2.07 0-2.86zM5.41 20L4 18.59l7.72-7.72 1.47 1.35L5.41 20z\"/>\n",
              "  </svg>\n",
              "      </button>\n",
              "      \n",
              "  <style>\n",
              "    .colab-df-container {\n",
              "      display:flex;\n",
              "      flex-wrap:wrap;\n",
              "      gap: 12px;\n",
              "    }\n",
              "\n",
              "    .colab-df-convert {\n",
              "      background-color: #E8F0FE;\n",
              "      border: none;\n",
              "      border-radius: 50%;\n",
              "      cursor: pointer;\n",
              "      display: none;\n",
              "      fill: #1967D2;\n",
              "      height: 32px;\n",
              "      padding: 0 0 0 0;\n",
              "      width: 32px;\n",
              "    }\n",
              "\n",
              "    .colab-df-convert:hover {\n",
              "      background-color: #E2EBFA;\n",
              "      box-shadow: 0px 1px 2px rgba(60, 64, 67, 0.3), 0px 1px 3px 1px rgba(60, 64, 67, 0.15);\n",
              "      fill: #174EA6;\n",
              "    }\n",
              "\n",
              "    [theme=dark] .colab-df-convert {\n",
              "      background-color: #3B4455;\n",
              "      fill: #D2E3FC;\n",
              "    }\n",
              "\n",
              "    [theme=dark] .colab-df-convert:hover {\n",
              "      background-color: #434B5C;\n",
              "      box-shadow: 0px 1px 3px 1px rgba(0, 0, 0, 0.15);\n",
              "      filter: drop-shadow(0px 1px 2px rgba(0, 0, 0, 0.3));\n",
              "      fill: #FFFFFF;\n",
              "    }\n",
              "  </style>\n",
              "\n",
              "      <script>\n",
              "        const buttonEl =\n",
              "          document.querySelector('#df-511a786e-2900-4596-b790-a43aa96384c1 button.colab-df-convert');\n",
              "        buttonEl.style.display =\n",
              "          google.colab.kernel.accessAllowed ? 'block' : 'none';\n",
              "\n",
              "        async function convertToInteractive(key) {\n",
              "          const element = document.querySelector('#df-511a786e-2900-4596-b790-a43aa96384c1');\n",
              "          const dataTable =\n",
              "            await google.colab.kernel.invokeFunction('convertToInteractive',\n",
              "                                                     [key], {});\n",
              "          if (!dataTable) return;\n",
              "\n",
              "          const docLinkHtml = 'Like what you see? Visit the ' +\n",
              "            '<a target=\"_blank\" href=https://colab.research.google.com/notebooks/data_table.ipynb>data table notebook</a>'\n",
              "            + ' to learn more about interactive tables.';\n",
              "          element.innerHTML = '';\n",
              "          dataTable['output_type'] = 'display_data';\n",
              "          await google.colab.output.renderOutput(dataTable, element);\n",
              "          const docLink = document.createElement('div');\n",
              "          docLink.innerHTML = docLinkHtml;\n",
              "          element.appendChild(docLink);\n",
              "        }\n",
              "      </script>\n",
              "    </div>\n",
              "  </div>\n",
              "  "
            ]
          },
          "metadata": {},
          "execution_count": 4
        }
      ]
    },
    {
      "cell_type": "code",
      "source": [
        "base_dados_mulheres = pd.read_csv('medidas_corporais_mulheres.csv')\n",
        "base_dados_mulheres.drop('Unnamed: 0',axis = 'columns', inplace = True)\n",
        "base_dados_mulheres.head()"
      ],
      "metadata": {
        "colab": {
          "base_uri": "https://localhost:8080/",
          "height": 302
        },
        "id": "vNqSE6z6ZTgX",
        "outputId": "6655ca5e-06ba-4dea-d700-fe7e45f0b6bf"
      },
      "execution_count": null,
      "outputs": [
        {
          "output_type": "execute_result",
          "data": {
            "text/plain": [
              "   Idade (anos)  Batimentos (bpm)  PSist (mmHg)  PDiast (mmHg)  \\\n",
              "0            60                78           122             60   \n",
              "1            24                80           120             64   \n",
              "2            49                68            90             48   \n",
              "3            62                56           150             80   \n",
              "4            53                76           132             58   \n",
              "\n",
              "   Colesterol HDL (mg/dL)  Colesterol LDL (mg/dL)  \\\n",
              "0                      74                     140   \n",
              "1                      56                     142   \n",
              "2                      70                      72   \n",
              "3                      40                     164   \n",
              "4                      67                     109   \n",
              "\n",
              "   Células brancas sangue (1.000 cel/μL)  \\\n",
              "0                                    9.6   \n",
              "1                                    7.1   \n",
              "2                                    7.5   \n",
              "3                                    6.8   \n",
              "4                                    5.6   \n",
              "\n",
              "   Células vermelhas sangue (1.000 cel/μL)  Plaquetas (1.000 cel/μL)  \\\n",
              "0                                     4.70                       317   \n",
              "1                                     4.64                       224   \n",
              "2                                     4.61                       248   \n",
              "3                                     4.09                       309   \n",
              "4                                     4.36                       335   \n",
              "\n",
              "   Peso (kg)  Altura (cm)  Circun cintura (cm)  Circun braco (cm)  IMC (kg/m²)  \n",
              "0       59.3        163.7                 82.3               27.5        22.13  \n",
              "1       74.5        165.5                 88.5               30.0        27.20  \n",
              "2       77.7        163.1                 94.9               34.4        29.21  \n",
              "3       97.9        166.3                111.8               38.7        35.40  \n",
              "4       71.7        163.6                 86.5               32.2        26.79  "
            ],
            "text/html": [
              "\n",
              "  <div id=\"df-382ca41f-a3f3-4a66-a7d9-bcc98408ec30\">\n",
              "    <div class=\"colab-df-container\">\n",
              "      <div>\n",
              "<style scoped>\n",
              "    .dataframe tbody tr th:only-of-type {\n",
              "        vertical-align: middle;\n",
              "    }\n",
              "\n",
              "    .dataframe tbody tr th {\n",
              "        vertical-align: top;\n",
              "    }\n",
              "\n",
              "    .dataframe thead th {\n",
              "        text-align: right;\n",
              "    }\n",
              "</style>\n",
              "<table border=\"1\" class=\"dataframe\">\n",
              "  <thead>\n",
              "    <tr style=\"text-align: right;\">\n",
              "      <th></th>\n",
              "      <th>Idade (anos)</th>\n",
              "      <th>Batimentos (bpm)</th>\n",
              "      <th>PSist (mmHg)</th>\n",
              "      <th>PDiast (mmHg)</th>\n",
              "      <th>Colesterol HDL (mg/dL)</th>\n",
              "      <th>Colesterol LDL (mg/dL)</th>\n",
              "      <th>Células brancas sangue (1.000 cel/μL)</th>\n",
              "      <th>Células vermelhas sangue (1.000 cel/μL)</th>\n",
              "      <th>Plaquetas (1.000 cel/μL)</th>\n",
              "      <th>Peso (kg)</th>\n",
              "      <th>Altura (cm)</th>\n",
              "      <th>Circun cintura (cm)</th>\n",
              "      <th>Circun braco (cm)</th>\n",
              "      <th>IMC (kg/m²)</th>\n",
              "    </tr>\n",
              "  </thead>\n",
              "  <tbody>\n",
              "    <tr>\n",
              "      <th>0</th>\n",
              "      <td>60</td>\n",
              "      <td>78</td>\n",
              "      <td>122</td>\n",
              "      <td>60</td>\n",
              "      <td>74</td>\n",
              "      <td>140</td>\n",
              "      <td>9.6</td>\n",
              "      <td>4.70</td>\n",
              "      <td>317</td>\n",
              "      <td>59.3</td>\n",
              "      <td>163.7</td>\n",
              "      <td>82.3</td>\n",
              "      <td>27.5</td>\n",
              "      <td>22.13</td>\n",
              "    </tr>\n",
              "    <tr>\n",
              "      <th>1</th>\n",
              "      <td>24</td>\n",
              "      <td>80</td>\n",
              "      <td>120</td>\n",
              "      <td>64</td>\n",
              "      <td>56</td>\n",
              "      <td>142</td>\n",
              "      <td>7.1</td>\n",
              "      <td>4.64</td>\n",
              "      <td>224</td>\n",
              "      <td>74.5</td>\n",
              "      <td>165.5</td>\n",
              "      <td>88.5</td>\n",
              "      <td>30.0</td>\n",
              "      <td>27.20</td>\n",
              "    </tr>\n",
              "    <tr>\n",
              "      <th>2</th>\n",
              "      <td>49</td>\n",
              "      <td>68</td>\n",
              "      <td>90</td>\n",
              "      <td>48</td>\n",
              "      <td>70</td>\n",
              "      <td>72</td>\n",
              "      <td>7.5</td>\n",
              "      <td>4.61</td>\n",
              "      <td>248</td>\n",
              "      <td>77.7</td>\n",
              "      <td>163.1</td>\n",
              "      <td>94.9</td>\n",
              "      <td>34.4</td>\n",
              "      <td>29.21</td>\n",
              "    </tr>\n",
              "    <tr>\n",
              "      <th>3</th>\n",
              "      <td>62</td>\n",
              "      <td>56</td>\n",
              "      <td>150</td>\n",
              "      <td>80</td>\n",
              "      <td>40</td>\n",
              "      <td>164</td>\n",
              "      <td>6.8</td>\n",
              "      <td>4.09</td>\n",
              "      <td>309</td>\n",
              "      <td>97.9</td>\n",
              "      <td>166.3</td>\n",
              "      <td>111.8</td>\n",
              "      <td>38.7</td>\n",
              "      <td>35.40</td>\n",
              "    </tr>\n",
              "    <tr>\n",
              "      <th>4</th>\n",
              "      <td>53</td>\n",
              "      <td>76</td>\n",
              "      <td>132</td>\n",
              "      <td>58</td>\n",
              "      <td>67</td>\n",
              "      <td>109</td>\n",
              "      <td>5.6</td>\n",
              "      <td>4.36</td>\n",
              "      <td>335</td>\n",
              "      <td>71.7</td>\n",
              "      <td>163.6</td>\n",
              "      <td>86.5</td>\n",
              "      <td>32.2</td>\n",
              "      <td>26.79</td>\n",
              "    </tr>\n",
              "  </tbody>\n",
              "</table>\n",
              "</div>\n",
              "      <button class=\"colab-df-convert\" onclick=\"convertToInteractive('df-382ca41f-a3f3-4a66-a7d9-bcc98408ec30')\"\n",
              "              title=\"Convert this dataframe to an interactive table.\"\n",
              "              style=\"display:none;\">\n",
              "        \n",
              "  <svg xmlns=\"http://www.w3.org/2000/svg\" height=\"24px\"viewBox=\"0 0 24 24\"\n",
              "       width=\"24px\">\n",
              "    <path d=\"M0 0h24v24H0V0z\" fill=\"none\"/>\n",
              "    <path d=\"M18.56 5.44l.94 2.06.94-2.06 2.06-.94-2.06-.94-.94-2.06-.94 2.06-2.06.94zm-11 1L8.5 8.5l.94-2.06 2.06-.94-2.06-.94L8.5 2.5l-.94 2.06-2.06.94zm10 10l.94 2.06.94-2.06 2.06-.94-2.06-.94-.94-2.06-.94 2.06-2.06.94z\"/><path d=\"M17.41 7.96l-1.37-1.37c-.4-.4-.92-.59-1.43-.59-.52 0-1.04.2-1.43.59L10.3 9.45l-7.72 7.72c-.78.78-.78 2.05 0 2.83L4 21.41c.39.39.9.59 1.41.59.51 0 1.02-.2 1.41-.59l7.78-7.78 2.81-2.81c.8-.78.8-2.07 0-2.86zM5.41 20L4 18.59l7.72-7.72 1.47 1.35L5.41 20z\"/>\n",
              "  </svg>\n",
              "      </button>\n",
              "      \n",
              "  <style>\n",
              "    .colab-df-container {\n",
              "      display:flex;\n",
              "      flex-wrap:wrap;\n",
              "      gap: 12px;\n",
              "    }\n",
              "\n",
              "    .colab-df-convert {\n",
              "      background-color: #E8F0FE;\n",
              "      border: none;\n",
              "      border-radius: 50%;\n",
              "      cursor: pointer;\n",
              "      display: none;\n",
              "      fill: #1967D2;\n",
              "      height: 32px;\n",
              "      padding: 0 0 0 0;\n",
              "      width: 32px;\n",
              "    }\n",
              "\n",
              "    .colab-df-convert:hover {\n",
              "      background-color: #E2EBFA;\n",
              "      box-shadow: 0px 1px 2px rgba(60, 64, 67, 0.3), 0px 1px 3px 1px rgba(60, 64, 67, 0.15);\n",
              "      fill: #174EA6;\n",
              "    }\n",
              "\n",
              "    [theme=dark] .colab-df-convert {\n",
              "      background-color: #3B4455;\n",
              "      fill: #D2E3FC;\n",
              "    }\n",
              "\n",
              "    [theme=dark] .colab-df-convert:hover {\n",
              "      background-color: #434B5C;\n",
              "      box-shadow: 0px 1px 3px 1px rgba(0, 0, 0, 0.15);\n",
              "      filter: drop-shadow(0px 1px 2px rgba(0, 0, 0, 0.3));\n",
              "      fill: #FFFFFF;\n",
              "    }\n",
              "  </style>\n",
              "\n",
              "      <script>\n",
              "        const buttonEl =\n",
              "          document.querySelector('#df-382ca41f-a3f3-4a66-a7d9-bcc98408ec30 button.colab-df-convert');\n",
              "        buttonEl.style.display =\n",
              "          google.colab.kernel.accessAllowed ? 'block' : 'none';\n",
              "\n",
              "        async function convertToInteractive(key) {\n",
              "          const element = document.querySelector('#df-382ca41f-a3f3-4a66-a7d9-bcc98408ec30');\n",
              "          const dataTable =\n",
              "            await google.colab.kernel.invokeFunction('convertToInteractive',\n",
              "                                                     [key], {});\n",
              "          if (!dataTable) return;\n",
              "\n",
              "          const docLinkHtml = 'Like what you see? Visit the ' +\n",
              "            '<a target=\"_blank\" href=https://colab.research.google.com/notebooks/data_table.ipynb>data table notebook</a>'\n",
              "            + ' to learn more about interactive tables.';\n",
              "          element.innerHTML = '';\n",
              "          dataTable['output_type'] = 'display_data';\n",
              "          await google.colab.output.renderOutput(dataTable, element);\n",
              "          const docLink = document.createElement('div');\n",
              "          docLink.innerHTML = docLinkHtml;\n",
              "          element.appendChild(docLink);\n",
              "        }\n",
              "      </script>\n",
              "    </div>\n",
              "  </div>\n",
              "  "
            ]
          },
          "metadata": {},
          "execution_count": 6
        }
      ]
    },
    {
      "cell_type": "code",
      "source": [
        "#criando uma nova coluna identificando o sexo na base de dados femininos, temos:\n",
        "sexo = []\n",
        "for i in base_dados_mulheres.index:\n",
        "  sexo.append(int(1))\n",
        "base_dados_mulheres['Sexo'] = sexo\n",
        "base_dados_mulheres.head()"
      ],
      "metadata": {
        "colab": {
          "base_uri": "https://localhost:8080/",
          "height": 319
        },
        "id": "Ms1H90dlZQki",
        "outputId": "081b4a1c-2dac-475a-8acc-ae21fb3ca546"
      },
      "execution_count": null,
      "outputs": [
        {
          "output_type": "execute_result",
          "data": {
            "text/plain": [
              "   Idade (anos)  Batimentos (bpm)  PSist (mmHg)  PDiast (mmHg)  \\\n",
              "0            60                78           122             60   \n",
              "1            24                80           120             64   \n",
              "2            49                68            90             48   \n",
              "3            62                56           150             80   \n",
              "4            53                76           132             58   \n",
              "\n",
              "   Colesterol HDL (mg/dL)  Colesterol LDL (mg/dL)  \\\n",
              "0                      74                     140   \n",
              "1                      56                     142   \n",
              "2                      70                      72   \n",
              "3                      40                     164   \n",
              "4                      67                     109   \n",
              "\n",
              "   Células brancas sangue (1.000 cel/μL)  \\\n",
              "0                                    9.6   \n",
              "1                                    7.1   \n",
              "2                                    7.5   \n",
              "3                                    6.8   \n",
              "4                                    5.6   \n",
              "\n",
              "   Células vermelhas sangue (1.000 cel/μL)  Plaquetas (1.000 cel/μL)  \\\n",
              "0                                     4.70                       317   \n",
              "1                                     4.64                       224   \n",
              "2                                     4.61                       248   \n",
              "3                                     4.09                       309   \n",
              "4                                     4.36                       335   \n",
              "\n",
              "   Peso (kg)  Altura (cm)  Circun cintura (cm)  Circun braco (cm)  \\\n",
              "0       59.3        163.7                 82.3               27.5   \n",
              "1       74.5        165.5                 88.5               30.0   \n",
              "2       77.7        163.1                 94.9               34.4   \n",
              "3       97.9        166.3                111.8               38.7   \n",
              "4       71.7        163.6                 86.5               32.2   \n",
              "\n",
              "   IMC (kg/m²)  Sexo  \n",
              "0        22.13     1  \n",
              "1        27.20     1  \n",
              "2        29.21     1  \n",
              "3        35.40     1  \n",
              "4        26.79     1  "
            ],
            "text/html": [
              "\n",
              "  <div id=\"df-90d44cc1-6ed0-443b-a498-891f41a7b328\">\n",
              "    <div class=\"colab-df-container\">\n",
              "      <div>\n",
              "<style scoped>\n",
              "    .dataframe tbody tr th:only-of-type {\n",
              "        vertical-align: middle;\n",
              "    }\n",
              "\n",
              "    .dataframe tbody tr th {\n",
              "        vertical-align: top;\n",
              "    }\n",
              "\n",
              "    .dataframe thead th {\n",
              "        text-align: right;\n",
              "    }\n",
              "</style>\n",
              "<table border=\"1\" class=\"dataframe\">\n",
              "  <thead>\n",
              "    <tr style=\"text-align: right;\">\n",
              "      <th></th>\n",
              "      <th>Idade (anos)</th>\n",
              "      <th>Batimentos (bpm)</th>\n",
              "      <th>PSist (mmHg)</th>\n",
              "      <th>PDiast (mmHg)</th>\n",
              "      <th>Colesterol HDL (mg/dL)</th>\n",
              "      <th>Colesterol LDL (mg/dL)</th>\n",
              "      <th>Células brancas sangue (1.000 cel/μL)</th>\n",
              "      <th>Células vermelhas sangue (1.000 cel/μL)</th>\n",
              "      <th>Plaquetas (1.000 cel/μL)</th>\n",
              "      <th>Peso (kg)</th>\n",
              "      <th>Altura (cm)</th>\n",
              "      <th>Circun cintura (cm)</th>\n",
              "      <th>Circun braco (cm)</th>\n",
              "      <th>IMC (kg/m²)</th>\n",
              "      <th>Sexo</th>\n",
              "    </tr>\n",
              "  </thead>\n",
              "  <tbody>\n",
              "    <tr>\n",
              "      <th>0</th>\n",
              "      <td>60</td>\n",
              "      <td>78</td>\n",
              "      <td>122</td>\n",
              "      <td>60</td>\n",
              "      <td>74</td>\n",
              "      <td>140</td>\n",
              "      <td>9.6</td>\n",
              "      <td>4.70</td>\n",
              "      <td>317</td>\n",
              "      <td>59.3</td>\n",
              "      <td>163.7</td>\n",
              "      <td>82.3</td>\n",
              "      <td>27.5</td>\n",
              "      <td>22.13</td>\n",
              "      <td>1</td>\n",
              "    </tr>\n",
              "    <tr>\n",
              "      <th>1</th>\n",
              "      <td>24</td>\n",
              "      <td>80</td>\n",
              "      <td>120</td>\n",
              "      <td>64</td>\n",
              "      <td>56</td>\n",
              "      <td>142</td>\n",
              "      <td>7.1</td>\n",
              "      <td>4.64</td>\n",
              "      <td>224</td>\n",
              "      <td>74.5</td>\n",
              "      <td>165.5</td>\n",
              "      <td>88.5</td>\n",
              "      <td>30.0</td>\n",
              "      <td>27.20</td>\n",
              "      <td>1</td>\n",
              "    </tr>\n",
              "    <tr>\n",
              "      <th>2</th>\n",
              "      <td>49</td>\n",
              "      <td>68</td>\n",
              "      <td>90</td>\n",
              "      <td>48</td>\n",
              "      <td>70</td>\n",
              "      <td>72</td>\n",
              "      <td>7.5</td>\n",
              "      <td>4.61</td>\n",
              "      <td>248</td>\n",
              "      <td>77.7</td>\n",
              "      <td>163.1</td>\n",
              "      <td>94.9</td>\n",
              "      <td>34.4</td>\n",
              "      <td>29.21</td>\n",
              "      <td>1</td>\n",
              "    </tr>\n",
              "    <tr>\n",
              "      <th>3</th>\n",
              "      <td>62</td>\n",
              "      <td>56</td>\n",
              "      <td>150</td>\n",
              "      <td>80</td>\n",
              "      <td>40</td>\n",
              "      <td>164</td>\n",
              "      <td>6.8</td>\n",
              "      <td>4.09</td>\n",
              "      <td>309</td>\n",
              "      <td>97.9</td>\n",
              "      <td>166.3</td>\n",
              "      <td>111.8</td>\n",
              "      <td>38.7</td>\n",
              "      <td>35.40</td>\n",
              "      <td>1</td>\n",
              "    </tr>\n",
              "    <tr>\n",
              "      <th>4</th>\n",
              "      <td>53</td>\n",
              "      <td>76</td>\n",
              "      <td>132</td>\n",
              "      <td>58</td>\n",
              "      <td>67</td>\n",
              "      <td>109</td>\n",
              "      <td>5.6</td>\n",
              "      <td>4.36</td>\n",
              "      <td>335</td>\n",
              "      <td>71.7</td>\n",
              "      <td>163.6</td>\n",
              "      <td>86.5</td>\n",
              "      <td>32.2</td>\n",
              "      <td>26.79</td>\n",
              "      <td>1</td>\n",
              "    </tr>\n",
              "  </tbody>\n",
              "</table>\n",
              "</div>\n",
              "      <button class=\"colab-df-convert\" onclick=\"convertToInteractive('df-90d44cc1-6ed0-443b-a498-891f41a7b328')\"\n",
              "              title=\"Convert this dataframe to an interactive table.\"\n",
              "              style=\"display:none;\">\n",
              "        \n",
              "  <svg xmlns=\"http://www.w3.org/2000/svg\" height=\"24px\"viewBox=\"0 0 24 24\"\n",
              "       width=\"24px\">\n",
              "    <path d=\"M0 0h24v24H0V0z\" fill=\"none\"/>\n",
              "    <path d=\"M18.56 5.44l.94 2.06.94-2.06 2.06-.94-2.06-.94-.94-2.06-.94 2.06-2.06.94zm-11 1L8.5 8.5l.94-2.06 2.06-.94-2.06-.94L8.5 2.5l-.94 2.06-2.06.94zm10 10l.94 2.06.94-2.06 2.06-.94-2.06-.94-.94-2.06-.94 2.06-2.06.94z\"/><path d=\"M17.41 7.96l-1.37-1.37c-.4-.4-.92-.59-1.43-.59-.52 0-1.04.2-1.43.59L10.3 9.45l-7.72 7.72c-.78.78-.78 2.05 0 2.83L4 21.41c.39.39.9.59 1.41.59.51 0 1.02-.2 1.41-.59l7.78-7.78 2.81-2.81c.8-.78.8-2.07 0-2.86zM5.41 20L4 18.59l7.72-7.72 1.47 1.35L5.41 20z\"/>\n",
              "  </svg>\n",
              "      </button>\n",
              "      \n",
              "  <style>\n",
              "    .colab-df-container {\n",
              "      display:flex;\n",
              "      flex-wrap:wrap;\n",
              "      gap: 12px;\n",
              "    }\n",
              "\n",
              "    .colab-df-convert {\n",
              "      background-color: #E8F0FE;\n",
              "      border: none;\n",
              "      border-radius: 50%;\n",
              "      cursor: pointer;\n",
              "      display: none;\n",
              "      fill: #1967D2;\n",
              "      height: 32px;\n",
              "      padding: 0 0 0 0;\n",
              "      width: 32px;\n",
              "    }\n",
              "\n",
              "    .colab-df-convert:hover {\n",
              "      background-color: #E2EBFA;\n",
              "      box-shadow: 0px 1px 2px rgba(60, 64, 67, 0.3), 0px 1px 3px 1px rgba(60, 64, 67, 0.15);\n",
              "      fill: #174EA6;\n",
              "    }\n",
              "\n",
              "    [theme=dark] .colab-df-convert {\n",
              "      background-color: #3B4455;\n",
              "      fill: #D2E3FC;\n",
              "    }\n",
              "\n",
              "    [theme=dark] .colab-df-convert:hover {\n",
              "      background-color: #434B5C;\n",
              "      box-shadow: 0px 1px 3px 1px rgba(0, 0, 0, 0.15);\n",
              "      filter: drop-shadow(0px 1px 2px rgba(0, 0, 0, 0.3));\n",
              "      fill: #FFFFFF;\n",
              "    }\n",
              "  </style>\n",
              "\n",
              "      <script>\n",
              "        const buttonEl =\n",
              "          document.querySelector('#df-90d44cc1-6ed0-443b-a498-891f41a7b328 button.colab-df-convert');\n",
              "        buttonEl.style.display =\n",
              "          google.colab.kernel.accessAllowed ? 'block' : 'none';\n",
              "\n",
              "        async function convertToInteractive(key) {\n",
              "          const element = document.querySelector('#df-90d44cc1-6ed0-443b-a498-891f41a7b328');\n",
              "          const dataTable =\n",
              "            await google.colab.kernel.invokeFunction('convertToInteractive',\n",
              "                                                     [key], {});\n",
              "          if (!dataTable) return;\n",
              "\n",
              "          const docLinkHtml = 'Like what you see? Visit the ' +\n",
              "            '<a target=\"_blank\" href=https://colab.research.google.com/notebooks/data_table.ipynb>data table notebook</a>'\n",
              "            + ' to learn more about interactive tables.';\n",
              "          element.innerHTML = '';\n",
              "          dataTable['output_type'] = 'display_data';\n",
              "          await google.colab.output.renderOutput(dataTable, element);\n",
              "          const docLink = document.createElement('div');\n",
              "          docLink.innerHTML = docLinkHtml;\n",
              "          element.appendChild(docLink);\n",
              "        }\n",
              "      </script>\n",
              "    </div>\n",
              "  </div>\n",
              "  "
            ]
          },
          "metadata": {},
          "execution_count": 7
        }
      ]
    },
    {
      "cell_type": "code",
      "source": [
        "#concatenando os DataFrames masculinos e femininos, obtemos o seguinte DataFrame:\n",
        "base_dados_unisex = pd.concat([base_dados_homens, base_dados_mulheres], axis = 'index')\n",
        "base_dados_unisex.info()"
      ],
      "metadata": {
        "colab": {
          "base_uri": "https://localhost:8080/"
        },
        "id": "kDxSqzh-ZiKs",
        "outputId": "bbfab540-cade-4859-bf56-8d421be8e185"
      },
      "execution_count": null,
      "outputs": [
        {
          "output_type": "stream",
          "name": "stdout",
          "text": [
            "<class 'pandas.core.frame.DataFrame'>\n",
            "Int64Index: 80 entries, 0 to 39\n",
            "Data columns (total 16 columns):\n",
            " #   Column                                   Non-Null Count  Dtype  \n",
            "---  ------                                   --------------  -----  \n",
            " 0   Idade (anos)                             80 non-null     int64  \n",
            " 1   Batimentos (bpm)                         80 non-null     int64  \n",
            " 2   PSist (mmHg)                             80 non-null     int64  \n",
            " 3   PDiast (mmHg)                            80 non-null     int64  \n",
            " 4   Colesterol HDL (mg/dL)                   80 non-null     int64  \n",
            " 5   Colesterol LDL (mg/dL)                   80 non-null     int64  \n",
            " 6   Células brancas sangue (1.000 cel/μL)    80 non-null     float64\n",
            " 7   Células vermelhas sangue (1.000 cel/μL)  80 non-null     float64\n",
            " 8   Plaquetas (1.000 cel/μL)                 80 non-null     int64  \n",
            " 9   Peso (kg)                                80 non-null     float64\n",
            " 10  Altura (cm)                              80 non-null     float64\n",
            " 11  Circun cintura(cm)                       40 non-null     float64\n",
            " 12  Circun braco (cm)                        80 non-null     float64\n",
            " 13  IMC (kg/m²)                              80 non-null     float64\n",
            " 14  Sexo                                     80 non-null     int64  \n",
            " 15  Circun cintura (cm)                      40 non-null     float64\n",
            "dtypes: float64(8), int64(8)\n",
            "memory usage: 10.6 KB\n"
          ]
        }
      ]
    },
    {
      "cell_type": "code",
      "source": [
        "#Verificando a quantidade de cada valor na variável \"Sexo\", temos:\n",
        "base_dados_unisex['Sexo'].value_counts()"
      ],
      "metadata": {
        "colab": {
          "base_uri": "https://localhost:8080/"
        },
        "id": "CvXBNADaadox",
        "outputId": "b3be191a-d1fa-45fd-e9a5-326a5894075c"
      },
      "execution_count": null,
      "outputs": [
        {
          "output_type": "execute_result",
          "data": {
            "text/plain": [
              "0    40\n",
              "1    40\n",
              "Name: Sexo, dtype: int64"
            ]
          },
          "metadata": {},
          "execution_count": 9
        }
      ]
    },
    {
      "cell_type": "markdown",
      "source": [
        "Para a comparação de conjuntos de dados diferentes, podemos utilizar os diagramas de caixas modificados. Tais diagramas são úteis para comparar a dipersão de dados, onde os valores estão mais concentrados. Sendo, assim, construindo um diagrama de caixa modificado para a comparação dos diferentes conjuntos de dados, temos:"
      ],
      "metadata": {
        "id": "r3d09GI9Ajd5"
      }
    },
    {
      "cell_type": "markdown",
      "source": [
        "Os diagramas de boxplot modificados são construidos a partir de 5 números resumos: valor mínimo, quartil 1, quartil 2, quartil 3 e valor máximo. Além desses números, podemos definir um limite superior e um limite superior, onde acima e abaixo, respectivamente, são valores atípicos ou outliers."
      ],
      "metadata": {
        "id": "i7g9CDvuEGh6"
      }
    },
    {
      "cell_type": "markdown",
      "source": [
        "calculando os numeros resumos do boxplot modificado para homens, temos:"
      ],
      "metadata": {
        "id": "Bbgni-8eFnOx"
      }
    },
    {
      "cell_type": "code",
      "source": [
        "#calculando os quartis do conjunto de dados de batimentos de homens, temos:\n",
        "quartis_homens = base_dados_homens['Batimentos (bpm)'].quantile([0.25,0.50,0.75])\n",
        "nomes_quartis = {0.25:'Q1',\n",
        "                 0.5:'Q2',\n",
        "                 0.75:'Q3'}\n",
        "quartis_homens.rename(index = nomes_quartis, inplace = True)\n",
        "quartis_homens"
      ],
      "metadata": {
        "colab": {
          "base_uri": "https://localhost:8080/"
        },
        "id": "3IEKdbyVEBJ7",
        "outputId": "5ece1b92-f1dd-486c-a5b6-739aa25155d7"
      },
      "execution_count": null,
      "outputs": [
        {
          "output_type": "execute_result",
          "data": {
            "text/plain": [
              "Q1    60.0\n",
              "Q2    67.0\n",
              "Q3    74.0\n",
              "Name: Batimentos (bpm), dtype: float64"
            ]
          },
          "metadata": {},
          "execution_count": 26
        }
      ]
    },
    {
      "cell_type": "code",
      "source": [
        "#Calculando o valor máximo do conjunto de batimentos de homens:\n",
        "base_dados_homens['Batimentos (bpm)'].max()"
      ],
      "metadata": {
        "colab": {
          "base_uri": "https://localhost:8080/"
        },
        "id": "A4h7OdRLHfCU",
        "outputId": "4035eaf0-5e85-42f4-e7ba-2b9970999efd"
      },
      "execution_count": null,
      "outputs": [
        {
          "output_type": "execute_result",
          "data": {
            "text/plain": [
              "90"
            ]
          },
          "metadata": {},
          "execution_count": 37
        }
      ]
    },
    {
      "cell_type": "code",
      "source": [
        "#Calculando o intervalor interquartil e os limites inferiores e superiores, temos:\n",
        "Q1 = 60\n",
        "Q3 = 74\n",
        "IIQ = Q3 - Q1\n",
        "IIQ"
      ],
      "metadata": {
        "colab": {
          "base_uri": "https://localhost:8080/"
        },
        "id": "ckAAhYARGFts",
        "outputId": "2b8d5c72-5027-4305-bbf4-fa18d5c3823d"
      },
      "execution_count": null,
      "outputs": [
        {
          "output_type": "execute_result",
          "data": {
            "text/plain": [
              "14"
            ]
          },
          "metadata": {},
          "execution_count": 27
        }
      ]
    },
    {
      "cell_type": "code",
      "source": [
        "#Calculando os limites inferiores e superiores, temos:\n",
        "lim_inf = Q1 - 1.5*IIQ\n",
        "lim_inf"
      ],
      "metadata": {
        "colab": {
          "base_uri": "https://localhost:8080/"
        },
        "id": "T2YaGhJtGUqk",
        "outputId": "e43183c1-e0a1-4736-ed96-25fa0148cbca"
      },
      "execution_count": null,
      "outputs": [
        {
          "output_type": "execute_result",
          "data": {
            "text/plain": [
              "39.0"
            ]
          },
          "metadata": {},
          "execution_count": 28
        }
      ]
    },
    {
      "cell_type": "code",
      "source": [
        "lim_sup = Q3 + 1.5*IIQ\n",
        "lim_sup"
      ],
      "metadata": {
        "colab": {
          "base_uri": "https://localhost:8080/"
        },
        "id": "4TIhAKLFGeUU",
        "outputId": "d4649ccb-2528-4823-b636-ef919e2a535d"
      },
      "execution_count": null,
      "outputs": [
        {
          "output_type": "execute_result",
          "data": {
            "text/plain": [
              "95.0"
            ]
          },
          "metadata": {},
          "execution_count": 29
        }
      ]
    },
    {
      "cell_type": "markdown",
      "source": [
        "calculando os numeros resumos do boxplot modificado para mulheres, temos:"
      ],
      "metadata": {
        "id": "LJjLHXSpGv_x"
      }
    },
    {
      "cell_type": "code",
      "source": [
        "#calculando os quartis do conjunto de dados de batimentos de mulheres, temos:\n",
        "quartis_mulheres = base_dados_mulheres['Batimentos (bpm)'].quantile([0.25,0.50,0.75])\n",
        "nomes_quartis = {0.25:'Q1',\n",
        "                 0.5:'Q2',\n",
        "                 0.75:'Q3'}\n",
        "quartis_mulheres.rename(index = nomes_quartis, inplace = True)\n",
        "quartis_mulheres"
      ],
      "metadata": {
        "colab": {
          "base_uri": "https://localhost:8080/"
        },
        "id": "BNgt_IRRFR-b",
        "outputId": "a315a00e-ffbc-4701-e64c-97dc74f4093a"
      },
      "execution_count": null,
      "outputs": [
        {
          "output_type": "execute_result",
          "data": {
            "text/plain": [
              "Q1    72.0\n",
              "Q2    77.0\n",
              "Q3    82.0\n",
              "Name: Batimentos (bpm), dtype: float64"
            ]
          },
          "metadata": {},
          "execution_count": 25
        }
      ]
    },
    {
      "cell_type": "code",
      "source": [
        "#Calculando o valor máximo do conjunto de batimentos de mulheres:\n",
        "base_dados_mulheres['Batimentos (bpm)'].max()"
      ],
      "metadata": {
        "colab": {
          "base_uri": "https://localhost:8080/"
        },
        "id": "9WfFVU3QHrYU",
        "outputId": "fa67cd9a-5e02-4fe5-b55b-bc3df9ce2b93"
      },
      "execution_count": null,
      "outputs": [
        {
          "output_type": "execute_result",
          "data": {
            "text/plain": [
              "104"
            ]
          },
          "metadata": {},
          "execution_count": 38
        }
      ]
    },
    {
      "cell_type": "code",
      "source": [
        "#Calculando o intervalo interquartil, temos:\n",
        "Q1 = 72\n",
        "Q3 = 82\n",
        "IIQ = Q3 - Q1\n",
        "IIQ"
      ],
      "metadata": {
        "colab": {
          "base_uri": "https://localhost:8080/"
        },
        "id": "njuHfrlFGzfE",
        "outputId": "57e7f056-0142-4a9d-9f3b-428dff575b37"
      },
      "execution_count": null,
      "outputs": [
        {
          "output_type": "execute_result",
          "data": {
            "text/plain": [
              "10"
            ]
          },
          "metadata": {},
          "execution_count": 30
        }
      ]
    },
    {
      "cell_type": "code",
      "source": [
        "#Calculando os limites superiores e inferiores, temos:\n",
        "lim_inf = Q1 - 1.5*IIQ\n",
        "lim_sup = Q3 + 1.5*IIQ"
      ],
      "metadata": {
        "id": "eetUCuOdG_37"
      },
      "execution_count": null,
      "outputs": []
    },
    {
      "cell_type": "code",
      "source": [
        "lim_inf"
      ],
      "metadata": {
        "colab": {
          "base_uri": "https://localhost:8080/"
        },
        "id": "WbjFiuiDHIl7",
        "outputId": "2bdaae1b-596a-445e-99c8-617232511cc8"
      },
      "execution_count": null,
      "outputs": [
        {
          "output_type": "execute_result",
          "data": {
            "text/plain": [
              "57.0"
            ]
          },
          "metadata": {},
          "execution_count": 32
        }
      ]
    },
    {
      "cell_type": "code",
      "source": [
        "lim_sup"
      ],
      "metadata": {
        "colab": {
          "base_uri": "https://localhost:8080/"
        },
        "id": "8I21Ft2-HKNz",
        "outputId": "8b225dab-71b1-4185-a9b1-cd05f638c97c"
      },
      "execution_count": null,
      "outputs": [
        {
          "output_type": "execute_result",
          "data": {
            "text/plain": [
              "97.0"
            ]
          },
          "metadata": {},
          "execution_count": 33
        }
      ]
    },
    {
      "cell_type": "code",
      "source": [
        "ax = sns.boxplot(x = 'Sexo',y = 'Batimentos (bpm)', data = base_dados_unisex)\n",
        "ax.figure.set_size_inches(14,8) #tamanho da figura\n",
        "ax.set_title('Taxa de pulsação cardíaca de homens e mulheres (bpm)',fontsize = 18) #configurando o título do gráfico\n",
        "\n",
        "ax.set_xlabel('Sexo',fontsize = 14) #configurando o eixo x\n",
        "\n",
        "ax.set_xticklabels(labels = ['Homens','Mulheres'], fontsize = 12) #configurando os labels do eixo x\n",
        "\n",
        "ax.set(ylim=(0, 115)) #configurando limite inferior e superior do eixo y\n",
        "\n",
        "ax.set_yticks([i for i in range(0,115,5)])\n",
        "\n",
        "ax"
      ],
      "metadata": {
        "colab": {
          "base_uri": "https://localhost:8080/",
          "height": 542
        },
        "id": "uddM0lzeWoTW",
        "outputId": "3265eceb-aac5-4b93-c3d6-7f8292371e38"
      },
      "execution_count": null,
      "outputs": [
        {
          "output_type": "execute_result",
          "data": {
            "text/plain": [
              "<matplotlib.axes._subplots.AxesSubplot at 0x7f121fb5fe50>"
            ]
          },
          "metadata": {},
          "execution_count": 40
        },
        {
          "output_type": "display_data",
          "data": {
            "text/plain": [
              "<Figure size 1008x576 with 1 Axes>"
            ],
            "image/png": "[encoded data removed]"
          },
          "metadata": {
            "needs_background": "light"
          }
        }
      ]
    },
    {
      "cell_type": "markdown",
      "source": [
        "Apesar dos outliers serem definidos por critérios subjetivos e vagos, para propósito de construção de diagramas de caixa modificados podemos utilizar o seguinte critério para determinação de valores atípicos (ou outliers) no conjunto de valores:\n",
        "\n",
        "São outliers os valores do conjunto de dados que são maiores que Q3 + 1,5*IIQ ou menores que Q1 - 1,5*IIQ. Sendo o intervalo interquartil (IIQ) dado por IIQ = Q3 - Q1, onde Q3 e Q1 representam o terceiro quartil (P75) e primeiro quartil (P25), respectivamente. Os valores de outliers são representados por pontos, tais valores são observados para o diagrama de caixa modificado do conjunto de dados das mulheres."
      ],
      "metadata": {
        "id": "ZBzkEoPxBKC7"
      }
    },
    {
      "cell_type": "markdown",
      "source": [
        "**Conclusões**\n",
        "\n",
        "Visualizando o diagrama de boxplot, aparentemente há diferenças entre as taxas de pulsação cardíavas (batimentos por minuto) femininas e masculinas, o que indica um funcionamento distinto para ambos os sexos. Portanto, a taxa de pulsação, aparentemente, é maior para o sexo feminino do que para o sexo masculino."
      ],
      "metadata": {
        "id": "f-Hmd6MHd6NP"
      }
    },
    {
      "cell_type": "markdown",
      "source": [
        "## Magnitudes de Terremotos \n"
      ],
      "metadata": {
        "id": "GboxQKvPiEnv"
      }
    },
    {
      "cell_type": "markdown",
      "source": [
        "**Problema 2.23 - Magnitude de terremotos**"
      ],
      "metadata": {
        "id": "WJ24qRK-up5R"
      }
    },
    {
      "cell_type": "markdown",
      "source": [
        "**Contexto dos dados**\n",
        "\n",
        "Cinquenta dados emparelhados de magnitude/profundidade selecionados aleatoriamente de 10.594 terremotos registrados\n",
        "em um ano, em uma localidade no sul da Califórnia. MAGN é a magnitude medida na escala Richter e DEPTH é a\n",
        "profundidade em km. A magnitude e a profundidade descrevem, ambas, a fonte do terremoto. Nas duas tabelas a seguir,\n",
        "as magnitudes e as profundidades estão emparelhadas por suas posições correspondentes nas duas tabelas. Os dados são\n",
        "do Southern California Earthquake Data Center (Centro de Dados de Terremotos da Califórnia do Sul).\n"
      ],
      "metadata": {
        "id": "ALDVJjbrklVh"
      }
    },
    {
      "cell_type": "markdown",
      "source": [
        "Consulte as magnitudes de terremotos listadas no Conjunto de Dados 16 do Apêndice B.\n",
        "Comece com o limite inferior de classe de 0,00 e use uma amplitude de classe de 0,50. Usando uma interpretação muito\n",
        "estrita das exigências para uma distribuição normal, as magnitudes parecem ser normalmente distribuídas?"
      ],
      "metadata": {
        "id": "famXXxCHiLUN"
      }
    },
    {
      "cell_type": "code",
      "source": [
        "#abrindo os dados, temos:\n",
        "base_dados = pd.read_csv('QUAKE.csv')\n",
        "base_dados.head()"
      ],
      "metadata": {
        "colab": {
          "base_uri": "https://localhost:8080/",
          "height": 206
        },
        "id": "9hp1fyDHfn0B",
        "outputId": "62a4d638-638d-4ea1-8a1d-0934c155e467"
      },
      "execution_count": null,
      "outputs": [
        {
          "output_type": "execute_result",
          "data": {
            "text/plain": [
              "    MAG  DEPTH\n",
              "0  0.70    6.6\n",
              "1  0.74    2.0\n",
              "2  0.64   15.3\n",
              "3  0.39   17.2\n",
              "4  0.70    3.2"
            ],
            "text/html": [
              "\n",
              "  <div id=\"df-9777db8c-6ef8-4378-a6f0-2d4c806df570\">\n",
              "    <div class=\"colab-df-container\">\n",
              "      <div>\n",
              "<style scoped>\n",
              "    .dataframe tbody tr th:only-of-type {\n",
              "        vertical-align: middle;\n",
              "    }\n",
              "\n",
              "    .dataframe tbody tr th {\n",
              "        vertical-align: top;\n",
              "    }\n",
              "\n",
              "    .dataframe thead th {\n",
              "        text-align: right;\n",
              "    }\n",
              "</style>\n",
              "<table border=\"1\" class=\"dataframe\">\n",
              "  <thead>\n",
              "    <tr style=\"text-align: right;\">\n",
              "      <th></th>\n",
              "      <th>MAG</th>\n",
              "      <th>DEPTH</th>\n",
              "    </tr>\n",
              "  </thead>\n",
              "  <tbody>\n",
              "    <tr>\n",
              "      <th>0</th>\n",
              "      <td>0.70</td>\n",
              "      <td>6.6</td>\n",
              "    </tr>\n",
              "    <tr>\n",
              "      <th>1</th>\n",
              "      <td>0.74</td>\n",
              "      <td>2.0</td>\n",
              "    </tr>\n",
              "    <tr>\n",
              "      <th>2</th>\n",
              "      <td>0.64</td>\n",
              "      <td>15.3</td>\n",
              "    </tr>\n",
              "    <tr>\n",
              "      <th>3</th>\n",
              "      <td>0.39</td>\n",
              "      <td>17.2</td>\n",
              "    </tr>\n",
              "    <tr>\n",
              "      <th>4</th>\n",
              "      <td>0.70</td>\n",
              "      <td>3.2</td>\n",
              "    </tr>\n",
              "  </tbody>\n",
              "</table>\n",
              "</div>\n",
              "      <button class=\"colab-df-convert\" onclick=\"convertToInteractive('df-9777db8c-6ef8-4378-a6f0-2d4c806df570')\"\n",
              "              title=\"Convert this dataframe to an interactive table.\"\n",
              "              style=\"display:none;\">\n",
              "        \n",
              "  <svg xmlns=\"http://www.w3.org/2000/svg\" height=\"24px\"viewBox=\"0 0 24 24\"\n",
              "       width=\"24px\">\n",
              "    <path d=\"M0 0h24v24H0V0z\" fill=\"none\"/>\n",
              "    <path d=\"M18.56 5.44l.94 2.06.94-2.06 2.06-.94-2.06-.94-.94-2.06-.94 2.06-2.06.94zm-11 1L8.5 8.5l.94-2.06 2.06-.94-2.06-.94L8.5 2.5l-.94 2.06-2.06.94zm10 10l.94 2.06.94-2.06 2.06-.94-2.06-.94-.94-2.06-.94 2.06-2.06.94z\"/><path d=\"M17.41 7.96l-1.37-1.37c-.4-.4-.92-.59-1.43-.59-.52 0-1.04.2-1.43.59L10.3 9.45l-7.72 7.72c-.78.78-.78 2.05 0 2.83L4 21.41c.39.39.9.59 1.41.59.51 0 1.02-.2 1.41-.59l7.78-7.78 2.81-2.81c.8-.78.8-2.07 0-2.86zM5.41 20L4 18.59l7.72-7.72 1.47 1.35L5.41 20z\"/>\n",
              "  </svg>\n",
              "      </button>\n",
              "      \n",
              "  <style>\n",
              "    .colab-df-container {\n",
              "      display:flex;\n",
              "      flex-wrap:wrap;\n",
              "      gap: 12px;\n",
              "    }\n",
              "\n",
              "    .colab-df-convert {\n",
              "      background-color: #E8F0FE;\n",
              "      border: none;\n",
              "      border-radius: 50%;\n",
              "      cursor: pointer;\n",
              "      display: none;\n",
              "      fill: #1967D2;\n",
              "      height: 32px;\n",
              "      padding: 0 0 0 0;\n",
              "      width: 32px;\n",
              "    }\n",
              "\n",
              "    .colab-df-convert:hover {\n",
              "      background-color: #E2EBFA;\n",
              "      box-shadow: 0px 1px 2px rgba(60, 64, 67, 0.3), 0px 1px 3px 1px rgba(60, 64, 67, 0.15);\n",
              "      fill: #174EA6;\n",
              "    }\n",
              "\n",
              "    [theme=dark] .colab-df-convert {\n",
              "      background-color: #3B4455;\n",
              "      fill: #D2E3FC;\n",
              "    }\n",
              "\n",
              "    [theme=dark] .colab-df-convert:hover {\n",
              "      background-color: #434B5C;\n",
              "      box-shadow: 0px 1px 3px 1px rgba(0, 0, 0, 0.15);\n",
              "      filter: drop-shadow(0px 1px 2px rgba(0, 0, 0, 0.3));\n",
              "      fill: #FFFFFF;\n",
              "    }\n",
              "  </style>\n",
              "\n",
              "      <script>\n",
              "        const buttonEl =\n",
              "          document.querySelector('#df-9777db8c-6ef8-4378-a6f0-2d4c806df570 button.colab-df-convert');\n",
              "        buttonEl.style.display =\n",
              "          google.colab.kernel.accessAllowed ? 'block' : 'none';\n",
              "\n",
              "        async function convertToInteractive(key) {\n",
              "          const element = document.querySelector('#df-9777db8c-6ef8-4378-a6f0-2d4c806df570');\n",
              "          const dataTable =\n",
              "            await google.colab.kernel.invokeFunction('convertToInteractive',\n",
              "                                                     [key], {});\n",
              "          if (!dataTable) return;\n",
              "\n",
              "          const docLinkHtml = 'Like what you see? Visit the ' +\n",
              "            '<a target=\"_blank\" href=https://colab.research.google.com/notebooks/data_table.ipynb>data table notebook</a>'\n",
              "            + ' to learn more about interactive tables.';\n",
              "          element.innerHTML = '';\n",
              "          dataTable['output_type'] = 'display_data';\n",
              "          await google.colab.output.renderOutput(dataTable, element);\n",
              "          const docLink = document.createElement('div');\n",
              "          docLink.innerHTML = docLinkHtml;\n",
              "          element.appendChild(docLink);\n",
              "        }\n",
              "      </script>\n",
              "    </div>\n",
              "  </div>\n",
              "  "
            ]
          },
          "metadata": {},
          "execution_count": 2
        }
      ]
    },
    {
      "cell_type": "code",
      "source": [
        "#renomeando as colunas, temos:\n",
        "nomes_colunas = {'MAG':'Magnitude (escala Richter)',\n",
        "                 'DEPTH':'Profundidade (km)'}\n",
        "base_dados.rename(nomes_colunas, axis = 'columns', inplace = True)\n",
        "base_dados.head(10)"
      ],
      "metadata": {
        "colab": {
          "base_uri": "https://localhost:8080/",
          "height": 363
        },
        "id": "lu3bcEKKj7Nk",
        "outputId": "f33bf698-2959-4422-9f2f-483b99e187a1"
      },
      "execution_count": null,
      "outputs": [
        {
          "output_type": "execute_result",
          "data": {
            "text/plain": [
              "   Magnitude (escala Richter)  Profundidade (km)\n",
              "0                        0.70                6.6\n",
              "1                        0.74                2.0\n",
              "2                        0.64               15.3\n",
              "3                        0.39               17.2\n",
              "4                        0.70                3.2\n",
              "5                        2.20                2.2\n",
              "6                        1.98               14.8\n",
              "7                        0.64                5.6\n",
              "8                        1.22                6.1\n",
              "9                        0.20                9.1"
            ],
            "text/html": [
              "\n",
              "  <div id=\"df-b7f78674-b852-4489-8de5-b018c3dd061c\">\n",
              "    <div class=\"colab-df-container\">\n",
              "      <div>\n",
              "<style scoped>\n",
              "    .dataframe tbody tr th:only-of-type {\n",
              "        vertical-align: middle;\n",
              "    }\n",
              "\n",
              "    .dataframe tbody tr th {\n",
              "        vertical-align: top;\n",
              "    }\n",
              "\n",
              "    .dataframe thead th {\n",
              "        text-align: right;\n",
              "    }\n",
              "</style>\n",
              "<table border=\"1\" class=\"dataframe\">\n",
              "  <thead>\n",
              "    <tr style=\"text-align: right;\">\n",
              "      <th></th>\n",
              "      <th>Magnitude (escala Richter)</th>\n",
              "      <th>Profundidade (km)</th>\n",
              "    </tr>\n",
              "  </thead>\n",
              "  <tbody>\n",
              "    <tr>\n",
              "      <th>0</th>\n",
              "      <td>0.70</td>\n",
              "      <td>6.6</td>\n",
              "    </tr>\n",
              "    <tr>\n",
              "      <th>1</th>\n",
              "      <td>0.74</td>\n",
              "      <td>2.0</td>\n",
              "    </tr>\n",
              "    <tr>\n",
              "      <th>2</th>\n",
              "      <td>0.64</td>\n",
              "      <td>15.3</td>\n",
              "    </tr>\n",
              "    <tr>\n",
              "      <th>3</th>\n",
              "      <td>0.39</td>\n",
              "      <td>17.2</td>\n",
              "    </tr>\n",
              "    <tr>\n",
              "      <th>4</th>\n",
              "      <td>0.70</td>\n",
              "      <td>3.2</td>\n",
              "    </tr>\n",
              "    <tr>\n",
              "      <th>5</th>\n",
              "      <td>2.20</td>\n",
              "      <td>2.2</td>\n",
              "    </tr>\n",
              "    <tr>\n",
              "      <th>6</th>\n",
              "      <td>1.98</td>\n",
              "      <td>14.8</td>\n",
              "    </tr>\n",
              "    <tr>\n",
              "      <th>7</th>\n",
              "      <td>0.64</td>\n",
              "      <td>5.6</td>\n",
              "    </tr>\n",
              "    <tr>\n",
              "      <th>8</th>\n",
              "      <td>1.22</td>\n",
              "      <td>6.1</td>\n",
              "    </tr>\n",
              "    <tr>\n",
              "      <th>9</th>\n",
              "      <td>0.20</td>\n",
              "      <td>9.1</td>\n",
              "    </tr>\n",
              "  </tbody>\n",
              "</table>\n",
              "</div>\n",
              "      <button class=\"colab-df-convert\" onclick=\"convertToInteractive('df-b7f78674-b852-4489-8de5-b018c3dd061c')\"\n",
              "              title=\"Convert this dataframe to an interactive table.\"\n",
              "              style=\"display:none;\">\n",
              "        \n",
              "  <svg xmlns=\"http://www.w3.org/2000/svg\" height=\"24px\"viewBox=\"0 0 24 24\"\n",
              "       width=\"24px\">\n",
              "    <path d=\"M0 0h24v24H0V0z\" fill=\"none\"/>\n",
              "    <path d=\"M18.56 5.44l.94 2.06.94-2.06 2.06-.94-2.06-.94-.94-2.06-.94 2.06-2.06.94zm-11 1L8.5 8.5l.94-2.06 2.06-.94-2.06-.94L8.5 2.5l-.94 2.06-2.06.94zm10 10l.94 2.06.94-2.06 2.06-.94-2.06-.94-.94-2.06-.94 2.06-2.06.94z\"/><path d=\"M17.41 7.96l-1.37-1.37c-.4-.4-.92-.59-1.43-.59-.52 0-1.04.2-1.43.59L10.3 9.45l-7.72 7.72c-.78.78-.78 2.05 0 2.83L4 21.41c.39.39.9.59 1.41.59.51 0 1.02-.2 1.41-.59l7.78-7.78 2.81-2.81c.8-.78.8-2.07 0-2.86zM5.41 20L4 18.59l7.72-7.72 1.47 1.35L5.41 20z\"/>\n",
              "  </svg>\n",
              "      </button>\n",
              "      \n",
              "  <style>\n",
              "    .colab-df-container {\n",
              "      display:flex;\n",
              "      flex-wrap:wrap;\n",
              "      gap: 12px;\n",
              "    }\n",
              "\n",
              "    .colab-df-convert {\n",
              "      background-color: #E8F0FE;\n",
              "      border: none;\n",
              "      border-radius: 50%;\n",
              "      cursor: pointer;\n",
              "      display: none;\n",
              "      fill: #1967D2;\n",
              "      height: 32px;\n",
              "      padding: 0 0 0 0;\n",
              "      width: 32px;\n",
              "    }\n",
              "\n",
              "    .colab-df-convert:hover {\n",
              "      background-color: #E2EBFA;\n",
              "      box-shadow: 0px 1px 2px rgba(60, 64, 67, 0.3), 0px 1px 3px 1px rgba(60, 64, 67, 0.15);\n",
              "      fill: #174EA6;\n",
              "    }\n",
              "\n",
              "    [theme=dark] .colab-df-convert {\n",
              "      background-color: #3B4455;\n",
              "      fill: #D2E3FC;\n",
              "    }\n",
              "\n",
              "    [theme=dark] .colab-df-convert:hover {\n",
              "      background-color: #434B5C;\n",
              "      box-shadow: 0px 1px 3px 1px rgba(0, 0, 0, 0.15);\n",
              "      filter: drop-shadow(0px 1px 2px rgba(0, 0, 0, 0.3));\n",
              "      fill: #FFFFFF;\n",
              "    }\n",
              "  </style>\n",
              "\n",
              "      <script>\n",
              "        const buttonEl =\n",
              "          document.querySelector('#df-b7f78674-b852-4489-8de5-b018c3dd061c button.colab-df-convert');\n",
              "        buttonEl.style.display =\n",
              "          google.colab.kernel.accessAllowed ? 'block' : 'none';\n",
              "\n",
              "        async function convertToInteractive(key) {\n",
              "          const element = document.querySelector('#df-b7f78674-b852-4489-8de5-b018c3dd061c');\n",
              "          const dataTable =\n",
              "            await google.colab.kernel.invokeFunction('convertToInteractive',\n",
              "                                                     [key], {});\n",
              "          if (!dataTable) return;\n",
              "\n",
              "          const docLinkHtml = 'Like what you see? Visit the ' +\n",
              "            '<a target=\"_blank\" href=https://colab.research.google.com/notebooks/data_table.ipynb>data table notebook</a>'\n",
              "            + ' to learn more about interactive tables.';\n",
              "          element.innerHTML = '';\n",
              "          dataTable['output_type'] = 'display_data';\n",
              "          await google.colab.output.renderOutput(dataTable, element);\n",
              "          const docLink = document.createElement('div');\n",
              "          docLink.innerHTML = docLinkHtml;\n",
              "          element.appendChild(docLink);\n",
              "        }\n",
              "      </script>\n",
              "    </div>\n",
              "  </div>\n",
              "  "
            ]
          },
          "metadata": {},
          "execution_count": 3
        }
      ]
    },
    {
      "cell_type": "code",
      "source": [
        "#Salvando os dados para uso em projetos posteriores:\n",
        "base_dados.to_csv('terremotos.csv')"
      ],
      "metadata": {
        "id": "2wCrHZFUzxpC"
      },
      "execution_count": null,
      "outputs": []
    },
    {
      "cell_type": "code",
      "source": [
        "#Visualização geral do dataset:\n",
        "base_dados.info()"
      ],
      "metadata": {
        "colab": {
          "base_uri": "https://localhost:8080/"
        },
        "id": "Oh7G3DtakWkc",
        "outputId": "c4971f7c-0ee1-4b3b-dff0-5fef74c70139"
      },
      "execution_count": null,
      "outputs": [
        {
          "output_type": "stream",
          "name": "stdout",
          "text": [
            "<class 'pandas.core.frame.DataFrame'>\n",
            "RangeIndex: 50 entries, 0 to 49\n",
            "Data columns (total 2 columns):\n",
            " #   Column                      Non-Null Count  Dtype  \n",
            "---  ------                      --------------  -----  \n",
            " 0   Magnitude (escala Richter)  50 non-null     float64\n",
            " 1   Profundidade (km)           50 non-null     float64\n",
            "dtypes: float64(2)\n",
            "memory usage: 928.0 bytes\n"
          ]
        }
      ]
    },
    {
      "cell_type": "markdown",
      "source": [
        "Para visualizar o comportamento dos dados de magnitude, através do resumo dos dados, construiu-se a seguinte distribuição de frequência com classes de amplitude fixa."
      ],
      "metadata": {
        "id": "sfjoX_hhlE4-"
      }
    },
    {
      "cell_type": "code",
      "source": [
        "#Menor valor da base de dados\n",
        "base_dados['Magnitude (escala Richter)'].min()"
      ],
      "metadata": {
        "colab": {
          "base_uri": "https://localhost:8080/"
        },
        "id": "HrFSmImylAZd",
        "outputId": "71bbc045-556f-46d8-e438-ccc00a745388"
      },
      "execution_count": null,
      "outputs": [
        {
          "output_type": "execute_result",
          "data": {
            "text/plain": [
              "0.0"
            ]
          },
          "metadata": {},
          "execution_count": 6
        }
      ]
    },
    {
      "cell_type": "code",
      "source": [
        "#Maior valor da base de dados\n",
        "base_dados['Magnitude (escala Richter)'].max()"
      ],
      "metadata": {
        "colab": {
          "base_uri": "https://localhost:8080/"
        },
        "id": "zHzkunNvlfwu",
        "outputId": "2472372f-a85d-447b-8b9c-549fb9156527"
      },
      "execution_count": null,
      "outputs": [
        {
          "output_type": "execute_result",
          "data": {
            "text/plain": [
              "2.95"
            ]
          },
          "metadata": {},
          "execution_count": 7
        }
      ]
    },
    {
      "cell_type": "code",
      "source": [
        "#Definindo as classes personalizadas, tomando 0 como o limite inferior da primeira classe e amplitude fixa de 0.5\n",
        "classes = []\n",
        "n = 0\n",
        "while n <= 3:\n",
        "  classes.append(n)\n",
        "  n = n + 0.5\n",
        "classes"
      ],
      "metadata": {
        "colab": {
          "base_uri": "https://localhost:8080/"
        },
        "id": "2D2qEJKXljmA",
        "outputId": "bce58e2e-d603-4451-80a9-67a5fb90c478"
      },
      "execution_count": null,
      "outputs": [
        {
          "output_type": "execute_result",
          "data": {
            "text/plain": [
              "[0, 0.5, 1.0, 1.5, 2.0, 2.5, 3.0]"
            ]
          },
          "metadata": {},
          "execution_count": 8
        }
      ]
    },
    {
      "cell_type": "code",
      "source": [
        "#Construindo a distribuição de frequências usando o método \"pd.cut()\", temos:\n",
        "frequencia = pd.value_counts(pd.cut(x = base_dados['Magnitude (escala Richter)'],bins = classes, include_lowest = True),\n",
        "                             sort = False)\n",
        "frequencia"
      ],
      "metadata": {
        "colab": {
          "base_uri": "https://localhost:8080/"
        },
        "id": "L08dhyT7mjL5",
        "outputId": "cb375a5a-de29-4021-e608-9d3042d17d7e"
      },
      "execution_count": null,
      "outputs": [
        {
          "output_type": "execute_result",
          "data": {
            "text/plain": [
              "(-0.001, 0.5]     5\n",
              "(0.5, 1.0]       18\n",
              "(1.0, 1.5]       16\n",
              "(1.5, 2.0]        7\n",
              "(2.0, 2.5]        3\n",
              "(2.5, 3.0]        1\n",
              "Name: Magnitude (escala Richter), dtype: int64"
            ]
          },
          "metadata": {},
          "execution_count": 9
        }
      ]
    },
    {
      "cell_type": "code",
      "source": [
        "#Construindo a distribuição de frequências relativa usando o método \"pd.cut()\", temos:\n",
        "percentual = pd.value_counts(pd.cut(x = base_dados['Magnitude (escala Richter)'],bins = classes, include_lowest = True),\n",
        "                             sort = False,\n",
        "                             normalize = True) * 100\n",
        "percentual"
      ],
      "metadata": {
        "colab": {
          "base_uri": "https://localhost:8080/"
        },
        "id": "0ycONcFWm9S_",
        "outputId": "e1a4405d-8bb5-4ded-e8df-98e302f65f35"
      },
      "execution_count": null,
      "outputs": [
        {
          "output_type": "execute_result",
          "data": {
            "text/plain": [
              "(-0.001, 0.5]    10.0\n",
              "(0.5, 1.0]       36.0\n",
              "(1.0, 1.5]       32.0\n",
              "(1.5, 2.0]       14.0\n",
              "(2.0, 2.5]        6.0\n",
              "(2.5, 3.0]        2.0\n",
              "Name: Magnitude (escala Richter), dtype: float64"
            ]
          },
          "metadata": {},
          "execution_count": 10
        }
      ]
    },
    {
      "cell_type": "code",
      "source": [
        "#Construindo a tabela de distribuição de frequência, obtemos:\n",
        "dist_freq = pd.DataFrame({'Frequência':frequencia,'Porcentagem (%)':percentual})\n",
        "dist_freq.rename_axis('Classes', axis = 'index', inplace = True)\n",
        "dist_freq"
      ],
      "metadata": {
        "colab": {
          "base_uri": "https://localhost:8080/",
          "height": 268
        },
        "id": "aKF96CRAnUeN",
        "outputId": "e280f863-ddf2-4bde-a4e5-098bb74dc10a"
      },
      "execution_count": null,
      "outputs": [
        {
          "output_type": "execute_result",
          "data": {
            "text/plain": [
              "               Frequência  Porcentagem (%)\n",
              "Classes                                   \n",
              "(-0.001, 0.5]           5             10.0\n",
              "(0.5, 1.0]             18             36.0\n",
              "(1.0, 1.5]             16             32.0\n",
              "(1.5, 2.0]              7             14.0\n",
              "(2.0, 2.5]              3              6.0\n",
              "(2.5, 3.0]              1              2.0"
            ],
            "text/html": [
              "\n",
              "  <div id=\"df-7cabe091-e785-42cb-9e27-06e223bcfdf4\">\n",
              "    <div class=\"colab-df-container\">\n",
              "      <div>\n",
              "<style scoped>\n",
              "    .dataframe tbody tr th:only-of-type {\n",
              "        vertical-align: middle;\n",
              "    }\n",
              "\n",
              "    .dataframe tbody tr th {\n",
              "        vertical-align: top;\n",
              "    }\n",
              "\n",
              "    .dataframe thead th {\n",
              "        text-align: right;\n",
              "    }\n",
              "</style>\n",
              "<table border=\"1\" class=\"dataframe\">\n",
              "  <thead>\n",
              "    <tr style=\"text-align: right;\">\n",
              "      <th></th>\n",
              "      <th>Frequência</th>\n",
              "      <th>Porcentagem (%)</th>\n",
              "    </tr>\n",
              "    <tr>\n",
              "      <th>Classes</th>\n",
              "      <th></th>\n",
              "      <th></th>\n",
              "    </tr>\n",
              "  </thead>\n",
              "  <tbody>\n",
              "    <tr>\n",
              "      <th>(-0.001, 0.5]</th>\n",
              "      <td>5</td>\n",
              "      <td>10.0</td>\n",
              "    </tr>\n",
              "    <tr>\n",
              "      <th>(0.5, 1.0]</th>\n",
              "      <td>18</td>\n",
              "      <td>36.0</td>\n",
              "    </tr>\n",
              "    <tr>\n",
              "      <th>(1.0, 1.5]</th>\n",
              "      <td>16</td>\n",
              "      <td>32.0</td>\n",
              "    </tr>\n",
              "    <tr>\n",
              "      <th>(1.5, 2.0]</th>\n",
              "      <td>7</td>\n",
              "      <td>14.0</td>\n",
              "    </tr>\n",
              "    <tr>\n",
              "      <th>(2.0, 2.5]</th>\n",
              "      <td>3</td>\n",
              "      <td>6.0</td>\n",
              "    </tr>\n",
              "    <tr>\n",
              "      <th>(2.5, 3.0]</th>\n",
              "      <td>1</td>\n",
              "      <td>2.0</td>\n",
              "    </tr>\n",
              "  </tbody>\n",
              "</table>\n",
              "</div>\n",
              "      <button class=\"colab-df-convert\" onclick=\"convertToInteractive('df-7cabe091-e785-42cb-9e27-06e223bcfdf4')\"\n",
              "              title=\"Convert this dataframe to an interactive table.\"\n",
              "              style=\"display:none;\">\n",
              "        \n",
              "  <svg xmlns=\"http://www.w3.org/2000/svg\" height=\"24px\"viewBox=\"0 0 24 24\"\n",
              "       width=\"24px\">\n",
              "    <path d=\"M0 0h24v24H0V0z\" fill=\"none\"/>\n",
              "    <path d=\"M18.56 5.44l.94 2.06.94-2.06 2.06-.94-2.06-.94-.94-2.06-.94 2.06-2.06.94zm-11 1L8.5 8.5l.94-2.06 2.06-.94-2.06-.94L8.5 2.5l-.94 2.06-2.06.94zm10 10l.94 2.06.94-2.06 2.06-.94-2.06-.94-.94-2.06-.94 2.06-2.06.94z\"/><path d=\"M17.41 7.96l-1.37-1.37c-.4-.4-.92-.59-1.43-.59-.52 0-1.04.2-1.43.59L10.3 9.45l-7.72 7.72c-.78.78-.78 2.05 0 2.83L4 21.41c.39.39.9.59 1.41.59.51 0 1.02-.2 1.41-.59l7.78-7.78 2.81-2.81c.8-.78.8-2.07 0-2.86zM5.41 20L4 18.59l7.72-7.72 1.47 1.35L5.41 20z\"/>\n",
              "  </svg>\n",
              "      </button>\n",
              "      \n",
              "  <style>\n",
              "    .colab-df-container {\n",
              "      display:flex;\n",
              "      flex-wrap:wrap;\n",
              "      gap: 12px;\n",
              "    }\n",
              "\n",
              "    .colab-df-convert {\n",
              "      background-color: #E8F0FE;\n",
              "      border: none;\n",
              "      border-radius: 50%;\n",
              "      cursor: pointer;\n",
              "      display: none;\n",
              "      fill: #1967D2;\n",
              "      height: 32px;\n",
              "      padding: 0 0 0 0;\n",
              "      width: 32px;\n",
              "    }\n",
              "\n",
              "    .colab-df-convert:hover {\n",
              "      background-color: #E2EBFA;\n",
              "      box-shadow: 0px 1px 2px rgba(60, 64, 67, 0.3), 0px 1px 3px 1px rgba(60, 64, 67, 0.15);\n",
              "      fill: #174EA6;\n",
              "    }\n",
              "\n",
              "    [theme=dark] .colab-df-convert {\n",
              "      background-color: #3B4455;\n",
              "      fill: #D2E3FC;\n",
              "    }\n",
              "\n",
              "    [theme=dark] .colab-df-convert:hover {\n",
              "      background-color: #434B5C;\n",
              "      box-shadow: 0px 1px 3px 1px rgba(0, 0, 0, 0.15);\n",
              "      filter: drop-shadow(0px 1px 2px rgba(0, 0, 0, 0.3));\n",
              "      fill: #FFFFFF;\n",
              "    }\n",
              "  </style>\n",
              "\n",
              "      <script>\n",
              "        const buttonEl =\n",
              "          document.querySelector('#df-7cabe091-e785-42cb-9e27-06e223bcfdf4 button.colab-df-convert');\n",
              "        buttonEl.style.display =\n",
              "          google.colab.kernel.accessAllowed ? 'block' : 'none';\n",
              "\n",
              "        async function convertToInteractive(key) {\n",
              "          const element = document.querySelector('#df-7cabe091-e785-42cb-9e27-06e223bcfdf4');\n",
              "          const dataTable =\n",
              "            await google.colab.kernel.invokeFunction('convertToInteractive',\n",
              "                                                     [key], {});\n",
              "          if (!dataTable) return;\n",
              "\n",
              "          const docLinkHtml = 'Like what you see? Visit the ' +\n",
              "            '<a target=\"_blank\" href=https://colab.research.google.com/notebooks/data_table.ipynb>data table notebook</a>'\n",
              "            + ' to learn more about interactive tables.';\n",
              "          element.innerHTML = '';\n",
              "          dataTable['output_type'] = 'display_data';\n",
              "          await google.colab.output.renderOutput(dataTable, element);\n",
              "          const docLink = document.createElement('div');\n",
              "          docLink.innerHTML = docLinkHtml;\n",
              "          element.appendChild(docLink);\n",
              "        }\n",
              "      </script>\n",
              "    </div>\n",
              "  </div>\n",
              "  "
            ]
          },
          "metadata": {},
          "execution_count": 11
        }
      ]
    },
    {
      "cell_type": "markdown",
      "source": [
        "A tabela de distribuição de frequência indica que os dados estão deslocados para à esquerda. Portanto, há uma assimetria nos dados. Para visualizar melhor a distribuição dos dados e o comportamento da curva gaussiana de densidade, temos:"
      ],
      "metadata": {
        "id": "2vJ-vsb2nvZ2"
      }
    },
    {
      "cell_type": "code",
      "source": [
        "#Construindo um histograma para observar graficamente a distribuição dos dados, temos:\n",
        "classes = [-0.001,0.51,1.01,1.51,2.01,2.51,3.01]\n",
        "\n",
        "ax = sns.histplot(base_dados['Magnitude (escala Richter)'],bins = classes)\n",
        "ax.figure.set_size_inches(12,6)\n",
        "ax.set_title('Distribuição de frequências - Magnitude de terremotos', fontsize = 18)\n",
        "ax.set_xlabel('escala Richter', fontsize = 14)\n",
        "ax.set_ylabel('Frequência', fontsize = 14)\n",
        "ax.set_yticks([i for i in range(0,20,1)])\n",
        "ax"
      ],
      "metadata": {
        "colab": {
          "base_uri": "https://localhost:8080/",
          "height": 431
        },
        "id": "eDfGQJO6nj84",
        "outputId": "33c22940-84e9-4ad0-ef01-a327074c435d"
      },
      "execution_count": null,
      "outputs": [
        {
          "output_type": "execute_result",
          "data": {
            "text/plain": [
              "<matplotlib.axes._subplots.AxesSubplot at 0x7f194ebb7b50>"
            ]
          },
          "metadata": {},
          "execution_count": 12
        },
        {
          "output_type": "display_data",
          "data": {
            "text/plain": [
              "<Figure size 864x432 with 1 Axes>"
            ],
            "image/png": "[encoded data removed]"
          },
          "metadata": {
            "needs_background": "light"
          }
        }
      ]
    },
    {
      "cell_type": "code",
      "source": [
        "#Construindo um histograma de frequências relativas para observar graficamente a distribuição dos dados, temos:\n",
        "classes = [-0.001,0.51,1.01,1.51,2.01,2.51,3.01]\n",
        "\n",
        "ax = sns.histplot(base_dados['Magnitude (escala Richter)'],bins = classes, stat = 'percent')\n",
        "ax.figure.set_size_inches(12,6)\n",
        "ax.set_title('Distribuição de frequências relativas - Magnitude de terremotos', fontsize = 18)\n",
        "ax.set_xlabel('escala Richter', fontsize = 14)\n",
        "ax.set_ylabel('percentual', fontsize = 14)\n",
        "ax.set_yticks([i for i in range(0,37,2)])\n",
        "ax"
      ],
      "metadata": {
        "colab": {
          "base_uri": "https://localhost:8080/",
          "height": 431
        },
        "id": "RFiA9We8cKrd",
        "outputId": "8ab9d807-0bc7-4977-b93d-a50428eaa9bd"
      },
      "execution_count": null,
      "outputs": [
        {
          "output_type": "execute_result",
          "data": {
            "text/plain": [
              "<matplotlib.axes._subplots.AxesSubplot at 0x7f194ea24c10>"
            ]
          },
          "metadata": {},
          "execution_count": 13
        },
        {
          "output_type": "display_data",
          "data": {
            "text/plain": [
              "<Figure size 864x432 with 1 Axes>"
            ],
            "image/png": "[encoded data removed]"
          },
          "metadata": {
            "needs_background": "light"
          }
        }
      ]
    },
    {
      "cell_type": "markdown",
      "source": [
        "Calculando as medidas de variação dos dados de magnitude como amplitude, desvio-padrão e variância, temos os seguintes resultados:"
      ],
      "metadata": {
        "id": "sk2fCl_rZXll"
      }
    },
    {
      "cell_type": "code",
      "source": [
        "#Calculando a amplitude dos dados de magnitude, temos:\n",
        "valor_minimo = base_dados['Magnitude (escala Richter)'].min()\n",
        "valor_maximo = base_dados['Magnitude (escala Richter)'].max()\n",
        "amplitude = valor_maximo - valor_minimo\n",
        "print('A amplitude do conjunto de valores é {} na escala Richter'.format(amplitude))"
      ],
      "metadata": {
        "colab": {
          "base_uri": "https://localhost:8080/"
        },
        "id": "IjvIq-wNZkor",
        "outputId": "b3d22891-5354-4357-8743-16dad725c4a5"
      },
      "execution_count": null,
      "outputs": [
        {
          "output_type": "stream",
          "name": "stdout",
          "text": [
            "A amplitude do conjunto de valores é 2.95 na escala Richter\n"
          ]
        }
      ]
    },
    {
      "cell_type": "markdown",
      "source": [
        "Os dados portanto, estão dispersos em uma faixa de amplitude de tamanho 2.95 na escala Richter. Importante notarmos que a amplitude de um conjunto de dados é dada pela diferença entre o valor máximo e o valor mínimo do conjunto de valores. Logo, a amplitude é uma medida de variação que, em geral, não é utilizada devido a sua sensibilidade a valores extremos (outliers)."
      ],
      "metadata": {
        "id": "eCyuN6FkaOqz"
      }
    },
    {
      "cell_type": "code",
      "source": [
        "#Calculando a variância do conjunto de dados de magnitude, temos:\n",
        "variancia_magnitude = base_dados['Magnitude (escala Richter)'].var()\n",
        "print('A variância dos dados de magnitude é {} escala Richter²'.format(variancia_magnitude))"
      ],
      "metadata": {
        "colab": {
          "base_uri": "https://localhost:8080/"
        },
        "id": "QRZjMXUCZ9q1",
        "outputId": "67a0c3fa-0427-4e16-862e-4e608a6140a7"
      },
      "execution_count": null,
      "outputs": [
        {
          "output_type": "stream",
          "name": "stdout",
          "text": [
            "A variância dos dados de magnitude é 0.3449391428571429 escala Richter²\n"
          ]
        }
      ]
    },
    {
      "cell_type": "markdown",
      "source": [
        "A variância é uma medida de variação muito utilizado em estatística, porém a unidade da variância é a unidade dos dados originais elevada ao quadrado. Uma medida de variação de melhor compreensão, pois possui unidade igual a dos dados originais, é o desvio-padrão:"
      ],
      "metadata": {
        "id": "NUWL871gbcil"
      }
    },
    {
      "cell_type": "code",
      "source": [
        "#Calculando o desvio-padrão do conjunto de valores de magnitude, temos:\n",
        "std_magnitude = base_dados['Magnitude (escala Richter)'].std()\n",
        "print('Desvio-padrão de magnitude é igual a {} em escala Richter'.format(std_magnitude))"
      ],
      "metadata": {
        "colab": {
          "base_uri": "https://localhost:8080/"
        },
        "id": "OVjt-A1RbuAF",
        "outputId": "7e75ff35-5f00-4d8b-e656-49d44a58238a"
      },
      "execution_count": null,
      "outputs": [
        {
          "output_type": "stream",
          "name": "stdout",
          "text": [
            "Desvio-padrão de magnitude é igual a 0.5873151988984645 em escala Richter\n"
          ]
        }
      ]
    },
    {
      "cell_type": "markdown",
      "source": [
        "**Conclusões sobre o problema**\n",
        "\n",
        "O histograma dos dados de magnitude de terremotos nos indica que a a distribuição dos dados de magnitude não são, rigorosamente, aproximados por uma curva normal. Pois, apesar das frequências crescerem até um máximo e descrescerem, os gráficos apresentam uma assimetria na distribuição, em outras palavras, não é possível espelhar o gráfico de distribuição em torno de um eixo vertical (em torno da média). Ademais, a distribuição de dados é assimétrica à direita (positivamente assimétrica) "
      ],
      "metadata": {
        "id": "RVW4uzqso9Qf"
      }
    },
    {
      "cell_type": "markdown",
      "source": [
        "**Problema 3.2.25 - Use as magnitudes (escala Richter) dos terremotos listadas no Conjunto de Dados 16 no Apêndice B.\n",
        "Em 1989, a área da baía de San Francisco foi atingida por um terremoto que mediu 7,0 na escala Richter. O terremoto\n",
        "ocorreu durante o período de aquecimento para o terceiro jogo da World Series de beisebol. A magnitude desse terremoto\n",
        "durante a World Series é um valor atípico (valor de dado muito afastado dos demais valores) quando considerada no\n",
        "contexto dos dados amostrais apresentados no Conjunto de Dados 16? Explique.**"
      ],
      "metadata": {
        "id": "ledGaIhlu1Q6"
      }
    },
    {
      "cell_type": "markdown",
      "source": [
        "**Solução do problema**\n",
        "\n",
        "Para verificar se o valor 7,0 na escala Richter é um outlier, precisamos calcular estatísticas amostrais de centro, como média e mediana. Se o valor de 7,0 se afastar muito da média, mediana e estiver afastado à direita da distribuição de dados, podemos concluir que o valor medido é um outlier. Lembrando que estamos considerando apenas os dados amostrais que foram coletados."
      ],
      "metadata": {
        "id": "4Gmig5RfvJZZ"
      }
    },
    {
      "cell_type": "code",
      "source": [
        "#calculando a média, temos:\n",
        "base_dados['Magnitude (escala Richter)'].mean()"
      ],
      "metadata": {
        "colab": {
          "base_uri": "https://localhost:8080/"
        },
        "id": "qq-zVpXEu8Za",
        "outputId": "499e7753-c754-4e42-bf0b-c12a248097da"
      },
      "execution_count": null,
      "outputs": [
        {
          "output_type": "execute_result",
          "data": {
            "text/plain": [
              "1.1842000000000001"
            ]
          },
          "metadata": {},
          "execution_count": 20
        }
      ]
    },
    {
      "cell_type": "code",
      "source": [
        "#calculando a mediana, temos:\n",
        "base_dados['Magnitude (escala Richter)'].median()"
      ],
      "metadata": {
        "colab": {
          "base_uri": "https://localhost:8080/"
        },
        "id": "Omq3__mkwwkF",
        "outputId": "1df62d81-952f-4fa0-eb2b-ed2fc2bf0aef"
      },
      "execution_count": null,
      "outputs": [
        {
          "output_type": "execute_result",
          "data": {
            "text/plain": [
              "1.2349999999999999"
            ]
          },
          "metadata": {},
          "execution_count": 21
        }
      ]
    },
    {
      "cell_type": "markdown",
      "source": [
        "**Conclusão**\n",
        "\n",
        "A média de magnitudes de terremotos registrados é de 1,18 na escala Richter e a mediana é 1,23 na escala Richter. Com o auxílio do histograma e das medidas de média e mediana, podemos afirmar que o valor de 7,0 é um outlier, uma vez que se encontra muito afastado dos demais valores amostrais."
      ],
      "metadata": {
        "id": "cYrdz6Vmw2vx"
      }
    },
    {
      "cell_type": "markdown",
      "source": [
        "## Problema 24 - Profundidades de Terremotos "
      ],
      "metadata": {
        "id": "dBHrAQanriSg"
      }
    },
    {
      "cell_type": "markdown",
      "source": [
        "Consulte as profundidades de terremotos listadas no Conjunto de Dados 16 do\n",
        "Apêndice B. Comece com o limite inferior de classe de 1,00 km e use uma amplitude de classe de 4,00 km. Usando uma\n",
        "interpretação muito estrita das exigências para uma distribuição normal, as profundidades parecem ser normalmente\n",
        "distribuídas?"
      ],
      "metadata": {
        "id": "_aSteXE5rt5A"
      }
    },
    {
      "cell_type": "markdown",
      "source": [
        "Construindo a distribuição de frequência para a variável 'Profundidade (km)', temos:"
      ],
      "metadata": {
        "id": "bWdfHj4isHHu"
      }
    },
    {
      "cell_type": "code",
      "source": [
        "#visualizando o menor valor da variável 'Profundidade (km)'\n",
        "base_dados['Profundidade (km)'].min()"
      ],
      "metadata": {
        "colab": {
          "base_uri": "https://localhost:8080/"
        },
        "id": "KlSCxZsZsXX2",
        "outputId": "c4b4f6ea-04b4-4e96-cecf-d45df32b1d00"
      },
      "execution_count": null,
      "outputs": [
        {
          "output_type": "execute_result",
          "data": {
            "text/plain": [
              "2.0"
            ]
          },
          "metadata": {},
          "execution_count": 171
        }
      ]
    },
    {
      "cell_type": "code",
      "source": [
        "#visualizando o maior valor da variável 'Profundidade (km)'\n",
        "base_dados['Profundidade (km)'].max()"
      ],
      "metadata": {
        "colab": {
          "base_uri": "https://localhost:8080/"
        },
        "id": "5Mqf9jz3sf5_",
        "outputId": "2789209b-c31d-4348-a608-71461ba2c5cd"
      },
      "execution_count": null,
      "outputs": [
        {
          "output_type": "execute_result",
          "data": {
            "text/plain": [
              "18.9"
            ]
          },
          "metadata": {},
          "execution_count": 172
        }
      ]
    },
    {
      "cell_type": "markdown",
      "source": [
        "convenientemente podemos tomar o valor 1 como o limite inferior da primeira classe e o valor 21 como o limite superior da última classe, temos:"
      ],
      "metadata": {
        "id": "si5fCMX5slKW"
      }
    },
    {
      "cell_type": "code",
      "source": [
        "#definindo os limites inferiores e superiores de cada classe da distribuição de frequência, temos:\n",
        "classes = []\n",
        "n = 1\n",
        "while n <= 21:\n",
        "  classes.append(n)\n",
        "  n = n + 4\n",
        "classes"
      ],
      "metadata": {
        "colab": {
          "base_uri": "https://localhost:8080/"
        },
        "id": "jbwC2h_rs4yP",
        "outputId": "9e42886b-9587-4cb7-e0d1-3dde835d5904"
      },
      "execution_count": null,
      "outputs": [
        {
          "output_type": "execute_result",
          "data": {
            "text/plain": [
              "[1, 5, 9, 13, 17, 21]"
            ]
          },
          "metadata": {},
          "execution_count": 173
        }
      ]
    },
    {
      "cell_type": "code",
      "source": [
        "#construindo distribuição de frequência básica\n",
        "frequencia = pd.value_counts(pd.cut(x = base_dados['Profundidade (km)'],bins = classes, include_lowest = True), sort = False)\n",
        "frequencia"
      ],
      "metadata": {
        "colab": {
          "base_uri": "https://localhost:8080/"
        },
        "id": "HJ5qKp5Qr-gI",
        "outputId": "882cdeec-1c0d-40ab-e4b4-0e706abc8a77"
      },
      "execution_count": null,
      "outputs": [
        {
          "output_type": "execute_result",
          "data": {
            "text/plain": [
              "(0.999, 5.0]     7\n",
              "(5.0, 9.0]      21\n",
              "(9.0, 13.0]      4\n",
              "(13.0, 17.0]    12\n",
              "(17.0, 21.0]     6\n",
              "Name: Profundidade (km), dtype: int64"
            ]
          },
          "metadata": {},
          "execution_count": 174
        }
      ]
    },
    {
      "cell_type": "code",
      "source": [
        "#construindo distribuição de frequência relativa\n",
        "percentual = pd.value_counts(pd.cut(x = base_dados['Profundidade (km)'],bins = classes, include_lowest = True),\n",
        "                             sort = False,\n",
        "                             normalize = True) * 100\n",
        "percentual"
      ],
      "metadata": {
        "colab": {
          "base_uri": "https://localhost:8080/"
        },
        "id": "GgoLFYxutTl8",
        "outputId": "7518eb84-fb8b-4c3c-a898-3a41ea51f509"
      },
      "execution_count": null,
      "outputs": [
        {
          "output_type": "execute_result",
          "data": {
            "text/plain": [
              "(0.999, 5.0]    14.0\n",
              "(5.0, 9.0]      42.0\n",
              "(9.0, 13.0]      8.0\n",
              "(13.0, 17.0]    24.0\n",
              "(17.0, 21.0]    12.0\n",
              "Name: Profundidade (km), dtype: float64"
            ]
          },
          "metadata": {},
          "execution_count": 175
        }
      ]
    },
    {
      "cell_type": "code",
      "source": [
        "#construindo a tabela de distribuição de frequência, temos:\n",
        "dist_freq = pd.DataFrame({'Frequência':frequencia,'Porcentagem (%)':percentual})\n",
        "dist_freq.rename_axis('Classes', axis = 'index', inplace = True)\n",
        "dist_freq"
      ],
      "metadata": {
        "colab": {
          "base_uri": "https://localhost:8080/",
          "height": 237
        },
        "id": "kL3C8Yo5tfoN",
        "outputId": "1ff48fde-dbbf-41bb-970d-03aab0bb80d1"
      },
      "execution_count": null,
      "outputs": [
        {
          "output_type": "execute_result",
          "data": {
            "text/plain": [
              "              Frequência  Porcentagem (%)\n",
              "Classes                                  \n",
              "(0.999, 5.0]           7             14.0\n",
              "(5.0, 9.0]            21             42.0\n",
              "(9.0, 13.0]            4              8.0\n",
              "(13.0, 17.0]          12             24.0\n",
              "(17.0, 21.0]           6             12.0"
            ],
            "text/html": [
              "\n",
              "  <div id=\"df-5da81162-b820-434d-9646-8d514c21a6b9\">\n",
              "    <div class=\"colab-df-container\">\n",
              "      <div>\n",
              "<style scoped>\n",
              "    .dataframe tbody tr th:only-of-type {\n",
              "        vertical-align: middle;\n",
              "    }\n",
              "\n",
              "    .dataframe tbody tr th {\n",
              "        vertical-align: top;\n",
              "    }\n",
              "\n",
              "    .dataframe thead th {\n",
              "        text-align: right;\n",
              "    }\n",
              "</style>\n",
              "<table border=\"1\" class=\"dataframe\">\n",
              "  <thead>\n",
              "    <tr style=\"text-align: right;\">\n",
              "      <th></th>\n",
              "      <th>Frequência</th>\n",
              "      <th>Porcentagem (%)</th>\n",
              "    </tr>\n",
              "    <tr>\n",
              "      <th>Classes</th>\n",
              "      <th></th>\n",
              "      <th></th>\n",
              "    </tr>\n",
              "  </thead>\n",
              "  <tbody>\n",
              "    <tr>\n",
              "      <th>(0.999, 5.0]</th>\n",
              "      <td>7</td>\n",
              "      <td>14.0</td>\n",
              "    </tr>\n",
              "    <tr>\n",
              "      <th>(5.0, 9.0]</th>\n",
              "      <td>21</td>\n",
              "      <td>42.0</td>\n",
              "    </tr>\n",
              "    <tr>\n",
              "      <th>(9.0, 13.0]</th>\n",
              "      <td>4</td>\n",
              "      <td>8.0</td>\n",
              "    </tr>\n",
              "    <tr>\n",
              "      <th>(13.0, 17.0]</th>\n",
              "      <td>12</td>\n",
              "      <td>24.0</td>\n",
              "    </tr>\n",
              "    <tr>\n",
              "      <th>(17.0, 21.0]</th>\n",
              "      <td>6</td>\n",
              "      <td>12.0</td>\n",
              "    </tr>\n",
              "  </tbody>\n",
              "</table>\n",
              "</div>\n",
              "      <button class=\"colab-df-convert\" onclick=\"convertToInteractive('df-5da81162-b820-434d-9646-8d514c21a6b9')\"\n",
              "              title=\"Convert this dataframe to an interactive table.\"\n",
              "              style=\"display:none;\">\n",
              "        \n",
              "  <svg xmlns=\"http://www.w3.org/2000/svg\" height=\"24px\"viewBox=\"0 0 24 24\"\n",
              "       width=\"24px\">\n",
              "    <path d=\"M0 0h24v24H0V0z\" fill=\"none\"/>\n",
              "    <path d=\"M18.56 5.44l.94 2.06.94-2.06 2.06-.94-2.06-.94-.94-2.06-.94 2.06-2.06.94zm-11 1L8.5 8.5l.94-2.06 2.06-.94-2.06-.94L8.5 2.5l-.94 2.06-2.06.94zm10 10l.94 2.06.94-2.06 2.06-.94-2.06-.94-.94-2.06-.94 2.06-2.06.94z\"/><path d=\"M17.41 7.96l-1.37-1.37c-.4-.4-.92-.59-1.43-.59-.52 0-1.04.2-1.43.59L10.3 9.45l-7.72 7.72c-.78.78-.78 2.05 0 2.83L4 21.41c.39.39.9.59 1.41.59.51 0 1.02-.2 1.41-.59l7.78-7.78 2.81-2.81c.8-.78.8-2.07 0-2.86zM5.41 20L4 18.59l7.72-7.72 1.47 1.35L5.41 20z\"/>\n",
              "  </svg>\n",
              "      </button>\n",
              "      \n",
              "  <style>\n",
              "    .colab-df-container {\n",
              "      display:flex;\n",
              "      flex-wrap:wrap;\n",
              "      gap: 12px;\n",
              "    }\n",
              "\n",
              "    .colab-df-convert {\n",
              "      background-color: #E8F0FE;\n",
              "      border: none;\n",
              "      border-radius: 50%;\n",
              "      cursor: pointer;\n",
              "      display: none;\n",
              "      fill: #1967D2;\n",
              "      height: 32px;\n",
              "      padding: 0 0 0 0;\n",
              "      width: 32px;\n",
              "    }\n",
              "\n",
              "    .colab-df-convert:hover {\n",
              "      background-color: #E2EBFA;\n",
              "      box-shadow: 0px 1px 2px rgba(60, 64, 67, 0.3), 0px 1px 3px 1px rgba(60, 64, 67, 0.15);\n",
              "      fill: #174EA6;\n",
              "    }\n",
              "\n",
              "    [theme=dark] .colab-df-convert {\n",
              "      background-color: #3B4455;\n",
              "      fill: #D2E3FC;\n",
              "    }\n",
              "\n",
              "    [theme=dark] .colab-df-convert:hover {\n",
              "      background-color: #434B5C;\n",
              "      box-shadow: 0px 1px 3px 1px rgba(0, 0, 0, 0.15);\n",
              "      filter: drop-shadow(0px 1px 2px rgba(0, 0, 0, 0.3));\n",
              "      fill: #FFFFFF;\n",
              "    }\n",
              "  </style>\n",
              "\n",
              "      <script>\n",
              "        const buttonEl =\n",
              "          document.querySelector('#df-5da81162-b820-434d-9646-8d514c21a6b9 button.colab-df-convert');\n",
              "        buttonEl.style.display =\n",
              "          google.colab.kernel.accessAllowed ? 'block' : 'none';\n",
              "\n",
              "        async function convertToInteractive(key) {\n",
              "          const element = document.querySelector('#df-5da81162-b820-434d-9646-8d514c21a6b9');\n",
              "          const dataTable =\n",
              "            await google.colab.kernel.invokeFunction('convertToInteractive',\n",
              "                                                     [key], {});\n",
              "          if (!dataTable) return;\n",
              "\n",
              "          const docLinkHtml = 'Like what you see? Visit the ' +\n",
              "            '<a target=\"_blank\" href=https://colab.research.google.com/notebooks/data_table.ipynb>data table notebook</a>'\n",
              "            + ' to learn more about interactive tables.';\n",
              "          element.innerHTML = '';\n",
              "          dataTable['output_type'] = 'display_data';\n",
              "          await google.colab.output.renderOutput(dataTable, element);\n",
              "          const docLink = document.createElement('div');\n",
              "          docLink.innerHTML = docLinkHtml;\n",
              "          element.appendChild(docLink);\n",
              "        }\n",
              "      </script>\n",
              "    </div>\n",
              "  </div>\n",
              "  "
            ]
          },
          "metadata": {},
          "execution_count": 176
        }
      ]
    },
    {
      "cell_type": "markdown",
      "source": [
        "Construindo o histograma podemos visualizar graficamente o comportamento da variável \"Profundidade (km)\":"
      ],
      "metadata": {
        "id": "xTsSDFB2ugiI"
      }
    },
    {
      "cell_type": "code",
      "source": [
        "#Construindo um histograma para observar graficamente a distribuição dos dados, temos:\n",
        "classes = [0.999,5.01,9.01,13.01,17.01,21.01]\n",
        "\n",
        "ax = sns.histplot(base_dados['Profundidade (km)'],bins = classes)\n",
        "ax.figure.set_size_inches(12,6)\n",
        "ax.set_title('Distribuição de frequências - Profundidade de terremotos', fontsize = 18)\n",
        "ax.set_xlabel('Quilômetros (km)', fontsize = 14)\n",
        "ax.set_ylabel('Frequência', fontsize = 14)\n",
        "ax.set_yticks([i for i in range(0,23,1)])\n",
        "ax"
      ],
      "metadata": {
        "colab": {
          "base_uri": "https://localhost:8080/",
          "height": 431
        },
        "id": "S10MZkWVupew",
        "outputId": "5fc9bacf-11d8-44de-dce0-7c7c9d79f525"
      },
      "execution_count": null,
      "outputs": [
        {
          "output_type": "execute_result",
          "data": {
            "text/plain": [
              "<matplotlib.axes._subplots.AxesSubplot at 0x7fbfeb176d10>"
            ]
          },
          "metadata": {},
          "execution_count": 177
        },
        {
          "output_type": "display_data",
          "data": {
            "text/plain": [
              "<Figure size 864x432 with 1 Axes>"
            ],
            "image/png": "[encoded data removed]"
          },
          "metadata": {
            "needs_background": "light"
          }
        }
      ]
    },
    {
      "cell_type": "code",
      "source": [
        "#Construindo um histograma de frequências relativas para observar graficamente a distribuição dos dados, temos:\n",
        "classes = [0.999,5.01,9.01,13.01,17.01,21.01]\n",
        "\n",
        "ax = sns.histplot(base_dados['Profundidade (km)'],bins = classes, stat = 'percent')\n",
        "ax.figure.set_size_inches(12,6)\n",
        "ax.set_title('Distribuição de frequências - Profundidade de terremotos', fontsize = 18)\n",
        "ax.set_xlabel('Quilômetros (km)', fontsize = 14)\n",
        "ax.set_ylabel('Frequência', fontsize = 14)\n",
        "ax.set_yticks([i for i in range(0,43,2)])\n",
        "ax"
      ],
      "metadata": {
        "colab": {
          "base_uri": "https://localhost:8080/",
          "height": 431
        },
        "id": "Ixp-jFUdcdKE",
        "outputId": "2d82af18-a613-4912-bdf9-5f70d1f8a1b3"
      },
      "execution_count": null,
      "outputs": [
        {
          "output_type": "execute_result",
          "data": {
            "text/plain": [
              "<matplotlib.axes._subplots.AxesSubplot at 0x7fbfeb0ab750>"
            ]
          },
          "metadata": {},
          "execution_count": 179
        },
        {
          "output_type": "display_data",
          "data": {
            "text/plain": [
              "<Figure size 864x432 with 1 Axes>"
            ],
            "image/png": "[encoded data removed]"
          },
          "metadata": {
            "needs_background": "light"
          }
        }
      ]
    },
    {
      "cell_type": "markdown",
      "source": [
        "**Conclusões sobre o problema**\n",
        "\n",
        "Visualizando a tabela de distribuição de frequência e o histograma acima, é possível verificar que a distribuição do conjunto de dados não pode ser aproximado por uma distribuição normal, uma vez que a distribuição dos dados apresentam dois máximos locais. Note que nas primeiras classes a frequência aumenta e entr 9-13 há uma diminuição significativa da frequência e, em seguida, há um aumento e diminuição das frequência. Portanto, não é possível espelhar o gráfico em torno de um eixo vertical."
      ],
      "metadata": {
        "id": "tWMXfxlZt592"
      }
    },
    {
      "cell_type": "markdown",
      "source": [
        "## Problema 27 - Tempos de Chegada de Voo"
      ],
      "metadata": {
        "id": "0xXwdou4v-EA"
      }
    },
    {
      "cell_type": "markdown",
      "source": [
        "Consulte o Conjunto de Dados 15 do Apêndice B e use os tempos de atraso nas\n",
        "chegadas de voos. Comece com o limite inferior de classe de – 60 min e use uma amplitude de classe de 30 min. Com\n",
        "base no resultado, parece que a maioria dos voos da American Airlines que partem do JFK para LAX estão perto de\n",
        "chegar a Los Angeles sem muito atraso?"
      ],
      "metadata": {
        "id": "BMpBAwWav-HP"
      }
    },
    {
      "cell_type": "markdown",
      "source": [
        "**Contexto do problema**\n",
        "\n",
        "Todos os voos são da American Airlines de Nova York (JFK) para Los Angeles (LAX), e todos os voos ocorreram em\n",
        "janeiro de ano recente. **ID** é o número de identificação na cauda do avião. **ATDEC** é o tempo de atraso na decolagem\n",
        "(minutos), e número negativos correspondem a voos que partiram antes do horário. **TXDEC** é o tempo (minutos) que o\n",
        "avião usou para taxiar do terminal até o ponto de decolagem. **TXATER** é o tempo (minutos) que o avião usou para taxiar\n",
        "até o terminal depois de aterrissar. **ATATER** é o tempo de atraso na chegada (minutos), e números negativos\n",
        "correspondem a voos que chegaram cedo (antes do horário previsto). Os dados são do Bureau of Transportation (Birô de\n",
        "Transportes).\n",
        "\n",
        "Para responder a pergunta do problema, devemos analisar o tempo de atraso na chegada (variável **\"ATATER\"**). Logo, devemos verificar como os dados de tempo de atraso estão distribuídos.\n"
      ],
      "metadata": {
        "id": "dBoirxhDyIom"
      }
    },
    {
      "cell_type": "code",
      "source": [
        "#abrindo o dataset, temos:\n",
        "base_dados = pd.read_csv('FLIGHTS.csv')\n",
        "base_dados.head(10)"
      ],
      "metadata": {
        "colab": {
          "base_uri": "https://localhost:8080/",
          "height": 363
        },
        "id": "6afGZ0yYwEIH",
        "outputId": "3c001f61-8b04-4d39-c5a7-136f6a75f65b"
      },
      "execution_count": 3,
      "outputs": [
        {
          "output_type": "execute_result",
          "data": {
            "text/plain": [
              "   VOO      ID  ATDEC  TXDEC  TXATER  ATATER\n",
              "0    1  N338AA     -2     30      12     -32\n",
              "1    1  N329AA     -1     19      13     -25\n",
              "2    1  N319AA     -2     12       8     -26\n",
              "3    1  N319AA      2     19      21      -6\n",
              "4    1  N329AA     -2     18      17       5\n",
              "5    1  N320AA      0     22      11     -15\n",
              "6    1  N321AA     -2     37      12     -17\n",
              "7    1  N338AA     -3     13      12     -36\n",
              "8    1  N327AA     -5     14      15     -29\n",
              "9    1  N319AA     -4     15      26     -18"
            ],
            "text/html": [
              "\n",
              "  <div id=\"df-770c49ef-f81b-41a1-b9cf-fc98392beff6\">\n",
              "    <div class=\"colab-df-container\">\n",
              "      <div>\n",
              "<style scoped>\n",
              "    .dataframe tbody tr th:only-of-type {\n",
              "        vertical-align: middle;\n",
              "    }\n",
              "\n",
              "    .dataframe tbody tr th {\n",
              "        vertical-align: top;\n",
              "    }\n",
              "\n",
              "    .dataframe thead th {\n",
              "        text-align: right;\n",
              "    }\n",
              "</style>\n",
              "<table border=\"1\" class=\"dataframe\">\n",
              "  <thead>\n",
              "    <tr style=\"text-align: right;\">\n",
              "      <th></th>\n",
              "      <th>VOO</th>\n",
              "      <th>ID</th>\n",
              "      <th>ATDEC</th>\n",
              "      <th>TXDEC</th>\n",
              "      <th>TXATER</th>\n",
              "      <th>ATATER</th>\n",
              "    </tr>\n",
              "  </thead>\n",
              "  <tbody>\n",
              "    <tr>\n",
              "      <th>0</th>\n",
              "      <td>1</td>\n",
              "      <td>N338AA</td>\n",
              "      <td>-2</td>\n",
              "      <td>30</td>\n",
              "      <td>12</td>\n",
              "      <td>-32</td>\n",
              "    </tr>\n",
              "    <tr>\n",
              "      <th>1</th>\n",
              "      <td>1</td>\n",
              "      <td>N329AA</td>\n",
              "      <td>-1</td>\n",
              "      <td>19</td>\n",
              "      <td>13</td>\n",
              "      <td>-25</td>\n",
              "    </tr>\n",
              "    <tr>\n",
              "      <th>2</th>\n",
              "      <td>1</td>\n",
              "      <td>N319AA</td>\n",
              "      <td>-2</td>\n",
              "      <td>12</td>\n",
              "      <td>8</td>\n",
              "      <td>-26</td>\n",
              "    </tr>\n",
              "    <tr>\n",
              "      <th>3</th>\n",
              "      <td>1</td>\n",
              "      <td>N319AA</td>\n",
              "      <td>2</td>\n",
              "      <td>19</td>\n",
              "      <td>21</td>\n",
              "      <td>-6</td>\n",
              "    </tr>\n",
              "    <tr>\n",
              "      <th>4</th>\n",
              "      <td>1</td>\n",
              "      <td>N329AA</td>\n",
              "      <td>-2</td>\n",
              "      <td>18</td>\n",
              "      <td>17</td>\n",
              "      <td>5</td>\n",
              "    </tr>\n",
              "    <tr>\n",
              "      <th>5</th>\n",
              "      <td>1</td>\n",
              "      <td>N320AA</td>\n",
              "      <td>0</td>\n",
              "      <td>22</td>\n",
              "      <td>11</td>\n",
              "      <td>-15</td>\n",
              "    </tr>\n",
              "    <tr>\n",
              "      <th>6</th>\n",
              "      <td>1</td>\n",
              "      <td>N321AA</td>\n",
              "      <td>-2</td>\n",
              "      <td>37</td>\n",
              "      <td>12</td>\n",
              "      <td>-17</td>\n",
              "    </tr>\n",
              "    <tr>\n",
              "      <th>7</th>\n",
              "      <td>1</td>\n",
              "      <td>N338AA</td>\n",
              "      <td>-3</td>\n",
              "      <td>13</td>\n",
              "      <td>12</td>\n",
              "      <td>-36</td>\n",
              "    </tr>\n",
              "    <tr>\n",
              "      <th>8</th>\n",
              "      <td>1</td>\n",
              "      <td>N327AA</td>\n",
              "      <td>-5</td>\n",
              "      <td>14</td>\n",
              "      <td>15</td>\n",
              "      <td>-29</td>\n",
              "    </tr>\n",
              "    <tr>\n",
              "      <th>9</th>\n",
              "      <td>1</td>\n",
              "      <td>N319AA</td>\n",
              "      <td>-4</td>\n",
              "      <td>15</td>\n",
              "      <td>26</td>\n",
              "      <td>-18</td>\n",
              "    </tr>\n",
              "  </tbody>\n",
              "</table>\n",
              "</div>\n",
              "      <button class=\"colab-df-convert\" onclick=\"convertToInteractive('df-770c49ef-f81b-41a1-b9cf-fc98392beff6')\"\n",
              "              title=\"Convert this dataframe to an interactive table.\"\n",
              "              style=\"display:none;\">\n",
              "        \n",
              "  <svg xmlns=\"http://www.w3.org/2000/svg\" height=\"24px\"viewBox=\"0 0 24 24\"\n",
              "       width=\"24px\">\n",
              "    <path d=\"M0 0h24v24H0V0z\" fill=\"none\"/>\n",
              "    <path d=\"M18.56 5.44l.94 2.06.94-2.06 2.06-.94-2.06-.94-.94-2.06-.94 2.06-2.06.94zm-11 1L8.5 8.5l.94-2.06 2.06-.94-2.06-.94L8.5 2.5l-.94 2.06-2.06.94zm10 10l.94 2.06.94-2.06 2.06-.94-2.06-.94-.94-2.06-.94 2.06-2.06.94z\"/><path d=\"M17.41 7.96l-1.37-1.37c-.4-.4-.92-.59-1.43-.59-.52 0-1.04.2-1.43.59L10.3 9.45l-7.72 7.72c-.78.78-.78 2.05 0 2.83L4 21.41c.39.39.9.59 1.41.59.51 0 1.02-.2 1.41-.59l7.78-7.78 2.81-2.81c.8-.78.8-2.07 0-2.86zM5.41 20L4 18.59l7.72-7.72 1.47 1.35L5.41 20z\"/>\n",
              "  </svg>\n",
              "      </button>\n",
              "      \n",
              "  <style>\n",
              "    .colab-df-container {\n",
              "      display:flex;\n",
              "      flex-wrap:wrap;\n",
              "      gap: 12px;\n",
              "    }\n",
              "\n",
              "    .colab-df-convert {\n",
              "      background-color: #E8F0FE;\n",
              "      border: none;\n",
              "      border-radius: 50%;\n",
              "      cursor: pointer;\n",
              "      display: none;\n",
              "      fill: #1967D2;\n",
              "      height: 32px;\n",
              "      padding: 0 0 0 0;\n",
              "      width: 32px;\n",
              "    }\n",
              "\n",
              "    .colab-df-convert:hover {\n",
              "      background-color: #E2EBFA;\n",
              "      box-shadow: 0px 1px 2px rgba(60, 64, 67, 0.3), 0px 1px 3px 1px rgba(60, 64, 67, 0.15);\n",
              "      fill: #174EA6;\n",
              "    }\n",
              "\n",
              "    [theme=dark] .colab-df-convert {\n",
              "      background-color: #3B4455;\n",
              "      fill: #D2E3FC;\n",
              "    }\n",
              "\n",
              "    [theme=dark] .colab-df-convert:hover {\n",
              "      background-color: #434B5C;\n",
              "      box-shadow: 0px 1px 3px 1px rgba(0, 0, 0, 0.15);\n",
              "      filter: drop-shadow(0px 1px 2px rgba(0, 0, 0, 0.3));\n",
              "      fill: #FFFFFF;\n",
              "    }\n",
              "  </style>\n",
              "\n",
              "      <script>\n",
              "        const buttonEl =\n",
              "          document.querySelector('#df-770c49ef-f81b-41a1-b9cf-fc98392beff6 button.colab-df-convert');\n",
              "        buttonEl.style.display =\n",
              "          google.colab.kernel.accessAllowed ? 'block' : 'none';\n",
              "\n",
              "        async function convertToInteractive(key) {\n",
              "          const element = document.querySelector('#df-770c49ef-f81b-41a1-b9cf-fc98392beff6');\n",
              "          const dataTable =\n",
              "            await google.colab.kernel.invokeFunction('convertToInteractive',\n",
              "                                                     [key], {});\n",
              "          if (!dataTable) return;\n",
              "\n",
              "          const docLinkHtml = 'Like what you see? Visit the ' +\n",
              "            '<a target=\"_blank\" href=https://colab.research.google.com/notebooks/data_table.ipynb>data table notebook</a>'\n",
              "            + ' to learn more about interactive tables.';\n",
              "          element.innerHTML = '';\n",
              "          dataTable['output_type'] = 'display_data';\n",
              "          await google.colab.output.renderOutput(dataTable, element);\n",
              "          const docLink = document.createElement('div');\n",
              "          docLink.innerHTML = docLinkHtml;\n",
              "          element.appendChild(docLink);\n",
              "        }\n",
              "      </script>\n",
              "    </div>\n",
              "  </div>\n",
              "  "
            ]
          },
          "metadata": {},
          "execution_count": 3
        }
      ]
    },
    {
      "cell_type": "code",
      "source": [
        "#A variável \"VOO\" não é de interesse prático para os nosso problemas, protanto, podemos removê-la do dataset\n",
        "base_dados.drop('VOO', axis = 'columns', inplace = True)\n",
        "base_dados.head(10)"
      ],
      "metadata": {
        "colab": {
          "base_uri": "https://localhost:8080/",
          "height": 363
        },
        "id": "cqYb9tsv1v8o",
        "outputId": "de716f3b-affb-468b-8282-24bcd5c377f6"
      },
      "execution_count": 4,
      "outputs": [
        {
          "output_type": "execute_result",
          "data": {
            "text/plain": [
              "       ID  ATDEC  TXDEC  TXATER  ATATER\n",
              "0  N338AA     -2     30      12     -32\n",
              "1  N329AA     -1     19      13     -25\n",
              "2  N319AA     -2     12       8     -26\n",
              "3  N319AA      2     19      21      -6\n",
              "4  N329AA     -2     18      17       5\n",
              "5  N320AA      0     22      11     -15\n",
              "6  N321AA     -2     37      12     -17\n",
              "7  N338AA     -3     13      12     -36\n",
              "8  N327AA     -5     14      15     -29\n",
              "9  N319AA     -4     15      26     -18"
            ],
            "text/html": [
              "\n",
              "  <div id=\"df-693a16dd-fd16-4e62-9ba7-cb125e57c5be\">\n",
              "    <div class=\"colab-df-container\">\n",
              "      <div>\n",
              "<style scoped>\n",
              "    .dataframe tbody tr th:only-of-type {\n",
              "        vertical-align: middle;\n",
              "    }\n",
              "\n",
              "    .dataframe tbody tr th {\n",
              "        vertical-align: top;\n",
              "    }\n",
              "\n",
              "    .dataframe thead th {\n",
              "        text-align: right;\n",
              "    }\n",
              "</style>\n",
              "<table border=\"1\" class=\"dataframe\">\n",
              "  <thead>\n",
              "    <tr style=\"text-align: right;\">\n",
              "      <th></th>\n",
              "      <th>ID</th>\n",
              "      <th>ATDEC</th>\n",
              "      <th>TXDEC</th>\n",
              "      <th>TXATER</th>\n",
              "      <th>ATATER</th>\n",
              "    </tr>\n",
              "  </thead>\n",
              "  <tbody>\n",
              "    <tr>\n",
              "      <th>0</th>\n",
              "      <td>N338AA</td>\n",
              "      <td>-2</td>\n",
              "      <td>30</td>\n",
              "      <td>12</td>\n",
              "      <td>-32</td>\n",
              "    </tr>\n",
              "    <tr>\n",
              "      <th>1</th>\n",
              "      <td>N329AA</td>\n",
              "      <td>-1</td>\n",
              "      <td>19</td>\n",
              "      <td>13</td>\n",
              "      <td>-25</td>\n",
              "    </tr>\n",
              "    <tr>\n",
              "      <th>2</th>\n",
              "      <td>N319AA</td>\n",
              "      <td>-2</td>\n",
              "      <td>12</td>\n",
              "      <td>8</td>\n",
              "      <td>-26</td>\n",
              "    </tr>\n",
              "    <tr>\n",
              "      <th>3</th>\n",
              "      <td>N319AA</td>\n",
              "      <td>2</td>\n",
              "      <td>19</td>\n",
              "      <td>21</td>\n",
              "      <td>-6</td>\n",
              "    </tr>\n",
              "    <tr>\n",
              "      <th>4</th>\n",
              "      <td>N329AA</td>\n",
              "      <td>-2</td>\n",
              "      <td>18</td>\n",
              "      <td>17</td>\n",
              "      <td>5</td>\n",
              "    </tr>\n",
              "    <tr>\n",
              "      <th>5</th>\n",
              "      <td>N320AA</td>\n",
              "      <td>0</td>\n",
              "      <td>22</td>\n",
              "      <td>11</td>\n",
              "      <td>-15</td>\n",
              "    </tr>\n",
              "    <tr>\n",
              "      <th>6</th>\n",
              "      <td>N321AA</td>\n",
              "      <td>-2</td>\n",
              "      <td>37</td>\n",
              "      <td>12</td>\n",
              "      <td>-17</td>\n",
              "    </tr>\n",
              "    <tr>\n",
              "      <th>7</th>\n",
              "      <td>N338AA</td>\n",
              "      <td>-3</td>\n",
              "      <td>13</td>\n",
              "      <td>12</td>\n",
              "      <td>-36</td>\n",
              "    </tr>\n",
              "    <tr>\n",
              "      <th>8</th>\n",
              "      <td>N327AA</td>\n",
              "      <td>-5</td>\n",
              "      <td>14</td>\n",
              "      <td>15</td>\n",
              "      <td>-29</td>\n",
              "    </tr>\n",
              "    <tr>\n",
              "      <th>9</th>\n",
              "      <td>N319AA</td>\n",
              "      <td>-4</td>\n",
              "      <td>15</td>\n",
              "      <td>26</td>\n",
              "      <td>-18</td>\n",
              "    </tr>\n",
              "  </tbody>\n",
              "</table>\n",
              "</div>\n",
              "      <button class=\"colab-df-convert\" onclick=\"convertToInteractive('df-693a16dd-fd16-4e62-9ba7-cb125e57c5be')\"\n",
              "              title=\"Convert this dataframe to an interactive table.\"\n",
              "              style=\"display:none;\">\n",
              "        \n",
              "  <svg xmlns=\"http://www.w3.org/2000/svg\" height=\"24px\"viewBox=\"0 0 24 24\"\n",
              "       width=\"24px\">\n",
              "    <path d=\"M0 0h24v24H0V0z\" fill=\"none\"/>\n",
              "    <path d=\"M18.56 5.44l.94 2.06.94-2.06 2.06-.94-2.06-.94-.94-2.06-.94 2.06-2.06.94zm-11 1L8.5 8.5l.94-2.06 2.06-.94-2.06-.94L8.5 2.5l-.94 2.06-2.06.94zm10 10l.94 2.06.94-2.06 2.06-.94-2.06-.94-.94-2.06-.94 2.06-2.06.94z\"/><path d=\"M17.41 7.96l-1.37-1.37c-.4-.4-.92-.59-1.43-.59-.52 0-1.04.2-1.43.59L10.3 9.45l-7.72 7.72c-.78.78-.78 2.05 0 2.83L4 21.41c.39.39.9.59 1.41.59.51 0 1.02-.2 1.41-.59l7.78-7.78 2.81-2.81c.8-.78.8-2.07 0-2.86zM5.41 20L4 18.59l7.72-7.72 1.47 1.35L5.41 20z\"/>\n",
              "  </svg>\n",
              "      </button>\n",
              "      \n",
              "  <style>\n",
              "    .colab-df-container {\n",
              "      display:flex;\n",
              "      flex-wrap:wrap;\n",
              "      gap: 12px;\n",
              "    }\n",
              "\n",
              "    .colab-df-convert {\n",
              "      background-color: #E8F0FE;\n",
              "      border: none;\n",
              "      border-radius: 50%;\n",
              "      cursor: pointer;\n",
              "      display: none;\n",
              "      fill: #1967D2;\n",
              "      height: 32px;\n",
              "      padding: 0 0 0 0;\n",
              "      width: 32px;\n",
              "    }\n",
              "\n",
              "    .colab-df-convert:hover {\n",
              "      background-color: #E2EBFA;\n",
              "      box-shadow: 0px 1px 2px rgba(60, 64, 67, 0.3), 0px 1px 3px 1px rgba(60, 64, 67, 0.15);\n",
              "      fill: #174EA6;\n",
              "    }\n",
              "\n",
              "    [theme=dark] .colab-df-convert {\n",
              "      background-color: #3B4455;\n",
              "      fill: #D2E3FC;\n",
              "    }\n",
              "\n",
              "    [theme=dark] .colab-df-convert:hover {\n",
              "      background-color: #434B5C;\n",
              "      box-shadow: 0px 1px 3px 1px rgba(0, 0, 0, 0.15);\n",
              "      filter: drop-shadow(0px 1px 2px rgba(0, 0, 0, 0.3));\n",
              "      fill: #FFFFFF;\n",
              "    }\n",
              "  </style>\n",
              "\n",
              "      <script>\n",
              "        const buttonEl =\n",
              "          document.querySelector('#df-693a16dd-fd16-4e62-9ba7-cb125e57c5be button.colab-df-convert');\n",
              "        buttonEl.style.display =\n",
              "          google.colab.kernel.accessAllowed ? 'block' : 'none';\n",
              "\n",
              "        async function convertToInteractive(key) {\n",
              "          const element = document.querySelector('#df-693a16dd-fd16-4e62-9ba7-cb125e57c5be');\n",
              "          const dataTable =\n",
              "            await google.colab.kernel.invokeFunction('convertToInteractive',\n",
              "                                                     [key], {});\n",
              "          if (!dataTable) return;\n",
              "\n",
              "          const docLinkHtml = 'Like what you see? Visit the ' +\n",
              "            '<a target=\"_blank\" href=https://colab.research.google.com/notebooks/data_table.ipynb>data table notebook</a>'\n",
              "            + ' to learn more about interactive tables.';\n",
              "          element.innerHTML = '';\n",
              "          dataTable['output_type'] = 'display_data';\n",
              "          await google.colab.output.renderOutput(dataTable, element);\n",
              "          const docLink = document.createElement('div');\n",
              "          docLink.innerHTML = docLinkHtml;\n",
              "          element.appendChild(docLink);\n",
              "        }\n",
              "      </script>\n",
              "    </div>\n",
              "  </div>\n",
              "  "
            ]
          },
          "metadata": {},
          "execution_count": 4
        }
      ]
    },
    {
      "cell_type": "code",
      "source": [
        "#Renomeando as colunas para facilitar a identificação das variáveis e suas unidades de medida, temos:\n",
        "nomes_colunas = {'ID':'ID Aviao',\n",
        "                 'ATDEC':'Atraso Dec (min)',\n",
        "                 'TXDEC':'Tax ter dec (min)',\n",
        "                 'TXATER':'Tax ter aterr (min)',\n",
        "                 'ATATER':'Atraso chegada (min)'}\n",
        "base_dados.rename(nomes_colunas, axis = 'columns', inplace = True)"
      ],
      "metadata": {
        "id": "W7ffFJuf1asG"
      },
      "execution_count": 5,
      "outputs": []
    },
    {
      "cell_type": "code",
      "source": [
        "base_dados.head(10)"
      ],
      "metadata": {
        "colab": {
          "base_uri": "https://localhost:8080/",
          "height": 363
        },
        "id": "01lG93ZV3c7h",
        "outputId": "e076253f-3cb9-4ee9-ecdf-73470e3db012"
      },
      "execution_count": 6,
      "outputs": [
        {
          "output_type": "execute_result",
          "data": {
            "text/plain": [
              "  ID Aviao  Atraso Dec (min)  Tax ter dec (min)  Tax ter aterr (min)  \\\n",
              "0   N338AA                -2                 30                   12   \n",
              "1   N329AA                -1                 19                   13   \n",
              "2   N319AA                -2                 12                    8   \n",
              "3   N319AA                 2                 19                   21   \n",
              "4   N329AA                -2                 18                   17   \n",
              "5   N320AA                 0                 22                   11   \n",
              "6   N321AA                -2                 37                   12   \n",
              "7   N338AA                -3                 13                   12   \n",
              "8   N327AA                -5                 14                   15   \n",
              "9   N319AA                -4                 15                   26   \n",
              "\n",
              "   Atraso chegada (min)  \n",
              "0                   -32  \n",
              "1                   -25  \n",
              "2                   -26  \n",
              "3                    -6  \n",
              "4                     5  \n",
              "5                   -15  \n",
              "6                   -17  \n",
              "7                   -36  \n",
              "8                   -29  \n",
              "9                   -18  "
            ],
            "text/html": [
              "\n",
              "  <div id=\"df-9b5951bc-c716-40a7-8f55-675b91286871\">\n",
              "    <div class=\"colab-df-container\">\n",
              "      <div>\n",
              "<style scoped>\n",
              "    .dataframe tbody tr th:only-of-type {\n",
              "        vertical-align: middle;\n",
              "    }\n",
              "\n",
              "    .dataframe tbody tr th {\n",
              "        vertical-align: top;\n",
              "    }\n",
              "\n",
              "    .dataframe thead th {\n",
              "        text-align: right;\n",
              "    }\n",
              "</style>\n",
              "<table border=\"1\" class=\"dataframe\">\n",
              "  <thead>\n",
              "    <tr style=\"text-align: right;\">\n",
              "      <th></th>\n",
              "      <th>ID Aviao</th>\n",
              "      <th>Atraso Dec (min)</th>\n",
              "      <th>Tax ter dec (min)</th>\n",
              "      <th>Tax ter aterr (min)</th>\n",
              "      <th>Atraso chegada (min)</th>\n",
              "    </tr>\n",
              "  </thead>\n",
              "  <tbody>\n",
              "    <tr>\n",
              "      <th>0</th>\n",
              "      <td>N338AA</td>\n",
              "      <td>-2</td>\n",
              "      <td>30</td>\n",
              "      <td>12</td>\n",
              "      <td>-32</td>\n",
              "    </tr>\n",
              "    <tr>\n",
              "      <th>1</th>\n",
              "      <td>N329AA</td>\n",
              "      <td>-1</td>\n",
              "      <td>19</td>\n",
              "      <td>13</td>\n",
              "      <td>-25</td>\n",
              "    </tr>\n",
              "    <tr>\n",
              "      <th>2</th>\n",
              "      <td>N319AA</td>\n",
              "      <td>-2</td>\n",
              "      <td>12</td>\n",
              "      <td>8</td>\n",
              "      <td>-26</td>\n",
              "    </tr>\n",
              "    <tr>\n",
              "      <th>3</th>\n",
              "      <td>N319AA</td>\n",
              "      <td>2</td>\n",
              "      <td>19</td>\n",
              "      <td>21</td>\n",
              "      <td>-6</td>\n",
              "    </tr>\n",
              "    <tr>\n",
              "      <th>4</th>\n",
              "      <td>N329AA</td>\n",
              "      <td>-2</td>\n",
              "      <td>18</td>\n",
              "      <td>17</td>\n",
              "      <td>5</td>\n",
              "    </tr>\n",
              "    <tr>\n",
              "      <th>5</th>\n",
              "      <td>N320AA</td>\n",
              "      <td>0</td>\n",
              "      <td>22</td>\n",
              "      <td>11</td>\n",
              "      <td>-15</td>\n",
              "    </tr>\n",
              "    <tr>\n",
              "      <th>6</th>\n",
              "      <td>N321AA</td>\n",
              "      <td>-2</td>\n",
              "      <td>37</td>\n",
              "      <td>12</td>\n",
              "      <td>-17</td>\n",
              "    </tr>\n",
              "    <tr>\n",
              "      <th>7</th>\n",
              "      <td>N338AA</td>\n",
              "      <td>-3</td>\n",
              "      <td>13</td>\n",
              "      <td>12</td>\n",
              "      <td>-36</td>\n",
              "    </tr>\n",
              "    <tr>\n",
              "      <th>8</th>\n",
              "      <td>N327AA</td>\n",
              "      <td>-5</td>\n",
              "      <td>14</td>\n",
              "      <td>15</td>\n",
              "      <td>-29</td>\n",
              "    </tr>\n",
              "    <tr>\n",
              "      <th>9</th>\n",
              "      <td>N319AA</td>\n",
              "      <td>-4</td>\n",
              "      <td>15</td>\n",
              "      <td>26</td>\n",
              "      <td>-18</td>\n",
              "    </tr>\n",
              "  </tbody>\n",
              "</table>\n",
              "</div>\n",
              "      <button class=\"colab-df-convert\" onclick=\"convertToInteractive('df-9b5951bc-c716-40a7-8f55-675b91286871')\"\n",
              "              title=\"Convert this dataframe to an interactive table.\"\n",
              "              style=\"display:none;\">\n",
              "        \n",
              "  <svg xmlns=\"http://www.w3.org/2000/svg\" height=\"24px\"viewBox=\"0 0 24 24\"\n",
              "       width=\"24px\">\n",
              "    <path d=\"M0 0h24v24H0V0z\" fill=\"none\"/>\n",
              "    <path d=\"M18.56 5.44l.94 2.06.94-2.06 2.06-.94-2.06-.94-.94-2.06-.94 2.06-2.06.94zm-11 1L8.5 8.5l.94-2.06 2.06-.94-2.06-.94L8.5 2.5l-.94 2.06-2.06.94zm10 10l.94 2.06.94-2.06 2.06-.94-2.06-.94-.94-2.06-.94 2.06-2.06.94z\"/><path d=\"M17.41 7.96l-1.37-1.37c-.4-.4-.92-.59-1.43-.59-.52 0-1.04.2-1.43.59L10.3 9.45l-7.72 7.72c-.78.78-.78 2.05 0 2.83L4 21.41c.39.39.9.59 1.41.59.51 0 1.02-.2 1.41-.59l7.78-7.78 2.81-2.81c.8-.78.8-2.07 0-2.86zM5.41 20L4 18.59l7.72-7.72 1.47 1.35L5.41 20z\"/>\n",
              "  </svg>\n",
              "      </button>\n",
              "      \n",
              "  <style>\n",
              "    .colab-df-container {\n",
              "      display:flex;\n",
              "      flex-wrap:wrap;\n",
              "      gap: 12px;\n",
              "    }\n",
              "\n",
              "    .colab-df-convert {\n",
              "      background-color: #E8F0FE;\n",
              "      border: none;\n",
              "      border-radius: 50%;\n",
              "      cursor: pointer;\n",
              "      display: none;\n",
              "      fill: #1967D2;\n",
              "      height: 32px;\n",
              "      padding: 0 0 0 0;\n",
              "      width: 32px;\n",
              "    }\n",
              "\n",
              "    .colab-df-convert:hover {\n",
              "      background-color: #E2EBFA;\n",
              "      box-shadow: 0px 1px 2px rgba(60, 64, 67, 0.3), 0px 1px 3px 1px rgba(60, 64, 67, 0.15);\n",
              "      fill: #174EA6;\n",
              "    }\n",
              "\n",
              "    [theme=dark] .colab-df-convert {\n",
              "      background-color: #3B4455;\n",
              "      fill: #D2E3FC;\n",
              "    }\n",
              "\n",
              "    [theme=dark] .colab-df-convert:hover {\n",
              "      background-color: #434B5C;\n",
              "      box-shadow: 0px 1px 3px 1px rgba(0, 0, 0, 0.15);\n",
              "      filter: drop-shadow(0px 1px 2px rgba(0, 0, 0, 0.3));\n",
              "      fill: #FFFFFF;\n",
              "    }\n",
              "  </style>\n",
              "\n",
              "      <script>\n",
              "        const buttonEl =\n",
              "          document.querySelector('#df-9b5951bc-c716-40a7-8f55-675b91286871 button.colab-df-convert');\n",
              "        buttonEl.style.display =\n",
              "          google.colab.kernel.accessAllowed ? 'block' : 'none';\n",
              "\n",
              "        async function convertToInteractive(key) {\n",
              "          const element = document.querySelector('#df-9b5951bc-c716-40a7-8f55-675b91286871');\n",
              "          const dataTable =\n",
              "            await google.colab.kernel.invokeFunction('convertToInteractive',\n",
              "                                                     [key], {});\n",
              "          if (!dataTable) return;\n",
              "\n",
              "          const docLinkHtml = 'Like what you see? Visit the ' +\n",
              "            '<a target=\"_blank\" href=https://colab.research.google.com/notebooks/data_table.ipynb>data table notebook</a>'\n",
              "            + ' to learn more about interactive tables.';\n",
              "          element.innerHTML = '';\n",
              "          dataTable['output_type'] = 'display_data';\n",
              "          await google.colab.output.renderOutput(dataTable, element);\n",
              "          const docLink = document.createElement('div');\n",
              "          docLink.innerHTML = docLinkHtml;\n",
              "          element.appendChild(docLink);\n",
              "        }\n",
              "      </script>\n",
              "    </div>\n",
              "  </div>\n",
              "  "
            ]
          },
          "metadata": {},
          "execution_count": 6
        }
      ]
    },
    {
      "cell_type": "code",
      "source": [
        "#Salvando a base de dados devidamente tratada, temos:\n",
        "base_dados.to_csv('voos.csv')"
      ],
      "metadata": {
        "id": "XJf4LcPq-9ps"
      },
      "execution_count": 7,
      "outputs": []
    },
    {
      "cell_type": "markdown",
      "source": [
        "Para obter um resumo dos dados, contruiu-se uma distribuição de frequência para a variável \"ATATER\". A partir da distribuição de frequência temos uma resumo dos dados e podemos observar como os dados estão distribuídos ao longo das classes."
      ],
      "metadata": {
        "id": "GL4MuTJm0-i-"
      }
    },
    {
      "cell_type": "code",
      "source": [
        "#visualizando o valor mínimo da variável \"Atraso chegada (min)\", temos:\n",
        "base_dados['Atraso chegada (min)'].min()"
      ],
      "metadata": {
        "colab": {
          "base_uri": "https://localhost:8080/"
        },
        "id": "XI_YrDFY3zqu",
        "outputId": "0e4202a3-bbf7-4918-d0ea-5832d72f45c5"
      },
      "execution_count": 8,
      "outputs": [
        {
          "output_type": "execute_result",
          "data": {
            "text/plain": [
              "-46"
            ]
          },
          "metadata": {},
          "execution_count": 8
        }
      ]
    },
    {
      "cell_type": "code",
      "source": [
        "#visualizando o valor máximo da variável \"Atraso chegada (min)\", temos:\n",
        "base_dados['Atraso chegada (min)'].max()"
      ],
      "metadata": {
        "colab": {
          "base_uri": "https://localhost:8080/"
        },
        "id": "SVNEe7he37d5",
        "outputId": "8d5bfbb5-085c-401a-e440-5403c3faabcb"
      },
      "execution_count": 9,
      "outputs": [
        {
          "output_type": "execute_result",
          "data": {
            "text/plain": [
              "106"
            ]
          },
          "metadata": {},
          "execution_count": 9
        }
      ]
    },
    {
      "cell_type": "code",
      "source": [
        "#definindo as classes da distribuição de frequência, temos:\n",
        "classes = []\n",
        "n = -60\n",
        "while n <= 120:\n",
        "  classes.append(n)\n",
        "  n = n + 30\n",
        "classes"
      ],
      "metadata": {
        "colab": {
          "base_uri": "https://localhost:8080/"
        },
        "id": "9u3BxvuY03uy",
        "outputId": "1da217d4-cc64-4978-8f61-05a0a15eb4c4"
      },
      "execution_count": 10,
      "outputs": [
        {
          "output_type": "execute_result",
          "data": {
            "text/plain": [
              "[-60, -30, 0, 30, 60, 90, 120]"
            ]
          },
          "metadata": {},
          "execution_count": 10
        }
      ]
    },
    {
      "cell_type": "code",
      "source": [
        "#Construindo a distribuição de frequência, temos:\n",
        "frequencia = pd.value_counts(pd.cut(x = base_dados['Atraso chegada (min)'], bins = classes, include_lowest = True),\n",
        "                             sort = False)\n",
        "frequencia"
      ],
      "metadata": {
        "colab": {
          "base_uri": "https://localhost:8080/"
        },
        "id": "C7ukuUvb4GrW",
        "outputId": "a01e5777-8644-4232-dc1e-657327cd6eb8"
      },
      "execution_count": 11,
      "outputs": [
        {
          "output_type": "execute_result",
          "data": {
            "text/plain": [
              "(-60.001, -30.0]    12\n",
              "(-30.0, 0.0]        26\n",
              "(0.0, 30.0]          7\n",
              "(30.0, 60.0]         1\n",
              "(60.0, 90.0]         0\n",
              "(90.0, 120.0]        2\n",
              "Name: Atraso chegada (min), dtype: int64"
            ]
          },
          "metadata": {},
          "execution_count": 11
        }
      ]
    },
    {
      "cell_type": "code",
      "source": [
        "#Construindo a distribuição de frequência relativa, temos:\n",
        "percentual = pd.value_counts(pd.cut(x = base_dados['Atraso chegada (min)'], bins = classes, include_lowest = True),\n",
        "                             sort = False,\n",
        "                             normalize = True) * 100\n",
        "percentual"
      ],
      "metadata": {
        "colab": {
          "base_uri": "https://localhost:8080/"
        },
        "id": "Y3Lm89TN4d2x",
        "outputId": "71ccd9a2-8af2-4ae4-abd3-80a5229a2991"
      },
      "execution_count": 12,
      "outputs": [
        {
          "output_type": "execute_result",
          "data": {
            "text/plain": [
              "(-60.001, -30.0]    25.000000\n",
              "(-30.0, 0.0]        54.166667\n",
              "(0.0, 30.0]         14.583333\n",
              "(30.0, 60.0]         2.083333\n",
              "(60.0, 90.0]         0.000000\n",
              "(90.0, 120.0]        4.166667\n",
              "Name: Atraso chegada (min), dtype: float64"
            ]
          },
          "metadata": {},
          "execution_count": 12
        }
      ]
    },
    {
      "cell_type": "code",
      "source": [
        "#Construindo a tabela de distribuição de frequência, temos:\n",
        "dist_freq = pd.DataFrame({'Frequência':frequencia,'Porcentagem(%)':percentual})\n",
        "dist_freq.rename_axis('Classes', axis = 'index', inplace = True)\n",
        "dist_freq"
      ],
      "metadata": {
        "colab": {
          "base_uri": "https://localhost:8080/",
          "height": 268
        },
        "id": "kWpsUIXT5U96",
        "outputId": "16455e6f-71dc-459a-aa24-be449f15c98b"
      },
      "execution_count": 13,
      "outputs": [
        {
          "output_type": "execute_result",
          "data": {
            "text/plain": [
              "                  Frequência  Porcentagem(%)\n",
              "Classes                                     \n",
              "(-60.001, -30.0]          12       25.000000\n",
              "(-30.0, 0.0]              26       54.166667\n",
              "(0.0, 30.0]                7       14.583333\n",
              "(30.0, 60.0]               1        2.083333\n",
              "(60.0, 90.0]               0        0.000000\n",
              "(90.0, 120.0]              2        4.166667"
            ],
            "text/html": [
              "\n",
              "  <div id=\"df-4c4d977b-5536-4df5-aaaf-01802655e93e\">\n",
              "    <div class=\"colab-df-container\">\n",
              "      <div>\n",
              "<style scoped>\n",
              "    .dataframe tbody tr th:only-of-type {\n",
              "        vertical-align: middle;\n",
              "    }\n",
              "\n",
              "    .dataframe tbody tr th {\n",
              "        vertical-align: top;\n",
              "    }\n",
              "\n",
              "    .dataframe thead th {\n",
              "        text-align: right;\n",
              "    }\n",
              "</style>\n",
              "<table border=\"1\" class=\"dataframe\">\n",
              "  <thead>\n",
              "    <tr style=\"text-align: right;\">\n",
              "      <th></th>\n",
              "      <th>Frequência</th>\n",
              "      <th>Porcentagem(%)</th>\n",
              "    </tr>\n",
              "    <tr>\n",
              "      <th>Classes</th>\n",
              "      <th></th>\n",
              "      <th></th>\n",
              "    </tr>\n",
              "  </thead>\n",
              "  <tbody>\n",
              "    <tr>\n",
              "      <th>(-60.001, -30.0]</th>\n",
              "      <td>12</td>\n",
              "      <td>25.000000</td>\n",
              "    </tr>\n",
              "    <tr>\n",
              "      <th>(-30.0, 0.0]</th>\n",
              "      <td>26</td>\n",
              "      <td>54.166667</td>\n",
              "    </tr>\n",
              "    <tr>\n",
              "      <th>(0.0, 30.0]</th>\n",
              "      <td>7</td>\n",
              "      <td>14.583333</td>\n",
              "    </tr>\n",
              "    <tr>\n",
              "      <th>(30.0, 60.0]</th>\n",
              "      <td>1</td>\n",
              "      <td>2.083333</td>\n",
              "    </tr>\n",
              "    <tr>\n",
              "      <th>(60.0, 90.0]</th>\n",
              "      <td>0</td>\n",
              "      <td>0.000000</td>\n",
              "    </tr>\n",
              "    <tr>\n",
              "      <th>(90.0, 120.0]</th>\n",
              "      <td>2</td>\n",
              "      <td>4.166667</td>\n",
              "    </tr>\n",
              "  </tbody>\n",
              "</table>\n",
              "</div>\n",
              "      <button class=\"colab-df-convert\" onclick=\"convertToInteractive('df-4c4d977b-5536-4df5-aaaf-01802655e93e')\"\n",
              "              title=\"Convert this dataframe to an interactive table.\"\n",
              "              style=\"display:none;\">\n",
              "        \n",
              "  <svg xmlns=\"http://www.w3.org/2000/svg\" height=\"24px\"viewBox=\"0 0 24 24\"\n",
              "       width=\"24px\">\n",
              "    <path d=\"M0 0h24v24H0V0z\" fill=\"none\"/>\n",
              "    <path d=\"M18.56 5.44l.94 2.06.94-2.06 2.06-.94-2.06-.94-.94-2.06-.94 2.06-2.06.94zm-11 1L8.5 8.5l.94-2.06 2.06-.94-2.06-.94L8.5 2.5l-.94 2.06-2.06.94zm10 10l.94 2.06.94-2.06 2.06-.94-2.06-.94-.94-2.06-.94 2.06-2.06.94z\"/><path d=\"M17.41 7.96l-1.37-1.37c-.4-.4-.92-.59-1.43-.59-.52 0-1.04.2-1.43.59L10.3 9.45l-7.72 7.72c-.78.78-.78 2.05 0 2.83L4 21.41c.39.39.9.59 1.41.59.51 0 1.02-.2 1.41-.59l7.78-7.78 2.81-2.81c.8-.78.8-2.07 0-2.86zM5.41 20L4 18.59l7.72-7.72 1.47 1.35L5.41 20z\"/>\n",
              "  </svg>\n",
              "      </button>\n",
              "      \n",
              "  <style>\n",
              "    .colab-df-container {\n",
              "      display:flex;\n",
              "      flex-wrap:wrap;\n",
              "      gap: 12px;\n",
              "    }\n",
              "\n",
              "    .colab-df-convert {\n",
              "      background-color: #E8F0FE;\n",
              "      border: none;\n",
              "      border-radius: 50%;\n",
              "      cursor: pointer;\n",
              "      display: none;\n",
              "      fill: #1967D2;\n",
              "      height: 32px;\n",
              "      padding: 0 0 0 0;\n",
              "      width: 32px;\n",
              "    }\n",
              "\n",
              "    .colab-df-convert:hover {\n",
              "      background-color: #E2EBFA;\n",
              "      box-shadow: 0px 1px 2px rgba(60, 64, 67, 0.3), 0px 1px 3px 1px rgba(60, 64, 67, 0.15);\n",
              "      fill: #174EA6;\n",
              "    }\n",
              "\n",
              "    [theme=dark] .colab-df-convert {\n",
              "      background-color: #3B4455;\n",
              "      fill: #D2E3FC;\n",
              "    }\n",
              "\n",
              "    [theme=dark] .colab-df-convert:hover {\n",
              "      background-color: #434B5C;\n",
              "      box-shadow: 0px 1px 3px 1px rgba(0, 0, 0, 0.15);\n",
              "      filter: drop-shadow(0px 1px 2px rgba(0, 0, 0, 0.3));\n",
              "      fill: #FFFFFF;\n",
              "    }\n",
              "  </style>\n",
              "\n",
              "      <script>\n",
              "        const buttonEl =\n",
              "          document.querySelector('#df-4c4d977b-5536-4df5-aaaf-01802655e93e button.colab-df-convert');\n",
              "        buttonEl.style.display =\n",
              "          google.colab.kernel.accessAllowed ? 'block' : 'none';\n",
              "\n",
              "        async function convertToInteractive(key) {\n",
              "          const element = document.querySelector('#df-4c4d977b-5536-4df5-aaaf-01802655e93e');\n",
              "          const dataTable =\n",
              "            await google.colab.kernel.invokeFunction('convertToInteractive',\n",
              "                                                     [key], {});\n",
              "          if (!dataTable) return;\n",
              "\n",
              "          const docLinkHtml = 'Like what you see? Visit the ' +\n",
              "            '<a target=\"_blank\" href=https://colab.research.google.com/notebooks/data_table.ipynb>data table notebook</a>'\n",
              "            + ' to learn more about interactive tables.';\n",
              "          element.innerHTML = '';\n",
              "          dataTable['output_type'] = 'display_data';\n",
              "          await google.colab.output.renderOutput(dataTable, element);\n",
              "          const docLink = document.createElement('div');\n",
              "          docLink.innerHTML = docLinkHtml;\n",
              "          element.appendChild(docLink);\n",
              "        }\n",
              "      </script>\n",
              "    </div>\n",
              "  </div>\n",
              "  "
            ]
          },
          "metadata": {},
          "execution_count": 13
        }
      ]
    },
    {
      "cell_type": "code",
      "source": [
        "#Construindo um histograma para observar graficamente a distribuição dos dados, temos:\n",
        "classes = [-60.001,-29.9999,0.001,30.001,60.001,90.001,120.001]\n",
        "ax = sns.histplot(base_dados['Atraso chegada (min)'], bins = classes)\n",
        "ax.figure.set_size_inches(12,6)\n",
        "ax.set_title('Distribuição de frequências - Tempo de atraso', fontsize = 18)\n",
        "ax.set_xlabel('minutos (min)', fontsize = 14)\n",
        "ax.set_ylabel('Frequência', fontsize = 14)\n",
        "ax.set_yticks([i for i in range(0,28,1)])\n",
        "ax.set_xticks([-60.001,-29.9999,0.001,30.001,60.001,90.001,120.001])\n",
        "ax"
      ],
      "metadata": {
        "colab": {
          "base_uri": "https://localhost:8080/",
          "height": 431
        },
        "id": "Nk9sQLoZ5VLL",
        "outputId": "9909c4e4-08b4-4e64-eb1c-a1df7dbaad66"
      },
      "execution_count": 14,
      "outputs": [
        {
          "output_type": "execute_result",
          "data": {
            "text/plain": [
              "<matplotlib.axes._subplots.AxesSubplot at 0x7f4b0a812bd0>"
            ]
          },
          "metadata": {},
          "execution_count": 14
        },
        {
          "output_type": "display_data",
          "data": {
            "text/plain": [
              "<Figure size 864x432 with 1 Axes>"
            ],
            "image/png": "[encoded data removed]"
          },
          "metadata": {
            "needs_background": "light"
          }
        }
      ]
    },
    {
      "cell_type": "code",
      "source": [
        "#Construindo um histograma de frequência relativa para observar graficamente a distribuição dos dados, temos:\n",
        "classes = [-60.001,-29.9999,0.001,30.001,60.001,90.001,120.001]\n",
        "ax = sns.histplot(base_dados['Atraso chegada (min)'], bins = classes, stat = 'percent')\n",
        "ax.figure.set_size_inches(12,6)\n",
        "ax.set_title('Distribuição de frequências - Tempo de atraso', fontsize = 18)\n",
        "ax.set_xlabel('minutos (min)', fontsize = 14)\n",
        "ax.set_ylabel('Frequência', fontsize = 14)\n",
        "ax.set_yticks([i for i in range(0,60,3)])\n",
        "ax.set_xticks([-60.001,-29.9999,0.001,30.001,60.001,90.001,120.001])\n",
        "ax"
      ],
      "metadata": {
        "colab": {
          "base_uri": "https://localhost:8080/",
          "height": 431
        },
        "id": "cUcjgZ1Sctry",
        "outputId": "d17f795d-962d-426d-bb57-299c634067b7"
      },
      "execution_count": 15,
      "outputs": [
        {
          "output_type": "execute_result",
          "data": {
            "text/plain": [
              "<matplotlib.axes._subplots.AxesSubplot at 0x7f4b0a143f90>"
            ]
          },
          "metadata": {},
          "execution_count": 15
        },
        {
          "output_type": "display_data",
          "data": {
            "text/plain": [
              "<Figure size 864x432 with 1 Axes>"
            ],
            "image/png": "[encoded data removed]"
          },
          "metadata": {
            "needs_background": "light"
          }
        }
      ]
    },
    {
      "cell_type": "markdown",
      "source": [
        "**Conclusões sobre o problema**\n",
        "\n",
        "A partir da tabela de distribuição de frequência e histograma para a variável \"Atraso chegada (min)\", é possível concluir que 79% dos voos da American Airlines, de Nova York (JFK) para Los Angeles (LAX), chegam antes ou no horário previsto. Enquanto 14,6% dos voos atrasam em até 30 minutos. Apenas, aproximadamente, 6% dos voos apresentam atraso entre 30 e 120 minutos. Portanto, a partir dos dados analisados, parece que os voos não atrasam muito. Ainda sobre a análise do conjunto de dados, os valores entre 90 e 120 minutos são candidatos a valores outliers (muito distante dos demais). Os valores de outliers podem ser erros de entrada de dados ou não, tais valores devem ser verificados para avaliar a validade. Também é possível visualizar que o tempo de atraso estão distribuídos entre -60 e 60 minutos, com a grande maioria se concentrando entre -60 e 30 minutos."
      ],
      "metadata": {
        "id": "Qt7wVUls6Km_"
      }
    },
    {
      "cell_type": "markdown",
      "source": [
        "## Tempos de Taxiamento para Decolagem de Voos"
      ],
      "metadata": {
        "id": "WuJSONLX_hn0"
      }
    },
    {
      "cell_type": "markdown",
      "source": [
        "**Contexto da base de dados**\n",
        "\n",
        "Para avaliar o tempo de taxiamento para decolagem devemos estuar a variável \"Tax ter dec (min)\". Se a maioria dis dados estiverem concentrados em  uma pequena faixa de valores poderemos afirmar que o tempo de taxiamento pode ser predito com precisão razoável. Caso contrário, não será possível predizer o tempo com boa precisão. Para responder a pergunta do problema, construiu-se uma distribuição de frequência básica e relativa, assim como um histograma para visualizar graficamente a distribuição dos dados. "
      ],
      "metadata": {
        "id": "rbO9IDx3_woD"
      }
    },
    {
      "cell_type": "markdown",
      "source": [
        "**Problema 2.28 - Tempos de taxiamento para decolagem de voos**\n",
        "\n",
        "Consulte o Conjunto de Dados 15 no Apêndice B e use os\n",
        "tempos necessários de taxiamento para a decolagem. Comece com um limite inferior de classe de 10 min e use uma\n",
        "amplitude de classe de 5 min. Com base no resultado, parece que o tempo necessário de taxiamento para decolagem\n",
        "possa ser predito com precisão razoável?\n"
      ],
      "metadata": {
        "id": "tc7HStpM_mIU"
      }
    },
    {
      "cell_type": "code",
      "source": [
        "from sys import base_prefix\n",
        "#Abrindo a base de dados de voos, temos:\n",
        "base_dados = pd.read_csv('voos.csv')\n",
        "base_dados.head(10)"
      ],
      "metadata": {
        "colab": {
          "base_uri": "https://localhost:8080/",
          "height": 363
        },
        "id": "lKYu1z4KArVt",
        "outputId": "de0ba3bb-9ae4-46f8-a076-a9e5779aaac8"
      },
      "execution_count": null,
      "outputs": [
        {
          "output_type": "execute_result",
          "data": {
            "text/plain": [
              "   Unnamed: 0 ID Aviao  Atraso Dec (min)  Tax ter dec (min)  \\\n",
              "0           0   N338AA                -2                 30   \n",
              "1           1   N329AA                -1                 19   \n",
              "2           2   N319AA                -2                 12   \n",
              "3           3   N319AA                 2                 19   \n",
              "4           4   N329AA                -2                 18   \n",
              "5           5   N320AA                 0                 22   \n",
              "6           6   N321AA                -2                 37   \n",
              "7           7   N338AA                -3                 13   \n",
              "8           8   N327AA                -5                 14   \n",
              "9           9   N319AA                -4                 15   \n",
              "\n",
              "   Tax ter aterr (min)  Atraso chegada (min)  \n",
              "0                   12                   -32  \n",
              "1                   13                   -25  \n",
              "2                    8                   -26  \n",
              "3                   21                    -6  \n",
              "4                   17                     5  \n",
              "5                   11                   -15  \n",
              "6                   12                   -17  \n",
              "7                   12                   -36  \n",
              "8                   15                   -29  \n",
              "9                   26                   -18  "
            ],
            "text/html": [
              "\n",
              "  <div id=\"df-76df7657-9b77-4141-9ae9-2e22e5ed5155\">\n",
              "    <div class=\"colab-df-container\">\n",
              "      <div>\n",
              "<style scoped>\n",
              "    .dataframe tbody tr th:only-of-type {\n",
              "        vertical-align: middle;\n",
              "    }\n",
              "\n",
              "    .dataframe tbody tr th {\n",
              "        vertical-align: top;\n",
              "    }\n",
              "\n",
              "    .dataframe thead th {\n",
              "        text-align: right;\n",
              "    }\n",
              "</style>\n",
              "<table border=\"1\" class=\"dataframe\">\n",
              "  <thead>\n",
              "    <tr style=\"text-align: right;\">\n",
              "      <th></th>\n",
              "      <th>Unnamed: 0</th>\n",
              "      <th>ID Aviao</th>\n",
              "      <th>Atraso Dec (min)</th>\n",
              "      <th>Tax ter dec (min)</th>\n",
              "      <th>Tax ter aterr (min)</th>\n",
              "      <th>Atraso chegada (min)</th>\n",
              "    </tr>\n",
              "  </thead>\n",
              "  <tbody>\n",
              "    <tr>\n",
              "      <th>0</th>\n",
              "      <td>0</td>\n",
              "      <td>N338AA</td>\n",
              "      <td>-2</td>\n",
              "      <td>30</td>\n",
              "      <td>12</td>\n",
              "      <td>-32</td>\n",
              "    </tr>\n",
              "    <tr>\n",
              "      <th>1</th>\n",
              "      <td>1</td>\n",
              "      <td>N329AA</td>\n",
              "      <td>-1</td>\n",
              "      <td>19</td>\n",
              "      <td>13</td>\n",
              "      <td>-25</td>\n",
              "    </tr>\n",
              "    <tr>\n",
              "      <th>2</th>\n",
              "      <td>2</td>\n",
              "      <td>N319AA</td>\n",
              "      <td>-2</td>\n",
              "      <td>12</td>\n",
              "      <td>8</td>\n",
              "      <td>-26</td>\n",
              "    </tr>\n",
              "    <tr>\n",
              "      <th>3</th>\n",
              "      <td>3</td>\n",
              "      <td>N319AA</td>\n",
              "      <td>2</td>\n",
              "      <td>19</td>\n",
              "      <td>21</td>\n",
              "      <td>-6</td>\n",
              "    </tr>\n",
              "    <tr>\n",
              "      <th>4</th>\n",
              "      <td>4</td>\n",
              "      <td>N329AA</td>\n",
              "      <td>-2</td>\n",
              "      <td>18</td>\n",
              "      <td>17</td>\n",
              "      <td>5</td>\n",
              "    </tr>\n",
              "    <tr>\n",
              "      <th>5</th>\n",
              "      <td>5</td>\n",
              "      <td>N320AA</td>\n",
              "      <td>0</td>\n",
              "      <td>22</td>\n",
              "      <td>11</td>\n",
              "      <td>-15</td>\n",
              "    </tr>\n",
              "    <tr>\n",
              "      <th>6</th>\n",
              "      <td>6</td>\n",
              "      <td>N321AA</td>\n",
              "      <td>-2</td>\n",
              "      <td>37</td>\n",
              "      <td>12</td>\n",
              "      <td>-17</td>\n",
              "    </tr>\n",
              "    <tr>\n",
              "      <th>7</th>\n",
              "      <td>7</td>\n",
              "      <td>N338AA</td>\n",
              "      <td>-3</td>\n",
              "      <td>13</td>\n",
              "      <td>12</td>\n",
              "      <td>-36</td>\n",
              "    </tr>\n",
              "    <tr>\n",
              "      <th>8</th>\n",
              "      <td>8</td>\n",
              "      <td>N327AA</td>\n",
              "      <td>-5</td>\n",
              "      <td>14</td>\n",
              "      <td>15</td>\n",
              "      <td>-29</td>\n",
              "    </tr>\n",
              "    <tr>\n",
              "      <th>9</th>\n",
              "      <td>9</td>\n",
              "      <td>N319AA</td>\n",
              "      <td>-4</td>\n",
              "      <td>15</td>\n",
              "      <td>26</td>\n",
              "      <td>-18</td>\n",
              "    </tr>\n",
              "  </tbody>\n",
              "</table>\n",
              "</div>\n",
              "      <button class=\"colab-df-convert\" onclick=\"convertToInteractive('df-76df7657-9b77-4141-9ae9-2e22e5ed5155')\"\n",
              "              title=\"Convert this dataframe to an interactive table.\"\n",
              "              style=\"display:none;\">\n",
              "        \n",
              "  <svg xmlns=\"http://www.w3.org/2000/svg\" height=\"24px\"viewBox=\"0 0 24 24\"\n",
              "       width=\"24px\">\n",
              "    <path d=\"M0 0h24v24H0V0z\" fill=\"none\"/>\n",
              "    <path d=\"M18.56 5.44l.94 2.06.94-2.06 2.06-.94-2.06-.94-.94-2.06-.94 2.06-2.06.94zm-11 1L8.5 8.5l.94-2.06 2.06-.94-2.06-.94L8.5 2.5l-.94 2.06-2.06.94zm10 10l.94 2.06.94-2.06 2.06-.94-2.06-.94-.94-2.06-.94 2.06-2.06.94z\"/><path d=\"M17.41 7.96l-1.37-1.37c-.4-.4-.92-.59-1.43-.59-.52 0-1.04.2-1.43.59L10.3 9.45l-7.72 7.72c-.78.78-.78 2.05 0 2.83L4 21.41c.39.39.9.59 1.41.59.51 0 1.02-.2 1.41-.59l7.78-7.78 2.81-2.81c.8-.78.8-2.07 0-2.86zM5.41 20L4 18.59l7.72-7.72 1.47 1.35L5.41 20z\"/>\n",
              "  </svg>\n",
              "      </button>\n",
              "      \n",
              "  <style>\n",
              "    .colab-df-container {\n",
              "      display:flex;\n",
              "      flex-wrap:wrap;\n",
              "      gap: 12px;\n",
              "    }\n",
              "\n",
              "    .colab-df-convert {\n",
              "      background-color: #E8F0FE;\n",
              "      border: none;\n",
              "      border-radius: 50%;\n",
              "      cursor: pointer;\n",
              "      display: none;\n",
              "      fill: #1967D2;\n",
              "      height: 32px;\n",
              "      padding: 0 0 0 0;\n",
              "      width: 32px;\n",
              "    }\n",
              "\n",
              "    .colab-df-convert:hover {\n",
              "      background-color: #E2EBFA;\n",
              "      box-shadow: 0px 1px 2px rgba(60, 64, 67, 0.3), 0px 1px 3px 1px rgba(60, 64, 67, 0.15);\n",
              "      fill: #174EA6;\n",
              "    }\n",
              "\n",
              "    [theme=dark] .colab-df-convert {\n",
              "      background-color: #3B4455;\n",
              "      fill: #D2E3FC;\n",
              "    }\n",
              "\n",
              "    [theme=dark] .colab-df-convert:hover {\n",
              "      background-color: #434B5C;\n",
              "      box-shadow: 0px 1px 3px 1px rgba(0, 0, 0, 0.15);\n",
              "      filter: drop-shadow(0px 1px 2px rgba(0, 0, 0, 0.3));\n",
              "      fill: #FFFFFF;\n",
              "    }\n",
              "  </style>\n",
              "\n",
              "      <script>\n",
              "        const buttonEl =\n",
              "          document.querySelector('#df-76df7657-9b77-4141-9ae9-2e22e5ed5155 button.colab-df-convert');\n",
              "        buttonEl.style.display =\n",
              "          google.colab.kernel.accessAllowed ? 'block' : 'none';\n",
              "\n",
              "        async function convertToInteractive(key) {\n",
              "          const element = document.querySelector('#df-76df7657-9b77-4141-9ae9-2e22e5ed5155');\n",
              "          const dataTable =\n",
              "            await google.colab.kernel.invokeFunction('convertToInteractive',\n",
              "                                                     [key], {});\n",
              "          if (!dataTable) return;\n",
              "\n",
              "          const docLinkHtml = 'Like what you see? Visit the ' +\n",
              "            '<a target=\"_blank\" href=https://colab.research.google.com/notebooks/data_table.ipynb>data table notebook</a>'\n",
              "            + ' to learn more about interactive tables.';\n",
              "          element.innerHTML = '';\n",
              "          dataTable['output_type'] = 'display_data';\n",
              "          await google.colab.output.renderOutput(dataTable, element);\n",
              "          const docLink = document.createElement('div');\n",
              "          docLink.innerHTML = docLinkHtml;\n",
              "          element.appendChild(docLink);\n",
              "        }\n",
              "      </script>\n",
              "    </div>\n",
              "  </div>\n",
              "  "
            ]
          },
          "metadata": {},
          "execution_count": 23
        }
      ]
    },
    {
      "cell_type": "code",
      "source": [
        "#Visualizando o menor valor da variável \"Tax ter dec (min)\", temos:\n",
        "base_dados['Tax ter dec (min)'].min()"
      ],
      "metadata": {
        "colab": {
          "base_uri": "https://localhost:8080/"
        },
        "id": "oZDWEU5PA2v8",
        "outputId": "df89e7fc-c276-4363-86d8-d5605bd53fb2"
      },
      "execution_count": null,
      "outputs": [
        {
          "output_type": "execute_result",
          "data": {
            "text/plain": [
              "12"
            ]
          },
          "metadata": {},
          "execution_count": 24
        }
      ]
    },
    {
      "cell_type": "code",
      "source": [
        "#Visualizando o maior valor da variável \"Tax ter dec (min)\", temos:\n",
        "base_dados['Tax ter dec (min)'].max()"
      ],
      "metadata": {
        "colab": {
          "base_uri": "https://localhost:8080/"
        },
        "id": "ttF00vBSBAgD",
        "outputId": "7c467b43-4391-427b-e473-d3788b1577e8"
      },
      "execution_count": null,
      "outputs": [
        {
          "output_type": "execute_result",
          "data": {
            "text/plain": [
              "49"
            ]
          },
          "metadata": {},
          "execution_count": 25
        }
      ]
    },
    {
      "cell_type": "code",
      "source": [
        "#Definindo as classes personalizadas de amplitude fixa, temos:\n",
        "classes = []\n",
        "n = 10\n",
        "classes.append(n)\n",
        "while n < base_dados['Tax ter dec (min)'].max():\n",
        "  n = n + 5\n",
        "  classes.append(n)\n",
        "classes"
      ],
      "metadata": {
        "colab": {
          "base_uri": "https://localhost:8080/"
        },
        "id": "H6Jf98V5BAiz",
        "outputId": "96ecbef2-098c-4d40-a107-1276212b2f16"
      },
      "execution_count": null,
      "outputs": [
        {
          "output_type": "execute_result",
          "data": {
            "text/plain": [
              "[10, 15, 20, 25, 30, 35, 40, 45, 50]"
            ]
          },
          "metadata": {},
          "execution_count": 26
        }
      ]
    },
    {
      "cell_type": "code",
      "source": [
        "#Construindo a distribuição de frequência básica\n",
        "frequencia = pd.value_counts(pd.cut(x = base_dados['Tax ter dec (min)'], bins = classes, include_lowest = True),\n",
        "                             sort = False)\n",
        "frequencia"
      ],
      "metadata": {
        "colab": {
          "base_uri": "https://localhost:8080/"
        },
        "id": "cpHcrmcSBAlS",
        "outputId": "f4d0419c-4565-4d5c-8ed8-a08da0eeba1b"
      },
      "execution_count": null,
      "outputs": [
        {
          "output_type": "execute_result",
          "data": {
            "text/plain": [
              "(9.999, 15.0]    15\n",
              "(15.0, 20.0]     17\n",
              "(20.0, 25.0]      7\n",
              "(25.0, 30.0]      2\n",
              "(30.0, 35.0]      2\n",
              "(35.0, 40.0]      1\n",
              "(40.0, 45.0]      3\n",
              "(45.0, 50.0]      1\n",
              "Name: Tax ter dec (min), dtype: int64"
            ]
          },
          "metadata": {},
          "execution_count": 27
        }
      ]
    },
    {
      "cell_type": "code",
      "source": [
        "#Construindo a distribuição de frequência acumulada\n",
        "frequencia_acumulada  = pd.value_counts(pd.cut(x = base_dados['Tax ter dec (min)'], bins = classes, include_lowest = True),\n",
        "                                        sort = False)\n",
        "antigo = 0\n",
        "for i in frequencia_acumulada.index:\n",
        "  frequencia_acumulada[i] = frequencia_acumulada[i] + antigo\n",
        "  antigo = frequencia_acumulada[i]\n",
        "\n",
        "frequencia_acumulada"
      ],
      "metadata": {
        "colab": {
          "base_uri": "https://localhost:8080/"
        },
        "id": "P2Klq56gLaHu",
        "outputId": "1fb916db-df39-4ad6-f33b-123529e9b743"
      },
      "execution_count": null,
      "outputs": [
        {
          "output_type": "execute_result",
          "data": {
            "text/plain": [
              "(9.999, 15.0]    15\n",
              "(15.0, 20.0]     32\n",
              "(20.0, 25.0]     39\n",
              "(25.0, 30.0]     41\n",
              "(30.0, 35.0]     43\n",
              "(35.0, 40.0]     44\n",
              "(40.0, 45.0]     47\n",
              "(45.0, 50.0]     48\n",
              "Name: Tax ter dec (min), dtype: int64"
            ]
          },
          "metadata": {},
          "execution_count": 28
        }
      ]
    },
    {
      "cell_type": "code",
      "source": [
        "#construindo distribuição de frequência básica\n",
        "percentual = pd.value_counts(pd.cut(x = base_dados['Tax ter dec (min)'], bins = classes, include_lowest = True),\n",
        "                             sort = False,\n",
        "                             normalize = True) * 100\n",
        "percentual"
      ],
      "metadata": {
        "colab": {
          "base_uri": "https://localhost:8080/"
        },
        "id": "1qiSjuSABAoC",
        "outputId": "b475899f-410e-4a86-c4bf-6a630ffb1be1"
      },
      "execution_count": null,
      "outputs": [
        {
          "output_type": "execute_result",
          "data": {
            "text/plain": [
              "(9.999, 15.0]    31.250000\n",
              "(15.0, 20.0]     35.416667\n",
              "(20.0, 25.0]     14.583333\n",
              "(25.0, 30.0]      4.166667\n",
              "(30.0, 35.0]      4.166667\n",
              "(35.0, 40.0]      2.083333\n",
              "(40.0, 45.0]      6.250000\n",
              "(45.0, 50.0]      2.083333\n",
              "Name: Tax ter dec (min), dtype: float64"
            ]
          },
          "metadata": {},
          "execution_count": 29
        }
      ]
    },
    {
      "cell_type": "code",
      "source": [
        "#construindo distribuição de frequencia acumulada\n",
        "percentual_acumulado = pd.value_counts(pd.cut(x = base_dados['Tax ter dec (min)'], bins = classes, include_lowest = True),\n",
        "                             sort = False,\n",
        "                             normalize = True) * 100\n",
        "antigo = 0\n",
        "for i in percentual_acumulado.index:\n",
        "  percentual_acumulado[i] = percentual_acumulado[i] + antigo\n",
        "  antigo = percentual_acumulado[i]\n",
        "percentual_acumulado"
      ],
      "metadata": {
        "colab": {
          "base_uri": "https://localhost:8080/"
        },
        "id": "slanqiUGBAq4",
        "outputId": "f2924545-1403-472d-f60e-dff74a9c5a60"
      },
      "execution_count": null,
      "outputs": [
        {
          "output_type": "execute_result",
          "data": {
            "text/plain": [
              "(9.999, 15.0]     31.250000\n",
              "(15.0, 20.0]      66.666667\n",
              "(20.0, 25.0]      81.250000\n",
              "(25.0, 30.0]      85.416667\n",
              "(30.0, 35.0]      89.583333\n",
              "(35.0, 40.0]      91.666667\n",
              "(40.0, 45.0]      97.916667\n",
              "(45.0, 50.0]     100.000000\n",
              "Name: Tax ter dec (min), dtype: float64"
            ]
          },
          "metadata": {},
          "execution_count": 30
        }
      ]
    },
    {
      "cell_type": "code",
      "source": [
        "#Criando a distribuição de frequencias básica e relativa, temos:\n",
        "dist_freq = pd.DataFrame({'Frequências':frequencia,'Porcentagem (%)':percentual})\n",
        "dist_freq.rename_axis('Classes', axis = 'columns', inplace = True)\n",
        "dist_freq"
      ],
      "metadata": {
        "colab": {
          "base_uri": "https://localhost:8080/",
          "height": 300
        },
        "id": "qQF6Nl6TL2Ye",
        "outputId": "0b42c17d-a640-4fe5-90ec-f1e2749e447e"
      },
      "execution_count": null,
      "outputs": [
        {
          "output_type": "execute_result",
          "data": {
            "text/plain": [
              "Classes        Frequências  Porcentagem (%)\n",
              "(9.999, 15.0]           15        31.250000\n",
              "(15.0, 20.0]            17        35.416667\n",
              "(20.0, 25.0]             7        14.583333\n",
              "(25.0, 30.0]             2         4.166667\n",
              "(30.0, 35.0]             2         4.166667\n",
              "(35.0, 40.0]             1         2.083333\n",
              "(40.0, 45.0]             3         6.250000\n",
              "(45.0, 50.0]             1         2.083333"
            ],
            "text/html": [
              "\n",
              "  <div id=\"df-673d4b0c-9b1d-4940-be3d-0a93c77c7404\">\n",
              "    <div class=\"colab-df-container\">\n",
              "      <div>\n",
              "<style scoped>\n",
              "    .dataframe tbody tr th:only-of-type {\n",
              "        vertical-align: middle;\n",
              "    }\n",
              "\n",
              "    .dataframe tbody tr th {\n",
              "        vertical-align: top;\n",
              "    }\n",
              "\n",
              "    .dataframe thead th {\n",
              "        text-align: right;\n",
              "    }\n",
              "</style>\n",
              "<table border=\"1\" class=\"dataframe\">\n",
              "  <thead>\n",
              "    <tr style=\"text-align: right;\">\n",
              "      <th>Classes</th>\n",
              "      <th>Frequências</th>\n",
              "      <th>Porcentagem (%)</th>\n",
              "    </tr>\n",
              "  </thead>\n",
              "  <tbody>\n",
              "    <tr>\n",
              "      <th>(9.999, 15.0]</th>\n",
              "      <td>15</td>\n",
              "      <td>31.250000</td>\n",
              "    </tr>\n",
              "    <tr>\n",
              "      <th>(15.0, 20.0]</th>\n",
              "      <td>17</td>\n",
              "      <td>35.416667</td>\n",
              "    </tr>\n",
              "    <tr>\n",
              "      <th>(20.0, 25.0]</th>\n",
              "      <td>7</td>\n",
              "      <td>14.583333</td>\n",
              "    </tr>\n",
              "    <tr>\n",
              "      <th>(25.0, 30.0]</th>\n",
              "      <td>2</td>\n",
              "      <td>4.166667</td>\n",
              "    </tr>\n",
              "    <tr>\n",
              "      <th>(30.0, 35.0]</th>\n",
              "      <td>2</td>\n",
              "      <td>4.166667</td>\n",
              "    </tr>\n",
              "    <tr>\n",
              "      <th>(35.0, 40.0]</th>\n",
              "      <td>1</td>\n",
              "      <td>2.083333</td>\n",
              "    </tr>\n",
              "    <tr>\n",
              "      <th>(40.0, 45.0]</th>\n",
              "      <td>3</td>\n",
              "      <td>6.250000</td>\n",
              "    </tr>\n",
              "    <tr>\n",
              "      <th>(45.0, 50.0]</th>\n",
              "      <td>1</td>\n",
              "      <td>2.083333</td>\n",
              "    </tr>\n",
              "  </tbody>\n",
              "</table>\n",
              "</div>\n",
              "      <button class=\"colab-df-convert\" onclick=\"convertToInteractive('df-673d4b0c-9b1d-4940-be3d-0a93c77c7404')\"\n",
              "              title=\"Convert this dataframe to an interactive table.\"\n",
              "              style=\"display:none;\">\n",
              "        \n",
              "  <svg xmlns=\"http://www.w3.org/2000/svg\" height=\"24px\"viewBox=\"0 0 24 24\"\n",
              "       width=\"24px\">\n",
              "    <path d=\"M0 0h24v24H0V0z\" fill=\"none\"/>\n",
              "    <path d=\"M18.56 5.44l.94 2.06.94-2.06 2.06-.94-2.06-.94-.94-2.06-.94 2.06-2.06.94zm-11 1L8.5 8.5l.94-2.06 2.06-.94-2.06-.94L8.5 2.5l-.94 2.06-2.06.94zm10 10l.94 2.06.94-2.06 2.06-.94-2.06-.94-.94-2.06-.94 2.06-2.06.94z\"/><path d=\"M17.41 7.96l-1.37-1.37c-.4-.4-.92-.59-1.43-.59-.52 0-1.04.2-1.43.59L10.3 9.45l-7.72 7.72c-.78.78-.78 2.05 0 2.83L4 21.41c.39.39.9.59 1.41.59.51 0 1.02-.2 1.41-.59l7.78-7.78 2.81-2.81c.8-.78.8-2.07 0-2.86zM5.41 20L4 18.59l7.72-7.72 1.47 1.35L5.41 20z\"/>\n",
              "  </svg>\n",
              "      </button>\n",
              "      \n",
              "  <style>\n",
              "    .colab-df-container {\n",
              "      display:flex;\n",
              "      flex-wrap:wrap;\n",
              "      gap: 12px;\n",
              "    }\n",
              "\n",
              "    .colab-df-convert {\n",
              "      background-color: #E8F0FE;\n",
              "      border: none;\n",
              "      border-radius: 50%;\n",
              "      cursor: pointer;\n",
              "      display: none;\n",
              "      fill: #1967D2;\n",
              "      height: 32px;\n",
              "      padding: 0 0 0 0;\n",
              "      width: 32px;\n",
              "    }\n",
              "\n",
              "    .colab-df-convert:hover {\n",
              "      background-color: #E2EBFA;\n",
              "      box-shadow: 0px 1px 2px rgba(60, 64, 67, 0.3), 0px 1px 3px 1px rgba(60, 64, 67, 0.15);\n",
              "      fill: #174EA6;\n",
              "    }\n",
              "\n",
              "    [theme=dark] .colab-df-convert {\n",
              "      background-color: #3B4455;\n",
              "      fill: #D2E3FC;\n",
              "    }\n",
              "\n",
              "    [theme=dark] .colab-df-convert:hover {\n",
              "      background-color: #434B5C;\n",
              "      box-shadow: 0px 1px 3px 1px rgba(0, 0, 0, 0.15);\n",
              "      filter: drop-shadow(0px 1px 2px rgba(0, 0, 0, 0.3));\n",
              "      fill: #FFFFFF;\n",
              "    }\n",
              "  </style>\n",
              "\n",
              "      <script>\n",
              "        const buttonEl =\n",
              "          document.querySelector('#df-673d4b0c-9b1d-4940-be3d-0a93c77c7404 button.colab-df-convert');\n",
              "        buttonEl.style.display =\n",
              "          google.colab.kernel.accessAllowed ? 'block' : 'none';\n",
              "\n",
              "        async function convertToInteractive(key) {\n",
              "          const element = document.querySelector('#df-673d4b0c-9b1d-4940-be3d-0a93c77c7404');\n",
              "          const dataTable =\n",
              "            await google.colab.kernel.invokeFunction('convertToInteractive',\n",
              "                                                     [key], {});\n",
              "          if (!dataTable) return;\n",
              "\n",
              "          const docLinkHtml = 'Like what you see? Visit the ' +\n",
              "            '<a target=\"_blank\" href=https://colab.research.google.com/notebooks/data_table.ipynb>data table notebook</a>'\n",
              "            + ' to learn more about interactive tables.';\n",
              "          element.innerHTML = '';\n",
              "          dataTable['output_type'] = 'display_data';\n",
              "          await google.colab.output.renderOutput(dataTable, element);\n",
              "          const docLink = document.createElement('div');\n",
              "          docLink.innerHTML = docLinkHtml;\n",
              "          element.appendChild(docLink);\n",
              "        }\n",
              "      </script>\n",
              "    </div>\n",
              "  </div>\n",
              "  "
            ]
          },
          "metadata": {},
          "execution_count": 31
        }
      ]
    },
    {
      "cell_type": "code",
      "source": [
        "#Criando distribuição de frequencia acumulada, temos:\n",
        "dist_freq_acumulada = pd.DataFrame({'Frequência acumulada':frequencia_acumulada,'Percentual acumulado (%)':percentual_acumulado})\n",
        "dist_freq_acumulada.rename_axis('Classes', axis = 'index', inplace = True)\n",
        "\n",
        "#modificando os índices para recriar os rótulos de classes\n",
        "dist_freq_acumulada = dist_freq_acumulada.reset_index()\n",
        "dist_freq_acumulada.drop('Classes', axis = 'columns', inplace = True)\n",
        "\n",
        "#definindo os novos rótulos de classes:\n",
        "indices = {0:'10 < tempo <= 15',\n",
        "           1:'10 < tempo <= 20',\n",
        "           2:'10 < tempo <= 25',\n",
        "           3:'10 < tempo <= 30',\n",
        "           4:'10 < tempo <= 35',\n",
        "           5:'10 < tempo <= 40',\n",
        "           6:'10 < tempo <= 45',\n",
        "           7:'10 < tempo <= 50'}\n",
        "\n",
        "dist_freq_acumulada.rename(indices, axis = 'index', inplace = True)\n",
        "dist_freq_acumulada.rename_axis('Classes', axis = 'index', inplace = True)\n",
        "dist_freq_acumulada"
      ],
      "metadata": {
        "colab": {
          "base_uri": "https://localhost:8080/",
          "height": 332
        },
        "id": "kWf1zCQAL2dX",
        "outputId": "75b164f9-197c-4674-bbc8-e446f939ec0b"
      },
      "execution_count": null,
      "outputs": [
        {
          "output_type": "execute_result",
          "data": {
            "text/plain": [
              "                  Frequência acumulada  Percentual acumulado (%)\n",
              "Classes                                                         \n",
              "10 < tempo <= 15                    15                 31.250000\n",
              "10 < tempo <= 20                    32                 66.666667\n",
              "10 < tempo <= 25                    39                 81.250000\n",
              "10 < tempo <= 30                    41                 85.416667\n",
              "10 < tempo <= 35                    43                 89.583333\n",
              "10 < tempo <= 40                    44                 91.666667\n",
              "10 < tempo <= 45                    47                 97.916667\n",
              "10 < tempo <= 50                    48                100.000000"
            ],
            "text/html": [
              "\n",
              "  <div id=\"df-81924abc-dc68-4c52-8894-b38c72a37eb9\">\n",
              "    <div class=\"colab-df-container\">\n",
              "      <div>\n",
              "<style scoped>\n",
              "    .dataframe tbody tr th:only-of-type {\n",
              "        vertical-align: middle;\n",
              "    }\n",
              "\n",
              "    .dataframe tbody tr th {\n",
              "        vertical-align: top;\n",
              "    }\n",
              "\n",
              "    .dataframe thead th {\n",
              "        text-align: right;\n",
              "    }\n",
              "</style>\n",
              "<table border=\"1\" class=\"dataframe\">\n",
              "  <thead>\n",
              "    <tr style=\"text-align: right;\">\n",
              "      <th></th>\n",
              "      <th>Frequência acumulada</th>\n",
              "      <th>Percentual acumulado (%)</th>\n",
              "    </tr>\n",
              "    <tr>\n",
              "      <th>Classes</th>\n",
              "      <th></th>\n",
              "      <th></th>\n",
              "    </tr>\n",
              "  </thead>\n",
              "  <tbody>\n",
              "    <tr>\n",
              "      <th>10 &lt; tempo &lt;= 15</th>\n",
              "      <td>15</td>\n",
              "      <td>31.250000</td>\n",
              "    </tr>\n",
              "    <tr>\n",
              "      <th>10 &lt; tempo &lt;= 20</th>\n",
              "      <td>32</td>\n",
              "      <td>66.666667</td>\n",
              "    </tr>\n",
              "    <tr>\n",
              "      <th>10 &lt; tempo &lt;= 25</th>\n",
              "      <td>39</td>\n",
              "      <td>81.250000</td>\n",
              "    </tr>\n",
              "    <tr>\n",
              "      <th>10 &lt; tempo &lt;= 30</th>\n",
              "      <td>41</td>\n",
              "      <td>85.416667</td>\n",
              "    </tr>\n",
              "    <tr>\n",
              "      <th>10 &lt; tempo &lt;= 35</th>\n",
              "      <td>43</td>\n",
              "      <td>89.583333</td>\n",
              "    </tr>\n",
              "    <tr>\n",
              "      <th>10 &lt; tempo &lt;= 40</th>\n",
              "      <td>44</td>\n",
              "      <td>91.666667</td>\n",
              "    </tr>\n",
              "    <tr>\n",
              "      <th>10 &lt; tempo &lt;= 45</th>\n",
              "      <td>47</td>\n",
              "      <td>97.916667</td>\n",
              "    </tr>\n",
              "    <tr>\n",
              "      <th>10 &lt; tempo &lt;= 50</th>\n",
              "      <td>48</td>\n",
              "      <td>100.000000</td>\n",
              "    </tr>\n",
              "  </tbody>\n",
              "</table>\n",
              "</div>\n",
              "      <button class=\"colab-df-convert\" onclick=\"convertToInteractive('df-81924abc-dc68-4c52-8894-b38c72a37eb9')\"\n",
              "              title=\"Convert this dataframe to an interactive table.\"\n",
              "              style=\"display:none;\">\n",
              "        \n",
              "  <svg xmlns=\"http://www.w3.org/2000/svg\" height=\"24px\"viewBox=\"0 0 24 24\"\n",
              "       width=\"24px\">\n",
              "    <path d=\"M0 0h24v24H0V0z\" fill=\"none\"/>\n",
              "    <path d=\"M18.56 5.44l.94 2.06.94-2.06 2.06-.94-2.06-.94-.94-2.06-.94 2.06-2.06.94zm-11 1L8.5 8.5l.94-2.06 2.06-.94-2.06-.94L8.5 2.5l-.94 2.06-2.06.94zm10 10l.94 2.06.94-2.06 2.06-.94-2.06-.94-.94-2.06-.94 2.06-2.06.94z\"/><path d=\"M17.41 7.96l-1.37-1.37c-.4-.4-.92-.59-1.43-.59-.52 0-1.04.2-1.43.59L10.3 9.45l-7.72 7.72c-.78.78-.78 2.05 0 2.83L4 21.41c.39.39.9.59 1.41.59.51 0 1.02-.2 1.41-.59l7.78-7.78 2.81-2.81c.8-.78.8-2.07 0-2.86zM5.41 20L4 18.59l7.72-7.72 1.47 1.35L5.41 20z\"/>\n",
              "  </svg>\n",
              "      </button>\n",
              "      \n",
              "  <style>\n",
              "    .colab-df-container {\n",
              "      display:flex;\n",
              "      flex-wrap:wrap;\n",
              "      gap: 12px;\n",
              "    }\n",
              "\n",
              "    .colab-df-convert {\n",
              "      background-color: #E8F0FE;\n",
              "      border: none;\n",
              "      border-radius: 50%;\n",
              "      cursor: pointer;\n",
              "      display: none;\n",
              "      fill: #1967D2;\n",
              "      height: 32px;\n",
              "      padding: 0 0 0 0;\n",
              "      width: 32px;\n",
              "    }\n",
              "\n",
              "    .colab-df-convert:hover {\n",
              "      background-color: #E2EBFA;\n",
              "      box-shadow: 0px 1px 2px rgba(60, 64, 67, 0.3), 0px 1px 3px 1px rgba(60, 64, 67, 0.15);\n",
              "      fill: #174EA6;\n",
              "    }\n",
              "\n",
              "    [theme=dark] .colab-df-convert {\n",
              "      background-color: #3B4455;\n",
              "      fill: #D2E3FC;\n",
              "    }\n",
              "\n",
              "    [theme=dark] .colab-df-convert:hover {\n",
              "      background-color: #434B5C;\n",
              "      box-shadow: 0px 1px 3px 1px rgba(0, 0, 0, 0.15);\n",
              "      filter: drop-shadow(0px 1px 2px rgba(0, 0, 0, 0.3));\n",
              "      fill: #FFFFFF;\n",
              "    }\n",
              "  </style>\n",
              "\n",
              "      <script>\n",
              "        const buttonEl =\n",
              "          document.querySelector('#df-81924abc-dc68-4c52-8894-b38c72a37eb9 button.colab-df-convert');\n",
              "        buttonEl.style.display =\n",
              "          google.colab.kernel.accessAllowed ? 'block' : 'none';\n",
              "\n",
              "        async function convertToInteractive(key) {\n",
              "          const element = document.querySelector('#df-81924abc-dc68-4c52-8894-b38c72a37eb9');\n",
              "          const dataTable =\n",
              "            await google.colab.kernel.invokeFunction('convertToInteractive',\n",
              "                                                     [key], {});\n",
              "          if (!dataTable) return;\n",
              "\n",
              "          const docLinkHtml = 'Like what you see? Visit the ' +\n",
              "            '<a target=\"_blank\" href=https://colab.research.google.com/notebooks/data_table.ipynb>data table notebook</a>'\n",
              "            + ' to learn more about interactive tables.';\n",
              "          element.innerHTML = '';\n",
              "          dataTable['output_type'] = 'display_data';\n",
              "          await google.colab.output.renderOutput(dataTable, element);\n",
              "          const docLink = document.createElement('div');\n",
              "          docLink.innerHTML = docLinkHtml;\n",
              "          element.appendChild(docLink);\n",
              "        }\n",
              "      </script>\n",
              "    </div>\n",
              "  </div>\n",
              "  "
            ]
          },
          "metadata": {},
          "execution_count": 32
        }
      ]
    },
    {
      "cell_type": "code",
      "source": [
        "#Construindo um histograma para observar graficamente a distribuição dos dados, temos:\n",
        "classes = [10,15.001,20.001,25.001,30.001,35.001,40.001,45.001,50.001]\n",
        "ax = sns.histplot(base_dados['Tax ter dec (min)'], bins = classes, kde = True)\n",
        "ax.figure.set_size_inches(12,6)\n",
        "ax.set_title('Distribuição de frequências - Tempo de taxiamento para decolagem', fontsize = 18)\n",
        "ax.set_xlabel('minutos (min)', fontsize = 14)\n",
        "ax.set_ylabel('Frequência', fontsize = 14)\n",
        "ax.set_yticks([i for i in range(0,20,1)])\n",
        "ax"
      ],
      "metadata": {
        "colab": {
          "base_uri": "https://localhost:8080/",
          "height": 431
        },
        "id": "vtqvLxtPOhTe",
        "outputId": "f8e10a7e-6f32-4b02-bd6d-44da755ce890"
      },
      "execution_count": null,
      "outputs": [
        {
          "output_type": "execute_result",
          "data": {
            "text/plain": [
              "<matplotlib.axes._subplots.AxesSubplot at 0x7f194c486790>"
            ]
          },
          "metadata": {},
          "execution_count": 33
        },
        {
          "output_type": "display_data",
          "data": {
            "text/plain": [
              "<Figure size 864x432 with 1 Axes>"
            ],
            "image/png": "[encoded data removed]"
          },
          "metadata": {
            "needs_background": "light"
          }
        }
      ]
    },
    {
      "cell_type": "code",
      "source": [
        "#Construindo um histograma de frequência relativa para observar graficamente a distribuição dos dados, temos:\n",
        "classes = [10,15.001,20.001,25.001,30.001,35.001,40.001,45.001,50.001]\n",
        "ax = sns.histplot(base_dados['Tax ter dec (min)'], bins = classes, stat = 'percent', kde = True)\n",
        "ax.figure.set_size_inches(12,6)\n",
        "ax.set_title('Distribuição de frequências relativas - Tempo de taxiamento para decolagem', fontsize = 18)\n",
        "ax.set_xlabel('minutos (min)', fontsize = 14)\n",
        "ax.set_ylabel('Percentual', fontsize = 14)\n",
        "ax.set_yticks([i for i in range(0,37,2)])\n",
        "ax"
      ],
      "metadata": {
        "colab": {
          "base_uri": "https://localhost:8080/",
          "height": 431
        },
        "id": "mvqmZtDueNLQ",
        "outputId": "3cff6106-57f3-4438-bad5-649b71cea940"
      },
      "execution_count": null,
      "outputs": [
        {
          "output_type": "execute_result",
          "data": {
            "text/plain": [
              "<matplotlib.axes._subplots.AxesSubplot at 0x7f194c3b83d0>"
            ]
          },
          "metadata": {},
          "execution_count": 34
        },
        {
          "output_type": "display_data",
          "data": {
            "text/plain": [
              "<Figure size 864x432 with 1 Axes>"
            ],
            "image/png": "[encoded data removed]"
          },
          "metadata": {
            "needs_background": "light"
          }
        }
      ]
    },
    {
      "cell_type": "markdown",
      "source": [
        "**Medidas de centro**"
      ],
      "metadata": {
        "id": "bqvDxOAykxbe"
      }
    },
    {
      "cell_type": "code",
      "source": [
        "#calculando a média, temos:\n",
        "base_dados['Tax ter dec (min)'].mean()"
      ],
      "metadata": {
        "colab": {
          "base_uri": "https://localhost:8080/"
        },
        "id": "LJXP9gaklYnd",
        "outputId": "4a903b1f-6fcb-49ea-f7b0-a33ccf89ff6e"
      },
      "execution_count": null,
      "outputs": [
        {
          "output_type": "execute_result",
          "data": {
            "text/plain": [
              "20.979166666666668"
            ]
          },
          "metadata": {},
          "execution_count": 42
        }
      ]
    },
    {
      "cell_type": "code",
      "source": [
        "#calculando a mediana, temos:\n",
        "base_dados['Tax ter dec (min)'].median()"
      ],
      "metadata": {
        "colab": {
          "base_uri": "https://localhost:8080/"
        },
        "id": "fjSHHgDXlYqE",
        "outputId": "be701e7b-84c0-4026-b89c-8f5070769bf1"
      },
      "execution_count": null,
      "outputs": [
        {
          "output_type": "execute_result",
          "data": {
            "text/plain": [
              "18.5"
            ]
          },
          "metadata": {},
          "execution_count": 43
        }
      ]
    },
    {
      "cell_type": "markdown",
      "source": [
        "**Medidas de variação**"
      ],
      "metadata": {
        "id": "JX3ppE1IeVEL"
      }
    },
    {
      "cell_type": "markdown",
      "source": [
        "Para avaliarmos como os dados variam em relação à média, podemos utilizar a variância e o desvio-padrão. Outra medida de variação é a amplitude, que é obtida a partir da diferença entre o valor máximo e o valor mínimo do conjunto de dados. Sendo assim, calculando as medidas de variação dos dados de tempo de taxiamento do terminal do aeroporto até a decolagem, temos os seguintes resultados:"
      ],
      "metadata": {
        "id": "ZhVn7pAxcwr-"
      }
    },
    {
      "cell_type": "code",
      "source": [
        "#Calculando a amplitude do conjunto de dados de tempo de taxiamento, temos:\n",
        "valor_minimo = base_dados['Tax ter dec (min)'].min()\n",
        "valor_maximo = base_dados['Tax ter dec (min)'].max()\n",
        "amplitude = valor_maximo - valor_minimo\n",
        "print('A amplitude do conjunto de dados é igual a {} minutos'.format(amplitude))"
      ],
      "metadata": {
        "colab": {
          "base_uri": "https://localhost:8080/"
        },
        "id": "rVrk0sCsdYQt",
        "outputId": "ddae5af3-e7d3-49f1-dd7e-b63050cb87f1"
      },
      "execution_count": null,
      "outputs": [
        {
          "output_type": "stream",
          "name": "stdout",
          "text": [
            "A amplitude do conjunto de dados é igual a 37 minutos\n"
          ]
        }
      ]
    },
    {
      "cell_type": "markdown",
      "source": [
        "Portanto, os dados de tempo de taxiamento se distribuem ao longo de uma faixa de valores de amplitude igual a 37 minutos. Importante frisarmos que a amplitude é uma medida de variação que, em geral, não é utilizada devido a sua sensibilidade a valores extremos (outliers)."
      ],
      "metadata": {
        "id": "qptz_QeseCXF"
      }
    },
    {
      "cell_type": "code",
      "source": [
        "#Calculando a variância, temos:\n",
        "variancia = base_dados['Tax ter dec (min)'].var()\n",
        "print('A variância dos dados é igual a {} min²'.format(variancia))"
      ],
      "metadata": {
        "colab": {
          "base_uri": "https://localhost:8080/"
        },
        "id": "zyzWcgxoidO9",
        "outputId": "5904f9a6-55ec-4baa-c490-4f06de08f142"
      },
      "execution_count": null,
      "outputs": [
        {
          "output_type": "stream",
          "name": "stdout",
          "text": [
            "A variância dos dados é igual a 85.510195035461 min²\n"
          ]
        }
      ]
    },
    {
      "cell_type": "code",
      "source": [
        "#Calculando o desvio-padrão, temos:\n",
        "std_taxiamento = base_dados['Tax ter dec (min)'].std()\n",
        "print('O desvio-padrão do tempo de taxiamento é igual a {} min'.format(std_taxiamento))"
      ],
      "metadata": {
        "colab": {
          "base_uri": "https://localhost:8080/"
        },
        "id": "Tn3828wpidSV",
        "outputId": "9820c0d7-0257-435b-efd0-ee459f0c66d7"
      },
      "execution_count": null,
      "outputs": [
        {
          "output_type": "stream",
          "name": "stdout",
          "text": [
            "O desvio-padrão do tempo de taxiamento é igual a 9.247172272400952 min\n"
          ]
        }
      ]
    },
    {
      "cell_type": "markdown",
      "source": [
        "**Conclusões sobre o problema**\n",
        "\n",
        "Os resultados obtidos na distribuição de frequência, distribuição de frequência acumulada  e histograma da variável \"'Tax ter dec (min)\", é possível concluir que é o tempo de taxiamento entre o terminal e a decolagem não pode ser predito com razoável precisão, umas vez que 81% dos dados de tempo se encontram entre 10 minutos e 25 minutos, e 66% dos dados estão entre 10-20 minutos. A maioria dos dados de tempo estão distribuídos entre 10 e 25 minutos. Essas diferenças entre os dados devem ser investigadas para identificação de variáveis que afetam o tempo de taxiamento como, por exemplo, clima, horário, etc. Ademais, os dados são assimétricos à direita (cauda se estende à direita), tal assimetria também é denominada de distribuição de dados positivamente assimétrica."
      ],
      "metadata": {
        "id": "QfCevG0cOZQe"
      }
    },
    {
      "cell_type": "markdown",
      "source": [
        "**Problema 3.2.26 - Dados de voos**"
      ],
      "metadata": {
        "id": "DHSXj4X5yzPs"
      }
    },
    {
      "cell_type": "markdown",
      "source": [
        "Consulte o Conjunto de Dados 15 no Apêndice B e use os tempos de taxiamento para decolagem. Para\n",
        "a American Airlines, como é útil a determinação da média?"
      ],
      "metadata": {
        "id": "XZsk_EfXzDi1"
      }
    },
    {
      "cell_type": "code",
      "source": [
        "base_dados.head()"
      ],
      "metadata": {
        "colab": {
          "base_uri": "https://localhost:8080/",
          "height": 206
        },
        "id": "xnXvyzP6zLN5",
        "outputId": "2e99d656-2b81-4729-f26f-f0bd133f2ab1"
      },
      "execution_count": null,
      "outputs": [
        {
          "output_type": "execute_result",
          "data": {
            "text/plain": [
              "   Unnamed: 0 ID Aviao  Atraso Dec (min)  Tax ter dec (min)  \\\n",
              "0           0   N338AA                -2                 30   \n",
              "1           1   N329AA                -1                 19   \n",
              "2           2   N319AA                -2                 12   \n",
              "3           3   N319AA                 2                 19   \n",
              "4           4   N329AA                -2                 18   \n",
              "\n",
              "   Tax ter aterr (min)  Atraso chegada (min)  \n",
              "0                   12                   -32  \n",
              "1                   13                   -25  \n",
              "2                    8                   -26  \n",
              "3                   21                    -6  \n",
              "4                   17                     5  "
            ],
            "text/html": [
              "\n",
              "  <div id=\"df-e8aa2f15-4e5f-4e08-8e1f-ec6fd58372b6\">\n",
              "    <div class=\"colab-df-container\">\n",
              "      <div>\n",
              "<style scoped>\n",
              "    .dataframe tbody tr th:only-of-type {\n",
              "        vertical-align: middle;\n",
              "    }\n",
              "\n",
              "    .dataframe tbody tr th {\n",
              "        vertical-align: top;\n",
              "    }\n",
              "\n",
              "    .dataframe thead th {\n",
              "        text-align: right;\n",
              "    }\n",
              "</style>\n",
              "<table border=\"1\" class=\"dataframe\">\n",
              "  <thead>\n",
              "    <tr style=\"text-align: right;\">\n",
              "      <th></th>\n",
              "      <th>Unnamed: 0</th>\n",
              "      <th>ID Aviao</th>\n",
              "      <th>Atraso Dec (min)</th>\n",
              "      <th>Tax ter dec (min)</th>\n",
              "      <th>Tax ter aterr (min)</th>\n",
              "      <th>Atraso chegada (min)</th>\n",
              "    </tr>\n",
              "  </thead>\n",
              "  <tbody>\n",
              "    <tr>\n",
              "      <th>0</th>\n",
              "      <td>0</td>\n",
              "      <td>N338AA</td>\n",
              "      <td>-2</td>\n",
              "      <td>30</td>\n",
              "      <td>12</td>\n",
              "      <td>-32</td>\n",
              "    </tr>\n",
              "    <tr>\n",
              "      <th>1</th>\n",
              "      <td>1</td>\n",
              "      <td>N329AA</td>\n",
              "      <td>-1</td>\n",
              "      <td>19</td>\n",
              "      <td>13</td>\n",
              "      <td>-25</td>\n",
              "    </tr>\n",
              "    <tr>\n",
              "      <th>2</th>\n",
              "      <td>2</td>\n",
              "      <td>N319AA</td>\n",
              "      <td>-2</td>\n",
              "      <td>12</td>\n",
              "      <td>8</td>\n",
              "      <td>-26</td>\n",
              "    </tr>\n",
              "    <tr>\n",
              "      <th>3</th>\n",
              "      <td>3</td>\n",
              "      <td>N319AA</td>\n",
              "      <td>2</td>\n",
              "      <td>19</td>\n",
              "      <td>21</td>\n",
              "      <td>-6</td>\n",
              "    </tr>\n",
              "    <tr>\n",
              "      <th>4</th>\n",
              "      <td>4</td>\n",
              "      <td>N329AA</td>\n",
              "      <td>-2</td>\n",
              "      <td>18</td>\n",
              "      <td>17</td>\n",
              "      <td>5</td>\n",
              "    </tr>\n",
              "  </tbody>\n",
              "</table>\n",
              "</div>\n",
              "      <button class=\"colab-df-convert\" onclick=\"convertToInteractive('df-e8aa2f15-4e5f-4e08-8e1f-ec6fd58372b6')\"\n",
              "              title=\"Convert this dataframe to an interactive table.\"\n",
              "              style=\"display:none;\">\n",
              "        \n",
              "  <svg xmlns=\"http://www.w3.org/2000/svg\" height=\"24px\"viewBox=\"0 0 24 24\"\n",
              "       width=\"24px\">\n",
              "    <path d=\"M0 0h24v24H0V0z\" fill=\"none\"/>\n",
              "    <path d=\"M18.56 5.44l.94 2.06.94-2.06 2.06-.94-2.06-.94-.94-2.06-.94 2.06-2.06.94zm-11 1L8.5 8.5l.94-2.06 2.06-.94-2.06-.94L8.5 2.5l-.94 2.06-2.06.94zm10 10l.94 2.06.94-2.06 2.06-.94-2.06-.94-.94-2.06-.94 2.06-2.06.94z\"/><path d=\"M17.41 7.96l-1.37-1.37c-.4-.4-.92-.59-1.43-.59-.52 0-1.04.2-1.43.59L10.3 9.45l-7.72 7.72c-.78.78-.78 2.05 0 2.83L4 21.41c.39.39.9.59 1.41.59.51 0 1.02-.2 1.41-.59l7.78-7.78 2.81-2.81c.8-.78.8-2.07 0-2.86zM5.41 20L4 18.59l7.72-7.72 1.47 1.35L5.41 20z\"/>\n",
              "  </svg>\n",
              "      </button>\n",
              "      \n",
              "  <style>\n",
              "    .colab-df-container {\n",
              "      display:flex;\n",
              "      flex-wrap:wrap;\n",
              "      gap: 12px;\n",
              "    }\n",
              "\n",
              "    .colab-df-convert {\n",
              "      background-color: #E8F0FE;\n",
              "      border: none;\n",
              "      border-radius: 50%;\n",
              "      cursor: pointer;\n",
              "      display: none;\n",
              "      fill: #1967D2;\n",
              "      height: 32px;\n",
              "      padding: 0 0 0 0;\n",
              "      width: 32px;\n",
              "    }\n",
              "\n",
              "    .colab-df-convert:hover {\n",
              "      background-color: #E2EBFA;\n",
              "      box-shadow: 0px 1px 2px rgba(60, 64, 67, 0.3), 0px 1px 3px 1px rgba(60, 64, 67, 0.15);\n",
              "      fill: #174EA6;\n",
              "    }\n",
              "\n",
              "    [theme=dark] .colab-df-convert {\n",
              "      background-color: #3B4455;\n",
              "      fill: #D2E3FC;\n",
              "    }\n",
              "\n",
              "    [theme=dark] .colab-df-convert:hover {\n",
              "      background-color: #434B5C;\n",
              "      box-shadow: 0px 1px 3px 1px rgba(0, 0, 0, 0.15);\n",
              "      filter: drop-shadow(0px 1px 2px rgba(0, 0, 0, 0.3));\n",
              "      fill: #FFFFFF;\n",
              "    }\n",
              "  </style>\n",
              "\n",
              "      <script>\n",
              "        const buttonEl =\n",
              "          document.querySelector('#df-e8aa2f15-4e5f-4e08-8e1f-ec6fd58372b6 button.colab-df-convert');\n",
              "        buttonEl.style.display =\n",
              "          google.colab.kernel.accessAllowed ? 'block' : 'none';\n",
              "\n",
              "        async function convertToInteractive(key) {\n",
              "          const element = document.querySelector('#df-e8aa2f15-4e5f-4e08-8e1f-ec6fd58372b6');\n",
              "          const dataTable =\n",
              "            await google.colab.kernel.invokeFunction('convertToInteractive',\n",
              "                                                     [key], {});\n",
              "          if (!dataTable) return;\n",
              "\n",
              "          const docLinkHtml = 'Like what you see? Visit the ' +\n",
              "            '<a target=\"_blank\" href=https://colab.research.google.com/notebooks/data_table.ipynb>data table notebook</a>'\n",
              "            + ' to learn more about interactive tables.';\n",
              "          element.innerHTML = '';\n",
              "          dataTable['output_type'] = 'display_data';\n",
              "          await google.colab.output.renderOutput(dataTable, element);\n",
              "          const docLink = document.createElement('div');\n",
              "          docLink.innerHTML = docLinkHtml;\n",
              "          element.appendChild(docLink);\n",
              "        }\n",
              "      </script>\n",
              "    </div>\n",
              "  </div>\n",
              "  "
            ]
          },
          "metadata": {},
          "execution_count": 35
        }
      ]
    },
    {
      "cell_type": "code",
      "source": [
        "#calculando a média de tempos de taxiamento para decolagem, temos:\n",
        "base_dados['Tax ter dec (min)'].mean()"
      ],
      "metadata": {
        "colab": {
          "base_uri": "https://localhost:8080/"
        },
        "id": "y6vghjmAzHGS",
        "outputId": "a69af789-c9f4-482e-f20b-ab9ceaa65bd5"
      },
      "execution_count": null,
      "outputs": [
        {
          "output_type": "execute_result",
          "data": {
            "text/plain": [
              "20.979166666666668"
            ]
          },
          "metadata": {},
          "execution_count": 37
        }
      ]
    },
    {
      "cell_type": "code",
      "source": [
        "#calculando a mediana de tempos de taxiamento para decolagem, temos:\n",
        "base_dados['Tax ter dec (min)'].median()"
      ],
      "metadata": {
        "colab": {
          "base_uri": "https://localhost:8080/"
        },
        "id": "GYN-xo1qzUqr",
        "outputId": "0b617a25-6a3d-45b3-d50b-57cda54b6704"
      },
      "execution_count": null,
      "outputs": [
        {
          "output_type": "execute_result",
          "data": {
            "text/plain": [
              "18.5"
            ]
          },
          "metadata": {},
          "execution_count": 38
        }
      ]
    },
    {
      "cell_type": "markdown",
      "source": [
        "**Conclusões**\n",
        "\n",
        "Os dados de tempo de taxiamento do terminal do aeroporto até a decolagem possui média de 20.98 minutos e mediana de 18.5 minutos. Os dados de média e mediana são medidas de centro úteis para determinar onde os dados estão concentrados. Como o tempo médio de taxiamento é de 21 minutos, espera-se que em cada voo os aviões taxiem durante 21 minutos até a decolagem."
      ],
      "metadata": {
        "id": "wNoQuMkRztoU"
      }
    },
    {
      "cell_type": "markdown",
      "source": [
        "## Conjunto de dados 12 (Presidentes dos Estados Unidos)"
      ],
      "metadata": {
        "id": "0CdmTEyz0ehX"
      }
    },
    {
      "cell_type": "markdown",
      "source": [
        "**Contexto dos dados**\n",
        "\n",
        "Age é a idade em anos no momento da posse. Days é o número de dias passados como presidente. Years é o\n",
        "número de anos vividos depois da primeira posse. Ht é a altura (cm) do presidente. HtOpp é a altura (cm) do\n",
        "principal oponente na disputa presidencial. Nota: Presidentes que assumiram o cargo em resultado de assassinato ou\n",
        "renúncia não estão incluídos."
      ],
      "metadata": {
        "id": "sH06kzhn2QHU"
      }
    },
    {
      "cell_type": "code",
      "source": [
        "#Abrindo a base de dados, temos:\n",
        "base_dados = pd.read_csv('POTUS.csv')\n",
        "base_dados.head()"
      ],
      "metadata": {
        "colab": {
          "base_uri": "https://localhost:8080/",
          "height": 206
        },
        "id": "WBoQU6Em2zeU",
        "outputId": "3d99364b-084a-4cab-c5e9-7abd73b11e7f"
      },
      "execution_count": null,
      "outputs": [
        {
          "output_type": "execute_result",
          "data": {
            "text/plain": [
              "    President  Age    Days  Years   Ht  HtOpp\n",
              "0  Washington   57  2864.0   10.0  188    NaN\n",
              "1    J. Adams   61  1460.0   29.0  170  189.0\n",
              "2   Jefferson   57  2921.0   26.0  189  170.0\n",
              "3     Madison   57  2921.0   28.0  163    NaN\n",
              "4      Monroe   58  2921.0   15.0  183    NaN"
            ],
            "text/html": [
              "\n",
              "  <div id=\"df-d9b7b70b-bd72-4011-b735-c5c95511ab52\">\n",
              "    <div class=\"colab-df-container\">\n",
              "      <div>\n",
              "<style scoped>\n",
              "    .dataframe tbody tr th:only-of-type {\n",
              "        vertical-align: middle;\n",
              "    }\n",
              "\n",
              "    .dataframe tbody tr th {\n",
              "        vertical-align: top;\n",
              "    }\n",
              "\n",
              "    .dataframe thead th {\n",
              "        text-align: right;\n",
              "    }\n",
              "</style>\n",
              "<table border=\"1\" class=\"dataframe\">\n",
              "  <thead>\n",
              "    <tr style=\"text-align: right;\">\n",
              "      <th></th>\n",
              "      <th>President</th>\n",
              "      <th>Age</th>\n",
              "      <th>Days</th>\n",
              "      <th>Years</th>\n",
              "      <th>Ht</th>\n",
              "      <th>HtOpp</th>\n",
              "    </tr>\n",
              "  </thead>\n",
              "  <tbody>\n",
              "    <tr>\n",
              "      <th>0</th>\n",
              "      <td>Washington</td>\n",
              "      <td>57</td>\n",
              "      <td>2864.0</td>\n",
              "      <td>10.0</td>\n",
              "      <td>188</td>\n",
              "      <td>NaN</td>\n",
              "    </tr>\n",
              "    <tr>\n",
              "      <th>1</th>\n",
              "      <td>J. Adams</td>\n",
              "      <td>61</td>\n",
              "      <td>1460.0</td>\n",
              "      <td>29.0</td>\n",
              "      <td>170</td>\n",
              "      <td>189.0</td>\n",
              "    </tr>\n",
              "    <tr>\n",
              "      <th>2</th>\n",
              "      <td>Jefferson</td>\n",
              "      <td>57</td>\n",
              "      <td>2921.0</td>\n",
              "      <td>26.0</td>\n",
              "      <td>189</td>\n",
              "      <td>170.0</td>\n",
              "    </tr>\n",
              "    <tr>\n",
              "      <th>3</th>\n",
              "      <td>Madison</td>\n",
              "      <td>57</td>\n",
              "      <td>2921.0</td>\n",
              "      <td>28.0</td>\n",
              "      <td>163</td>\n",
              "      <td>NaN</td>\n",
              "    </tr>\n",
              "    <tr>\n",
              "      <th>4</th>\n",
              "      <td>Monroe</td>\n",
              "      <td>58</td>\n",
              "      <td>2921.0</td>\n",
              "      <td>15.0</td>\n",
              "      <td>183</td>\n",
              "      <td>NaN</td>\n",
              "    </tr>\n",
              "  </tbody>\n",
              "</table>\n",
              "</div>\n",
              "      <button class=\"colab-df-convert\" onclick=\"convertToInteractive('df-d9b7b70b-bd72-4011-b735-c5c95511ab52')\"\n",
              "              title=\"Convert this dataframe to an interactive table.\"\n",
              "              style=\"display:none;\">\n",
              "        \n",
              "  <svg xmlns=\"http://www.w3.org/2000/svg\" height=\"24px\"viewBox=\"0 0 24 24\"\n",
              "       width=\"24px\">\n",
              "    <path d=\"M0 0h24v24H0V0z\" fill=\"none\"/>\n",
              "    <path d=\"M18.56 5.44l.94 2.06.94-2.06 2.06-.94-2.06-.94-.94-2.06-.94 2.06-2.06.94zm-11 1L8.5 8.5l.94-2.06 2.06-.94-2.06-.94L8.5 2.5l-.94 2.06-2.06.94zm10 10l.94 2.06.94-2.06 2.06-.94-2.06-.94-.94-2.06-.94 2.06-2.06.94z\"/><path d=\"M17.41 7.96l-1.37-1.37c-.4-.4-.92-.59-1.43-.59-.52 0-1.04.2-1.43.59L10.3 9.45l-7.72 7.72c-.78.78-.78 2.05 0 2.83L4 21.41c.39.39.9.59 1.41.59.51 0 1.02-.2 1.41-.59l7.78-7.78 2.81-2.81c.8-.78.8-2.07 0-2.86zM5.41 20L4 18.59l7.72-7.72 1.47 1.35L5.41 20z\"/>\n",
              "  </svg>\n",
              "      </button>\n",
              "      \n",
              "  <style>\n",
              "    .colab-df-container {\n",
              "      display:flex;\n",
              "      flex-wrap:wrap;\n",
              "      gap: 12px;\n",
              "    }\n",
              "\n",
              "    .colab-df-convert {\n",
              "      background-color: #E8F0FE;\n",
              "      border: none;\n",
              "      border-radius: 50%;\n",
              "      cursor: pointer;\n",
              "      display: none;\n",
              "      fill: #1967D2;\n",
              "      height: 32px;\n",
              "      padding: 0 0 0 0;\n",
              "      width: 32px;\n",
              "    }\n",
              "\n",
              "    .colab-df-convert:hover {\n",
              "      background-color: #E2EBFA;\n",
              "      box-shadow: 0px 1px 2px rgba(60, 64, 67, 0.3), 0px 1px 3px 1px rgba(60, 64, 67, 0.15);\n",
              "      fill: #174EA6;\n",
              "    }\n",
              "\n",
              "    [theme=dark] .colab-df-convert {\n",
              "      background-color: #3B4455;\n",
              "      fill: #D2E3FC;\n",
              "    }\n",
              "\n",
              "    [theme=dark] .colab-df-convert:hover {\n",
              "      background-color: #434B5C;\n",
              "      box-shadow: 0px 1px 3px 1px rgba(0, 0, 0, 0.15);\n",
              "      filter: drop-shadow(0px 1px 2px rgba(0, 0, 0, 0.3));\n",
              "      fill: #FFFFFF;\n",
              "    }\n",
              "  </style>\n",
              "\n",
              "      <script>\n",
              "        const buttonEl =\n",
              "          document.querySelector('#df-d9b7b70b-bd72-4011-b735-c5c95511ab52 button.colab-df-convert');\n",
              "        buttonEl.style.display =\n",
              "          google.colab.kernel.accessAllowed ? 'block' : 'none';\n",
              "\n",
              "        async function convertToInteractive(key) {\n",
              "          const element = document.querySelector('#df-d9b7b70b-bd72-4011-b735-c5c95511ab52');\n",
              "          const dataTable =\n",
              "            await google.colab.kernel.invokeFunction('convertToInteractive',\n",
              "                                                     [key], {});\n",
              "          if (!dataTable) return;\n",
              "\n",
              "          const docLinkHtml = 'Like what you see? Visit the ' +\n",
              "            '<a target=\"_blank\" href=https://colab.research.google.com/notebooks/data_table.ipynb>data table notebook</a>'\n",
              "            + ' to learn more about interactive tables.';\n",
              "          element.innerHTML = '';\n",
              "          dataTable['output_type'] = 'display_data';\n",
              "          await google.colab.output.renderOutput(dataTable, element);\n",
              "          const docLink = document.createElement('div');\n",
              "          docLink.innerHTML = docLinkHtml;\n",
              "          element.appendChild(docLink);\n",
              "        }\n",
              "      </script>\n",
              "    </div>\n",
              "  </div>\n",
              "  "
            ]
          },
          "metadata": {},
          "execution_count": 44
        }
      ]
    },
    {
      "cell_type": "code",
      "source": [
        "#Visualizando informações gerais sobre a base de dados, temos\n",
        "base_dados.info()"
      ],
      "metadata": {
        "colab": {
          "base_uri": "https://localhost:8080/"
        },
        "id": "HtwG1MEu3RTb",
        "outputId": "946fe7cf-9b75-49b0-83b3-6c5a927bafa5"
      },
      "execution_count": null,
      "outputs": [
        {
          "output_type": "stream",
          "name": "stdout",
          "text": [
            "<class 'pandas.core.frame.DataFrame'>\n",
            "RangeIndex: 38 entries, 0 to 37\n",
            "Data columns (total 6 columns):\n",
            " #   Column     Non-Null Count  Dtype  \n",
            "---  ------     --------------  -----  \n",
            " 0   President  38 non-null     object \n",
            " 1   Age        38 non-null     int64  \n",
            " 2   Days       37 non-null     float64\n",
            " 3   Years      33 non-null     float64\n",
            " 4   Ht         38 non-null     int64  \n",
            " 5   HtOpp      34 non-null     float64\n",
            "dtypes: float64(3), int64(2), object(1)\n",
            "memory usage: 1.9+ KB\n"
          ]
        }
      ]
    },
    {
      "cell_type": "code",
      "source": [
        "#renomeando as colunas, temos:\n",
        "nomes_colunas = {'President':'Presidente',\n",
        "                 'Age':'Idade na posse',\n",
        "                 'Days':'Dias como presidente',\n",
        "                 'Years':'Anos vividos depois da posse',\n",
        "                 'Ht':'Altura (cm)',\n",
        "                 'HtOpp':'Altura opositor (cm)'}\n",
        "base_dados.rename(nomes_colunas, axis = 'columns', inplace = True)"
      ],
      "metadata": {
        "id": "CdhZXpG637UV"
      },
      "execution_count": null,
      "outputs": []
    },
    {
      "cell_type": "code",
      "source": [
        "base_dados.head()"
      ],
      "metadata": {
        "colab": {
          "base_uri": "https://localhost:8080/",
          "height": 206
        },
        "id": "tgcuZqo84fLs",
        "outputId": "17d6b286-32ee-414c-dbd6-3c8737c376b8"
      },
      "execution_count": null,
      "outputs": [
        {
          "output_type": "execute_result",
          "data": {
            "text/plain": [
              "   Presidente  Idade na posse  Dias como presidente  \\\n",
              "0  Washington              57                2864.0   \n",
              "1    J. Adams              61                1460.0   \n",
              "2   Jefferson              57                2921.0   \n",
              "3     Madison              57                2921.0   \n",
              "4      Monroe              58                2921.0   \n",
              "\n",
              "   Anos vividos depois da posse  Altura (cm)  Altura opositor (cm)  \n",
              "0                          10.0          188                   NaN  \n",
              "1                          29.0          170                 189.0  \n",
              "2                          26.0          189                 170.0  \n",
              "3                          28.0          163                   NaN  \n",
              "4                          15.0          183                   NaN  "
            ],
            "text/html": [
              "\n",
              "  <div id=\"df-94b18b32-5855-4652-8db6-1bea39c82fde\">\n",
              "    <div class=\"colab-df-container\">\n",
              "      <div>\n",
              "<style scoped>\n",
              "    .dataframe tbody tr th:only-of-type {\n",
              "        vertical-align: middle;\n",
              "    }\n",
              "\n",
              "    .dataframe tbody tr th {\n",
              "        vertical-align: top;\n",
              "    }\n",
              "\n",
              "    .dataframe thead th {\n",
              "        text-align: right;\n",
              "    }\n",
              "</style>\n",
              "<table border=\"1\" class=\"dataframe\">\n",
              "  <thead>\n",
              "    <tr style=\"text-align: right;\">\n",
              "      <th></th>\n",
              "      <th>Presidente</th>\n",
              "      <th>Idade na posse</th>\n",
              "      <th>Dias como presidente</th>\n",
              "      <th>Anos vividos depois da posse</th>\n",
              "      <th>Altura (cm)</th>\n",
              "      <th>Altura opositor (cm)</th>\n",
              "    </tr>\n",
              "  </thead>\n",
              "  <tbody>\n",
              "    <tr>\n",
              "      <th>0</th>\n",
              "      <td>Washington</td>\n",
              "      <td>57</td>\n",
              "      <td>2864.0</td>\n",
              "      <td>10.0</td>\n",
              "      <td>188</td>\n",
              "      <td>NaN</td>\n",
              "    </tr>\n",
              "    <tr>\n",
              "      <th>1</th>\n",
              "      <td>J. Adams</td>\n",
              "      <td>61</td>\n",
              "      <td>1460.0</td>\n",
              "      <td>29.0</td>\n",
              "      <td>170</td>\n",
              "      <td>189.0</td>\n",
              "    </tr>\n",
              "    <tr>\n",
              "      <th>2</th>\n",
              "      <td>Jefferson</td>\n",
              "      <td>57</td>\n",
              "      <td>2921.0</td>\n",
              "      <td>26.0</td>\n",
              "      <td>189</td>\n",
              "      <td>170.0</td>\n",
              "    </tr>\n",
              "    <tr>\n",
              "      <th>3</th>\n",
              "      <td>Madison</td>\n",
              "      <td>57</td>\n",
              "      <td>2921.0</td>\n",
              "      <td>28.0</td>\n",
              "      <td>163</td>\n",
              "      <td>NaN</td>\n",
              "    </tr>\n",
              "    <tr>\n",
              "      <th>4</th>\n",
              "      <td>Monroe</td>\n",
              "      <td>58</td>\n",
              "      <td>2921.0</td>\n",
              "      <td>15.0</td>\n",
              "      <td>183</td>\n",
              "      <td>NaN</td>\n",
              "    </tr>\n",
              "  </tbody>\n",
              "</table>\n",
              "</div>\n",
              "      <button class=\"colab-df-convert\" onclick=\"convertToInteractive('df-94b18b32-5855-4652-8db6-1bea39c82fde')\"\n",
              "              title=\"Convert this dataframe to an interactive table.\"\n",
              "              style=\"display:none;\">\n",
              "        \n",
              "  <svg xmlns=\"http://www.w3.org/2000/svg\" height=\"24px\"viewBox=\"0 0 24 24\"\n",
              "       width=\"24px\">\n",
              "    <path d=\"M0 0h24v24H0V0z\" fill=\"none\"/>\n",
              "    <path d=\"M18.56 5.44l.94 2.06.94-2.06 2.06-.94-2.06-.94-.94-2.06-.94 2.06-2.06.94zm-11 1L8.5 8.5l.94-2.06 2.06-.94-2.06-.94L8.5 2.5l-.94 2.06-2.06.94zm10 10l.94 2.06.94-2.06 2.06-.94-2.06-.94-.94-2.06-.94 2.06-2.06.94z\"/><path d=\"M17.41 7.96l-1.37-1.37c-.4-.4-.92-.59-1.43-.59-.52 0-1.04.2-1.43.59L10.3 9.45l-7.72 7.72c-.78.78-.78 2.05 0 2.83L4 21.41c.39.39.9.59 1.41.59.51 0 1.02-.2 1.41-.59l7.78-7.78 2.81-2.81c.8-.78.8-2.07 0-2.86zM5.41 20L4 18.59l7.72-7.72 1.47 1.35L5.41 20z\"/>\n",
              "  </svg>\n",
              "      </button>\n",
              "      \n",
              "  <style>\n",
              "    .colab-df-container {\n",
              "      display:flex;\n",
              "      flex-wrap:wrap;\n",
              "      gap: 12px;\n",
              "    }\n",
              "\n",
              "    .colab-df-convert {\n",
              "      background-color: #E8F0FE;\n",
              "      border: none;\n",
              "      border-radius: 50%;\n",
              "      cursor: pointer;\n",
              "      display: none;\n",
              "      fill: #1967D2;\n",
              "      height: 32px;\n",
              "      padding: 0 0 0 0;\n",
              "      width: 32px;\n",
              "    }\n",
              "\n",
              "    .colab-df-convert:hover {\n",
              "      background-color: #E2EBFA;\n",
              "      box-shadow: 0px 1px 2px rgba(60, 64, 67, 0.3), 0px 1px 3px 1px rgba(60, 64, 67, 0.15);\n",
              "      fill: #174EA6;\n",
              "    }\n",
              "\n",
              "    [theme=dark] .colab-df-convert {\n",
              "      background-color: #3B4455;\n",
              "      fill: #D2E3FC;\n",
              "    }\n",
              "\n",
              "    [theme=dark] .colab-df-convert:hover {\n",
              "      background-color: #434B5C;\n",
              "      box-shadow: 0px 1px 3px 1px rgba(0, 0, 0, 0.15);\n",
              "      filter: drop-shadow(0px 1px 2px rgba(0, 0, 0, 0.3));\n",
              "      fill: #FFFFFF;\n",
              "    }\n",
              "  </style>\n",
              "\n",
              "      <script>\n",
              "        const buttonEl =\n",
              "          document.querySelector('#df-94b18b32-5855-4652-8db6-1bea39c82fde button.colab-df-convert');\n",
              "        buttonEl.style.display =\n",
              "          google.colab.kernel.accessAllowed ? 'block' : 'none';\n",
              "\n",
              "        async function convertToInteractive(key) {\n",
              "          const element = document.querySelector('#df-94b18b32-5855-4652-8db6-1bea39c82fde');\n",
              "          const dataTable =\n",
              "            await google.colab.kernel.invokeFunction('convertToInteractive',\n",
              "                                                     [key], {});\n",
              "          if (!dataTable) return;\n",
              "\n",
              "          const docLinkHtml = 'Like what you see? Visit the ' +\n",
              "            '<a target=\"_blank\" href=https://colab.research.google.com/notebooks/data_table.ipynb>data table notebook</a>'\n",
              "            + ' to learn more about interactive tables.';\n",
              "          element.innerHTML = '';\n",
              "          dataTable['output_type'] = 'display_data';\n",
              "          await google.colab.output.renderOutput(dataTable, element);\n",
              "          const docLink = document.createElement('div');\n",
              "          docLink.innerHTML = docLinkHtml;\n",
              "          element.appendChild(docLink);\n",
              "        }\n",
              "      </script>\n",
              "    </div>\n",
              "  </div>\n",
              "  "
            ]
          },
          "metadata": {},
          "execution_count": 47
        }
      ]
    },
    {
      "cell_type": "markdown",
      "source": [
        "**Analisando a variável 'Anos vividos depois da posse', obtemos os seguintes resultados:**"
      ],
      "metadata": {
        "id": "ujDtTm7e4r_F"
      }
    },
    {
      "cell_type": "markdown",
      "source": [
        "Primeiramente, contruiu-se uma distribuição de frequência básica e relativa para resumir os dados. Em seguida, construiu-se histograma de distribuição de frequência e histograma de distribuição de frequência relativa para observar a distribuição dos dados."
      ],
      "metadata": {
        "id": "X2hmJVjx41RU"
      }
    },
    {
      "cell_type": "code",
      "source": [
        "#Visualizando menor valor de anos vividos depois da primeira posse:\n",
        "base_dados['Anos vividos depois da posse'].min()"
      ],
      "metadata": {
        "colab": {
          "base_uri": "https://localhost:8080/"
        },
        "id": "zdQoXgKe5ObM",
        "outputId": "38387322-e0ef-48af-d7b2-053a74cb8446"
      },
      "execution_count": null,
      "outputs": [
        {
          "output_type": "execute_result",
          "data": {
            "text/plain": [
              "0.0"
            ]
          },
          "metadata": {},
          "execution_count": 48
        }
      ]
    },
    {
      "cell_type": "code",
      "source": [
        "#Visualizando maior valor de anos vividos depois da primeira posse:\n",
        "base_dados['Anos vividos depois da posse'].max()"
      ],
      "metadata": {
        "colab": {
          "base_uri": "https://localhost:8080/"
        },
        "id": "_EwLOjVW5fnP",
        "outputId": "b9e8d943-8ee5-4f44-e547-bdb13e44e7b9"
      },
      "execution_count": null,
      "outputs": [
        {
          "output_type": "execute_result",
          "data": {
            "text/plain": [
              "36.0"
            ]
          },
          "metadata": {},
          "execution_count": 49
        }
      ]
    },
    {
      "cell_type": "markdown",
      "source": [
        "Para definir o numero de classes de amplitude fixa para variáveis quantitativas, utilizamos a regra de Sturges dada pela seguinte fórmula:\n",
        "\n"
      ],
      "metadata": {
        "id": "AVgCufoI6DQL"
      }
    },
    {
      "cell_type": "markdown",
      "source": [
        "**Regra de Sturges**\n",
        "\n",
        " $$k = 1 + \\frac {10}{3}\\log_{10}n$$"
      ],
      "metadata": {
        "id": "x3XFc_kh6TJj"
      }
    },
    {
      "cell_type": "code",
      "source": [
        "base_dados['Anos vividos depois da posse'].shape[0]"
      ],
      "metadata": {
        "colab": {
          "base_uri": "https://localhost:8080/"
        },
        "id": "CYYWVEnR6lQb",
        "outputId": "40aac6ef-5441-4f60-9c4f-1b51b9c1a617"
      },
      "execution_count": null,
      "outputs": [
        {
          "output_type": "execute_result",
          "data": {
            "text/plain": [
              "38"
            ]
          },
          "metadata": {},
          "execution_count": 50
        }
      ]
    },
    {
      "cell_type": "code",
      "source": [
        "#Definindo o numero de classes de amplitude fixa, temos:\n",
        "\n",
        "n = base_dados['Anos vividos depois da posse'].shape[0]\n",
        "\n",
        "k = 1 + (10/3)*np.log10(n)\n",
        "k = int(k.round(0))\n",
        "k"
      ],
      "metadata": {
        "colab": {
          "base_uri": "https://localhost:8080/"
        },
        "id": "D1ADNGhT6SeZ",
        "outputId": "f6f0e3f7-9370-478d-e494-cc44d6e45946"
      },
      "execution_count": null,
      "outputs": [
        {
          "output_type": "execute_result",
          "data": {
            "text/plain": [
              "6"
            ]
          },
          "metadata": {},
          "execution_count": 51
        }
      ]
    },
    {
      "cell_type": "code",
      "source": [
        "#Construindo a distribuição de frequência básica, temos:\n",
        "frequencia = pd.value_counts(pd.cut(x = base_dados['Anos vividos depois da posse'], bins = k, include_lowest = True),\n",
        "                             sort = False)\n",
        "frequencia"
      ],
      "metadata": {
        "colab": {
          "base_uri": "https://localhost:8080/"
        },
        "id": "8iyWKH_m6v8l",
        "outputId": "648fc278-4784-4f5c-928e-c46c6b5381dc"
      },
      "execution_count": null,
      "outputs": [
        {
          "output_type": "execute_result",
          "data": {
            "text/plain": [
              "(-0.037, 6.0]    8\n",
              "(6.0, 12.0]      7\n",
              "(12.0, 18.0]     7\n",
              "(18.0, 24.0]     4\n",
              "(24.0, 30.0]     6\n",
              "(30.0, 36.0]     1\n",
              "Name: Anos vividos depois da posse, dtype: int64"
            ]
          },
          "metadata": {},
          "execution_count": 52
        }
      ]
    },
    {
      "cell_type": "code",
      "source": [
        "#Construindo a distribuição de frequência relativa, temos:\n",
        "percentual = pd.value_counts(pd.cut(x = base_dados['Anos vividos depois da posse'], bins = k, include_lowest = True),\n",
        "                             sort = False,\n",
        "                             normalize = True) * 100\n",
        "percentual"
      ],
      "metadata": {
        "colab": {
          "base_uri": "https://localhost:8080/"
        },
        "id": "xawzHX1F7Bwl",
        "outputId": "be136546-d7a6-46db-c376-735695566997"
      },
      "execution_count": null,
      "outputs": [
        {
          "output_type": "execute_result",
          "data": {
            "text/plain": [
              "(-0.037, 6.0]    24.242424\n",
              "(6.0, 12.0]      21.212121\n",
              "(12.0, 18.0]     21.212121\n",
              "(18.0, 24.0]     12.121212\n",
              "(24.0, 30.0]     18.181818\n",
              "(30.0, 36.0]      3.030303\n",
              "Name: Anos vividos depois da posse, dtype: float64"
            ]
          },
          "metadata": {},
          "execution_count": 53
        }
      ]
    },
    {
      "cell_type": "code",
      "source": [
        "#Construindo a tabela de frequência básica e relativa, temos:\n",
        "dist_freq = pd.DataFrame({'Frequência':frequencia,'Porcentagem (%)':percentual})\n",
        "dist_freq.rename_axis('Classes', axis = 'columns', inplace = True)\n",
        "dist_freq"
      ],
      "metadata": {
        "colab": {
          "base_uri": "https://localhost:8080/",
          "height": 237
        },
        "id": "Qg98hKN47MPz",
        "outputId": "6849c77b-7319-46d4-9ce6-5b1e9a517506"
      },
      "execution_count": null,
      "outputs": [
        {
          "output_type": "execute_result",
          "data": {
            "text/plain": [
              "Classes        Frequência  Porcentagem (%)\n",
              "(-0.037, 6.0]           8        24.242424\n",
              "(6.0, 12.0]             7        21.212121\n",
              "(12.0, 18.0]            7        21.212121\n",
              "(18.0, 24.0]            4        12.121212\n",
              "(24.0, 30.0]            6        18.181818\n",
              "(30.0, 36.0]            1         3.030303"
            ],
            "text/html": [
              "\n",
              "  <div id=\"df-e07ffa9f-9523-46a1-b8b1-30015e9bbcfc\">\n",
              "    <div class=\"colab-df-container\">\n",
              "      <div>\n",
              "<style scoped>\n",
              "    .dataframe tbody tr th:only-of-type {\n",
              "        vertical-align: middle;\n",
              "    }\n",
              "\n",
              "    .dataframe tbody tr th {\n",
              "        vertical-align: top;\n",
              "    }\n",
              "\n",
              "    .dataframe thead th {\n",
              "        text-align: right;\n",
              "    }\n",
              "</style>\n",
              "<table border=\"1\" class=\"dataframe\">\n",
              "  <thead>\n",
              "    <tr style=\"text-align: right;\">\n",
              "      <th>Classes</th>\n",
              "      <th>Frequência</th>\n",
              "      <th>Porcentagem (%)</th>\n",
              "    </tr>\n",
              "  </thead>\n",
              "  <tbody>\n",
              "    <tr>\n",
              "      <th>(-0.037, 6.0]</th>\n",
              "      <td>8</td>\n",
              "      <td>24.242424</td>\n",
              "    </tr>\n",
              "    <tr>\n",
              "      <th>(6.0, 12.0]</th>\n",
              "      <td>7</td>\n",
              "      <td>21.212121</td>\n",
              "    </tr>\n",
              "    <tr>\n",
              "      <th>(12.0, 18.0]</th>\n",
              "      <td>7</td>\n",
              "      <td>21.212121</td>\n",
              "    </tr>\n",
              "    <tr>\n",
              "      <th>(18.0, 24.0]</th>\n",
              "      <td>4</td>\n",
              "      <td>12.121212</td>\n",
              "    </tr>\n",
              "    <tr>\n",
              "      <th>(24.0, 30.0]</th>\n",
              "      <td>6</td>\n",
              "      <td>18.181818</td>\n",
              "    </tr>\n",
              "    <tr>\n",
              "      <th>(30.0, 36.0]</th>\n",
              "      <td>1</td>\n",
              "      <td>3.030303</td>\n",
              "    </tr>\n",
              "  </tbody>\n",
              "</table>\n",
              "</div>\n",
              "      <button class=\"colab-df-convert\" onclick=\"convertToInteractive('df-e07ffa9f-9523-46a1-b8b1-30015e9bbcfc')\"\n",
              "              title=\"Convert this dataframe to an interactive table.\"\n",
              "              style=\"display:none;\">\n",
              "        \n",
              "  <svg xmlns=\"http://www.w3.org/2000/svg\" height=\"24px\"viewBox=\"0 0 24 24\"\n",
              "       width=\"24px\">\n",
              "    <path d=\"M0 0h24v24H0V0z\" fill=\"none\"/>\n",
              "    <path d=\"M18.56 5.44l.94 2.06.94-2.06 2.06-.94-2.06-.94-.94-2.06-.94 2.06-2.06.94zm-11 1L8.5 8.5l.94-2.06 2.06-.94-2.06-.94L8.5 2.5l-.94 2.06-2.06.94zm10 10l.94 2.06.94-2.06 2.06-.94-2.06-.94-.94-2.06-.94 2.06-2.06.94z\"/><path d=\"M17.41 7.96l-1.37-1.37c-.4-.4-.92-.59-1.43-.59-.52 0-1.04.2-1.43.59L10.3 9.45l-7.72 7.72c-.78.78-.78 2.05 0 2.83L4 21.41c.39.39.9.59 1.41.59.51 0 1.02-.2 1.41-.59l7.78-7.78 2.81-2.81c.8-.78.8-2.07 0-2.86zM5.41 20L4 18.59l7.72-7.72 1.47 1.35L5.41 20z\"/>\n",
              "  </svg>\n",
              "      </button>\n",
              "      \n",
              "  <style>\n",
              "    .colab-df-container {\n",
              "      display:flex;\n",
              "      flex-wrap:wrap;\n",
              "      gap: 12px;\n",
              "    }\n",
              "\n",
              "    .colab-df-convert {\n",
              "      background-color: #E8F0FE;\n",
              "      border: none;\n",
              "      border-radius: 50%;\n",
              "      cursor: pointer;\n",
              "      display: none;\n",
              "      fill: #1967D2;\n",
              "      height: 32px;\n",
              "      padding: 0 0 0 0;\n",
              "      width: 32px;\n",
              "    }\n",
              "\n",
              "    .colab-df-convert:hover {\n",
              "      background-color: #E2EBFA;\n",
              "      box-shadow: 0px 1px 2px rgba(60, 64, 67, 0.3), 0px 1px 3px 1px rgba(60, 64, 67, 0.15);\n",
              "      fill: #174EA6;\n",
              "    }\n",
              "\n",
              "    [theme=dark] .colab-df-convert {\n",
              "      background-color: #3B4455;\n",
              "      fill: #D2E3FC;\n",
              "    }\n",
              "\n",
              "    [theme=dark] .colab-df-convert:hover {\n",
              "      background-color: #434B5C;\n",
              "      box-shadow: 0px 1px 3px 1px rgba(0, 0, 0, 0.15);\n",
              "      filter: drop-shadow(0px 1px 2px rgba(0, 0, 0, 0.3));\n",
              "      fill: #FFFFFF;\n",
              "    }\n",
              "  </style>\n",
              "\n",
              "      <script>\n",
              "        const buttonEl =\n",
              "          document.querySelector('#df-e07ffa9f-9523-46a1-b8b1-30015e9bbcfc button.colab-df-convert');\n",
              "        buttonEl.style.display =\n",
              "          google.colab.kernel.accessAllowed ? 'block' : 'none';\n",
              "\n",
              "        async function convertToInteractive(key) {\n",
              "          const element = document.querySelector('#df-e07ffa9f-9523-46a1-b8b1-30015e9bbcfc');\n",
              "          const dataTable =\n",
              "            await google.colab.kernel.invokeFunction('convertToInteractive',\n",
              "                                                     [key], {});\n",
              "          if (!dataTable) return;\n",
              "\n",
              "          const docLinkHtml = 'Like what you see? Visit the ' +\n",
              "            '<a target=\"_blank\" href=https://colab.research.google.com/notebooks/data_table.ipynb>data table notebook</a>'\n",
              "            + ' to learn more about interactive tables.';\n",
              "          element.innerHTML = '';\n",
              "          dataTable['output_type'] = 'display_data';\n",
              "          await google.colab.output.renderOutput(dataTable, element);\n",
              "          const docLink = document.createElement('div');\n",
              "          docLink.innerHTML = docLinkHtml;\n",
              "          element.appendChild(docLink);\n",
              "        }\n",
              "      </script>\n",
              "    </div>\n",
              "  </div>\n",
              "  "
            ]
          },
          "metadata": {},
          "execution_count": 54
        }
      ]
    },
    {
      "cell_type": "code",
      "source": [
        "#Construindo um histograma para observar graficamente a distribuição dos dados, temos:\n",
        "classes = [0,6.01,12.01,18.01,24.01,30.01,36.01]\n",
        "ax = sns.histplot(base_dados['Anos vividos depois da posse'], bins = classes, kde = True)\n",
        "ax.figure.set_size_inches(12,6)\n",
        "ax.set_title('Distribuição de frequências - anos vividos após primeira posse', fontsize = 18)\n",
        "ax.set_xlabel('Anos', fontsize = 14)\n",
        "ax.set_ylabel('Frequência', fontsize = 14)\n",
        "ax.set_yticks([i for i in range(0,10,1)])\n",
        "ax.set_xticks([i for i in range(0,37,1)])\n",
        "ax"
      ],
      "metadata": {
        "colab": {
          "base_uri": "https://localhost:8080/",
          "height": 431
        },
        "id": "3I2C-a4s7kB1",
        "outputId": "0d30c732-48b5-455c-9da6-61b8b55751c0"
      },
      "execution_count": null,
      "outputs": [
        {
          "output_type": "execute_result",
          "data": {
            "text/plain": [
              "<matplotlib.axes._subplots.AxesSubplot at 0x7f194a206310>"
            ]
          },
          "metadata": {},
          "execution_count": 55
        },
        {
          "output_type": "display_data",
          "data": {
            "text/plain": [
              "<Figure size 864x432 with 1 Axes>"
            ],
            "image/png": "[encoded data removed]"
          },
          "metadata": {
            "needs_background": "light"
          }
        }
      ]
    },
    {
      "cell_type": "markdown",
      "source": [
        "Calculando a média e mediana dos anos vividos após a primeira posse a partir dos dados amostrais originais, temos:"
      ],
      "metadata": {
        "id": "AyJoKFlw8h0a"
      }
    },
    {
      "cell_type": "code",
      "source": [
        "#Média de anos vividos após a primeira posse\n",
        "base_dados['Anos vividos depois da posse'].mean()"
      ],
      "metadata": {
        "colab": {
          "base_uri": "https://localhost:8080/"
        },
        "id": "SOT9J-j08e_s",
        "outputId": "885aa1a2-ed94-4b06-e09e-3869016dc3f5"
      },
      "execution_count": null,
      "outputs": [
        {
          "output_type": "execute_result",
          "data": {
            "text/plain": [
              "15.030303030303031"
            ]
          },
          "metadata": {},
          "execution_count": 56
        }
      ]
    },
    {
      "cell_type": "code",
      "source": [
        "#Mediana de anos vividos após a primeira posse\n",
        "base_dados['Anos vividos depois da posse'].median()"
      ],
      "metadata": {
        "colab": {
          "base_uri": "https://localhost:8080/"
        },
        "id": "95LQylmM8wYt",
        "outputId": "ca2e2de9-1eb7-460a-c4a8-d74ef5ab9fe5"
      },
      "execution_count": null,
      "outputs": [
        {
          "output_type": "execute_result",
          "data": {
            "text/plain": [
              "16.0"
            ]
          },
          "metadata": {},
          "execution_count": 57
        }
      ]
    },
    {
      "cell_type": "markdown",
      "source": [
        "**Medidas de variação da variável 'Anos vividos depois da posse'**"
      ],
      "metadata": {
        "id": "yPIc_G4JmYc2"
      }
    },
    {
      "cell_type": "markdown",
      "source": [
        "Para avaliar como os dados estão distribuídos em relação à média, podemos utilizar medidas de variação como a variância e desvio padrão, que usam desvios da média em seu cálculo. Além da variância e do desvio-padrão, podemos utilizar a amplitude, que é dada pela diferença entre o valor máximo e o valor mínimo do conjunto de valores. Calculando as medidas de variação, obtemos os seguintes resultados:\n"
      ],
      "metadata": {
        "id": "hapic0sxmsWO"
      }
    },
    {
      "cell_type": "code",
      "source": [
        "#Calculando a amplitude, temos:\n",
        "valor_minimo = base_dados['Anos vividos depois da posse'].min()\n",
        "valor_maximo = base_dados['Anos vividos depois da posse'].max()\n",
        "amplitude = valor_maximo - valor_minimo\n",
        "print('A amplitude do conjunto de valores é igual a {} anos'.format(amplitude))"
      ],
      "metadata": {
        "colab": {
          "base_uri": "https://localhost:8080/"
        },
        "id": "lu14UkH2nXPu",
        "outputId": "799882d1-6bb4-4a57-fce2-734dc485cc33"
      },
      "execution_count": null,
      "outputs": [
        {
          "output_type": "stream",
          "name": "stdout",
          "text": [
            "A amplitude do conjunto de valores é igual a 36.0 anos\n"
          ]
        }
      ]
    },
    {
      "cell_type": "markdown",
      "source": [
        "Portanto, analisando o valor da amplitude, podemos verificar que os dados da variável 'Anos vividos depois da posse' estão distribuidos ao longo de uma faixa de valores de amplitude de 36 anos. A amplitude, em geral, não é utilizada devido a sensibilidade a valores extremos. Caso o conjunto de valores apresente outliers (valores muito distantes dos demais) a amplitude do conjunto de dados pode ser drasticamente afetada, com seu uso devendo ser evitado."
      ],
      "metadata": {
        "id": "yc7MibTtn3uN"
      }
    },
    {
      "cell_type": "code",
      "source": [
        "#Calculando a variância do conjunto de valores, temos:\n",
        "variancia = base_dados['Anos vividos depois da posse'].var()\n",
        "print('A variancia do conjunto de dados é igual a {} anos²'.format(variancia))"
      ],
      "metadata": {
        "colab": {
          "base_uri": "https://localhost:8080/"
        },
        "id": "wyzGxREEnXSV",
        "outputId": "b12ac216-e81c-4c24-a91c-ec89f33b8f11"
      },
      "execution_count": null,
      "outputs": [
        {
          "output_type": "stream",
          "name": "stdout",
          "text": [
            "A variancia do conjunto de dados é igual a 94.46780303030305 anos²\n"
          ]
        }
      ]
    },
    {
      "cell_type": "code",
      "source": [
        "#Calculando o desvio-padrão do conjunto de valores, temos:\n",
        "std = base_dados['Anos vividos depois da posse'].std()\n",
        "print('O desvio-padrão do conjunto de dados é igual {} anos.'.format(std))"
      ],
      "metadata": {
        "colab": {
          "base_uri": "https://localhost:8080/"
        },
        "id": "zWlHt5dQnXVN",
        "outputId": "6c19c4d5-c3b4-416f-ac38-4ec143f20524"
      },
      "execution_count": null,
      "outputs": [
        {
          "output_type": "stream",
          "name": "stdout",
          "text": [
            "O desvio-padrão do conjunto de dados é igual 9.719454873103894 anos.\n"
          ]
        }
      ]
    },
    {
      "cell_type": "markdown",
      "source": [
        "**Conclusões**\n",
        "\n",
        "Visualizando o histograma de distribuição de frequência para os dados de anos vividos após a primeira posse presidencial, é possível verificar que a distribuição é aproximadamente uniforme entre 0 e 18 anos. Além disso, calculando a média e mediana a partir dos dados amostrais originais, podemos concluir que os presidentes vivem em média 15 anos após a primeira posse. "
      ],
      "metadata": {
        "id": "38zz0_hg7_G9"
      }
    },
    {
      "cell_type": "markdown",
      "source": [
        "## Conjunto de dados 11 - Idades de Ganhadores de Oscar"
      ],
      "metadata": {
        "id": "uhoYkLD5J_-1"
      }
    },
    {
      "cell_type": "markdown",
      "source": [
        "**Contexto do conjunto de dados**"
      ],
      "metadata": {
        "id": "7gyiAub0KHEL"
      }
    },
    {
      "cell_type": "markdown",
      "source": [
        "O conjunto de dados mostra as idades (anos) de atrizes e atores ao ganharem o Oscar nas categorias de Melhor Atriz e Melhor Ator. As idades estão\n",
        "listadas em ordem cronológica por linha, de modo que as localizações correspondentes nas duas tabelas se referem ao\n",
        "mesmo ano. (Notas: Em 1986 houve um empate na categoria de Melhor Atriz, e usa-se a média das duas idades; em\n",
        "1932, houve um empate na categoria de Melhor Ator, e usa-se a média das duas idades. Esses dados foram sugeridos pelo\n",
        "artigo “Ages of Oscar-Winning Best Actors and Actresses” (Idades de ganhadores do Oscar de Melhor Ator e Melhor\n",
        "Atriz), de Richard Brown e Gretchen Davis, na revista Mathematics Teacher. Nesse artigo, o ano de nascimento do\n",
        "ganhador do Oscar foi subtraído do ano da cerimônia de entrega do Oscar, mas as idades listadas aqui foram calculadas a\n",
        "partir da data de nascimento do ganhador e da data de cerimônia.) Os dados estão completos até o instante da escrita\n",
        "desse livro."
      ],
      "metadata": {
        "id": "YcZdd7haKKik"
      }
    },
    {
      "cell_type": "code",
      "source": [
        "#Abrindo o conjunto de dados, temos:\n",
        "base_dados = pd.read_csv('OSCR.csv')\n",
        "base_dados.head()"
      ],
      "metadata": {
        "colab": {
          "base_uri": "https://localhost:8080/",
          "height": 206
        },
        "id": "U43TASu-K3Ui",
        "outputId": "f25076bf-4c64-4ca5-b3d4-ae1912dbfe34"
      },
      "execution_count": null,
      "outputs": [
        {
          "output_type": "execute_result",
          "data": {
            "text/plain": [
              "   Actresses  Actors\n",
              "0         22      44\n",
              "1         37      41\n",
              "2         28      62\n",
              "3         63      52\n",
              "4         32      41"
            ],
            "text/html": [
              "\n",
              "  <div id=\"df-b90f0a07-88df-491f-b2f9-218bb252337f\">\n",
              "    <div class=\"colab-df-container\">\n",
              "      <div>\n",
              "<style scoped>\n",
              "    .dataframe tbody tr th:only-of-type {\n",
              "        vertical-align: middle;\n",
              "    }\n",
              "\n",
              "    .dataframe tbody tr th {\n",
              "        vertical-align: top;\n",
              "    }\n",
              "\n",
              "    .dataframe thead th {\n",
              "        text-align: right;\n",
              "    }\n",
              "</style>\n",
              "<table border=\"1\" class=\"dataframe\">\n",
              "  <thead>\n",
              "    <tr style=\"text-align: right;\">\n",
              "      <th></th>\n",
              "      <th>Actresses</th>\n",
              "      <th>Actors</th>\n",
              "    </tr>\n",
              "  </thead>\n",
              "  <tbody>\n",
              "    <tr>\n",
              "      <th>0</th>\n",
              "      <td>22</td>\n",
              "      <td>44</td>\n",
              "    </tr>\n",
              "    <tr>\n",
              "      <th>1</th>\n",
              "      <td>37</td>\n",
              "      <td>41</td>\n",
              "    </tr>\n",
              "    <tr>\n",
              "      <th>2</th>\n",
              "      <td>28</td>\n",
              "      <td>62</td>\n",
              "    </tr>\n",
              "    <tr>\n",
              "      <th>3</th>\n",
              "      <td>63</td>\n",
              "      <td>52</td>\n",
              "    </tr>\n",
              "    <tr>\n",
              "      <th>4</th>\n",
              "      <td>32</td>\n",
              "      <td>41</td>\n",
              "    </tr>\n",
              "  </tbody>\n",
              "</table>\n",
              "</div>\n",
              "      <button class=\"colab-df-convert\" onclick=\"convertToInteractive('df-b90f0a07-88df-491f-b2f9-218bb252337f')\"\n",
              "              title=\"Convert this dataframe to an interactive table.\"\n",
              "              style=\"display:none;\">\n",
              "        \n",
              "  <svg xmlns=\"http://www.w3.org/2000/svg\" height=\"24px\"viewBox=\"0 0 24 24\"\n",
              "       width=\"24px\">\n",
              "    <path d=\"M0 0h24v24H0V0z\" fill=\"none\"/>\n",
              "    <path d=\"M18.56 5.44l.94 2.06.94-2.06 2.06-.94-2.06-.94-.94-2.06-.94 2.06-2.06.94zm-11 1L8.5 8.5l.94-2.06 2.06-.94-2.06-.94L8.5 2.5l-.94 2.06-2.06.94zm10 10l.94 2.06.94-2.06 2.06-.94-2.06-.94-.94-2.06-.94 2.06-2.06.94z\"/><path d=\"M17.41 7.96l-1.37-1.37c-.4-.4-.92-.59-1.43-.59-.52 0-1.04.2-1.43.59L10.3 9.45l-7.72 7.72c-.78.78-.78 2.05 0 2.83L4 21.41c.39.39.9.59 1.41.59.51 0 1.02-.2 1.41-.59l7.78-7.78 2.81-2.81c.8-.78.8-2.07 0-2.86zM5.41 20L4 18.59l7.72-7.72 1.47 1.35L5.41 20z\"/>\n",
              "  </svg>\n",
              "      </button>\n",
              "      \n",
              "  <style>\n",
              "    .colab-df-container {\n",
              "      display:flex;\n",
              "      flex-wrap:wrap;\n",
              "      gap: 12px;\n",
              "    }\n",
              "\n",
              "    .colab-df-convert {\n",
              "      background-color: #E8F0FE;\n",
              "      border: none;\n",
              "      border-radius: 50%;\n",
              "      cursor: pointer;\n",
              "      display: none;\n",
              "      fill: #1967D2;\n",
              "      height: 32px;\n",
              "      padding: 0 0 0 0;\n",
              "      width: 32px;\n",
              "    }\n",
              "\n",
              "    .colab-df-convert:hover {\n",
              "      background-color: #E2EBFA;\n",
              "      box-shadow: 0px 1px 2px rgba(60, 64, 67, 0.3), 0px 1px 3px 1px rgba(60, 64, 67, 0.15);\n",
              "      fill: #174EA6;\n",
              "    }\n",
              "\n",
              "    [theme=dark] .colab-df-convert {\n",
              "      background-color: #3B4455;\n",
              "      fill: #D2E3FC;\n",
              "    }\n",
              "\n",
              "    [theme=dark] .colab-df-convert:hover {\n",
              "      background-color: #434B5C;\n",
              "      box-shadow: 0px 1px 3px 1px rgba(0, 0, 0, 0.15);\n",
              "      filter: drop-shadow(0px 1px 2px rgba(0, 0, 0, 0.3));\n",
              "      fill: #FFFFFF;\n",
              "    }\n",
              "  </style>\n",
              "\n",
              "      <script>\n",
              "        const buttonEl =\n",
              "          document.querySelector('#df-b90f0a07-88df-491f-b2f9-218bb252337f button.colab-df-convert');\n",
              "        buttonEl.style.display =\n",
              "          google.colab.kernel.accessAllowed ? 'block' : 'none';\n",
              "\n",
              "        async function convertToInteractive(key) {\n",
              "          const element = document.querySelector('#df-b90f0a07-88df-491f-b2f9-218bb252337f');\n",
              "          const dataTable =\n",
              "            await google.colab.kernel.invokeFunction('convertToInteractive',\n",
              "                                                     [key], {});\n",
              "          if (!dataTable) return;\n",
              "\n",
              "          const docLinkHtml = 'Like what you see? Visit the ' +\n",
              "            '<a target=\"_blank\" href=https://colab.research.google.com/notebooks/data_table.ipynb>data table notebook</a>'\n",
              "            + ' to learn more about interactive tables.';\n",
              "          element.innerHTML = '';\n",
              "          dataTable['output_type'] = 'display_data';\n",
              "          await google.colab.output.renderOutput(dataTable, element);\n",
              "          const docLink = document.createElement('div');\n",
              "          docLink.innerHTML = docLinkHtml;\n",
              "          element.appendChild(docLink);\n",
              "        }\n",
              "      </script>\n",
              "    </div>\n",
              "  </div>\n",
              "  "
            ]
          },
          "metadata": {},
          "execution_count": 78
        }
      ]
    },
    {
      "cell_type": "code",
      "source": [
        "#Renomeando as colunas, temos:\n",
        "nomes_colunas = {'Actresses':'Atrizes',\n",
        "                 'Actors':'Atores'}\n",
        "base_dados.rename(nomes_colunas, axis = 'columns', inplace = True)\n",
        "base_dados.head()"
      ],
      "metadata": {
        "colab": {
          "base_uri": "https://localhost:8080/",
          "height": 206
        },
        "id": "V41A36nGLG0c",
        "outputId": "0c58fe95-bacd-4f35-e8a3-f5531de9a488"
      },
      "execution_count": null,
      "outputs": [
        {
          "output_type": "execute_result",
          "data": {
            "text/plain": [
              "   Atrizes  Atores\n",
              "0       22      44\n",
              "1       37      41\n",
              "2       28      62\n",
              "3       63      52\n",
              "4       32      41"
            ],
            "text/html": [
              "\n",
              "  <div id=\"df-0685a674-ab82-4e0c-baae-bfd0671df76b\">\n",
              "    <div class=\"colab-df-container\">\n",
              "      <div>\n",
              "<style scoped>\n",
              "    .dataframe tbody tr th:only-of-type {\n",
              "        vertical-align: middle;\n",
              "    }\n",
              "\n",
              "    .dataframe tbody tr th {\n",
              "        vertical-align: top;\n",
              "    }\n",
              "\n",
              "    .dataframe thead th {\n",
              "        text-align: right;\n",
              "    }\n",
              "</style>\n",
              "<table border=\"1\" class=\"dataframe\">\n",
              "  <thead>\n",
              "    <tr style=\"text-align: right;\">\n",
              "      <th></th>\n",
              "      <th>Atrizes</th>\n",
              "      <th>Atores</th>\n",
              "    </tr>\n",
              "  </thead>\n",
              "  <tbody>\n",
              "    <tr>\n",
              "      <th>0</th>\n",
              "      <td>22</td>\n",
              "      <td>44</td>\n",
              "    </tr>\n",
              "    <tr>\n",
              "      <th>1</th>\n",
              "      <td>37</td>\n",
              "      <td>41</td>\n",
              "    </tr>\n",
              "    <tr>\n",
              "      <th>2</th>\n",
              "      <td>28</td>\n",
              "      <td>62</td>\n",
              "    </tr>\n",
              "    <tr>\n",
              "      <th>3</th>\n",
              "      <td>63</td>\n",
              "      <td>52</td>\n",
              "    </tr>\n",
              "    <tr>\n",
              "      <th>4</th>\n",
              "      <td>32</td>\n",
              "      <td>41</td>\n",
              "    </tr>\n",
              "  </tbody>\n",
              "</table>\n",
              "</div>\n",
              "      <button class=\"colab-df-convert\" onclick=\"convertToInteractive('df-0685a674-ab82-4e0c-baae-bfd0671df76b')\"\n",
              "              title=\"Convert this dataframe to an interactive table.\"\n",
              "              style=\"display:none;\">\n",
              "        \n",
              "  <svg xmlns=\"http://www.w3.org/2000/svg\" height=\"24px\"viewBox=\"0 0 24 24\"\n",
              "       width=\"24px\">\n",
              "    <path d=\"M0 0h24v24H0V0z\" fill=\"none\"/>\n",
              "    <path d=\"M18.56 5.44l.94 2.06.94-2.06 2.06-.94-2.06-.94-.94-2.06-.94 2.06-2.06.94zm-11 1L8.5 8.5l.94-2.06 2.06-.94-2.06-.94L8.5 2.5l-.94 2.06-2.06.94zm10 10l.94 2.06.94-2.06 2.06-.94-2.06-.94-.94-2.06-.94 2.06-2.06.94z\"/><path d=\"M17.41 7.96l-1.37-1.37c-.4-.4-.92-.59-1.43-.59-.52 0-1.04.2-1.43.59L10.3 9.45l-7.72 7.72c-.78.78-.78 2.05 0 2.83L4 21.41c.39.39.9.59 1.41.59.51 0 1.02-.2 1.41-.59l7.78-7.78 2.81-2.81c.8-.78.8-2.07 0-2.86zM5.41 20L4 18.59l7.72-7.72 1.47 1.35L5.41 20z\"/>\n",
              "  </svg>\n",
              "      </button>\n",
              "      \n",
              "  <style>\n",
              "    .colab-df-container {\n",
              "      display:flex;\n",
              "      flex-wrap:wrap;\n",
              "      gap: 12px;\n",
              "    }\n",
              "\n",
              "    .colab-df-convert {\n",
              "      background-color: #E8F0FE;\n",
              "      border: none;\n",
              "      border-radius: 50%;\n",
              "      cursor: pointer;\n",
              "      display: none;\n",
              "      fill: #1967D2;\n",
              "      height: 32px;\n",
              "      padding: 0 0 0 0;\n",
              "      width: 32px;\n",
              "    }\n",
              "\n",
              "    .colab-df-convert:hover {\n",
              "      background-color: #E2EBFA;\n",
              "      box-shadow: 0px 1px 2px rgba(60, 64, 67, 0.3), 0px 1px 3px 1px rgba(60, 64, 67, 0.15);\n",
              "      fill: #174EA6;\n",
              "    }\n",
              "\n",
              "    [theme=dark] .colab-df-convert {\n",
              "      background-color: #3B4455;\n",
              "      fill: #D2E3FC;\n",
              "    }\n",
              "\n",
              "    [theme=dark] .colab-df-convert:hover {\n",
              "      background-color: #434B5C;\n",
              "      box-shadow: 0px 1px 3px 1px rgba(0, 0, 0, 0.15);\n",
              "      filter: drop-shadow(0px 1px 2px rgba(0, 0, 0, 0.3));\n",
              "      fill: #FFFFFF;\n",
              "    }\n",
              "  </style>\n",
              "\n",
              "      <script>\n",
              "        const buttonEl =\n",
              "          document.querySelector('#df-0685a674-ab82-4e0c-baae-bfd0671df76b button.colab-df-convert');\n",
              "        buttonEl.style.display =\n",
              "          google.colab.kernel.accessAllowed ? 'block' : 'none';\n",
              "\n",
              "        async function convertToInteractive(key) {\n",
              "          const element = document.querySelector('#df-0685a674-ab82-4e0c-baae-bfd0671df76b');\n",
              "          const dataTable =\n",
              "            await google.colab.kernel.invokeFunction('convertToInteractive',\n",
              "                                                     [key], {});\n",
              "          if (!dataTable) return;\n",
              "\n",
              "          const docLinkHtml = 'Like what you see? Visit the ' +\n",
              "            '<a target=\"_blank\" href=https://colab.research.google.com/notebooks/data_table.ipynb>data table notebook</a>'\n",
              "            + ' to learn more about interactive tables.';\n",
              "          element.innerHTML = '';\n",
              "          dataTable['output_type'] = 'display_data';\n",
              "          await google.colab.output.renderOutput(dataTable, element);\n",
              "          const docLink = document.createElement('div');\n",
              "          docLink.innerHTML = docLinkHtml;\n",
              "          element.appendChild(docLink);\n",
              "        }\n",
              "      </script>\n",
              "    </div>\n",
              "  </div>\n",
              "  "
            ]
          },
          "metadata": {},
          "execution_count": 79
        }
      ]
    },
    {
      "cell_type": "markdown",
      "source": [
        "**Comparando idades dos vencedores do Oscar de Melhor Atriz e Melhor Ator**"
      ],
      "metadata": {
        "id": "hxtjZQjQLdxl"
      }
    },
    {
      "cell_type": "markdown",
      "source": [
        "**Problema 1 -** Há diferenças entre as idades dos vencedores da categoria de Melhor Atriz e Melhor Ator?"
      ],
      "metadata": {
        "id": "MtMZ5u3YLvtT"
      }
    },
    {
      "cell_type": "markdown",
      "source": [
        "**Solução:** Para investigar se há diferença entre as idades dos vencedores de Melhor Atriz e Melhor Ator, devemos utilizar o diagrama de caixa modificado na mesma escala para ambos conjuntos de dados. Os diagramas de caixa modificado são utilizado para comparar a dispersão dos dados para dois conjuntos de valores difentes."
      ],
      "metadata": {
        "id": "F-pppNh1MERF"
      }
    },
    {
      "cell_type": "markdown",
      "source": [
        "Para construir o diagrama de caixa modificado (boxplot modificado) é necessário calcular os seguintes números resumos: Valor mínimo, limite inferior, primeiro quartil (Q1), segundo quartil (Q2), terceiro quartil (Q3), limite superior e valor máximo."
      ],
      "metadata": {
        "id": "YI3sVzzjNoY1"
      }
    },
    {
      "cell_type": "code",
      "source": [
        "#calculando o valor máximo e mínimo de idade para categoria Melhor Atriz:\n",
        "base_dados['Atrizes'].max()"
      ],
      "metadata": {
        "colab": {
          "base_uri": "https://localhost:8080/"
        },
        "id": "rB_aFebIOYgd",
        "outputId": "78fc390b-4f16-4f7b-8a53-051e61b7d580"
      },
      "execution_count": null,
      "outputs": [
        {
          "output_type": "execute_result",
          "data": {
            "text/plain": [
              "80"
            ]
          },
          "metadata": {},
          "execution_count": 80
        }
      ]
    },
    {
      "cell_type": "code",
      "source": [
        "base_dados['Atrizes'].min()"
      ],
      "metadata": {
        "colab": {
          "base_uri": "https://localhost:8080/"
        },
        "id": "muR9fe4tOvb4",
        "outputId": "4dab8d34-4b23-423e-9309-23923923ea21"
      },
      "execution_count": null,
      "outputs": [
        {
          "output_type": "execute_result",
          "data": {
            "text/plain": [
              "21"
            ]
          },
          "metadata": {},
          "execution_count": 81
        }
      ]
    },
    {
      "cell_type": "code",
      "source": [
        "#calculando o valor máximo e mínimo de idade para categoria Melhor Ator:\n",
        "base_dados['Atores'].max()"
      ],
      "metadata": {
        "colab": {
          "base_uri": "https://localhost:8080/"
        },
        "id": "2HGhLS1EOyCO",
        "outputId": "ac7d8e99-5a41-48c6-cf91-73593df71cb6"
      },
      "execution_count": null,
      "outputs": [
        {
          "output_type": "execute_result",
          "data": {
            "text/plain": [
              "76"
            ]
          },
          "metadata": {},
          "execution_count": 82
        }
      ]
    },
    {
      "cell_type": "code",
      "source": [
        "base_dados['Atores'].min()"
      ],
      "metadata": {
        "colab": {
          "base_uri": "https://localhost:8080/"
        },
        "id": "9VDXI0hjO16E",
        "outputId": "8e1d14cc-8219-4816-c33f-eada25c0f704"
      },
      "execution_count": null,
      "outputs": [
        {
          "output_type": "execute_result",
          "data": {
            "text/plain": [
              "29"
            ]
          },
          "metadata": {},
          "execution_count": 83
        }
      ]
    },
    {
      "cell_type": "markdown",
      "source": [
        "Para criarmos um diagrama de caixa precisamos modificar o dataframe de modo a termos uma coluna com as idades de todos os premiados e uma coluna identificando o sexo do vencedor, logo, temos:"
      ],
      "metadata": {
        "id": "jFd2bjyJSDi7"
      }
    },
    {
      "cell_type": "code",
      "source": [
        "#criando um dataframe com as idades das atrizes\n",
        "df_atrizes = pd.DataFrame({'Idades (anos)':base_dados['Atrizes']})\n",
        "categoria = []\n",
        "for i in df_atrizes.index:\n",
        "  categoria.append(int(1))\n",
        "df_atrizes['Categoria'] = categoria\n",
        "df_atrizes"
      ],
      "metadata": {
        "colab": {
          "base_uri": "https://localhost:8080/",
          "height": 423
        },
        "id": "tFfI9JUeQEqt",
        "outputId": "605c6ba6-6d70-4d5c-eae5-75cca448b88d"
      },
      "execution_count": null,
      "outputs": [
        {
          "output_type": "execute_result",
          "data": {
            "text/plain": [
              "    Idades (anos)  Categoria\n",
              "0              22          1\n",
              "1              37          1\n",
              "2              28          1\n",
              "3              63          1\n",
              "4              32          1\n",
              "..            ...        ...\n",
              "77             29          1\n",
              "78             61          1\n",
              "79             32          1\n",
              "80             33          1\n",
              "81             45          1\n",
              "\n",
              "[82 rows x 2 columns]"
            ],
            "text/html": [
              "\n",
              "  <div id=\"df-24d75195-4a37-4ad3-a8d3-d592b7733222\">\n",
              "    <div class=\"colab-df-container\">\n",
              "      <div>\n",
              "<style scoped>\n",
              "    .dataframe tbody tr th:only-of-type {\n",
              "        vertical-align: middle;\n",
              "    }\n",
              "\n",
              "    .dataframe tbody tr th {\n",
              "        vertical-align: top;\n",
              "    }\n",
              "\n",
              "    .dataframe thead th {\n",
              "        text-align: right;\n",
              "    }\n",
              "</style>\n",
              "<table border=\"1\" class=\"dataframe\">\n",
              "  <thead>\n",
              "    <tr style=\"text-align: right;\">\n",
              "      <th></th>\n",
              "      <th>Idades (anos)</th>\n",
              "      <th>Categoria</th>\n",
              "    </tr>\n",
              "  </thead>\n",
              "  <tbody>\n",
              "    <tr>\n",
              "      <th>0</th>\n",
              "      <td>22</td>\n",
              "      <td>1</td>\n",
              "    </tr>\n",
              "    <tr>\n",
              "      <th>1</th>\n",
              "      <td>37</td>\n",
              "      <td>1</td>\n",
              "    </tr>\n",
              "    <tr>\n",
              "      <th>2</th>\n",
              "      <td>28</td>\n",
              "      <td>1</td>\n",
              "    </tr>\n",
              "    <tr>\n",
              "      <th>3</th>\n",
              "      <td>63</td>\n",
              "      <td>1</td>\n",
              "    </tr>\n",
              "    <tr>\n",
              "      <th>4</th>\n",
              "      <td>32</td>\n",
              "      <td>1</td>\n",
              "    </tr>\n",
              "    <tr>\n",
              "      <th>...</th>\n",
              "      <td>...</td>\n",
              "      <td>...</td>\n",
              "    </tr>\n",
              "    <tr>\n",
              "      <th>77</th>\n",
              "      <td>29</td>\n",
              "      <td>1</td>\n",
              "    </tr>\n",
              "    <tr>\n",
              "      <th>78</th>\n",
              "      <td>61</td>\n",
              "      <td>1</td>\n",
              "    </tr>\n",
              "    <tr>\n",
              "      <th>79</th>\n",
              "      <td>32</td>\n",
              "      <td>1</td>\n",
              "    </tr>\n",
              "    <tr>\n",
              "      <th>80</th>\n",
              "      <td>33</td>\n",
              "      <td>1</td>\n",
              "    </tr>\n",
              "    <tr>\n",
              "      <th>81</th>\n",
              "      <td>45</td>\n",
              "      <td>1</td>\n",
              "    </tr>\n",
              "  </tbody>\n",
              "</table>\n",
              "<p>82 rows × 2 columns</p>\n",
              "</div>\n",
              "      <button class=\"colab-df-convert\" onclick=\"convertToInteractive('df-24d75195-4a37-4ad3-a8d3-d592b7733222')\"\n",
              "              title=\"Convert this dataframe to an interactive table.\"\n",
              "              style=\"display:none;\">\n",
              "        \n",
              "  <svg xmlns=\"http://www.w3.org/2000/svg\" height=\"24px\"viewBox=\"0 0 24 24\"\n",
              "       width=\"24px\">\n",
              "    <path d=\"M0 0h24v24H0V0z\" fill=\"none\"/>\n",
              "    <path d=\"M18.56 5.44l.94 2.06.94-2.06 2.06-.94-2.06-.94-.94-2.06-.94 2.06-2.06.94zm-11 1L8.5 8.5l.94-2.06 2.06-.94-2.06-.94L8.5 2.5l-.94 2.06-2.06.94zm10 10l.94 2.06.94-2.06 2.06-.94-2.06-.94-.94-2.06-.94 2.06-2.06.94z\"/><path d=\"M17.41 7.96l-1.37-1.37c-.4-.4-.92-.59-1.43-.59-.52 0-1.04.2-1.43.59L10.3 9.45l-7.72 7.72c-.78.78-.78 2.05 0 2.83L4 21.41c.39.39.9.59 1.41.59.51 0 1.02-.2 1.41-.59l7.78-7.78 2.81-2.81c.8-.78.8-2.07 0-2.86zM5.41 20L4 18.59l7.72-7.72 1.47 1.35L5.41 20z\"/>\n",
              "  </svg>\n",
              "      </button>\n",
              "      \n",
              "  <style>\n",
              "    .colab-df-container {\n",
              "      display:flex;\n",
              "      flex-wrap:wrap;\n",
              "      gap: 12px;\n",
              "    }\n",
              "\n",
              "    .colab-df-convert {\n",
              "      background-color: #E8F0FE;\n",
              "      border: none;\n",
              "      border-radius: 50%;\n",
              "      cursor: pointer;\n",
              "      display: none;\n",
              "      fill: #1967D2;\n",
              "      height: 32px;\n",
              "      padding: 0 0 0 0;\n",
              "      width: 32px;\n",
              "    }\n",
              "\n",
              "    .colab-df-convert:hover {\n",
              "      background-color: #E2EBFA;\n",
              "      box-shadow: 0px 1px 2px rgba(60, 64, 67, 0.3), 0px 1px 3px 1px rgba(60, 64, 67, 0.15);\n",
              "      fill: #174EA6;\n",
              "    }\n",
              "\n",
              "    [theme=dark] .colab-df-convert {\n",
              "      background-color: #3B4455;\n",
              "      fill: #D2E3FC;\n",
              "    }\n",
              "\n",
              "    [theme=dark] .colab-df-convert:hover {\n",
              "      background-color: #434B5C;\n",
              "      box-shadow: 0px 1px 3px 1px rgba(0, 0, 0, 0.15);\n",
              "      filter: drop-shadow(0px 1px 2px rgba(0, 0, 0, 0.3));\n",
              "      fill: #FFFFFF;\n",
              "    }\n",
              "  </style>\n",
              "\n",
              "      <script>\n",
              "        const buttonEl =\n",
              "          document.querySelector('#df-24d75195-4a37-4ad3-a8d3-d592b7733222 button.colab-df-convert');\n",
              "        buttonEl.style.display =\n",
              "          google.colab.kernel.accessAllowed ? 'block' : 'none';\n",
              "\n",
              "        async function convertToInteractive(key) {\n",
              "          const element = document.querySelector('#df-24d75195-4a37-4ad3-a8d3-d592b7733222');\n",
              "          const dataTable =\n",
              "            await google.colab.kernel.invokeFunction('convertToInteractive',\n",
              "                                                     [key], {});\n",
              "          if (!dataTable) return;\n",
              "\n",
              "          const docLinkHtml = 'Like what you see? Visit the ' +\n",
              "            '<a target=\"_blank\" href=https://colab.research.google.com/notebooks/data_table.ipynb>data table notebook</a>'\n",
              "            + ' to learn more about interactive tables.';\n",
              "          element.innerHTML = '';\n",
              "          dataTable['output_type'] = 'display_data';\n",
              "          await google.colab.output.renderOutput(dataTable, element);\n",
              "          const docLink = document.createElement('div');\n",
              "          docLink.innerHTML = docLinkHtml;\n",
              "          element.appendChild(docLink);\n",
              "        }\n",
              "      </script>\n",
              "    </div>\n",
              "  </div>\n",
              "  "
            ]
          },
          "metadata": {},
          "execution_count": 84
        }
      ]
    },
    {
      "cell_type": "code",
      "source": [
        "#criando um dataframe com as idades dos atores, temos:\n",
        "df_atores = pd.DataFrame({'Idades (anos)':base_dados['Atores']})\n",
        "categoria = []\n",
        "for i in df_atores.index:\n",
        "  categoria.append(int(0))\n",
        "df_atores['Categoria'] = categoria\n",
        "df_atores"
      ],
      "metadata": {
        "colab": {
          "base_uri": "https://localhost:8080/",
          "height": 423
        },
        "id": "qQ8KGLm2RuiV",
        "outputId": "2fa00db9-6bbc-469f-8893-fc8352416e83"
      },
      "execution_count": null,
      "outputs": [
        {
          "output_type": "execute_result",
          "data": {
            "text/plain": [
              "    Idades (anos)  Categoria\n",
              "0              44          0\n",
              "1              41          0\n",
              "2              62          0\n",
              "3              52          0\n",
              "4              41          0\n",
              "..            ...        ...\n",
              "77             38          0\n",
              "78             45          0\n",
              "79             50          0\n",
              "80             48          0\n",
              "81             60          0\n",
              "\n",
              "[82 rows x 2 columns]"
            ],
            "text/html": [
              "\n",
              "  <div id=\"df-f0cca312-93d6-47f5-967a-7d50d605cc10\">\n",
              "    <div class=\"colab-df-container\">\n",
              "      <div>\n",
              "<style scoped>\n",
              "    .dataframe tbody tr th:only-of-type {\n",
              "        vertical-align: middle;\n",
              "    }\n",
              "\n",
              "    .dataframe tbody tr th {\n",
              "        vertical-align: top;\n",
              "    }\n",
              "\n",
              "    .dataframe thead th {\n",
              "        text-align: right;\n",
              "    }\n",
              "</style>\n",
              "<table border=\"1\" class=\"dataframe\">\n",
              "  <thead>\n",
              "    <tr style=\"text-align: right;\">\n",
              "      <th></th>\n",
              "      <th>Idades (anos)</th>\n",
              "      <th>Categoria</th>\n",
              "    </tr>\n",
              "  </thead>\n",
              "  <tbody>\n",
              "    <tr>\n",
              "      <th>0</th>\n",
              "      <td>44</td>\n",
              "      <td>0</td>\n",
              "    </tr>\n",
              "    <tr>\n",
              "      <th>1</th>\n",
              "      <td>41</td>\n",
              "      <td>0</td>\n",
              "    </tr>\n",
              "    <tr>\n",
              "      <th>2</th>\n",
              "      <td>62</td>\n",
              "      <td>0</td>\n",
              "    </tr>\n",
              "    <tr>\n",
              "      <th>3</th>\n",
              "      <td>52</td>\n",
              "      <td>0</td>\n",
              "    </tr>\n",
              "    <tr>\n",
              "      <th>4</th>\n",
              "      <td>41</td>\n",
              "      <td>0</td>\n",
              "    </tr>\n",
              "    <tr>\n",
              "      <th>...</th>\n",
              "      <td>...</td>\n",
              "      <td>...</td>\n",
              "    </tr>\n",
              "    <tr>\n",
              "      <th>77</th>\n",
              "      <td>38</td>\n",
              "      <td>0</td>\n",
              "    </tr>\n",
              "    <tr>\n",
              "      <th>78</th>\n",
              "      <td>45</td>\n",
              "      <td>0</td>\n",
              "    </tr>\n",
              "    <tr>\n",
              "      <th>79</th>\n",
              "      <td>50</td>\n",
              "      <td>0</td>\n",
              "    </tr>\n",
              "    <tr>\n",
              "      <th>80</th>\n",
              "      <td>48</td>\n",
              "      <td>0</td>\n",
              "    </tr>\n",
              "    <tr>\n",
              "      <th>81</th>\n",
              "      <td>60</td>\n",
              "      <td>0</td>\n",
              "    </tr>\n",
              "  </tbody>\n",
              "</table>\n",
              "<p>82 rows × 2 columns</p>\n",
              "</div>\n",
              "      <button class=\"colab-df-convert\" onclick=\"convertToInteractive('df-f0cca312-93d6-47f5-967a-7d50d605cc10')\"\n",
              "              title=\"Convert this dataframe to an interactive table.\"\n",
              "              style=\"display:none;\">\n",
              "        \n",
              "  <svg xmlns=\"http://www.w3.org/2000/svg\" height=\"24px\"viewBox=\"0 0 24 24\"\n",
              "       width=\"24px\">\n",
              "    <path d=\"M0 0h24v24H0V0z\" fill=\"none\"/>\n",
              "    <path d=\"M18.56 5.44l.94 2.06.94-2.06 2.06-.94-2.06-.94-.94-2.06-.94 2.06-2.06.94zm-11 1L8.5 8.5l.94-2.06 2.06-.94-2.06-.94L8.5 2.5l-.94 2.06-2.06.94zm10 10l.94 2.06.94-2.06 2.06-.94-2.06-.94-.94-2.06-.94 2.06-2.06.94z\"/><path d=\"M17.41 7.96l-1.37-1.37c-.4-.4-.92-.59-1.43-.59-.52 0-1.04.2-1.43.59L10.3 9.45l-7.72 7.72c-.78.78-.78 2.05 0 2.83L4 21.41c.39.39.9.59 1.41.59.51 0 1.02-.2 1.41-.59l7.78-7.78 2.81-2.81c.8-.78.8-2.07 0-2.86zM5.41 20L4 18.59l7.72-7.72 1.47 1.35L5.41 20z\"/>\n",
              "  </svg>\n",
              "      </button>\n",
              "      \n",
              "  <style>\n",
              "    .colab-df-container {\n",
              "      display:flex;\n",
              "      flex-wrap:wrap;\n",
              "      gap: 12px;\n",
              "    }\n",
              "\n",
              "    .colab-df-convert {\n",
              "      background-color: #E8F0FE;\n",
              "      border: none;\n",
              "      border-radius: 50%;\n",
              "      cursor: pointer;\n",
              "      display: none;\n",
              "      fill: #1967D2;\n",
              "      height: 32px;\n",
              "      padding: 0 0 0 0;\n",
              "      width: 32px;\n",
              "    }\n",
              "\n",
              "    .colab-df-convert:hover {\n",
              "      background-color: #E2EBFA;\n",
              "      box-shadow: 0px 1px 2px rgba(60, 64, 67, 0.3), 0px 1px 3px 1px rgba(60, 64, 67, 0.15);\n",
              "      fill: #174EA6;\n",
              "    }\n",
              "\n",
              "    [theme=dark] .colab-df-convert {\n",
              "      background-color: #3B4455;\n",
              "      fill: #D2E3FC;\n",
              "    }\n",
              "\n",
              "    [theme=dark] .colab-df-convert:hover {\n",
              "      background-color: #434B5C;\n",
              "      box-shadow: 0px 1px 3px 1px rgba(0, 0, 0, 0.15);\n",
              "      filter: drop-shadow(0px 1px 2px rgba(0, 0, 0, 0.3));\n",
              "      fill: #FFFFFF;\n",
              "    }\n",
              "  </style>\n",
              "\n",
              "      <script>\n",
              "        const buttonEl =\n",
              "          document.querySelector('#df-f0cca312-93d6-47f5-967a-7d50d605cc10 button.colab-df-convert');\n",
              "        buttonEl.style.display =\n",
              "          google.colab.kernel.accessAllowed ? 'block' : 'none';\n",
              "\n",
              "        async function convertToInteractive(key) {\n",
              "          const element = document.querySelector('#df-f0cca312-93d6-47f5-967a-7d50d605cc10');\n",
              "          const dataTable =\n",
              "            await google.colab.kernel.invokeFunction('convertToInteractive',\n",
              "                                                     [key], {});\n",
              "          if (!dataTable) return;\n",
              "\n",
              "          const docLinkHtml = 'Like what you see? Visit the ' +\n",
              "            '<a target=\"_blank\" href=https://colab.research.google.com/notebooks/data_table.ipynb>data table notebook</a>'\n",
              "            + ' to learn more about interactive tables.';\n",
              "          element.innerHTML = '';\n",
              "          dataTable['output_type'] = 'display_data';\n",
              "          await google.colab.output.renderOutput(dataTable, element);\n",
              "          const docLink = document.createElement('div');\n",
              "          docLink.innerHTML = docLinkHtml;\n",
              "          element.appendChild(docLink);\n",
              "        }\n",
              "      </script>\n",
              "    </div>\n",
              "  </div>\n",
              "  "
            ]
          },
          "metadata": {},
          "execution_count": 85
        }
      ]
    },
    {
      "cell_type": "code",
      "source": [
        "#Concatenando os dois dataframes para obtermos um único dataframe com os dados de Atrizes e Atores, temos:\n",
        "df_concatenado = pd.concat([df_atrizes, df_atores], axis = 'index')\n",
        "df_concatenado.reset_index(inplace = True)\n",
        "df_concatenado.drop('index', axis = 'columns',inplace = True)\n",
        "df_concatenado"
      ],
      "metadata": {
        "colab": {
          "base_uri": "https://localhost:8080/",
          "height": 423
        },
        "id": "8N7EC1wHQjc1",
        "outputId": "9efca160-5787-432c-b8d2-e1ece2e74603"
      },
      "execution_count": null,
      "outputs": [
        {
          "output_type": "execute_result",
          "data": {
            "text/plain": [
              "     Idades (anos)  Categoria\n",
              "0               22          1\n",
              "1               37          1\n",
              "2               28          1\n",
              "3               63          1\n",
              "4               32          1\n",
              "..             ...        ...\n",
              "159             38          0\n",
              "160             45          0\n",
              "161             50          0\n",
              "162             48          0\n",
              "163             60          0\n",
              "\n",
              "[164 rows x 2 columns]"
            ],
            "text/html": [
              "\n",
              "  <div id=\"df-af4e370b-dfeb-4ac9-887f-611f5b9c93cf\">\n",
              "    <div class=\"colab-df-container\">\n",
              "      <div>\n",
              "<style scoped>\n",
              "    .dataframe tbody tr th:only-of-type {\n",
              "        vertical-align: middle;\n",
              "    }\n",
              "\n",
              "    .dataframe tbody tr th {\n",
              "        vertical-align: top;\n",
              "    }\n",
              "\n",
              "    .dataframe thead th {\n",
              "        text-align: right;\n",
              "    }\n",
              "</style>\n",
              "<table border=\"1\" class=\"dataframe\">\n",
              "  <thead>\n",
              "    <tr style=\"text-align: right;\">\n",
              "      <th></th>\n",
              "      <th>Idades (anos)</th>\n",
              "      <th>Categoria</th>\n",
              "    </tr>\n",
              "  </thead>\n",
              "  <tbody>\n",
              "    <tr>\n",
              "      <th>0</th>\n",
              "      <td>22</td>\n",
              "      <td>1</td>\n",
              "    </tr>\n",
              "    <tr>\n",
              "      <th>1</th>\n",
              "      <td>37</td>\n",
              "      <td>1</td>\n",
              "    </tr>\n",
              "    <tr>\n",
              "      <th>2</th>\n",
              "      <td>28</td>\n",
              "      <td>1</td>\n",
              "    </tr>\n",
              "    <tr>\n",
              "      <th>3</th>\n",
              "      <td>63</td>\n",
              "      <td>1</td>\n",
              "    </tr>\n",
              "    <tr>\n",
              "      <th>4</th>\n",
              "      <td>32</td>\n",
              "      <td>1</td>\n",
              "    </tr>\n",
              "    <tr>\n",
              "      <th>...</th>\n",
              "      <td>...</td>\n",
              "      <td>...</td>\n",
              "    </tr>\n",
              "    <tr>\n",
              "      <th>159</th>\n",
              "      <td>38</td>\n",
              "      <td>0</td>\n",
              "    </tr>\n",
              "    <tr>\n",
              "      <th>160</th>\n",
              "      <td>45</td>\n",
              "      <td>0</td>\n",
              "    </tr>\n",
              "    <tr>\n",
              "      <th>161</th>\n",
              "      <td>50</td>\n",
              "      <td>0</td>\n",
              "    </tr>\n",
              "    <tr>\n",
              "      <th>162</th>\n",
              "      <td>48</td>\n",
              "      <td>0</td>\n",
              "    </tr>\n",
              "    <tr>\n",
              "      <th>163</th>\n",
              "      <td>60</td>\n",
              "      <td>0</td>\n",
              "    </tr>\n",
              "  </tbody>\n",
              "</table>\n",
              "<p>164 rows × 2 columns</p>\n",
              "</div>\n",
              "      <button class=\"colab-df-convert\" onclick=\"convertToInteractive('df-af4e370b-dfeb-4ac9-887f-611f5b9c93cf')\"\n",
              "              title=\"Convert this dataframe to an interactive table.\"\n",
              "              style=\"display:none;\">\n",
              "        \n",
              "  <svg xmlns=\"http://www.w3.org/2000/svg\" height=\"24px\"viewBox=\"0 0 24 24\"\n",
              "       width=\"24px\">\n",
              "    <path d=\"M0 0h24v24H0V0z\" fill=\"none\"/>\n",
              "    <path d=\"M18.56 5.44l.94 2.06.94-2.06 2.06-.94-2.06-.94-.94-2.06-.94 2.06-2.06.94zm-11 1L8.5 8.5l.94-2.06 2.06-.94-2.06-.94L8.5 2.5l-.94 2.06-2.06.94zm10 10l.94 2.06.94-2.06 2.06-.94-2.06-.94-.94-2.06-.94 2.06-2.06.94z\"/><path d=\"M17.41 7.96l-1.37-1.37c-.4-.4-.92-.59-1.43-.59-.52 0-1.04.2-1.43.59L10.3 9.45l-7.72 7.72c-.78.78-.78 2.05 0 2.83L4 21.41c.39.39.9.59 1.41.59.51 0 1.02-.2 1.41-.59l7.78-7.78 2.81-2.81c.8-.78.8-2.07 0-2.86zM5.41 20L4 18.59l7.72-7.72 1.47 1.35L5.41 20z\"/>\n",
              "  </svg>\n",
              "      </button>\n",
              "      \n",
              "  <style>\n",
              "    .colab-df-container {\n",
              "      display:flex;\n",
              "      flex-wrap:wrap;\n",
              "      gap: 12px;\n",
              "    }\n",
              "\n",
              "    .colab-df-convert {\n",
              "      background-color: #E8F0FE;\n",
              "      border: none;\n",
              "      border-radius: 50%;\n",
              "      cursor: pointer;\n",
              "      display: none;\n",
              "      fill: #1967D2;\n",
              "      height: 32px;\n",
              "      padding: 0 0 0 0;\n",
              "      width: 32px;\n",
              "    }\n",
              "\n",
              "    .colab-df-convert:hover {\n",
              "      background-color: #E2EBFA;\n",
              "      box-shadow: 0px 1px 2px rgba(60, 64, 67, 0.3), 0px 1px 3px 1px rgba(60, 64, 67, 0.15);\n",
              "      fill: #174EA6;\n",
              "    }\n",
              "\n",
              "    [theme=dark] .colab-df-convert {\n",
              "      background-color: #3B4455;\n",
              "      fill: #D2E3FC;\n",
              "    }\n",
              "\n",
              "    [theme=dark] .colab-df-convert:hover {\n",
              "      background-color: #434B5C;\n",
              "      box-shadow: 0px 1px 3px 1px rgba(0, 0, 0, 0.15);\n",
              "      filter: drop-shadow(0px 1px 2px rgba(0, 0, 0, 0.3));\n",
              "      fill: #FFFFFF;\n",
              "    }\n",
              "  </style>\n",
              "\n",
              "      <script>\n",
              "        const buttonEl =\n",
              "          document.querySelector('#df-af4e370b-dfeb-4ac9-887f-611f5b9c93cf button.colab-df-convert');\n",
              "        buttonEl.style.display =\n",
              "          google.colab.kernel.accessAllowed ? 'block' : 'none';\n",
              "\n",
              "        async function convertToInteractive(key) {\n",
              "          const element = document.querySelector('#df-af4e370b-dfeb-4ac9-887f-611f5b9c93cf');\n",
              "          const dataTable =\n",
              "            await google.colab.kernel.invokeFunction('convertToInteractive',\n",
              "                                                     [key], {});\n",
              "          if (!dataTable) return;\n",
              "\n",
              "          const docLinkHtml = 'Like what you see? Visit the ' +\n",
              "            '<a target=\"_blank\" href=https://colab.research.google.com/notebooks/data_table.ipynb>data table notebook</a>'\n",
              "            + ' to learn more about interactive tables.';\n",
              "          element.innerHTML = '';\n",
              "          dataTable['output_type'] = 'display_data';\n",
              "          await google.colab.output.renderOutput(dataTable, element);\n",
              "          const docLink = document.createElement('div');\n",
              "          docLink.innerHTML = docLinkHtml;\n",
              "          element.appendChild(docLink);\n",
              "        }\n",
              "      </script>\n",
              "    </div>\n",
              "  </div>\n",
              "  "
            ]
          },
          "metadata": {},
          "execution_count": 86
        }
      ]
    },
    {
      "cell_type": "code",
      "source": [
        "ax = sns.boxplot(x = 'Categoria',y = 'Idades (anos)', data = df_concatenado)\n",
        "ax.figure.set_size_inches(14,8) #tamanho da figura\n",
        "ax.set_title('Idades dos vencedores do Oscar de Melhor Atriz e Melhor Ator',fontsize = 18) #configurando o título do gráfico\n",
        "\n",
        "ax.set_xlabel('Categoria',fontsize = 14) #configurando o eixo x\n",
        "\n",
        "ax.set_xticklabels(labels = ['Melhor Ator','Melhor Atriz'], fontsize = 12) #configurando os labels do eixo x\n",
        "\n",
        "ax.set(ylim=(0, 90)) #configurando limite inferior e superior do eixo y\n",
        "\n",
        "ax.set_yticks([i for i in range(0,95,5)])\n",
        "\n",
        "ax"
      ],
      "metadata": {
        "colab": {
          "base_uri": "https://localhost:8080/",
          "height": 542
        },
        "id": "BdVnE3PwOUCs",
        "outputId": "1c0c3dd1-8be8-4449-acc1-3ee4d8c137a2"
      },
      "execution_count": null,
      "outputs": [
        {
          "output_type": "execute_result",
          "data": {
            "text/plain": [
              "<matplotlib.axes._subplots.AxesSubplot at 0x7f121f170450>"
            ]
          },
          "metadata": {},
          "execution_count": 87
        },
        {
          "output_type": "display_data",
          "data": {
            "text/plain": [
              "<Figure size 1008x576 with 1 Axes>"
            ],
            "image/png": "[encoded data removed]"
          },
          "metadata": {
            "needs_background": "light"
          }
        }
      ]
    },
    {
      "cell_type": "markdown",
      "source": [
        "Os diagramas de caixa modificados sugerem que os vencedores da categoria \"Melhor Ator\" possuem mais idade que as vencedoras da categoria \"Melhor Atriz\". Portanto, aparentemente as mulheres vencem os prêmios mais cedo que os homens."
      ],
      "metadata": {
        "id": "YhGUS5rHX3hG"
      }
    },
    {
      "cell_type": "markdown",
      "source": [
        "**Medidas de centro**"
      ],
      "metadata": {
        "id": "cZ1teawEhBX2"
      }
    },
    {
      "cell_type": "markdown",
      "source": [
        "Calculando as medidas de centro (média e mediana) para ambos os conjuntos de dados, temos:"
      ],
      "metadata": {
        "id": "XMtrQwvchEvn"
      }
    },
    {
      "cell_type": "code",
      "source": [
        "#Calculando a média de idades para a categoria \"Melhor Atriz\", temos:\n",
        "media = base_dados['Atrizes'].mean()\n",
        "print('A média de idades das atrizes vencedoras é {} anos'.format(media))"
      ],
      "metadata": {
        "colab": {
          "base_uri": "https://localhost:8080/"
        },
        "id": "weASl7f_hMvO",
        "outputId": "449ef555-f4d4-43b3-8317-a65663ffd297"
      },
      "execution_count": null,
      "outputs": [
        {
          "output_type": "stream",
          "name": "stdout",
          "text": [
            "A média de idades das atrizes vencedoras é 35.8780487804878 anos\n"
          ]
        }
      ]
    },
    {
      "cell_type": "code",
      "source": [
        "#Calculando a mediana de idades para a categoria \"Melhor Atriz\", temos:\n",
        "mediana = base_dados['Atrizes'].median()\n",
        "print('A mediana de idades das atrizes vencedoras é {} anos'.format(mediana))"
      ],
      "metadata": {
        "colab": {
          "base_uri": "https://localhost:8080/"
        },
        "id": "9kJrb2WnhyMu",
        "outputId": "8daa5eb9-cb88-4b01-d523-9edd71d90773"
      },
      "execution_count": null,
      "outputs": [
        {
          "output_type": "stream",
          "name": "stdout",
          "text": [
            "A mediana de idades das atrizes vencedoras é 33.0 anos\n"
          ]
        }
      ]
    },
    {
      "cell_type": "code",
      "source": [
        "#Calculando a média de idades para a categoria \"Melhor Ator\", temos:\n",
        "media= base_dados['Atores'].mean()\n",
        "print('A média de idades dos atores vencedores é {} anos'.format(media))"
      ],
      "metadata": {
        "colab": {
          "base_uri": "https://localhost:8080/"
        },
        "id": "BRiGfsqShqvw",
        "outputId": "2fe54b84-5853-4343-b864-1aca9019be30"
      },
      "execution_count": null,
      "outputs": [
        {
          "output_type": "stream",
          "name": "stdout",
          "text": [
            "A média de idades dos atores vencedores é 44.1219512195122 anos\n"
          ]
        }
      ]
    },
    {
      "cell_type": "code",
      "source": [
        "#Calculando a mediana de idades para a categoria \"Melhor Ator\", temos:\n",
        "mediana= base_dados['Atores'].median()\n",
        "print('A mediana de idades dos atores vencedores é {} anos'.format(mediana))"
      ],
      "metadata": {
        "colab": {
          "base_uri": "https://localhost:8080/"
        },
        "id": "Qgje51_5iDmn",
        "outputId": "d7b910e6-f254-4c73-a046-8b90342b74c5"
      },
      "execution_count": null,
      "outputs": [
        {
          "output_type": "stream",
          "name": "stdout",
          "text": [
            "A mediana de idades dos atores vencedores é 42.0 anos\n"
          ]
        }
      ]
    },
    {
      "cell_type": "markdown",
      "source": [
        "outra forma de calcular as estatísticas dos dados é utilizando o método \".groupby()\""
      ],
      "metadata": {
        "id": "Z2MH9v3diK9K"
      }
    },
    {
      "cell_type": "code",
      "source": [
        "#Agrupando, temos:\n",
        "df_agrupado = df_concatenado.groupby(by = 'Categoria')"
      ],
      "metadata": {
        "id": "pIEsL2pZitHY"
      },
      "execution_count": null,
      "outputs": []
    },
    {
      "cell_type": "code",
      "source": [
        "#Calculando a média:\n",
        "nome_coluna = {'Idades (anos)':'Média de idades'}\n",
        "nome_indices = {0:'Atores',\n",
        "                1:'Atrizes'}\n",
        "df_media = df_agrupado.mean()\n",
        "df_media.rename(nome_coluna, axis = 'columns', inplace = True)\n",
        "df_media.rename(nome_indices, axis = 'index', inplace = True)\n",
        "df_media"
      ],
      "metadata": {
        "colab": {
          "base_uri": "https://localhost:8080/",
          "height": 143
        },
        "id": "SKMGGchUktkT",
        "outputId": "17560750-e4bc-41e9-be80-a63a05d6e030"
      },
      "execution_count": null,
      "outputs": [
        {
          "output_type": "execute_result",
          "data": {
            "text/plain": [
              "           Média de idades\n",
              "Categoria                 \n",
              "Atores           44.121951\n",
              "Atrizes          35.878049"
            ],
            "text/html": [
              "\n",
              "  <div id=\"df-15af5138-ffae-46f0-814e-742667a48fac\">\n",
              "    <div class=\"colab-df-container\">\n",
              "      <div>\n",
              "<style scoped>\n",
              "    .dataframe tbody tr th:only-of-type {\n",
              "        vertical-align: middle;\n",
              "    }\n",
              "\n",
              "    .dataframe tbody tr th {\n",
              "        vertical-align: top;\n",
              "    }\n",
              "\n",
              "    .dataframe thead th {\n",
              "        text-align: right;\n",
              "    }\n",
              "</style>\n",
              "<table border=\"1\" class=\"dataframe\">\n",
              "  <thead>\n",
              "    <tr style=\"text-align: right;\">\n",
              "      <th></th>\n",
              "      <th>Média de idades</th>\n",
              "    </tr>\n",
              "    <tr>\n",
              "      <th>Categoria</th>\n",
              "      <th></th>\n",
              "    </tr>\n",
              "  </thead>\n",
              "  <tbody>\n",
              "    <tr>\n",
              "      <th>Atores</th>\n",
              "      <td>44.121951</td>\n",
              "    </tr>\n",
              "    <tr>\n",
              "      <th>Atrizes</th>\n",
              "      <td>35.878049</td>\n",
              "    </tr>\n",
              "  </tbody>\n",
              "</table>\n",
              "</div>\n",
              "      <button class=\"colab-df-convert\" onclick=\"convertToInteractive('df-15af5138-ffae-46f0-814e-742667a48fac')\"\n",
              "              title=\"Convert this dataframe to an interactive table.\"\n",
              "              style=\"display:none;\">\n",
              "        \n",
              "  <svg xmlns=\"http://www.w3.org/2000/svg\" height=\"24px\"viewBox=\"0 0 24 24\"\n",
              "       width=\"24px\">\n",
              "    <path d=\"M0 0h24v24H0V0z\" fill=\"none\"/>\n",
              "    <path d=\"M18.56 5.44l.94 2.06.94-2.06 2.06-.94-2.06-.94-.94-2.06-.94 2.06-2.06.94zm-11 1L8.5 8.5l.94-2.06 2.06-.94-2.06-.94L8.5 2.5l-.94 2.06-2.06.94zm10 10l.94 2.06.94-2.06 2.06-.94-2.06-.94-.94-2.06-.94 2.06-2.06.94z\"/><path d=\"M17.41 7.96l-1.37-1.37c-.4-.4-.92-.59-1.43-.59-.52 0-1.04.2-1.43.59L10.3 9.45l-7.72 7.72c-.78.78-.78 2.05 0 2.83L4 21.41c.39.39.9.59 1.41.59.51 0 1.02-.2 1.41-.59l7.78-7.78 2.81-2.81c.8-.78.8-2.07 0-2.86zM5.41 20L4 18.59l7.72-7.72 1.47 1.35L5.41 20z\"/>\n",
              "  </svg>\n",
              "      </button>\n",
              "      \n",
              "  <style>\n",
              "    .colab-df-container {\n",
              "      display:flex;\n",
              "      flex-wrap:wrap;\n",
              "      gap: 12px;\n",
              "    }\n",
              "\n",
              "    .colab-df-convert {\n",
              "      background-color: #E8F0FE;\n",
              "      border: none;\n",
              "      border-radius: 50%;\n",
              "      cursor: pointer;\n",
              "      display: none;\n",
              "      fill: #1967D2;\n",
              "      height: 32px;\n",
              "      padding: 0 0 0 0;\n",
              "      width: 32px;\n",
              "    }\n",
              "\n",
              "    .colab-df-convert:hover {\n",
              "      background-color: #E2EBFA;\n",
              "      box-shadow: 0px 1px 2px rgba(60, 64, 67, 0.3), 0px 1px 3px 1px rgba(60, 64, 67, 0.15);\n",
              "      fill: #174EA6;\n",
              "    }\n",
              "\n",
              "    [theme=dark] .colab-df-convert {\n",
              "      background-color: #3B4455;\n",
              "      fill: #D2E3FC;\n",
              "    }\n",
              "\n",
              "    [theme=dark] .colab-df-convert:hover {\n",
              "      background-color: #434B5C;\n",
              "      box-shadow: 0px 1px 3px 1px rgba(0, 0, 0, 0.15);\n",
              "      filter: drop-shadow(0px 1px 2px rgba(0, 0, 0, 0.3));\n",
              "      fill: #FFFFFF;\n",
              "    }\n",
              "  </style>\n",
              "\n",
              "      <script>\n",
              "        const buttonEl =\n",
              "          document.querySelector('#df-15af5138-ffae-46f0-814e-742667a48fac button.colab-df-convert');\n",
              "        buttonEl.style.display =\n",
              "          google.colab.kernel.accessAllowed ? 'block' : 'none';\n",
              "\n",
              "        async function convertToInteractive(key) {\n",
              "          const element = document.querySelector('#df-15af5138-ffae-46f0-814e-742667a48fac');\n",
              "          const dataTable =\n",
              "            await google.colab.kernel.invokeFunction('convertToInteractive',\n",
              "                                                     [key], {});\n",
              "          if (!dataTable) return;\n",
              "\n",
              "          const docLinkHtml = 'Like what you see? Visit the ' +\n",
              "            '<a target=\"_blank\" href=https://colab.research.google.com/notebooks/data_table.ipynb>data table notebook</a>'\n",
              "            + ' to learn more about interactive tables.';\n",
              "          element.innerHTML = '';\n",
              "          dataTable['output_type'] = 'display_data';\n",
              "          await google.colab.output.renderOutput(dataTable, element);\n",
              "          const docLink = document.createElement('div');\n",
              "          docLink.innerHTML = docLinkHtml;\n",
              "          element.appendChild(docLink);\n",
              "        }\n",
              "      </script>\n",
              "    </div>\n",
              "  </div>\n",
              "  "
            ]
          },
          "metadata": {},
          "execution_count": 112
        }
      ]
    },
    {
      "cell_type": "code",
      "source": [
        "#Calculando a mediana:\n",
        "nome_coluna = {'Idades (anos)':'Mediana das idades'}\n",
        "nome_indices = {0:'Atores',\n",
        "                1:'Atrizes'}\n",
        "df_mediana = df_agrupado.median()\n",
        "df_mediana.rename(nome_coluna, axis = 'columns', inplace = True)\n",
        "df_mediana.rename(nome_indices, axis = 'index', inplace = True)\n",
        "df_mediana"
      ],
      "metadata": {
        "colab": {
          "base_uri": "https://localhost:8080/",
          "height": 143
        },
        "id": "6V3XWZo-ktEC",
        "outputId": "bf14ea12-f1f1-4616-caae-c25e9d6bdaa5"
      },
      "execution_count": null,
      "outputs": [
        {
          "output_type": "execute_result",
          "data": {
            "text/plain": [
              "           Mediana das idades\n",
              "Categoria                    \n",
              "Atores                   42.0\n",
              "Atrizes                  33.0"
            ],
            "text/html": [
              "\n",
              "  <div id=\"df-9baf8a7e-f91e-4799-8d85-45811cbc80b6\">\n",
              "    <div class=\"colab-df-container\">\n",
              "      <div>\n",
              "<style scoped>\n",
              "    .dataframe tbody tr th:only-of-type {\n",
              "        vertical-align: middle;\n",
              "    }\n",
              "\n",
              "    .dataframe tbody tr th {\n",
              "        vertical-align: top;\n",
              "    }\n",
              "\n",
              "    .dataframe thead th {\n",
              "        text-align: right;\n",
              "    }\n",
              "</style>\n",
              "<table border=\"1\" class=\"dataframe\">\n",
              "  <thead>\n",
              "    <tr style=\"text-align: right;\">\n",
              "      <th></th>\n",
              "      <th>Mediana das idades</th>\n",
              "    </tr>\n",
              "    <tr>\n",
              "      <th>Categoria</th>\n",
              "      <th></th>\n",
              "    </tr>\n",
              "  </thead>\n",
              "  <tbody>\n",
              "    <tr>\n",
              "      <th>Atores</th>\n",
              "      <td>42.0</td>\n",
              "    </tr>\n",
              "    <tr>\n",
              "      <th>Atrizes</th>\n",
              "      <td>33.0</td>\n",
              "    </tr>\n",
              "  </tbody>\n",
              "</table>\n",
              "</div>\n",
              "      <button class=\"colab-df-convert\" onclick=\"convertToInteractive('df-9baf8a7e-f91e-4799-8d85-45811cbc80b6')\"\n",
              "              title=\"Convert this dataframe to an interactive table.\"\n",
              "              style=\"display:none;\">\n",
              "        \n",
              "  <svg xmlns=\"http://www.w3.org/2000/svg\" height=\"24px\"viewBox=\"0 0 24 24\"\n",
              "       width=\"24px\">\n",
              "    <path d=\"M0 0h24v24H0V0z\" fill=\"none\"/>\n",
              "    <path d=\"M18.56 5.44l.94 2.06.94-2.06 2.06-.94-2.06-.94-.94-2.06-.94 2.06-2.06.94zm-11 1L8.5 8.5l.94-2.06 2.06-.94-2.06-.94L8.5 2.5l-.94 2.06-2.06.94zm10 10l.94 2.06.94-2.06 2.06-.94-2.06-.94-.94-2.06-.94 2.06-2.06.94z\"/><path d=\"M17.41 7.96l-1.37-1.37c-.4-.4-.92-.59-1.43-.59-.52 0-1.04.2-1.43.59L10.3 9.45l-7.72 7.72c-.78.78-.78 2.05 0 2.83L4 21.41c.39.39.9.59 1.41.59.51 0 1.02-.2 1.41-.59l7.78-7.78 2.81-2.81c.8-.78.8-2.07 0-2.86zM5.41 20L4 18.59l7.72-7.72 1.47 1.35L5.41 20z\"/>\n",
              "  </svg>\n",
              "      </button>\n",
              "      \n",
              "  <style>\n",
              "    .colab-df-container {\n",
              "      display:flex;\n",
              "      flex-wrap:wrap;\n",
              "      gap: 12px;\n",
              "    }\n",
              "\n",
              "    .colab-df-convert {\n",
              "      background-color: #E8F0FE;\n",
              "      border: none;\n",
              "      border-radius: 50%;\n",
              "      cursor: pointer;\n",
              "      display: none;\n",
              "      fill: #1967D2;\n",
              "      height: 32px;\n",
              "      padding: 0 0 0 0;\n",
              "      width: 32px;\n",
              "    }\n",
              "\n",
              "    .colab-df-convert:hover {\n",
              "      background-color: #E2EBFA;\n",
              "      box-shadow: 0px 1px 2px rgba(60, 64, 67, 0.3), 0px 1px 3px 1px rgba(60, 64, 67, 0.15);\n",
              "      fill: #174EA6;\n",
              "    }\n",
              "\n",
              "    [theme=dark] .colab-df-convert {\n",
              "      background-color: #3B4455;\n",
              "      fill: #D2E3FC;\n",
              "    }\n",
              "\n",
              "    [theme=dark] .colab-df-convert:hover {\n",
              "      background-color: #434B5C;\n",
              "      box-shadow: 0px 1px 3px 1px rgba(0, 0, 0, 0.15);\n",
              "      filter: drop-shadow(0px 1px 2px rgba(0, 0, 0, 0.3));\n",
              "      fill: #FFFFFF;\n",
              "    }\n",
              "  </style>\n",
              "\n",
              "      <script>\n",
              "        const buttonEl =\n",
              "          document.querySelector('#df-9baf8a7e-f91e-4799-8d85-45811cbc80b6 button.colab-df-convert');\n",
              "        buttonEl.style.display =\n",
              "          google.colab.kernel.accessAllowed ? 'block' : 'none';\n",
              "\n",
              "        async function convertToInteractive(key) {\n",
              "          const element = document.querySelector('#df-9baf8a7e-f91e-4799-8d85-45811cbc80b6');\n",
              "          const dataTable =\n",
              "            await google.colab.kernel.invokeFunction('convertToInteractive',\n",
              "                                                     [key], {});\n",
              "          if (!dataTable) return;\n",
              "\n",
              "          const docLinkHtml = 'Like what you see? Visit the ' +\n",
              "            '<a target=\"_blank\" href=https://colab.research.google.com/notebooks/data_table.ipynb>data table notebook</a>'\n",
              "            + ' to learn more about interactive tables.';\n",
              "          element.innerHTML = '';\n",
              "          dataTable['output_type'] = 'display_data';\n",
              "          await google.colab.output.renderOutput(dataTable, element);\n",
              "          const docLink = document.createElement('div');\n",
              "          docLink.innerHTML = docLinkHtml;\n",
              "          element.appendChild(docLink);\n",
              "        }\n",
              "      </script>\n",
              "    </div>\n",
              "  </div>\n",
              "  "
            ]
          },
          "metadata": {},
          "execution_count": 113
        }
      ]
    },
    {
      "cell_type": "code",
      "source": [
        "#concatenando ambos os dataframes, temos:\n",
        "df_stats_concatenado = pd.concat([df_mediana,df_media], axis = 'columns')\n",
        "df_stats_concatenado"
      ],
      "metadata": {
        "colab": {
          "base_uri": "https://localhost:8080/",
          "height": 143
        },
        "id": "QPGAtKVbm15y",
        "outputId": "487bd8a2-8a3b-4144-f1b0-afd712e95893"
      },
      "execution_count": null,
      "outputs": [
        {
          "output_type": "execute_result",
          "data": {
            "text/plain": [
              "           Mediana das idades  Média de idades\n",
              "Categoria                                     \n",
              "Atores                   42.0        44.121951\n",
              "Atrizes                  33.0        35.878049"
            ],
            "text/html": [
              "\n",
              "  <div id=\"df-7d134bae-bd57-4149-8032-6d2d274d8a41\">\n",
              "    <div class=\"colab-df-container\">\n",
              "      <div>\n",
              "<style scoped>\n",
              "    .dataframe tbody tr th:only-of-type {\n",
              "        vertical-align: middle;\n",
              "    }\n",
              "\n",
              "    .dataframe tbody tr th {\n",
              "        vertical-align: top;\n",
              "    }\n",
              "\n",
              "    .dataframe thead th {\n",
              "        text-align: right;\n",
              "    }\n",
              "</style>\n",
              "<table border=\"1\" class=\"dataframe\">\n",
              "  <thead>\n",
              "    <tr style=\"text-align: right;\">\n",
              "      <th></th>\n",
              "      <th>Mediana das idades</th>\n",
              "      <th>Média de idades</th>\n",
              "    </tr>\n",
              "    <tr>\n",
              "      <th>Categoria</th>\n",
              "      <th></th>\n",
              "      <th></th>\n",
              "    </tr>\n",
              "  </thead>\n",
              "  <tbody>\n",
              "    <tr>\n",
              "      <th>Atores</th>\n",
              "      <td>42.0</td>\n",
              "      <td>44.121951</td>\n",
              "    </tr>\n",
              "    <tr>\n",
              "      <th>Atrizes</th>\n",
              "      <td>33.0</td>\n",
              "      <td>35.878049</td>\n",
              "    </tr>\n",
              "  </tbody>\n",
              "</table>\n",
              "</div>\n",
              "      <button class=\"colab-df-convert\" onclick=\"convertToInteractive('df-7d134bae-bd57-4149-8032-6d2d274d8a41')\"\n",
              "              title=\"Convert this dataframe to an interactive table.\"\n",
              "              style=\"display:none;\">\n",
              "        \n",
              "  <svg xmlns=\"http://www.w3.org/2000/svg\" height=\"24px\"viewBox=\"0 0 24 24\"\n",
              "       width=\"24px\">\n",
              "    <path d=\"M0 0h24v24H0V0z\" fill=\"none\"/>\n",
              "    <path d=\"M18.56 5.44l.94 2.06.94-2.06 2.06-.94-2.06-.94-.94-2.06-.94 2.06-2.06.94zm-11 1L8.5 8.5l.94-2.06 2.06-.94-2.06-.94L8.5 2.5l-.94 2.06-2.06.94zm10 10l.94 2.06.94-2.06 2.06-.94-2.06-.94-.94-2.06-.94 2.06-2.06.94z\"/><path d=\"M17.41 7.96l-1.37-1.37c-.4-.4-.92-.59-1.43-.59-.52 0-1.04.2-1.43.59L10.3 9.45l-7.72 7.72c-.78.78-.78 2.05 0 2.83L4 21.41c.39.39.9.59 1.41.59.51 0 1.02-.2 1.41-.59l7.78-7.78 2.81-2.81c.8-.78.8-2.07 0-2.86zM5.41 20L4 18.59l7.72-7.72 1.47 1.35L5.41 20z\"/>\n",
              "  </svg>\n",
              "      </button>\n",
              "      \n",
              "  <style>\n",
              "    .colab-df-container {\n",
              "      display:flex;\n",
              "      flex-wrap:wrap;\n",
              "      gap: 12px;\n",
              "    }\n",
              "\n",
              "    .colab-df-convert {\n",
              "      background-color: #E8F0FE;\n",
              "      border: none;\n",
              "      border-radius: 50%;\n",
              "      cursor: pointer;\n",
              "      display: none;\n",
              "      fill: #1967D2;\n",
              "      height: 32px;\n",
              "      padding: 0 0 0 0;\n",
              "      width: 32px;\n",
              "    }\n",
              "\n",
              "    .colab-df-convert:hover {\n",
              "      background-color: #E2EBFA;\n",
              "      box-shadow: 0px 1px 2px rgba(60, 64, 67, 0.3), 0px 1px 3px 1px rgba(60, 64, 67, 0.15);\n",
              "      fill: #174EA6;\n",
              "    }\n",
              "\n",
              "    [theme=dark] .colab-df-convert {\n",
              "      background-color: #3B4455;\n",
              "      fill: #D2E3FC;\n",
              "    }\n",
              "\n",
              "    [theme=dark] .colab-df-convert:hover {\n",
              "      background-color: #434B5C;\n",
              "      box-shadow: 0px 1px 3px 1px rgba(0, 0, 0, 0.15);\n",
              "      filter: drop-shadow(0px 1px 2px rgba(0, 0, 0, 0.3));\n",
              "      fill: #FFFFFF;\n",
              "    }\n",
              "  </style>\n",
              "\n",
              "      <script>\n",
              "        const buttonEl =\n",
              "          document.querySelector('#df-7d134bae-bd57-4149-8032-6d2d274d8a41 button.colab-df-convert');\n",
              "        buttonEl.style.display =\n",
              "          google.colab.kernel.accessAllowed ? 'block' : 'none';\n",
              "\n",
              "        async function convertToInteractive(key) {\n",
              "          const element = document.querySelector('#df-7d134bae-bd57-4149-8032-6d2d274d8a41');\n",
              "          const dataTable =\n",
              "            await google.colab.kernel.invokeFunction('convertToInteractive',\n",
              "                                                     [key], {});\n",
              "          if (!dataTable) return;\n",
              "\n",
              "          const docLinkHtml = 'Like what you see? Visit the ' +\n",
              "            '<a target=\"_blank\" href=https://colab.research.google.com/notebooks/data_table.ipynb>data table notebook</a>'\n",
              "            + ' to learn more about interactive tables.';\n",
              "          element.innerHTML = '';\n",
              "          dataTable['output_type'] = 'display_data';\n",
              "          await google.colab.output.renderOutput(dataTable, element);\n",
              "          const docLink = document.createElement('div');\n",
              "          docLink.innerHTML = docLinkHtml;\n",
              "          element.appendChild(docLink);\n",
              "        }\n",
              "      </script>\n",
              "    </div>\n",
              "  </div>\n",
              "  "
            ]
          },
          "metadata": {},
          "execution_count": 114
        }
      ]
    },
    {
      "cell_type": "markdown",
      "source": [
        "A partir das medidas de centro obtidas acima, aparentemente os atores vencedores possuem mais idade que as Atrizes vencedoras, o que pode indicar uma influência do sexo na premiação."
      ],
      "metadata": {
        "id": "CVoep110nbUg"
      }
    },
    {
      "cell_type": "markdown",
      "source": [
        "## Conjunto de Dados 19: Pesos e Volumes de Refrigerantes"
      ],
      "metadata": {
        "id": "pC6-S5Xgbo1e"
      }
    },
    {
      "cell_type": "markdown",
      "source": [
        "**Contexto dos dados**"
      ],
      "metadata": {
        "id": "K59oCWtbbsmV"
      }
    },
    {
      "cell_type": "markdown",
      "source": [
        "O conjunto de dados apresenta pesos e volumes de refrigerantes da marca Coca-Cola e Pepsi para refrigerantes normais e dietéticos. O peso está em libras e o volume em onças.\n"
      ],
      "metadata": {
        "id": "MaAJLM1ebu5m"
      }
    },
    {
      "cell_type": "code",
      "source": [
        "#Abrindo a base de dados, temos:\n",
        "base_dados = pd.read_csv('COLA.csv')\n",
        "base_dados.head()"
      ],
      "metadata": {
        "colab": {
          "base_uri": "https://localhost:8080/",
          "height": 206
        },
        "id": "Dc3qcAfucG31",
        "outputId": "200fdfbf-6425-4897-85d1-ad72872ef01d"
      },
      "execution_count": null,
      "outputs": [
        {
          "output_type": "execute_result",
          "data": {
            "text/plain": [
              "   CKREGWT  CKREGVOL  CKDIETWT  CKDTVOL  PPREGWT  PPREGVOL  PPDIETWT  PPDTVOL\n",
              "0   0.8192      12.3    0.7773     12.1   0.8258      12.4    0.7925     12.3\n",
              "1   0.8150      12.1    0.7758     12.1   0.8156      12.2    0.7868     12.2\n",
              "2   0.8163      12.2    0.7896     12.3   0.8211      12.2    0.7846     12.2\n",
              "3   0.8211      12.3    0.7868     12.3   0.8170      12.2    0.7938     12.3\n",
              "4   0.8181      12.2    0.7844     12.2   0.8216      12.2    0.7861     12.2"
            ],
            "text/html": [
              "\n",
              "  <div id=\"df-e5189c59-26f1-42e9-afb3-0e97f85b54e7\">\n",
              "    <div class=\"colab-df-container\">\n",
              "      <div>\n",
              "<style scoped>\n",
              "    .dataframe tbody tr th:only-of-type {\n",
              "        vertical-align: middle;\n",
              "    }\n",
              "\n",
              "    .dataframe tbody tr th {\n",
              "        vertical-align: top;\n",
              "    }\n",
              "\n",
              "    .dataframe thead th {\n",
              "        text-align: right;\n",
              "    }\n",
              "</style>\n",
              "<table border=\"1\" class=\"dataframe\">\n",
              "  <thead>\n",
              "    <tr style=\"text-align: right;\">\n",
              "      <th></th>\n",
              "      <th>CKREGWT</th>\n",
              "      <th>CKREGVOL</th>\n",
              "      <th>CKDIETWT</th>\n",
              "      <th>CKDTVOL</th>\n",
              "      <th>PPREGWT</th>\n",
              "      <th>PPREGVOL</th>\n",
              "      <th>PPDIETWT</th>\n",
              "      <th>PPDTVOL</th>\n",
              "    </tr>\n",
              "  </thead>\n",
              "  <tbody>\n",
              "    <tr>\n",
              "      <th>0</th>\n",
              "      <td>0.8192</td>\n",
              "      <td>12.3</td>\n",
              "      <td>0.7773</td>\n",
              "      <td>12.1</td>\n",
              "      <td>0.8258</td>\n",
              "      <td>12.4</td>\n",
              "      <td>0.7925</td>\n",
              "      <td>12.3</td>\n",
              "    </tr>\n",
              "    <tr>\n",
              "      <th>1</th>\n",
              "      <td>0.8150</td>\n",
              "      <td>12.1</td>\n",
              "      <td>0.7758</td>\n",
              "      <td>12.1</td>\n",
              "      <td>0.8156</td>\n",
              "      <td>12.2</td>\n",
              "      <td>0.7868</td>\n",
              "      <td>12.2</td>\n",
              "    </tr>\n",
              "    <tr>\n",
              "      <th>2</th>\n",
              "      <td>0.8163</td>\n",
              "      <td>12.2</td>\n",
              "      <td>0.7896</td>\n",
              "      <td>12.3</td>\n",
              "      <td>0.8211</td>\n",
              "      <td>12.2</td>\n",
              "      <td>0.7846</td>\n",
              "      <td>12.2</td>\n",
              "    </tr>\n",
              "    <tr>\n",
              "      <th>3</th>\n",
              "      <td>0.8211</td>\n",
              "      <td>12.3</td>\n",
              "      <td>0.7868</td>\n",
              "      <td>12.3</td>\n",
              "      <td>0.8170</td>\n",
              "      <td>12.2</td>\n",
              "      <td>0.7938</td>\n",
              "      <td>12.3</td>\n",
              "    </tr>\n",
              "    <tr>\n",
              "      <th>4</th>\n",
              "      <td>0.8181</td>\n",
              "      <td>12.2</td>\n",
              "      <td>0.7844</td>\n",
              "      <td>12.2</td>\n",
              "      <td>0.8216</td>\n",
              "      <td>12.2</td>\n",
              "      <td>0.7861</td>\n",
              "      <td>12.2</td>\n",
              "    </tr>\n",
              "  </tbody>\n",
              "</table>\n",
              "</div>\n",
              "      <button class=\"colab-df-convert\" onclick=\"convertToInteractive('df-e5189c59-26f1-42e9-afb3-0e97f85b54e7')\"\n",
              "              title=\"Convert this dataframe to an interactive table.\"\n",
              "              style=\"display:none;\">\n",
              "        \n",
              "  <svg xmlns=\"http://www.w3.org/2000/svg\" height=\"24px\"viewBox=\"0 0 24 24\"\n",
              "       width=\"24px\">\n",
              "    <path d=\"M0 0h24v24H0V0z\" fill=\"none\"/>\n",
              "    <path d=\"M18.56 5.44l.94 2.06.94-2.06 2.06-.94-2.06-.94-.94-2.06-.94 2.06-2.06.94zm-11 1L8.5 8.5l.94-2.06 2.06-.94-2.06-.94L8.5 2.5l-.94 2.06-2.06.94zm10 10l.94 2.06.94-2.06 2.06-.94-2.06-.94-.94-2.06-.94 2.06-2.06.94z\"/><path d=\"M17.41 7.96l-1.37-1.37c-.4-.4-.92-.59-1.43-.59-.52 0-1.04.2-1.43.59L10.3 9.45l-7.72 7.72c-.78.78-.78 2.05 0 2.83L4 21.41c.39.39.9.59 1.41.59.51 0 1.02-.2 1.41-.59l7.78-7.78 2.81-2.81c.8-.78.8-2.07 0-2.86zM5.41 20L4 18.59l7.72-7.72 1.47 1.35L5.41 20z\"/>\n",
              "  </svg>\n",
              "      </button>\n",
              "      \n",
              "  <style>\n",
              "    .colab-df-container {\n",
              "      display:flex;\n",
              "      flex-wrap:wrap;\n",
              "      gap: 12px;\n",
              "    }\n",
              "\n",
              "    .colab-df-convert {\n",
              "      background-color: #E8F0FE;\n",
              "      border: none;\n",
              "      border-radius: 50%;\n",
              "      cursor: pointer;\n",
              "      display: none;\n",
              "      fill: #1967D2;\n",
              "      height: 32px;\n",
              "      padding: 0 0 0 0;\n",
              "      width: 32px;\n",
              "    }\n",
              "\n",
              "    .colab-df-convert:hover {\n",
              "      background-color: #E2EBFA;\n",
              "      box-shadow: 0px 1px 2px rgba(60, 64, 67, 0.3), 0px 1px 3px 1px rgba(60, 64, 67, 0.15);\n",
              "      fill: #174EA6;\n",
              "    }\n",
              "\n",
              "    [theme=dark] .colab-df-convert {\n",
              "      background-color: #3B4455;\n",
              "      fill: #D2E3FC;\n",
              "    }\n",
              "\n",
              "    [theme=dark] .colab-df-convert:hover {\n",
              "      background-color: #434B5C;\n",
              "      box-shadow: 0px 1px 3px 1px rgba(0, 0, 0, 0.15);\n",
              "      filter: drop-shadow(0px 1px 2px rgba(0, 0, 0, 0.3));\n",
              "      fill: #FFFFFF;\n",
              "    }\n",
              "  </style>\n",
              "\n",
              "      <script>\n",
              "        const buttonEl =\n",
              "          document.querySelector('#df-e5189c59-26f1-42e9-afb3-0e97f85b54e7 button.colab-df-convert');\n",
              "        buttonEl.style.display =\n",
              "          google.colab.kernel.accessAllowed ? 'block' : 'none';\n",
              "\n",
              "        async function convertToInteractive(key) {\n",
              "          const element = document.querySelector('#df-e5189c59-26f1-42e9-afb3-0e97f85b54e7');\n",
              "          const dataTable =\n",
              "            await google.colab.kernel.invokeFunction('convertToInteractive',\n",
              "                                                     [key], {});\n",
              "          if (!dataTable) return;\n",
              "\n",
              "          const docLinkHtml = 'Like what you see? Visit the ' +\n",
              "            '<a target=\"_blank\" href=https://colab.research.google.com/notebooks/data_table.ipynb>data table notebook</a>'\n",
              "            + ' to learn more about interactive tables.';\n",
              "          element.innerHTML = '';\n",
              "          dataTable['output_type'] = 'display_data';\n",
              "          await google.colab.output.renderOutput(dataTable, element);\n",
              "          const docLink = document.createElement('div');\n",
              "          docLink.innerHTML = docLinkHtml;\n",
              "          element.appendChild(docLink);\n",
              "        }\n",
              "      </script>\n",
              "    </div>\n",
              "  </div>\n",
              "  "
            ]
          },
          "metadata": {},
          "execution_count": 3
        }
      ]
    },
    {
      "cell_type": "code",
      "source": [
        "#Renomeando as colunas, temos:\n",
        "nomes_colunas = {'CKREGWT':'Peso Coca Normal',\n",
        "                 'CKREGVOL':'Volume Coca Normal',\n",
        "                 'CKDIETWT':'Peso Coca Dietética',\n",
        "                 'CKDTVOL':'Volume Coca Dietética',\n",
        "                 'PPREGWT':'Peso Pepsi Normal',\n",
        "                 'PPREGVOL':'Volume Pepsi Normal',\n",
        "                 'PPDIETWT':'Peso Pepsi Dietética',\n",
        "                 'PPDTVOL':'Volume Pepsi Dietética'}\n",
        "base_dados.rename(nomes_colunas, axis = 'columns', inplace = True)\n",
        "base_dados.head(10)"
      ],
      "metadata": {
        "colab": {
          "base_uri": "https://localhost:8080/",
          "height": 424
        },
        "id": "mSA001aVcQbu",
        "outputId": "0949676d-49f7-4c51-8cb5-caff8f981cb0"
      },
      "execution_count": null,
      "outputs": [
        {
          "output_type": "execute_result",
          "data": {
            "text/plain": [
              "   Peso Coca Normal  Volume Coca Normal  Peso Coca Dietética  \\\n",
              "0            0.8192                12.3               0.7773   \n",
              "1            0.8150                12.1               0.7758   \n",
              "2            0.8163                12.2               0.7896   \n",
              "3            0.8211                12.3               0.7868   \n",
              "4            0.8181                12.2               0.7844   \n",
              "5            0.8247                12.3               0.7861   \n",
              "6            0.8062                12.0               0.7806   \n",
              "7            0.8128                12.1               0.7830   \n",
              "8            0.8172                12.2               0.7852   \n",
              "9            0.8110                12.1               0.7879   \n",
              "\n",
              "   Volume Coca Dietética  Peso Pepsi Normal  Volume Pepsi Normal  \\\n",
              "0                   12.1             0.8258                 12.4   \n",
              "1                   12.1             0.8156                 12.2   \n",
              "2                   12.3             0.8211                 12.2   \n",
              "3                   12.3             0.8170                 12.2   \n",
              "4                   12.2             0.8216                 12.2   \n",
              "5                   12.3             0.8302                 12.4   \n",
              "6                   12.2             0.8192                 12.2   \n",
              "7                   12.2             0.8192                 12.2   \n",
              "8                   12.2             0.8271                 12.3   \n",
              "9                   12.3             0.8251                 12.3   \n",
              "\n",
              "   Peso Pepsi Dietética  Volume Pepsi Dietética  \n",
              "0                0.7925                    12.3  \n",
              "1                0.7868                    12.2  \n",
              "2                0.7846                    12.2  \n",
              "3                0.7938                    12.3  \n",
              "4                0.7861                    12.2  \n",
              "5                0.7844                    12.2  \n",
              "6                0.7795                    12.2  \n",
              "7                0.7883                    12.3  \n",
              "8                0.7879                    12.2  \n",
              "9                0.7850                    12.3  "
            ],
            "text/html": [
              "\n",
              "  <div id=\"df-6ebd7023-8771-409c-8909-fc5e12bde015\">\n",
              "    <div class=\"colab-df-container\">\n",
              "      <div>\n",
              "<style scoped>\n",
              "    .dataframe tbody tr th:only-of-type {\n",
              "        vertical-align: middle;\n",
              "    }\n",
              "\n",
              "    .dataframe tbody tr th {\n",
              "        vertical-align: top;\n",
              "    }\n",
              "\n",
              "    .dataframe thead th {\n",
              "        text-align: right;\n",
              "    }\n",
              "</style>\n",
              "<table border=\"1\" class=\"dataframe\">\n",
              "  <thead>\n",
              "    <tr style=\"text-align: right;\">\n",
              "      <th></th>\n",
              "      <th>Peso Coca Normal</th>\n",
              "      <th>Volume Coca Normal</th>\n",
              "      <th>Peso Coca Dietética</th>\n",
              "      <th>Volume Coca Dietética</th>\n",
              "      <th>Peso Pepsi Normal</th>\n",
              "      <th>Volume Pepsi Normal</th>\n",
              "      <th>Peso Pepsi Dietética</th>\n",
              "      <th>Volume Pepsi Dietética</th>\n",
              "    </tr>\n",
              "  </thead>\n",
              "  <tbody>\n",
              "    <tr>\n",
              "      <th>0</th>\n",
              "      <td>0.8192</td>\n",
              "      <td>12.3</td>\n",
              "      <td>0.7773</td>\n",
              "      <td>12.1</td>\n",
              "      <td>0.8258</td>\n",
              "      <td>12.4</td>\n",
              "      <td>0.7925</td>\n",
              "      <td>12.3</td>\n",
              "    </tr>\n",
              "    <tr>\n",
              "      <th>1</th>\n",
              "      <td>0.8150</td>\n",
              "      <td>12.1</td>\n",
              "      <td>0.7758</td>\n",
              "      <td>12.1</td>\n",
              "      <td>0.8156</td>\n",
              "      <td>12.2</td>\n",
              "      <td>0.7868</td>\n",
              "      <td>12.2</td>\n",
              "    </tr>\n",
              "    <tr>\n",
              "      <th>2</th>\n",
              "      <td>0.8163</td>\n",
              "      <td>12.2</td>\n",
              "      <td>0.7896</td>\n",
              "      <td>12.3</td>\n",
              "      <td>0.8211</td>\n",
              "      <td>12.2</td>\n",
              "      <td>0.7846</td>\n",
              "      <td>12.2</td>\n",
              "    </tr>\n",
              "    <tr>\n",
              "      <th>3</th>\n",
              "      <td>0.8211</td>\n",
              "      <td>12.3</td>\n",
              "      <td>0.7868</td>\n",
              "      <td>12.3</td>\n",
              "      <td>0.8170</td>\n",
              "      <td>12.2</td>\n",
              "      <td>0.7938</td>\n",
              "      <td>12.3</td>\n",
              "    </tr>\n",
              "    <tr>\n",
              "      <th>4</th>\n",
              "      <td>0.8181</td>\n",
              "      <td>12.2</td>\n",
              "      <td>0.7844</td>\n",
              "      <td>12.2</td>\n",
              "      <td>0.8216</td>\n",
              "      <td>12.2</td>\n",
              "      <td>0.7861</td>\n",
              "      <td>12.2</td>\n",
              "    </tr>\n",
              "    <tr>\n",
              "      <th>5</th>\n",
              "      <td>0.8247</td>\n",
              "      <td>12.3</td>\n",
              "      <td>0.7861</td>\n",
              "      <td>12.3</td>\n",
              "      <td>0.8302</td>\n",
              "      <td>12.4</td>\n",
              "      <td>0.7844</td>\n",
              "      <td>12.2</td>\n",
              "    </tr>\n",
              "    <tr>\n",
              "      <th>6</th>\n",
              "      <td>0.8062</td>\n",
              "      <td>12.0</td>\n",
              "      <td>0.7806</td>\n",
              "      <td>12.2</td>\n",
              "      <td>0.8192</td>\n",
              "      <td>12.2</td>\n",
              "      <td>0.7795</td>\n",
              "      <td>12.2</td>\n",
              "    </tr>\n",
              "    <tr>\n",
              "      <th>7</th>\n",
              "      <td>0.8128</td>\n",
              "      <td>12.1</td>\n",
              "      <td>0.7830</td>\n",
              "      <td>12.2</td>\n",
              "      <td>0.8192</td>\n",
              "      <td>12.2</td>\n",
              "      <td>0.7883</td>\n",
              "      <td>12.3</td>\n",
              "    </tr>\n",
              "    <tr>\n",
              "      <th>8</th>\n",
              "      <td>0.8172</td>\n",
              "      <td>12.2</td>\n",
              "      <td>0.7852</td>\n",
              "      <td>12.2</td>\n",
              "      <td>0.8271</td>\n",
              "      <td>12.3</td>\n",
              "      <td>0.7879</td>\n",
              "      <td>12.2</td>\n",
              "    </tr>\n",
              "    <tr>\n",
              "      <th>9</th>\n",
              "      <td>0.8110</td>\n",
              "      <td>12.1</td>\n",
              "      <td>0.7879</td>\n",
              "      <td>12.3</td>\n",
              "      <td>0.8251</td>\n",
              "      <td>12.3</td>\n",
              "      <td>0.7850</td>\n",
              "      <td>12.3</td>\n",
              "    </tr>\n",
              "  </tbody>\n",
              "</table>\n",
              "</div>\n",
              "      <button class=\"colab-df-convert\" onclick=\"convertToInteractive('df-6ebd7023-8771-409c-8909-fc5e12bde015')\"\n",
              "              title=\"Convert this dataframe to an interactive table.\"\n",
              "              style=\"display:none;\">\n",
              "        \n",
              "  <svg xmlns=\"http://www.w3.org/2000/svg\" height=\"24px\"viewBox=\"0 0 24 24\"\n",
              "       width=\"24px\">\n",
              "    <path d=\"M0 0h24v24H0V0z\" fill=\"none\"/>\n",
              "    <path d=\"M18.56 5.44l.94 2.06.94-2.06 2.06-.94-2.06-.94-.94-2.06-.94 2.06-2.06.94zm-11 1L8.5 8.5l.94-2.06 2.06-.94-2.06-.94L8.5 2.5l-.94 2.06-2.06.94zm10 10l.94 2.06.94-2.06 2.06-.94-2.06-.94-.94-2.06-.94 2.06-2.06.94z\"/><path d=\"M17.41 7.96l-1.37-1.37c-.4-.4-.92-.59-1.43-.59-.52 0-1.04.2-1.43.59L10.3 9.45l-7.72 7.72c-.78.78-.78 2.05 0 2.83L4 21.41c.39.39.9.59 1.41.59.51 0 1.02-.2 1.41-.59l7.78-7.78 2.81-2.81c.8-.78.8-2.07 0-2.86zM5.41 20L4 18.59l7.72-7.72 1.47 1.35L5.41 20z\"/>\n",
              "  </svg>\n",
              "      </button>\n",
              "      \n",
              "  <style>\n",
              "    .colab-df-container {\n",
              "      display:flex;\n",
              "      flex-wrap:wrap;\n",
              "      gap: 12px;\n",
              "    }\n",
              "\n",
              "    .colab-df-convert {\n",
              "      background-color: #E8F0FE;\n",
              "      border: none;\n",
              "      border-radius: 50%;\n",
              "      cursor: pointer;\n",
              "      display: none;\n",
              "      fill: #1967D2;\n",
              "      height: 32px;\n",
              "      padding: 0 0 0 0;\n",
              "      width: 32px;\n",
              "    }\n",
              "\n",
              "    .colab-df-convert:hover {\n",
              "      background-color: #E2EBFA;\n",
              "      box-shadow: 0px 1px 2px rgba(60, 64, 67, 0.3), 0px 1px 3px 1px rgba(60, 64, 67, 0.15);\n",
              "      fill: #174EA6;\n",
              "    }\n",
              "\n",
              "    [theme=dark] .colab-df-convert {\n",
              "      background-color: #3B4455;\n",
              "      fill: #D2E3FC;\n",
              "    }\n",
              "\n",
              "    [theme=dark] .colab-df-convert:hover {\n",
              "      background-color: #434B5C;\n",
              "      box-shadow: 0px 1px 3px 1px rgba(0, 0, 0, 0.15);\n",
              "      filter: drop-shadow(0px 1px 2px rgba(0, 0, 0, 0.3));\n",
              "      fill: #FFFFFF;\n",
              "    }\n",
              "  </style>\n",
              "\n",
              "      <script>\n",
              "        const buttonEl =\n",
              "          document.querySelector('#df-6ebd7023-8771-409c-8909-fc5e12bde015 button.colab-df-convert');\n",
              "        buttonEl.style.display =\n",
              "          google.colab.kernel.accessAllowed ? 'block' : 'none';\n",
              "\n",
              "        async function convertToInteractive(key) {\n",
              "          const element = document.querySelector('#df-6ebd7023-8771-409c-8909-fc5e12bde015');\n",
              "          const dataTable =\n",
              "            await google.colab.kernel.invokeFunction('convertToInteractive',\n",
              "                                                     [key], {});\n",
              "          if (!dataTable) return;\n",
              "\n",
              "          const docLinkHtml = 'Like what you see? Visit the ' +\n",
              "            '<a target=\"_blank\" href=https://colab.research.google.com/notebooks/data_table.ipynb>data table notebook</a>'\n",
              "            + ' to learn more about interactive tables.';\n",
              "          element.innerHTML = '';\n",
              "          dataTable['output_type'] = 'display_data';\n",
              "          await google.colab.output.renderOutput(dataTable, element);\n",
              "          const docLink = document.createElement('div');\n",
              "          docLink.innerHTML = docLinkHtml;\n",
              "          element.appendChild(docLink);\n",
              "        }\n",
              "      </script>\n",
              "    </div>\n",
              "  </div>\n",
              "  "
            ]
          },
          "metadata": {},
          "execution_count": 4
        }
      ]
    },
    {
      "cell_type": "markdown",
      "source": [
        "**Problema -** Há diferenças entre os pesos de Coca-Cola normal e Coca-Cola dietética? "
      ],
      "metadata": {
        "id": "NKCKmbAwepKc"
      }
    },
    {
      "cell_type": "markdown",
      "source": [
        "Para investigar se há diferenças entre os pesos de Coca-Cola regular e Coca-Cola dietética devemos utilizar diagramas de caixa modificada para comparar a dispersão dos dados para ambos os conjuntos de valores. Os diagramas de caixa são úteis para comparação de dados de diferentes conjuntos de valores, no presente problema queremos comparar pesos de duas populações distitntas: refrigerantes de Coca-Cola regular e refrigerantes de Coca-Cola dietética."
      ],
      "metadata": {
        "id": "S4Qob6PUe4dn"
      }
    },
    {
      "cell_type": "markdown",
      "source": [
        "Determinando os valores máximos e mínimos de cada conjunto de valores para definição das escalas do diagrama de caixas modificado, temos:"
      ],
      "metadata": {
        "id": "nfRUjnePgKbs"
      }
    },
    {
      "cell_type": "code",
      "source": [
        "#Valor máximo e mínimo da variável 'Peso Coca Normal', temos:\n",
        "base_dados['Peso Coca Normal'].min()"
      ],
      "metadata": {
        "colab": {
          "base_uri": "https://localhost:8080/"
        },
        "id": "gpWOfshReouJ",
        "outputId": "c03b0090-4e7f-43a2-aa5d-785a0ef4340b"
      },
      "execution_count": null,
      "outputs": [
        {
          "output_type": "execute_result",
          "data": {
            "text/plain": [
              "0.7901"
            ]
          },
          "metadata": {},
          "execution_count": 5
        }
      ]
    },
    {
      "cell_type": "code",
      "source": [
        "base_dados['Peso Coca Normal'].max()"
      ],
      "metadata": {
        "colab": {
          "base_uri": "https://localhost:8080/"
        },
        "id": "McP9_67RgdJv",
        "outputId": "a5a7e6fa-05d7-4e56-cf99-df2b1c1d0903"
      },
      "execution_count": null,
      "outputs": [
        {
          "output_type": "execute_result",
          "data": {
            "text/plain": [
              "0.8295"
            ]
          },
          "metadata": {},
          "execution_count": 6
        }
      ]
    },
    {
      "cell_type": "code",
      "source": [
        "#Valor máximo e mínimo da variável 'Peso Coca Dietética', temos:\n",
        "base_dados['Peso Coca Dietética'].min()"
      ],
      "metadata": {
        "colab": {
          "base_uri": "https://localhost:8080/"
        },
        "id": "mE7g0snDgvac",
        "outputId": "3a9f057c-4f86-4a53-e7ee-9e5a99b0c658"
      },
      "execution_count": null,
      "outputs": [
        {
          "output_type": "execute_result",
          "data": {
            "text/plain": [
              "0.7758"
            ]
          },
          "metadata": {},
          "execution_count": 7
        }
      ]
    },
    {
      "cell_type": "code",
      "source": [
        "base_dados['Peso Coca Dietética'].max()"
      ],
      "metadata": {
        "colab": {
          "base_uri": "https://localhost:8080/"
        },
        "id": "MnibhdvXgu7x",
        "outputId": "e8ab56ab-17ea-438b-fe98-6490ddb1ace5"
      },
      "execution_count": null,
      "outputs": [
        {
          "output_type": "execute_result",
          "data": {
            "text/plain": [
              "0.7923"
            ]
          },
          "metadata": {},
          "execution_count": 8
        }
      ]
    },
    {
      "cell_type": "markdown",
      "source": [
        "Também podemos apresentar as estatísticas dos conjuntos de dados através do método \".describe()\""
      ],
      "metadata": {
        "id": "e7CmdpMun5X0"
      }
    },
    {
      "cell_type": "code",
      "source": [
        "base_dados[['Peso Coca Normal','Peso Coca Dietética']].describe()"
      ],
      "metadata": {
        "colab": {
          "base_uri": "https://localhost:8080/",
          "height": 300
        },
        "id": "krH2KauWosmx",
        "outputId": "959c6595-7afa-4e04-9ee4-83d83d0313b7"
      },
      "execution_count": null,
      "outputs": [
        {
          "output_type": "execute_result",
          "data": {
            "text/plain": [
              "       Peso Coca Normal  Peso Coca Dietética\n",
              "count         36.000000            36.000000\n",
              "mean           0.816822             0.784794\n",
              "std            0.007507             0.004391\n",
              "min            0.790100             0.775800\n",
              "25%            0.814825             0.782200\n",
              "50%            0.817100             0.785200\n",
              "75%            0.820800             0.787900\n",
              "max            0.829500             0.792300"
            ],
            "text/html": [
              "\n",
              "  <div id=\"df-c7853a4d-a97d-4560-96a1-ec1285549a58\">\n",
              "    <div class=\"colab-df-container\">\n",
              "      <div>\n",
              "<style scoped>\n",
              "    .dataframe tbody tr th:only-of-type {\n",
              "        vertical-align: middle;\n",
              "    }\n",
              "\n",
              "    .dataframe tbody tr th {\n",
              "        vertical-align: top;\n",
              "    }\n",
              "\n",
              "    .dataframe thead th {\n",
              "        text-align: right;\n",
              "    }\n",
              "</style>\n",
              "<table border=\"1\" class=\"dataframe\">\n",
              "  <thead>\n",
              "    <tr style=\"text-align: right;\">\n",
              "      <th></th>\n",
              "      <th>Peso Coca Normal</th>\n",
              "      <th>Peso Coca Dietética</th>\n",
              "    </tr>\n",
              "  </thead>\n",
              "  <tbody>\n",
              "    <tr>\n",
              "      <th>count</th>\n",
              "      <td>36.000000</td>\n",
              "      <td>36.000000</td>\n",
              "    </tr>\n",
              "    <tr>\n",
              "      <th>mean</th>\n",
              "      <td>0.816822</td>\n",
              "      <td>0.784794</td>\n",
              "    </tr>\n",
              "    <tr>\n",
              "      <th>std</th>\n",
              "      <td>0.007507</td>\n",
              "      <td>0.004391</td>\n",
              "    </tr>\n",
              "    <tr>\n",
              "      <th>min</th>\n",
              "      <td>0.790100</td>\n",
              "      <td>0.775800</td>\n",
              "    </tr>\n",
              "    <tr>\n",
              "      <th>25%</th>\n",
              "      <td>0.814825</td>\n",
              "      <td>0.782200</td>\n",
              "    </tr>\n",
              "    <tr>\n",
              "      <th>50%</th>\n",
              "      <td>0.817100</td>\n",
              "      <td>0.785200</td>\n",
              "    </tr>\n",
              "    <tr>\n",
              "      <th>75%</th>\n",
              "      <td>0.820800</td>\n",
              "      <td>0.787900</td>\n",
              "    </tr>\n",
              "    <tr>\n",
              "      <th>max</th>\n",
              "      <td>0.829500</td>\n",
              "      <td>0.792300</td>\n",
              "    </tr>\n",
              "  </tbody>\n",
              "</table>\n",
              "</div>\n",
              "      <button class=\"colab-df-convert\" onclick=\"convertToInteractive('df-c7853a4d-a97d-4560-96a1-ec1285549a58')\"\n",
              "              title=\"Convert this dataframe to an interactive table.\"\n",
              "              style=\"display:none;\">\n",
              "        \n",
              "  <svg xmlns=\"http://www.w3.org/2000/svg\" height=\"24px\"viewBox=\"0 0 24 24\"\n",
              "       width=\"24px\">\n",
              "    <path d=\"M0 0h24v24H0V0z\" fill=\"none\"/>\n",
              "    <path d=\"M18.56 5.44l.94 2.06.94-2.06 2.06-.94-2.06-.94-.94-2.06-.94 2.06-2.06.94zm-11 1L8.5 8.5l.94-2.06 2.06-.94-2.06-.94L8.5 2.5l-.94 2.06-2.06.94zm10 10l.94 2.06.94-2.06 2.06-.94-2.06-.94-.94-2.06-.94 2.06-2.06.94z\"/><path d=\"M17.41 7.96l-1.37-1.37c-.4-.4-.92-.59-1.43-.59-.52 0-1.04.2-1.43.59L10.3 9.45l-7.72 7.72c-.78.78-.78 2.05 0 2.83L4 21.41c.39.39.9.59 1.41.59.51 0 1.02-.2 1.41-.59l7.78-7.78 2.81-2.81c.8-.78.8-2.07 0-2.86zM5.41 20L4 18.59l7.72-7.72 1.47 1.35L5.41 20z\"/>\n",
              "  </svg>\n",
              "      </button>\n",
              "      \n",
              "  <style>\n",
              "    .colab-df-container {\n",
              "      display:flex;\n",
              "      flex-wrap:wrap;\n",
              "      gap: 12px;\n",
              "    }\n",
              "\n",
              "    .colab-df-convert {\n",
              "      background-color: #E8F0FE;\n",
              "      border: none;\n",
              "      border-radius: 50%;\n",
              "      cursor: pointer;\n",
              "      display: none;\n",
              "      fill: #1967D2;\n",
              "      height: 32px;\n",
              "      padding: 0 0 0 0;\n",
              "      width: 32px;\n",
              "    }\n",
              "\n",
              "    .colab-df-convert:hover {\n",
              "      background-color: #E2EBFA;\n",
              "      box-shadow: 0px 1px 2px rgba(60, 64, 67, 0.3), 0px 1px 3px 1px rgba(60, 64, 67, 0.15);\n",
              "      fill: #174EA6;\n",
              "    }\n",
              "\n",
              "    [theme=dark] .colab-df-convert {\n",
              "      background-color: #3B4455;\n",
              "      fill: #D2E3FC;\n",
              "    }\n",
              "\n",
              "    [theme=dark] .colab-df-convert:hover {\n",
              "      background-color: #434B5C;\n",
              "      box-shadow: 0px 1px 3px 1px rgba(0, 0, 0, 0.15);\n",
              "      filter: drop-shadow(0px 1px 2px rgba(0, 0, 0, 0.3));\n",
              "      fill: #FFFFFF;\n",
              "    }\n",
              "  </style>\n",
              "\n",
              "      <script>\n",
              "        const buttonEl =\n",
              "          document.querySelector('#df-c7853a4d-a97d-4560-96a1-ec1285549a58 button.colab-df-convert');\n",
              "        buttonEl.style.display =\n",
              "          google.colab.kernel.accessAllowed ? 'block' : 'none';\n",
              "\n",
              "        async function convertToInteractive(key) {\n",
              "          const element = document.querySelector('#df-c7853a4d-a97d-4560-96a1-ec1285549a58');\n",
              "          const dataTable =\n",
              "            await google.colab.kernel.invokeFunction('convertToInteractive',\n",
              "                                                     [key], {});\n",
              "          if (!dataTable) return;\n",
              "\n",
              "          const docLinkHtml = 'Like what you see? Visit the ' +\n",
              "            '<a target=\"_blank\" href=https://colab.research.google.com/notebooks/data_table.ipynb>data table notebook</a>'\n",
              "            + ' to learn more about interactive tables.';\n",
              "          element.innerHTML = '';\n",
              "          dataTable['output_type'] = 'display_data';\n",
              "          await google.colab.output.renderOutput(dataTable, element);\n",
              "          const docLink = document.createElement('div');\n",
              "          docLink.innerHTML = docLinkHtml;\n",
              "          element.appendChild(docLink);\n",
              "        }\n",
              "      </script>\n",
              "    </div>\n",
              "  </div>\n",
              "  "
            ]
          },
          "metadata": {},
          "execution_count": 9
        }
      ]
    },
    {
      "cell_type": "markdown",
      "source": [
        "Os dados estatísticos exibidos acima, sugerem que o peso de Coca Normal é superior ao peso de Coca Dietética. A média de peso da Coca Normal é 0.816 lb, enquanto a média de peso da Coca Dietética é 0.784 lb. Além disso, os valores de quartis e mediana também são superiores aos calculados para o peso de Coca Dietética."
      ],
      "metadata": {
        "id": "KmLNFneYzFNu"
      }
    },
    {
      "cell_type": "markdown",
      "source": [
        "Construindo os diagramas de caixa modificados, temos:"
      ],
      "metadata": {
        "id": "Pap1VsTcrdRg"
      }
    },
    {
      "cell_type": "markdown",
      "source": [
        "Primeiramente vamos construir um novo dataframe de modo a termos os dados de pesos em uma única coluna e uma segunda coluna armazenando a categoria do dado (se pertence à Coca normal ou à Coca dietética)"
      ],
      "metadata": {
        "id": "6tGi2dZvsWeN"
      }
    },
    {
      "cell_type": "code",
      "source": [
        "#Criando novo dataframe pra armazenar somente os valores de Peso de Coca normal, juntamente com a categoria:\n",
        "df_coca_normal = pd.DataFrame({'Peso Coca':base_dados['Peso Coca Normal']})\n",
        "categoria = []\n",
        "for i in df_coca_normal.index:\n",
        "  categoria.append(int(0))\n",
        "df_coca_normal['Categoria'] = categoria\n",
        "df_coca_normal.head()"
      ],
      "metadata": {
        "colab": {
          "base_uri": "https://localhost:8080/",
          "height": 206
        },
        "id": "m2uTQ2wcugFF",
        "outputId": "f6300ead-cc65-4c26-c6ac-b28e0dc2dfc9"
      },
      "execution_count": null,
      "outputs": [
        {
          "output_type": "execute_result",
          "data": {
            "text/plain": [
              "   Peso Coca  Categoria\n",
              "0     0.8192          0\n",
              "1     0.8150          0\n",
              "2     0.8163          0\n",
              "3     0.8211          0\n",
              "4     0.8181          0"
            ],
            "text/html": [
              "\n",
              "  <div id=\"df-038e9dfb-b386-4f0e-9669-923048502af2\">\n",
              "    <div class=\"colab-df-container\">\n",
              "      <div>\n",
              "<style scoped>\n",
              "    .dataframe tbody tr th:only-of-type {\n",
              "        vertical-align: middle;\n",
              "    }\n",
              "\n",
              "    .dataframe tbody tr th {\n",
              "        vertical-align: top;\n",
              "    }\n",
              "\n",
              "    .dataframe thead th {\n",
              "        text-align: right;\n",
              "    }\n",
              "</style>\n",
              "<table border=\"1\" class=\"dataframe\">\n",
              "  <thead>\n",
              "    <tr style=\"text-align: right;\">\n",
              "      <th></th>\n",
              "      <th>Peso Coca</th>\n",
              "      <th>Categoria</th>\n",
              "    </tr>\n",
              "  </thead>\n",
              "  <tbody>\n",
              "    <tr>\n",
              "      <th>0</th>\n",
              "      <td>0.8192</td>\n",
              "      <td>0</td>\n",
              "    </tr>\n",
              "    <tr>\n",
              "      <th>1</th>\n",
              "      <td>0.8150</td>\n",
              "      <td>0</td>\n",
              "    </tr>\n",
              "    <tr>\n",
              "      <th>2</th>\n",
              "      <td>0.8163</td>\n",
              "      <td>0</td>\n",
              "    </tr>\n",
              "    <tr>\n",
              "      <th>3</th>\n",
              "      <td>0.8211</td>\n",
              "      <td>0</td>\n",
              "    </tr>\n",
              "    <tr>\n",
              "      <th>4</th>\n",
              "      <td>0.8181</td>\n",
              "      <td>0</td>\n",
              "    </tr>\n",
              "  </tbody>\n",
              "</table>\n",
              "</div>\n",
              "      <button class=\"colab-df-convert\" onclick=\"convertToInteractive('df-038e9dfb-b386-4f0e-9669-923048502af2')\"\n",
              "              title=\"Convert this dataframe to an interactive table.\"\n",
              "              style=\"display:none;\">\n",
              "        \n",
              "  <svg xmlns=\"http://www.w3.org/2000/svg\" height=\"24px\"viewBox=\"0 0 24 24\"\n",
              "       width=\"24px\">\n",
              "    <path d=\"M0 0h24v24H0V0z\" fill=\"none\"/>\n",
              "    <path d=\"M18.56 5.44l.94 2.06.94-2.06 2.06-.94-2.06-.94-.94-2.06-.94 2.06-2.06.94zm-11 1L8.5 8.5l.94-2.06 2.06-.94-2.06-.94L8.5 2.5l-.94 2.06-2.06.94zm10 10l.94 2.06.94-2.06 2.06-.94-2.06-.94-.94-2.06-.94 2.06-2.06.94z\"/><path d=\"M17.41 7.96l-1.37-1.37c-.4-.4-.92-.59-1.43-.59-.52 0-1.04.2-1.43.59L10.3 9.45l-7.72 7.72c-.78.78-.78 2.05 0 2.83L4 21.41c.39.39.9.59 1.41.59.51 0 1.02-.2 1.41-.59l7.78-7.78 2.81-2.81c.8-.78.8-2.07 0-2.86zM5.41 20L4 18.59l7.72-7.72 1.47 1.35L5.41 20z\"/>\n",
              "  </svg>\n",
              "      </button>\n",
              "      \n",
              "  <style>\n",
              "    .colab-df-container {\n",
              "      display:flex;\n",
              "      flex-wrap:wrap;\n",
              "      gap: 12px;\n",
              "    }\n",
              "\n",
              "    .colab-df-convert {\n",
              "      background-color: #E8F0FE;\n",
              "      border: none;\n",
              "      border-radius: 50%;\n",
              "      cursor: pointer;\n",
              "      display: none;\n",
              "      fill: #1967D2;\n",
              "      height: 32px;\n",
              "      padding: 0 0 0 0;\n",
              "      width: 32px;\n",
              "    }\n",
              "\n",
              "    .colab-df-convert:hover {\n",
              "      background-color: #E2EBFA;\n",
              "      box-shadow: 0px 1px 2px rgba(60, 64, 67, 0.3), 0px 1px 3px 1px rgba(60, 64, 67, 0.15);\n",
              "      fill: #174EA6;\n",
              "    }\n",
              "\n",
              "    [theme=dark] .colab-df-convert {\n",
              "      background-color: #3B4455;\n",
              "      fill: #D2E3FC;\n",
              "    }\n",
              "\n",
              "    [theme=dark] .colab-df-convert:hover {\n",
              "      background-color: #434B5C;\n",
              "      box-shadow: 0px 1px 3px 1px rgba(0, 0, 0, 0.15);\n",
              "      filter: drop-shadow(0px 1px 2px rgba(0, 0, 0, 0.3));\n",
              "      fill: #FFFFFF;\n",
              "    }\n",
              "  </style>\n",
              "\n",
              "      <script>\n",
              "        const buttonEl =\n",
              "          document.querySelector('#df-038e9dfb-b386-4f0e-9669-923048502af2 button.colab-df-convert');\n",
              "        buttonEl.style.display =\n",
              "          google.colab.kernel.accessAllowed ? 'block' : 'none';\n",
              "\n",
              "        async function convertToInteractive(key) {\n",
              "          const element = document.querySelector('#df-038e9dfb-b386-4f0e-9669-923048502af2');\n",
              "          const dataTable =\n",
              "            await google.colab.kernel.invokeFunction('convertToInteractive',\n",
              "                                                     [key], {});\n",
              "          if (!dataTable) return;\n",
              "\n",
              "          const docLinkHtml = 'Like what you see? Visit the ' +\n",
              "            '<a target=\"_blank\" href=https://colab.research.google.com/notebooks/data_table.ipynb>data table notebook</a>'\n",
              "            + ' to learn more about interactive tables.';\n",
              "          element.innerHTML = '';\n",
              "          dataTable['output_type'] = 'display_data';\n",
              "          await google.colab.output.renderOutput(dataTable, element);\n",
              "          const docLink = document.createElement('div');\n",
              "          docLink.innerHTML = docLinkHtml;\n",
              "          element.appendChild(docLink);\n",
              "        }\n",
              "      </script>\n",
              "    </div>\n",
              "  </div>\n",
              "  "
            ]
          },
          "metadata": {},
          "execution_count": 26
        }
      ]
    },
    {
      "cell_type": "code",
      "source": [
        "#Criando novo dataframe pra armazenar somente os valores de Peso de Coca Dietética, juntamente com a categoria:\n",
        "df_coca_dietetica = pd.DataFrame({'Peso Coca':base_dados['Peso Coca Dietética']})\n",
        "categoria = []\n",
        "for i in df_coca_dietetica.index:\n",
        "  categoria.append(int(1))\n",
        "df_coca_dietetica['Categoria'] = categoria\n",
        "df_coca_dietetica.head()"
      ],
      "metadata": {
        "colab": {
          "base_uri": "https://localhost:8080/",
          "height": 206
        },
        "id": "2ia5Pxd9vWgE",
        "outputId": "72a34f86-4399-4ded-d3c5-956825e17100"
      },
      "execution_count": null,
      "outputs": [
        {
          "output_type": "execute_result",
          "data": {
            "text/plain": [
              "   Peso Coca  Categoria\n",
              "0     0.7773          1\n",
              "1     0.7758          1\n",
              "2     0.7896          1\n",
              "3     0.7868          1\n",
              "4     0.7844          1"
            ],
            "text/html": [
              "\n",
              "  <div id=\"df-20d667f9-def1-475b-83d6-bb3233c36a4a\">\n",
              "    <div class=\"colab-df-container\">\n",
              "      <div>\n",
              "<style scoped>\n",
              "    .dataframe tbody tr th:only-of-type {\n",
              "        vertical-align: middle;\n",
              "    }\n",
              "\n",
              "    .dataframe tbody tr th {\n",
              "        vertical-align: top;\n",
              "    }\n",
              "\n",
              "    .dataframe thead th {\n",
              "        text-align: right;\n",
              "    }\n",
              "</style>\n",
              "<table border=\"1\" class=\"dataframe\">\n",
              "  <thead>\n",
              "    <tr style=\"text-align: right;\">\n",
              "      <th></th>\n",
              "      <th>Peso Coca</th>\n",
              "      <th>Categoria</th>\n",
              "    </tr>\n",
              "  </thead>\n",
              "  <tbody>\n",
              "    <tr>\n",
              "      <th>0</th>\n",
              "      <td>0.7773</td>\n",
              "      <td>1</td>\n",
              "    </tr>\n",
              "    <tr>\n",
              "      <th>1</th>\n",
              "      <td>0.7758</td>\n",
              "      <td>1</td>\n",
              "    </tr>\n",
              "    <tr>\n",
              "      <th>2</th>\n",
              "      <td>0.7896</td>\n",
              "      <td>1</td>\n",
              "    </tr>\n",
              "    <tr>\n",
              "      <th>3</th>\n",
              "      <td>0.7868</td>\n",
              "      <td>1</td>\n",
              "    </tr>\n",
              "    <tr>\n",
              "      <th>4</th>\n",
              "      <td>0.7844</td>\n",
              "      <td>1</td>\n",
              "    </tr>\n",
              "  </tbody>\n",
              "</table>\n",
              "</div>\n",
              "      <button class=\"colab-df-convert\" onclick=\"convertToInteractive('df-20d667f9-def1-475b-83d6-bb3233c36a4a')\"\n",
              "              title=\"Convert this dataframe to an interactive table.\"\n",
              "              style=\"display:none;\">\n",
              "        \n",
              "  <svg xmlns=\"http://www.w3.org/2000/svg\" height=\"24px\"viewBox=\"0 0 24 24\"\n",
              "       width=\"24px\">\n",
              "    <path d=\"M0 0h24v24H0V0z\" fill=\"none\"/>\n",
              "    <path d=\"M18.56 5.44l.94 2.06.94-2.06 2.06-.94-2.06-.94-.94-2.06-.94 2.06-2.06.94zm-11 1L8.5 8.5l.94-2.06 2.06-.94-2.06-.94L8.5 2.5l-.94 2.06-2.06.94zm10 10l.94 2.06.94-2.06 2.06-.94-2.06-.94-.94-2.06-.94 2.06-2.06.94z\"/><path d=\"M17.41 7.96l-1.37-1.37c-.4-.4-.92-.59-1.43-.59-.52 0-1.04.2-1.43.59L10.3 9.45l-7.72 7.72c-.78.78-.78 2.05 0 2.83L4 21.41c.39.39.9.59 1.41.59.51 0 1.02-.2 1.41-.59l7.78-7.78 2.81-2.81c.8-.78.8-2.07 0-2.86zM5.41 20L4 18.59l7.72-7.72 1.47 1.35L5.41 20z\"/>\n",
              "  </svg>\n",
              "      </button>\n",
              "      \n",
              "  <style>\n",
              "    .colab-df-container {\n",
              "      display:flex;\n",
              "      flex-wrap:wrap;\n",
              "      gap: 12px;\n",
              "    }\n",
              "\n",
              "    .colab-df-convert {\n",
              "      background-color: #E8F0FE;\n",
              "      border: none;\n",
              "      border-radius: 50%;\n",
              "      cursor: pointer;\n",
              "      display: none;\n",
              "      fill: #1967D2;\n",
              "      height: 32px;\n",
              "      padding: 0 0 0 0;\n",
              "      width: 32px;\n",
              "    }\n",
              "\n",
              "    .colab-df-convert:hover {\n",
              "      background-color: #E2EBFA;\n",
              "      box-shadow: 0px 1px 2px rgba(60, 64, 67, 0.3), 0px 1px 3px 1px rgba(60, 64, 67, 0.15);\n",
              "      fill: #174EA6;\n",
              "    }\n",
              "\n",
              "    [theme=dark] .colab-df-convert {\n",
              "      background-color: #3B4455;\n",
              "      fill: #D2E3FC;\n",
              "    }\n",
              "\n",
              "    [theme=dark] .colab-df-convert:hover {\n",
              "      background-color: #434B5C;\n",
              "      box-shadow: 0px 1px 3px 1px rgba(0, 0, 0, 0.15);\n",
              "      filter: drop-shadow(0px 1px 2px rgba(0, 0, 0, 0.3));\n",
              "      fill: #FFFFFF;\n",
              "    }\n",
              "  </style>\n",
              "\n",
              "      <script>\n",
              "        const buttonEl =\n",
              "          document.querySelector('#df-20d667f9-def1-475b-83d6-bb3233c36a4a button.colab-df-convert');\n",
              "        buttonEl.style.display =\n",
              "          google.colab.kernel.accessAllowed ? 'block' : 'none';\n",
              "\n",
              "        async function convertToInteractive(key) {\n",
              "          const element = document.querySelector('#df-20d667f9-def1-475b-83d6-bb3233c36a4a');\n",
              "          const dataTable =\n",
              "            await google.colab.kernel.invokeFunction('convertToInteractive',\n",
              "                                                     [key], {});\n",
              "          if (!dataTable) return;\n",
              "\n",
              "          const docLinkHtml = 'Like what you see? Visit the ' +\n",
              "            '<a target=\"_blank\" href=https://colab.research.google.com/notebooks/data_table.ipynb>data table notebook</a>'\n",
              "            + ' to learn more about interactive tables.';\n",
              "          element.innerHTML = '';\n",
              "          dataTable['output_type'] = 'display_data';\n",
              "          await google.colab.output.renderOutput(dataTable, element);\n",
              "          const docLink = document.createElement('div');\n",
              "          docLink.innerHTML = docLinkHtml;\n",
              "          element.appendChild(docLink);\n",
              "        }\n",
              "      </script>\n",
              "    </div>\n",
              "  </div>\n",
              "  "
            ]
          },
          "metadata": {},
          "execution_count": 28
        }
      ]
    },
    {
      "cell_type": "code",
      "source": [
        "#Concatenando os dados, temos:\n",
        "df_concatenado_coca = pd.concat([df_coca_normal, df_coca_dietetica], axis = 'index')\n",
        "df_concatenado_coca.reset_index(inplace = True)\n",
        "df_concatenado_coca.drop('index', axis = 'columns', inplace = True)\n",
        "df_concatenado_coca"
      ],
      "metadata": {
        "colab": {
          "base_uri": "https://localhost:8080/",
          "height": 423
        },
        "id": "vBIgoqQuvkn9",
        "outputId": "10b7e21e-6c69-4071-8250-347a6fc45bc2"
      },
      "execution_count": null,
      "outputs": [
        {
          "output_type": "execute_result",
          "data": {
            "text/plain": [
              "    Peso Coca  Categoria\n",
              "0      0.8192          0\n",
              "1      0.8150          0\n",
              "2      0.8163          0\n",
              "3      0.8211          0\n",
              "4      0.8181          0\n",
              "..        ...        ...\n",
              "67     0.7910          1\n",
              "68     0.7879          1\n",
              "69     0.7923          1\n",
              "70     0.7859          1\n",
              "71     0.7811          1\n",
              "\n",
              "[72 rows x 2 columns]"
            ],
            "text/html": [
              "\n",
              "  <div id=\"df-f8e0364c-d64f-4528-86f0-b08fe96466bc\">\n",
              "    <div class=\"colab-df-container\">\n",
              "      <div>\n",
              "<style scoped>\n",
              "    .dataframe tbody tr th:only-of-type {\n",
              "        vertical-align: middle;\n",
              "    }\n",
              "\n",
              "    .dataframe tbody tr th {\n",
              "        vertical-align: top;\n",
              "    }\n",
              "\n",
              "    .dataframe thead th {\n",
              "        text-align: right;\n",
              "    }\n",
              "</style>\n",
              "<table border=\"1\" class=\"dataframe\">\n",
              "  <thead>\n",
              "    <tr style=\"text-align: right;\">\n",
              "      <th></th>\n",
              "      <th>Peso Coca</th>\n",
              "      <th>Categoria</th>\n",
              "    </tr>\n",
              "  </thead>\n",
              "  <tbody>\n",
              "    <tr>\n",
              "      <th>0</th>\n",
              "      <td>0.8192</td>\n",
              "      <td>0</td>\n",
              "    </tr>\n",
              "    <tr>\n",
              "      <th>1</th>\n",
              "      <td>0.8150</td>\n",
              "      <td>0</td>\n",
              "    </tr>\n",
              "    <tr>\n",
              "      <th>2</th>\n",
              "      <td>0.8163</td>\n",
              "      <td>0</td>\n",
              "    </tr>\n",
              "    <tr>\n",
              "      <th>3</th>\n",
              "      <td>0.8211</td>\n",
              "      <td>0</td>\n",
              "    </tr>\n",
              "    <tr>\n",
              "      <th>4</th>\n",
              "      <td>0.8181</td>\n",
              "      <td>0</td>\n",
              "    </tr>\n",
              "    <tr>\n",
              "      <th>...</th>\n",
              "      <td>...</td>\n",
              "      <td>...</td>\n",
              "    </tr>\n",
              "    <tr>\n",
              "      <th>67</th>\n",
              "      <td>0.7910</td>\n",
              "      <td>1</td>\n",
              "    </tr>\n",
              "    <tr>\n",
              "      <th>68</th>\n",
              "      <td>0.7879</td>\n",
              "      <td>1</td>\n",
              "    </tr>\n",
              "    <tr>\n",
              "      <th>69</th>\n",
              "      <td>0.7923</td>\n",
              "      <td>1</td>\n",
              "    </tr>\n",
              "    <tr>\n",
              "      <th>70</th>\n",
              "      <td>0.7859</td>\n",
              "      <td>1</td>\n",
              "    </tr>\n",
              "    <tr>\n",
              "      <th>71</th>\n",
              "      <td>0.7811</td>\n",
              "      <td>1</td>\n",
              "    </tr>\n",
              "  </tbody>\n",
              "</table>\n",
              "<p>72 rows × 2 columns</p>\n",
              "</div>\n",
              "      <button class=\"colab-df-convert\" onclick=\"convertToInteractive('df-f8e0364c-d64f-4528-86f0-b08fe96466bc')\"\n",
              "              title=\"Convert this dataframe to an interactive table.\"\n",
              "              style=\"display:none;\">\n",
              "        \n",
              "  <svg xmlns=\"http://www.w3.org/2000/svg\" height=\"24px\"viewBox=\"0 0 24 24\"\n",
              "       width=\"24px\">\n",
              "    <path d=\"M0 0h24v24H0V0z\" fill=\"none\"/>\n",
              "    <path d=\"M18.56 5.44l.94 2.06.94-2.06 2.06-.94-2.06-.94-.94-2.06-.94 2.06-2.06.94zm-11 1L8.5 8.5l.94-2.06 2.06-.94-2.06-.94L8.5 2.5l-.94 2.06-2.06.94zm10 10l.94 2.06.94-2.06 2.06-.94-2.06-.94-.94-2.06-.94 2.06-2.06.94z\"/><path d=\"M17.41 7.96l-1.37-1.37c-.4-.4-.92-.59-1.43-.59-.52 0-1.04.2-1.43.59L10.3 9.45l-7.72 7.72c-.78.78-.78 2.05 0 2.83L4 21.41c.39.39.9.59 1.41.59.51 0 1.02-.2 1.41-.59l7.78-7.78 2.81-2.81c.8-.78.8-2.07 0-2.86zM5.41 20L4 18.59l7.72-7.72 1.47 1.35L5.41 20z\"/>\n",
              "  </svg>\n",
              "      </button>\n",
              "      \n",
              "  <style>\n",
              "    .colab-df-container {\n",
              "      display:flex;\n",
              "      flex-wrap:wrap;\n",
              "      gap: 12px;\n",
              "    }\n",
              "\n",
              "    .colab-df-convert {\n",
              "      background-color: #E8F0FE;\n",
              "      border: none;\n",
              "      border-radius: 50%;\n",
              "      cursor: pointer;\n",
              "      display: none;\n",
              "      fill: #1967D2;\n",
              "      height: 32px;\n",
              "      padding: 0 0 0 0;\n",
              "      width: 32px;\n",
              "    }\n",
              "\n",
              "    .colab-df-convert:hover {\n",
              "      background-color: #E2EBFA;\n",
              "      box-shadow: 0px 1px 2px rgba(60, 64, 67, 0.3), 0px 1px 3px 1px rgba(60, 64, 67, 0.15);\n",
              "      fill: #174EA6;\n",
              "    }\n",
              "\n",
              "    [theme=dark] .colab-df-convert {\n",
              "      background-color: #3B4455;\n",
              "      fill: #D2E3FC;\n",
              "    }\n",
              "\n",
              "    [theme=dark] .colab-df-convert:hover {\n",
              "      background-color: #434B5C;\n",
              "      box-shadow: 0px 1px 3px 1px rgba(0, 0, 0, 0.15);\n",
              "      filter: drop-shadow(0px 1px 2px rgba(0, 0, 0, 0.3));\n",
              "      fill: #FFFFFF;\n",
              "    }\n",
              "  </style>\n",
              "\n",
              "      <script>\n",
              "        const buttonEl =\n",
              "          document.querySelector('#df-f8e0364c-d64f-4528-86f0-b08fe96466bc button.colab-df-convert');\n",
              "        buttonEl.style.display =\n",
              "          google.colab.kernel.accessAllowed ? 'block' : 'none';\n",
              "\n",
              "        async function convertToInteractive(key) {\n",
              "          const element = document.querySelector('#df-f8e0364c-d64f-4528-86f0-b08fe96466bc');\n",
              "          const dataTable =\n",
              "            await google.colab.kernel.invokeFunction('convertToInteractive',\n",
              "                                                     [key], {});\n",
              "          if (!dataTable) return;\n",
              "\n",
              "          const docLinkHtml = 'Like what you see? Visit the ' +\n",
              "            '<a target=\"_blank\" href=https://colab.research.google.com/notebooks/data_table.ipynb>data table notebook</a>'\n",
              "            + ' to learn more about interactive tables.';\n",
              "          element.innerHTML = '';\n",
              "          dataTable['output_type'] = 'display_data';\n",
              "          await google.colab.output.renderOutput(dataTable, element);\n",
              "          const docLink = document.createElement('div');\n",
              "          docLink.innerHTML = docLinkHtml;\n",
              "          element.appendChild(docLink);\n",
              "        }\n",
              "      </script>\n",
              "    </div>\n",
              "  </div>\n",
              "  "
            ]
          },
          "metadata": {},
          "execution_count": 33
        }
      ]
    },
    {
      "cell_type": "code",
      "source": [
        "#Criando o diagrama de caixa modificado, temos:\n",
        "ax = sns.boxplot(x = 'Categoria',y = 'Peso Coca', data = df_concatenado_coca)\n",
        "ax.figure.set_size_inches(14,8) #tamanho da figura\n",
        "ax.set_title('Pesos de Coca Normal e Coca Dietética',fontsize = 18) #configurando o título do gráfico\n",
        "\n",
        "ax.set_xlabel('Tipo de refrigerante',fontsize = 14) #configurando o eixo x\n",
        "\n",
        "ax.set_xticklabels(labels = ['Coca Normal','Coca Dietética'], fontsize = 12) #configurando os labels do eixo x\n",
        "\n",
        "ax.set(ylim=(0, 1)) #configurando limite inferior e superior do eixo y\n",
        "\n",
        "#ax.set_yticks([i for i in range(0,95,5)])\n",
        "\n",
        "ax"
      ],
      "metadata": {
        "colab": {
          "base_uri": "https://localhost:8080/",
          "height": 542
        },
        "id": "PpDxfnNCr-Ih",
        "outputId": "49a05b50-e392-463f-bea6-eb3d753a6975"
      },
      "execution_count": null,
      "outputs": [
        {
          "output_type": "execute_result",
          "data": {
            "text/plain": [
              "<matplotlib.axes._subplots.AxesSubplot at 0x7fd38f132b90>"
            ]
          },
          "metadata": {},
          "execution_count": 38
        },
        {
          "output_type": "display_data",
          "data": {
            "text/plain": [
              "<Figure size 1008x576 with 1 Axes>"
            ],
            "image/png": "[encoded data removed]"
          },
          "metadata": {
            "needs_background": "light"
          }
        }
      ]
    },
    {
      "cell_type": "markdown",
      "source": [
        "Analisando o diagrama de caixas acima apresentado, podemos verificar que, em termos práticos, a diferença de pesos entre os dois tipos de refrigerantes é pequena. Observe que começamos a escala a partir de zero pra ter uma noção melhor das diferenças entre os dois conjuntos de dados."
      ],
      "metadata": {
        "id": "X9ErrDL-yJ4l"
      }
    },
    {
      "cell_type": "code",
      "source": [
        "#Criando o diagrama de caixa modificado, temos:\n",
        "ax = sns.boxplot(x = 'Categoria',y = 'Peso Coca', data = df_concatenado_coca)\n",
        "ax.figure.set_size_inches(14,8) #tamanho da figura\n",
        "ax.set_title('Pesos de Coca Normal e Coca Dietética',fontsize = 18) #configurando o título do gráfico\n",
        "\n",
        "ax.set_xlabel('Tipo de refrigerante',fontsize = 14) #configurando o eixo x\n",
        "\n",
        "ax.set_xticklabels(labels = ['Coca Normal','Coca Dietética'], fontsize = 12) #configurando os labels do eixo x\n",
        "\n",
        "ax.set(ylim=(0.75, 0.84)) #configurando limite inferior e superior do eixo y\n",
        "\n",
        "#ax.set_yticks([i for i in range(0,95,5)])\n",
        "\n",
        "ax"
      ],
      "metadata": {
        "colab": {
          "base_uri": "https://localhost:8080/",
          "height": 542
        },
        "id": "mVkeuyHwx7u9",
        "outputId": "6f181ad4-3739-480f-f600-f65f305a540b"
      },
      "execution_count": null,
      "outputs": [
        {
          "output_type": "execute_result",
          "data": {
            "text/plain": [
              "<matplotlib.axes._subplots.AxesSubplot at 0x7fd38f0a1a10>"
            ]
          },
          "metadata": {},
          "execution_count": 39
        },
        {
          "output_type": "display_data",
          "data": {
            "text/plain": [
              "<Figure size 1008x576 with 1 Axes>"
            ],
            "image/png": "[encoded data removed]"
          },
          "metadata": {
            "needs_background": "light"
          }
        }
      ]
    },
    {
      "cell_type": "markdown",
      "source": [
        "Os diagramas de caixa, em uma escala de 0.75 a 0.84 lb, mostram que os pesos de Coca Normal são superiores aos pesos do refrigerante de Coca do tipo dietético."
      ],
      "metadata": {
        "id": "-LbTod6DyoKd"
      }
    },
    {
      "cell_type": "markdown",
      "source": [
        "## Referências bibliográficas:\n",
        "\n",
        "1.   TRIOLA, Mario F.. Resumos e Gráficos de Dados: distribuições de frequência. In: TRIOLA, Mario F. (ed.). Introdução à Estatística. 12. ed. Rio de Janeiro: Ltc, 2017. Cap. 2. p. 64-72.\n",
        "\n",
        "\n"
      ],
      "metadata": {
        "id": "GIi9sSXV49wi"
      }
    }
  ]
}