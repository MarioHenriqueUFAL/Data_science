{
  "nbformat": 4,
  "nbformat_minor": 0,
  "metadata": {
    "colab": {
      "name": "distribuicao_probabilidades.ipynb",
      "provenance": []
    },
    "kernelspec": {
      "name": "python3",
      "display_name": "Python 3"
    },
    "language_info": {
      "name": "python"
    }
  },
  "cells": [
    {
      "cell_type": "code",
      "execution_count": null,
      "metadata": {
        "id": "i4HwXirmInbQ"
      },
      "outputs": [],
      "source": [
        "from scipy.stats import binom\n",
        "from scipy.special import comb\n",
        "import pandas as pd\n",
        "import seaborn as sns\n",
        "import matplotlib.pyplot as plt\n",
        "import numpy as np\n",
        "from scipy.stats import poisson"
      ]
    },
    {
      "cell_type": "markdown",
      "source": [
        "# Distribuição de probabilidade binomial\n",
        "Uma distribuição de probabilidade binomial resulta de um experimento que satisfaz os seguintes requisitos:\n",
        "1. O experimento tem um número fixo de tentativas;\n",
        "2. As tentativas devem ser independentes;\n",
        "3. Cada tentativa deve ter todos os resultados classificados em duas categorias (sucesso ou fracasso);\n",
        "4. A probabilidade de sucesso permanece constante em todas as tentativas.\n",
        "\n",
        "# Notação para distribuições de probabilidades binomiais\n",
        "\n",
        "S e F (sucesso e fracasso) representam as duas categorias possíveis de todos os resultados.\n",
        "\n",
        "* P(S) = p (p = probabilidade de um sucesso)\n",
        "* P(F) = 1-p = q\n",
        "* n = número fixo de tentativas\n",
        "* x = número de sucessos em n tentativas\n",
        "* p = probabilidade de sucesso em cada tentativa\n",
        "* q = probabilidade de fracasso em cada tenativa\n",
        "* P(x) = probabilidade de x sucessos em n tentativas\n",
        "\n",
        "# $$P(x)=\\binom{n}{x} p^x q^{n-x}$$"
      ],
      "metadata": {
        "id": "S0kvq0E0JSck"
      }
    },
    {
      "cell_type": "markdown",
      "source": [
        "#Problema 1\n",
        "São feitas adivinhações aleatórias para cinco questões de múltipla escolha em um teste, de modo que há n = 5 tentativas, cada uma com probabilidade de sucesso (correta) dada por p = 0,20. Use o cálculo manual e o cálculo usando a biblioteca scipy.stats."
      ],
      "metadata": {
        "id": "pB65AL2cOD3Y"
      }
    },
    {
      "cell_type": "markdown",
      "source": [
        "**Comentários:**"
      ],
      "metadata": {
        "id": "BZT9YygSYbCN"
      }
    },
    {
      "cell_type": "markdown",
      "source": [
        "Primeiramente, devemos checar se o problema satisfaz os requisitos de uma distribuição de probabilidade binomial:"
      ],
      "metadata": {
        "id": "UZLZHb5IYeep"
      }
    },
    {
      "cell_type": "markdown",
      "source": [
        "As adivinhações são feitas de forma aleatória, o que significa que a probabilidade de sucesso em cada tentativa permanece constante. As tentativas são independentes, pois cada tentativa não altera a probabilidade de sucesso nas tentativas posteriores. O problema tem 5 questões, satisfazendo a condições de número fixo de tentativas. Ademais, os resultados de cada tentativa são classificados em duas categorias: sucesso ou fracasso."
      ],
      "metadata": {
        "id": "0s9Hl98_Ym7n"
      }
    },
    {
      "cell_type": "markdown",
      "source": [
        "**item 1.** Ache a probabilidade de que o número x de respostas corretas seja exatamente 3."
      ],
      "metadata": {
        "id": "YYjS9OJAOdWF"
      }
    },
    {
      "cell_type": "markdown",
      "source": [
        "Solução:\n",
        "Fazendo o cálculo manual, temos"
      ],
      "metadata": {
        "id": "IqUb_b9bOpEk"
      }
    },
    {
      "cell_type": "code",
      "source": [
        "#numero de tentativas\n",
        "n = 5\n",
        "#numero de sucessos em n tentativas\n",
        "x = 3\n",
        "#probabilidade de sucesso em cada tenativa\n",
        "p = 0.2\n",
        "#probabilidade de fracasso em cada tentativa\n",
        "q = 1-p"
      ],
      "metadata": {
        "id": "3HS25gBbP9ju"
      },
      "execution_count": null,
      "outputs": []
    },
    {
      "cell_type": "code",
      "source": [
        "#calculando a combinação\n",
        "combinacao = comb(n,x)\n",
        "combinacao"
      ],
      "metadata": {
        "colab": {
          "base_uri": "https://localhost:8080/"
        },
        "id": "7QhaXKm4I-Da",
        "outputId": "a9dd83f0-7924-4369-b9f9-0a8f6be903b4"
      },
      "execution_count": null,
      "outputs": [
        {
          "output_type": "execute_result",
          "data": {
            "text/plain": [
              "10.0"
            ]
          },
          "metadata": {},
          "execution_count": 6
        }
      ]
    },
    {
      "cell_type": "markdown",
      "source": [
        "A combinação é a quantidade de diferentes formas que x sucessos podem ocorrer em n tentativas. No presente problema, a combinação calcula a quantidade de diferentes formas que o aluno pode acertar 3 questões em 5 questões disponíveis."
      ],
      "metadata": {
        "id": "qANciooHSzFV"
      }
    },
    {
      "cell_type": "code",
      "source": [
        "#calculando a probabilidade\n",
        "probabilidade = combinacao*(p**(x))*(q**(n-x))\n",
        "print('A probabilidade é de {}.'.format(probabilidade))"
      ],
      "metadata": {
        "colab": {
          "base_uri": "https://localhost:8080/"
        },
        "id": "5b8irVewQNuM",
        "outputId": "a10bc44e-8bed-4bc1-b367-703ae64ddedc"
      },
      "execution_count": null,
      "outputs": [
        {
          "output_type": "stream",
          "name": "stdout",
          "text": [
            "A probabilidade é de 0.05120000000000002.\n"
          ]
        }
      ]
    },
    {
      "cell_type": "markdown",
      "source": [
        "O método \"binom.pmf(x,n,p)\" calcula a probabilidade de se obter extamente x sucessos em n tentativas, com p probabilidade de sucesso em cada tentativa.\n",
        "Fazendo o cálculo usando a biblioteca \"scipy.stats\", temos:"
      ],
      "metadata": {
        "id": "5ZwKhS0pQzyf"
      }
    },
    {
      "cell_type": "code",
      "source": [
        "probabilidade = binom.pmf(x,n,p)\n",
        "probabilidade"
      ],
      "metadata": {
        "colab": {
          "base_uri": "https://localhost:8080/"
        },
        "id": "piQzUvsdQ4Jc",
        "outputId": "33ccbe8a-cd74-4481-e7df-38bbdd446dd6"
      },
      "execution_count": null,
      "outputs": [
        {
          "output_type": "execute_result",
          "data": {
            "text/plain": [
              "0.051200000000000016"
            ]
          },
          "metadata": {},
          "execution_count": 9
        }
      ]
    },
    {
      "cell_type": "markdown",
      "source": [
        "Conclusões:\n",
        "Como podemos perceber, a probabilidade de acertar 3 de 5 questões de forma aleatória é de 0,0512, um resultado pouco provável."
      ],
      "metadata": {
        "id": "EtAzT-I1Rccs"
      }
    },
    {
      "cell_type": "markdown",
      "source": [
        "**item 2.**\n",
        "Ache a probabilidade que o número x de respostas corretas seja de pelo menos 3."
      ],
      "metadata": {
        "id": "H4ynxQeFRZ8F"
      }
    },
    {
      "cell_type": "markdown",
      "source": [
        "Solução:"
      ],
      "metadata": {
        "id": "K0R9OpfSSBLl"
      }
    },
    {
      "cell_type": "markdown",
      "source": [
        "Nesse caso, queremos a probabilidade de obter pelo menos 3 sucessos em 5 tentativas. Como se trata de uma distribuição de probabilidade discreta, temos que somar as probabilidades de obter exatamente 3 sucessos em 5 tentativas, 4 sucessos em 5 tentativas e 5 sucessos em 5 tentativas."
      ],
      "metadata": {
        "id": "Ue-bfYV0SGm1"
      }
    },
    {
      "cell_type": "markdown",
      "source": [
        "O primeiro método de solução é fazer manualmente para obter um melhor entendimento da fórmula matemática para a distribuição de probabilidade binomiais."
      ],
      "metadata": {
        "id": "tCMqrh91SfgE"
      }
    },
    {
      "cell_type": "markdown",
      "source": [
        "Solução manual:"
      ],
      "metadata": {
        "id": "sF1c0p3tV0wN"
      }
    },
    {
      "cell_type": "code",
      "source": [
        "probabilidade_acumulada = 0\n",
        "#numero de tentativas\n",
        "n = 5\n",
        "#numero de sucessos em n tentativas\n",
        "x = 3\n",
        "#probabilidade de sucesso em cada tenativa\n",
        "p = 0.2\n",
        "#probabilidade de fracasso em cada tentativa\n",
        "q = 1-p\n",
        "\n",
        "while x <= n:\n",
        "  #calculando a combinação\n",
        "  combinacao = comb(n,x)\n",
        "  #calculando a probabilidade\n",
        "  probabilidade_acumulada = probabilidade_acumulada + (combinacao*(p**(x))*(q**(n-x)))\n",
        "  print('Probabilidade {}'.format(probabilidade_acumulada))\n",
        "  x = x + 1\n",
        "probabilidade_acumulada"
      ],
      "metadata": {
        "colab": {
          "base_uri": "https://localhost:8080/"
        },
        "id": "dIcJPXJWR__o",
        "outputId": "a618b904-a919-4e1a-9707-29234676650d"
      },
      "execution_count": null,
      "outputs": [
        {
          "output_type": "stream",
          "name": "stdout",
          "text": [
            "Probabilidade 0.05120000000000002\n",
            "Probabilidade 0.057600000000000026\n",
            "Probabilidade 0.05792000000000003\n"
          ]
        },
        {
          "output_type": "execute_result",
          "data": {
            "text/plain": [
              "0.05792000000000003"
            ]
          },
          "metadata": {},
          "execution_count": 13
        }
      ]
    },
    {
      "cell_type": "markdown",
      "source": [
        "Para obter a probabilidade de obter pelo menos 3 sucessos em 5 tentativas, podemos usar a função \"binom.sf(x-1,n,p)\". A função binom.sf(x-1,n,p) calcula a probabilidade de obter mais de x-1 sucessos em n tentativas."
      ],
      "metadata": {
        "id": "qq7XbultV2z-"
      }
    },
    {
      "cell_type": "code",
      "source": [
        "x = 3\n",
        "k = x - 1\n",
        "probabilidade = binom.sf(k,n,p).sum()\n",
        "probabilidade"
      ],
      "metadata": {
        "colab": {
          "base_uri": "https://localhost:8080/"
        },
        "id": "bccTKKlOTmYe",
        "outputId": "bc7f4754-a5dc-4f69-88cf-068131237231"
      },
      "execution_count": null,
      "outputs": [
        {
          "output_type": "execute_result",
          "data": {
            "text/plain": [
              "0.057920000000000006"
            ]
          },
          "metadata": {},
          "execution_count": 20
        }
      ]
    },
    {
      "cell_type": "markdown",
      "source": [
        "Conclusões:"
      ],
      "metadata": {
        "id": "nkV9scXLWwc9"
      }
    },
    {
      "cell_type": "markdown",
      "source": [
        "A probabilidade do aluno acertar pelo menos três questões em 5 disponíveis, de forma aleatória, é de 0,0579"
      ],
      "metadata": {
        "id": "PWP9x_IZWx4l"
      }
    },
    {
      "cell_type": "markdown",
      "source": [
        "**Item 3.** Ache a probabilidade de que o número x de respostas corretas seja maior do que 2.\n"
      ],
      "metadata": {
        "id": "K7gsfrhvXHc1"
      }
    },
    {
      "cell_type": "markdown",
      "source": [
        "Solução:"
      ],
      "metadata": {
        "id": "DYEOVeRAXMsl"
      }
    },
    {
      "cell_type": "markdown",
      "source": [
        "Usando a função \"binom.sf(k,n,p)\", calculamos a probabilidade de mais de k sucessos em n tentativas. Logo, temos:"
      ],
      "metadata": {
        "id": "fonIGtjQXOs0"
      }
    },
    {
      "cell_type": "code",
      "source": [
        "k = 2"
      ],
      "metadata": {
        "id": "6nV0ZqmSXeQ3"
      },
      "execution_count": null,
      "outputs": []
    },
    {
      "cell_type": "code",
      "source": [
        "probabilidade = binom.sf(k,n,p)\n",
        "probabilidade"
      ],
      "metadata": {
        "colab": {
          "base_uri": "https://localhost:8080/"
        },
        "id": "qmvlZASuWxX6",
        "outputId": "3e128530-a9f7-49a2-db05-8771a3d9ff23"
      },
      "execution_count": null,
      "outputs": [
        {
          "output_type": "execute_result",
          "data": {
            "text/plain": [
              "0.057920000000000006"
            ]
          },
          "metadata": {},
          "execution_count": 22
        }
      ]
    },
    {
      "cell_type": "markdown",
      "source": [
        "Note que a probabilidade de obter mais de 2 sucessos em 5 tentativas é a mesma coisa que obter pelo menos 3 sucessos em 5 tentativas."
      ],
      "metadata": {
        "id": "uCDX8-OFXdMM"
      }
    },
    {
      "cell_type": "markdown",
      "source": [
        "# Problema 2\n",
        "Quando doadores de sangue são selecionados aleatoriamente, 45% tem sangue do grupo O. Faça os cálculos que são pedidos a seguir."
      ],
      "metadata": {
        "id": "ljhoc_0SYIUW"
      }
    },
    {
      "cell_type": "markdown",
      "source": [
        "**Comentários**"
      ],
      "metadata": {
        "id": "2VO8CJGSYUeN"
      }
    },
    {
      "cell_type": "markdown",
      "source": [
        "Para utilização dos cálculos de distribuição de probabilidade binomial, o problema deve satisfazer os seguintes requisitos:"
      ],
      "metadata": {
        "id": "1w6vMfBHZKQt"
      }
    },
    {
      "cell_type": "markdown",
      "source": [
        "* Numero fixo de tentativas;\n",
        "* eventos independentes;\n",
        "* probabilidade de sucesso permanecer constante;\n",
        "* resultados classificados em duas categorias."
      ],
      "metadata": {
        "id": "2qnmfRILZWN-"
      }
    },
    {
      "cell_type": "markdown",
      "source": [
        "**Item 1.** Se o número de doadores de sangue é n = 8, ache a probabilidade de que o número com sangue do grupo O seja x = 3."
      ],
      "metadata": {
        "id": "yfmejoQEZiK_"
      }
    },
    {
      "cell_type": "markdown",
      "source": [
        "**Solução:**"
      ],
      "metadata": {
        "id": "IRr3Kb9gedve"
      }
    },
    {
      "cell_type": "markdown",
      "source": [
        "Solução usando a função binom.pmf(x,n,p):"
      ],
      "metadata": {
        "id": "7JQ7rhyWeXVO"
      }
    },
    {
      "cell_type": "code",
      "source": [
        "#numero de tentativas\n",
        "n = 8\n",
        "#numero de sucessos em n tentativas\n",
        "x = 3\n",
        "#probabilidade de sucesso em cada tentativa\n",
        "p = 0.45\n",
        "#probabilidade de fracasso em cada tentativa\n",
        "q = 1-p\n",
        "#calculando a probabilidade\n",
        "probabilidade = binom.pmf(x,n,p)\n",
        "probabilidade"
      ],
      "metadata": {
        "colab": {
          "base_uri": "https://localhost:8080/"
        },
        "id": "tdLJ44oMZ7RA",
        "outputId": "0663ecf2-ae40-4e7f-e65c-41fb651210d0"
      },
      "execution_count": null,
      "outputs": [
        {
          "output_type": "execute_result",
          "data": {
            "text/plain": [
              "0.25682601656250015"
            ]
          },
          "metadata": {},
          "execution_count": 24
        }
      ]
    },
    {
      "cell_type": "markdown",
      "source": [
        "Solução através de cálculo manual:"
      ],
      "metadata": {
        "id": "Seb6zn1oelj2"
      }
    },
    {
      "cell_type": "code",
      "source": [
        "#numero de tentativas\n",
        "n = 8\n",
        "#numero de sucessos em n tentativas\n",
        "x = 3\n",
        "#probabilidade de sucesso em cada tentativa\n",
        "p = 0.45\n",
        "#probabilidade de fracasso em cada tentativa\n",
        "q = 1-p\n",
        "#calculando a combinação\n",
        "combinacao = comb(n,x)\n",
        "#calculando a probabilidade\n",
        "probabilidade = combinacao*(p**(x))*(q**(n-x))\n",
        "print('A probabilidade é {}'.format(probabilidade))"
      ],
      "metadata": {
        "colab": {
          "base_uri": "https://localhost:8080/"
        },
        "id": "_AeUC9Qceqse",
        "outputId": "42cc4fce-f443-49d8-a769-51c126a1fd77"
      },
      "execution_count": null,
      "outputs": [
        {
          "output_type": "stream",
          "name": "stdout",
          "text": [
            "A probabilidade é 0.25682601656250015\n"
          ]
        }
      ]
    },
    {
      "cell_type": "markdown",
      "source": [
        "**Conclusão:**"
      ],
      "metadata": {
        "id": "1DAb__X5akcG"
      }
    },
    {
      "cell_type": "markdown",
      "source": [
        "A probabilidade de selecionar três pessoas do grupo O em 8 tentativas é de 0,2568, resultado provável de ocorrer. O significado desse número é que se tomarmos 100 pessoas selecionadas aleatoriamente, espera-se que 25-26 pessoas sejam do grupo O."
      ],
      "metadata": {
        "id": "KGc4CSTAanXs"
      }
    },
    {
      "cell_type": "markdown",
      "source": [
        "**Item 2.** Se o número de doadores de sangue é n = 16, ache a probabilidade de que o número com sangue do grupo O seja x =\n",
        "6."
      ],
      "metadata": {
        "id": "IhVn4AWdc6h3"
      }
    },
    {
      "cell_type": "markdown",
      "source": [
        "**Solução:**"
      ],
      "metadata": {
        "id": "WQjfX0Phd2oG"
      }
    },
    {
      "cell_type": "markdown",
      "source": [
        "Solução usandoa  função binom.pmf(x,n,p) é dada por:"
      ],
      "metadata": {
        "id": "QEw7YLBRd4_-"
      }
    },
    {
      "cell_type": "code",
      "source": [
        "#numero de tentativas\n",
        "n = 16\n",
        "#numero de sucessos em n tentativas\n",
        "x = 6\n",
        "#probabilidade de sucesso em cada tentativa\n",
        "p = 0.45\n",
        "#probabilidade de fracasso em cada tentativa\n",
        "q = 1-p\n",
        "#calculando a probabilidade\n",
        "probabilidade = binom.pmf(x,n,p)\n",
        "print('A probabilidade é {}'.format(probabilidade))"
      ],
      "metadata": {
        "colab": {
          "base_uri": "https://localhost:8080/"
        },
        "id": "TI_WFgLDam6R",
        "outputId": "3bed5465-722a-4704-9ae3-7a07ee1db53b"
      },
      "execution_count": null,
      "outputs": [
        {
          "output_type": "stream",
          "name": "stdout",
          "text": [
            "A probabilidade é 0.1684325571075128\n"
          ]
        }
      ]
    },
    {
      "cell_type": "markdown",
      "source": [
        "Solução fazendo cálculo manual:"
      ],
      "metadata": {
        "id": "qyPR97ereAYm"
      }
    },
    {
      "cell_type": "code",
      "source": [
        "#numero de tentativas\n",
        "n = 16\n",
        "#numero de sucessos em n tentativas\n",
        "x = 6\n",
        "#probabilidade de sucesso em cada tentativa\n",
        "p = 0.45\n",
        "#probabilidade de fracasso em cada tentativa\n",
        "q = 1-p\n",
        "#calculando a combinação\n",
        "combinacao = comb(n,x)\n",
        "#calculando a probabilidade\n",
        "probabilidade = combinacao*(p**(x))*(q**(n-x))\n",
        "print('A probabilidade é {}'.format(probabilidade))"
      ],
      "metadata": {
        "colab": {
          "base_uri": "https://localhost:8080/"
        },
        "id": "AvpWMNz5eCtb",
        "outputId": "fc24df44-b410-42bf-c42c-cb6a0e04ebb0"
      },
      "execution_count": null,
      "outputs": [
        {
          "output_type": "stream",
          "name": "stdout",
          "text": [
            "A probabilidade é 0.16843255710751262\n"
          ]
        }
      ]
    },
    {
      "cell_type": "markdown",
      "source": [
        "##Construindo distribuição de probabilidade"
      ],
      "metadata": {
        "id": "tjGe3LmofLvK"
      }
    },
    {
      "cell_type": "markdown",
      "source": [
        "Em um dos experimentos de hibridização de Mendel com ervilhas, a probabilidade de uma prole com vagem verde é 0,75. Queremos construir uma distribuição de probabilidades que liste as probabilidades obtidas em 6 tentativas e 0,75 de probabilidade de obter uma vagem verde."
      ],
      "metadata": {
        "id": "Ob1Cuwy8fgRf"
      }
    },
    {
      "cell_type": "code",
      "source": [
        "#construindo a distribuição de probabilidade, temos:\n",
        "\n",
        "probabilidade = []\n",
        "sucessos = []\n",
        "\n",
        "#numero de tentativas \n",
        "n = 6\n",
        "#sucessos em n tentativas\n",
        "x = 0\n",
        "#probabilidade de sucesso em cada tentativa\n",
        "p = 0.75\n",
        "\n",
        "while x <= n:\n",
        "  aux1 = binom.pmf(x,n,p)\n",
        "  probabilidade.append(aux1)\n",
        "  sucessos.append(x)\n",
        "  x = x + 1\n",
        "\n",
        "dist_prob = pd.DataFrame({'x':sucessos,'P(x)':probabilidade})\n",
        "dist_prob"
      ],
      "metadata": {
        "colab": {
          "base_uri": "https://localhost:8080/",
          "height": 268
        },
        "id": "NlwgdHv2fcdm",
        "outputId": "fcc2db72-756d-49da-855e-26a4ea9b2c3d"
      },
      "execution_count": null,
      "outputs": [
        {
          "output_type": "execute_result",
          "data": {
            "text/plain": [
              "   x      P(x)\n",
              "0  0  0.000244\n",
              "1  1  0.004395\n",
              "2  2  0.032959\n",
              "3  3  0.131836\n",
              "4  4  0.296631\n",
              "5  5  0.355957\n",
              "6  6  0.177979"
            ],
            "text/html": [
              "\n",
              "  <div id=\"df-f378c8de-3144-4996-8d91-5acb5b608de0\">\n",
              "    <div class=\"colab-df-container\">\n",
              "      <div>\n",
              "<style scoped>\n",
              "    .dataframe tbody tr th:only-of-type {\n",
              "        vertical-align: middle;\n",
              "    }\n",
              "\n",
              "    .dataframe tbody tr th {\n",
              "        vertical-align: top;\n",
              "    }\n",
              "\n",
              "    .dataframe thead th {\n",
              "        text-align: right;\n",
              "    }\n",
              "</style>\n",
              "<table border=\"1\" class=\"dataframe\">\n",
              "  <thead>\n",
              "    <tr style=\"text-align: right;\">\n",
              "      <th></th>\n",
              "      <th>x</th>\n",
              "      <th>P(x)</th>\n",
              "    </tr>\n",
              "  </thead>\n",
              "  <tbody>\n",
              "    <tr>\n",
              "      <th>0</th>\n",
              "      <td>0</td>\n",
              "      <td>0.000244</td>\n",
              "    </tr>\n",
              "    <tr>\n",
              "      <th>1</th>\n",
              "      <td>1</td>\n",
              "      <td>0.004395</td>\n",
              "    </tr>\n",
              "    <tr>\n",
              "      <th>2</th>\n",
              "      <td>2</td>\n",
              "      <td>0.032959</td>\n",
              "    </tr>\n",
              "    <tr>\n",
              "      <th>3</th>\n",
              "      <td>3</td>\n",
              "      <td>0.131836</td>\n",
              "    </tr>\n",
              "    <tr>\n",
              "      <th>4</th>\n",
              "      <td>4</td>\n",
              "      <td>0.296631</td>\n",
              "    </tr>\n",
              "    <tr>\n",
              "      <th>5</th>\n",
              "      <td>5</td>\n",
              "      <td>0.355957</td>\n",
              "    </tr>\n",
              "    <tr>\n",
              "      <th>6</th>\n",
              "      <td>6</td>\n",
              "      <td>0.177979</td>\n",
              "    </tr>\n",
              "  </tbody>\n",
              "</table>\n",
              "</div>\n",
              "      <button class=\"colab-df-convert\" onclick=\"convertToInteractive('df-f378c8de-3144-4996-8d91-5acb5b608de0')\"\n",
              "              title=\"Convert this dataframe to an interactive table.\"\n",
              "              style=\"display:none;\">\n",
              "        \n",
              "  <svg xmlns=\"http://www.w3.org/2000/svg\" height=\"24px\"viewBox=\"0 0 24 24\"\n",
              "       width=\"24px\">\n",
              "    <path d=\"M0 0h24v24H0V0z\" fill=\"none\"/>\n",
              "    <path d=\"M18.56 5.44l.94 2.06.94-2.06 2.06-.94-2.06-.94-.94-2.06-.94 2.06-2.06.94zm-11 1L8.5 8.5l.94-2.06 2.06-.94-2.06-.94L8.5 2.5l-.94 2.06-2.06.94zm10 10l.94 2.06.94-2.06 2.06-.94-2.06-.94-.94-2.06-.94 2.06-2.06.94z\"/><path d=\"M17.41 7.96l-1.37-1.37c-.4-.4-.92-.59-1.43-.59-.52 0-1.04.2-1.43.59L10.3 9.45l-7.72 7.72c-.78.78-.78 2.05 0 2.83L4 21.41c.39.39.9.59 1.41.59.51 0 1.02-.2 1.41-.59l7.78-7.78 2.81-2.81c.8-.78.8-2.07 0-2.86zM5.41 20L4 18.59l7.72-7.72 1.47 1.35L5.41 20z\"/>\n",
              "  </svg>\n",
              "      </button>\n",
              "      \n",
              "  <style>\n",
              "    .colab-df-container {\n",
              "      display:flex;\n",
              "      flex-wrap:wrap;\n",
              "      gap: 12px;\n",
              "    }\n",
              "\n",
              "    .colab-df-convert {\n",
              "      background-color: #E8F0FE;\n",
              "      border: none;\n",
              "      border-radius: 50%;\n",
              "      cursor: pointer;\n",
              "      display: none;\n",
              "      fill: #1967D2;\n",
              "      height: 32px;\n",
              "      padding: 0 0 0 0;\n",
              "      width: 32px;\n",
              "    }\n",
              "\n",
              "    .colab-df-convert:hover {\n",
              "      background-color: #E2EBFA;\n",
              "      box-shadow: 0px 1px 2px rgba(60, 64, 67, 0.3), 0px 1px 3px 1px rgba(60, 64, 67, 0.15);\n",
              "      fill: #174EA6;\n",
              "    }\n",
              "\n",
              "    [theme=dark] .colab-df-convert {\n",
              "      background-color: #3B4455;\n",
              "      fill: #D2E3FC;\n",
              "    }\n",
              "\n",
              "    [theme=dark] .colab-df-convert:hover {\n",
              "      background-color: #434B5C;\n",
              "      box-shadow: 0px 1px 3px 1px rgba(0, 0, 0, 0.15);\n",
              "      filter: drop-shadow(0px 1px 2px rgba(0, 0, 0, 0.3));\n",
              "      fill: #FFFFFF;\n",
              "    }\n",
              "  </style>\n",
              "\n",
              "      <script>\n",
              "        const buttonEl =\n",
              "          document.querySelector('#df-f378c8de-3144-4996-8d91-5acb5b608de0 button.colab-df-convert');\n",
              "        buttonEl.style.display =\n",
              "          google.colab.kernel.accessAllowed ? 'block' : 'none';\n",
              "\n",
              "        async function convertToInteractive(key) {\n",
              "          const element = document.querySelector('#df-f378c8de-3144-4996-8d91-5acb5b608de0');\n",
              "          const dataTable =\n",
              "            await google.colab.kernel.invokeFunction('convertToInteractive',\n",
              "                                                     [key], {});\n",
              "          if (!dataTable) return;\n",
              "\n",
              "          const docLinkHtml = 'Like what you see? Visit the ' +\n",
              "            '<a target=\"_blank\" href=https://colab.research.google.com/notebooks/data_table.ipynb>data table notebook</a>'\n",
              "            + ' to learn more about interactive tables.';\n",
              "          element.innerHTML = '';\n",
              "          dataTable['output_type'] = 'display_data';\n",
              "          await google.colab.output.renderOutput(dataTable, element);\n",
              "          const docLink = document.createElement('div');\n",
              "          docLink.innerHTML = docLinkHtml;\n",
              "          element.appendChild(docLink);\n",
              "        }\n",
              "      </script>\n",
              "    </div>\n",
              "  </div>\n",
              "  "
            ]
          },
          "metadata": {},
          "execution_count": 61
        }
      ]
    },
    {
      "cell_type": "code",
      "source": [
        "#Construindo um histograma para observar graficamente a distribuição dos dados, temos:\n",
        "\n",
        "plt.figure(figsize = (12,6))\n",
        "ax = plt.bar(dist_prob['x'],dist_prob['P(x)'])\n",
        "plt.title('Distribuição de probabilidades', size = 18)\n",
        "plt.xlabel('Número de sucessos x', size = 14)\n",
        "plt.ylabel('P(x)', size = 14)\n",
        "ax"
      ],
      "metadata": {
        "colab": {
          "base_uri": "https://localhost:8080/",
          "height": 430
        },
        "id": "JIGR8b5fjE9w",
        "outputId": "1d7fcb11-7513-4a0d-fd02-b422e2c9dd2a"
      },
      "execution_count": null,
      "outputs": [
        {
          "output_type": "execute_result",
          "data": {
            "text/plain": [
              "<BarContainer object of 7 artists>"
            ]
          },
          "metadata": {},
          "execution_count": 63
        },
        {
          "output_type": "display_data",
          "data": {
            "text/plain": [
              "<Figure size 864x432 with 1 Axes>"
            ],
            "image/png": "[encoded data removed]"
          },
          "metadata": {
            "needs_background": "light"
          }
        }
      ]
    },
    {
      "cell_type": "markdown",
      "source": [
        "**Item 1.** Ache a probabilidade de que pelo menos duas das proles de ervilhas tenham vagens verdes. Se pelo menos duas proles de ervilhas com vagens verdes são exigidas para mais experimentação, é razoável esperar-se que pelo menos\n",
        "duas serão obtidas?"
      ],
      "metadata": {
        "id": "HfvHVGfGnSFJ"
      }
    },
    {
      "cell_type": "markdown",
      "source": [
        "Solução:"
      ],
      "metadata": {
        "id": "2ZQi8Z7Snq1_"
      }
    },
    {
      "cell_type": "markdown",
      "source": [
        "Usando os dados de probabilidades da distribuição de probabilidade, temos:"
      ],
      "metadata": {
        "id": "vUzT6VDTo8lo"
      }
    },
    {
      "cell_type": "code",
      "source": [
        "#Usando os dados do dataframe de probabilidades, temos:\n",
        "probabilidade = dist_prob.loc[dist_prob['x'] >= 2,'P(x)'].sum()\n",
        "print('A probabilidade é: {}'.format(probabilidade))"
      ],
      "metadata": {
        "colab": {
          "base_uri": "https://localhost:8080/"
        },
        "id": "6pKfe_6EnplB",
        "outputId": "ed334670-c5a3-45ec-dc2e-ff0addb6168e"
      },
      "execution_count": null,
      "outputs": [
        {
          "output_type": "stream",
          "name": "stdout",
          "text": [
            "A probabilidade é: 0.9953613281250003\n"
          ]
        }
      ]
    },
    {
      "cell_type": "markdown",
      "source": [
        "Usando a função binom.sf(k,n,p), temos:\n"
      ],
      "metadata": {
        "id": "WdeQ_i2PpC-n"
      }
    },
    {
      "cell_type": "code",
      "source": [
        "#Para obter a probabilidade de obter pelo menos 2 sucessos em 6 tentativas, temos:\n",
        "k = 1\n",
        "n = 6\n",
        "p = 0.75\n",
        "probabilidade = binom.sf(k,n,p)\n",
        "print('A probabilidade é: {}'.format(probabilidade))"
      ],
      "metadata": {
        "colab": {
          "base_uri": "https://localhost:8080/"
        },
        "id": "32cxTxAfpMwy",
        "outputId": "58a2b447-e0c0-4317-8836-5d99c686fe98"
      },
      "execution_count": null,
      "outputs": [
        {
          "output_type": "stream",
          "name": "stdout",
          "text": [
            "A probabilidade é: 0.995361328125\n"
          ]
        }
      ]
    },
    {
      "cell_type": "markdown",
      "source": [
        "Conclusão: o resultado de probabilidade, probabilidade > 0.99, indica que a ocorrência de pelo menos 2 sucessos em 6 tentativas é provável de ocorrer."
      ],
      "metadata": {
        "id": "PaPmFSKnBPgH"
      }
    },
    {
      "cell_type": "markdown",
      "source": [
        "**Item 2.** Ache a probabilidade de que no máximo cinco das seis proles de ervilhas tenham vagens verdes."
      ],
      "metadata": {
        "id": "uZVB7A0F6jmp"
      }
    },
    {
      "cell_type": "markdown",
      "source": [
        "Solução usando a distribuição de probabilidade"
      ],
      "metadata": {
        "id": "m0VeaOls6ntu"
      }
    },
    {
      "cell_type": "code",
      "source": [
        "probabilidade = dist_prob.loc[dist_prob['x'] <= 5, 'P(x)'].sum()\n",
        "print('A probabilidade é: {}'.format(probabilidade))"
      ],
      "metadata": {
        "colab": {
          "base_uri": "https://localhost:8080/"
        },
        "id": "HxIwoKzH6mdT",
        "outputId": "7942d1dd-d44c-401e-f7b1-2d47bdd09171"
      },
      "execution_count": null,
      "outputs": [
        {
          "output_type": "stream",
          "name": "stdout",
          "text": [
            "A probabilidade é: 0.8220214843750003\n"
          ]
        }
      ]
    },
    {
      "cell_type": "markdown",
      "source": [
        "Solução usando binom.cdf(x,n,p)"
      ],
      "metadata": {
        "id": "DZE2QVVr7kHB"
      }
    },
    {
      "cell_type": "markdown",
      "source": [
        "comentário: a função binom.cdf(x,n,p) é utilizada para calcular a probabilidade binomial de 0 até x sucessos."
      ],
      "metadata": {
        "id": "vMsJFjq676XP"
      }
    },
    {
      "cell_type": "code",
      "source": [
        "x = 5\n",
        "probabilidade = binom.cdf(x,n,p)\n",
        "print('A probabilidade é: {}'.format(probabilidade))"
      ],
      "metadata": {
        "colab": {
          "base_uri": "https://localhost:8080/"
        },
        "id": "1N8rFuqL725z",
        "outputId": "34ae1e09-084e-410d-ae82-c1abd2937fff"
      },
      "execution_count": null,
      "outputs": [
        {
          "output_type": "stream",
          "name": "stdout",
          "text": [
            "A probabilidade é: 0.822021484375\n"
          ]
        }
      ]
    },
    {
      "cell_type": "markdown",
      "source": [
        "# Problema - voos com excesso de passageiro"
      ],
      "metadata": {
        "id": "NOLSsXYdDXwI"
      }
    },
    {
      "cell_type": "markdown",
      "source": [
        "Quando alguém compra uma passagem aérea, há uma probabilidade de 0,0995 de\n",
        "que ela não se apresente para o embarque (com base em um artigo de pesquisa da IBM de Lawrence, Hong e Cherrier). O\n",
        "jato Beechcraft 1900C pode levar 19 passageiros sentados. É aconselhável fazerem-se reservas para 21 passageiros para\n",
        "um voo no Beechcraft 1900C? Explique."
      ],
      "metadata": {
        "id": "1tB6fzCRDbJn"
      }
    },
    {
      "cell_type": "markdown",
      "source": [
        "**Solução**"
      ],
      "metadata": {
        "id": "z5MBrINXD8Vn"
      }
    },
    {
      "cell_type": "markdown",
      "source": [
        "Para responder a pergunta do problema, devemos calcular a probabilidade de mais de 19 passageiros se apresentarem para o voo. Podemos tomar como sucesso o passageiro que se apresentam para o embarque e o numero de tentativas como sendo o número de passagens reservada para o voo. Como a probabilidade de sucesso em cada tentativa permanece constante, os eventos são independentes, o número de tentativos é fixo e todos os resultados podem ser classificados em duas categorias (sucesso e fracasso), podemos utilizar a distribuição de probabilidade binomial."
      ],
      "metadata": {
        "id": "DxllwZhqEB3W"
      }
    },
    {
      "cell_type": "code",
      "source": [
        "#calculando a probabilidade de mais de 19 passageiros se paresentarem para o embarque, temos:\n",
        "\n",
        "#numero de tentativas\n",
        "n = 21\n",
        "#probabilidade de sucesso em cada tentativa\n",
        "p = 1 - 0.09995\n",
        "#probabilidade de fracasso em cada tentativa\n",
        "q = 1 - p\n",
        "#limite inferior de sucessos\n",
        "k = 19"
      ],
      "metadata": {
        "id": "99gmEIy5DaZC"
      },
      "execution_count": null,
      "outputs": []
    },
    {
      "cell_type": "markdown",
      "source": [
        "Calculando a probabilidade acumulada usando a função \"binom.sf(k,n,p)\", temos:"
      ],
      "metadata": {
        "id": "k4nWm3c5FW0o"
      }
    },
    {
      "cell_type": "code",
      "source": [
        "probabilidade = binom.sf(k,n,p)\n",
        "print('A probabilidade é: {}'.format(probabilidade))"
      ],
      "metadata": {
        "colab": {
          "base_uri": "https://localhost:8080/"
        },
        "id": "_g2hNADtFWF2",
        "outputId": "46bab7db-3207-4eed-faf5-429d7f0495a7"
      },
      "execution_count": null,
      "outputs": [
        {
          "output_type": "stream",
          "name": "stdout",
          "text": [
            "A probabilidade é: 0.3650137214320966\n"
          ]
        }
      ]
    },
    {
      "cell_type": "markdown",
      "source": [
        "**Conclusão:** A probabilidade de que mais de 19 passageiros se apresentem no momento de embarque é de 36,5%. Tal valor numérico indica que é uma péssima ideia disponibilizar reserva para mais de 19 passageiros, pois é provável que passageiros fiquem sem assento disponível, gerando insatisfação no cliente e prejudicando a empresa."
      ],
      "metadata": {
        "id": "lfDYOZ-lFuI8"
      }
    },
    {
      "cell_type": "markdown",
      "source": [
        "# Problema - amostragem de aceitação (lotes de aspirina)"
      ],
      "metadata": {
        "id": "uZvVBMOLKk0Q"
      }
    },
    {
      "cell_type": "markdown",
      "source": [
        "A Companhia Farmacêutica Medassist recebe grandes carregamentos de comprimidos de aspirina e usa este\n",
        "planejamento de amostragem de aceitação: Seleciona aleatoriamente e testa 40 comprimidos e aceita o lote todo se\n",
        "houver apenas um ou nenhum que não corresponda às especificações exigidas. Se um carregamento particular de 5.000\n",
        "comprimidos de aspirina tem, na verdade, uma taxa de 3% de defeituosos, qual é a probabilidade de que o carregamento\n",
        "seja aceito? A maioria desses carregamentos será aceita, ou será rejeitada?"
      ],
      "metadata": {
        "id": "3ElMHmVeKr4n"
      }
    },
    {
      "cell_type": "markdown",
      "source": [
        "**Solução:**"
      ],
      "metadata": {
        "id": "KwjNOq5RKw4y"
      }
    },
    {
      "cell_type": "markdown",
      "source": [
        "Uma vez que os seguintes requisitos são satisfeitos no problema:\n",
        "* Número fixo de tentativas;\n",
        "* independência entre as tentativas;\n",
        "* Todos os resultados classificados em duas categorias (sucesso ou fracasso)\n",
        "* Probabilidade de sucesso permanece constante;\n",
        "\n",
        "devemos utilizar a distribuição de probabilidades binomias para responder a pergunta do problema."
      ],
      "metadata": {
        "id": "FWPqxn4LKzPx"
      }
    },
    {
      "cell_type": "markdown",
      "source": [
        "Tomando o tamanho da amostra coletada como o número de tentativas, o tamanho do lote completo e a taxa de medicamentos defeitusosos para calcular a probabilidade de selecionar uma medicamento defeituoso (sucesso), temos:"
      ],
      "metadata": {
        "id": "R9i2S7QmLdd8"
      }
    },
    {
      "cell_type": "code",
      "source": [
        "#numero de tentativas\n",
        "n = 40\n",
        "#probabilidade de sucesso em cada tentativa\n",
        "p = 0.03\n",
        "#probabilidade de fracasso em cada tentativa\n",
        "q = 1 - p\n",
        "#limite mínimo de medicamento defeitusoso\n",
        "k = 1\n",
        "#probabilidade da amostra de apresentar mais de um medicamente defeitusoso (condição em que será rejeitado o lote de medicamentos)\n",
        "probabilidade = binom.sf(k,n,p)\n",
        "print('A probabilidade é: {}'.format(probabilidade))"
      ],
      "metadata": {
        "colab": {
          "base_uri": "https://localhost:8080/"
        },
        "id": "XK92FqT2Kyrd",
        "outputId": "ecca35e7-4f7e-44cf-f9c1-a5d19a57cbf4"
      },
      "execution_count": null,
      "outputs": [
        {
          "output_type": "stream",
          "name": "stdout",
          "text": [
            "A probabilidade é: 0.3384580787050327\n"
          ]
        }
      ]
    },
    {
      "cell_type": "markdown",
      "source": [
        "**Conclusões:** Como a probabilidade de obter mais de um medicamento defeitusoso é de 0,3384, a maioria das amostras coletadas estará dentro das especificações exigidas."
      ],
      "metadata": {
        "id": "_-w0_8chNUP8"
      }
    },
    {
      "cell_type": "markdown",
      "source": [
        "# Problema - amostragem de aceitação (lotes de biscoito)"
      ],
      "metadata": {
        "id": "jAzJ1iCIPp2o"
      }
    },
    {
      "cell_type": "markdown",
      "source": [
        "A cadeia Killington Market usa este planejamento de amostragem de aceitação\n",
        "para grandes carregamentos de pacotes de seus biscoitos de flocos de chocolate genéricos: Seleciona aleatoriamente 30\n",
        "pacotes e determina se cada um está dentro das especificações (não muitos biscoitos quebrados, gosto aceitável,\n",
        "distribuição dos flocos de chocolate, e assim por diante). O carregamento todo será aceito se no máximo 2 pacotes não\n",
        "corresponderem às especificações. Um carregamento contém 1.200 pacotes de biscoitos de flocos de chocolate, e 20%\n",
        "desses pacotes não correspondem às especificações. Qual é a probabilidade de que todo esse carregamento seja aceito?\n",
        "Quase todos os carregamentos serão aceitos, ou muitos serão rejeitados?"
      ],
      "metadata": {
        "id": "P-jMKG8CPuwO"
      }
    },
    {
      "cell_type": "markdown",
      "source": [
        "**Solução:**"
      ],
      "metadata": {
        "id": "UsZOZRJaQA8f"
      }
    },
    {
      "cell_type": "markdown",
      "source": [
        "Como o problema satisfaz as seguintes condições:\n",
        "1. número fixo de tentativas;\n",
        "2. independência entre as tentativas;\n",
        "3. probabilidade de sucesso e fracasso permanecem constantes;\n",
        "4. todos os resultados classificados em duas categorias (sucesso ou fracasso)\n",
        "\n",
        "Toamndo o tamanho da amostra como o número de tentativas, a probabilidade de selecionar um biscoito defeitusoso como sendo a probabilidade de sucesso em cada tentativa, temos:"
      ],
      "metadata": {
        "id": "Fyqg9vFWQkjh"
      }
    },
    {
      "cell_type": "code",
      "source": [
        "#Verificando a probabilidade do carregamento ser aceito:\n",
        "\n",
        "#numero de tentativas\n",
        "n = 30\n",
        "#probabilidade de sucesso em cada tentativa\n",
        "p = 0.2\n",
        "#probabilidade fracasso em cada tentativa\n",
        "q = 1 - p\n",
        "#limite máximo de biscoitos que não atendem às especificações\n",
        "k = 2\n",
        "#probabilidade de que o carregamento seja aceito\n",
        "probabilidade = binom.cdf(k,n,p)\n",
        "print('A probabilidade é: {}'.format(probabilidade))"
      ],
      "metadata": {
        "colab": {
          "base_uri": "https://localhost:8080/"
        },
        "id": "jtTBxwFXN2RF",
        "outputId": "7aefc81a-5cf6-4fc0-e452-b3c53455617e"
      },
      "execution_count": null,
      "outputs": [
        {
          "output_type": "stream",
          "name": "stdout",
          "text": [
            "A probabilidade é: 0.04417898515199713\n"
          ]
        }
      ]
    },
    {
      "cell_type": "markdown",
      "source": [
        "**Conclusões:** A probabilidade do carregamento ser aceito por cumprir às espeficiações é de 0,044. Como a probabilidade é menor que 0,05, tal valor de probabilidade é não usualmente baixo, o que indica que é improvável que o carregamento seja aceito. "
      ],
      "metadata": {
        "id": "q5y4OYw4R5Pj"
      }
    },
    {
      "cell_type": "code",
      "source": [
        "# Verificando a probabilidade de obter amostras com mais de 2 biscoitos fora dos parâmetros aceitos.\n",
        "\n",
        "#numero de tentativas\n",
        "n = 30\n",
        "#probabilidade de sucesso em cada tentativa\n",
        "p = 0.2\n",
        "#probabilidade fracasso em cada tentativa\n",
        "q = 1 - p\n",
        "#limite mínimo de biscoitos que não atendem às especificações\n",
        "k = 2\n",
        "#probabilidade do lote ser rejeitado\n",
        "probabilidade = binom.sf(k,n,p)\n",
        "print('A probabilidade é: {}'.format(probabilidade))"
      ],
      "metadata": {
        "colab": {
          "base_uri": "https://localhost:8080/"
        },
        "id": "jgPpxoHlSOFr",
        "outputId": "c94af88f-ff0e-4464-95ed-f5663b8d9bfe"
      },
      "execution_count": null,
      "outputs": [
        {
          "output_type": "stream",
          "name": "stdout",
          "text": [
            "A probabilidade é: 0.9558210148480029\n"
          ]
        }
      ]
    },
    {
      "cell_type": "markdown",
      "source": [
        "**Conclusões:** a probabilidade do lote ser rejeitado por não atender às normas é de 0,9558. Como o valor da probabilidade é maior que 0,95, a probabilidade de ser rejeitado é um valor não usualmente alto, o que indica que é provável que o lote seja rejeitado."
      ],
      "metadata": {
        "id": "IURIW6M0Sycj"
      }
    },
    {
      "cell_type": "markdown",
      "source": [
        "# Parâmetros da distribuição binomial"
      ],
      "metadata": {
        "id": "fZUY4kagZzwM"
      }
    },
    {
      "cell_type": "markdown",
      "source": [
        "Para distribuições binomiais temos os seguintes parâmetros:\n"
      ],
      "metadata": {
        "id": "nwpsPYE-aHnH"
      }
    },
    {
      "cell_type": "markdown",
      "source": [
        "**Média:**\n",
        "\n",
        "$$ \\mu  = np $$\n",
        "\n",
        "**Variância**\n",
        "$$\\sigma^{2} = npq$$\n",
        "\n",
        "**Desvio-padrão**\n",
        "$$\\sigma = \\sqrt{npq}$$\n",
        "\n",
        "É importante lembrar que denominamos tais valores de parâmetros, uma vez que as distribuições de probabilidade binomias referem-se a população (conjunto de todos os eventos possíveis)."
      ],
      "metadata": {
        "id": "_yyCmfY4dFvs"
      }
    },
    {
      "cell_type": "markdown",
      "source": [
        "A partir da definião do desvio-padrão de uma distribuição de probabilidade binomial, podemos usar a regra empírica da amplitude para determinar se um dado valor de probabilidade é não usual através das seguintes definições:"
      ],
      "metadata": {
        "id": "WNeBC0-he8ih"
      }
    },
    {
      "cell_type": "markdown",
      "source": [
        "**Regra empírica da amplitude**\n",
        "\n",
        "Valor usual máximo: $\\mu + 2\\sigma $"
      ],
      "metadata": {
        "id": "bd7SG-dTfMvy"
      }
    },
    {
      "cell_type": "markdown",
      "source": [
        "Valor usual mínimo: $\\mu - 2\\sigma $"
      ],
      "metadata": {
        "id": "Qt2WjbwbfqAV"
      }
    },
    {
      "cell_type": "markdown",
      "source": [
        "# Problema - determinação de parâmetros (teste clínico)"
      ],
      "metadata": {
        "id": "MBKG1z-mOrw0"
      }
    },
    {
      "cell_type": "markdown",
      "source": [
        "Em um teste clínico da droga Lipitor para o colesterol, 94 sujeitos foram tratados com 80 mg de Lipitor,\n",
        "e 6,4% deles tiveram dores de cabeça, de modo que n = 94, e p = 0,064."
      ],
      "metadata": {
        "id": "FuATcb8ZOzAu"
      }
    },
    {
      "cell_type": "markdown",
      "source": [
        "**Solução:** determinando a distribuição de propabilidades e os parâmetros da distribuição de probabilidade binomial, temos:"
      ],
      "metadata": {
        "id": "bINIK5RwO372"
      }
    },
    {
      "cell_type": "code",
      "source": [
        "#numero de tentativas\n",
        "n = 94\n",
        "#probabilidade de selecionar um individuo que apresentou dor de cabeça\n",
        "p = 0.064\n",
        "#probabilidade de selecionar um individuo que não apresentou dor de cabeça\n",
        "q = 1 - p"
      ],
      "metadata": {
        "id": "yM_FVEitZ4NP"
      },
      "execution_count": null,
      "outputs": []
    },
    {
      "cell_type": "code",
      "source": [
        "#construindo a distribuição de probabilidades, temos:\n",
        "x = 0\n",
        "probabilidades = []\n",
        "sucessos = []\n",
        "\n",
        "while x <= n:\n",
        "  aux1 = binom.pmf(x,n,p)\n",
        "  probabilidades.append(aux1)\n",
        "  sucessos.append(x)\n",
        "  x = x + 1\n",
        "\n",
        "dist_prob = pd.DataFrame({'x':sucessos,'P(x)':probabilidades})\n",
        "dist_prob"
      ],
      "metadata": {
        "colab": {
          "base_uri": "https://localhost:8080/",
          "height": 423
        },
        "id": "J5ydnibePT3M",
        "outputId": "0ccec411-52fa-4474-b454-72dacecf9953"
      },
      "execution_count": null,
      "outputs": [
        {
          "output_type": "execute_result",
          "data": {
            "text/plain": [
              "     x           P(x)\n",
              "0    0   1.994940e-03\n",
              "1    1   1.282218e-02\n",
              "2    2   4.076795e-02\n",
              "3    3   8.548493e-02\n",
              "4    4   1.329766e-01\n",
              "..  ..            ...\n",
              "90  90  8.424223e-102\n",
              "91  91  2.531935e-104\n",
              "92  92  5.645340e-107\n",
              "93  93  8.301208e-110\n",
              "94  94  6.038340e-113\n",
              "\n",
              "[95 rows x 2 columns]"
            ],
            "text/html": [
              "\n",
              "  <div id=\"df-d374adf7-f582-4647-8240-20d5380b2db0\">\n",
              "    <div class=\"colab-df-container\">\n",
              "      <div>\n",
              "<style scoped>\n",
              "    .dataframe tbody tr th:only-of-type {\n",
              "        vertical-align: middle;\n",
              "    }\n",
              "\n",
              "    .dataframe tbody tr th {\n",
              "        vertical-align: top;\n",
              "    }\n",
              "\n",
              "    .dataframe thead th {\n",
              "        text-align: right;\n",
              "    }\n",
              "</style>\n",
              "<table border=\"1\" class=\"dataframe\">\n",
              "  <thead>\n",
              "    <tr style=\"text-align: right;\">\n",
              "      <th></th>\n",
              "      <th>x</th>\n",
              "      <th>P(x)</th>\n",
              "    </tr>\n",
              "  </thead>\n",
              "  <tbody>\n",
              "    <tr>\n",
              "      <th>0</th>\n",
              "      <td>0</td>\n",
              "      <td>1.994940e-03</td>\n",
              "    </tr>\n",
              "    <tr>\n",
              "      <th>1</th>\n",
              "      <td>1</td>\n",
              "      <td>1.282218e-02</td>\n",
              "    </tr>\n",
              "    <tr>\n",
              "      <th>2</th>\n",
              "      <td>2</td>\n",
              "      <td>4.076795e-02</td>\n",
              "    </tr>\n",
              "    <tr>\n",
              "      <th>3</th>\n",
              "      <td>3</td>\n",
              "      <td>8.548493e-02</td>\n",
              "    </tr>\n",
              "    <tr>\n",
              "      <th>4</th>\n",
              "      <td>4</td>\n",
              "      <td>1.329766e-01</td>\n",
              "    </tr>\n",
              "    <tr>\n",
              "      <th>...</th>\n",
              "      <td>...</td>\n",
              "      <td>...</td>\n",
              "    </tr>\n",
              "    <tr>\n",
              "      <th>90</th>\n",
              "      <td>90</td>\n",
              "      <td>8.424223e-102</td>\n",
              "    </tr>\n",
              "    <tr>\n",
              "      <th>91</th>\n",
              "      <td>91</td>\n",
              "      <td>2.531935e-104</td>\n",
              "    </tr>\n",
              "    <tr>\n",
              "      <th>92</th>\n",
              "      <td>92</td>\n",
              "      <td>5.645340e-107</td>\n",
              "    </tr>\n",
              "    <tr>\n",
              "      <th>93</th>\n",
              "      <td>93</td>\n",
              "      <td>8.301208e-110</td>\n",
              "    </tr>\n",
              "    <tr>\n",
              "      <th>94</th>\n",
              "      <td>94</td>\n",
              "      <td>6.038340e-113</td>\n",
              "    </tr>\n",
              "  </tbody>\n",
              "</table>\n",
              "<p>95 rows × 2 columns</p>\n",
              "</div>\n",
              "      <button class=\"colab-df-convert\" onclick=\"convertToInteractive('df-d374adf7-f582-4647-8240-20d5380b2db0')\"\n",
              "              title=\"Convert this dataframe to an interactive table.\"\n",
              "              style=\"display:none;\">\n",
              "        \n",
              "  <svg xmlns=\"http://www.w3.org/2000/svg\" height=\"24px\"viewBox=\"0 0 24 24\"\n",
              "       width=\"24px\">\n",
              "    <path d=\"M0 0h24v24H0V0z\" fill=\"none\"/>\n",
              "    <path d=\"M18.56 5.44l.94 2.06.94-2.06 2.06-.94-2.06-.94-.94-2.06-.94 2.06-2.06.94zm-11 1L8.5 8.5l.94-2.06 2.06-.94-2.06-.94L8.5 2.5l-.94 2.06-2.06.94zm10 10l.94 2.06.94-2.06 2.06-.94-2.06-.94-.94-2.06-.94 2.06-2.06.94z\"/><path d=\"M17.41 7.96l-1.37-1.37c-.4-.4-.92-.59-1.43-.59-.52 0-1.04.2-1.43.59L10.3 9.45l-7.72 7.72c-.78.78-.78 2.05 0 2.83L4 21.41c.39.39.9.59 1.41.59.51 0 1.02-.2 1.41-.59l7.78-7.78 2.81-2.81c.8-.78.8-2.07 0-2.86zM5.41 20L4 18.59l7.72-7.72 1.47 1.35L5.41 20z\"/>\n",
              "  </svg>\n",
              "      </button>\n",
              "      \n",
              "  <style>\n",
              "    .colab-df-container {\n",
              "      display:flex;\n",
              "      flex-wrap:wrap;\n",
              "      gap: 12px;\n",
              "    }\n",
              "\n",
              "    .colab-df-convert {\n",
              "      background-color: #E8F0FE;\n",
              "      border: none;\n",
              "      border-radius: 50%;\n",
              "      cursor: pointer;\n",
              "      display: none;\n",
              "      fill: #1967D2;\n",
              "      height: 32px;\n",
              "      padding: 0 0 0 0;\n",
              "      width: 32px;\n",
              "    }\n",
              "\n",
              "    .colab-df-convert:hover {\n",
              "      background-color: #E2EBFA;\n",
              "      box-shadow: 0px 1px 2px rgba(60, 64, 67, 0.3), 0px 1px 3px 1px rgba(60, 64, 67, 0.15);\n",
              "      fill: #174EA6;\n",
              "    }\n",
              "\n",
              "    [theme=dark] .colab-df-convert {\n",
              "      background-color: #3B4455;\n",
              "      fill: #D2E3FC;\n",
              "    }\n",
              "\n",
              "    [theme=dark] .colab-df-convert:hover {\n",
              "      background-color: #434B5C;\n",
              "      box-shadow: 0px 1px 3px 1px rgba(0, 0, 0, 0.15);\n",
              "      filter: drop-shadow(0px 1px 2px rgba(0, 0, 0, 0.3));\n",
              "      fill: #FFFFFF;\n",
              "    }\n",
              "  </style>\n",
              "\n",
              "      <script>\n",
              "        const buttonEl =\n",
              "          document.querySelector('#df-d374adf7-f582-4647-8240-20d5380b2db0 button.colab-df-convert');\n",
              "        buttonEl.style.display =\n",
              "          google.colab.kernel.accessAllowed ? 'block' : 'none';\n",
              "\n",
              "        async function convertToInteractive(key) {\n",
              "          const element = document.querySelector('#df-d374adf7-f582-4647-8240-20d5380b2db0');\n",
              "          const dataTable =\n",
              "            await google.colab.kernel.invokeFunction('convertToInteractive',\n",
              "                                                     [key], {});\n",
              "          if (!dataTable) return;\n",
              "\n",
              "          const docLinkHtml = 'Like what you see? Visit the ' +\n",
              "            '<a target=\"_blank\" href=https://colab.research.google.com/notebooks/data_table.ipynb>data table notebook</a>'\n",
              "            + ' to learn more about interactive tables.';\n",
              "          element.innerHTML = '';\n",
              "          dataTable['output_type'] = 'display_data';\n",
              "          await google.colab.output.renderOutput(dataTable, element);\n",
              "          const docLink = document.createElement('div');\n",
              "          docLink.innerHTML = docLinkHtml;\n",
              "          element.appendChild(docLink);\n",
              "        }\n",
              "      </script>\n",
              "    </div>\n",
              "  </div>\n",
              "  "
            ]
          },
          "metadata": {},
          "execution_count": 3
        }
      ]
    },
    {
      "cell_type": "code",
      "source": [
        "#Plotando a distribuição de probabilidade, temos:\n",
        "plt.figure(figsize = (12,6))\n",
        "ax = plt.bar(dist_prob['x'],dist_prob['P(x)'])\n",
        "plt.title('Distribuição de probabilidades - teste clínico', size = 18)\n",
        "plt.xlabel('Pessoas com dor de cabeça', size = 14)\n",
        "plt.ylabel('Probabilidade', size = 14)\n",
        "ax"
      ],
      "metadata": {
        "colab": {
          "base_uri": "https://localhost:8080/",
          "height": 431
        },
        "id": "dt1B5qSdQVcl",
        "outputId": "e24d65cc-d685-4a42-e3ba-350a9da5ddf4"
      },
      "execution_count": null,
      "outputs": [
        {
          "output_type": "execute_result",
          "data": {
            "text/plain": [
              "<BarContainer object of 95 artists>"
            ]
          },
          "metadata": {},
          "execution_count": 7
        },
        {
          "output_type": "display_data",
          "data": {
            "text/plain": [
              "<Figure size 864x432 with 1 Axes>"
            ],
            "image/png": "[encoded data removed]"
          },
          "metadata": {
            "needs_background": "light"
          }
        }
      ]
    },
    {
      "cell_type": "markdown",
      "source": [
        "Calculando os parâmetros, temos:"
      ],
      "metadata": {
        "id": "PbiTe6Q_Q4Ss"
      }
    },
    {
      "cell_type": "code",
      "source": [
        "#Média\n",
        "media = n*p\n",
        "print('A média da distribuição de probabilidade é {}'.format(media))\n",
        "#Variância\n",
        "variancia = n*p*q\n",
        "print('A variância da distribuição de probabilidade é {}'.format(variancia))\n",
        "#Desvio-padrão\n",
        "desvio_padrao = np.sqrt(variancia)\n",
        "print('A desvio-padrão da distribuição de probabilidade é {}'.format(desvio_padrao))"
      ],
      "metadata": {
        "colab": {
          "base_uri": "https://localhost:8080/"
        },
        "id": "ylbc8UYMQoIu",
        "outputId": "c38591bc-7339-46fa-f28d-d496730434ce"
      },
      "execution_count": null,
      "outputs": [
        {
          "output_type": "stream",
          "name": "stdout",
          "text": [
            "A média da distribuição de probabilidade é 6.016\n",
            "A variância da distribuição de probabilidade é 5.6309759999999995\n",
            "A desvio-padrão da distribuição de probabilidade é 2.372967762107189\n"
          ]
        }
      ]
    },
    {
      "cell_type": "markdown",
      "source": [
        "Calculando os valores mínimo não usual e o valor máximo não usual, temos:"
      ],
      "metadata": {
        "id": "qICk9INVR_33"
      }
    },
    {
      "cell_type": "code",
      "source": [
        "minimo_nusual = media - 2*desvio_padrao\n",
        "print('Valor mínimo não usual: {}'.format(minimo_nusual))\n",
        "maximo_nusual = media + 2*desvio_padrao\n",
        "print('Valor máximo não usual: {}'.format(maximo_nusual))"
      ],
      "metadata": {
        "colab": {
          "base_uri": "https://localhost:8080/"
        },
        "id": "HdjY5IGgSGc3",
        "outputId": "9bf5e9cb-7fbf-4b02-a528-eda1ea6d3821"
      },
      "execution_count": null,
      "outputs": [
        {
          "output_type": "stream",
          "name": "stdout",
          "text": [
            "Valor mínimo não usual: 1.270064475785622\n",
            "Valor máximo não usual: 10.761935524214378\n"
          ]
        }
      ]
    },
    {
      "cell_type": "markdown",
      "source": [
        "**Conclusões:** a partir dos valores mínimo e máximo não usual, podemos concluir que as probabilidades se distribuem entre 1.27 e 10.76. Valores abaixo de 1,27 ou maiores que 10,76 são valores não usuais, pois são improváveis de ocorrer. A regra empírica da amplitude diz que a maioria dos resultados devem estar entre 1,27 e 10,76. A média é também o valor esperado quando o experimento probabilístico continua indefinidamente, seria o valor esperado para infinitas tentativas."
      ],
      "metadata": {
        "id": "rEJl-cp_SiDn"
      }
    },
    {
      "cell_type": "markdown",
      "source": [
        "# Problema - determinação de parâmetros (Seleção de gênero)"
      ],
      "metadata": {
        "id": "-BfdXkF6TaHk"
      }
    },
    {
      "cell_type": "markdown",
      "source": [
        "Em um teste do método YSORT de seleção de gênero, 291 bebês nascem de casais que tentam ter\n",
        "bebês meninos, e 239 desses bebês são meninos (com base em dados do Genetics & IVF Institute)."
      ],
      "metadata": {
        "id": "uHEUccvXTgWd"
      }
    },
    {
      "cell_type": "markdown",
      "source": [
        "**Item 1.** Se o método de seleção de gênero não tem nenhum efeito e meninos e meninas são igualmente prováveis, ache a média\n",
        "e o desvio-padrão para o número de meninos nascidos em grupos de 291."
      ],
      "metadata": {
        "id": "2DUHagHKUEMo"
      }
    },
    {
      "cell_type": "markdown",
      "source": [
        "**Solução:** tratando os nascimentos como igualmente prováveis, devemos calcular a probabilidade de tal resultado ser obtido pelo simples acaso. Como temos um número fixo de tentativas, a probabilidade de obter meninos (sucesso) em cada nascimento permanece constante, os resultados de nascimentos são independentes entre si e os resultados podem ser classificados em duas categorias, podemos utilizar a distribuição de probabilidade binomial para o cálculo da propabilidade de 239 bebês serem do sexo masculino em 291 nascimentos."
      ],
      "metadata": {
        "id": "BPaJNhz5UNsW"
      }
    },
    {
      "cell_type": "code",
      "source": [
        "#numero de tentativas\n",
        "n = 291\n",
        "#probabilidade de sucesso em cada tentativa\n",
        "p = 0.5\n",
        "#probabilidade de fracasso em cada tentativa\n",
        "q = 1 - p\n",
        "#numero de sucessos em n tentativas\n",
        "x = 239\n",
        "#probabilidade\n",
        "probabilidade = binom.sf(x,n,p)\n",
        "print('A probabilidade é: {}'.format(probabilidade))"
      ],
      "metadata": {
        "colab": {
          "base_uri": "https://localhost:8080/"
        },
        "id": "ui1sxsSIUMSP",
        "outputId": "d9baa649-b2e1-482b-ad3f-03723e8c720b"
      },
      "execution_count": null,
      "outputs": [
        {
          "output_type": "stream",
          "name": "stdout",
          "text": [
            "A probabilidade é: 3.226946488784228e-30\n"
          ]
        }
      ]
    },
    {
      "cell_type": "markdown",
      "source": [
        "Determinando parâmetros da distribuição de probabilidade como média e desvio-padrão, temos:"
      ],
      "metadata": {
        "id": "6mAkJphwWRFo"
      }
    },
    {
      "cell_type": "code",
      "source": [
        "#Média\n",
        "media = n*p\n",
        "print('A média da distribuição de probabilidade é {}'.format(media))\n",
        "#Variância\n",
        "variancia = n*p*q\n",
        "print('A variância da distribuição de probabilidade é {}'.format(variancia))\n",
        "#Desvio-padrão\n",
        "desvio_padrao = np.sqrt(variancia)\n",
        "print('A desvio-padrão da distribuição de probabilidade é {}'.format(desvio_padrao))\n",
        "#valor mínimo não-usual\n",
        "minimo_nusual = media - 2*desvio_padrao\n",
        "print('Valor mínimo não usual: {}'.format(minimo_nusual))\n",
        "#Valor máximo não-usual\n",
        "maximo_nusual = media + 2*desvio_padrao\n",
        "print('Valor máximo não usual: {}'.format(maximo_nusual))"
      ],
      "metadata": {
        "colab": {
          "base_uri": "https://localhost:8080/"
        },
        "id": "eJpbjoc-WaFI",
        "outputId": "672b6cb6-2354-448f-8975-31c5e0f905fa"
      },
      "execution_count": null,
      "outputs": [
        {
          "output_type": "stream",
          "name": "stdout",
          "text": [
            "A média da distribuição de probabilidade é 145.5\n",
            "A variância da distribuição de probabilidade é 72.75\n",
            "A desvio-padrão da distribuição de probabilidade é 8.52936105461599\n",
            "Valor mínimo não usual: 128.44127789076802\n",
            "Valor máximo não usual: 162.55872210923198\n"
          ]
        }
      ]
    },
    {
      "cell_type": "markdown",
      "source": [
        "Construindo a distribuição de probabilidades, temos:"
      ],
      "metadata": {
        "id": "glOqIB2nXC1P"
      }
    },
    {
      "cell_type": "code",
      "source": [
        "#distribuição de probabilidade binomial para a seleção de gênero\n",
        "\n",
        "#numero de tentativas\n",
        "n = 291\n",
        "#probabilidade de sucesso em cada tentativa\n",
        "p = 0.5\n",
        "#probabilidade de fracasso em cada tentativa\n",
        "q = 1 - p\n",
        "#numero de sucessos em n tentativas\n",
        "x = 0\n",
        "probabilidades = []\n",
        "sucessos = []\n",
        "\n",
        "while x <= n:\n",
        "  aux1 = binom.pmf(x,n,p)\n",
        "  probabilidades.append(aux1)\n",
        "  sucessos.append(x)\n",
        "  x = x + 1\n",
        "\n",
        "dist_prob = pd.DataFrame({'x':sucessos,'P(x)':probabilidades})\n",
        "dist_prob"
      ],
      "metadata": {
        "colab": {
          "base_uri": "https://localhost:8080/",
          "height": 423
        },
        "id": "o15dnoz1XGax",
        "outputId": "b6d117cf-c9a3-41f9-b4f4-d1dc1e718b8a"
      },
      "execution_count": null,
      "outputs": [
        {
          "output_type": "execute_result",
          "data": {
            "text/plain": [
              "       x          P(x)\n",
              "0      0  2.513456e-88\n",
              "1      1  7.314157e-86\n",
              "2      2  1.060553e-83\n",
              "3      3  1.021666e-81\n",
              "4      4  7.355994e-80\n",
              "..   ...           ...\n",
              "287  287  7.355994e-80\n",
              "288  288  1.021666e-81\n",
              "289  289  1.060553e-83\n",
              "290  290  7.314157e-86\n",
              "291  291  2.513456e-88\n",
              "\n",
              "[292 rows x 2 columns]"
            ],
            "text/html": [
              "\n",
              "  <div id=\"df-4fa6b72a-f514-434b-93ca-60a0fbf032a8\">\n",
              "    <div class=\"colab-df-container\">\n",
              "      <div>\n",
              "<style scoped>\n",
              "    .dataframe tbody tr th:only-of-type {\n",
              "        vertical-align: middle;\n",
              "    }\n",
              "\n",
              "    .dataframe tbody tr th {\n",
              "        vertical-align: top;\n",
              "    }\n",
              "\n",
              "    .dataframe thead th {\n",
              "        text-align: right;\n",
              "    }\n",
              "</style>\n",
              "<table border=\"1\" class=\"dataframe\">\n",
              "  <thead>\n",
              "    <tr style=\"text-align: right;\">\n",
              "      <th></th>\n",
              "      <th>x</th>\n",
              "      <th>P(x)</th>\n",
              "    </tr>\n",
              "  </thead>\n",
              "  <tbody>\n",
              "    <tr>\n",
              "      <th>0</th>\n",
              "      <td>0</td>\n",
              "      <td>2.513456e-88</td>\n",
              "    </tr>\n",
              "    <tr>\n",
              "      <th>1</th>\n",
              "      <td>1</td>\n",
              "      <td>7.314157e-86</td>\n",
              "    </tr>\n",
              "    <tr>\n",
              "      <th>2</th>\n",
              "      <td>2</td>\n",
              "      <td>1.060553e-83</td>\n",
              "    </tr>\n",
              "    <tr>\n",
              "      <th>3</th>\n",
              "      <td>3</td>\n",
              "      <td>1.021666e-81</td>\n",
              "    </tr>\n",
              "    <tr>\n",
              "      <th>4</th>\n",
              "      <td>4</td>\n",
              "      <td>7.355994e-80</td>\n",
              "    </tr>\n",
              "    <tr>\n",
              "      <th>...</th>\n",
              "      <td>...</td>\n",
              "      <td>...</td>\n",
              "    </tr>\n",
              "    <tr>\n",
              "      <th>287</th>\n",
              "      <td>287</td>\n",
              "      <td>7.355994e-80</td>\n",
              "    </tr>\n",
              "    <tr>\n",
              "      <th>288</th>\n",
              "      <td>288</td>\n",
              "      <td>1.021666e-81</td>\n",
              "    </tr>\n",
              "    <tr>\n",
              "      <th>289</th>\n",
              "      <td>289</td>\n",
              "      <td>1.060553e-83</td>\n",
              "    </tr>\n",
              "    <tr>\n",
              "      <th>290</th>\n",
              "      <td>290</td>\n",
              "      <td>7.314157e-86</td>\n",
              "    </tr>\n",
              "    <tr>\n",
              "      <th>291</th>\n",
              "      <td>291</td>\n",
              "      <td>2.513456e-88</td>\n",
              "    </tr>\n",
              "  </tbody>\n",
              "</table>\n",
              "<p>292 rows × 2 columns</p>\n",
              "</div>\n",
              "      <button class=\"colab-df-convert\" onclick=\"convertToInteractive('df-4fa6b72a-f514-434b-93ca-60a0fbf032a8')\"\n",
              "              title=\"Convert this dataframe to an interactive table.\"\n",
              "              style=\"display:none;\">\n",
              "        \n",
              "  <svg xmlns=\"http://www.w3.org/2000/svg\" height=\"24px\"viewBox=\"0 0 24 24\"\n",
              "       width=\"24px\">\n",
              "    <path d=\"M0 0h24v24H0V0z\" fill=\"none\"/>\n",
              "    <path d=\"M18.56 5.44l.94 2.06.94-2.06 2.06-.94-2.06-.94-.94-2.06-.94 2.06-2.06.94zm-11 1L8.5 8.5l.94-2.06 2.06-.94-2.06-.94L8.5 2.5l-.94 2.06-2.06.94zm10 10l.94 2.06.94-2.06 2.06-.94-2.06-.94-.94-2.06-.94 2.06-2.06.94z\"/><path d=\"M17.41 7.96l-1.37-1.37c-.4-.4-.92-.59-1.43-.59-.52 0-1.04.2-1.43.59L10.3 9.45l-7.72 7.72c-.78.78-.78 2.05 0 2.83L4 21.41c.39.39.9.59 1.41.59.51 0 1.02-.2 1.41-.59l7.78-7.78 2.81-2.81c.8-.78.8-2.07 0-2.86zM5.41 20L4 18.59l7.72-7.72 1.47 1.35L5.41 20z\"/>\n",
              "  </svg>\n",
              "      </button>\n",
              "      \n",
              "  <style>\n",
              "    .colab-df-container {\n",
              "      display:flex;\n",
              "      flex-wrap:wrap;\n",
              "      gap: 12px;\n",
              "    }\n",
              "\n",
              "    .colab-df-convert {\n",
              "      background-color: #E8F0FE;\n",
              "      border: none;\n",
              "      border-radius: 50%;\n",
              "      cursor: pointer;\n",
              "      display: none;\n",
              "      fill: #1967D2;\n",
              "      height: 32px;\n",
              "      padding: 0 0 0 0;\n",
              "      width: 32px;\n",
              "    }\n",
              "\n",
              "    .colab-df-convert:hover {\n",
              "      background-color: #E2EBFA;\n",
              "      box-shadow: 0px 1px 2px rgba(60, 64, 67, 0.3), 0px 1px 3px 1px rgba(60, 64, 67, 0.15);\n",
              "      fill: #174EA6;\n",
              "    }\n",
              "\n",
              "    [theme=dark] .colab-df-convert {\n",
              "      background-color: #3B4455;\n",
              "      fill: #D2E3FC;\n",
              "    }\n",
              "\n",
              "    [theme=dark] .colab-df-convert:hover {\n",
              "      background-color: #434B5C;\n",
              "      box-shadow: 0px 1px 3px 1px rgba(0, 0, 0, 0.15);\n",
              "      filter: drop-shadow(0px 1px 2px rgba(0, 0, 0, 0.3));\n",
              "      fill: #FFFFFF;\n",
              "    }\n",
              "  </style>\n",
              "\n",
              "      <script>\n",
              "        const buttonEl =\n",
              "          document.querySelector('#df-4fa6b72a-f514-434b-93ca-60a0fbf032a8 button.colab-df-convert');\n",
              "        buttonEl.style.display =\n",
              "          google.colab.kernel.accessAllowed ? 'block' : 'none';\n",
              "\n",
              "        async function convertToInteractive(key) {\n",
              "          const element = document.querySelector('#df-4fa6b72a-f514-434b-93ca-60a0fbf032a8');\n",
              "          const dataTable =\n",
              "            await google.colab.kernel.invokeFunction('convertToInteractive',\n",
              "                                                     [key], {});\n",
              "          if (!dataTable) return;\n",
              "\n",
              "          const docLinkHtml = 'Like what you see? Visit the ' +\n",
              "            '<a target=\"_blank\" href=https://colab.research.google.com/notebooks/data_table.ipynb>data table notebook</a>'\n",
              "            + ' to learn more about interactive tables.';\n",
              "          element.innerHTML = '';\n",
              "          dataTable['output_type'] = 'display_data';\n",
              "          await google.colab.output.renderOutput(dataTable, element);\n",
              "          const docLink = document.createElement('div');\n",
              "          docLink.innerHTML = docLinkHtml;\n",
              "          element.appendChild(docLink);\n",
              "        }\n",
              "      </script>\n",
              "    </div>\n",
              "  </div>\n",
              "  "
            ]
          },
          "metadata": {},
          "execution_count": 15
        }
      ]
    },
    {
      "cell_type": "code",
      "source": [
        "selecao = dist_prob.query('(x > 110) and (x < 180)')\n",
        "selecao"
      ],
      "metadata": {
        "colab": {
          "base_uri": "https://localhost:8080/",
          "height": 423
        },
        "id": "NcHUUjepYixg",
        "outputId": "816c5f80-9843-423f-92d1-6ead7e5fa821"
      },
      "execution_count": null,
      "outputs": [
        {
          "output_type": "execute_result",
          "data": {
            "text/plain": [
              "       x      P(x)\n",
              "111  111  0.000012\n",
              "112  112  0.000020\n",
              "113  113  0.000032\n",
              "114  114  0.000050\n",
              "115  115  0.000076\n",
              "..   ...       ...\n",
              "175  175  0.000116\n",
              "176  176  0.000076\n",
              "177  177  0.000050\n",
              "178  178  0.000032\n",
              "179  179  0.000020\n",
              "\n",
              "[69 rows x 2 columns]"
            ],
            "text/html": [
              "\n",
              "  <div id=\"df-b7e21fd4-1b38-4916-9a0d-84f637042329\">\n",
              "    <div class=\"colab-df-container\">\n",
              "      <div>\n",
              "<style scoped>\n",
              "    .dataframe tbody tr th:only-of-type {\n",
              "        vertical-align: middle;\n",
              "    }\n",
              "\n",
              "    .dataframe tbody tr th {\n",
              "        vertical-align: top;\n",
              "    }\n",
              "\n",
              "    .dataframe thead th {\n",
              "        text-align: right;\n",
              "    }\n",
              "</style>\n",
              "<table border=\"1\" class=\"dataframe\">\n",
              "  <thead>\n",
              "    <tr style=\"text-align: right;\">\n",
              "      <th></th>\n",
              "      <th>x</th>\n",
              "      <th>P(x)</th>\n",
              "    </tr>\n",
              "  </thead>\n",
              "  <tbody>\n",
              "    <tr>\n",
              "      <th>111</th>\n",
              "      <td>111</td>\n",
              "      <td>0.000012</td>\n",
              "    </tr>\n",
              "    <tr>\n",
              "      <th>112</th>\n",
              "      <td>112</td>\n",
              "      <td>0.000020</td>\n",
              "    </tr>\n",
              "    <tr>\n",
              "      <th>113</th>\n",
              "      <td>113</td>\n",
              "      <td>0.000032</td>\n",
              "    </tr>\n",
              "    <tr>\n",
              "      <th>114</th>\n",
              "      <td>114</td>\n",
              "      <td>0.000050</td>\n",
              "    </tr>\n",
              "    <tr>\n",
              "      <th>115</th>\n",
              "      <td>115</td>\n",
              "      <td>0.000076</td>\n",
              "    </tr>\n",
              "    <tr>\n",
              "      <th>...</th>\n",
              "      <td>...</td>\n",
              "      <td>...</td>\n",
              "    </tr>\n",
              "    <tr>\n",
              "      <th>175</th>\n",
              "      <td>175</td>\n",
              "      <td>0.000116</td>\n",
              "    </tr>\n",
              "    <tr>\n",
              "      <th>176</th>\n",
              "      <td>176</td>\n",
              "      <td>0.000076</td>\n",
              "    </tr>\n",
              "    <tr>\n",
              "      <th>177</th>\n",
              "      <td>177</td>\n",
              "      <td>0.000050</td>\n",
              "    </tr>\n",
              "    <tr>\n",
              "      <th>178</th>\n",
              "      <td>178</td>\n",
              "      <td>0.000032</td>\n",
              "    </tr>\n",
              "    <tr>\n",
              "      <th>179</th>\n",
              "      <td>179</td>\n",
              "      <td>0.000020</td>\n",
              "    </tr>\n",
              "  </tbody>\n",
              "</table>\n",
              "<p>69 rows × 2 columns</p>\n",
              "</div>\n",
              "      <button class=\"colab-df-convert\" onclick=\"convertToInteractive('df-b7e21fd4-1b38-4916-9a0d-84f637042329')\"\n",
              "              title=\"Convert this dataframe to an interactive table.\"\n",
              "              style=\"display:none;\">\n",
              "        \n",
              "  <svg xmlns=\"http://www.w3.org/2000/svg\" height=\"24px\"viewBox=\"0 0 24 24\"\n",
              "       width=\"24px\">\n",
              "    <path d=\"M0 0h24v24H0V0z\" fill=\"none\"/>\n",
              "    <path d=\"M18.56 5.44l.94 2.06.94-2.06 2.06-.94-2.06-.94-.94-2.06-.94 2.06-2.06.94zm-11 1L8.5 8.5l.94-2.06 2.06-.94-2.06-.94L8.5 2.5l-.94 2.06-2.06.94zm10 10l.94 2.06.94-2.06 2.06-.94-2.06-.94-.94-2.06-.94 2.06-2.06.94z\"/><path d=\"M17.41 7.96l-1.37-1.37c-.4-.4-.92-.59-1.43-.59-.52 0-1.04.2-1.43.59L10.3 9.45l-7.72 7.72c-.78.78-.78 2.05 0 2.83L4 21.41c.39.39.9.59 1.41.59.51 0 1.02-.2 1.41-.59l7.78-7.78 2.81-2.81c.8-.78.8-2.07 0-2.86zM5.41 20L4 18.59l7.72-7.72 1.47 1.35L5.41 20z\"/>\n",
              "  </svg>\n",
              "      </button>\n",
              "      \n",
              "  <style>\n",
              "    .colab-df-container {\n",
              "      display:flex;\n",
              "      flex-wrap:wrap;\n",
              "      gap: 12px;\n",
              "    }\n",
              "\n",
              "    .colab-df-convert {\n",
              "      background-color: #E8F0FE;\n",
              "      border: none;\n",
              "      border-radius: 50%;\n",
              "      cursor: pointer;\n",
              "      display: none;\n",
              "      fill: #1967D2;\n",
              "      height: 32px;\n",
              "      padding: 0 0 0 0;\n",
              "      width: 32px;\n",
              "    }\n",
              "\n",
              "    .colab-df-convert:hover {\n",
              "      background-color: #E2EBFA;\n",
              "      box-shadow: 0px 1px 2px rgba(60, 64, 67, 0.3), 0px 1px 3px 1px rgba(60, 64, 67, 0.15);\n",
              "      fill: #174EA6;\n",
              "    }\n",
              "\n",
              "    [theme=dark] .colab-df-convert {\n",
              "      background-color: #3B4455;\n",
              "      fill: #D2E3FC;\n",
              "    }\n",
              "\n",
              "    [theme=dark] .colab-df-convert:hover {\n",
              "      background-color: #434B5C;\n",
              "      box-shadow: 0px 1px 3px 1px rgba(0, 0, 0, 0.15);\n",
              "      filter: drop-shadow(0px 1px 2px rgba(0, 0, 0, 0.3));\n",
              "      fill: #FFFFFF;\n",
              "    }\n",
              "  </style>\n",
              "\n",
              "      <script>\n",
              "        const buttonEl =\n",
              "          document.querySelector('#df-b7e21fd4-1b38-4916-9a0d-84f637042329 button.colab-df-convert');\n",
              "        buttonEl.style.display =\n",
              "          google.colab.kernel.accessAllowed ? 'block' : 'none';\n",
              "\n",
              "        async function convertToInteractive(key) {\n",
              "          const element = document.querySelector('#df-b7e21fd4-1b38-4916-9a0d-84f637042329');\n",
              "          const dataTable =\n",
              "            await google.colab.kernel.invokeFunction('convertToInteractive',\n",
              "                                                     [key], {});\n",
              "          if (!dataTable) return;\n",
              "\n",
              "          const docLinkHtml = 'Like what you see? Visit the ' +\n",
              "            '<a target=\"_blank\" href=https://colab.research.google.com/notebooks/data_table.ipynb>data table notebook</a>'\n",
              "            + ' to learn more about interactive tables.';\n",
              "          element.innerHTML = '';\n",
              "          dataTable['output_type'] = 'display_data';\n",
              "          await google.colab.output.renderOutput(dataTable, element);\n",
              "          const docLink = document.createElement('div');\n",
              "          docLink.innerHTML = docLinkHtml;\n",
              "          element.appendChild(docLink);\n",
              "        }\n",
              "      </script>\n",
              "    </div>\n",
              "  </div>\n",
              "  "
            ]
          },
          "metadata": {},
          "execution_count": 26
        }
      ]
    },
    {
      "cell_type": "code",
      "source": [
        "#Plotando a distribuição de probabilidade, temos:\n",
        "selecao = dist_prob.query('(x > 110) and (x < 180)')\n",
        "plt.figure(figsize = (12,6))\n",
        "ax = plt.bar(selecao['x'],selecao['P(x)'])\n",
        "plt.title('Distribuição de probabilidades - seleção de gênero', size = 18)\n",
        "plt.xlabel('Número de meninos', size = 14)\n",
        "plt.ylabel('Probabilidade', size = 14)\n",
        "ax"
      ],
      "metadata": {
        "colab": {
          "base_uri": "https://localhost:8080/",
          "height": 431
        },
        "id": "xovnqEHHX32g",
        "outputId": "dbc26b25-4b7f-45a0-822f-65439533a585"
      },
      "execution_count": null,
      "outputs": [
        {
          "output_type": "execute_result",
          "data": {
            "text/plain": [
              "<BarContainer object of 69 artists>"
            ]
          },
          "metadata": {},
          "execution_count": 27
        },
        {
          "output_type": "display_data",
          "data": {
            "text/plain": [
              "<Figure size 864x432 with 1 Axes>"
            ],
            "image/png": "[encoded data removed]"
          },
          "metadata": {
            "needs_background": "light"
          }
        }
      ]
    },
    {
      "cell_type": "markdown",
      "source": [
        "Conclusões: Como o valor de probabilidade é extremamente pequeno, valor não usualmente alto, podemos concluir que o resultado de 239 bebês do sexo masculino em 291 nascimento é muito improvável de ocorrer pelo simples acaso, o que nos sugere que o método de seleção de gênero é eficaz. No entanto, a eficácia do método de seleção deve ser provado por métodos físicos e biológicos. Além disso, é importante observar que a média da distribuição de probabilidade é o valor média que seria obtido de bebês se fossem realizados testes indefinidamente (infinitas tentativas)"
      ],
      "metadata": {
        "id": "ve6NcAjGVqBo"
      }
    },
    {
      "cell_type": "markdown",
      "source": [
        "# Problema - determinação de parâmetros (Telefones Celulares e Câncer de Cérebro)"
      ],
      "metadata": {
        "id": "q2-CnV0VcYHt"
      }
    },
    {
      "cell_type": "markdown",
      "source": [
        "Em um estudo de 420.095 usuários de celulares na Dinamarca, verificou-se que 135 desenvolveram câncer de cérebro ou do sistema nervoso. Se supusermos que esse tipo de câncer não é afetado\n",
        "por celulares, a probabilidade de uma pessoa ter tal câncer é de 0,000340.\n"
      ],
      "metadata": {
        "id": "d6zoRMYhcgWk"
      }
    },
    {
      "cell_type": "markdown",
      "source": [
        "**Solução:** para investigarmos se há uma forte relação entre o uso de telefones celulares e câncer de cérebro, devemos calcular a probabilidade de 135 usuários entre 420.095 usuários de telefone celular desenvolvam câncer pelo simples acaso. Além disso, devemos determinar os valores mínimo não-usual e máximo não-usual para utilização da regra empírica."
      ],
      "metadata": {
        "id": "GNAesOtwcpp2"
      }
    },
    {
      "cell_type": "markdown",
      "source": [
        "Como temos um número fixo de tentativas, probabilididade de sucesso (desenvolver câncer) permanece constante, independência dos eventos, todos resultados classificados em duas categorias. Logo, podemos utilizar a distribuição de probabilidade binomial para determinação da probabilidade de 135 sucessos em 420.095 tentativas com probabilidade de sucesso em cada tentativa de 0.00034, uma vez que todos os requisitos são satisfeitos."
      ],
      "metadata": {
        "id": "CGYgx97QdGn2"
      }
    },
    {
      "cell_type": "code",
      "source": [
        "#Calculando os parâmetros da distribuição de probabilidade binomial, temos:\n",
        "\n",
        "#numero de tentativas\n",
        "n = 420095\n",
        "#probabilidade de sucesso em cada tentativa\n",
        "p = 0.00034\n",
        "#probabilidade de fracasso em cada tentativa\n",
        "q = 1 - p\n",
        "\n",
        "#Média\n",
        "media = n*p\n",
        "print('A média da distribuição de probabilidade é {}'.format(media))\n",
        "#Variância\n",
        "variancia = n*p*q\n",
        "print('A variância da distribuição de probabilidade é {}'.format(variancia))\n",
        "#Desvio-padrão\n",
        "desvio_padrao = np.sqrt(variancia)\n",
        "print('A desvio-padrão da distribuição de probabilidade é {}'.format(desvio_padrao))\n",
        "#valor mínimo não-usual\n",
        "minimo_nusual = media - 2*desvio_padrao\n",
        "print('Valor mínimo não usual: {}'.format(minimo_nusual))\n",
        "#Valor máximo não-usual\n",
        "maximo_nusual = media + 2*desvio_padrao\n",
        "print('Valor máximo não usual: {}'.format(maximo_nusual))"
      ],
      "metadata": {
        "id": "jhFcvfU8WBLn",
        "colab": {
          "base_uri": "https://localhost:8080/"
        },
        "outputId": "3e67745d-7dcb-4a2d-93c3-6e79ffbc3240"
      },
      "execution_count": null,
      "outputs": [
        {
          "output_type": "stream",
          "name": "stdout",
          "text": [
            "A média da distribuição de probabilidade é 142.8323\n",
            "A variância da distribuição de probabilidade é 142.783737018\n",
            "A desvio-padrão da distribuição de probabilidade é 11.949214912202391\n",
            "Valor mínimo não usual: 118.93387017559522\n",
            "Valor máximo não usual: 166.7307298244048\n"
          ]
        }
      ]
    },
    {
      "cell_type": "markdown",
      "source": [
        "**Conclusões:** como o valor de 135 está entre os limites de valores não usuais, podemos afirmar que tal valor pode ter ocorrido por simples acaso. Não sugerindo nenhuma relação entre os casos de câncer e uso de telefones celulares."
      ],
      "metadata": {
        "id": "H0gGSFtOknnA"
      }
    },
    {
      "cell_type": "markdown",
      "source": [
        "# Distribuição de Poisson"
      ],
      "metadata": {
        "id": "5yEg7VgWk_WO"
      }
    },
    {
      "cell_type": "markdown",
      "source": [
        "A distribuição de poisson é uma distribuição de probabilidade discreta que se aplica a ocorrências de eventos ao longo de intervalos especificados. Os intervalos podem ser de tempo, distância, área, volume, etc."
      ],
      "metadata": {
        "id": "yzz--LQllFYO"
      }
    },
    {
      "cell_type": "markdown",
      "source": [
        "A probabilidade de ocorrência de x eventos em um intervalo de tempo específico, onde a média de ocorrências nesse intervalo é μ é dada por:\n",
        "$$P(x) = \\frac{\\mu^{x}\\cdot e^{-\\mu }}{x!}$$\n"
      ],
      "metadata": {
        "id": "n0cWFi-zlyJg"
      }
    },
    {
      "cell_type": "markdown",
      "source": [
        "O uso da distribuição de poisson para o cálculo de probabilidades deve satisfazer os seguintes requisitos:\n",
        "1. x representa a quantidade de observações de um determinado evento em um intervalo específico;\n",
        "2. As observações devem ser aleatórias;\n",
        "3. As observações devem ser independentes entre si;\n",
        "4. Observações devem ser distribuidas de modo uniforme no intervalo especificado.\n"
      ],
      "metadata": {
        "id": "tkBaIDgfmJ9Q"
      }
    },
    {
      "cell_type": "markdown",
      "source": [
        "Os parâmetros da distribuição de Poisson são os seguintes:\n",
        "* Média é m, número de observações/intervalo especificado;\n",
        "* Desvio-padrão é dado por:\n",
        "$$\\sqrt{\\mu}$$\n",
        "\n",
        "Podemos utilizar a distribuição de Poisson para aproximar uma distribuição de probabilidade binomial. A aproximação pode ser feita quando são obedecidos os seguintes requisitos:\n",
        "1. n > 99;\n",
        "2. np < 11.\n",
        "\n",
        "Utilizando como média o valor numérico dado pela seguinte expressão:\n",
        "\n",
        "$$\\mu = np$$\n",
        "\n",
        "Para o cálculo das probabilidades de Poisson podemos utilizar o método \"poisson.pmf(x,media)\" da biblioteca scipy.stats. Esse método é utilizado para calcular a probabilidade de x sucessos ocorrerem em determinado intervalo de tempo ou espaço, sabendo que a média de ocorrência é \"media\".\n",
        "\n",
        "https://docs.scipy.org/doc/scipy/reference/generated/scipy.stats.poisson.html"
      ],
      "metadata": {
        "id": "K1UUEsGkm0t3"
      }
    },
    {
      "cell_type": "markdown",
      "source": [
        "# Problema distribuição de Poisson - Terremotos nos Estados Unidos"
      ],
      "metadata": {
        "id": "YW12vTyTwPjf"
      }
    },
    {
      "cell_type": "markdown",
      "source": [
        "Várias fontes fornecem diferentes dados sobre terremotos, mas suponha que para um\n",
        "recente período de 41 anos nos Estados Unidos, tenha havido 268 terremotos medindo 6,0 ou mais na escala Richter\n",
        "(com base em dados da U.S. Geological Survey)."
      ],
      "metadata": {
        "id": "bcxHnyUFwYE_"
      }
    },
    {
      "cell_type": "markdown",
      "source": [
        "Solução:"
      ],
      "metadata": {
        "id": "zh751ICTwhR3"
      }
    },
    {
      "cell_type": "markdown",
      "source": [
        "Determinando o número médio de terremotos, temos:"
      ],
      "metadata": {
        "id": "QZj4YPxuwkaC"
      }
    },
    {
      "cell_type": "code",
      "source": [
        "media = 268/41\n",
        "print('Média de {} terremotos por ano.'.format(media))"
      ],
      "metadata": {
        "colab": {
          "base_uri": "https://localhost:8080/"
        },
        "id": "m4oS73MdlE4o",
        "outputId": "6e796ec6-a9d1-45b0-dc14-e585c0100013"
      },
      "execution_count": null,
      "outputs": [
        {
          "output_type": "stream",
          "name": "stdout",
          "text": [
            "Média de 6.536585365853658 terremotos por ano.\n"
          ]
        }
      ]
    },
    {
      "cell_type": "markdown",
      "source": [
        "Calculando a probabilidade de que em um determinado ano, selecionado aleatoriamente, haja pelo menos um terremoto medindo 6,0 ou mais na escala Richter, temos: "
      ],
      "metadata": {
        "id": "cJamU2wzw7X0"
      }
    },
    {
      "cell_type": "code",
      "source": [
        "#Calculando a probabilidade de que em um determinado ano não ocorra terremotos, temos:\n",
        "x = 0\n",
        "probabilidade = poisson.pmf(x,media)\n",
        "print('Probabilidade: {}'.format(probabilidade))"
      ],
      "metadata": {
        "colab": {
          "base_uri": "https://localhost:8080/"
        },
        "id": "kzWuQXOCw4CB",
        "outputId": "b2d15aec-7762-4119-cede-8d4ab21ea4dd"
      },
      "execution_count": null,
      "outputs": [
        {
          "output_type": "stream",
          "name": "stdout",
          "text": [
            "Probabilidade: 0.0014494293295368665\n"
          ]
        }
      ]
    },
    {
      "cell_type": "code",
      "source": [
        "#Calculando a probabilidade de que pelo menos um terremoto ocorra, temos:\n",
        "complementar = 1 - probabilidade\n",
        "print('Probabilidade: {}'.format(complementar))"
      ],
      "metadata": {
        "colab": {
          "base_uri": "https://localhost:8080/"
        },
        "id": "FPdTesV-yVZK",
        "outputId": "baa77e2a-cae7-4294-dde8-336ff6be9fc1"
      },
      "execution_count": null,
      "outputs": [
        {
          "output_type": "stream",
          "name": "stdout",
          "text": [
            "Probabilidade: 0.9985505706704632\n"
          ]
        }
      ]
    },
    {
      "cell_type": "markdown",
      "source": [
        "Podemos concluir que é improvável que em um ano não ocorra terremotos com 6,0 ou mais na escala Richter, uma vez que a probabilidade calculada para um ano sem terremotos é de 0,0014.\n"
      ],
      "metadata": {
        "id": "xcVS-P3eytcK"
      }
    },
    {
      "cell_type": "markdown",
      "source": [
        "No presente problema utilizamos um intervalo de tempo para cálculo de probabilidades usando a distribuição de Poisson."
      ],
      "metadata": {
        "id": "FMDzjRKJ58_T"
      }
    },
    {
      "cell_type": "markdown",
      "source": [
        "# Problema distribuição Poisson - Bombas da Segunda Guerra Mundial"
      ],
      "metadata": {
        "id": "-jYEKLXj1KRC"
      }
    },
    {
      "cell_type": "markdown",
      "source": [
        "Na Segunda Guerra Mundial, o Sul de Londres foi dividido em 576 regiões, cada uma com área de 0,25 km2. Um total de\n",
        "535 bombas V-1 caiu na região combinada das 576 regiões. Baseado nessa informação, responda as perguntas que seguem."
      ],
      "metadata": {
        "id": "NekJl3Dp1QR5"
      }
    },
    {
      "cell_type": "markdown",
      "source": [
        "Item 1. Ache a probabilidade de que uma região selecionada aleatoriamente tenha tido exatamente 2 ataques."
      ],
      "metadata": {
        "id": "yMD7EYz-1k0p"
      }
    },
    {
      "cell_type": "markdown",
      "source": [
        "Solução:"
      ],
      "metadata": {
        "id": "_8zMqgCE1_MS"
      }
    },
    {
      "cell_type": "markdown",
      "source": [
        "Para calcular a probabilidade de que uma região aleatoriamente selecionada tenha sido atingida duas vezes, precisamos calcular a média de ataques por região e, em seguida, usar a distribuição de Poisson com x = 2."
      ],
      "metadata": {
        "id": "2ZYXtKTT2BDa"
      }
    },
    {
      "cell_type": "code",
      "source": [
        "#Média de ataques por região\n",
        "media = 535/576\n",
        "print('Média de ataques por região: {}'.format(media))"
      ],
      "metadata": {
        "colab": {
          "base_uri": "https://localhost:8080/"
        },
        "id": "EXTm457D1Opg",
        "outputId": "1a252f7e-3adb-4e60-de4d-9f5740ed1cc3"
      },
      "execution_count": null,
      "outputs": [
        {
          "output_type": "stream",
          "name": "stdout",
          "text": [
            "Média de ataques por região: 0.9288194444444444\n"
          ]
        }
      ]
    },
    {
      "cell_type": "code",
      "source": [
        "#Calculando a probabilidade de dois ataques em uma região aleatoriamente selecionada, temos:\n",
        "x = 2\n",
        "probabilidade = poisson.pmf(x,media)\n",
        "print('Probabilidade: {}'.format(probabilidade))"
      ],
      "metadata": {
        "colab": {
          "base_uri": "https://localhost:8080/"
        },
        "id": "3W3QtgNW2aMa",
        "outputId": "6d8492e6-046d-4fd1-fc20-f2e3025ea6ce"
      },
      "execution_count": null,
      "outputs": [
        {
          "output_type": "stream",
          "name": "stdout",
          "text": [
            "Probabilidade: 0.17039287947064016\n"
          ]
        }
      ]
    },
    {
      "cell_type": "markdown",
      "source": [
        "Item 2: Entre as 576 regiões, ache o número esperado de regiões com exatamente 2 ataques."
      ],
      "metadata": {
        "id": "7DINpxph2yhr"
      }
    },
    {
      "cell_type": "markdown",
      "source": [
        "Solução: o valor esperado é a média da distribuição binomial, ou seja, média = np. Onde P representa a probabilidade de uma região ser atacada exatamente duas vezes e n representa o número de tentativas, ou número de regiões."
      ],
      "metadata": {
        "id": "A28AMXin3_Lp"
      }
    },
    {
      "cell_type": "code",
      "source": [
        "n = 576\n",
        "x = 2\n",
        "media = 535/576\n",
        "p = poisson.pmf(x,media)\n",
        "valor_esperado = n*p\n",
        "print('Valor esperado: {}'.format(valor_esperado))"
      ],
      "metadata": {
        "colab": {
          "base_uri": "https://localhost:8080/"
        },
        "id": "grP5Hpd13-Zi",
        "outputId": "d201753f-520b-4bd6-e967-95ce10ea5ae4"
      },
      "execution_count": null,
      "outputs": [
        {
          "output_type": "stream",
          "name": "stdout",
          "text": [
            "Valor esperado: 98.14629857508874\n"
          ]
        }
      ]
    },
    {
      "cell_type": "markdown",
      "source": [
        "Portanto, espera-se que 98 regiões tenham sido atingidas por, exatamente, dois ataques de bombas V1."
      ],
      "metadata": {
        "id": "ugLg3aNr483b"
      }
    },
    {
      "cell_type": "markdown",
      "source": [
        "No presente problema, utilizamos intervalo de áreas para o cálculo de probabilidades usando a distribuição de Poisson."
      ],
      "metadata": {
        "id": "bDhL1j-r6GG5"
      }
    },
    {
      "cell_type": "code",
      "source": [
        ""
      ],
      "metadata": {
        "id": "SrVCyu0M6Lsu"
      },
      "execution_count": null,
      "outputs": []
    }
  ]
}