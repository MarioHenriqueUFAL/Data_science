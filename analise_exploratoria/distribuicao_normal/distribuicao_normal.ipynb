{
  "cells": [
    {
      "cell_type": "markdown",
      "metadata": {
        "id": "UmoWuJtxZKyQ"
      },
      "source": [
        "# Distribuição normal\n",
        "\n",
        "Uma variável aleatória contínua apresenta uma distribuição normal quando o gráfico é simétrico e em forma de sino. Para construir uma distribuição normal, precisamos de dois parâmetros: média e desvio-padrão. Um tipo particular de distribuição normal é a distribuição normal-padrão, muito utilizada para obtenção de frequências relativas e probabilidades em diversas aplicações.\n",
        "\n",
        "A distribuição normal apresenta as seguintes características:\n",
        "1. o gráfico da distribuição normal apresenta forma de sino;\n",
        "2. a média é igual a 0;\n",
        "3. apresenta desvio-padrão igual a 1;\n",
        "4. área sob a curva de densidade igual a 1.\n",
        "\n",
        "Outra característica importante é a correspondência entre área sob o gráfico e probabilidade, sendo a probabilidade determinada pela área sob a curva de densidade. A curva de densidade é o gráfico de uma distribuição de probabilidade contínua. A correspondência entre área sob a curva de densidade e probabilidades ou frequências relativas é derivado do fato de que a área total sob a curva é igual a 1.\n",
        "\n",
        "Para determinar as áreas sob a curva de densidade é necessário o uso de tecnologias e tabelas padronizadas utilizando dados de escores Z. Os scores Z indicam o desvio-padrão em relação a média da distribuição. Logo, Z = 1 ou Z = -1 representa 1 desvio-padrão em relação a média. Um escore Z negativo indica um valor Z que está a esquerda da média, um escore positivo, por sua vez, indica um valor que está a direita da média. As tabelas de escores Z indicam a área limitada pelo escore. Para um Z particular, os dados da tabela aparesentam valores correspondentes a área à esquerda do valor limite Z, esse fato é utilizado nos cálculos de probabilidades e frequências relativas para determinação da área sob a curva de densidade a partir de escores Z.\n",
        "\n",
        "Em geral, as distribuições normais não apresentam média igual a 0 e desvio-padrão igual a 1. No entanto, podemos padronizar qualquer distribuição normal para usar os métodos aplicados em uma distribuição normal-padrão. Para isso precisamos transformar um valor x da distribuição normal qualquer em um escore Z através da aplicação da seguinte fórmula:\n",
        "\n",
        "$$z = \\frac{x - \\mu}{\\sigma}$$\n",
        "\n",
        "Após a conversão para uma distribuição normal-padrão, a área à esquerda limitada por x é igual a área esquerda limitada pelo escore Z.\n",
        "\n",
        "Também podemos encontar valores x a partir de áreas conhecidas, ou probabilidades conhecidas. Conhecendo o valor Z correspondente a área (probabilidade ou frequência relativa) podemos determinar o valor x da distribuição normal através da aplicação da seguinte expressão matemática: \n",
        "\n",
        "$$x = \\mu +(z\\cdot \\sigma )$$\n",
        "\n",
        "Ao usarmos a expressão acima, devemos estar atentos ao valor de Z. Precisamos verificar se o Z está à esquerda da média ou à direita da média.\n",
        "\n",
        "Para utilização da distribuição normal precisamos estar atentos aos seguintes pontos:\n",
        "\n",
        "1. primeiramente devemos esboçar um gráfico para melhor compreensão do problema que está sendo trabalhado;\n",
        "2. devemos determinar se o objetivo do trabalho é encontrar uma probabilidade, ou frequência relativa, ou um valor x correspondente à uma probabilidade ou frequência relativa;\n",
        "\n",
        "\n"
      ]
    },
    {
      "cell_type": "markdown",
      "metadata": {
        "id": "xdsv8HdImxY-"
      },
      "source": [
        "# Teste de normalidade"
      ]
    },
    {
      "cell_type": "markdown",
      "metadata": {
        "id": "MOwEKgaLmz1c"
      },
      "source": [
        "Os critérios para que uma distribuição seja considerada uma distribuição normal envolvem inspeção visual de histogramas para verificar se a distribuição de dados apresenta a forma aproximada de sino; identificação de outliers e construção de gráficos de quantis normais.\n",
        "\n",
        "O gráfico de quantis normais é um gráficos em que a escala horizontal se refere aos valores do conjunto original de dados e a escala vertical se refere ao escore z correspondente.\n",
        "\n",
        "Para determinar se é razoável supor que um conjunto de dados amostrais são provenientes de uma população normalmente distribuida, podemos utilizar a seguinte metodologia:\n",
        "\n",
        "Primeiramente podemos construir histogramas para verificar se a distribuição dos dados se afastam dramaticamente de uma forma de sino. Caso os dados não apresentem uma distribuição em forma de sino podemos descartar a hipótese de amostra oriunda de uma população normalmente distribuída. Na segunda etapa devemos encontrar valores outliers, caso haja mais de 1 outlier no conjunto de dados podemos descartar a hipótese de dados oriundos de uma população normalmente distribuída. Por fim, construímos o gráfico de quantis normais. Para que hipótese de que um conjunto de dados é proveniente de uma população normalmente distribuída ser razoável, é necessário que, além de satisfazer os critérios estabelecidos anteriormente, os pontos estejam razoavelmente próximos de uma reta e não exibirem um comportamento sistemático diferente de uma reta, ambas as condições devem ser satisfeitas na análise do gráficos de quantis normais.\n",
        "\n",
        "Além desses métodos, há outros métodos formais para a determinação de normalidade como, por exemplo, o teste de Kolmogorov-Sminorv."
      ]
    },
    {
      "cell_type": "code",
      "execution_count": 53,
      "metadata": {
        "id": "N1LM--k1G71c"
      },
      "outputs": [],
      "source": [
        "#Importação das bibliotecas necessárias\n",
        "import pandas as pd\n",
        "import seaborn as sns\n",
        "import matplotlib.pyplot as plt\n",
        "from scipy.stats import norm\n",
        "import numpy as np"
      ]
    },
    {
      "cell_type": "markdown",
      "metadata": {
        "id": "sw47pBI6l2Vj"
      },
      "source": [
        "# Aplicações da distribuição normal-padrão"
      ]
    },
    {
      "cell_type": "markdown",
      "metadata": {
        "id": "RnLt28mGl6eA"
      },
      "source": [
        "Nesta seção vamos utilizar conjuntos de dados em planilhas de forma a colocar em prática os conhecimentos de análise exploratória de dados e tratamento de dados, bem como utilizar os conhecimentos de distribuição normal-padrão usando bibliotecas especilizadas do python. Importante destacar que o objetivo desse trabalho não é focar na matemática das ferramentas empregadas, mas sim o aprendizado e interpretação dos conceitos, bem como a análise e discussão dos problemas."
      ]
    },
    {
      "cell_type": "markdown",
      "metadata": {
        "id": "DTv05Gi3muuY"
      },
      "source": [
        "# Distribuição de alturas corporais de homens"
      ]
    },
    {
      "cell_type": "markdown",
      "metadata": {
        "id": "4sxjzJV0m0qY"
      },
      "source": [
        "Nos problemas que se seguem, vamos utilizar o conjuntos de dados 1 do apêndice B do livro de referência do autor Mario F. Triola (2017). O conjunto de dados tem média populacionar $\\mu$ igual a 176,53 cm e desvio-padrão $\\sigma$ igual a 6,096 cm."
      ]
    },
    {
      "cell_type": "code",
      "execution_count": 6,
      "metadata": {
        "colab": {
          "base_uri": "https://localhost:8080/",
          "height": 363
        },
        "id": "eSsK0raklysx",
        "outputId": "b9ffc122-4671-4252-f32d-f0697a9990b3"
      },
      "outputs": [
        {
          "output_type": "execute_result",
          "data": {
            "text/plain": [
              "   AGE  PULSE  SYS  DIAS  HDL  LDL  WHITE   RED  PLATE     WT     HT  WAIST  \\\n",
              "0   18     60  132    68   44  213    8.7  4.91    409   64.4  178.8   81.4   \n",
              "1   20     74  120    68   41   88    5.9  5.59    187   61.8  177.5   74.8   \n",
              "2   43     86  106    84   71  174    7.3  4.44    250   78.5  187.8   84.1   \n",
              "3   39     54  104    60   41  121    6.2  4.80    273   86.3  172.4   95.5   \n",
              "4   60     90  122    80   57  124    5.9  5.17    278   73.1  181.7   90.1   \n",
              "5   18     80  122    62   50   99    6.4  5.24    279   58.5  169.0   69.8   \n",
              "6   57     66  126    78   60  114    3.9  4.51    237  134.3  186.9  137.8   \n",
              "7   27     68  118    60   47  122    6.4  4.77    200   79.8  183.1   94.4   \n",
              "8   20     68  110    40   44  112    9.8  5.02    209   64.8  176.4   74.2   \n",
              "9   18     56   96    56   33   67    4.0  5.10    203   58.1  183.4   69.9   \n",
              "\n",
              "   ARMC    BMI  \n",
              "0  28.4  20.14  \n",
              "1  26.8  19.62  \n",
              "2  32.3  22.26  \n",
              "3  39.0  29.04  \n",
              "4  29.4  22.14  \n",
              "5  28.7  20.48  \n",
              "6  42.8  38.45  \n",
              "7  32.0  23.80  \n",
              "8  29.2  20.82  \n",
              "9  26.2  17.27  "
            ],
            "text/html": [
              "\n",
              "  <div id=\"df-0c04fef0-4c29-428a-a82f-623da19588c2\">\n",
              "    <div class=\"colab-df-container\">\n",
              "      <div>\n",
              "<style scoped>\n",
              "    .dataframe tbody tr th:only-of-type {\n",
              "        vertical-align: middle;\n",
              "    }\n",
              "\n",
              "    .dataframe tbody tr th {\n",
              "        vertical-align: top;\n",
              "    }\n",
              "\n",
              "    .dataframe thead th {\n",
              "        text-align: right;\n",
              "    }\n",
              "</style>\n",
              "<table border=\"1\" class=\"dataframe\">\n",
              "  <thead>\n",
              "    <tr style=\"text-align: right;\">\n",
              "      <th></th>\n",
              "      <th>AGE</th>\n",
              "      <th>PULSE</th>\n",
              "      <th>SYS</th>\n",
              "      <th>DIAS</th>\n",
              "      <th>HDL</th>\n",
              "      <th>LDL</th>\n",
              "      <th>WHITE</th>\n",
              "      <th>RED</th>\n",
              "      <th>PLATE</th>\n",
              "      <th>WT</th>\n",
              "      <th>HT</th>\n",
              "      <th>WAIST</th>\n",
              "      <th>ARMC</th>\n",
              "      <th>BMI</th>\n",
              "    </tr>\n",
              "  </thead>\n",
              "  <tbody>\n",
              "    <tr>\n",
              "      <th>0</th>\n",
              "      <td>18</td>\n",
              "      <td>60</td>\n",
              "      <td>132</td>\n",
              "      <td>68</td>\n",
              "      <td>44</td>\n",
              "      <td>213</td>\n",
              "      <td>8.7</td>\n",
              "      <td>4.91</td>\n",
              "      <td>409</td>\n",
              "      <td>64.4</td>\n",
              "      <td>178.8</td>\n",
              "      <td>81.4</td>\n",
              "      <td>28.4</td>\n",
              "      <td>20.14</td>\n",
              "    </tr>\n",
              "    <tr>\n",
              "      <th>1</th>\n",
              "      <td>20</td>\n",
              "      <td>74</td>\n",
              "      <td>120</td>\n",
              "      <td>68</td>\n",
              "      <td>41</td>\n",
              "      <td>88</td>\n",
              "      <td>5.9</td>\n",
              "      <td>5.59</td>\n",
              "      <td>187</td>\n",
              "      <td>61.8</td>\n",
              "      <td>177.5</td>\n",
              "      <td>74.8</td>\n",
              "      <td>26.8</td>\n",
              "      <td>19.62</td>\n",
              "    </tr>\n",
              "    <tr>\n",
              "      <th>2</th>\n",
              "      <td>43</td>\n",
              "      <td>86</td>\n",
              "      <td>106</td>\n",
              "      <td>84</td>\n",
              "      <td>71</td>\n",
              "      <td>174</td>\n",
              "      <td>7.3</td>\n",
              "      <td>4.44</td>\n",
              "      <td>250</td>\n",
              "      <td>78.5</td>\n",
              "      <td>187.8</td>\n",
              "      <td>84.1</td>\n",
              "      <td>32.3</td>\n",
              "      <td>22.26</td>\n",
              "    </tr>\n",
              "    <tr>\n",
              "      <th>3</th>\n",
              "      <td>39</td>\n",
              "      <td>54</td>\n",
              "      <td>104</td>\n",
              "      <td>60</td>\n",
              "      <td>41</td>\n",
              "      <td>121</td>\n",
              "      <td>6.2</td>\n",
              "      <td>4.80</td>\n",
              "      <td>273</td>\n",
              "      <td>86.3</td>\n",
              "      <td>172.4</td>\n",
              "      <td>95.5</td>\n",
              "      <td>39.0</td>\n",
              "      <td>29.04</td>\n",
              "    </tr>\n",
              "    <tr>\n",
              "      <th>4</th>\n",
              "      <td>60</td>\n",
              "      <td>90</td>\n",
              "      <td>122</td>\n",
              "      <td>80</td>\n",
              "      <td>57</td>\n",
              "      <td>124</td>\n",
              "      <td>5.9</td>\n",
              "      <td>5.17</td>\n",
              "      <td>278</td>\n",
              "      <td>73.1</td>\n",
              "      <td>181.7</td>\n",
              "      <td>90.1</td>\n",
              "      <td>29.4</td>\n",
              "      <td>22.14</td>\n",
              "    </tr>\n",
              "    <tr>\n",
              "      <th>5</th>\n",
              "      <td>18</td>\n",
              "      <td>80</td>\n",
              "      <td>122</td>\n",
              "      <td>62</td>\n",
              "      <td>50</td>\n",
              "      <td>99</td>\n",
              "      <td>6.4</td>\n",
              "      <td>5.24</td>\n",
              "      <td>279</td>\n",
              "      <td>58.5</td>\n",
              "      <td>169.0</td>\n",
              "      <td>69.8</td>\n",
              "      <td>28.7</td>\n",
              "      <td>20.48</td>\n",
              "    </tr>\n",
              "    <tr>\n",
              "      <th>6</th>\n",
              "      <td>57</td>\n",
              "      <td>66</td>\n",
              "      <td>126</td>\n",
              "      <td>78</td>\n",
              "      <td>60</td>\n",
              "      <td>114</td>\n",
              "      <td>3.9</td>\n",
              "      <td>4.51</td>\n",
              "      <td>237</td>\n",
              "      <td>134.3</td>\n",
              "      <td>186.9</td>\n",
              "      <td>137.8</td>\n",
              "      <td>42.8</td>\n",
              "      <td>38.45</td>\n",
              "    </tr>\n",
              "    <tr>\n",
              "      <th>7</th>\n",
              "      <td>27</td>\n",
              "      <td>68</td>\n",
              "      <td>118</td>\n",
              "      <td>60</td>\n",
              "      <td>47</td>\n",
              "      <td>122</td>\n",
              "      <td>6.4</td>\n",
              "      <td>4.77</td>\n",
              "      <td>200</td>\n",
              "      <td>79.8</td>\n",
              "      <td>183.1</td>\n",
              "      <td>94.4</td>\n",
              "      <td>32.0</td>\n",
              "      <td>23.80</td>\n",
              "    </tr>\n",
              "    <tr>\n",
              "      <th>8</th>\n",
              "      <td>20</td>\n",
              "      <td>68</td>\n",
              "      <td>110</td>\n",
              "      <td>40</td>\n",
              "      <td>44</td>\n",
              "      <td>112</td>\n",
              "      <td>9.8</td>\n",
              "      <td>5.02</td>\n",
              "      <td>209</td>\n",
              "      <td>64.8</td>\n",
              "      <td>176.4</td>\n",
              "      <td>74.2</td>\n",
              "      <td>29.2</td>\n",
              "      <td>20.82</td>\n",
              "    </tr>\n",
              "    <tr>\n",
              "      <th>9</th>\n",
              "      <td>18</td>\n",
              "      <td>56</td>\n",
              "      <td>96</td>\n",
              "      <td>56</td>\n",
              "      <td>33</td>\n",
              "      <td>67</td>\n",
              "      <td>4.0</td>\n",
              "      <td>5.10</td>\n",
              "      <td>203</td>\n",
              "      <td>58.1</td>\n",
              "      <td>183.4</td>\n",
              "      <td>69.9</td>\n",
              "      <td>26.2</td>\n",
              "      <td>17.27</td>\n",
              "    </tr>\n",
              "  </tbody>\n",
              "</table>\n",
              "</div>\n",
              "      <button class=\"colab-df-convert\" onclick=\"convertToInteractive('df-0c04fef0-4c29-428a-a82f-623da19588c2')\"\n",
              "              title=\"Convert this dataframe to an interactive table.\"\n",
              "              style=\"display:none;\">\n",
              "        \n",
              "  <svg xmlns=\"http://www.w3.org/2000/svg\" height=\"24px\"viewBox=\"0 0 24 24\"\n",
              "       width=\"24px\">\n",
              "    <path d=\"M0 0h24v24H0V0z\" fill=\"none\"/>\n",
              "    <path d=\"M18.56 5.44l.94 2.06.94-2.06 2.06-.94-2.06-.94-.94-2.06-.94 2.06-2.06.94zm-11 1L8.5 8.5l.94-2.06 2.06-.94-2.06-.94L8.5 2.5l-.94 2.06-2.06.94zm10 10l.94 2.06.94-2.06 2.06-.94-2.06-.94-.94-2.06-.94 2.06-2.06.94z\"/><path d=\"M17.41 7.96l-1.37-1.37c-.4-.4-.92-.59-1.43-.59-.52 0-1.04.2-1.43.59L10.3 9.45l-7.72 7.72c-.78.78-.78 2.05 0 2.83L4 21.41c.39.39.9.59 1.41.59.51 0 1.02-.2 1.41-.59l7.78-7.78 2.81-2.81c.8-.78.8-2.07 0-2.86zM5.41 20L4 18.59l7.72-7.72 1.47 1.35L5.41 20z\"/>\n",
              "  </svg>\n",
              "      </button>\n",
              "      \n",
              "  <style>\n",
              "    .colab-df-container {\n",
              "      display:flex;\n",
              "      flex-wrap:wrap;\n",
              "      gap: 12px;\n",
              "    }\n",
              "\n",
              "    .colab-df-convert {\n",
              "      background-color: #E8F0FE;\n",
              "      border: none;\n",
              "      border-radius: 50%;\n",
              "      cursor: pointer;\n",
              "      display: none;\n",
              "      fill: #1967D2;\n",
              "      height: 32px;\n",
              "      padding: 0 0 0 0;\n",
              "      width: 32px;\n",
              "    }\n",
              "\n",
              "    .colab-df-convert:hover {\n",
              "      background-color: #E2EBFA;\n",
              "      box-shadow: 0px 1px 2px rgba(60, 64, 67, 0.3), 0px 1px 3px 1px rgba(60, 64, 67, 0.15);\n",
              "      fill: #174EA6;\n",
              "    }\n",
              "\n",
              "    [theme=dark] .colab-df-convert {\n",
              "      background-color: #3B4455;\n",
              "      fill: #D2E3FC;\n",
              "    }\n",
              "\n",
              "    [theme=dark] .colab-df-convert:hover {\n",
              "      background-color: #434B5C;\n",
              "      box-shadow: 0px 1px 3px 1px rgba(0, 0, 0, 0.15);\n",
              "      filter: drop-shadow(0px 1px 2px rgba(0, 0, 0, 0.3));\n",
              "      fill: #FFFFFF;\n",
              "    }\n",
              "  </style>\n",
              "\n",
              "      <script>\n",
              "        const buttonEl =\n",
              "          document.querySelector('#df-0c04fef0-4c29-428a-a82f-623da19588c2 button.colab-df-convert');\n",
              "        buttonEl.style.display =\n",
              "          google.colab.kernel.accessAllowed ? 'block' : 'none';\n",
              "\n",
              "        async function convertToInteractive(key) {\n",
              "          const element = document.querySelector('#df-0c04fef0-4c29-428a-a82f-623da19588c2');\n",
              "          const dataTable =\n",
              "            await google.colab.kernel.invokeFunction('convertToInteractive',\n",
              "                                                     [key], {});\n",
              "          if (!dataTable) return;\n",
              "\n",
              "          const docLinkHtml = 'Like what you see? Visit the ' +\n",
              "            '<a target=\"_blank\" href=https://colab.research.google.com/notebooks/data_table.ipynb>data table notebook</a>'\n",
              "            + ' to learn more about interactive tables.';\n",
              "          element.innerHTML = '';\n",
              "          dataTable['output_type'] = 'display_data';\n",
              "          await google.colab.output.renderOutput(dataTable, element);\n",
              "          const docLink = document.createElement('div');\n",
              "          docLink.innerHTML = docLinkHtml;\n",
              "          element.appendChild(docLink);\n",
              "        }\n",
              "      </script>\n",
              "    </div>\n",
              "  </div>\n",
              "  "
            ]
          },
          "metadata": {},
          "execution_count": 6
        }
      ],
      "source": [
        "#Abrindo o conjunto de dados, temos:\n",
        "base_dados = pd.read_csv('MBODY.csv')\n",
        "base_dados.head(10)"
      ]
    },
    {
      "cell_type": "markdown",
      "metadata": {
        "id": "vQINghtjnvs5"
      },
      "source": [
        "Como vamos trabalhar apenas com medidas de altura (variável \"HT\") e idade (variável \"AGE\"), podemos criar um novo DataFrame usando apenas as variáveis idade e altura."
      ]
    },
    {
      "cell_type": "code",
      "execution_count": 7,
      "metadata": {
        "colab": {
          "base_uri": "https://localhost:8080/",
          "height": 363
        },
        "id": "BqzzAr9rntuZ",
        "outputId": "32811998-81a4-4368-fed2-16c0a98058f7"
      },
      "outputs": [
        {
          "output_type": "execute_result",
          "data": {
            "text/plain": [
              "   Idade  Altura\n",
              "0     18   178.8\n",
              "1     20   177.5\n",
              "2     43   187.8\n",
              "3     39   172.4\n",
              "4     60   181.7\n",
              "5     18   169.0\n",
              "6     57   186.9\n",
              "7     27   183.1\n",
              "8     20   176.4\n",
              "9     18   183.4"
            ],
            "text/html": [
              "\n",
              "  <div id=\"df-1d921f73-05a1-48e5-870d-06a25385b8e4\">\n",
              "    <div class=\"colab-df-container\">\n",
              "      <div>\n",
              "<style scoped>\n",
              "    .dataframe tbody tr th:only-of-type {\n",
              "        vertical-align: middle;\n",
              "    }\n",
              "\n",
              "    .dataframe tbody tr th {\n",
              "        vertical-align: top;\n",
              "    }\n",
              "\n",
              "    .dataframe thead th {\n",
              "        text-align: right;\n",
              "    }\n",
              "</style>\n",
              "<table border=\"1\" class=\"dataframe\">\n",
              "  <thead>\n",
              "    <tr style=\"text-align: right;\">\n",
              "      <th></th>\n",
              "      <th>Idade</th>\n",
              "      <th>Altura</th>\n",
              "    </tr>\n",
              "  </thead>\n",
              "  <tbody>\n",
              "    <tr>\n",
              "      <th>0</th>\n",
              "      <td>18</td>\n",
              "      <td>178.8</td>\n",
              "    </tr>\n",
              "    <tr>\n",
              "      <th>1</th>\n",
              "      <td>20</td>\n",
              "      <td>177.5</td>\n",
              "    </tr>\n",
              "    <tr>\n",
              "      <th>2</th>\n",
              "      <td>43</td>\n",
              "      <td>187.8</td>\n",
              "    </tr>\n",
              "    <tr>\n",
              "      <th>3</th>\n",
              "      <td>39</td>\n",
              "      <td>172.4</td>\n",
              "    </tr>\n",
              "    <tr>\n",
              "      <th>4</th>\n",
              "      <td>60</td>\n",
              "      <td>181.7</td>\n",
              "    </tr>\n",
              "    <tr>\n",
              "      <th>5</th>\n",
              "      <td>18</td>\n",
              "      <td>169.0</td>\n",
              "    </tr>\n",
              "    <tr>\n",
              "      <th>6</th>\n",
              "      <td>57</td>\n",
              "      <td>186.9</td>\n",
              "    </tr>\n",
              "    <tr>\n",
              "      <th>7</th>\n",
              "      <td>27</td>\n",
              "      <td>183.1</td>\n",
              "    </tr>\n",
              "    <tr>\n",
              "      <th>8</th>\n",
              "      <td>20</td>\n",
              "      <td>176.4</td>\n",
              "    </tr>\n",
              "    <tr>\n",
              "      <th>9</th>\n",
              "      <td>18</td>\n",
              "      <td>183.4</td>\n",
              "    </tr>\n",
              "  </tbody>\n",
              "</table>\n",
              "</div>\n",
              "      <button class=\"colab-df-convert\" onclick=\"convertToInteractive('df-1d921f73-05a1-48e5-870d-06a25385b8e4')\"\n",
              "              title=\"Convert this dataframe to an interactive table.\"\n",
              "              style=\"display:none;\">\n",
              "        \n",
              "  <svg xmlns=\"http://www.w3.org/2000/svg\" height=\"24px\"viewBox=\"0 0 24 24\"\n",
              "       width=\"24px\">\n",
              "    <path d=\"M0 0h24v24H0V0z\" fill=\"none\"/>\n",
              "    <path d=\"M18.56 5.44l.94 2.06.94-2.06 2.06-.94-2.06-.94-.94-2.06-.94 2.06-2.06.94zm-11 1L8.5 8.5l.94-2.06 2.06-.94-2.06-.94L8.5 2.5l-.94 2.06-2.06.94zm10 10l.94 2.06.94-2.06 2.06-.94-2.06-.94-.94-2.06-.94 2.06-2.06.94z\"/><path d=\"M17.41 7.96l-1.37-1.37c-.4-.4-.92-.59-1.43-.59-.52 0-1.04.2-1.43.59L10.3 9.45l-7.72 7.72c-.78.78-.78 2.05 0 2.83L4 21.41c.39.39.9.59 1.41.59.51 0 1.02-.2 1.41-.59l7.78-7.78 2.81-2.81c.8-.78.8-2.07 0-2.86zM5.41 20L4 18.59l7.72-7.72 1.47 1.35L5.41 20z\"/>\n",
              "  </svg>\n",
              "      </button>\n",
              "      \n",
              "  <style>\n",
              "    .colab-df-container {\n",
              "      display:flex;\n",
              "      flex-wrap:wrap;\n",
              "      gap: 12px;\n",
              "    }\n",
              "\n",
              "    .colab-df-convert {\n",
              "      background-color: #E8F0FE;\n",
              "      border: none;\n",
              "      border-radius: 50%;\n",
              "      cursor: pointer;\n",
              "      display: none;\n",
              "      fill: #1967D2;\n",
              "      height: 32px;\n",
              "      padding: 0 0 0 0;\n",
              "      width: 32px;\n",
              "    }\n",
              "\n",
              "    .colab-df-convert:hover {\n",
              "      background-color: #E2EBFA;\n",
              "      box-shadow: 0px 1px 2px rgba(60, 64, 67, 0.3), 0px 1px 3px 1px rgba(60, 64, 67, 0.15);\n",
              "      fill: #174EA6;\n",
              "    }\n",
              "\n",
              "    [theme=dark] .colab-df-convert {\n",
              "      background-color: #3B4455;\n",
              "      fill: #D2E3FC;\n",
              "    }\n",
              "\n",
              "    [theme=dark] .colab-df-convert:hover {\n",
              "      background-color: #434B5C;\n",
              "      box-shadow: 0px 1px 3px 1px rgba(0, 0, 0, 0.15);\n",
              "      filter: drop-shadow(0px 1px 2px rgba(0, 0, 0, 0.3));\n",
              "      fill: #FFFFFF;\n",
              "    }\n",
              "  </style>\n",
              "\n",
              "      <script>\n",
              "        const buttonEl =\n",
              "          document.querySelector('#df-1d921f73-05a1-48e5-870d-06a25385b8e4 button.colab-df-convert');\n",
              "        buttonEl.style.display =\n",
              "          google.colab.kernel.accessAllowed ? 'block' : 'none';\n",
              "\n",
              "        async function convertToInteractive(key) {\n",
              "          const element = document.querySelector('#df-1d921f73-05a1-48e5-870d-06a25385b8e4');\n",
              "          const dataTable =\n",
              "            await google.colab.kernel.invokeFunction('convertToInteractive',\n",
              "                                                     [key], {});\n",
              "          if (!dataTable) return;\n",
              "\n",
              "          const docLinkHtml = 'Like what you see? Visit the ' +\n",
              "            '<a target=\"_blank\" href=https://colab.research.google.com/notebooks/data_table.ipynb>data table notebook</a>'\n",
              "            + ' to learn more about interactive tables.';\n",
              "          element.innerHTML = '';\n",
              "          dataTable['output_type'] = 'display_data';\n",
              "          await google.colab.output.renderOutput(dataTable, element);\n",
              "          const docLink = document.createElement('div');\n",
              "          docLink.innerHTML = docLinkHtml;\n",
              "          element.appendChild(docLink);\n",
              "        }\n",
              "      </script>\n",
              "    </div>\n",
              "  </div>\n",
              "  "
            ]
          },
          "metadata": {},
          "execution_count": 7
        }
      ],
      "source": [
        "#Criando um novo DataFrame, temos:\n",
        "dados1 = pd.DataFrame({'Idade':base_dados['AGE'],\n",
        "                      'Altura':base_dados['HT']})\n",
        "dados1.head(10)"
      ]
    },
    {
      "cell_type": "markdown",
      "source": [
        "Calculando a média e o desvio-padrão da amostra, temos:"
      ],
      "metadata": {
        "id": "7Tv2QCP_E9oy"
      }
    },
    {
      "cell_type": "code",
      "source": [
        "#Calculando a média e desvio-padrão, temos:\n",
        "mi = dados1['Altura'].mean()\n",
        "sigma = dados1['Altura'].std()\n",
        "print('Média: {}'.format(mi))\n",
        "print('Desvio-padrão: {}'.format(sigma))"
      ],
      "metadata": {
        "colab": {
          "base_uri": "https://localhost:8080/"
        },
        "id": "7GcgSO4bEa8U",
        "outputId": "974aa33c-a5b6-4cc2-fbca-a9903c4fbe10"
      },
      "execution_count": 8,
      "outputs": [
        {
          "output_type": "stream",
          "name": "stdout",
          "text": [
            "Média: 176.47\n",
            "Desvio-padrão: 6.016311162165735\n"
          ]
        }
      ]
    },
    {
      "cell_type": "markdown",
      "source": [
        "Como vimos no início, a média populacional do conjunto de dados é igual a 176,53 cm e desvio-padrão igual a 6,096 cm. Logo, definimos as seguintes variáveis:\n"
      ],
      "metadata": {
        "id": "yJBWBpMfGJ8B"
      }
    },
    {
      "cell_type": "code",
      "source": [
        "#média populacional\n",
        "mi = 176.53\n",
        "#desvio-padrão populacional\n",
        "sigma = 6.096"
      ],
      "metadata": {
        "id": "BH-7l1MGHWd4"
      },
      "execution_count": 9,
      "outputs": []
    },
    {
      "cell_type": "code",
      "execution_count": 10,
      "metadata": {
        "colab": {
          "base_uri": "https://localhost:8080/"
        },
        "id": "WGI0q4fe3T50",
        "outputId": "dfdcd6a7-e20c-45ec-b5db-69a059af5ebc"
      },
      "outputs": [
        {
          "output_type": "stream",
          "name": "stdout",
          "text": [
            "<class 'pandas.core.frame.DataFrame'>\n",
            "RangeIndex: 40 entries, 0 to 39\n",
            "Data columns (total 2 columns):\n",
            " #   Column  Non-Null Count  Dtype  \n",
            "---  ------  --------------  -----  \n",
            " 0   Idade   40 non-null     int64  \n",
            " 1   Altura  40 non-null     float64\n",
            "dtypes: float64(1), int64(1)\n",
            "memory usage: 768.0 bytes\n"
          ]
        }
      ],
      "source": [
        "dados1.info()"
      ]
    },
    {
      "cell_type": "markdown",
      "metadata": {
        "id": "a97bCdvWuYsn"
      },
      "source": [
        "No conjunto de dados fornecidos temos 40 dados de alturas e idades. Para utilização dos métodos de cálculo de probabilidades e frequências relativas através da distribuição normal-padrão, devemos verificar se a amostra coletada é proveniente ou não de uma população normalmente distribuída. Utilizando os proccedimentos que foram apresentados no início, temos:"
      ]
    },
    {
      "cell_type": "markdown",
      "metadata": {
        "id": "ecLLQ3nSu7rG"
      },
      "source": [
        "**Inspeção visual da distribuição através de histogramas**"
      ]
    },
    {
      "cell_type": "code",
      "execution_count": 11,
      "metadata": {
        "colab": {
          "base_uri": "https://localhost:8080/",
          "height": 431
        },
        "id": "eDfGQJO6nj84",
        "outputId": "3b6f7ae5-415f-45b8-d4e1-65b237c3d764"
      },
      "outputs": [
        {
          "output_type": "execute_result",
          "data": {
            "text/plain": [
              "<matplotlib.axes._subplots.AxesSubplot at 0x7f1b2f994a90>"
            ]
          },
          "metadata": {},
          "execution_count": 11
        },
        {
          "output_type": "display_data",
          "data": {
            "text/plain": [
              "<Figure size 864x432 with 1 Axes>"
            ],
            "image/png": "[encoded data removed]"
          },
          "metadata": {
            "needs_background": "light"
          }
        }
      ],
      "source": [
        "#Construindo um histograma para observar graficamente a distribuição dos dados, temos:\n",
        "\n",
        "ax = sns.histplot(data = dados1['Altura'], stat = 'proportion',kde = True)\n",
        "ax.figure.set_size_inches(12,6)\n",
        "ax.set_title('Histograma de frequências relativas -  Alturas de homens', fontsize = 18)\n",
        "ax.set_xlabel('Alturas de homens (cm)', fontsize = 14)\n",
        "ax.set_ylabel('Frequência relativa', fontsize = 14)\n",
        "#ax.set_yticks([i for i in range(0,20,1)])\n",
        "ax"
      ]
    },
    {
      "cell_type": "markdown",
      "metadata": {
        "id": "6IY77ZR-vRs2"
      },
      "source": [
        "Como podemos visualizar, o histograma apresenta aproximadamente uma forma de sino. Podemos utilizar a curva de densidade para auxílio da inspeção visual adicionando o método 'kde = True'."
      ]
    },
    {
      "cell_type": "markdown",
      "metadata": {
        "id": "MBDI6g-wvnXc"
      },
      "source": [
        "Além disso, podemos utilizar o método displot da biblioteca seaborn para construir uma curva de densidade a partir dos dados amostrais coletados e verificar a distribuição dos dados amostrais."
      ]
    },
    {
      "cell_type": "code",
      "execution_count": 12,
      "metadata": {
        "colab": {
          "base_uri": "https://localhost:8080/",
          "height": 473
        },
        "id": "N-c8NoJIowFJ",
        "outputId": "8e979b53-e7ed-4df2-eae7-9478f6a8a293"
      },
      "outputs": [
        {
          "output_type": "execute_result",
          "data": {
            "text/plain": [
              "<seaborn.axisgrid.FacetGrid at 0x7f1b2f922490>"
            ]
          },
          "metadata": {},
          "execution_count": 12
        },
        {
          "output_type": "display_data",
          "data": {
            "text/plain": [
              "<Figure size 864x432 with 1 Axes>"
            ],
            "image/png": "[encoded data removed]"
          },
          "metadata": {
            "needs_background": "light"
          }
        }
      ],
      "source": [
        "#Construindo uma curva de densidade KDE para observação da distribuição dos dados:\n",
        "ax = sns.displot(data = dados1['Altura'],kind = 'kde')\n",
        "ax.figure.set_size_inches(12,6)\n",
        "plt.title('Curva de densidade de distribuição de alturas de homens', fontsize = 18)\n",
        "plt.xlabel('Alturas de homens (cm)', fontsize = 14)\n",
        "ax"
      ]
    },
    {
      "cell_type": "markdown",
      "metadata": {
        "id": "RWiJgZDtvzgl"
      },
      "source": [
        "Como podemos ver, a curva de densidade gerada para os valores de altura apresenta aproximadamente uma forma de sino. Portanto, podemos prosseguir para a próxima etapa de identificação de outliers."
      ]
    },
    {
      "cell_type": "markdown",
      "metadata": {
        "id": "MmSOmOxfwAEE"
      },
      "source": [
        "**Observação:** para problemas em que a condição de distribuição normal não seja estritamente exigida, a verificação visual da distribuição através de histogramas é o suficiente para indicar se os dados são provenientes ou não de uma distribuição normal."
      ]
    },
    {
      "cell_type": "code",
      "execution_count": 13,
      "metadata": {
        "colab": {
          "base_uri": "https://localhost:8080/"
        },
        "id": "QyKHPr6dv_fZ",
        "outputId": "bf278a6e-4a2c-449c-ee8f-39b111b455d3"
      },
      "outputs": [
        {
          "output_type": "execute_result",
          "data": {
            "text/plain": [
              "165.2"
            ]
          },
          "metadata": {},
          "execution_count": 13
        }
      ],
      "source": [
        "#Valor mínimo do conjunto de dados de altura\n",
        "dados1['Altura'].min()"
      ]
    },
    {
      "cell_type": "code",
      "execution_count": 14,
      "metadata": {
        "colab": {
          "base_uri": "https://localhost:8080/"
        },
        "id": "xqnQhyJOyCBk",
        "outputId": "71c0664e-1f2e-438f-ace0-4e4901af7c9b"
      },
      "outputs": [
        {
          "output_type": "execute_result",
          "data": {
            "text/plain": [
              "193.5"
            ]
          },
          "metadata": {},
          "execution_count": 14
        }
      ],
      "source": [
        "#Valor máximo do conjunto de dados de altura\n",
        "dados1['Altura'].max()"
      ]
    },
    {
      "cell_type": "markdown",
      "metadata": {
        "id": "GK7ZJEdRygqa"
      },
      "source": [
        "Como podemos ver, o conjunto de dados de altura não apresenta outliers. "
      ]
    },
    {
      "cell_type": "markdown",
      "metadata": {
        "id": "CKv6_QeCykmC"
      },
      "source": [
        "Construindo o gráfico de quantis normais, temos:"
      ]
    },
    {
      "cell_type": "code",
      "execution_count": 15,
      "metadata": {
        "colab": {
          "base_uri": "https://localhost:8080/",
          "height": 363
        },
        "id": "0jOVMymjyJ8N",
        "outputId": "2cb0ef49-7393-47b9-dfc9-d206a2ff6ed1"
      },
      "outputs": [
        {
          "output_type": "execute_result",
          "data": {
            "text/plain": [
              "   Idade  Altura  Escore Z\n",
              "0     18   178.8  0.372375\n",
              "1     20   177.5  0.159121\n",
              "2     43   187.8  1.848753\n",
              "3     39   172.4 -0.677493\n",
              "4     60   181.7  0.848097\n",
              "5     18   169.0 -1.235236\n",
              "6     57   186.9  1.701115\n",
              "7     27   183.1  1.077756\n",
              "8     20   176.4 -0.021325\n",
              "9     18   183.4  1.126969"
            ],
            "text/html": [
              "\n",
              "  <div id=\"df-fb967f64-937a-43f4-a430-150eb1526b6b\">\n",
              "    <div class=\"colab-df-container\">\n",
              "      <div>\n",
              "<style scoped>\n",
              "    .dataframe tbody tr th:only-of-type {\n",
              "        vertical-align: middle;\n",
              "    }\n",
              "\n",
              "    .dataframe tbody tr th {\n",
              "        vertical-align: top;\n",
              "    }\n",
              "\n",
              "    .dataframe thead th {\n",
              "        text-align: right;\n",
              "    }\n",
              "</style>\n",
              "<table border=\"1\" class=\"dataframe\">\n",
              "  <thead>\n",
              "    <tr style=\"text-align: right;\">\n",
              "      <th></th>\n",
              "      <th>Idade</th>\n",
              "      <th>Altura</th>\n",
              "      <th>Escore Z</th>\n",
              "    </tr>\n",
              "  </thead>\n",
              "  <tbody>\n",
              "    <tr>\n",
              "      <th>0</th>\n",
              "      <td>18</td>\n",
              "      <td>178.8</td>\n",
              "      <td>0.372375</td>\n",
              "    </tr>\n",
              "    <tr>\n",
              "      <th>1</th>\n",
              "      <td>20</td>\n",
              "      <td>177.5</td>\n",
              "      <td>0.159121</td>\n",
              "    </tr>\n",
              "    <tr>\n",
              "      <th>2</th>\n",
              "      <td>43</td>\n",
              "      <td>187.8</td>\n",
              "      <td>1.848753</td>\n",
              "    </tr>\n",
              "    <tr>\n",
              "      <th>3</th>\n",
              "      <td>39</td>\n",
              "      <td>172.4</td>\n",
              "      <td>-0.677493</td>\n",
              "    </tr>\n",
              "    <tr>\n",
              "      <th>4</th>\n",
              "      <td>60</td>\n",
              "      <td>181.7</td>\n",
              "      <td>0.848097</td>\n",
              "    </tr>\n",
              "    <tr>\n",
              "      <th>5</th>\n",
              "      <td>18</td>\n",
              "      <td>169.0</td>\n",
              "      <td>-1.235236</td>\n",
              "    </tr>\n",
              "    <tr>\n",
              "      <th>6</th>\n",
              "      <td>57</td>\n",
              "      <td>186.9</td>\n",
              "      <td>1.701115</td>\n",
              "    </tr>\n",
              "    <tr>\n",
              "      <th>7</th>\n",
              "      <td>27</td>\n",
              "      <td>183.1</td>\n",
              "      <td>1.077756</td>\n",
              "    </tr>\n",
              "    <tr>\n",
              "      <th>8</th>\n",
              "      <td>20</td>\n",
              "      <td>176.4</td>\n",
              "      <td>-0.021325</td>\n",
              "    </tr>\n",
              "    <tr>\n",
              "      <th>9</th>\n",
              "      <td>18</td>\n",
              "      <td>183.4</td>\n",
              "      <td>1.126969</td>\n",
              "    </tr>\n",
              "  </tbody>\n",
              "</table>\n",
              "</div>\n",
              "      <button class=\"colab-df-convert\" onclick=\"convertToInteractive('df-fb967f64-937a-43f4-a430-150eb1526b6b')\"\n",
              "              title=\"Convert this dataframe to an interactive table.\"\n",
              "              style=\"display:none;\">\n",
              "        \n",
              "  <svg xmlns=\"http://www.w3.org/2000/svg\" height=\"24px\"viewBox=\"0 0 24 24\"\n",
              "       width=\"24px\">\n",
              "    <path d=\"M0 0h24v24H0V0z\" fill=\"none\"/>\n",
              "    <path d=\"M18.56 5.44l.94 2.06.94-2.06 2.06-.94-2.06-.94-.94-2.06-.94 2.06-2.06.94zm-11 1L8.5 8.5l.94-2.06 2.06-.94-2.06-.94L8.5 2.5l-.94 2.06-2.06.94zm10 10l.94 2.06.94-2.06 2.06-.94-2.06-.94-.94-2.06-.94 2.06-2.06.94z\"/><path d=\"M17.41 7.96l-1.37-1.37c-.4-.4-.92-.59-1.43-.59-.52 0-1.04.2-1.43.59L10.3 9.45l-7.72 7.72c-.78.78-.78 2.05 0 2.83L4 21.41c.39.39.9.59 1.41.59.51 0 1.02-.2 1.41-.59l7.78-7.78 2.81-2.81c.8-.78.8-2.07 0-2.86zM5.41 20L4 18.59l7.72-7.72 1.47 1.35L5.41 20z\"/>\n",
              "  </svg>\n",
              "      </button>\n",
              "      \n",
              "  <style>\n",
              "    .colab-df-container {\n",
              "      display:flex;\n",
              "      flex-wrap:wrap;\n",
              "      gap: 12px;\n",
              "    }\n",
              "\n",
              "    .colab-df-convert {\n",
              "      background-color: #E8F0FE;\n",
              "      border: none;\n",
              "      border-radius: 50%;\n",
              "      cursor: pointer;\n",
              "      display: none;\n",
              "      fill: #1967D2;\n",
              "      height: 32px;\n",
              "      padding: 0 0 0 0;\n",
              "      width: 32px;\n",
              "    }\n",
              "\n",
              "    .colab-df-convert:hover {\n",
              "      background-color: #E2EBFA;\n",
              "      box-shadow: 0px 1px 2px rgba(60, 64, 67, 0.3), 0px 1px 3px 1px rgba(60, 64, 67, 0.15);\n",
              "      fill: #174EA6;\n",
              "    }\n",
              "\n",
              "    [theme=dark] .colab-df-convert {\n",
              "      background-color: #3B4455;\n",
              "      fill: #D2E3FC;\n",
              "    }\n",
              "\n",
              "    [theme=dark] .colab-df-convert:hover {\n",
              "      background-color: #434B5C;\n",
              "      box-shadow: 0px 1px 3px 1px rgba(0, 0, 0, 0.15);\n",
              "      filter: drop-shadow(0px 1px 2px rgba(0, 0, 0, 0.3));\n",
              "      fill: #FFFFFF;\n",
              "    }\n",
              "  </style>\n",
              "\n",
              "      <script>\n",
              "        const buttonEl =\n",
              "          document.querySelector('#df-fb967f64-937a-43f4-a430-150eb1526b6b button.colab-df-convert');\n",
              "        buttonEl.style.display =\n",
              "          google.colab.kernel.accessAllowed ? 'block' : 'none';\n",
              "\n",
              "        async function convertToInteractive(key) {\n",
              "          const element = document.querySelector('#df-fb967f64-937a-43f4-a430-150eb1526b6b');\n",
              "          const dataTable =\n",
              "            await google.colab.kernel.invokeFunction('convertToInteractive',\n",
              "                                                     [key], {});\n",
              "          if (!dataTable) return;\n",
              "\n",
              "          const docLinkHtml = 'Like what you see? Visit the ' +\n",
              "            '<a target=\"_blank\" href=https://colab.research.google.com/notebooks/data_table.ipynb>data table notebook</a>'\n",
              "            + ' to learn more about interactive tables.';\n",
              "          element.innerHTML = '';\n",
              "          dataTable['output_type'] = 'display_data';\n",
              "          await google.colab.output.renderOutput(dataTable, element);\n",
              "          const docLink = document.createElement('div');\n",
              "          docLink.innerHTML = docLinkHtml;\n",
              "          element.appendChild(docLink);\n",
              "        }\n",
              "      </script>\n",
              "    </div>\n",
              "  </div>\n",
              "  "
            ]
          },
          "metadata": {},
          "execution_count": 15
        }
      ],
      "source": [
        "#construindo uma coluna com os valores de escores Z correspondentes\n",
        "\n",
        "escores_z = []\n",
        "\n",
        "for item in dados1['Altura']:\n",
        "  z = (item - mi)/sigma\n",
        "  escores_z.append(z)\n",
        "dados1['Escore Z'] = escores_z\n",
        "dados1.head(10)"
      ]
    },
    {
      "cell_type": "code",
      "source": [
        "#Construindo o gráfico de quantis normais, temos:\n",
        "\n",
        "ax = sns.lmplot(x = 'Altura',y = 'Escore Z',data = dados1)\n",
        "ax.figure.set_size_inches(12,6)\n",
        "plt.title('Gráfico quantis normais - teste de normalidade', fontsize = 18)\n",
        "plt.ylabel('Escore Z', fontsize = 14)\n",
        "plt.xlabel('Alturas de homens (cm)', fontsize = 14)\n",
        "#ax.set_yticks([i for i in range(0,20,1)])\n",
        "ax"
      ],
      "metadata": {
        "colab": {
          "base_uri": "https://localhost:8080/",
          "height": 470
        },
        "id": "SAsCXIASLYuE",
        "outputId": "9fd8b3ed-6710-4850-f502-a376c7ec2f79"
      },
      "execution_count": 16,
      "outputs": [
        {
          "output_type": "execute_result",
          "data": {
            "text/plain": [
              "<seaborn.axisgrid.FacetGrid at 0x7f1b2f986550>"
            ]
          },
          "metadata": {},
          "execution_count": 16
        },
        {
          "output_type": "display_data",
          "data": {
            "text/plain": [
              "<Figure size 864x432 with 1 Axes>"
            ],
            "image/png": "[encoded data removed]"
          },
          "metadata": {
            "needs_background": "light"
          }
        }
      ]
    },
    {
      "cell_type": "markdown",
      "source": [
        "A partir do gráfico de quantis normais é possível verificar que os dados de altura de homens e escores Z se ajustam a reta. Portanto, concluímos que a amostra de alturas de homens é proveniente de uma amostra normalmente distribuída. "
      ],
      "metadata": {
        "id": "z6E3WEDqN0TK"
      }
    },
    {
      "cell_type": "markdown",
      "source": [
        "# Distribuição de alturas corporais de mulheres"
      ],
      "metadata": {
        "id": "GxmHsSHgQk_Z"
      }
    },
    {
      "cell_type": "markdown",
      "source": [
        "Os dados do conjuntos de dados 1 do apêndice B são provenientes do livro de referência do autor Mario F. Triola (2017). O conjunto de dados de alturas de mulheres tem média populacionar $\\mu$ igual a 162,052 cm e desvio-padrão $\\sigma$ igual a 6,604 cm. Primeiramente vamos analisar o conjunto de dados e realizar teste de normalidade para saber se a amostra de dados coletados é proveniente de uma população normalmente distribuída."
      ],
      "metadata": {
        "id": "qtcG2zrRQsqn"
      }
    },
    {
      "cell_type": "markdown",
      "source": [
        "O conjunto de dados apresenta várias medidas corporais, como estamos interessados apenas nos dados de alturas, criamos um novo dataframe com apenas duas características: idade e altura."
      ],
      "metadata": {
        "id": "nrb19JnARl6j"
      }
    },
    {
      "cell_type": "code",
      "source": [
        "#Abrindo o conjunto de dados, temos:\n",
        "base_dados = pd.read_csv('FBODY.csv')\n",
        "base_dados.head(10)"
      ],
      "metadata": {
        "colab": {
          "base_uri": "https://localhost:8080/",
          "height": 363
        },
        "id": "dHaGS0__R1VT",
        "outputId": "4a48a01f-c97e-42d7-c63f-67d95a069a0e"
      },
      "execution_count": 17,
      "outputs": [
        {
          "output_type": "execute_result",
          "data": {
            "text/plain": [
              "   AGE  PULSE  SYS  DIAS  HDL  LDL  WHITE   RED  PLATE    WT     HT  WAIST  \\\n",
              "0   60     78  122    60   74  140    9.6  4.70    317  59.3  163.7   82.3   \n",
              "1   24     80  120    64   56  142    7.1  4.64    224  74.5  165.5   88.5   \n",
              "2   49     68   90    48   70   72    7.5  4.61    248  77.7  163.1   94.9   \n",
              "3   62     56  150    80   40  164    6.8  4.09    309  97.9  166.3  111.8   \n",
              "4   53     76  132    58   67  109    5.6  4.36    335  71.7  163.6   86.5   \n",
              "5   18     78   88    52   96   93    5.4  4.64    278  60.9  170.9   78.4   \n",
              "6   41     78  100    60   43  122    6.7  4.98    312  60.5  153.5   81.7   \n",
              "7   21     90  114    72   80  116    8.6  3.76    338  88.2  155.7  111.2   \n",
              "8   21     96   94    54   77   84   10.2  4.30    290  43.8  153.0   79.2   \n",
              "9   19     60  100    54   41   55    4.1  4.66    236  47.9  157.0   63.4   \n",
              "\n",
              "   ARMC    BMI  \n",
              "0  27.5  22.13  \n",
              "1  30.0  27.20  \n",
              "2  34.4  29.21  \n",
              "3  38.7  35.40  \n",
              "4  32.2  26.79  \n",
              "5  26.7  20.85  \n",
              "6  30.5  25.68  \n",
              "7  36.9  36.38  \n",
              "8  23.2  18.71  \n",
              "9  22.6  19.43  "
            ],
            "text/html": [
              "\n",
              "  <div id=\"df-10d5a664-d893-48d5-ba45-82bf7d499a1e\">\n",
              "    <div class=\"colab-df-container\">\n",
              "      <div>\n",
              "<style scoped>\n",
              "    .dataframe tbody tr th:only-of-type {\n",
              "        vertical-align: middle;\n",
              "    }\n",
              "\n",
              "    .dataframe tbody tr th {\n",
              "        vertical-align: top;\n",
              "    }\n",
              "\n",
              "    .dataframe thead th {\n",
              "        text-align: right;\n",
              "    }\n",
              "</style>\n",
              "<table border=\"1\" class=\"dataframe\">\n",
              "  <thead>\n",
              "    <tr style=\"text-align: right;\">\n",
              "      <th></th>\n",
              "      <th>AGE</th>\n",
              "      <th>PULSE</th>\n",
              "      <th>SYS</th>\n",
              "      <th>DIAS</th>\n",
              "      <th>HDL</th>\n",
              "      <th>LDL</th>\n",
              "      <th>WHITE</th>\n",
              "      <th>RED</th>\n",
              "      <th>PLATE</th>\n",
              "      <th>WT</th>\n",
              "      <th>HT</th>\n",
              "      <th>WAIST</th>\n",
              "      <th>ARMC</th>\n",
              "      <th>BMI</th>\n",
              "    </tr>\n",
              "  </thead>\n",
              "  <tbody>\n",
              "    <tr>\n",
              "      <th>0</th>\n",
              "      <td>60</td>\n",
              "      <td>78</td>\n",
              "      <td>122</td>\n",
              "      <td>60</td>\n",
              "      <td>74</td>\n",
              "      <td>140</td>\n",
              "      <td>9.6</td>\n",
              "      <td>4.70</td>\n",
              "      <td>317</td>\n",
              "      <td>59.3</td>\n",
              "      <td>163.7</td>\n",
              "      <td>82.3</td>\n",
              "      <td>27.5</td>\n",
              "      <td>22.13</td>\n",
              "    </tr>\n",
              "    <tr>\n",
              "      <th>1</th>\n",
              "      <td>24</td>\n",
              "      <td>80</td>\n",
              "      <td>120</td>\n",
              "      <td>64</td>\n",
              "      <td>56</td>\n",
              "      <td>142</td>\n",
              "      <td>7.1</td>\n",
              "      <td>4.64</td>\n",
              "      <td>224</td>\n",
              "      <td>74.5</td>\n",
              "      <td>165.5</td>\n",
              "      <td>88.5</td>\n",
              "      <td>30.0</td>\n",
              "      <td>27.20</td>\n",
              "    </tr>\n",
              "    <tr>\n",
              "      <th>2</th>\n",
              "      <td>49</td>\n",
              "      <td>68</td>\n",
              "      <td>90</td>\n",
              "      <td>48</td>\n",
              "      <td>70</td>\n",
              "      <td>72</td>\n",
              "      <td>7.5</td>\n",
              "      <td>4.61</td>\n",
              "      <td>248</td>\n",
              "      <td>77.7</td>\n",
              "      <td>163.1</td>\n",
              "      <td>94.9</td>\n",
              "      <td>34.4</td>\n",
              "      <td>29.21</td>\n",
              "    </tr>\n",
              "    <tr>\n",
              "      <th>3</th>\n",
              "      <td>62</td>\n",
              "      <td>56</td>\n",
              "      <td>150</td>\n",
              "      <td>80</td>\n",
              "      <td>40</td>\n",
              "      <td>164</td>\n",
              "      <td>6.8</td>\n",
              "      <td>4.09</td>\n",
              "      <td>309</td>\n",
              "      <td>97.9</td>\n",
              "      <td>166.3</td>\n",
              "      <td>111.8</td>\n",
              "      <td>38.7</td>\n",
              "      <td>35.40</td>\n",
              "    </tr>\n",
              "    <tr>\n",
              "      <th>4</th>\n",
              "      <td>53</td>\n",
              "      <td>76</td>\n",
              "      <td>132</td>\n",
              "      <td>58</td>\n",
              "      <td>67</td>\n",
              "      <td>109</td>\n",
              "      <td>5.6</td>\n",
              "      <td>4.36</td>\n",
              "      <td>335</td>\n",
              "      <td>71.7</td>\n",
              "      <td>163.6</td>\n",
              "      <td>86.5</td>\n",
              "      <td>32.2</td>\n",
              "      <td>26.79</td>\n",
              "    </tr>\n",
              "    <tr>\n",
              "      <th>5</th>\n",
              "      <td>18</td>\n",
              "      <td>78</td>\n",
              "      <td>88</td>\n",
              "      <td>52</td>\n",
              "      <td>96</td>\n",
              "      <td>93</td>\n",
              "      <td>5.4</td>\n",
              "      <td>4.64</td>\n",
              "      <td>278</td>\n",
              "      <td>60.9</td>\n",
              "      <td>170.9</td>\n",
              "      <td>78.4</td>\n",
              "      <td>26.7</td>\n",
              "      <td>20.85</td>\n",
              "    </tr>\n",
              "    <tr>\n",
              "      <th>6</th>\n",
              "      <td>41</td>\n",
              "      <td>78</td>\n",
              "      <td>100</td>\n",
              "      <td>60</td>\n",
              "      <td>43</td>\n",
              "      <td>122</td>\n",
              "      <td>6.7</td>\n",
              "      <td>4.98</td>\n",
              "      <td>312</td>\n",
              "      <td>60.5</td>\n",
              "      <td>153.5</td>\n",
              "      <td>81.7</td>\n",
              "      <td>30.5</td>\n",
              "      <td>25.68</td>\n",
              "    </tr>\n",
              "    <tr>\n",
              "      <th>7</th>\n",
              "      <td>21</td>\n",
              "      <td>90</td>\n",
              "      <td>114</td>\n",
              "      <td>72</td>\n",
              "      <td>80</td>\n",
              "      <td>116</td>\n",
              "      <td>8.6</td>\n",
              "      <td>3.76</td>\n",
              "      <td>338</td>\n",
              "      <td>88.2</td>\n",
              "      <td>155.7</td>\n",
              "      <td>111.2</td>\n",
              "      <td>36.9</td>\n",
              "      <td>36.38</td>\n",
              "    </tr>\n",
              "    <tr>\n",
              "      <th>8</th>\n",
              "      <td>21</td>\n",
              "      <td>96</td>\n",
              "      <td>94</td>\n",
              "      <td>54</td>\n",
              "      <td>77</td>\n",
              "      <td>84</td>\n",
              "      <td>10.2</td>\n",
              "      <td>4.30</td>\n",
              "      <td>290</td>\n",
              "      <td>43.8</td>\n",
              "      <td>153.0</td>\n",
              "      <td>79.2</td>\n",
              "      <td>23.2</td>\n",
              "      <td>18.71</td>\n",
              "    </tr>\n",
              "    <tr>\n",
              "      <th>9</th>\n",
              "      <td>19</td>\n",
              "      <td>60</td>\n",
              "      <td>100</td>\n",
              "      <td>54</td>\n",
              "      <td>41</td>\n",
              "      <td>55</td>\n",
              "      <td>4.1</td>\n",
              "      <td>4.66</td>\n",
              "      <td>236</td>\n",
              "      <td>47.9</td>\n",
              "      <td>157.0</td>\n",
              "      <td>63.4</td>\n",
              "      <td>22.6</td>\n",
              "      <td>19.43</td>\n",
              "    </tr>\n",
              "  </tbody>\n",
              "</table>\n",
              "</div>\n",
              "      <button class=\"colab-df-convert\" onclick=\"convertToInteractive('df-10d5a664-d893-48d5-ba45-82bf7d499a1e')\"\n",
              "              title=\"Convert this dataframe to an interactive table.\"\n",
              "              style=\"display:none;\">\n",
              "        \n",
              "  <svg xmlns=\"http://www.w3.org/2000/svg\" height=\"24px\"viewBox=\"0 0 24 24\"\n",
              "       width=\"24px\">\n",
              "    <path d=\"M0 0h24v24H0V0z\" fill=\"none\"/>\n",
              "    <path d=\"M18.56 5.44l.94 2.06.94-2.06 2.06-.94-2.06-.94-.94-2.06-.94 2.06-2.06.94zm-11 1L8.5 8.5l.94-2.06 2.06-.94-2.06-.94L8.5 2.5l-.94 2.06-2.06.94zm10 10l.94 2.06.94-2.06 2.06-.94-2.06-.94-.94-2.06-.94 2.06-2.06.94z\"/><path d=\"M17.41 7.96l-1.37-1.37c-.4-.4-.92-.59-1.43-.59-.52 0-1.04.2-1.43.59L10.3 9.45l-7.72 7.72c-.78.78-.78 2.05 0 2.83L4 21.41c.39.39.9.59 1.41.59.51 0 1.02-.2 1.41-.59l7.78-7.78 2.81-2.81c.8-.78.8-2.07 0-2.86zM5.41 20L4 18.59l7.72-7.72 1.47 1.35L5.41 20z\"/>\n",
              "  </svg>\n",
              "      </button>\n",
              "      \n",
              "  <style>\n",
              "    .colab-df-container {\n",
              "      display:flex;\n",
              "      flex-wrap:wrap;\n",
              "      gap: 12px;\n",
              "    }\n",
              "\n",
              "    .colab-df-convert {\n",
              "      background-color: #E8F0FE;\n",
              "      border: none;\n",
              "      border-radius: 50%;\n",
              "      cursor: pointer;\n",
              "      display: none;\n",
              "      fill: #1967D2;\n",
              "      height: 32px;\n",
              "      padding: 0 0 0 0;\n",
              "      width: 32px;\n",
              "    }\n",
              "\n",
              "    .colab-df-convert:hover {\n",
              "      background-color: #E2EBFA;\n",
              "      box-shadow: 0px 1px 2px rgba(60, 64, 67, 0.3), 0px 1px 3px 1px rgba(60, 64, 67, 0.15);\n",
              "      fill: #174EA6;\n",
              "    }\n",
              "\n",
              "    [theme=dark] .colab-df-convert {\n",
              "      background-color: #3B4455;\n",
              "      fill: #D2E3FC;\n",
              "    }\n",
              "\n",
              "    [theme=dark] .colab-df-convert:hover {\n",
              "      background-color: #434B5C;\n",
              "      box-shadow: 0px 1px 3px 1px rgba(0, 0, 0, 0.15);\n",
              "      filter: drop-shadow(0px 1px 2px rgba(0, 0, 0, 0.3));\n",
              "      fill: #FFFFFF;\n",
              "    }\n",
              "  </style>\n",
              "\n",
              "      <script>\n",
              "        const buttonEl =\n",
              "          document.querySelector('#df-10d5a664-d893-48d5-ba45-82bf7d499a1e button.colab-df-convert');\n",
              "        buttonEl.style.display =\n",
              "          google.colab.kernel.accessAllowed ? 'block' : 'none';\n",
              "\n",
              "        async function convertToInteractive(key) {\n",
              "          const element = document.querySelector('#df-10d5a664-d893-48d5-ba45-82bf7d499a1e');\n",
              "          const dataTable =\n",
              "            await google.colab.kernel.invokeFunction('convertToInteractive',\n",
              "                                                     [key], {});\n",
              "          if (!dataTable) return;\n",
              "\n",
              "          const docLinkHtml = 'Like what you see? Visit the ' +\n",
              "            '<a target=\"_blank\" href=https://colab.research.google.com/notebooks/data_table.ipynb>data table notebook</a>'\n",
              "            + ' to learn more about interactive tables.';\n",
              "          element.innerHTML = '';\n",
              "          dataTable['output_type'] = 'display_data';\n",
              "          await google.colab.output.renderOutput(dataTable, element);\n",
              "          const docLink = document.createElement('div');\n",
              "          docLink.innerHTML = docLinkHtml;\n",
              "          element.appendChild(docLink);\n",
              "        }\n",
              "      </script>\n",
              "    </div>\n",
              "  </div>\n",
              "  "
            ]
          },
          "metadata": {},
          "execution_count": 17
        }
      ]
    },
    {
      "cell_type": "code",
      "source": [
        "#Criando um novo dataframe com apenas duas colunas, temos:\n",
        "dados2 = pd.DataFrame({'Idade':base_dados['AGE'],\n",
        "                       'Altura':base_dados['HT']})\n",
        "dados2.head(10)"
      ],
      "metadata": {
        "colab": {
          "base_uri": "https://localhost:8080/",
          "height": 363
        },
        "id": "uMrcPi8aSQdH",
        "outputId": "327d9797-c69b-466b-f820-e84b012c8264"
      },
      "execution_count": 18,
      "outputs": [
        {
          "output_type": "execute_result",
          "data": {
            "text/plain": [
              "   Idade  Altura\n",
              "0     60   163.7\n",
              "1     24   165.5\n",
              "2     49   163.1\n",
              "3     62   166.3\n",
              "4     53   163.6\n",
              "5     18   170.9\n",
              "6     41   153.5\n",
              "7     21   155.7\n",
              "8     21   153.0\n",
              "9     19   157.0"
            ],
            "text/html": [
              "\n",
              "  <div id=\"df-d67cabba-2dc1-4bd6-8230-1b4b2fe91b84\">\n",
              "    <div class=\"colab-df-container\">\n",
              "      <div>\n",
              "<style scoped>\n",
              "    .dataframe tbody tr th:only-of-type {\n",
              "        vertical-align: middle;\n",
              "    }\n",
              "\n",
              "    .dataframe tbody tr th {\n",
              "        vertical-align: top;\n",
              "    }\n",
              "\n",
              "    .dataframe thead th {\n",
              "        text-align: right;\n",
              "    }\n",
              "</style>\n",
              "<table border=\"1\" class=\"dataframe\">\n",
              "  <thead>\n",
              "    <tr style=\"text-align: right;\">\n",
              "      <th></th>\n",
              "      <th>Idade</th>\n",
              "      <th>Altura</th>\n",
              "    </tr>\n",
              "  </thead>\n",
              "  <tbody>\n",
              "    <tr>\n",
              "      <th>0</th>\n",
              "      <td>60</td>\n",
              "      <td>163.7</td>\n",
              "    </tr>\n",
              "    <tr>\n",
              "      <th>1</th>\n",
              "      <td>24</td>\n",
              "      <td>165.5</td>\n",
              "    </tr>\n",
              "    <tr>\n",
              "      <th>2</th>\n",
              "      <td>49</td>\n",
              "      <td>163.1</td>\n",
              "    </tr>\n",
              "    <tr>\n",
              "      <th>3</th>\n",
              "      <td>62</td>\n",
              "      <td>166.3</td>\n",
              "    </tr>\n",
              "    <tr>\n",
              "      <th>4</th>\n",
              "      <td>53</td>\n",
              "      <td>163.6</td>\n",
              "    </tr>\n",
              "    <tr>\n",
              "      <th>5</th>\n",
              "      <td>18</td>\n",
              "      <td>170.9</td>\n",
              "    </tr>\n",
              "    <tr>\n",
              "      <th>6</th>\n",
              "      <td>41</td>\n",
              "      <td>153.5</td>\n",
              "    </tr>\n",
              "    <tr>\n",
              "      <th>7</th>\n",
              "      <td>21</td>\n",
              "      <td>155.7</td>\n",
              "    </tr>\n",
              "    <tr>\n",
              "      <th>8</th>\n",
              "      <td>21</td>\n",
              "      <td>153.0</td>\n",
              "    </tr>\n",
              "    <tr>\n",
              "      <th>9</th>\n",
              "      <td>19</td>\n",
              "      <td>157.0</td>\n",
              "    </tr>\n",
              "  </tbody>\n",
              "</table>\n",
              "</div>\n",
              "      <button class=\"colab-df-convert\" onclick=\"convertToInteractive('df-d67cabba-2dc1-4bd6-8230-1b4b2fe91b84')\"\n",
              "              title=\"Convert this dataframe to an interactive table.\"\n",
              "              style=\"display:none;\">\n",
              "        \n",
              "  <svg xmlns=\"http://www.w3.org/2000/svg\" height=\"24px\"viewBox=\"0 0 24 24\"\n",
              "       width=\"24px\">\n",
              "    <path d=\"M0 0h24v24H0V0z\" fill=\"none\"/>\n",
              "    <path d=\"M18.56 5.44l.94 2.06.94-2.06 2.06-.94-2.06-.94-.94-2.06-.94 2.06-2.06.94zm-11 1L8.5 8.5l.94-2.06 2.06-.94-2.06-.94L8.5 2.5l-.94 2.06-2.06.94zm10 10l.94 2.06.94-2.06 2.06-.94-2.06-.94-.94-2.06-.94 2.06-2.06.94z\"/><path d=\"M17.41 7.96l-1.37-1.37c-.4-.4-.92-.59-1.43-.59-.52 0-1.04.2-1.43.59L10.3 9.45l-7.72 7.72c-.78.78-.78 2.05 0 2.83L4 21.41c.39.39.9.59 1.41.59.51 0 1.02-.2 1.41-.59l7.78-7.78 2.81-2.81c.8-.78.8-2.07 0-2.86zM5.41 20L4 18.59l7.72-7.72 1.47 1.35L5.41 20z\"/>\n",
              "  </svg>\n",
              "      </button>\n",
              "      \n",
              "  <style>\n",
              "    .colab-df-container {\n",
              "      display:flex;\n",
              "      flex-wrap:wrap;\n",
              "      gap: 12px;\n",
              "    }\n",
              "\n",
              "    .colab-df-convert {\n",
              "      background-color: #E8F0FE;\n",
              "      border: none;\n",
              "      border-radius: 50%;\n",
              "      cursor: pointer;\n",
              "      display: none;\n",
              "      fill: #1967D2;\n",
              "      height: 32px;\n",
              "      padding: 0 0 0 0;\n",
              "      width: 32px;\n",
              "    }\n",
              "\n",
              "    .colab-df-convert:hover {\n",
              "      background-color: #E2EBFA;\n",
              "      box-shadow: 0px 1px 2px rgba(60, 64, 67, 0.3), 0px 1px 3px 1px rgba(60, 64, 67, 0.15);\n",
              "      fill: #174EA6;\n",
              "    }\n",
              "\n",
              "    [theme=dark] .colab-df-convert {\n",
              "      background-color: #3B4455;\n",
              "      fill: #D2E3FC;\n",
              "    }\n",
              "\n",
              "    [theme=dark] .colab-df-convert:hover {\n",
              "      background-color: #434B5C;\n",
              "      box-shadow: 0px 1px 3px 1px rgba(0, 0, 0, 0.15);\n",
              "      filter: drop-shadow(0px 1px 2px rgba(0, 0, 0, 0.3));\n",
              "      fill: #FFFFFF;\n",
              "    }\n",
              "  </style>\n",
              "\n",
              "      <script>\n",
              "        const buttonEl =\n",
              "          document.querySelector('#df-d67cabba-2dc1-4bd6-8230-1b4b2fe91b84 button.colab-df-convert');\n",
              "        buttonEl.style.display =\n",
              "          google.colab.kernel.accessAllowed ? 'block' : 'none';\n",
              "\n",
              "        async function convertToInteractive(key) {\n",
              "          const element = document.querySelector('#df-d67cabba-2dc1-4bd6-8230-1b4b2fe91b84');\n",
              "          const dataTable =\n",
              "            await google.colab.kernel.invokeFunction('convertToInteractive',\n",
              "                                                     [key], {});\n",
              "          if (!dataTable) return;\n",
              "\n",
              "          const docLinkHtml = 'Like what you see? Visit the ' +\n",
              "            '<a target=\"_blank\" href=https://colab.research.google.com/notebooks/data_table.ipynb>data table notebook</a>'\n",
              "            + ' to learn more about interactive tables.';\n",
              "          element.innerHTML = '';\n",
              "          dataTable['output_type'] = 'display_data';\n",
              "          await google.colab.output.renderOutput(dataTable, element);\n",
              "          const docLink = document.createElement('div');\n",
              "          docLink.innerHTML = docLinkHtml;\n",
              "          element.appendChild(docLink);\n",
              "        }\n",
              "      </script>\n",
              "    </div>\n",
              "  </div>\n",
              "  "
            ]
          },
          "metadata": {},
          "execution_count": 18
        }
      ]
    },
    {
      "cell_type": "code",
      "source": [
        "#Verificando as informações do DataFrame criado, temos:\n",
        "dados2.info()"
      ],
      "metadata": {
        "colab": {
          "base_uri": "https://localhost:8080/"
        },
        "id": "XjDWjpAkUZKg",
        "outputId": "a4935363-d80a-4546-ee4f-2da7254b5380"
      },
      "execution_count": 19,
      "outputs": [
        {
          "output_type": "stream",
          "name": "stdout",
          "text": [
            "<class 'pandas.core.frame.DataFrame'>\n",
            "RangeIndex: 40 entries, 0 to 39\n",
            "Data columns (total 2 columns):\n",
            " #   Column  Non-Null Count  Dtype  \n",
            "---  ------  --------------  -----  \n",
            " 0   Idade   40 non-null     int64  \n",
            " 1   Altura  40 non-null     float64\n",
            "dtypes: float64(1), int64(1)\n",
            "memory usage: 768.0 bytes\n"
          ]
        }
      ]
    },
    {
      "cell_type": "markdown",
      "source": [
        "Fazendo o teste de normalidade para verificar se a amostra de alturas de mulheres é proveniente de uma população normalmente distribuída, temos:\n",
        "\n",
        "Primeiramente avaliamos a distribuição dos dados em histogramas com auxílio de curva de densidade KDE."
      ],
      "metadata": {
        "id": "ZjrGb2y-UlMj"
      }
    },
    {
      "cell_type": "code",
      "source": [
        "#Construindo um histograma para observar graficamente a distribuição dos dados, temos:\n",
        "\n",
        "ax = sns.histplot(data = dados2['Altura'], stat = 'proportion',kde = True)\n",
        "ax.figure.set_size_inches(12,6)\n",
        "ax.set_title('Histograma de frequências relativas -  Alturas de mulheres', fontsize = 18)\n",
        "ax.set_xlabel('Alturas de mulheres (cm)', fontsize = 14)\n",
        "ax.set_ylabel('Frequência relativa', fontsize = 14)\n",
        "ax"
      ],
      "metadata": {
        "colab": {
          "base_uri": "https://localhost:8080/",
          "height": 431
        },
        "id": "PbNbLeS4Uxdt",
        "outputId": "faed21ab-2a04-4da0-ebcd-5c20e2ceef64"
      },
      "execution_count": 20,
      "outputs": [
        {
          "output_type": "execute_result",
          "data": {
            "text/plain": [
              "<matplotlib.axes._subplots.AxesSubplot at 0x7f1b2aaf5c10>"
            ]
          },
          "metadata": {},
          "execution_count": 20
        },
        {
          "output_type": "display_data",
          "data": {
            "text/plain": [
              "<Figure size 864x432 with 1 Axes>"
            ],
            "image/png": "[encoded data removed]"
          },
          "metadata": {
            "needs_background": "light"
          }
        }
      ]
    },
    {
      "cell_type": "markdown",
      "source": [
        "O histograma apresenta uma forma aproximadamente normal, com o auxílio da curva de densidade é possível verificar que a distribuição possui aproximadamente uma forma de sino. Construindo uma curva de densidade da distribuição de dados de alturas de mulheres, temos:"
      ],
      "metadata": {
        "id": "F_KuNrNhYF0v"
      }
    },
    {
      "cell_type": "code",
      "source": [
        "#Construindo uma curva de densidade KDE para observação da distribuição dos dados:\n",
        "\n",
        "ax = sns.displot(data = dados2['Altura'],kind = 'kde')\n",
        "ax.figure.set_size_inches(12,6)\n",
        "plt.title('Curva de densidade de distribuição de alturas de mulheres', fontsize = 18)\n",
        "plt.xlabel('Alturas de mulheres (cm)', fontsize = 14)\n",
        "ax"
      ],
      "metadata": {
        "colab": {
          "base_uri": "https://localhost:8080/",
          "height": 473
        },
        "id": "3q7UI1BIYabX",
        "outputId": "6ea745d9-9829-423e-e6b6-de0db22fb4ec"
      },
      "execution_count": 21,
      "outputs": [
        {
          "output_type": "execute_result",
          "data": {
            "text/plain": [
              "<seaborn.axisgrid.FacetGrid at 0x7f1b2aa23a90>"
            ]
          },
          "metadata": {},
          "execution_count": 21
        },
        {
          "output_type": "display_data",
          "data": {
            "text/plain": [
              "<Figure size 864x432 with 1 Axes>"
            ],
            "image/png": "[encoded data removed]"
          },
          "metadata": {
            "needs_background": "light"
          }
        }
      ]
    },
    {
      "cell_type": "markdown",
      "source": [
        "A curva de densidade da distribuição dos dados sugere que os dados são provenientes de uma população normalmente distribuída.\n",
        "\n",
        "A próxima etapa é verificar a existência de outliers."
      ],
      "metadata": {
        "id": "0xaf49B7Ynpw"
      }
    },
    {
      "cell_type": "code",
      "source": [
        "#Altura mínima\n",
        "minimo = dados2['Altura'].min()\n",
        "print('Altura mínima: {}.'.format(minimo))\n",
        "maximo = dados2['Altura'].max()\n",
        "print('Altura máxima: {}.'.format(maximo))"
      ],
      "metadata": {
        "colab": {
          "base_uri": "https://localhost:8080/"
        },
        "id": "brg_tcLCaYmk",
        "outputId": "cce45fde-7fc9-4aad-e5d7-ff9ec6479588"
      },
      "execution_count": 22,
      "outputs": [
        {
          "output_type": "stream",
          "name": "stdout",
          "text": [
            "Altura mínima: 147.6.\n",
            "Altura máxima: 175.7.\n"
          ]
        }
      ]
    },
    {
      "cell_type": "markdown",
      "source": [
        "Comos valores máximos e mínimos estão próximos da distribuição de dados, não há outliers no conjunto de dados."
      ],
      "metadata": {
        "id": "988R1tZRatCc"
      }
    },
    {
      "cell_type": "markdown",
      "source": [
        "A terceira etapa consiste na construção de um gráfico de quantis normais para verificar se os dados de alturas e valores correspondentes de escore Z se ajustam a uma reta."
      ],
      "metadata": {
        "id": "RLJ4hFzJa2Lj"
      }
    },
    {
      "cell_type": "code",
      "source": [
        "#Determinando o desvio-padrão da amostra e a média, temos:\n",
        "media = dados2['Altura'].mean()\n",
        "print('Altura média de mulheres: {}'.format(media))\n",
        "desvio = dados2['Altura'].std()\n",
        "print('Desvio-padrão de alturas: {}'.format(desvio))"
      ],
      "metadata": {
        "colab": {
          "base_uri": "https://localhost:8080/"
        },
        "id": "MQqXPLSmYuW9",
        "outputId": "392ab304-1c60-4090-ee12-eaea013a1796"
      },
      "execution_count": 23,
      "outputs": [
        {
          "output_type": "stream",
          "name": "stdout",
          "text": [
            "Altura média de mulheres: 162.005\n",
            "Desvio-padrão de alturas: 6.595489912014663\n"
          ]
        }
      ]
    },
    {
      "cell_type": "markdown",
      "source": [
        "De acordo com a fonte dos dados, a média populacional de alturas de mulheres é igual a $\\mu = 162,052$ cm e desvio-padrão $\\sigma = 6,604$. Logo, temos:"
      ],
      "metadata": {
        "id": "K80fqiRqZv0s"
      }
    },
    {
      "cell_type": "code",
      "source": [
        "#média populacional de alturas\n",
        "mi = 162.052\n",
        "#desvio-padrão populacional de alturas\n",
        "sigma = 6.604"
      ],
      "metadata": {
        "id": "7g_5XzMCbACS"
      },
      "execution_count": 24,
      "outputs": []
    },
    {
      "cell_type": "code",
      "source": [
        "#Construindo o gráfico de quantis normais, temos:\n",
        "\n",
        "#criando uma nova coluna no dataframe contendo os escores z\n",
        "\n",
        "escores_z = []\n",
        "\n",
        "for item in dados2['Altura']:\n",
        "  z = (item - mi)/sigma\n",
        "  escores_z.append(z)\n",
        "\n",
        "dados2['Escore Z'] = escores_z\n",
        "dados2.head(10)"
      ],
      "metadata": {
        "colab": {
          "base_uri": "https://localhost:8080/",
          "height": 363
        },
        "id": "UDkk75LebK9N",
        "outputId": "3c311eed-53e4-4aa3-f9f6-728253d327ec"
      },
      "execution_count": 25,
      "outputs": [
        {
          "output_type": "execute_result",
          "data": {
            "text/plain": [
              "   Idade  Altura  Escore Z\n",
              "0     60   163.7  0.249546\n",
              "1     24   165.5  0.522108\n",
              "2     49   163.1  0.158692\n",
              "3     62   166.3  0.643247\n",
              "4     53   163.6  0.234403\n",
              "5     18   170.9  1.339794\n",
              "6     41   153.5 -1.294973\n",
              "7     21   155.7 -0.961841\n",
              "8     21   153.0 -1.370684\n",
              "9     19   157.0 -0.764991"
            ],
            "text/html": [
              "\n",
              "  <div id=\"df-4fe537ee-c9af-4577-9823-5f0db0493c60\">\n",
              "    <div class=\"colab-df-container\">\n",
              "      <div>\n",
              "<style scoped>\n",
              "    .dataframe tbody tr th:only-of-type {\n",
              "        vertical-align: middle;\n",
              "    }\n",
              "\n",
              "    .dataframe tbody tr th {\n",
              "        vertical-align: top;\n",
              "    }\n",
              "\n",
              "    .dataframe thead th {\n",
              "        text-align: right;\n",
              "    }\n",
              "</style>\n",
              "<table border=\"1\" class=\"dataframe\">\n",
              "  <thead>\n",
              "    <tr style=\"text-align: right;\">\n",
              "      <th></th>\n",
              "      <th>Idade</th>\n",
              "      <th>Altura</th>\n",
              "      <th>Escore Z</th>\n",
              "    </tr>\n",
              "  </thead>\n",
              "  <tbody>\n",
              "    <tr>\n",
              "      <th>0</th>\n",
              "      <td>60</td>\n",
              "      <td>163.7</td>\n",
              "      <td>0.249546</td>\n",
              "    </tr>\n",
              "    <tr>\n",
              "      <th>1</th>\n",
              "      <td>24</td>\n",
              "      <td>165.5</td>\n",
              "      <td>0.522108</td>\n",
              "    </tr>\n",
              "    <tr>\n",
              "      <th>2</th>\n",
              "      <td>49</td>\n",
              "      <td>163.1</td>\n",
              "      <td>0.158692</td>\n",
              "    </tr>\n",
              "    <tr>\n",
              "      <th>3</th>\n",
              "      <td>62</td>\n",
              "      <td>166.3</td>\n",
              "      <td>0.643247</td>\n",
              "    </tr>\n",
              "    <tr>\n",
              "      <th>4</th>\n",
              "      <td>53</td>\n",
              "      <td>163.6</td>\n",
              "      <td>0.234403</td>\n",
              "    </tr>\n",
              "    <tr>\n",
              "      <th>5</th>\n",
              "      <td>18</td>\n",
              "      <td>170.9</td>\n",
              "      <td>1.339794</td>\n",
              "    </tr>\n",
              "    <tr>\n",
              "      <th>6</th>\n",
              "      <td>41</td>\n",
              "      <td>153.5</td>\n",
              "      <td>-1.294973</td>\n",
              "    </tr>\n",
              "    <tr>\n",
              "      <th>7</th>\n",
              "      <td>21</td>\n",
              "      <td>155.7</td>\n",
              "      <td>-0.961841</td>\n",
              "    </tr>\n",
              "    <tr>\n",
              "      <th>8</th>\n",
              "      <td>21</td>\n",
              "      <td>153.0</td>\n",
              "      <td>-1.370684</td>\n",
              "    </tr>\n",
              "    <tr>\n",
              "      <th>9</th>\n",
              "      <td>19</td>\n",
              "      <td>157.0</td>\n",
              "      <td>-0.764991</td>\n",
              "    </tr>\n",
              "  </tbody>\n",
              "</table>\n",
              "</div>\n",
              "      <button class=\"colab-df-convert\" onclick=\"convertToInteractive('df-4fe537ee-c9af-4577-9823-5f0db0493c60')\"\n",
              "              title=\"Convert this dataframe to an interactive table.\"\n",
              "              style=\"display:none;\">\n",
              "        \n",
              "  <svg xmlns=\"http://www.w3.org/2000/svg\" height=\"24px\"viewBox=\"0 0 24 24\"\n",
              "       width=\"24px\">\n",
              "    <path d=\"M0 0h24v24H0V0z\" fill=\"none\"/>\n",
              "    <path d=\"M18.56 5.44l.94 2.06.94-2.06 2.06-.94-2.06-.94-.94-2.06-.94 2.06-2.06.94zm-11 1L8.5 8.5l.94-2.06 2.06-.94-2.06-.94L8.5 2.5l-.94 2.06-2.06.94zm10 10l.94 2.06.94-2.06 2.06-.94-2.06-.94-.94-2.06-.94 2.06-2.06.94z\"/><path d=\"M17.41 7.96l-1.37-1.37c-.4-.4-.92-.59-1.43-.59-.52 0-1.04.2-1.43.59L10.3 9.45l-7.72 7.72c-.78.78-.78 2.05 0 2.83L4 21.41c.39.39.9.59 1.41.59.51 0 1.02-.2 1.41-.59l7.78-7.78 2.81-2.81c.8-.78.8-2.07 0-2.86zM5.41 20L4 18.59l7.72-7.72 1.47 1.35L5.41 20z\"/>\n",
              "  </svg>\n",
              "      </button>\n",
              "      \n",
              "  <style>\n",
              "    .colab-df-container {\n",
              "      display:flex;\n",
              "      flex-wrap:wrap;\n",
              "      gap: 12px;\n",
              "    }\n",
              "\n",
              "    .colab-df-convert {\n",
              "      background-color: #E8F0FE;\n",
              "      border: none;\n",
              "      border-radius: 50%;\n",
              "      cursor: pointer;\n",
              "      display: none;\n",
              "      fill: #1967D2;\n",
              "      height: 32px;\n",
              "      padding: 0 0 0 0;\n",
              "      width: 32px;\n",
              "    }\n",
              "\n",
              "    .colab-df-convert:hover {\n",
              "      background-color: #E2EBFA;\n",
              "      box-shadow: 0px 1px 2px rgba(60, 64, 67, 0.3), 0px 1px 3px 1px rgba(60, 64, 67, 0.15);\n",
              "      fill: #174EA6;\n",
              "    }\n",
              "\n",
              "    [theme=dark] .colab-df-convert {\n",
              "      background-color: #3B4455;\n",
              "      fill: #D2E3FC;\n",
              "    }\n",
              "\n",
              "    [theme=dark] .colab-df-convert:hover {\n",
              "      background-color: #434B5C;\n",
              "      box-shadow: 0px 1px 3px 1px rgba(0, 0, 0, 0.15);\n",
              "      filter: drop-shadow(0px 1px 2px rgba(0, 0, 0, 0.3));\n",
              "      fill: #FFFFFF;\n",
              "    }\n",
              "  </style>\n",
              "\n",
              "      <script>\n",
              "        const buttonEl =\n",
              "          document.querySelector('#df-4fe537ee-c9af-4577-9823-5f0db0493c60 button.colab-df-convert');\n",
              "        buttonEl.style.display =\n",
              "          google.colab.kernel.accessAllowed ? 'block' : 'none';\n",
              "\n",
              "        async function convertToInteractive(key) {\n",
              "          const element = document.querySelector('#df-4fe537ee-c9af-4577-9823-5f0db0493c60');\n",
              "          const dataTable =\n",
              "            await google.colab.kernel.invokeFunction('convertToInteractive',\n",
              "                                                     [key], {});\n",
              "          if (!dataTable) return;\n",
              "\n",
              "          const docLinkHtml = 'Like what you see? Visit the ' +\n",
              "            '<a target=\"_blank\" href=https://colab.research.google.com/notebooks/data_table.ipynb>data table notebook</a>'\n",
              "            + ' to learn more about interactive tables.';\n",
              "          element.innerHTML = '';\n",
              "          dataTable['output_type'] = 'display_data';\n",
              "          await google.colab.output.renderOutput(dataTable, element);\n",
              "          const docLink = document.createElement('div');\n",
              "          docLink.innerHTML = docLinkHtml;\n",
              "          element.appendChild(docLink);\n",
              "        }\n",
              "      </script>\n",
              "    </div>\n",
              "  </div>\n",
              "  "
            ]
          },
          "metadata": {},
          "execution_count": 25
        }
      ]
    },
    {
      "cell_type": "code",
      "source": [
        "#Construindo o gráfico de quantis normais, temos:\n",
        "\n",
        "ax = sns.lmplot(x = 'Altura',y = 'Escore Z',data = dados2)\n",
        "ax.figure.set_size_inches(12,6)\n",
        "plt.title('Gráfico quantis normais - teste de normalidade', fontsize = 18)\n",
        "plt.ylabel('Escore Z', fontsize = 14)\n",
        "plt.xlabel('Alturas de mulheres (cm)', fontsize = 14)\n",
        "ax"
      ],
      "metadata": {
        "colab": {
          "base_uri": "https://localhost:8080/",
          "height": 473
        },
        "id": "L52TTBf6bqx1",
        "outputId": "928d4a5a-307a-4c4b-b72c-3ca6327a1a31"
      },
      "execution_count": 26,
      "outputs": [
        {
          "output_type": "execute_result",
          "data": {
            "text/plain": [
              "<seaborn.axisgrid.FacetGrid at 0x7f1b2aa08e10>"
            ]
          },
          "metadata": {},
          "execution_count": 26
        },
        {
          "output_type": "display_data",
          "data": {
            "text/plain": [
              "<Figure size 864x432 with 1 Axes>"
            ],
            "image/png": "[encoded data removed]"
          },
          "metadata": {
            "needs_background": "light"
          }
        }
      ]
    },
    {
      "cell_type": "markdown",
      "source": [
        "Como os dados de alturas de mulheres e escores Z correspondentes se ajustma a uma reta, podemos concluir que a amostra de alturas de mulheres é proveniente de uma população normalmente distribuída."
      ],
      "metadata": {
        "id": "Ie3heWNdb-Jd"
      }
    },
    {
      "cell_type": "markdown",
      "source": [
        "#Problema 1 de alturas corporais de homens - Pilotos da Marinha"
      ],
      "metadata": {
        "id": "136q2AwdOaS3"
      }
    },
    {
      "cell_type": "markdown",
      "source": [
        "A Marinha dos Estados Unidos requer que os pilotos de guerra tenham alturas entre 62 e 78\n",
        "polegadas."
      ],
      "metadata": {
        "id": "awwfXz64OrgK"
      }
    },
    {
      "cell_type": "markdown",
      "source": [
        "**Item 1.** Ache o percentual de mulheres que satisfazem essa exigência de altura. Muitas mulheres não se qualificam por serem\n",
        "muito baixas ou muito altas?"
      ],
      "metadata": {
        "id": "k3eY_TzJO6FF"
      }
    },
    {
      "cell_type": "markdown",
      "source": [
        "**Solução:**\n",
        "\n",
        "Para resolver o problema, podemos usar a distribuição normal-padrão. Com a distribuição normal-padrão determinamos o percentual de mulheres que satisfazem tal condição imposta, através das áreas sob a curva de densidade da distribuição normal-padrão."
      ],
      "metadata": {
        "id": "k7uhd_3udebP"
      }
    },
    {
      "cell_type": "markdown",
      "source": [
        "Padronizando, temos:"
      ],
      "metadata": {
        "id": "d-CwojjRn5ni"
      }
    },
    {
      "cell_type": "code",
      "source": [
        "#calculando os escores Z corrrespondentes a x = 157,48 cm e x = 198,12 cm\n",
        "\n",
        "#média populacional de alturas\n",
        "mi_mulheres = 162.052\n",
        "#desvio-padrão populacional de alturas\n",
        "sigma_mulheres = 6.604\n",
        "\n",
        "x_inf = 157.48\n",
        "x_sup = 198.12\n",
        "z_inf = (x_inf - mi_mulheres)/sigma_mulheres\n",
        "z_sup = (x_sup - mi_mulheres)/sigma_mulheres\n",
        "print('Z inferior: {}'.format(z_inf))\n",
        "print('Z superior: {}'.format(z_sup))"
      ],
      "metadata": {
        "colab": {
          "base_uri": "https://localhost:8080/"
        },
        "id": "gPtIxU5LO8nL",
        "outputId": "136c4bec-69ea-465f-b652-632717957d26"
      },
      "execution_count": 27,
      "outputs": [
        {
          "output_type": "stream",
          "name": "stdout",
          "text": [
            "Z inferior: -0.6923076923076927\n",
            "Z superior: 5.4615384615384635\n"
          ]
        }
      ]
    },
    {
      "cell_type": "code",
      "source": [
        "#Calculando a área correspondente entre z_inf e z_sup, temos:\n",
        "porcentagem = norm.cdf(z_sup) - norm.cdf(z_inf)\n",
        "print('Porcentagem de mulheres qualificadas: {}'.format(porcentagem))"
      ],
      "metadata": {
        "colab": {
          "base_uri": "https://localhost:8080/"
        },
        "id": "6RprRVegTLFP",
        "outputId": "643e343d-a108-43e1-b6ae-bf615352604e"
      },
      "execution_count": 28,
      "outputs": [
        {
          "output_type": "stream",
          "name": "stdout",
          "text": [
            "Porcentagem de mulheres qualificadas: 0.7556279162054489\n"
          ]
        }
      ]
    },
    {
      "cell_type": "markdown",
      "source": [
        "**Conclusão:**\n",
        "\n",
        "Cerca de 25% das mulheres não são qualificadas para ingressar para a Marinha devido a altura."
      ],
      "metadata": {
        "id": "sH9hykH6VcqR"
      }
    },
    {
      "cell_type": "markdown",
      "source": [
        "**Item 2.** Ache o percentual de homens que satisfazem essa exigência de altura. Muitos homens não se qualificam por serem\n",
        "muito baixos ou muito altos?\n"
      ],
      "metadata": {
        "id": "7whv5K7PO9h_"
      }
    },
    {
      "cell_type": "markdown",
      "source": [
        "De modo análogo ao item anterior, temos:\n",
        "\n",
        "Padronizando "
      ],
      "metadata": {
        "id": "y2YQae0NWj-H"
      }
    },
    {
      "cell_type": "code",
      "source": [
        "#calculando os escores Z corrrespondentes a x = 157,48 cm e x = 198,12 cm, obtém-se os seguintes valores:\n",
        "\n",
        "#média populacional\n",
        "mi_homens = 176.53\n",
        "#desvio-padrão populacional\n",
        "sigma_homens = 6.096\n",
        "\n",
        "x_inf = 157.48\n",
        "x_sup = 198.12\n",
        "\n",
        "z_inf = (x_inf - mi_homens)/sigma_homens\n",
        "print('Z inferior: {}'.format(z_inf))\n",
        "z_sup = (x_sup - mi_homens)/sigma_homens\n",
        "print('Z superior: {}'.format(z_sup))"
      ],
      "metadata": {
        "colab": {
          "base_uri": "https://localhost:8080/"
        },
        "id": "2fv4JM_hPDQR",
        "outputId": "99ccc31d-b46b-4b70-b855-3b81f40e39de"
      },
      "execution_count": 29,
      "outputs": [
        {
          "output_type": "stream",
          "name": "stdout",
          "text": [
            "Z inferior: -3.1250000000000018\n",
            "Z superior: 3.541666666666667\n"
          ]
        }
      ]
    },
    {
      "cell_type": "code",
      "source": [
        "#Calculando as áreas correspondentes na distribuição normal-padrão, temos:\n",
        "porcentagem = norm.cdf(z_sup) - norm.cdf(z_inf)\n",
        "print('Porcentagem: {}'.format(porcentagem))"
      ],
      "metadata": {
        "colab": {
          "base_uri": "https://localhost:8080/"
        },
        "id": "Sh501PD4PDy_",
        "outputId": "648773ff-00dc-4d60-c4f5-401b2ebde2c0"
      },
      "execution_count": 30,
      "outputs": [
        {
          "output_type": "stream",
          "name": "stdout",
          "text": [
            "Porcentagem: 0.9989121709097766\n"
          ]
        }
      ]
    },
    {
      "cell_type": "markdown",
      "source": [
        "**Conclusão:**\n",
        "\n",
        "Portanto, 99.9% dos homens possuem altura dentro dos critérios exigidos para ingresso na Marinha."
      ],
      "metadata": {
        "id": "wtwqFxoIYS_h"
      }
    },
    {
      "cell_type": "markdown",
      "source": [
        "**Item 3.** Se a Marinha mudar as exigências de altura, de modo que todas as mulheres sejam elegíveis, exceto os 2% delas mais\n",
        "baixos e os 2% delas mais altos, quais serão as novas exigências de altura para mulheres?\n"
      ],
      "metadata": {
        "id": "xmrndagLPEax"
      }
    },
    {
      "cell_type": "markdown",
      "source": [
        "**Solução:** \n",
        "\n",
        "Para determinar o valor de altura que limita os 2% mais baixos e o valor que limita os 2% mais altos, utilizamos a seguinte metodologia:\n",
        "\n",
        "1. A partir da área, calculamos o valor correspondente de z na distribuição normal-padrão;\n",
        "2. Conhecido o valor de z, determinamos o valor da variável aleatória contínua x."
      ],
      "metadata": {
        "id": "-TZ6rcIg3POo"
      }
    },
    {
      "cell_type": "code",
      "source": [
        "#calculo do 2º percentil:"
      ],
      "metadata": {
        "id": "4jtzaZ66PId6"
      },
      "execution_count": 31,
      "outputs": []
    },
    {
      "cell_type": "code",
      "source": [
        "#calculo do 98º percentil:"
      ],
      "metadata": {
        "id": "MohGCmhRPI7j"
      },
      "execution_count": 32,
      "outputs": []
    },
    {
      "cell_type": "markdown",
      "source": [
        "Para que a Marinha consiga selecionar todas as mulheres, com exceção das 2% mais baixas e 2% mais altas, os novos requisitos seriam alturas entre x cm e x cm."
      ],
      "metadata": {
        "id": "nIYcAg0hbBOW"
      }
    },
    {
      "cell_type": "markdown",
      "source": [
        "**Item 4.** Se a Marinha mudar as exigências de altura, de modo que todos os homens sejam elegíveis, exceto o 1% deles mais\n",
        "baixos e o 1% deles mais altos, quais serão as novas exigências de altura para homens?"
      ],
      "metadata": {
        "id": "RG1Uv7ZlPJhh"
      }
    },
    {
      "cell_type": "markdown",
      "source": [
        "Para determinar o valor de altura que limita os 1% mais baixos e o valor que limita os 1% mais altos, utilizamos a seguinte metodologia:\n",
        "\n",
        "1. A partir da área, calculamos o valor correspondente de z na distribuição normal-padrão;\n",
        "2. Conhecido o valor de z, determinamos o valor da variável aleatória contínua x."
      ],
      "metadata": {
        "id": "KpKMXh8OUtbc"
      }
    },
    {
      "cell_type": "code",
      "source": [
        "#calculo do 1º percentil:\n"
      ],
      "metadata": {
        "id": "4CgDxn1uPP-7"
      },
      "execution_count": 38,
      "outputs": []
    },
    {
      "cell_type": "code",
      "source": [
        "#calculo do 99º percentil:"
      ],
      "metadata": {
        "id": "gr-Kl__jhUvA"
      },
      "execution_count": 39,
      "outputs": []
    },
    {
      "cell_type": "markdown",
      "source": [
        "Para que a Marinha selecione todos os homens, com exceção dos 1% mais baixos e 1% mais altos, as exigências de alturas deveriam ser modificadas para x cm e x cm."
      ],
      "metadata": {
        "id": "KjQXxLGYhYlX"
      }
    },
    {
      "cell_type": "markdown",
      "source": [
        "#Problema 2 de alturas corporais de homens - Pilotos da Força Aérea\n",
        "\n",
        "A Força Aérea dos Estados Unidos exige que pilotos tenham alturas entre 162,56 cm e 195,58 cm."
      ],
      "metadata": {
        "id": "shgUcnj3idtz"
      }
    },
    {
      "cell_type": "markdown",
      "source": [
        "**Item 1.** Ache o percentual de mulheres que satisfazem a exigência de altura."
      ],
      "metadata": {
        "id": "8TyIY76Biyvq"
      }
    },
    {
      "cell_type": "markdown",
      "source": [
        "**Solução:** Para determinar a porcentagem precisamos fazer uso da distribuição normal-padrão. Padronizando e calculando as áreas correspondentes, temos:"
      ],
      "metadata": {
        "id": "FUaa53FUk2r4"
      }
    },
    {
      "cell_type": "code",
      "source": [
        "#calculando os escores Z corrrespondentes a x = 162,56 cm e x = 195,58 cm\n",
        "\n",
        "#média populacional de alturas\n",
        "mi_mulheres = 162.052\n",
        "#desvio-padrão populacional de alturas\n",
        "sigma_mulheres = 6.604\n",
        "\n",
        "x_inf = 162.56\n",
        "x_sup = 195.58\n",
        "z_inf = (x_inf - mi_mulheres)/sigma_mulheres\n",
        "z_sup = (x_sup - mi_mulheres)/sigma_mulheres\n",
        "print('Z inferior: {}'.format(z_inf))\n",
        "print('Z superior: {}'.format(z_sup))"
      ],
      "metadata": {
        "colab": {
          "base_uri": "https://localhost:8080/"
        },
        "id": "szc9bV4Oiusu",
        "outputId": "4bed4c15-72c3-4af0-8613-c8d3867255a4"
      },
      "execution_count": 40,
      "outputs": [
        {
          "output_type": "stream",
          "name": "stdout",
          "text": [
            "Z inferior: 0.0769230769230784\n",
            "Z superior: 5.07692307692308\n"
          ]
        }
      ]
    },
    {
      "cell_type": "code",
      "source": [
        "#Calculando a área correspondentes, temos:\n",
        "porcentagem = norm.cdf(z_sup) - norm.cdf(z_inf)\n",
        "print('Porcentagem de mulheres aptas: {}'.format(porcentagem))"
      ],
      "metadata": {
        "colab": {
          "base_uri": "https://localhost:8080/"
        },
        "id": "vMIO9Bcsi3_7",
        "outputId": "700a0a85-6c25-46a1-871b-fa7ff49295ad"
      },
      "execution_count": 41,
      "outputs": [
        {
          "output_type": "stream",
          "name": "stdout",
          "text": [
            "Porcentagem de mulheres aptas: 0.4693421778053475\n"
          ]
        }
      ]
    },
    {
      "cell_type": "markdown",
      "source": [
        "Portanto, apenas aproximadamente 47% das mulheres satisfazem os requisitos e alturas para ingressar como piloto da Força Aérea."
      ],
      "metadata": {
        "id": "4hy2SoR-mEha"
      }
    },
    {
      "cell_type": "markdown",
      "source": [
        "**Item 2.** Ache o percentual de homens que satisfazem a exigência de altura.\n"
      ],
      "metadata": {
        "id": "gK87mgRpi4h1"
      }
    },
    {
      "cell_type": "code",
      "source": [
        "#calculando os escores Z corrrespondentes a x = 162,56 cm e x = 195,58 cm, obtém-se os seguintes valores:\n",
        "\n",
        "#média populacional\n",
        "mi_homens = 176.53\n",
        "#desvio-padrão populacional\n",
        "sigma_homens = 6.096\n",
        "\n",
        "x_inf = 162.56\n",
        "x_sup = 195.58\n",
        "\n",
        "z_inf = (x_inf - mi_homens)/sigma_homens\n",
        "print('Z inferior: {}'.format(z_inf))\n",
        "z_sup = (x_sup - mi_homens)/sigma_homens\n",
        "print('Z superior: {}'.format(z_sup))"
      ],
      "metadata": {
        "colab": {
          "base_uri": "https://localhost:8080/"
        },
        "id": "RgbP5n94i8vO",
        "outputId": "cee3a9f0-6c2b-4c3a-bed8-f6734cd2db5b"
      },
      "execution_count": 42,
      "outputs": [
        {
          "output_type": "stream",
          "name": "stdout",
          "text": [
            "Z inferior: -2.2916666666666665\n",
            "Z superior: 3.1250000000000018\n"
          ]
        }
      ]
    },
    {
      "cell_type": "code",
      "source": [
        "#Calculando a área correspondente, temos:\n",
        "porcentagem = norm.cdf(z_sup) - norm.cdf(z_inf)\n",
        "print('Porcentagem de homens aptos: {}'.format(porcentagem))"
      ],
      "metadata": {
        "colab": {
          "base_uri": "https://localhost:8080/"
        },
        "id": "YP0lCKw2i9Dq",
        "outputId": "d2ecd574-0e20-431d-94e2-2fe6b56cd157"
      },
      "execution_count": 43,
      "outputs": [
        {
          "output_type": "stream",
          "name": "stdout",
          "text": [
            "Porcentagem de homens aptos: 0.9881485320517207\n"
          ]
        }
      ]
    },
    {
      "cell_type": "markdown",
      "source": [
        "**Conclusão:** Portanto, aproximadamente 98,81% dos homens satisfazem os requisitos exeigidos de alturas."
      ],
      "metadata": {
        "id": "54NbFZGamrO0"
      }
    },
    {
      "cell_type": "markdown",
      "source": [
        "**Item 3.** Se as exigências da Força Aérea são mudadas para excluir apenas os 3% mais altos dos homens e os 3% mais baixos\n",
        "das mulheres, quais são as novas exigências de altura?\n"
      ],
      "metadata": {
        "id": "jAZP3QNji9ct"
      }
    },
    {
      "cell_type": "markdown",
      "source": [
        "Para determinar o valor de altura que limita os 3% mais baixos e o valor que limita os 3% mais altos, utilizamos a seguinte metodologia:\n",
        "\n",
        "1. A partir da área, calculamos o valor correspondente de z na distribuição normal-padrão;\n",
        "2. Conhecido o valor de z, determinamos o valor da variável aleatória contínua x."
      ],
      "metadata": {
        "id": "lCaSSckIU05y"
      }
    },
    {
      "cell_type": "code",
      "source": [
        "#calculo do 3º percentil do conjunto de dados de alturas de mulheres:\n",
        "percentil_inf = dados2['Altura'].quantile(q = 0.03)\n",
        "print('percentil inferior: {}'.format(percentil_inf))"
      ],
      "metadata": {
        "colab": {
          "base_uri": "https://localhost:8080/"
        },
        "id": "ykBCmU19jBFU",
        "outputId": "05e909d2-35b9-4592-b472-3c1ea706efdb"
      },
      "execution_count": 44,
      "outputs": [
        {
          "output_type": "stream",
          "name": "stdout",
          "text": [
            "percentil inferior: 149.057\n"
          ]
        }
      ]
    },
    {
      "cell_type": "code",
      "source": [
        "#calculo do 97º percentil do conjunto de dados de alturas dos homens:\n",
        "percentil_sup = dados1['Altura'].quantile(q = 0.97)\n",
        "print('percentil superior: {}'.format(percentil_sup))"
      ],
      "metadata": {
        "colab": {
          "base_uri": "https://localhost:8080/"
        },
        "id": "7290qOnZoUiM",
        "outputId": "348706e9-346d-489f-dbce-ecc5c2237492"
      },
      "execution_count": 45,
      "outputs": [
        {
          "output_type": "stream",
          "name": "stdout",
          "text": [
            "percentil superior: 187.64700000000002\n"
          ]
        }
      ]
    },
    {
      "cell_type": "markdown",
      "source": [
        "**Solução:** Os requisitos de alturas deveriam ser modificados para 149 cm e 187,64 cm para excluir as 3% mais baixas do conjunto de dados de alturas de mulheres e excluir os 3% mais altos do conjunto de dados de alturas de homens."
      ],
      "metadata": {
        "id": "CyS1hWoxoeC5"
      }
    },
    {
      "cell_type": "markdown",
      "source": [
        "# Problema 3 - Segurança em Táxis Aquáticos\n",
        "\n",
        "Quando um táxi aquático afundou no porto interno de Baltimore, uma\n",
        "investigação revelou que a carga segura de passageiros para o táxi aquático era de 3.500 libras (1.587,6 kg), supondo-se\n",
        "também, que o peso médio dos passageiros fosse de 140 libras. Suponha o caso do “pior cenário”, no qual todos os\n",
        "passageiros são homens adultos. (Isso poderia facilmente ocorrer em uma cidade que recebe convenções, nas quais\n",
        "pessoas do mesmo gênero frequentemente viajam em grupos.) Suponha que os pesos dos homens sejam normalmente\n",
        "distribuídos, com média de 182,9 libras (82,96 kg) e desvio-padrão de 40,8 libras (18,51 kg) (com base no Conjunto de\n",
        "Dados 1 do Apêndice B)."
      ],
      "metadata": {
        "id": "ymsAv2mKo_ak"
      }
    },
    {
      "cell_type": "markdown",
      "source": [
        "**Item 1.** Se um homem é selecionado aleatoriamente, ache a probabilidade de que ele pese menos do que 174 libras (o novo\n",
        "valor sugerido pelo Conselho Nacional de Transporte e Segurança)."
      ],
      "metadata": {
        "id": "l7AzF7jbqFsr"
      }
    },
    {
      "cell_type": "markdown",
      "source": [
        "**Solução:** Para calcular a probabilidade de que um homem selecionado aleatoriamente pese menos que 174 libras, precisamos utilizar a distribuição normal-padrão. Tal procedimento é válido, uma vez que os dados de pesos de homens são normalmente distribuídos. Primeiramente calculamos o escore Z correspondente ao valor de x = 174 libras e calculamos a área à esquerda da distribuição normal usando a função \"norm.cdf(escore z)\"."
      ],
      "metadata": {
        "id": "wXjd2cvcrBLV"
      }
    },
    {
      "cell_type": "code",
      "source": [
        "#Padronizando, temos:\n",
        "\n",
        "#variável aleatória contínua\n",
        "x = 174\n",
        "#Média populacional de pesos de homens\n",
        "mi = 182.9\n",
        "#desvio-padrão populacional de pesos de homens\n",
        "sigma = 40.8\n",
        "\n",
        "#escore Z\n",
        "z = (x - mi)/sigma\n",
        "print('Escore Z: {}'.format(z))"
      ],
      "metadata": {
        "colab": {
          "base_uri": "https://localhost:8080/"
        },
        "id": "mUt2Mwjaqv6N",
        "outputId": "c3af4893-faca-4a20-db25-581fda22c41d"
      },
      "execution_count": 46,
      "outputs": [
        {
          "output_type": "stream",
          "name": "stdout",
          "text": [
            "Escore Z: -0.21813725490196093\n"
          ]
        }
      ]
    },
    {
      "cell_type": "code",
      "source": [
        "#Calculando a probabilidade, temos:\n",
        "probabilidade = norm.cdf(z)\n",
        "print('Probabilidade: {}'.format(probabilidade))"
      ],
      "metadata": {
        "colab": {
          "base_uri": "https://localhost:8080/"
        },
        "id": "zhorD-uDqv80",
        "outputId": "a753a207-6dca-4b40-96e5-a70ea656aec8"
      },
      "execution_count": 47,
      "outputs": [
        {
          "output_type": "stream",
          "name": "stdout",
          "text": [
            "Probabilidade: 0.4136610855230837\n"
          ]
        }
      ]
    },
    {
      "cell_type": "markdown",
      "source": [
        "**Conclusão:** Portanto, há 41,36% de probabilidade de que um homem selecionado aleatoriamente pese mais que 174 libras. Note que há uma correspondência entre probabilidade e área sob a curva de densidade da distribuição normal-padrão."
      ],
      "metadata": {
        "id": "PMwXwv20sPYo"
      }
    },
    {
      "cell_type": "markdown",
      "source": [
        "**Item 2.** Com um limite de carga de 3.500 libras, quantos passageiros homens poderão embarcar, se admitirmos um peso médio\n",
        "de 140 libras?\n"
      ],
      "metadata": {
        "id": "7P2VZyLaqILT"
      }
    },
    {
      "cell_type": "markdown",
      "source": [
        "**Solução:** admitindo a média de pesos de homens de 140 libras, temos:"
      ],
      "metadata": {
        "id": "j-42nYjMsiyp"
      }
    },
    {
      "cell_type": "code",
      "source": [
        "limite_seguranca = 3500\n",
        "media_peso = 140\n",
        "qntd_homens = limite_seguranca/media_peso\n",
        "print('Quantidade de passageiros homens: {}'.format(qntd_homens))"
      ],
      "metadata": {
        "colab": {
          "base_uri": "https://localhost:8080/"
        },
        "id": "uS-q86c2qwjx",
        "outputId": "cebae4ff-ede5-42c8-b672-9ff1955f11e1"
      },
      "execution_count": 48,
      "outputs": [
        {
          "output_type": "stream",
          "name": "stdout",
          "text": [
            "Quantidade de passageiros homens: 25.0\n"
          ]
        }
      ]
    },
    {
      "cell_type": "markdown",
      "source": [
        "Portanto, admitindo que o peso médio de passageiros homens seja 140 libras, poderíamos transportar em média 25 passageiros."
      ],
      "metadata": {
        "id": "xO9snLKIs7SJ"
      }
    },
    {
      "cell_type": "markdown",
      "source": [
        "**Item 3.** Com um limite de carga de 3.500 libras, quantos passageiros homens poderão embarcar, se usarmos o novo peso\n",
        "médio de 182,9 libras?"
      ],
      "metadata": {
        "id": "FW10ZyMbqMRi"
      }
    },
    {
      "cell_type": "markdown",
      "source": [
        "**Solução:** admitindo a média de pesos de homens de 182,9 libras, temos o seguinte resultado:"
      ],
      "metadata": {
        "id": "0WzLZEHrtTCh"
      }
    },
    {
      "cell_type": "code",
      "source": [
        "limite_seguranca = 3500\n",
        "media_peso = 182.9\n",
        "qntd_homens = limite_seguranca/media_peso\n",
        "print('Quantidade de passageiros homens: {}'.format(qntd_homens))"
      ],
      "metadata": {
        "colab": {
          "base_uri": "https://localhost:8080/"
        },
        "id": "baMyrIQzqxL8",
        "outputId": "fd3bb45c-4568-47c0-f2cc-b87d06674a38"
      },
      "execution_count": 49,
      "outputs": [
        {
          "output_type": "stream",
          "name": "stdout",
          "text": [
            "Quantidade de passageiros homens: 19.136139967195188\n"
          ]
        }
      ]
    },
    {
      "cell_type": "markdown",
      "source": [
        "**Conclusão:** com uma média de pesos mais, podemos verificar que a quantidade de passageiros admitidos diminui. Como os pesos da população varia com o tempo, periodicamente é necessário revisar o número máximo de passageiros que pode ser admitido na embarcação, de modo a preservar a segurança da embarcação."
      ],
      "metadata": {
        "id": "hichgOhgtevv"
      }
    },
    {
      "cell_type": "markdown",
      "source": [
        "# O teorema Limite Central"
      ],
      "metadata": {
        "id": "Lnxw7LTVl5ia"
      }
    },
    {
      "cell_type": "markdown",
      "source": [
        "#Problema 1 - Segurança de elevadores"
      ],
      "metadata": {
        "id": "WdGoa18bmlJb"
      }
    },
    {
      "cell_type": "markdown",
      "source": [
        "O Exemplo 2 se refere a um elevador em Ohio com capacidade máxima de 2.500\n",
        "libras. Na classificação dos elevadores, é comum o uso de um fator de segurança de 25%, de modo que o elevador\n",
        "deveria ser capaz de, realmente, carregar uma carga 25% maior do que o afirmado. A capacidade máxima de 2.500 libras\n",
        "se torna 3.125 libras depois de aumentada em 25%, de modo que 16 passageiros homens podem ter um peso médio de até\n",
        "195,3 libras. Se o elevador está carregado com 16 passageiros homens, ache a probabilidade de que esteja sobrecarregado\n",
        "porque os passageiros têm um peso médio superior a 195,3 libras. (Como no Exemplo 2, suponha que os pesos de\n",
        "homens sejam normalmente distribuídos, com média de 182,9 libras e desvio-padrão de 40,8 libras.) Esse elevador parece\n",
        "seguro?"
      ],
      "metadata": {
        "id": "8F14cep_ml5L"
      }
    },
    {
      "cell_type": "markdown",
      "source": [
        "**Solução:**\n",
        "\n",
        "Os pesos de homens são normalmente distribuídos, logo não pe necessário que o tamanho de cada amostra seja maior que 30 para aplicação do Teorema do Limite Central. Fazendo os cálculos, temos:"
      ],
      "metadata": {
        "id": "nuEqbBQun1Hr"
      }
    },
    {
      "cell_type": "code",
      "source": [
        "#tamanho da amostra\n",
        "n = 16 \n",
        "#Média amostral de interesse (limite de peso médio para a amostra)\n",
        "x_barra = 195.3"
      ],
      "metadata": {
        "id": "JnkmLjHel8Ma"
      },
      "execution_count": 58,
      "outputs": []
    },
    {
      "cell_type": "code",
      "source": [
        "#Calculando os parâmetros da distribuição amostral de médias amostrais, temos:\n",
        "media_populacional = 182.9\n",
        "media_amostral = media_populacional\n",
        "std_populacional = 40.8\n",
        "std_amostral = std_populacional/np.sqrt(n)\n",
        "print('desvio-padrão amostral: {}'.format(std_amostral))"
      ],
      "metadata": {
        "colab": {
          "base_uri": "https://localhost:8080/"
        },
        "id": "VRd6Idq2nai_",
        "outputId": "99067374-24eb-4e7b-e473-4dc37cf96e39"
      },
      "execution_count": 59,
      "outputs": [
        {
          "output_type": "stream",
          "name": "stdout",
          "text": [
            "desvio-padrão amostral: 10.2\n"
          ]
        }
      ]
    },
    {
      "cell_type": "markdown",
      "source": [
        "Calculando o escore z correspondente a média amostral de 195,3 libras, temos:"
      ],
      "metadata": {
        "id": "dX_qqL4wo2JY"
      }
    },
    {
      "cell_type": "code",
      "source": [
        "z_dist_amostral = (x_barra - media_populacional)/(std_amostral)\n",
        "print('escore Z: {}'.format(z_dist_amostral))"
      ],
      "metadata": {
        "colab": {
          "base_uri": "https://localhost:8080/"
        },
        "id": "mlTFnWOho84n",
        "outputId": "8ad26847-1e17-4bf8-ca86-d000c31c330e"
      },
      "execution_count": 60,
      "outputs": [
        {
          "output_type": "stream",
          "name": "stdout",
          "text": [
            "escore Z: 1.2156862745098045\n"
          ]
        }
      ]
    },
    {
      "cell_type": "markdown",
      "source": [
        "O elevador estará sobrecarregado se a média de pesos da amostra com 16 passageiros homens for superior a 195,3 libras. Caso a média amostral seja superior a 195,3 libras, o elevador estará sobrecarregado. Vamos verificar a probabilidade do elevador entrar em operação sobrecarregado.\n"
      ],
      "metadata": {
        "id": "si6ASUQ2piyl"
      }
    },
    {
      "cell_type": "code",
      "source": [
        "probabilidade = 1 - norm.cdf(z_dist_amostral)\n",
        "print('Probabilidade: {}'.format(probabilidade))"
      ],
      "metadata": {
        "colab": {
          "base_uri": "https://localhost:8080/"
        },
        "id": "CqAxaMfzpZHC",
        "outputId": "5fe3e9f3-81a0-4479-ccf8-202e2ad2a030"
      },
      "execution_count": 63,
      "outputs": [
        {
          "output_type": "stream",
          "name": "stdout",
          "text": [
            "Probabilidade: 0.112052227341776\n"
          ]
        }
      ]
    },
    {
      "cell_type": "markdown",
      "source": [
        "O elevador não parece seguro, pois há uma chance razoável de ser operado em condições fora dos critérios exigidos de segurança. O número de passageiros máximo permitido deve ser revisto, de modo a aumentar a segurança dos passageiros."
      ],
      "metadata": {
        "id": "KDqDYWGgq5HD"
      }
    },
    {
      "cell_type": "markdown",
      "source": [
        "#Problema 2 - Segurança de Táxi Aquático"
      ],
      "metadata": {
        "id": "ThoGKmRmrdxm"
      }
    },
    {
      "cell_type": "markdown",
      "source": [
        "Passageiros morreram quando um táxi aquático afundou no Porto Interno de\n",
        "Baltimore. Homens são, tipicamente, mais pesados do que mulheres e crianças, de modo que, ao se lotar um táxi\n",
        "aquático, suponha o pior cenário no qual todos os passageiros são homens. Suponha que os pesos de homens sejam\n",
        "normalmente distribuídos, com média de 182,9 libras e desvio-padrão de 40,8 libras (com base no Conjunto de Dados 1\n",
        "no Apêndice B). O táxi aquático que afundou tinha capacidade de 25 passageiros, e estava classificado para um limite de\n",
        "carga de 3.500 libras.\n"
      ],
      "metadata": {
        "id": "rsaoEHELrhDM"
      }
    },
    {
      "cell_type": "markdown",
      "source": [
        "**Item 1.** Dado que o táxi aquático que afundou estava classificado para um limite de carga de 3.500 libras, qual é o peso médio\n",
        "dos passageiros se o barco estava com a capacidade estabelecida de 25 passageiros?\n",
        "\n"
      ],
      "metadata": {
        "id": "c_bFQsJnrk76"
      }
    },
    {
      "cell_type": "markdown",
      "source": [
        "Solução:"
      ],
      "metadata": {
        "id": "W_cnoH6KsOrD"
      }
    },
    {
      "cell_type": "code",
      "source": [
        "#Cálculo do peso médio amostral máximo suportado:\n",
        "n = 25\n",
        "x_barra = 3500/n\n",
        "print('Média amostral máxima suportada: {} libras'.format(x_barra))"
      ],
      "metadata": {
        "colab": {
          "base_uri": "https://localhost:8080/"
        },
        "id": "IyOtpRmBtsa_",
        "outputId": "b5b57551-14bc-484e-a9b7-85df7b0ad0a9"
      },
      "execution_count": 66,
      "outputs": [
        {
          "output_type": "stream",
          "name": "stdout",
          "text": [
            "Média amostral máxima suportada: 140.0 libras\n"
          ]
        }
      ]
    },
    {
      "cell_type": "markdown",
      "source": [
        "**Item 2.** Se o táxi aquático estiver cheio com 25 homens selecionados aleatoriamente, qual é a probabilidade de que o peso\n",
        "médio deles exceda o valor da parte (a)?\n"
      ],
      "metadata": {
        "id": "3efjRF5Orkx7"
      }
    },
    {
      "cell_type": "markdown",
      "source": [
        "Solução:\n",
        "\n",
        "Como os pesos de homens são normalmente distribuídos, não é necessário tamanhos amostrais maiores que 30 dados para utilizar o Teorema Limite Central. Calculando os parâmetros da distribuição amostral de médias amostrais, temos:"
      ],
      "metadata": {
        "id": "6F_2u-K_uOGX"
      }
    },
    {
      "cell_type": "code",
      "source": [
        "#tamanho da amostra\n",
        "n = 25 \n",
        "#Média amostral de interesse (limite de peso médio para a amostra)\n",
        "x_barra = 3500/n\n",
        "#Parâmetros da distribuição amostral de médias amostrais\n",
        "media_populacional = 182.9\n",
        "media_amostral = media_populacional\n",
        "std_populacional = 40.8\n",
        "std_amostral = std_populacional/np.sqrt(n)\n",
        "print('desvio-padrão amostral: {}'.format(std_amostral))"
      ],
      "metadata": {
        "colab": {
          "base_uri": "https://localhost:8080/"
        },
        "id": "rWa8I62BuNaa",
        "outputId": "c988945a-7563-4fc6-d2ca-74785332c8ce"
      },
      "execution_count": 67,
      "outputs": [
        {
          "output_type": "stream",
          "name": "stdout",
          "text": [
            "desvio-padrão amostral: 8.16\n"
          ]
        }
      ]
    },
    {
      "cell_type": "markdown",
      "source": [
        "Calculando o escore Z correspondente a média amostral de 140.0 libras e a probabilidade de termos uma média amostral maior que 140.0 libras no pior cenário, temos:"
      ],
      "metadata": {
        "id": "GTRKnVBPujEi"
      }
    },
    {
      "cell_type": "code",
      "source": [
        "escore_z = (x_barra - media_amostral)/std_amostral\n",
        "probabilidade = 1 - norm.cdf(escore_z)\n",
        "print('Probabilidade: {}'.format(probabilidade))"
      ],
      "metadata": {
        "colab": {
          "base_uri": "https://localhost:8080/"
        },
        "id": "pSB4l6z1uNdM",
        "outputId": "6308f56c-4f8f-4d1c-d0fd-ba9d12b5bd5e"
      },
      "execution_count": 68,
      "outputs": [
        {
          "output_type": "stream",
          "name": "stdout",
          "text": [
            "Probabilidade: 0.9999999269281631\n"
          ]
        }
      ]
    },
    {
      "cell_type": "markdown",
      "source": [
        "Portanto, é altamente provável que a média amostral seja maior que 140 libras para 25 passageiros homens. O que significa que certamente a embarcação estava operando fora das condições exigidas de segurança."
      ],
      "metadata": {
        "id": "OHa7ceb8vEvJ"
      }
    },
    {
      "cell_type": "markdown",
      "source": [
        "**Item 3.** Depois que o táxi aquático afundou, as hipóteses sobre peso foram revistas, de modo que a nova capacidade se tornou\n",
        "de 20 passageiros. Se o táxi aquático estiver cheio com 20 homens selecionados aleatoriamente, qual é a probabilidade de\n",
        "que o peso médio deles exceda 175 libras, que é o peso médio máximo que não faz com que a carga total não exceda\n",
        "3.500 libras?\n"
      ],
      "metadata": {
        "id": "aT0P1TPnrklb"
      }
    },
    {
      "cell_type": "code",
      "source": [
        "#tamanho da amostra\n",
        "n = 20\n",
        "#Média amostral de interesse (limite de peso médio para a amostra)\n",
        "x_barra = 3500/n\n",
        "#Parâmetros da distribuição amostral de médias amostrais\n",
        "media_populacional = 182.9\n",
        "media_amostral = media_populacional\n",
        "std_populacional = 40.8\n",
        "std_amostral = std_populacional/np.sqrt(n)\n",
        "escore_z = (x_barra - media_amostral)/std_amostral\n",
        "probabilidade = 1 - norm.cdf(escore_z)\n",
        "print('Probabilidade: {}'.format(probabilidade))"
      ],
      "metadata": {
        "colab": {
          "base_uri": "https://localhost:8080/"
        },
        "id": "U8koUBYDvW6y",
        "outputId": "3497891b-368a-43b3-caf6-7fd2168d2487"
      },
      "execution_count": 69,
      "outputs": [
        {
          "output_type": "stream",
          "name": "stdout",
          "text": [
            "Probabilidade: 0.8067352547271064\n"
          ]
        }
      ]
    },
    {
      "cell_type": "markdown",
      "source": [
        "A probabilidade de que, no pior cenário, o peso médio de 20 passageiros exceda o peso médio máximo suportado pela embarcação é de 80,67%. Portanto, é muito provável que a embarcação opere fora dos requisitos de segurança. Como a probabilidade é alta, a embarcação não parece segura para ser operada com 20 passageiros, o limite de passageiros deve ser revisto."
      ],
      "metadata": {
        "id": "wzVDEILtvn1P"
      }
    },
    {
      "cell_type": "markdown",
      "source": [
        "#Problema 3 - Redesenhando assentos ejetores"
      ],
      "metadata": {
        "id": "Dct-avSYxaXO"
      }
    },
    {
      "cell_type": "markdown",
      "source": [
        "Quando se permitiu que mulheres se tornassem pilotos de jatos de combate,\n",
        "os engenheiros tiveram que redesenhar os assentos de ejeção, que tinham sido projetados, originalmente, apenas para\n",
        "homens. Os assentos de ejeção ACES-II foram projetados para homens com pesos entre 140 e 211 libras. Os pesos das\n",
        "mulheres são normalmente distribuídos, com média de 165,0 libras e desvio-padrão de 45,6 libras (com base no Conjunto\n",
        "de Dados 1 do Apêndice B).\n"
      ],
      "metadata": {
        "id": "Ve9PPzSixeAI"
      }
    },
    {
      "cell_type": "markdown",
      "source": [
        "**Item 1.** Se uma mulher é selecionada aleatoriamente, ache a probabilidade de seu peso estar entre 140 e 211 libras."
      ],
      "metadata": {
        "id": "QNyeziRRxghY"
      }
    },
    {
      "cell_type": "markdown",
      "source": [
        "Solução:\n",
        "\n",
        "Como os dados de pesos de mulheres são normalmente distribuídos, podemos aplicar a distribuição normal-padrão para cálculo de probabilidades."
      ],
      "metadata": {
        "id": "Fbb3nMcxx_Wo"
      }
    },
    {
      "cell_type": "code",
      "source": [
        "#média populacional\n",
        "mi_pop_mulheres = 165\n",
        "#desvio-padrão populacional\n",
        "sigma_pop_mulheres = 45.6\n",
        "#cálculo de z correspondente aos limites superiores e inferiores de pesos\n",
        "x_inf = 140\n",
        "x_sup = 211\n",
        "\n",
        "z_inf = (x_inf - mi_pop_mulheres)/sigma_pop_mulheres\n",
        "z_sup = (x_sup - mi_pop_mulheres)/sigma_pop_mulheres\n",
        "\n",
        "#cálculo da probabilidade a partir da área sob a curva de densidade da distribuição normal-padrão\n",
        "probabilidade = norm.cdf(z_sup) - norm.cdf(z_inf)\n",
        "print('Probabilidade de estar entre 140 e 211 libras: {}'.format(probabilidade))"
      ],
      "metadata": {
        "colab": {
          "base_uri": "https://localhost:8080/"
        },
        "id": "g8QPqIxrxwpT",
        "outputId": "dc421398-1156-43a0-d7ec-b1ee52b3c332"
      },
      "execution_count": 71,
      "outputs": [
        {
          "output_type": "stream",
          "name": "stdout",
          "text": [
            "Probabilidade de estar entre 140 e 211 libras: 0.5516963542405862\n"
          ]
        }
      ]
    },
    {
      "cell_type": "markdown",
      "source": [
        "**Item 2.** Se 36 mulheres diferentes são selecionadas aleatoriamente, ache a probabilidade de o peso médio dessas mulheres\n",
        "estar entre 140 e 211 libras."
      ],
      "metadata": {
        "id": "_NvcBHJBxgZy"
      }
    },
    {
      "cell_type": "markdown",
      "source": [
        "Solução:\n",
        "\n",
        "Nesse caso devemos trabalhar com a distribuição amostral de médias amostrais. Como os pesos de mulhere são normalmente distribuídos, não precisamos da condição de amostras de tamanho n > 30 para aplicação do Teorema Limite Central.\n",
        "\n",
        "Determinando os parâmetros da distribuição amostral de médias amostrais, temos:"
      ],
      "metadata": {
        "id": "1r5osUogzGaX"
      }
    },
    {
      "cell_type": "code",
      "source": [
        "#tamanho da amostra\n",
        "n = 36\n",
        "#Média amostral de interesse (limite de peso médio para a amostra)\n",
        "x_barra_inf = 140\n",
        "x_barra_sup = 211\n",
        "#Parâmetros da distribuição amostral de médias amostrais\n",
        "media_populacional = 165\n",
        "media_amostral = media_populacional\n",
        "std_populacional = 45.6\n",
        "std_amostral = std_populacional/np.sqrt(n)\n",
        "z_inf = (x_barra_inf - media_amostral)/std_amostral\n",
        "z_sup = (x_barra_sup - media_amostral)/std_amostral\n",
        "probabilidade = norm.cdf(z_sup) - norm.cdf(z_inf)\n",
        "print('Probabilidade da média amostral estar entre 140 e 211 libras: {}'.format(probabilidade))"
      ],
      "metadata": {
        "colab": {
          "base_uri": "https://localhost:8080/"
        },
        "id": "qjaLSPJxxxat",
        "outputId": "254aaab6-1157-4dbe-b432-7d553491a5f0"
      },
      "execution_count": 72,
      "outputs": [
        {
          "output_type": "stream",
          "name": "stdout",
          "text": [
            "Probabilidade da média amostral estar entre 140 e 211 libras: 0.9994981245762535\n"
          ]
        }
      ]
    },
    {
      "cell_type": "markdown",
      "source": [
        "**Item 3.** Ao se redesenharem os assentos de ejeção dos jatos de combate para melhor acomodar as mulheres, qual probabilidade\n",
        "é mais relevante: o resultado da parte (a) ou o resultado da parte (b)? Por quê?\n"
      ],
      "metadata": {
        "id": "0bd6BPmZxgSR"
      }
    },
    {
      "cell_type": "markdown",
      "source": [
        "Solução:\n",
        "\n",
        "É mais relevante usar o resultado do Item 1, uma vez que os assentos serão ocupados por 1 mulher."
      ],
      "metadata": {
        "id": "-60pdtC40Led"
      }
    },
    {
      "cell_type": "markdown",
      "source": [
        "#Problema 4 - Altura de Portas"
      ],
      "metadata": {
        "id": "1RVaq9o-154Z"
      }
    },
    {
      "cell_type": "markdown",
      "source": [
        "O avião de carreira Boeing 757-200 ER leva 200 passageiros e tem portas com altura de 72\n",
        "polegadas. As alturas dos homens são normalmente distribuídas, com média de 69,5 polegadas e desvio-padrão de 2,4\n",
        "polegadas (com base no Conjunto de Dados 1 do Apêndice B)."
      ],
      "metadata": {
        "id": "UKtxtH_c1_qS"
      }
    },
    {
      "cell_type": "markdown",
      "source": [
        "**Item 1.** Se um passageiro homem é selecionado aleatoriamente, ache a probabilidade de que ele passe por essa porta sem se\n",
        "curvar\n"
      ],
      "metadata": {
        "id": "DIgBgmuc2A4J"
      }
    },
    {
      "cell_type": "markdown",
      "source": [
        "Solução:\n",
        "\n",
        "Como as alturas de homens são normalmente distribuídas, podemos fazer uso da distribuição normal-padrão para cálculo de probabilidades."
      ],
      "metadata": {
        "id": "l29cRyJZ2c8c"
      }
    },
    {
      "cell_type": "code",
      "source": [
        "#Parâmetros populacionais\n",
        "mi_pop = 69.5\n",
        "std_pop = 2.4\n",
        "#calculando o escore z correspondente a x = 72 polegadas, temos:\n",
        "x = 72\n",
        "escore_z = (x - mi_pop)/std_pop\n",
        "#calculando a probabilidade de um passageiro tenha altura menor que 72 polegadas, temos:\n",
        "probabilidade = norm.cdf(escore_z)\n",
        "print('Probabilidade de que um passageiro homem passe pela porta sem se curvar: {}'.format(probabilidade))"
      ],
      "metadata": {
        "colab": {
          "base_uri": "https://localhost:8080/"
        },
        "id": "NhQUlw-P2Psv",
        "outputId": "6459c7a4-bdd3-4cb6-d7f3-a400c9505e9c"
      },
      "execution_count": 74,
      "outputs": [
        {
          "output_type": "stream",
          "name": "stdout",
          "text": [
            "Probabilidade de que um passageiro homem passe pela porta sem se curvar: 0.851216875818248\n"
          ]
        }
      ]
    },
    {
      "cell_type": "markdown",
      "source": [
        "**Item 2.** Se metade dos 200 passageiros são homens, ache a probabilidade de que a altura média dos 100 homens seja inferior a\n",
        "72 polegadas."
      ],
      "metadata": {
        "id": "aFPlUpdZ2C25"
      }
    },
    {
      "cell_type": "markdown",
      "source": [
        "Solução:\n",
        "\n",
        "Devemos utilizar a distribuição amostral de médias amostrais para calcular a probabilidade de médias amostrais. Como as alturas de homens são normalmente distribuídas, o requisito de tamanho de amostra n > 30 não é necessário para aplicação do Teorema Limite Central."
      ],
      "metadata": {
        "id": "QLdkO7yf3Scs"
      }
    },
    {
      "cell_type": "code",
      "source": [
        "#Parâmetros da distribuição normal-padrão:\n",
        "mi_populacional = 69.5\n",
        "std_populacional = 2.4\n",
        "mi_amostral = mi_populacional\n",
        "n = 100\n",
        "std_amostral = std_populacional/np.sqrt(n)"
      ],
      "metadata": {
        "id": "q0__Gegb2QgL"
      },
      "execution_count": 76,
      "outputs": []
    },
    {
      "cell_type": "code",
      "source": [
        "#Calculando a probabilidade, temos:\n",
        "x_barra = 72\n",
        "escore_z = (x_barra - mi_amostral)/std_amostral\n",
        "probabilidade = norm.cdf(escore_z)\n",
        "print('Probabilidade de uma amostra de 100 homens possuir média amostral menor que 72 polegadas: {}'.format(probabilidade))"
      ],
      "metadata": {
        "colab": {
          "base_uri": "https://localhost:8080/"
        },
        "id": "4ZqGtdpQ2QjN",
        "outputId": "9464eab0-5fd8-4f1e-f4b9-684bc17dbb59"
      },
      "execution_count": 77,
      "outputs": [
        {
          "output_type": "stream",
          "name": "stdout",
          "text": [
            "Probabilidade de uma amostra de 100 homens possuir média amostral menor que 72 polegadas: 1.0\n"
          ]
        }
      ]
    },
    {
      "cell_type": "markdown",
      "source": [
        "Conclusão:\n",
        "\n",
        "A probabilidade do item 1 é mais relevante, pois calcula a probabilidade de alturas individuais. Mostrando que 85% dos passageiros homens passarão pela porta sem se curvar. Foram utilizados dados de homens por constituir o pior cenário, haja visto que os homens são mais altos que as mulheres."
      ],
      "metadata": {
        "id": "Z3OZTQ2X4chS"
      }
    },
    {
      "cell_type": "markdown",
      "source": [
        "#Determinando Normalidade"
      ],
      "metadata": {
        "id": "Ege3CWaJCzKV"
      }
    },
    {
      "cell_type": "markdown",
      "source": [
        "Nos problemas 1-4 consulte o conjunto de dados indicado e determine se parecem ser\n",
        "provenientes de uma população com distribuição normal. Suponha que a exigência seja flexível no sentido de que a\n",
        "distribuição da população não precisa ser exatamente normal, mas deve ser uma distribuição basicamente em forma\n",
        "de sino."
      ],
      "metadata": {
        "id": "ovgkjlMxDOrE"
      }
    },
    {
      "cell_type": "markdown",
      "source": [
        "#**Problema 1 -** Atrasos em partidas de voos"
      ],
      "metadata": {
        "id": "-3JWJLZGC4uz"
      }
    },
    {
      "cell_type": "markdown",
      "source": [
        "Tempos de atraso (minutos) em partidas de voos, como listados no Conjunto de Dados\n",
        "15 no Apêndice B."
      ],
      "metadata": {
        "id": "84ungUsoDKJu"
      }
    },
    {
      "cell_type": "markdown",
      "source": [
        "Solução: \n",
        "\n",
        "Devemos seguir a seguinte metodologia para verificar se os dados da amostra são provenientes de uma população normalmente distribuída:\n",
        "\n",
        "1. Verificar a distribuição dos dados através de histogramas e avaliar se a forma da distribuição é aproximadamente normal ou não;\n",
        "2. Verificar se há mais de 1 outliers na amostra;\n",
        "3. Verificar se os dados originais e os valores de escores z correspondentes se ajustam a uma reta no gráfico de quantis normais."
      ],
      "metadata": {
        "id": "Y9JyX8H0DUm8"
      }
    },
    {
      "cell_type": "code",
      "source": [
        "#Abrindo os dados e fazendo os tratamentos necessários\n",
        "\n",
        "base_dados = pd.read_csv('FLIGHTS.csv')\n",
        "base_dados.head(10)\n",
        "\n"
      ],
      "metadata": {
        "colab": {
          "base_uri": "https://localhost:8080/",
          "height": 363
        },
        "id": "XdyOk0v9D4wW",
        "outputId": "7431a76a-73bb-4407-ec3a-4fc4729eebca"
      },
      "execution_count": 79,
      "outputs": [
        {
          "output_type": "execute_result",
          "data": {
            "text/plain": [
              "   VOO      ID  ATDEC  TXDEC  TXATER  ATATER\n",
              "0    1  N338AA     -2     30      12     -32\n",
              "1    1  N329AA     -1     19      13     -25\n",
              "2    1  N319AA     -2     12       8     -26\n",
              "3    1  N319AA      2     19      21      -6\n",
              "4    1  N329AA     -2     18      17       5\n",
              "5    1  N320AA      0     22      11     -15\n",
              "6    1  N321AA     -2     37      12     -17\n",
              "7    1  N338AA     -3     13      12     -36\n",
              "8    1  N327AA     -5     14      15     -29\n",
              "9    1  N319AA     -4     15      26     -18"
            ],
            "text/html": [
              "\n",
              "  <div id=\"df-03308fce-b43b-4654-96e2-0f23f1ed116d\">\n",
              "    <div class=\"colab-df-container\">\n",
              "      <div>\n",
              "<style scoped>\n",
              "    .dataframe tbody tr th:only-of-type {\n",
              "        vertical-align: middle;\n",
              "    }\n",
              "\n",
              "    .dataframe tbody tr th {\n",
              "        vertical-align: top;\n",
              "    }\n",
              "\n",
              "    .dataframe thead th {\n",
              "        text-align: right;\n",
              "    }\n",
              "</style>\n",
              "<table border=\"1\" class=\"dataframe\">\n",
              "  <thead>\n",
              "    <tr style=\"text-align: right;\">\n",
              "      <th></th>\n",
              "      <th>VOO</th>\n",
              "      <th>ID</th>\n",
              "      <th>ATDEC</th>\n",
              "      <th>TXDEC</th>\n",
              "      <th>TXATER</th>\n",
              "      <th>ATATER</th>\n",
              "    </tr>\n",
              "  </thead>\n",
              "  <tbody>\n",
              "    <tr>\n",
              "      <th>0</th>\n",
              "      <td>1</td>\n",
              "      <td>N338AA</td>\n",
              "      <td>-2</td>\n",
              "      <td>30</td>\n",
              "      <td>12</td>\n",
              "      <td>-32</td>\n",
              "    </tr>\n",
              "    <tr>\n",
              "      <th>1</th>\n",
              "      <td>1</td>\n",
              "      <td>N329AA</td>\n",
              "      <td>-1</td>\n",
              "      <td>19</td>\n",
              "      <td>13</td>\n",
              "      <td>-25</td>\n",
              "    </tr>\n",
              "    <tr>\n",
              "      <th>2</th>\n",
              "      <td>1</td>\n",
              "      <td>N319AA</td>\n",
              "      <td>-2</td>\n",
              "      <td>12</td>\n",
              "      <td>8</td>\n",
              "      <td>-26</td>\n",
              "    </tr>\n",
              "    <tr>\n",
              "      <th>3</th>\n",
              "      <td>1</td>\n",
              "      <td>N319AA</td>\n",
              "      <td>2</td>\n",
              "      <td>19</td>\n",
              "      <td>21</td>\n",
              "      <td>-6</td>\n",
              "    </tr>\n",
              "    <tr>\n",
              "      <th>4</th>\n",
              "      <td>1</td>\n",
              "      <td>N329AA</td>\n",
              "      <td>-2</td>\n",
              "      <td>18</td>\n",
              "      <td>17</td>\n",
              "      <td>5</td>\n",
              "    </tr>\n",
              "    <tr>\n",
              "      <th>5</th>\n",
              "      <td>1</td>\n",
              "      <td>N320AA</td>\n",
              "      <td>0</td>\n",
              "      <td>22</td>\n",
              "      <td>11</td>\n",
              "      <td>-15</td>\n",
              "    </tr>\n",
              "    <tr>\n",
              "      <th>6</th>\n",
              "      <td>1</td>\n",
              "      <td>N321AA</td>\n",
              "      <td>-2</td>\n",
              "      <td>37</td>\n",
              "      <td>12</td>\n",
              "      <td>-17</td>\n",
              "    </tr>\n",
              "    <tr>\n",
              "      <th>7</th>\n",
              "      <td>1</td>\n",
              "      <td>N338AA</td>\n",
              "      <td>-3</td>\n",
              "      <td>13</td>\n",
              "      <td>12</td>\n",
              "      <td>-36</td>\n",
              "    </tr>\n",
              "    <tr>\n",
              "      <th>8</th>\n",
              "      <td>1</td>\n",
              "      <td>N327AA</td>\n",
              "      <td>-5</td>\n",
              "      <td>14</td>\n",
              "      <td>15</td>\n",
              "      <td>-29</td>\n",
              "    </tr>\n",
              "    <tr>\n",
              "      <th>9</th>\n",
              "      <td>1</td>\n",
              "      <td>N319AA</td>\n",
              "      <td>-4</td>\n",
              "      <td>15</td>\n",
              "      <td>26</td>\n",
              "      <td>-18</td>\n",
              "    </tr>\n",
              "  </tbody>\n",
              "</table>\n",
              "</div>\n",
              "      <button class=\"colab-df-convert\" onclick=\"convertToInteractive('df-03308fce-b43b-4654-96e2-0f23f1ed116d')\"\n",
              "              title=\"Convert this dataframe to an interactive table.\"\n",
              "              style=\"display:none;\">\n",
              "        \n",
              "  <svg xmlns=\"http://www.w3.org/2000/svg\" height=\"24px\"viewBox=\"0 0 24 24\"\n",
              "       width=\"24px\">\n",
              "    <path d=\"M0 0h24v24H0V0z\" fill=\"none\"/>\n",
              "    <path d=\"M18.56 5.44l.94 2.06.94-2.06 2.06-.94-2.06-.94-.94-2.06-.94 2.06-2.06.94zm-11 1L8.5 8.5l.94-2.06 2.06-.94-2.06-.94L8.5 2.5l-.94 2.06-2.06.94zm10 10l.94 2.06.94-2.06 2.06-.94-2.06-.94-.94-2.06-.94 2.06-2.06.94z\"/><path d=\"M17.41 7.96l-1.37-1.37c-.4-.4-.92-.59-1.43-.59-.52 0-1.04.2-1.43.59L10.3 9.45l-7.72 7.72c-.78.78-.78 2.05 0 2.83L4 21.41c.39.39.9.59 1.41.59.51 0 1.02-.2 1.41-.59l7.78-7.78 2.81-2.81c.8-.78.8-2.07 0-2.86zM5.41 20L4 18.59l7.72-7.72 1.47 1.35L5.41 20z\"/>\n",
              "  </svg>\n",
              "      </button>\n",
              "      \n",
              "  <style>\n",
              "    .colab-df-container {\n",
              "      display:flex;\n",
              "      flex-wrap:wrap;\n",
              "      gap: 12px;\n",
              "    }\n",
              "\n",
              "    .colab-df-convert {\n",
              "      background-color: #E8F0FE;\n",
              "      border: none;\n",
              "      border-radius: 50%;\n",
              "      cursor: pointer;\n",
              "      display: none;\n",
              "      fill: #1967D2;\n",
              "      height: 32px;\n",
              "      padding: 0 0 0 0;\n",
              "      width: 32px;\n",
              "    }\n",
              "\n",
              "    .colab-df-convert:hover {\n",
              "      background-color: #E2EBFA;\n",
              "      box-shadow: 0px 1px 2px rgba(60, 64, 67, 0.3), 0px 1px 3px 1px rgba(60, 64, 67, 0.15);\n",
              "      fill: #174EA6;\n",
              "    }\n",
              "\n",
              "    [theme=dark] .colab-df-convert {\n",
              "      background-color: #3B4455;\n",
              "      fill: #D2E3FC;\n",
              "    }\n",
              "\n",
              "    [theme=dark] .colab-df-convert:hover {\n",
              "      background-color: #434B5C;\n",
              "      box-shadow: 0px 1px 3px 1px rgba(0, 0, 0, 0.15);\n",
              "      filter: drop-shadow(0px 1px 2px rgba(0, 0, 0, 0.3));\n",
              "      fill: #FFFFFF;\n",
              "    }\n",
              "  </style>\n",
              "\n",
              "      <script>\n",
              "        const buttonEl =\n",
              "          document.querySelector('#df-03308fce-b43b-4654-96e2-0f23f1ed116d button.colab-df-convert');\n",
              "        buttonEl.style.display =\n",
              "          google.colab.kernel.accessAllowed ? 'block' : 'none';\n",
              "\n",
              "        async function convertToInteractive(key) {\n",
              "          const element = document.querySelector('#df-03308fce-b43b-4654-96e2-0f23f1ed116d');\n",
              "          const dataTable =\n",
              "            await google.colab.kernel.invokeFunction('convertToInteractive',\n",
              "                                                     [key], {});\n",
              "          if (!dataTable) return;\n",
              "\n",
              "          const docLinkHtml = 'Like what you see? Visit the ' +\n",
              "            '<a target=\"_blank\" href=https://colab.research.google.com/notebooks/data_table.ipynb>data table notebook</a>'\n",
              "            + ' to learn more about interactive tables.';\n",
              "          element.innerHTML = '';\n",
              "          dataTable['output_type'] = 'display_data';\n",
              "          await google.colab.output.renderOutput(dataTable, element);\n",
              "          const docLink = document.createElement('div');\n",
              "          docLink.innerHTML = docLinkHtml;\n",
              "          element.appendChild(docLink);\n",
              "        }\n",
              "      </script>\n",
              "    </div>\n",
              "  </div>\n",
              "  "
            ]
          },
          "metadata": {},
          "execution_count": 79
        }
      ]
    },
    {
      "cell_type": "code",
      "source": [
        "#Crianddo novo dataframe contendo apenas a coluna referente ao tempo de atraso na partida de voos\n",
        "dados_atraso = pd.DataFrame({'Atraso decolagem':base_dados['ATDEC']})\n",
        "dados_atraso.head(10)"
      ],
      "metadata": {
        "colab": {
          "base_uri": "https://localhost:8080/",
          "height": 363
        },
        "id": "jRCUC7ZVKLmg",
        "outputId": "d061bfd6-9ab2-478a-8b59-c9362be8096b"
      },
      "execution_count": 80,
      "outputs": [
        {
          "output_type": "execute_result",
          "data": {
            "text/plain": [
              "   Atraso decolagem\n",
              "0                -2\n",
              "1                -1\n",
              "2                -2\n",
              "3                 2\n",
              "4                -2\n",
              "5                 0\n",
              "6                -2\n",
              "7                -3\n",
              "8                -5\n",
              "9                -4"
            ],
            "text/html": [
              "\n",
              "  <div id=\"df-32515dad-4e8a-4b5b-88ca-dfdd81e720fc\">\n",
              "    <div class=\"colab-df-container\">\n",
              "      <div>\n",
              "<style scoped>\n",
              "    .dataframe tbody tr th:only-of-type {\n",
              "        vertical-align: middle;\n",
              "    }\n",
              "\n",
              "    .dataframe tbody tr th {\n",
              "        vertical-align: top;\n",
              "    }\n",
              "\n",
              "    .dataframe thead th {\n",
              "        text-align: right;\n",
              "    }\n",
              "</style>\n",
              "<table border=\"1\" class=\"dataframe\">\n",
              "  <thead>\n",
              "    <tr style=\"text-align: right;\">\n",
              "      <th></th>\n",
              "      <th>Atraso decolagem</th>\n",
              "    </tr>\n",
              "  </thead>\n",
              "  <tbody>\n",
              "    <tr>\n",
              "      <th>0</th>\n",
              "      <td>-2</td>\n",
              "    </tr>\n",
              "    <tr>\n",
              "      <th>1</th>\n",
              "      <td>-1</td>\n",
              "    </tr>\n",
              "    <tr>\n",
              "      <th>2</th>\n",
              "      <td>-2</td>\n",
              "    </tr>\n",
              "    <tr>\n",
              "      <th>3</th>\n",
              "      <td>2</td>\n",
              "    </tr>\n",
              "    <tr>\n",
              "      <th>4</th>\n",
              "      <td>-2</td>\n",
              "    </tr>\n",
              "    <tr>\n",
              "      <th>5</th>\n",
              "      <td>0</td>\n",
              "    </tr>\n",
              "    <tr>\n",
              "      <th>6</th>\n",
              "      <td>-2</td>\n",
              "    </tr>\n",
              "    <tr>\n",
              "      <th>7</th>\n",
              "      <td>-3</td>\n",
              "    </tr>\n",
              "    <tr>\n",
              "      <th>8</th>\n",
              "      <td>-5</td>\n",
              "    </tr>\n",
              "    <tr>\n",
              "      <th>9</th>\n",
              "      <td>-4</td>\n",
              "    </tr>\n",
              "  </tbody>\n",
              "</table>\n",
              "</div>\n",
              "      <button class=\"colab-df-convert\" onclick=\"convertToInteractive('df-32515dad-4e8a-4b5b-88ca-dfdd81e720fc')\"\n",
              "              title=\"Convert this dataframe to an interactive table.\"\n",
              "              style=\"display:none;\">\n",
              "        \n",
              "  <svg xmlns=\"http://www.w3.org/2000/svg\" height=\"24px\"viewBox=\"0 0 24 24\"\n",
              "       width=\"24px\">\n",
              "    <path d=\"M0 0h24v24H0V0z\" fill=\"none\"/>\n",
              "    <path d=\"M18.56 5.44l.94 2.06.94-2.06 2.06-.94-2.06-.94-.94-2.06-.94 2.06-2.06.94zm-11 1L8.5 8.5l.94-2.06 2.06-.94-2.06-.94L8.5 2.5l-.94 2.06-2.06.94zm10 10l.94 2.06.94-2.06 2.06-.94-2.06-.94-.94-2.06-.94 2.06-2.06.94z\"/><path d=\"M17.41 7.96l-1.37-1.37c-.4-.4-.92-.59-1.43-.59-.52 0-1.04.2-1.43.59L10.3 9.45l-7.72 7.72c-.78.78-.78 2.05 0 2.83L4 21.41c.39.39.9.59 1.41.59.51 0 1.02-.2 1.41-.59l7.78-7.78 2.81-2.81c.8-.78.8-2.07 0-2.86zM5.41 20L4 18.59l7.72-7.72 1.47 1.35L5.41 20z\"/>\n",
              "  </svg>\n",
              "      </button>\n",
              "      \n",
              "  <style>\n",
              "    .colab-df-container {\n",
              "      display:flex;\n",
              "      flex-wrap:wrap;\n",
              "      gap: 12px;\n",
              "    }\n",
              "\n",
              "    .colab-df-convert {\n",
              "      background-color: #E8F0FE;\n",
              "      border: none;\n",
              "      border-radius: 50%;\n",
              "      cursor: pointer;\n",
              "      display: none;\n",
              "      fill: #1967D2;\n",
              "      height: 32px;\n",
              "      padding: 0 0 0 0;\n",
              "      width: 32px;\n",
              "    }\n",
              "\n",
              "    .colab-df-convert:hover {\n",
              "      background-color: #E2EBFA;\n",
              "      box-shadow: 0px 1px 2px rgba(60, 64, 67, 0.3), 0px 1px 3px 1px rgba(60, 64, 67, 0.15);\n",
              "      fill: #174EA6;\n",
              "    }\n",
              "\n",
              "    [theme=dark] .colab-df-convert {\n",
              "      background-color: #3B4455;\n",
              "      fill: #D2E3FC;\n",
              "    }\n",
              "\n",
              "    [theme=dark] .colab-df-convert:hover {\n",
              "      background-color: #434B5C;\n",
              "      box-shadow: 0px 1px 3px 1px rgba(0, 0, 0, 0.15);\n",
              "      filter: drop-shadow(0px 1px 2px rgba(0, 0, 0, 0.3));\n",
              "      fill: #FFFFFF;\n",
              "    }\n",
              "  </style>\n",
              "\n",
              "      <script>\n",
              "        const buttonEl =\n",
              "          document.querySelector('#df-32515dad-4e8a-4b5b-88ca-dfdd81e720fc button.colab-df-convert');\n",
              "        buttonEl.style.display =\n",
              "          google.colab.kernel.accessAllowed ? 'block' : 'none';\n",
              "\n",
              "        async function convertToInteractive(key) {\n",
              "          const element = document.querySelector('#df-32515dad-4e8a-4b5b-88ca-dfdd81e720fc');\n",
              "          const dataTable =\n",
              "            await google.colab.kernel.invokeFunction('convertToInteractive',\n",
              "                                                     [key], {});\n",
              "          if (!dataTable) return;\n",
              "\n",
              "          const docLinkHtml = 'Like what you see? Visit the ' +\n",
              "            '<a target=\"_blank\" href=https://colab.research.google.com/notebooks/data_table.ipynb>data table notebook</a>'\n",
              "            + ' to learn more about interactive tables.';\n",
              "          element.innerHTML = '';\n",
              "          dataTable['output_type'] = 'display_data';\n",
              "          await google.colab.output.renderOutput(dataTable, element);\n",
              "          const docLink = document.createElement('div');\n",
              "          docLink.innerHTML = docLinkHtml;\n",
              "          element.appendChild(docLink);\n",
              "        }\n",
              "      </script>\n",
              "    </div>\n",
              "  </div>\n",
              "  "
            ]
          },
          "metadata": {},
          "execution_count": 80
        }
      ]
    },
    {
      "cell_type": "markdown",
      "source": [
        "**Inspeção visual através de histograma**"
      ],
      "metadata": {
        "id": "dLrd7M3UKqJp"
      }
    },
    {
      "cell_type": "code",
      "source": [
        "#Construindo um histograma para observar graficamente a distribuição dos dados, temos:\n",
        "\n",
        "ax = sns.histplot(data = dados_atraso['Atraso decolagem'], stat = 'proportion',kde = True)\n",
        "ax.figure.set_size_inches(12,6)\n",
        "ax.set_title('Histograma de frequências relativas -  Atrasos na decolagem', fontsize = 18)\n",
        "ax.set_xlabel('minutos', fontsize = 14)\n",
        "ax.set_ylabel('Frequência relativa', fontsize = 14)\n",
        "#ax.set_yticks([i for i in range(0,20,1)])\n",
        "ax"
      ],
      "metadata": {
        "colab": {
          "base_uri": "https://localhost:8080/",
          "height": 431
        },
        "id": "olcF4XXyKo0S",
        "outputId": "24d0e388-d99e-463b-b8b7-0ecc2e49127f"
      },
      "execution_count": 81,
      "outputs": [
        {
          "output_type": "execute_result",
          "data": {
            "text/plain": [
              "<matplotlib.axes._subplots.AxesSubplot at 0x7f1b28897a50>"
            ]
          },
          "metadata": {},
          "execution_count": 81
        },
        {
          "output_type": "display_data",
          "data": {
            "text/plain": [
              "<Figure size 864x432 with 1 Axes>"
            ],
            "image/png": "[encoded data removed]"
          },
          "metadata": {
            "needs_background": "light"
          }
        }
      ]
    },
    {
      "cell_type": "markdown",
      "source": [
        "**Conclusão:**\n",
        "\n",
        "A partir do histograma acima, podemos concluir que a amostra não é proveniente de uma população normalmente distribuída, pois a forma do gráfico não é aproximadamente a de um sino. Além disso, e possível constatar a presença de outliers."
      ],
      "metadata": {
        "id": "4XlwVKm4LFud"
      }
    },
    {
      "cell_type": "markdown",
      "source": [
        "#Problema 2 - Alturas de presidentes americanos"
      ],
      "metadata": {
        "id": "Mui-ZiZ3Lbqr"
      }
    },
    {
      "cell_type": "markdown",
      "source": [
        "As alturas (cm) de presidentes dos Estados Unidos, como listadas no Conjunto de Dados 12\n",
        "no Apêndice B.\n"
      ],
      "metadata": {
        "id": "Uv0TpVWQLgrI"
      }
    },
    {
      "cell_type": "code",
      "source": [
        "#Importando o conjunto de dados e fazendo o tratamento necessário, temos:\n",
        "base_dados = pd.read_csv('POTUS.csv')\n",
        "base_dados.head(10)"
      ],
      "metadata": {
        "colab": {
          "base_uri": "https://localhost:8080/",
          "height": 363
        },
        "id": "x1BWb0EhKo28",
        "outputId": "e24e335f-0a49-4888-acb8-8637c9fa46d9"
      },
      "execution_count": 82,
      "outputs": [
        {
          "output_type": "execute_result",
          "data": {
            "text/plain": [
              "     President  Age    Days  Years   Ht  HtOpp\n",
              "0   Washington   57  2864.0   10.0  188    NaN\n",
              "1     J. Adams   61  1460.0   29.0  170  189.0\n",
              "2    Jefferson   57  2921.0   26.0  189  170.0\n",
              "3      Madison   57  2921.0   28.0  163    NaN\n",
              "4       Monroe   58  2921.0   15.0  183    NaN\n",
              "5  J. Q. Adams   57  1460.0   23.0  171  191.0\n",
              "6      Jackson   61  2921.0   17.0  185  171.0\n",
              "7    Van Buren   54  1460.0   25.0  168  180.0\n",
              "8     Harrison   68    31.0    0.0  173  168.0\n",
              "9         Polk   49  1460.0    4.0  173  185.0"
            ],
            "text/html": [
              "\n",
              "  <div id=\"df-5cacb653-3d71-4998-bd3b-4e6bb59ad422\">\n",
              "    <div class=\"colab-df-container\">\n",
              "      <div>\n",
              "<style scoped>\n",
              "    .dataframe tbody tr th:only-of-type {\n",
              "        vertical-align: middle;\n",
              "    }\n",
              "\n",
              "    .dataframe tbody tr th {\n",
              "        vertical-align: top;\n",
              "    }\n",
              "\n",
              "    .dataframe thead th {\n",
              "        text-align: right;\n",
              "    }\n",
              "</style>\n",
              "<table border=\"1\" class=\"dataframe\">\n",
              "  <thead>\n",
              "    <tr style=\"text-align: right;\">\n",
              "      <th></th>\n",
              "      <th>President</th>\n",
              "      <th>Age</th>\n",
              "      <th>Days</th>\n",
              "      <th>Years</th>\n",
              "      <th>Ht</th>\n",
              "      <th>HtOpp</th>\n",
              "    </tr>\n",
              "  </thead>\n",
              "  <tbody>\n",
              "    <tr>\n",
              "      <th>0</th>\n",
              "      <td>Washington</td>\n",
              "      <td>57</td>\n",
              "      <td>2864.0</td>\n",
              "      <td>10.0</td>\n",
              "      <td>188</td>\n",
              "      <td>NaN</td>\n",
              "    </tr>\n",
              "    <tr>\n",
              "      <th>1</th>\n",
              "      <td>J. Adams</td>\n",
              "      <td>61</td>\n",
              "      <td>1460.0</td>\n",
              "      <td>29.0</td>\n",
              "      <td>170</td>\n",
              "      <td>189.0</td>\n",
              "    </tr>\n",
              "    <tr>\n",
              "      <th>2</th>\n",
              "      <td>Jefferson</td>\n",
              "      <td>57</td>\n",
              "      <td>2921.0</td>\n",
              "      <td>26.0</td>\n",
              "      <td>189</td>\n",
              "      <td>170.0</td>\n",
              "    </tr>\n",
              "    <tr>\n",
              "      <th>3</th>\n",
              "      <td>Madison</td>\n",
              "      <td>57</td>\n",
              "      <td>2921.0</td>\n",
              "      <td>28.0</td>\n",
              "      <td>163</td>\n",
              "      <td>NaN</td>\n",
              "    </tr>\n",
              "    <tr>\n",
              "      <th>4</th>\n",
              "      <td>Monroe</td>\n",
              "      <td>58</td>\n",
              "      <td>2921.0</td>\n",
              "      <td>15.0</td>\n",
              "      <td>183</td>\n",
              "      <td>NaN</td>\n",
              "    </tr>\n",
              "    <tr>\n",
              "      <th>5</th>\n",
              "      <td>J. Q. Adams</td>\n",
              "      <td>57</td>\n",
              "      <td>1460.0</td>\n",
              "      <td>23.0</td>\n",
              "      <td>171</td>\n",
              "      <td>191.0</td>\n",
              "    </tr>\n",
              "    <tr>\n",
              "      <th>6</th>\n",
              "      <td>Jackson</td>\n",
              "      <td>61</td>\n",
              "      <td>2921.0</td>\n",
              "      <td>17.0</td>\n",
              "      <td>185</td>\n",
              "      <td>171.0</td>\n",
              "    </tr>\n",
              "    <tr>\n",
              "      <th>7</th>\n",
              "      <td>Van Buren</td>\n",
              "      <td>54</td>\n",
              "      <td>1460.0</td>\n",
              "      <td>25.0</td>\n",
              "      <td>168</td>\n",
              "      <td>180.0</td>\n",
              "    </tr>\n",
              "    <tr>\n",
              "      <th>8</th>\n",
              "      <td>Harrison</td>\n",
              "      <td>68</td>\n",
              "      <td>31.0</td>\n",
              "      <td>0.0</td>\n",
              "      <td>173</td>\n",
              "      <td>168.0</td>\n",
              "    </tr>\n",
              "    <tr>\n",
              "      <th>9</th>\n",
              "      <td>Polk</td>\n",
              "      <td>49</td>\n",
              "      <td>1460.0</td>\n",
              "      <td>4.0</td>\n",
              "      <td>173</td>\n",
              "      <td>185.0</td>\n",
              "    </tr>\n",
              "  </tbody>\n",
              "</table>\n",
              "</div>\n",
              "      <button class=\"colab-df-convert\" onclick=\"convertToInteractive('df-5cacb653-3d71-4998-bd3b-4e6bb59ad422')\"\n",
              "              title=\"Convert this dataframe to an interactive table.\"\n",
              "              style=\"display:none;\">\n",
              "        \n",
              "  <svg xmlns=\"http://www.w3.org/2000/svg\" height=\"24px\"viewBox=\"0 0 24 24\"\n",
              "       width=\"24px\">\n",
              "    <path d=\"M0 0h24v24H0V0z\" fill=\"none\"/>\n",
              "    <path d=\"M18.56 5.44l.94 2.06.94-2.06 2.06-.94-2.06-.94-.94-2.06-.94 2.06-2.06.94zm-11 1L8.5 8.5l.94-2.06 2.06-.94-2.06-.94L8.5 2.5l-.94 2.06-2.06.94zm10 10l.94 2.06.94-2.06 2.06-.94-2.06-.94-.94-2.06-.94 2.06-2.06.94z\"/><path d=\"M17.41 7.96l-1.37-1.37c-.4-.4-.92-.59-1.43-.59-.52 0-1.04.2-1.43.59L10.3 9.45l-7.72 7.72c-.78.78-.78 2.05 0 2.83L4 21.41c.39.39.9.59 1.41.59.51 0 1.02-.2 1.41-.59l7.78-7.78 2.81-2.81c.8-.78.8-2.07 0-2.86zM5.41 20L4 18.59l7.72-7.72 1.47 1.35L5.41 20z\"/>\n",
              "  </svg>\n",
              "      </button>\n",
              "      \n",
              "  <style>\n",
              "    .colab-df-container {\n",
              "      display:flex;\n",
              "      flex-wrap:wrap;\n",
              "      gap: 12px;\n",
              "    }\n",
              "\n",
              "    .colab-df-convert {\n",
              "      background-color: #E8F0FE;\n",
              "      border: none;\n",
              "      border-radius: 50%;\n",
              "      cursor: pointer;\n",
              "      display: none;\n",
              "      fill: #1967D2;\n",
              "      height: 32px;\n",
              "      padding: 0 0 0 0;\n",
              "      width: 32px;\n",
              "    }\n",
              "\n",
              "    .colab-df-convert:hover {\n",
              "      background-color: #E2EBFA;\n",
              "      box-shadow: 0px 1px 2px rgba(60, 64, 67, 0.3), 0px 1px 3px 1px rgba(60, 64, 67, 0.15);\n",
              "      fill: #174EA6;\n",
              "    }\n",
              "\n",
              "    [theme=dark] .colab-df-convert {\n",
              "      background-color: #3B4455;\n",
              "      fill: #D2E3FC;\n",
              "    }\n",
              "\n",
              "    [theme=dark] .colab-df-convert:hover {\n",
              "      background-color: #434B5C;\n",
              "      box-shadow: 0px 1px 3px 1px rgba(0, 0, 0, 0.15);\n",
              "      filter: drop-shadow(0px 1px 2px rgba(0, 0, 0, 0.3));\n",
              "      fill: #FFFFFF;\n",
              "    }\n",
              "  </style>\n",
              "\n",
              "      <script>\n",
              "        const buttonEl =\n",
              "          document.querySelector('#df-5cacb653-3d71-4998-bd3b-4e6bb59ad422 button.colab-df-convert');\n",
              "        buttonEl.style.display =\n",
              "          google.colab.kernel.accessAllowed ? 'block' : 'none';\n",
              "\n",
              "        async function convertToInteractive(key) {\n",
              "          const element = document.querySelector('#df-5cacb653-3d71-4998-bd3b-4e6bb59ad422');\n",
              "          const dataTable =\n",
              "            await google.colab.kernel.invokeFunction('convertToInteractive',\n",
              "                                                     [key], {});\n",
              "          if (!dataTable) return;\n",
              "\n",
              "          const docLinkHtml = 'Like what you see? Visit the ' +\n",
              "            '<a target=\"_blank\" href=https://colab.research.google.com/notebooks/data_table.ipynb>data table notebook</a>'\n",
              "            + ' to learn more about interactive tables.';\n",
              "          element.innerHTML = '';\n",
              "          dataTable['output_type'] = 'display_data';\n",
              "          await google.colab.output.renderOutput(dataTable, element);\n",
              "          const docLink = document.createElement('div');\n",
              "          docLink.innerHTML = docLinkHtml;\n",
              "          element.appendChild(docLink);\n",
              "        }\n",
              "      </script>\n",
              "    </div>\n",
              "  </div>\n",
              "  "
            ]
          },
          "metadata": {},
          "execution_count": 82
        }
      ]
    },
    {
      "cell_type": "code",
      "source": [
        "#Criando novo dataframe apenas com os valores de altura, temos:\n",
        "dados_alturas = pd.DataFrame({'Alturas':base_dados['Ht']})\n",
        "dados_alturas.head(10)"
      ],
      "metadata": {
        "colab": {
          "base_uri": "https://localhost:8080/",
          "height": 363
        },
        "id": "Bnv0eo3ENAs-",
        "outputId": "85f426e5-65be-40b2-fd93-7a56c3f73413"
      },
      "execution_count": 83,
      "outputs": [
        {
          "output_type": "execute_result",
          "data": {
            "text/plain": [
              "   Alturas\n",
              "0      188\n",
              "1      170\n",
              "2      189\n",
              "3      163\n",
              "4      183\n",
              "5      171\n",
              "6      185\n",
              "7      168\n",
              "8      173\n",
              "9      173"
            ],
            "text/html": [
              "\n",
              "  <div id=\"df-e2677a6b-ce67-4e9c-80cd-56a5267a3e7a\">\n",
              "    <div class=\"colab-df-container\">\n",
              "      <div>\n",
              "<style scoped>\n",
              "    .dataframe tbody tr th:only-of-type {\n",
              "        vertical-align: middle;\n",
              "    }\n",
              "\n",
              "    .dataframe tbody tr th {\n",
              "        vertical-align: top;\n",
              "    }\n",
              "\n",
              "    .dataframe thead th {\n",
              "        text-align: right;\n",
              "    }\n",
              "</style>\n",
              "<table border=\"1\" class=\"dataframe\">\n",
              "  <thead>\n",
              "    <tr style=\"text-align: right;\">\n",
              "      <th></th>\n",
              "      <th>Alturas</th>\n",
              "    </tr>\n",
              "  </thead>\n",
              "  <tbody>\n",
              "    <tr>\n",
              "      <th>0</th>\n",
              "      <td>188</td>\n",
              "    </tr>\n",
              "    <tr>\n",
              "      <th>1</th>\n",
              "      <td>170</td>\n",
              "    </tr>\n",
              "    <tr>\n",
              "      <th>2</th>\n",
              "      <td>189</td>\n",
              "    </tr>\n",
              "    <tr>\n",
              "      <th>3</th>\n",
              "      <td>163</td>\n",
              "    </tr>\n",
              "    <tr>\n",
              "      <th>4</th>\n",
              "      <td>183</td>\n",
              "    </tr>\n",
              "    <tr>\n",
              "      <th>5</th>\n",
              "      <td>171</td>\n",
              "    </tr>\n",
              "    <tr>\n",
              "      <th>6</th>\n",
              "      <td>185</td>\n",
              "    </tr>\n",
              "    <tr>\n",
              "      <th>7</th>\n",
              "      <td>168</td>\n",
              "    </tr>\n",
              "    <tr>\n",
              "      <th>8</th>\n",
              "      <td>173</td>\n",
              "    </tr>\n",
              "    <tr>\n",
              "      <th>9</th>\n",
              "      <td>173</td>\n",
              "    </tr>\n",
              "  </tbody>\n",
              "</table>\n",
              "</div>\n",
              "      <button class=\"colab-df-convert\" onclick=\"convertToInteractive('df-e2677a6b-ce67-4e9c-80cd-56a5267a3e7a')\"\n",
              "              title=\"Convert this dataframe to an interactive table.\"\n",
              "              style=\"display:none;\">\n",
              "        \n",
              "  <svg xmlns=\"http://www.w3.org/2000/svg\" height=\"24px\"viewBox=\"0 0 24 24\"\n",
              "       width=\"24px\">\n",
              "    <path d=\"M0 0h24v24H0V0z\" fill=\"none\"/>\n",
              "    <path d=\"M18.56 5.44l.94 2.06.94-2.06 2.06-.94-2.06-.94-.94-2.06-.94 2.06-2.06.94zm-11 1L8.5 8.5l.94-2.06 2.06-.94-2.06-.94L8.5 2.5l-.94 2.06-2.06.94zm10 10l.94 2.06.94-2.06 2.06-.94-2.06-.94-.94-2.06-.94 2.06-2.06.94z\"/><path d=\"M17.41 7.96l-1.37-1.37c-.4-.4-.92-.59-1.43-.59-.52 0-1.04.2-1.43.59L10.3 9.45l-7.72 7.72c-.78.78-.78 2.05 0 2.83L4 21.41c.39.39.9.59 1.41.59.51 0 1.02-.2 1.41-.59l7.78-7.78 2.81-2.81c.8-.78.8-2.07 0-2.86zM5.41 20L4 18.59l7.72-7.72 1.47 1.35L5.41 20z\"/>\n",
              "  </svg>\n",
              "      </button>\n",
              "      \n",
              "  <style>\n",
              "    .colab-df-container {\n",
              "      display:flex;\n",
              "      flex-wrap:wrap;\n",
              "      gap: 12px;\n",
              "    }\n",
              "\n",
              "    .colab-df-convert {\n",
              "      background-color: #E8F0FE;\n",
              "      border: none;\n",
              "      border-radius: 50%;\n",
              "      cursor: pointer;\n",
              "      display: none;\n",
              "      fill: #1967D2;\n",
              "      height: 32px;\n",
              "      padding: 0 0 0 0;\n",
              "      width: 32px;\n",
              "    }\n",
              "\n",
              "    .colab-df-convert:hover {\n",
              "      background-color: #E2EBFA;\n",
              "      box-shadow: 0px 1px 2px rgba(60, 64, 67, 0.3), 0px 1px 3px 1px rgba(60, 64, 67, 0.15);\n",
              "      fill: #174EA6;\n",
              "    }\n",
              "\n",
              "    [theme=dark] .colab-df-convert {\n",
              "      background-color: #3B4455;\n",
              "      fill: #D2E3FC;\n",
              "    }\n",
              "\n",
              "    [theme=dark] .colab-df-convert:hover {\n",
              "      background-color: #434B5C;\n",
              "      box-shadow: 0px 1px 3px 1px rgba(0, 0, 0, 0.15);\n",
              "      filter: drop-shadow(0px 1px 2px rgba(0, 0, 0, 0.3));\n",
              "      fill: #FFFFFF;\n",
              "    }\n",
              "  </style>\n",
              "\n",
              "      <script>\n",
              "        const buttonEl =\n",
              "          document.querySelector('#df-e2677a6b-ce67-4e9c-80cd-56a5267a3e7a button.colab-df-convert');\n",
              "        buttonEl.style.display =\n",
              "          google.colab.kernel.accessAllowed ? 'block' : 'none';\n",
              "\n",
              "        async function convertToInteractive(key) {\n",
              "          const element = document.querySelector('#df-e2677a6b-ce67-4e9c-80cd-56a5267a3e7a');\n",
              "          const dataTable =\n",
              "            await google.colab.kernel.invokeFunction('convertToInteractive',\n",
              "                                                     [key], {});\n",
              "          if (!dataTable) return;\n",
              "\n",
              "          const docLinkHtml = 'Like what you see? Visit the ' +\n",
              "            '<a target=\"_blank\" href=https://colab.research.google.com/notebooks/data_table.ipynb>data table notebook</a>'\n",
              "            + ' to learn more about interactive tables.';\n",
              "          element.innerHTML = '';\n",
              "          dataTable['output_type'] = 'display_data';\n",
              "          await google.colab.output.renderOutput(dataTable, element);\n",
              "          const docLink = document.createElement('div');\n",
              "          docLink.innerHTML = docLinkHtml;\n",
              "          element.appendChild(docLink);\n",
              "        }\n",
              "      </script>\n",
              "    </div>\n",
              "  </div>\n",
              "  "
            ]
          },
          "metadata": {},
          "execution_count": 83
        }
      ]
    },
    {
      "cell_type": "code",
      "source": [
        "dados_alturas.info()"
      ],
      "metadata": {
        "colab": {
          "base_uri": "https://localhost:8080/"
        },
        "id": "Rl07D-68PKBx",
        "outputId": "f746f058-1e2f-4bcb-ab88-d69171ca55ea"
      },
      "execution_count": 92,
      "outputs": [
        {
          "output_type": "stream",
          "name": "stdout",
          "text": [
            "<class 'pandas.core.frame.DataFrame'>\n",
            "RangeIndex: 38 entries, 0 to 37\n",
            "Data columns (total 2 columns):\n",
            " #   Column     Non-Null Count  Dtype  \n",
            "---  ------     --------------  -----  \n",
            " 0   Alturas    38 non-null     int64  \n",
            " 1   Escores Z  38 non-null     float64\n",
            "dtypes: float64(1), int64(1)\n",
            "memory usage: 736.0 bytes\n"
          ]
        }
      ]
    },
    {
      "cell_type": "markdown",
      "source": [
        "**Inspeção visual através de histograma**"
      ],
      "metadata": {
        "id": "HVn1kf6gNPYZ"
      }
    },
    {
      "cell_type": "code",
      "source": [
        "#Construindo um histograma para observar graficamente a distribuição dos dados, temos:\n",
        "\n",
        "ax = sns.histplot(data = dados_alturas['Alturas'], stat = 'proportion',kde = True)\n",
        "ax.figure.set_size_inches(12,6)\n",
        "ax.set_title('Histograma de frequências relativas -  Alturas de presidentes', fontsize = 18)\n",
        "ax.set_xlabel('altura (cm)', fontsize = 14)\n",
        "ax.set_ylabel('Frequência relativa', fontsize = 14)\n",
        "#ax.set_yticks([i for i in range(0,20,1)])\n",
        "ax"
      ],
      "metadata": {
        "colab": {
          "base_uri": "https://localhost:8080/",
          "height": 431
        },
        "id": "1y7yEj-lKo5y",
        "outputId": "9e4806cb-43df-4635-b8d0-f6f1fc57a185"
      },
      "execution_count": 84,
      "outputs": [
        {
          "output_type": "execute_result",
          "data": {
            "text/plain": [
              "<matplotlib.axes._subplots.AxesSubplot at 0x7f1b28187f50>"
            ]
          },
          "metadata": {},
          "execution_count": 84
        },
        {
          "output_type": "display_data",
          "data": {
            "text/plain": [
              "<Figure size 864x432 with 1 Axes>"
            ],
            "image/png": "[encoded data removed]"
          },
          "metadata": {
            "needs_background": "light"
          }
        }
      ]
    },
    {
      "cell_type": "code",
      "source": [
        "#Construindo uma curva de densidade KDE para observação da distribuição dos dados:\n",
        "ax = sns.displot(data = dados_alturas['Alturas'],kind = 'kde')\n",
        "ax.figure.set_size_inches(12,6)\n",
        "plt.title('Curva de densidade de distribuição de alturas de presidentes', fontsize = 18)\n",
        "plt.xlabel('Alturas (cm)', fontsize = 14)\n",
        "ax"
      ],
      "metadata": {
        "colab": {
          "base_uri": "https://localhost:8080/",
          "height": 473
        },
        "id": "Z_--69h3Ko8R",
        "outputId": "ba2597d6-bcc2-4e48-dbb3-159a12db8b07"
      },
      "execution_count": 85,
      "outputs": [
        {
          "output_type": "execute_result",
          "data": {
            "text/plain": [
              "<seaborn.axisgrid.FacetGrid at 0x7f1b280652d0>"
            ]
          },
          "metadata": {},
          "execution_count": 85
        },
        {
          "output_type": "display_data",
          "data": {
            "text/plain": [
              "<Figure size 864x432 with 1 Axes>"
            ],
            "image/png": "[encoded data removed]"
          },
          "metadata": {
            "needs_background": "light"
          }
        }
      ]
    },
    {
      "cell_type": "markdown",
      "source": [
        "O histograma e a curva de densidade sugerem que os dados amostrais são provenientes de dados populacionais normalmente distribuídos. Além disso, verificamos que não há presença de outliers."
      ],
      "metadata": {
        "id": "SDulSztgNreq"
      }
    },
    {
      "cell_type": "markdown",
      "source": [
        "A etapa final consiste na construção do gráfico de quantis normais. Logo, temos:"
      ],
      "metadata": {
        "id": "a4qrQi9UN4o8"
      }
    },
    {
      "cell_type": "code",
      "source": [
        "#Construindo a coluna com os escores Z, temos:\n",
        "\n",
        "mi_populacional = dados_alturas['Alturas'].mean()\n",
        "print('Média populacional de alturas: {} cm'.format(mi_populacional))\n",
        "std_populacional = dados_alturas['Alturas'].std()\n",
        "print('Desvio-padrão populacional de alturas: {} cm'.format(std_populacional))"
      ],
      "metadata": {
        "colab": {
          "base_uri": "https://localhost:8080/"
        },
        "id": "BvrcyL2WOE-4",
        "outputId": "dc1f8eca-bc8d-4547-e259-d8e95b219a45"
      },
      "execution_count": 88,
      "outputs": [
        {
          "output_type": "stream",
          "name": "stdout",
          "text": [
            "Média populacional de alturas: 179.68421052631578 cm\n",
            "Desvio-padrão populacional de alturas: 7.3082894924757955 cm\n"
          ]
        }
      ]
    },
    {
      "cell_type": "code",
      "source": [
        "escores_z = []\n",
        "for item in dados_alturas['Alturas']:\n",
        "  z = (item - mi_populacional)/std_populacional\n",
        "  escores_z.append(z)\n",
        "dados_alturas['Escores Z'] = escores_z\n",
        "dados_alturas.head(10)"
      ],
      "metadata": {
        "colab": {
          "base_uri": "https://localhost:8080/",
          "height": 363
        },
        "id": "4I0vsU8POr0k",
        "outputId": "8253f0b7-4e83-4d0f-de1c-5bd03b758af0"
      },
      "execution_count": 90,
      "outputs": [
        {
          "output_type": "execute_result",
          "data": {
            "text/plain": [
              "   Alturas  Escores Z\n",
              "0      188   1.137857\n",
              "1      170  -1.325099\n",
              "2      189   1.274688\n",
              "3      163  -2.282916\n",
              "4      183   0.453703\n",
              "5      171  -1.188269\n",
              "6      185   0.727364\n",
              "7      168  -1.598761\n",
              "8      173  -0.914607\n",
              "9      173  -0.914607"
            ],
            "text/html": [
              "\n",
              "  <div id=\"df-c750c959-7e6d-4392-b20e-602ce4ccefae\">\n",
              "    <div class=\"colab-df-container\">\n",
              "      <div>\n",
              "<style scoped>\n",
              "    .dataframe tbody tr th:only-of-type {\n",
              "        vertical-align: middle;\n",
              "    }\n",
              "\n",
              "    .dataframe tbody tr th {\n",
              "        vertical-align: top;\n",
              "    }\n",
              "\n",
              "    .dataframe thead th {\n",
              "        text-align: right;\n",
              "    }\n",
              "</style>\n",
              "<table border=\"1\" class=\"dataframe\">\n",
              "  <thead>\n",
              "    <tr style=\"text-align: right;\">\n",
              "      <th></th>\n",
              "      <th>Alturas</th>\n",
              "      <th>Escores Z</th>\n",
              "    </tr>\n",
              "  </thead>\n",
              "  <tbody>\n",
              "    <tr>\n",
              "      <th>0</th>\n",
              "      <td>188</td>\n",
              "      <td>1.137857</td>\n",
              "    </tr>\n",
              "    <tr>\n",
              "      <th>1</th>\n",
              "      <td>170</td>\n",
              "      <td>-1.325099</td>\n",
              "    </tr>\n",
              "    <tr>\n",
              "      <th>2</th>\n",
              "      <td>189</td>\n",
              "      <td>1.274688</td>\n",
              "    </tr>\n",
              "    <tr>\n",
              "      <th>3</th>\n",
              "      <td>163</td>\n",
              "      <td>-2.282916</td>\n",
              "    </tr>\n",
              "    <tr>\n",
              "      <th>4</th>\n",
              "      <td>183</td>\n",
              "      <td>0.453703</td>\n",
              "    </tr>\n",
              "    <tr>\n",
              "      <th>5</th>\n",
              "      <td>171</td>\n",
              "      <td>-1.188269</td>\n",
              "    </tr>\n",
              "    <tr>\n",
              "      <th>6</th>\n",
              "      <td>185</td>\n",
              "      <td>0.727364</td>\n",
              "    </tr>\n",
              "    <tr>\n",
              "      <th>7</th>\n",
              "      <td>168</td>\n",
              "      <td>-1.598761</td>\n",
              "    </tr>\n",
              "    <tr>\n",
              "      <th>8</th>\n",
              "      <td>173</td>\n",
              "      <td>-0.914607</td>\n",
              "    </tr>\n",
              "    <tr>\n",
              "      <th>9</th>\n",
              "      <td>173</td>\n",
              "      <td>-0.914607</td>\n",
              "    </tr>\n",
              "  </tbody>\n",
              "</table>\n",
              "</div>\n",
              "      <button class=\"colab-df-convert\" onclick=\"convertToInteractive('df-c750c959-7e6d-4392-b20e-602ce4ccefae')\"\n",
              "              title=\"Convert this dataframe to an interactive table.\"\n",
              "              style=\"display:none;\">\n",
              "        \n",
              "  <svg xmlns=\"http://www.w3.org/2000/svg\" height=\"24px\"viewBox=\"0 0 24 24\"\n",
              "       width=\"24px\">\n",
              "    <path d=\"M0 0h24v24H0V0z\" fill=\"none\"/>\n",
              "    <path d=\"M18.56 5.44l.94 2.06.94-2.06 2.06-.94-2.06-.94-.94-2.06-.94 2.06-2.06.94zm-11 1L8.5 8.5l.94-2.06 2.06-.94-2.06-.94L8.5 2.5l-.94 2.06-2.06.94zm10 10l.94 2.06.94-2.06 2.06-.94-2.06-.94-.94-2.06-.94 2.06-2.06.94z\"/><path d=\"M17.41 7.96l-1.37-1.37c-.4-.4-.92-.59-1.43-.59-.52 0-1.04.2-1.43.59L10.3 9.45l-7.72 7.72c-.78.78-.78 2.05 0 2.83L4 21.41c.39.39.9.59 1.41.59.51 0 1.02-.2 1.41-.59l7.78-7.78 2.81-2.81c.8-.78.8-2.07 0-2.86zM5.41 20L4 18.59l7.72-7.72 1.47 1.35L5.41 20z\"/>\n",
              "  </svg>\n",
              "      </button>\n",
              "      \n",
              "  <style>\n",
              "    .colab-df-container {\n",
              "      display:flex;\n",
              "      flex-wrap:wrap;\n",
              "      gap: 12px;\n",
              "    }\n",
              "\n",
              "    .colab-df-convert {\n",
              "      background-color: #E8F0FE;\n",
              "      border: none;\n",
              "      border-radius: 50%;\n",
              "      cursor: pointer;\n",
              "      display: none;\n",
              "      fill: #1967D2;\n",
              "      height: 32px;\n",
              "      padding: 0 0 0 0;\n",
              "      width: 32px;\n",
              "    }\n",
              "\n",
              "    .colab-df-convert:hover {\n",
              "      background-color: #E2EBFA;\n",
              "      box-shadow: 0px 1px 2px rgba(60, 64, 67, 0.3), 0px 1px 3px 1px rgba(60, 64, 67, 0.15);\n",
              "      fill: #174EA6;\n",
              "    }\n",
              "\n",
              "    [theme=dark] .colab-df-convert {\n",
              "      background-color: #3B4455;\n",
              "      fill: #D2E3FC;\n",
              "    }\n",
              "\n",
              "    [theme=dark] .colab-df-convert:hover {\n",
              "      background-color: #434B5C;\n",
              "      box-shadow: 0px 1px 3px 1px rgba(0, 0, 0, 0.15);\n",
              "      filter: drop-shadow(0px 1px 2px rgba(0, 0, 0, 0.3));\n",
              "      fill: #FFFFFF;\n",
              "    }\n",
              "  </style>\n",
              "\n",
              "      <script>\n",
              "        const buttonEl =\n",
              "          document.querySelector('#df-c750c959-7e6d-4392-b20e-602ce4ccefae button.colab-df-convert');\n",
              "        buttonEl.style.display =\n",
              "          google.colab.kernel.accessAllowed ? 'block' : 'none';\n",
              "\n",
              "        async function convertToInteractive(key) {\n",
              "          const element = document.querySelector('#df-c750c959-7e6d-4392-b20e-602ce4ccefae');\n",
              "          const dataTable =\n",
              "            await google.colab.kernel.invokeFunction('convertToInteractive',\n",
              "                                                     [key], {});\n",
              "          if (!dataTable) return;\n",
              "\n",
              "          const docLinkHtml = 'Like what you see? Visit the ' +\n",
              "            '<a target=\"_blank\" href=https://colab.research.google.com/notebooks/data_table.ipynb>data table notebook</a>'\n",
              "            + ' to learn more about interactive tables.';\n",
              "          element.innerHTML = '';\n",
              "          dataTable['output_type'] = 'display_data';\n",
              "          await google.colab.output.renderOutput(dataTable, element);\n",
              "          const docLink = document.createElement('div');\n",
              "          docLink.innerHTML = docLinkHtml;\n",
              "          element.appendChild(docLink);\n",
              "        }\n",
              "      </script>\n",
              "    </div>\n",
              "  </div>\n",
              "  "
            ]
          },
          "metadata": {},
          "execution_count": 90
        }
      ]
    },
    {
      "cell_type": "code",
      "source": [
        "#Construindo o gráfico de quantis normais, temos:\n",
        "\n",
        "ax = sns.lmplot(x = 'Alturas',y = 'Escores Z',data = dados_alturas)\n",
        "ax.figure.set_size_inches(12,6)\n",
        "plt.title('Gráfico quantis normais - teste de normalidade', fontsize = 18)\n",
        "plt.ylabel('Escore Z', fontsize = 14)\n",
        "plt.xlabel('Alturas (cm)', fontsize = 14)\n",
        "#ax.set_yticks([i for i in range(0,20,1)])\n",
        "ax"
      ],
      "metadata": {
        "colab": {
          "base_uri": "https://localhost:8080/",
          "height": 471
        },
        "id": "fcptXwM0Ko-T",
        "outputId": "5082356e-8ca8-4923-f285-35480d6d1680"
      },
      "execution_count": 91,
      "outputs": [
        {
          "output_type": "execute_result",
          "data": {
            "text/plain": [
              "<seaborn.axisgrid.FacetGrid at 0x7f1b28009a10>"
            ]
          },
          "metadata": {},
          "execution_count": 91
        },
        {
          "output_type": "display_data",
          "data": {
            "text/plain": [
              "<Figure size 864x432 with 1 Axes>"
            ],
            "image/png": "[encoded data removed]"
          },
          "metadata": {
            "needs_background": "light"
          }
        }
      ]
    },
    {
      "cell_type": "markdown",
      "source": [
        "**Conclusão:**\n",
        "\n",
        "A partir do gráfico de quantis normais, podemos concluir que os dados amostrais são provenientes de uma população normalmente distribuída."
      ],
      "metadata": {
        "id": "HlvVbJofPO5e"
      }
    },
    {
      "cell_type": "markdown",
      "source": [
        "#**Problema 3 -** Pressão sanguínea"
      ],
      "metadata": {
        "id": "6DLhdEnOC5BB"
      }
    },
    {
      "cell_type": "markdown",
      "source": [
        "As medidas de pressão sanguínea sistólica de homens, como listadas no Conjunto de Dados 1 no\n",
        "Apêndice B."
      ],
      "metadata": {
        "id": "pY55gMv7PiWH"
      }
    },
    {
      "cell_type": "code",
      "source": [
        "#importando o conjunto de dados e fazendo os tratamentos necessários, temos:\n",
        "base_dados = pd.read_csv('MBODY.csv')\n",
        "base_dados.head(10)"
      ],
      "metadata": {
        "colab": {
          "base_uri": "https://localhost:8080/",
          "height": 363
        },
        "id": "RMNedG0iPu2f",
        "outputId": "c61aed97-d79f-45c7-8e7f-107efcf11317"
      },
      "execution_count": 93,
      "outputs": [
        {
          "output_type": "execute_result",
          "data": {
            "text/plain": [
              "   AGE  PULSE  SYS  DIAS  HDL  LDL  WHITE   RED  PLATE     WT     HT  WAIST  \\\n",
              "0   18     60  132    68   44  213    8.7  4.91    409   64.4  178.8   81.4   \n",
              "1   20     74  120    68   41   88    5.9  5.59    187   61.8  177.5   74.8   \n",
              "2   43     86  106    84   71  174    7.3  4.44    250   78.5  187.8   84.1   \n",
              "3   39     54  104    60   41  121    6.2  4.80    273   86.3  172.4   95.5   \n",
              "4   60     90  122    80   57  124    5.9  5.17    278   73.1  181.7   90.1   \n",
              "5   18     80  122    62   50   99    6.4  5.24    279   58.5  169.0   69.8   \n",
              "6   57     66  126    78   60  114    3.9  4.51    237  134.3  186.9  137.8   \n",
              "7   27     68  118    60   47  122    6.4  4.77    200   79.8  183.1   94.4   \n",
              "8   20     68  110    40   44  112    9.8  5.02    209   64.8  176.4   74.2   \n",
              "9   18     56   96    56   33   67    4.0  5.10    203   58.1  183.4   69.9   \n",
              "\n",
              "   ARMC    BMI  \n",
              "0  28.4  20.14  \n",
              "1  26.8  19.62  \n",
              "2  32.3  22.26  \n",
              "3  39.0  29.04  \n",
              "4  29.4  22.14  \n",
              "5  28.7  20.48  \n",
              "6  42.8  38.45  \n",
              "7  32.0  23.80  \n",
              "8  29.2  20.82  \n",
              "9  26.2  17.27  "
            ],
            "text/html": [
              "\n",
              "  <div id=\"df-2af17f2a-6507-4795-9eaf-d0917b38abfd\">\n",
              "    <div class=\"colab-df-container\">\n",
              "      <div>\n",
              "<style scoped>\n",
              "    .dataframe tbody tr th:only-of-type {\n",
              "        vertical-align: middle;\n",
              "    }\n",
              "\n",
              "    .dataframe tbody tr th {\n",
              "        vertical-align: top;\n",
              "    }\n",
              "\n",
              "    .dataframe thead th {\n",
              "        text-align: right;\n",
              "    }\n",
              "</style>\n",
              "<table border=\"1\" class=\"dataframe\">\n",
              "  <thead>\n",
              "    <tr style=\"text-align: right;\">\n",
              "      <th></th>\n",
              "      <th>AGE</th>\n",
              "      <th>PULSE</th>\n",
              "      <th>SYS</th>\n",
              "      <th>DIAS</th>\n",
              "      <th>HDL</th>\n",
              "      <th>LDL</th>\n",
              "      <th>WHITE</th>\n",
              "      <th>RED</th>\n",
              "      <th>PLATE</th>\n",
              "      <th>WT</th>\n",
              "      <th>HT</th>\n",
              "      <th>WAIST</th>\n",
              "      <th>ARMC</th>\n",
              "      <th>BMI</th>\n",
              "    </tr>\n",
              "  </thead>\n",
              "  <tbody>\n",
              "    <tr>\n",
              "      <th>0</th>\n",
              "      <td>18</td>\n",
              "      <td>60</td>\n",
              "      <td>132</td>\n",
              "      <td>68</td>\n",
              "      <td>44</td>\n",
              "      <td>213</td>\n",
              "      <td>8.7</td>\n",
              "      <td>4.91</td>\n",
              "      <td>409</td>\n",
              "      <td>64.4</td>\n",
              "      <td>178.8</td>\n",
              "      <td>81.4</td>\n",
              "      <td>28.4</td>\n",
              "      <td>20.14</td>\n",
              "    </tr>\n",
              "    <tr>\n",
              "      <th>1</th>\n",
              "      <td>20</td>\n",
              "      <td>74</td>\n",
              "      <td>120</td>\n",
              "      <td>68</td>\n",
              "      <td>41</td>\n",
              "      <td>88</td>\n",
              "      <td>5.9</td>\n",
              "      <td>5.59</td>\n",
              "      <td>187</td>\n",
              "      <td>61.8</td>\n",
              "      <td>177.5</td>\n",
              "      <td>74.8</td>\n",
              "      <td>26.8</td>\n",
              "      <td>19.62</td>\n",
              "    </tr>\n",
              "    <tr>\n",
              "      <th>2</th>\n",
              "      <td>43</td>\n",
              "      <td>86</td>\n",
              "      <td>106</td>\n",
              "      <td>84</td>\n",
              "      <td>71</td>\n",
              "      <td>174</td>\n",
              "      <td>7.3</td>\n",
              "      <td>4.44</td>\n",
              "      <td>250</td>\n",
              "      <td>78.5</td>\n",
              "      <td>187.8</td>\n",
              "      <td>84.1</td>\n",
              "      <td>32.3</td>\n",
              "      <td>22.26</td>\n",
              "    </tr>\n",
              "    <tr>\n",
              "      <th>3</th>\n",
              "      <td>39</td>\n",
              "      <td>54</td>\n",
              "      <td>104</td>\n",
              "      <td>60</td>\n",
              "      <td>41</td>\n",
              "      <td>121</td>\n",
              "      <td>6.2</td>\n",
              "      <td>4.80</td>\n",
              "      <td>273</td>\n",
              "      <td>86.3</td>\n",
              "      <td>172.4</td>\n",
              "      <td>95.5</td>\n",
              "      <td>39.0</td>\n",
              "      <td>29.04</td>\n",
              "    </tr>\n",
              "    <tr>\n",
              "      <th>4</th>\n",
              "      <td>60</td>\n",
              "      <td>90</td>\n",
              "      <td>122</td>\n",
              "      <td>80</td>\n",
              "      <td>57</td>\n",
              "      <td>124</td>\n",
              "      <td>5.9</td>\n",
              "      <td>5.17</td>\n",
              "      <td>278</td>\n",
              "      <td>73.1</td>\n",
              "      <td>181.7</td>\n",
              "      <td>90.1</td>\n",
              "      <td>29.4</td>\n",
              "      <td>22.14</td>\n",
              "    </tr>\n",
              "    <tr>\n",
              "      <th>5</th>\n",
              "      <td>18</td>\n",
              "      <td>80</td>\n",
              "      <td>122</td>\n",
              "      <td>62</td>\n",
              "      <td>50</td>\n",
              "      <td>99</td>\n",
              "      <td>6.4</td>\n",
              "      <td>5.24</td>\n",
              "      <td>279</td>\n",
              "      <td>58.5</td>\n",
              "      <td>169.0</td>\n",
              "      <td>69.8</td>\n",
              "      <td>28.7</td>\n",
              "      <td>20.48</td>\n",
              "    </tr>\n",
              "    <tr>\n",
              "      <th>6</th>\n",
              "      <td>57</td>\n",
              "      <td>66</td>\n",
              "      <td>126</td>\n",
              "      <td>78</td>\n",
              "      <td>60</td>\n",
              "      <td>114</td>\n",
              "      <td>3.9</td>\n",
              "      <td>4.51</td>\n",
              "      <td>237</td>\n",
              "      <td>134.3</td>\n",
              "      <td>186.9</td>\n",
              "      <td>137.8</td>\n",
              "      <td>42.8</td>\n",
              "      <td>38.45</td>\n",
              "    </tr>\n",
              "    <tr>\n",
              "      <th>7</th>\n",
              "      <td>27</td>\n",
              "      <td>68</td>\n",
              "      <td>118</td>\n",
              "      <td>60</td>\n",
              "      <td>47</td>\n",
              "      <td>122</td>\n",
              "      <td>6.4</td>\n",
              "      <td>4.77</td>\n",
              "      <td>200</td>\n",
              "      <td>79.8</td>\n",
              "      <td>183.1</td>\n",
              "      <td>94.4</td>\n",
              "      <td>32.0</td>\n",
              "      <td>23.80</td>\n",
              "    </tr>\n",
              "    <tr>\n",
              "      <th>8</th>\n",
              "      <td>20</td>\n",
              "      <td>68</td>\n",
              "      <td>110</td>\n",
              "      <td>40</td>\n",
              "      <td>44</td>\n",
              "      <td>112</td>\n",
              "      <td>9.8</td>\n",
              "      <td>5.02</td>\n",
              "      <td>209</td>\n",
              "      <td>64.8</td>\n",
              "      <td>176.4</td>\n",
              "      <td>74.2</td>\n",
              "      <td>29.2</td>\n",
              "      <td>20.82</td>\n",
              "    </tr>\n",
              "    <tr>\n",
              "      <th>9</th>\n",
              "      <td>18</td>\n",
              "      <td>56</td>\n",
              "      <td>96</td>\n",
              "      <td>56</td>\n",
              "      <td>33</td>\n",
              "      <td>67</td>\n",
              "      <td>4.0</td>\n",
              "      <td>5.10</td>\n",
              "      <td>203</td>\n",
              "      <td>58.1</td>\n",
              "      <td>183.4</td>\n",
              "      <td>69.9</td>\n",
              "      <td>26.2</td>\n",
              "      <td>17.27</td>\n",
              "    </tr>\n",
              "  </tbody>\n",
              "</table>\n",
              "</div>\n",
              "      <button class=\"colab-df-convert\" onclick=\"convertToInteractive('df-2af17f2a-6507-4795-9eaf-d0917b38abfd')\"\n",
              "              title=\"Convert this dataframe to an interactive table.\"\n",
              "              style=\"display:none;\">\n",
              "        \n",
              "  <svg xmlns=\"http://www.w3.org/2000/svg\" height=\"24px\"viewBox=\"0 0 24 24\"\n",
              "       width=\"24px\">\n",
              "    <path d=\"M0 0h24v24H0V0z\" fill=\"none\"/>\n",
              "    <path d=\"M18.56 5.44l.94 2.06.94-2.06 2.06-.94-2.06-.94-.94-2.06-.94 2.06-2.06.94zm-11 1L8.5 8.5l.94-2.06 2.06-.94-2.06-.94L8.5 2.5l-.94 2.06-2.06.94zm10 10l.94 2.06.94-2.06 2.06-.94-2.06-.94-.94-2.06-.94 2.06-2.06.94z\"/><path d=\"M17.41 7.96l-1.37-1.37c-.4-.4-.92-.59-1.43-.59-.52 0-1.04.2-1.43.59L10.3 9.45l-7.72 7.72c-.78.78-.78 2.05 0 2.83L4 21.41c.39.39.9.59 1.41.59.51 0 1.02-.2 1.41-.59l7.78-7.78 2.81-2.81c.8-.78.8-2.07 0-2.86zM5.41 20L4 18.59l7.72-7.72 1.47 1.35L5.41 20z\"/>\n",
              "  </svg>\n",
              "      </button>\n",
              "      \n",
              "  <style>\n",
              "    .colab-df-container {\n",
              "      display:flex;\n",
              "      flex-wrap:wrap;\n",
              "      gap: 12px;\n",
              "    }\n",
              "\n",
              "    .colab-df-convert {\n",
              "      background-color: #E8F0FE;\n",
              "      border: none;\n",
              "      border-radius: 50%;\n",
              "      cursor: pointer;\n",
              "      display: none;\n",
              "      fill: #1967D2;\n",
              "      height: 32px;\n",
              "      padding: 0 0 0 0;\n",
              "      width: 32px;\n",
              "    }\n",
              "\n",
              "    .colab-df-convert:hover {\n",
              "      background-color: #E2EBFA;\n",
              "      box-shadow: 0px 1px 2px rgba(60, 64, 67, 0.3), 0px 1px 3px 1px rgba(60, 64, 67, 0.15);\n",
              "      fill: #174EA6;\n",
              "    }\n",
              "\n",
              "    [theme=dark] .colab-df-convert {\n",
              "      background-color: #3B4455;\n",
              "      fill: #D2E3FC;\n",
              "    }\n",
              "\n",
              "    [theme=dark] .colab-df-convert:hover {\n",
              "      background-color: #434B5C;\n",
              "      box-shadow: 0px 1px 3px 1px rgba(0, 0, 0, 0.15);\n",
              "      filter: drop-shadow(0px 1px 2px rgba(0, 0, 0, 0.3));\n",
              "      fill: #FFFFFF;\n",
              "    }\n",
              "  </style>\n",
              "\n",
              "      <script>\n",
              "        const buttonEl =\n",
              "          document.querySelector('#df-2af17f2a-6507-4795-9eaf-d0917b38abfd button.colab-df-convert');\n",
              "        buttonEl.style.display =\n",
              "          google.colab.kernel.accessAllowed ? 'block' : 'none';\n",
              "\n",
              "        async function convertToInteractive(key) {\n",
              "          const element = document.querySelector('#df-2af17f2a-6507-4795-9eaf-d0917b38abfd');\n",
              "          const dataTable =\n",
              "            await google.colab.kernel.invokeFunction('convertToInteractive',\n",
              "                                                     [key], {});\n",
              "          if (!dataTable) return;\n",
              "\n",
              "          const docLinkHtml = 'Like what you see? Visit the ' +\n",
              "            '<a target=\"_blank\" href=https://colab.research.google.com/notebooks/data_table.ipynb>data table notebook</a>'\n",
              "            + ' to learn more about interactive tables.';\n",
              "          element.innerHTML = '';\n",
              "          dataTable['output_type'] = 'display_data';\n",
              "          await google.colab.output.renderOutput(dataTable, element);\n",
              "          const docLink = document.createElement('div');\n",
              "          docLink.innerHTML = docLinkHtml;\n",
              "          element.appendChild(docLink);\n",
              "        }\n",
              "      </script>\n",
              "    </div>\n",
              "  </div>\n",
              "  "
            ]
          },
          "metadata": {},
          "execution_count": 93
        }
      ]
    },
    {
      "cell_type": "code",
      "source": [
        "#Criando novo dataframe com apenas os dados de pressão sistólica\n",
        "dados_sis = pd.DataFrame({'P sistolica':base_dados['SYS']})\n",
        "dados_sis.head(10)"
      ],
      "metadata": {
        "colab": {
          "base_uri": "https://localhost:8080/",
          "height": 363
        },
        "id": "cbufqD3vQES-",
        "outputId": "79467542-2f63-4eb3-a5ed-71808d0955df"
      },
      "execution_count": 95,
      "outputs": [
        {
          "output_type": "execute_result",
          "data": {
            "text/plain": [
              "   P sistolica\n",
              "0          132\n",
              "1          120\n",
              "2          106\n",
              "3          104\n",
              "4          122\n",
              "5          122\n",
              "6          126\n",
              "7          118\n",
              "8          110\n",
              "9           96"
            ],
            "text/html": [
              "\n",
              "  <div id=\"df-47887110-1423-41b6-8f20-238582dbbde1\">\n",
              "    <div class=\"colab-df-container\">\n",
              "      <div>\n",
              "<style scoped>\n",
              "    .dataframe tbody tr th:only-of-type {\n",
              "        vertical-align: middle;\n",
              "    }\n",
              "\n",
              "    .dataframe tbody tr th {\n",
              "        vertical-align: top;\n",
              "    }\n",
              "\n",
              "    .dataframe thead th {\n",
              "        text-align: right;\n",
              "    }\n",
              "</style>\n",
              "<table border=\"1\" class=\"dataframe\">\n",
              "  <thead>\n",
              "    <tr style=\"text-align: right;\">\n",
              "      <th></th>\n",
              "      <th>P sistolica</th>\n",
              "    </tr>\n",
              "  </thead>\n",
              "  <tbody>\n",
              "    <tr>\n",
              "      <th>0</th>\n",
              "      <td>132</td>\n",
              "    </tr>\n",
              "    <tr>\n",
              "      <th>1</th>\n",
              "      <td>120</td>\n",
              "    </tr>\n",
              "    <tr>\n",
              "      <th>2</th>\n",
              "      <td>106</td>\n",
              "    </tr>\n",
              "    <tr>\n",
              "      <th>3</th>\n",
              "      <td>104</td>\n",
              "    </tr>\n",
              "    <tr>\n",
              "      <th>4</th>\n",
              "      <td>122</td>\n",
              "    </tr>\n",
              "    <tr>\n",
              "      <th>5</th>\n",
              "      <td>122</td>\n",
              "    </tr>\n",
              "    <tr>\n",
              "      <th>6</th>\n",
              "      <td>126</td>\n",
              "    </tr>\n",
              "    <tr>\n",
              "      <th>7</th>\n",
              "      <td>118</td>\n",
              "    </tr>\n",
              "    <tr>\n",
              "      <th>8</th>\n",
              "      <td>110</td>\n",
              "    </tr>\n",
              "    <tr>\n",
              "      <th>9</th>\n",
              "      <td>96</td>\n",
              "    </tr>\n",
              "  </tbody>\n",
              "</table>\n",
              "</div>\n",
              "      <button class=\"colab-df-convert\" onclick=\"convertToInteractive('df-47887110-1423-41b6-8f20-238582dbbde1')\"\n",
              "              title=\"Convert this dataframe to an interactive table.\"\n",
              "              style=\"display:none;\">\n",
              "        \n",
              "  <svg xmlns=\"http://www.w3.org/2000/svg\" height=\"24px\"viewBox=\"0 0 24 24\"\n",
              "       width=\"24px\">\n",
              "    <path d=\"M0 0h24v24H0V0z\" fill=\"none\"/>\n",
              "    <path d=\"M18.56 5.44l.94 2.06.94-2.06 2.06-.94-2.06-.94-.94-2.06-.94 2.06-2.06.94zm-11 1L8.5 8.5l.94-2.06 2.06-.94-2.06-.94L8.5 2.5l-.94 2.06-2.06.94zm10 10l.94 2.06.94-2.06 2.06-.94-2.06-.94-.94-2.06-.94 2.06-2.06.94z\"/><path d=\"M17.41 7.96l-1.37-1.37c-.4-.4-.92-.59-1.43-.59-.52 0-1.04.2-1.43.59L10.3 9.45l-7.72 7.72c-.78.78-.78 2.05 0 2.83L4 21.41c.39.39.9.59 1.41.59.51 0 1.02-.2 1.41-.59l7.78-7.78 2.81-2.81c.8-.78.8-2.07 0-2.86zM5.41 20L4 18.59l7.72-7.72 1.47 1.35L5.41 20z\"/>\n",
              "  </svg>\n",
              "      </button>\n",
              "      \n",
              "  <style>\n",
              "    .colab-df-container {\n",
              "      display:flex;\n",
              "      flex-wrap:wrap;\n",
              "      gap: 12px;\n",
              "    }\n",
              "\n",
              "    .colab-df-convert {\n",
              "      background-color: #E8F0FE;\n",
              "      border: none;\n",
              "      border-radius: 50%;\n",
              "      cursor: pointer;\n",
              "      display: none;\n",
              "      fill: #1967D2;\n",
              "      height: 32px;\n",
              "      padding: 0 0 0 0;\n",
              "      width: 32px;\n",
              "    }\n",
              "\n",
              "    .colab-df-convert:hover {\n",
              "      background-color: #E2EBFA;\n",
              "      box-shadow: 0px 1px 2px rgba(60, 64, 67, 0.3), 0px 1px 3px 1px rgba(60, 64, 67, 0.15);\n",
              "      fill: #174EA6;\n",
              "    }\n",
              "\n",
              "    [theme=dark] .colab-df-convert {\n",
              "      background-color: #3B4455;\n",
              "      fill: #D2E3FC;\n",
              "    }\n",
              "\n",
              "    [theme=dark] .colab-df-convert:hover {\n",
              "      background-color: #434B5C;\n",
              "      box-shadow: 0px 1px 3px 1px rgba(0, 0, 0, 0.15);\n",
              "      filter: drop-shadow(0px 1px 2px rgba(0, 0, 0, 0.3));\n",
              "      fill: #FFFFFF;\n",
              "    }\n",
              "  </style>\n",
              "\n",
              "      <script>\n",
              "        const buttonEl =\n",
              "          document.querySelector('#df-47887110-1423-41b6-8f20-238582dbbde1 button.colab-df-convert');\n",
              "        buttonEl.style.display =\n",
              "          google.colab.kernel.accessAllowed ? 'block' : 'none';\n",
              "\n",
              "        async function convertToInteractive(key) {\n",
              "          const element = document.querySelector('#df-47887110-1423-41b6-8f20-238582dbbde1');\n",
              "          const dataTable =\n",
              "            await google.colab.kernel.invokeFunction('convertToInteractive',\n",
              "                                                     [key], {});\n",
              "          if (!dataTable) return;\n",
              "\n",
              "          const docLinkHtml = 'Like what you see? Visit the ' +\n",
              "            '<a target=\"_blank\" href=https://colab.research.google.com/notebooks/data_table.ipynb>data table notebook</a>'\n",
              "            + ' to learn more about interactive tables.';\n",
              "          element.innerHTML = '';\n",
              "          dataTable['output_type'] = 'display_data';\n",
              "          await google.colab.output.renderOutput(dataTable, element);\n",
              "          const docLink = document.createElement('div');\n",
              "          docLink.innerHTML = docLinkHtml;\n",
              "          element.appendChild(docLink);\n",
              "        }\n",
              "      </script>\n",
              "    </div>\n",
              "  </div>\n",
              "  "
            ]
          },
          "metadata": {},
          "execution_count": 95
        }
      ]
    },
    {
      "cell_type": "code",
      "source": [
        "base_dados.info()"
      ],
      "metadata": {
        "colab": {
          "base_uri": "https://localhost:8080/"
        },
        "id": "kR-DZRoQQTwM",
        "outputId": "828d3d55-12ba-42e0-e193-bc37c8d3d41d"
      },
      "execution_count": 97,
      "outputs": [
        {
          "output_type": "stream",
          "name": "stdout",
          "text": [
            "<class 'pandas.core.frame.DataFrame'>\n",
            "RangeIndex: 40 entries, 0 to 39\n",
            "Data columns (total 14 columns):\n",
            " #   Column  Non-Null Count  Dtype  \n",
            "---  ------  --------------  -----  \n",
            " 0   AGE     40 non-null     int64  \n",
            " 1   PULSE   40 non-null     int64  \n",
            " 2   SYS     40 non-null     int64  \n",
            " 3   DIAS    40 non-null     int64  \n",
            " 4   HDL     40 non-null     int64  \n",
            " 5   LDL     40 non-null     int64  \n",
            " 6   WHITE   40 non-null     float64\n",
            " 7   RED     40 non-null     float64\n",
            " 8   PLATE   40 non-null     int64  \n",
            " 9   WT      40 non-null     float64\n",
            " 10  HT      40 non-null     float64\n",
            " 11  WAIST   40 non-null     float64\n",
            " 12  ARMC    40 non-null     float64\n",
            " 13  BMI     40 non-null     float64\n",
            "dtypes: float64(7), int64(7)\n",
            "memory usage: 4.5 KB\n"
          ]
        }
      ]
    },
    {
      "cell_type": "markdown",
      "source": [
        "**Inspeção visual através de histograma e curva de densidade**"
      ],
      "metadata": {
        "id": "WvVdioa2QZUA"
      }
    },
    {
      "cell_type": "code",
      "source": [
        "#Construindo um histograma para observar graficamente a distribuição dos dados, temos:\n",
        "\n",
        "ax = sns.histplot(data = dados_sis['P sistolica'], stat = 'proportion',kde = True)\n",
        "ax.figure.set_size_inches(12,6)\n",
        "ax.set_title('Histograma de frequências relativas -  Pressões sistólicas', fontsize = 18)\n",
        "ax.set_xlabel('Pressão (mmHg)', fontsize = 14)\n",
        "ax.set_ylabel('Frequência relativa', fontsize = 14)\n",
        "#ax.set_yticks([i for i in range(0,20,1)])\n",
        "ax"
      ],
      "metadata": {
        "colab": {
          "base_uri": "https://localhost:8080/",
          "height": 431
        },
        "id": "21V2phM-Qe9q",
        "outputId": "cd5dc891-1458-424c-9f0d-3d630308cf31"
      },
      "execution_count": 98,
      "outputs": [
        {
          "output_type": "execute_result",
          "data": {
            "text/plain": [
              "<matplotlib.axes._subplots.AxesSubplot at 0x7f1b27f8ac10>"
            ]
          },
          "metadata": {},
          "execution_count": 98
        },
        {
          "output_type": "display_data",
          "data": {
            "text/plain": [
              "<Figure size 864x432 with 1 Axes>"
            ],
            "image/png": "[encoded data removed]"
          },
          "metadata": {
            "needs_background": "light"
          }
        }
      ]
    },
    {
      "cell_type": "code",
      "source": [
        "#Construindo uma curva de densidade KDE para observação da distribuição dos dados:\n",
        "ax = sns.displot(data = dados_sis['P sistolica'],kind = 'kde')\n",
        "ax.figure.set_size_inches(12,6)\n",
        "plt.title('Curva de densidade de distribuição de pressões sistólicas', fontsize = 18)\n",
        "plt.xlabel('Pressão (mmHg)', fontsize = 14)\n",
        "ax"
      ],
      "metadata": {
        "colab": {
          "base_uri": "https://localhost:8080/",
          "height": 470
        },
        "id": "AiCcQiaTQfAM",
        "outputId": "e3c69bbe-cdbd-4487-c787-1d4df6cedec2"
      },
      "execution_count": 99,
      "outputs": [
        {
          "output_type": "execute_result",
          "data": {
            "text/plain": [
              "<seaborn.axisgrid.FacetGrid at 0x7f1b27f881d0>"
            ]
          },
          "metadata": {},
          "execution_count": 99
        },
        {
          "output_type": "display_data",
          "data": {
            "text/plain": [
              "<Figure size 864x432 with 1 Axes>"
            ],
            "image/png": "[encoded data removed]"
          },
          "metadata": {
            "needs_background": "light"
          }
        }
      ]
    },
    {
      "cell_type": "markdown",
      "source": [
        "O histograma e a curva de densidade acima apresentados possuem aproximadamente forma de sino, sugerindo que os dados da amostra são proveniente de uma população normalmente distribuída. Além disso, é possível verificar que não há valores de outliers."
      ],
      "metadata": {
        "id": "tsw6RMZWRB6x"
      }
    },
    {
      "cell_type": "markdown",
      "source": [
        "A próxima etapa da verificação consiste na construção de gráfico de quantis normais."
      ],
      "metadata": {
        "id": "UUGv_Ia-RV6m"
      }
    },
    {
      "cell_type": "code",
      "source": [
        "#Construindo o gráfico de quantis normais, temos:\n",
        "\n",
        "mi_pop = dados_sis['P sistolica'].mean()\n",
        "std_pop = dados_sis['P sistolica'].std()\n",
        "\n",
        "escore_z = []\n",
        "\n",
        "for item in dados_sis['P sistolica']:\n",
        "  z = (item - mi_pop)/std_pop\n",
        "  escore_z.append(z)\n",
        "\n",
        "dados_sis['Escore Z'] = escore_z\n",
        "\n",
        "ax = sns.lmplot(x = 'P sistolica',y = 'Escore Z',data = dados_sis)\n",
        "ax.figure.set_size_inches(12,6)\n",
        "plt.title('Gráfico quantis normais - teste de normalidade', fontsize = 18)\n",
        "plt.ylabel('Escore Z', fontsize = 14)\n",
        "plt.xlabel('Pressão (mmHg)', fontsize = 14)\n",
        "#ax.set_yticks([i for i in range(0,20,1)])\n",
        "ax"
      ],
      "metadata": {
        "colab": {
          "base_uri": "https://localhost:8080/",
          "height": 473
        },
        "id": "SzNNUnSEQfE6",
        "outputId": "f6b9ab35-869f-4185-9125-e7625d8a1c62"
      },
      "execution_count": 102,
      "outputs": [
        {
          "output_type": "execute_result",
          "data": {
            "text/plain": [
              "<seaborn.axisgrid.FacetGrid at 0x7f1b27d94650>"
            ]
          },
          "metadata": {},
          "execution_count": 102
        },
        {
          "output_type": "display_data",
          "data": {
            "text/plain": [
              "<Figure size 864x432 with 1 Axes>"
            ],
            "image/png": "[encoded data removed]"
          },
          "metadata": {
            "needs_background": "light"
          }
        }
      ]
    },
    {
      "cell_type": "markdown",
      "source": [
        "A partir do gráfico de quantis normais, podemos concluir que os dados amostrais são provenientes de uma população normalmente distribuída. Uma vez que os dados de pressão e os escores z correspondentes se ajustam a reta."
      ],
      "metadata": {
        "id": "KAfeg4i1SUP2"
      }
    }
  ],
  "metadata": {
    "colab": {
      "name": "distribuicao_normal.ipynb",
      "provenance": []
    },
    "kernelspec": {
      "display_name": "Python 3",
      "name": "python3"
    },
    "language_info": {
      "name": "python"
    }
  },
  "nbformat": 4,
  "nbformat_minor": 0
}