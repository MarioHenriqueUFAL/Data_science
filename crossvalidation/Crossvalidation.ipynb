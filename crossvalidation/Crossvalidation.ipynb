{
  "nbformat": 4,
  "nbformat_minor": 0,
  "metadata": {
    "colab": {
      "name": "Crossvalidation.ipynb",
      "provenance": []
    },
    "kernelspec": {
      "name": "python3",
      "display_name": "Python 3"
    },
    "language_info": {
      "name": "python"
    }
  },
  "cells": [
    {
      "cell_type": "markdown",
      "metadata": {
        "id": "630NdcZlvm-V"
      },
      "source": [
        "**Validação cruzada**"
      ]
    },
    {
      "cell_type": "markdown",
      "metadata": {
        "id": "xsIwhBFBlsfF"
      },
      "source": [
        "A validação cruzada é utilizada para verificar qual algoritmo é melhor, isto é, comparar os resultados de diferentes algoritmos. A ideia que trabalhamos até o momento foi dividir a base de dados em conjunto de dados de treinamento e conjunto de dados de teste. Tais dados eram fixos, o que pode acarretar em problemas. Para um determinado conjunto de dados os resultados podem ser diferentes dos resultados obtidos com outra parte do conjunto de dados. Para solucionar esse problema e avaliar qual algoritmo tem melhor eficácia, particionamos o conjunto de dados em partes iguais e executamos o algoritmo o suficiente para utilizar todo os dados em treinamento e teste. Ou seja, se dividirmos o conjunto de dados inicial em 10 partes iguais, na primeira execução a primeira parte será usada no teste e as 9 restantes no treinamento; na segunda execução, a primeira parte e as últimas 7 serão usadas no treinamento, enquanto a segunda parte será utilizada no teste.\n",
        "Na validação cruzada, o resultado da eficácia será a média das eficácias usando cada partição dos dados.\n",
        "\n"
      ]
    },
    {
      "cell_type": "code",
      "metadata": {
        "id": "UZshbL107vIs"
      },
      "source": [
        "import numpy as np"
      ],
      "execution_count": null,
      "outputs": []
    },
    {
      "cell_type": "code",
      "metadata": {
        "id": "uvGNS2tPwYfg"
      },
      "source": [
        "#importando as bibliotecas responsáveis pela implementação dos algoritmos de aprendizado de máquina, temos:\n",
        "from sklearn.tree import DecisionTreeClassifier\n",
        "from sklearn.ensemble import RandomForestClassifier\n",
        "from sklearn.neighbors import KNeighborsClassifier\n",
        "from sklearn.linear_model import LogisticRegression\n",
        "from sklearn.svm import SVC\n",
        "from sklearn.neural_network import MLPClassifier"
      ],
      "execution_count": null,
      "outputs": []
    },
    {
      "cell_type": "code",
      "metadata": {
        "id": "p7kKxU-xxQmB"
      },
      "source": [
        "#Importando a biblioteca responsável pela implementação da validação cruzada, temos:\n",
        "#a variável Kfold faz a partição da base de dados em partes iguais;\n",
        "#a função cross_val_score recebe os dados particionados e faz os testes com cada parte\n",
        "from sklearn.model_selection import cross_val_score, KFold"
      ],
      "execution_count": null,
      "outputs": []
    },
    {
      "cell_type": "code",
      "metadata": {
        "id": "L56m0hnV7OLb"
      },
      "source": [
        "#abrindo a base de dados base credit, temos:\n",
        "import pickle\n",
        "with open('credit.pkl','rb') as f:\n",
        "  x_credit_treinamento, y_credit_treinamento, x_credit_teste,y_credit_teste = pickle.load(f)"
      ],
      "execution_count": null,
      "outputs": []
    },
    {
      "cell_type": "code",
      "metadata": {
        "colab": {
          "base_uri": "https://localhost:8080/"
        },
        "id": "S8g6RLpx7eke",
        "outputId": "59d028ad-93f6-4933-e9a6-47fc3967d911"
      },
      "source": [
        "x_credit_treinamento.shape, y_credit_treinamento.shape"
      ],
      "execution_count": null,
      "outputs": [
        {
          "output_type": "execute_result",
          "data": {
            "text/plain": [
              "((1500, 3), (1500,))"
            ]
          },
          "metadata": {
            "tags": []
          },
          "execution_count": 17
        }
      ]
    },
    {
      "cell_type": "code",
      "metadata": {
        "colab": {
          "base_uri": "https://localhost:8080/"
        },
        "id": "RY5obq9j7itT",
        "outputId": "b2e50fda-5072-49f0-beae-313b41b1b846"
      },
      "source": [
        "x_credit_teste.shape, y_credit_teste.shape"
      ],
      "execution_count": null,
      "outputs": [
        {
          "output_type": "execute_result",
          "data": {
            "text/plain": [
              "((500, 3), (500,))"
            ]
          },
          "metadata": {
            "tags": []
          },
          "execution_count": 16
        }
      ]
    },
    {
      "cell_type": "code",
      "metadata": {
        "id": "ILUNK5Rh7o3G"
      },
      "source": [
        "#concatenando a base de dados de treinamento e a base de dados de teste, temos:\n",
        "x_credit = np.concatenate((x_credit_treinamento,x_credit_teste),axis=0)\n",
        "y_credit = np.concatenate((y_credit_treinamento,y_credit_teste),axis=0)"
      ],
      "execution_count": null,
      "outputs": []
    },
    {
      "cell_type": "code",
      "metadata": {
        "colab": {
          "base_uri": "https://localhost:8080/"
        },
        "id": "cMIqr42L8qAr",
        "outputId": "5e53076e-7f6e-4e8f-e40d-9bae4f8a8794"
      },
      "source": [
        "x_credit.shape, y_credit.shape"
      ],
      "execution_count": null,
      "outputs": [
        {
          "output_type": "execute_result",
          "data": {
            "text/plain": [
              "((2000, 3), (2000,))"
            ]
          },
          "metadata": {
            "tags": []
          },
          "execution_count": 19
        }
      ]
    },
    {
      "cell_type": "code",
      "metadata": {
        "id": "LTXowkw9vlbz"
      },
      "source": [
        "resultados_arvore = []\n",
        "resultados_random_forest=[]\n",
        "resultados_knn=[]\n",
        "resultados_regressao=[]\n",
        "resultados_svm=[]\n",
        "resultados_neural=[]"
      ],
      "execution_count": null,
      "outputs": []
    },
    {
      "cell_type": "markdown",
      "metadata": {
        "id": "gTSDa-HVBwvk"
      },
      "source": [
        "**Validação cruzada árvore de decisão**"
      ]
    },
    {
      "cell_type": "code",
      "metadata": {
        "id": "tIoGW6yUxfI1"
      },
      "source": [
        "#Quando usamos a técnica de validação cruzada, devemos especificar o valor de K, isto é, em quantas partes devemos dividir\n",
        "#a base de dados para realizar a operação. Um único teste retorna k resultados, correspondentes ao número de partes em que a base de dados\n",
        "#foi dividida. No entanto, podemos realizar n teste, isto é, executar a mesma operação n vezes e obter a média das acurácias para cada parte. \n",
        "#Note que, na primeira execução, a primeira parte é usada no teste e as demais são usadas para o treinamento do algoritmo, a eficácia é armazenada\n",
        "#para essa primeira operação usando a primeira parte como teste. Quando testamos n vezes, vamos ter n valores de eficácia usando a primeira parte\n",
        "#no teste. Podemos obter a média dos n teste e obter um vetor com k valores médios de acurácia. Em seguida, tiramos a média dos k valores e \n",
        "#obtemos a acurácia média do algoritmo de aprendizado para compararmos com os demais algoritmos de machine learning."
      ],
      "execution_count": null,
      "outputs": []
    },
    {
      "cell_type": "code",
      "metadata": {
        "id": "fZtMv7aPzOT_"
      },
      "source": [
        "#esse comando indica que vamos realizar 30 testes, note que esse valor corresponde ao 'n' explicado na linha anterior. No primeito teste\n",
        "#rodamos o algoritmo de aprendizado de máquina k vezes, e fazemos o mesmo processo n vezes. Gerando n x k resultados de acurária.\n",
        "#n_splits indica a quantidade de partes em que a base de dados será dividida\n",
        "#shuffle indica se os dados devem ser embaralhados antes da divisão dos dados\n",
        "#random_state deve ter valores diferentes para cada teste, de modo que os dados contidos em cada parte sejam diferentes\n",
        "#caso o random_state seja um número fixo, a divisão dos dados será a mesma e, consequentemente, os resultados serão iguais.\n",
        "#Por este motivo, colocamos i, pois o i irá assumir valores diferentes em cada teste, garantindo que os resultados serão diferentes.\n",
        "#Note os resultados exibidos na tela. Cada linha representa um teste, realizamos 30 testes, então temos 30 linhas.\n",
        "#Em cada linha, cada coluna é uma resultado utilizando partes diferentes da partição realizada pela função Kfold. Como dividimos 10 partes\n",
        "#para cada linha temos 10 resultados de acurácia. Em seguida, calculamos a média de acurácia para cada teste, mostrada abaixo.\n",
        "for i in range(30):\n",
        "  kfold = KFold(n_splits=10,shuffle=True,random_state=i)\n",
        "  arvore = DecisionTreeClassifier(criterion='entropy',min_samples_leaf=3,min_samples_split=2,splitter='best')\n",
        "  scores = cross_val_score(arvore,x_credit,y_credit,cv=kfold)\n",
        "  print(scores)\n",
        "  print(scores.mean())"
      ],
      "execution_count": null,
      "outputs": []
    },
    {
      "cell_type": "code",
      "metadata": {
        "id": "NY-hwvbL-fuG"
      },
      "source": [
        "#Esse algoritmo é o mesmo implementado na linha acima. Aqui vamos mostrar como armazenamos os resultados em uma lista de valores.\n",
        "\n",
        "for i in range(30):\n",
        "  kfold = KFold(n_splits=10,shuffle=True,random_state=i)\n",
        "  arvore = DecisionTreeClassifier(criterion='entropy',min_samples_leaf=3,min_samples_split=2,splitter='best')\n",
        "  scores = cross_val_score(arvore,x_credit,y_credit,cv=kfold)\n",
        "  resultados_arvore.append(scores.mean())"
      ],
      "execution_count": null,
      "outputs": []
    },
    {
      "cell_type": "code",
      "metadata": {
        "colab": {
          "base_uri": "https://localhost:8080/"
        },
        "id": "9J42axSc_Naq",
        "outputId": "73709adb-3f89-4532-d72b-e7adadaf7cec"
      },
      "source": [
        "#a acurácia do algoritmo será a média dos 30 valores, ou seja, a média dos 30 testes realizados\n",
        "resultados_arvore"
      ],
      "execution_count": null,
      "outputs": [
        {
          "output_type": "execute_result",
          "data": {
            "text/plain": [
              "[0.9864999999999998,\n",
              " 0.984,\n",
              " 0.9904999999999999,\n",
              " 0.9875,\n",
              " 0.9890000000000001,\n",
              " 0.9884999999999999,\n",
              " 0.9899999999999999,\n",
              " 0.9884999999999999,\n",
              " 0.9870000000000001,\n",
              " 0.9865,\n",
              " 0.9875,\n",
              " 0.9894999999999999,\n",
              " 0.9879999999999999,\n",
              " 0.9869999999999999,\n",
              " 0.985,\n",
              " 0.9854999999999998,\n",
              " 0.986,\n",
              " 0.99,\n",
              " 0.9875,\n",
              " 0.9894999999999999,\n",
              " 0.9854999999999998,\n",
              " 0.9880000000000001,\n",
              " 0.9889999999999999,\n",
              " 0.9889999999999999,\n",
              " 0.9880000000000001,\n",
              " 0.9894999999999999,\n",
              " 0.9879999999999999,\n",
              " 0.9890000000000001,\n",
              " 0.985,\n",
              " 0.9880000000000001]"
            ]
          },
          "metadata": {
            "tags": []
          },
          "execution_count": 33
        }
      ]
    },
    {
      "cell_type": "code",
      "metadata": {
        "colab": {
          "base_uri": "https://localhost:8080/"
        },
        "id": "DLyENu_jA7KX",
        "outputId": "9945f0fd-05ea-4a12-f7f8-590db258beac"
      },
      "source": [
        "#Eficácia média do algoritmo usando a base de dados base credit:\n",
        "media = 0\n",
        "soma = 0\n",
        "for i in resultados_arvore:\n",
        "  soma = float(i) + soma\n",
        "media = soma/len(resultados_arvore)\n",
        "print(media)"
      ],
      "execution_count": null,
      "outputs": [
        {
          "output_type": "stream",
          "text": [
            "0.9877499999999999\n"
          ],
          "name": "stdout"
        }
      ]
    },
    {
      "cell_type": "code",
      "metadata": {
        "colab": {
          "base_uri": "https://localhost:8080/"
        },
        "id": "QlLFCNNq_XLH",
        "outputId": "f58a3a82-6e90-400b-8052-308903e56638"
      },
      "source": [
        "len(resultados_arvore)"
      ],
      "execution_count": null,
      "outputs": [
        {
          "output_type": "execute_result",
          "data": {
            "text/plain": [
              "30"
            ]
          },
          "metadata": {
            "tags": []
          },
          "execution_count": 36
        }
      ]
    },
    {
      "cell_type": "markdown",
      "metadata": {
        "id": "a78Cy1VgB1rj"
      },
      "source": [
        "**Validação cruzada random forest**"
      ]
    },
    {
      "cell_type": "code",
      "metadata": {
        "id": "_3X4xQiG_f3q"
      },
      "source": [
        "#Agora implementamos a validação cruzada para o random forest:\n",
        "for i in range(30):\n",
        "  kfold = KFold(n_splits=10,shuffle=True,random_state=i)\n",
        "  random_forest = RandomForestClassifier(criterion='gini',min_samples_leaf=1,min_samples_split=4,n_estimators=40)\n",
        "  scores = cross_val_score(random_forest,x_credit,y_credit,cv=kfold)\n",
        "  resultados_random_forest.append(scores.mean())"
      ],
      "execution_count": null,
      "outputs": []
    },
    {
      "cell_type": "code",
      "metadata": {
        "id": "OwvxrdXdAua8"
      },
      "source": [
        "resultados_random_forest"
      ],
      "execution_count": null,
      "outputs": []
    },
    {
      "cell_type": "code",
      "metadata": {
        "colab": {
          "base_uri": "https://localhost:8080/"
        },
        "id": "ytH6CLaLAxIo",
        "outputId": "994172fa-48e6-4b81-fedc-2ebe4926be0f"
      },
      "source": [
        "len(resultados_random_forest)"
      ],
      "execution_count": null,
      "outputs": [
        {
          "output_type": "execute_result",
          "data": {
            "text/plain": [
              "30"
            ]
          },
          "metadata": {
            "tags": []
          },
          "execution_count": 41
        }
      ]
    },
    {
      "cell_type": "code",
      "metadata": {
        "colab": {
          "base_uri": "https://localhost:8080/"
        },
        "id": "fxrLbma5B6vw",
        "outputId": "fc9d2743-dd30-44a6-f141-fddb4bc1a964"
      },
      "source": [
        "#A acurácia média da random forest usando a base de dados credit é dada por:\n",
        "soma=0\n",
        "media=0\n",
        "for i in resultados_random_forest:\n",
        "  soma = float(i)+soma\n",
        "media = soma/len(resultados_random_forest)\n",
        "print(media)"
      ],
      "execution_count": null,
      "outputs": [
        {
          "output_type": "stream",
          "text": [
            "0.9867333333333331\n"
          ],
          "name": "stdout"
        }
      ]
    },
    {
      "cell_type": "markdown",
      "metadata": {
        "id": "K67FhycICRf_"
      },
      "source": [
        "**Validação cruzada usando o algoritmo KNN**"
      ]
    },
    {
      "cell_type": "code",
      "metadata": {
        "id": "HFVYsyOiCYCr"
      },
      "source": [
        "for i in range(30):\n",
        "  kfold = KFold(n_splits=10,shuffle=True,random_state=i)\n",
        "  knn = KNeighborsClassifier(n_neighbors=20,p=1)\n",
        "  score = cross_val_score(knn,x_credit,y_credit,cv=kfold)\n",
        "  resultados_knn.append(scores.mean())"
      ],
      "execution_count": null,
      "outputs": []
    },
    {
      "cell_type": "code",
      "metadata": {
        "colab": {
          "base_uri": "https://localhost:8080/"
        },
        "id": "U37mX3mmC57y",
        "outputId": "f01ef6b8-0e6d-448a-f37d-5b6a91c045a9"
      },
      "source": [
        "resultados_knn"
      ],
      "execution_count": null,
      "outputs": [
        {
          "output_type": "execute_result",
          "data": {
            "text/plain": [
              "[0.986,\n",
              " 0.986,\n",
              " 0.986,\n",
              " 0.986,\n",
              " 0.986,\n",
              " 0.986,\n",
              " 0.986,\n",
              " 0.986,\n",
              " 0.986,\n",
              " 0.986,\n",
              " 0.986,\n",
              " 0.986,\n",
              " 0.986,\n",
              " 0.986,\n",
              " 0.986,\n",
              " 0.986,\n",
              " 0.986,\n",
              " 0.986,\n",
              " 0.986,\n",
              " 0.986,\n",
              " 0.986,\n",
              " 0.986,\n",
              " 0.986,\n",
              " 0.986,\n",
              " 0.986,\n",
              " 0.986,\n",
              " 0.986,\n",
              " 0.986,\n",
              " 0.986,\n",
              " 0.986]"
            ]
          },
          "metadata": {
            "tags": []
          },
          "execution_count": 48
        }
      ]
    },
    {
      "cell_type": "code",
      "metadata": {
        "colab": {
          "base_uri": "https://localhost:8080/"
        },
        "id": "43VzcNziC8B7",
        "outputId": "998f9cc0-be91-4fac-ec37-d27659b34174"
      },
      "source": [
        "len(resultados_knn)"
      ],
      "execution_count": null,
      "outputs": [
        {
          "output_type": "execute_result",
          "data": {
            "text/plain": [
              "30"
            ]
          },
          "metadata": {
            "tags": []
          },
          "execution_count": 49
        }
      ]
    },
    {
      "cell_type": "code",
      "metadata": {
        "colab": {
          "base_uri": "https://localhost:8080/"
        },
        "id": "V0xPTOrKC-Pv",
        "outputId": "b3689eb4-6b96-4be2-a383-11ed48da11c4"
      },
      "source": [
        "#A acurácia média do algoritmo KNN na base de dados credit é dada por:\n",
        "soma=0\n",
        "media=0\n",
        "for i in resultados_knn:\n",
        "  soma=float(i)+soma\n",
        "media = soma/len(resultados_knn)\n",
        "print(media)"
      ],
      "execution_count": null,
      "outputs": [
        {
          "output_type": "stream",
          "text": [
            "0.9860000000000004\n"
          ],
          "name": "stdout"
        }
      ]
    },
    {
      "cell_type": "markdown",
      "metadata": {
        "id": "rQjD3h-RF5zf"
      },
      "source": [
        "**Validação cruzada com o algoritmo de regressão logística**"
      ]
    },
    {
      "cell_type": "code",
      "metadata": {
        "id": "7LrskLuzF-p5"
      },
      "source": [
        "for i in range(30):\n",
        "  kfold = KFold(n_splits=10,shuffle=True,random_state=i)\n",
        "  regressao = LogisticRegression(C=1.0,solver='sag',tol=0.0001)\n",
        "  score = cross_val_score(regressao,x_credit,y_credit,cv=kfold)\n",
        "  resultados_regressao.append(score.mean())"
      ],
      "execution_count": null,
      "outputs": []
    },
    {
      "cell_type": "code",
      "metadata": {
        "id": "xNrnozzrHWEp"
      },
      "source": [
        "resultados_regressao"
      ],
      "execution_count": null,
      "outputs": []
    },
    {
      "cell_type": "code",
      "metadata": {
        "colab": {
          "base_uri": "https://localhost:8080/"
        },
        "id": "3HDDXlmcHbLm",
        "outputId": "133089cb-7a04-45c4-c5a3-1a5e0c9d718f"
      },
      "source": [
        "len(resultados_regressao)"
      ],
      "execution_count": null,
      "outputs": [
        {
          "output_type": "execute_result",
          "data": {
            "text/plain": [
              "30"
            ]
          },
          "metadata": {
            "tags": []
          },
          "execution_count": 54
        }
      ]
    },
    {
      "cell_type": "code",
      "metadata": {
        "colab": {
          "base_uri": "https://localhost:8080/"
        },
        "id": "jlTbGWqOHh9O",
        "outputId": "0f9e5b53-c7f8-4a4b-c7eb-6c3e61e34d43"
      },
      "source": [
        "#A eficiência do algoritmo de regressao logistica é dada por:\n",
        "media = 0\n",
        "soma= 0\n",
        "for i in resultados_regressao:\n",
        "  soma=soma+float(i)\n",
        "media = soma/len(resultados_regressao)\n",
        "print(media)"
      ],
      "execution_count": null,
      "outputs": [
        {
          "output_type": "stream",
          "text": [
            "0.9469166666666666\n"
          ],
          "name": "stdout"
        }
      ]
    },
    {
      "cell_type": "markdown",
      "metadata": {
        "id": "QX7FrSXNHyUr"
      },
      "source": [
        "**Validação cruzada com SVM**"
      ]
    },
    {
      "cell_type": "code",
      "metadata": {
        "id": "3LUwVU6PH2Qn"
      },
      "source": [
        "for i in range(30):\n",
        "  kfold=KFold(n_splits=10,shuffle=True,random_state=i)\n",
        "  svm = SVC(C=1.5,kernel='rbf',tol=0.01)\n",
        "  score = cross_val_score(svm,x_credit,y_credit,cv=kfold)\n",
        "  resultados_svm.append(score.mean())"
      ],
      "execution_count": null,
      "outputs": []
    },
    {
      "cell_type": "code",
      "metadata": {
        "colab": {
          "base_uri": "https://localhost:8080/"
        },
        "id": "B8Hz9DelIaVT",
        "outputId": "4599947a-0ec5-4860-a45f-49e2d397cffd"
      },
      "source": [
        "resultados_svm"
      ],
      "execution_count": null,
      "outputs": [
        {
          "output_type": "execute_result",
          "data": {
            "text/plain": [
              "[0.9835,\n",
              " 0.9835,\n",
              " 0.9834999999999999,\n",
              " 0.985,\n",
              " 0.9855,\n",
              " 0.9835,\n",
              " 0.9839999999999998,\n",
              " 0.9845,\n",
              " 0.9825000000000002,\n",
              " 0.9834999999999999,\n",
              " 0.9824999999999999,\n",
              " 0.9825000000000002,\n",
              " 0.984,\n",
              " 0.984,\n",
              " 0.9834999999999999,\n",
              " 0.984,\n",
              " 0.9845,\n",
              " 0.9844999999999999,\n",
              " 0.9844999999999999,\n",
              " 0.9839999999999998,\n",
              " 0.9835,\n",
              " 0.9845,\n",
              " 0.9844999999999999,\n",
              " 0.9870000000000001,\n",
              " 0.9834999999999999,\n",
              " 0.982,\n",
              " 0.9825000000000002,\n",
              " 0.9850000000000001,\n",
              " 0.983,\n",
              " 0.986]"
            ]
          },
          "metadata": {
            "tags": []
          },
          "execution_count": 57
        }
      ]
    },
    {
      "cell_type": "code",
      "metadata": {
        "colab": {
          "base_uri": "https://localhost:8080/"
        },
        "id": "-nb8iVZaIc6K",
        "outputId": "61e5d602-ebb9-4b37-d1e7-f6537b4757ef"
      },
      "source": [
        "len(resultados_svm)"
      ],
      "execution_count": null,
      "outputs": [
        {
          "output_type": "execute_result",
          "data": {
            "text/plain": [
              "30"
            ]
          },
          "metadata": {
            "tags": []
          },
          "execution_count": 58
        }
      ]
    },
    {
      "cell_type": "code",
      "metadata": {
        "colab": {
          "base_uri": "https://localhost:8080/"
        },
        "id": "nLbKEcROIgQ0",
        "outputId": "87b3516d-8651-4f67-82b5-050ddc571c1d"
      },
      "source": [
        "#a acurácia média do algoritmo SVM é dada por:\n",
        "soma=0\n",
        "media=0\n",
        "for i in resultados_svm:\n",
        "  soma=soma+float(i)\n",
        "media=soma/len(resultados_svm)\n",
        "print(media)"
      ],
      "execution_count": null,
      "outputs": [
        {
          "output_type": "stream",
          "text": [
            "0.9839499999999999\n"
          ],
          "name": "stdout"
        }
      ]
    },
    {
      "cell_type": "markdown",
      "metadata": {
        "id": "sjXmLZW0Iypz"
      },
      "source": [
        "**Validação cruzada com redes neurais**"
      ]
    },
    {
      "cell_type": "code",
      "metadata": {
        "colab": {
          "base_uri": "https://localhost:8080/"
        },
        "id": "KGA176OXJDGQ",
        "outputId": "9a709238-86a0-4688-c037-32c9b368d314"
      },
      "source": [
        "for i in range(30):\n",
        "  kfold=KFold(n_splits=10,shuffle=True,random_state=i)\n",
        "  neural = MLPClassifier(activation='relu',batch_size=10,hidden_layer_sizes=(50,50),max_iter=1000,solver='sgd',tol=0.0001)\n",
        "  score = cross_val_score(neural,x_credit,y_credit,cv=kfold)\n",
        "  resultados_neural.append(score.mean())"
      ],
      "execution_count": null,
      "outputs": [
        {
          "output_type": "stream",
          "text": [
            "/usr/local/lib/python3.7/dist-packages/sklearn/neural_network/_multilayer_perceptron.py:573: UserWarning: Training interrupted by user.\n",
            "  warnings.warn(\"Training interrupted by user.\")\n",
            "/usr/local/lib/python3.7/dist-packages/sklearn/neural_network/_multilayer_perceptron.py:573: UserWarning: Training interrupted by user.\n",
            "  warnings.warn(\"Training interrupted by user.\")\n",
            "/usr/local/lib/python3.7/dist-packages/sklearn/neural_network/_multilayer_perceptron.py:573: UserWarning: Training interrupted by user.\n",
            "  warnings.warn(\"Training interrupted by user.\")\n"
          ],
          "name": "stderr"
        }
      ]
    },
    {
      "cell_type": "code",
      "metadata": {
        "id": "jf6pChbHl4CN",
        "outputId": "41e5853d-e86a-4eda-b510-5501b031c985",
        "colab": {
          "base_uri": "https://localhost:8080/"
        }
      },
      "source": [
        "x_credit_treinamento.shape"
      ],
      "execution_count": null,
      "outputs": [
        {
          "output_type": "execute_result",
          "data": {
            "text/plain": [
              "(1500, 3)"
            ]
          },
          "metadata": {
            "tags": []
          },
          "execution_count": 4
        }
      ]
    }
  ]
}