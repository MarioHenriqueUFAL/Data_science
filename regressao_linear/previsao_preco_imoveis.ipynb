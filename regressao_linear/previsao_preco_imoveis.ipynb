{
  "cells": [
    {
      "cell_type": "markdown",
      "metadata": {
        "id": "FDi2LxVs4hes"
      },
      "source": [
        "<h1 style='color: green; font-size: 36px; font-weight: bold;'>Data Science - Regressão Linear</h1>"
      ]
    },
    {
      "cell_type": "markdown",
      "metadata": {
        "id": "vPEbyNBU4hey"
      },
      "source": [
        "# <font color='red' style='font-size: 30px;'>Conhecendo o Dataset</font>\n",
        "<hr style='border: 2px solid red;'>"
      ]
    },
    {
      "cell_type": "markdown",
      "metadata": {
        "id": "S0FbSNjO4hez"
      },
      "source": [
        "## Importando bibliotecas"
      ]
    },
    {
      "cell_type": "code",
      "execution_count": 2,
      "metadata": {
        "id": "5uZKcE-p4hez"
      },
      "outputs": [],
      "source": [
        "import pandas as pd\n",
        "import matplotlib.pyplot as plt\n",
        "import seaborn as sns\n",
        "import numpy as np"
      ]
    },
    {
      "cell_type": "markdown",
      "metadata": {
        "id": "gK9akOrB4he0"
      },
      "source": [
        "## O Dataset e o Projeto\n",
        "<hr>\n",
        "\n",
        "### Fonte: https://www.kaggle.com/greenwing1985/housepricing\n",
        "\n",
        "### Descrição:\n",
        "<p style='font-size: 18px; line-height: 2; margin: 10px 50px; text-align: justify;'>Nosso objetivo neste exercício é criar um modelo de machine learning, utilizando a técnica de Regressão Linear, que faça previsões sobre os preços de imóveis a partir de um conjunto de características conhecidas dos imóveis.</p>\n",
        "\n",
        "<p style='font-size: 18px; line-height: 2; margin: 10px 50px; text-align: justify;'>Vamos utilizar um dataset disponível no Kaggle que foi gerado por computador para treinamento de machine learning para iniciantes. Este dataset foi modificado para facilitar o nosso objetivo, que é fixar o conhecimento adquirido no treinamento de Regressão Linear.</p>\n",
        "\n",
        "<p style='font-size: 18px; line-height: 2; margin: 10px 50px; text-align: justify;'>Siga os passos propostos nos comentários acima de cada célula e bons estudos.</p>\n",
        "\n",
        "### Dados:\n",
        "<ul style='font-size: 18px; line-height: 2; text-align: justify;'>\n",
        "    <li><b>precos</b> - Preços dos imóveis</li>\n",
        "    <li><b>area</b> - Área do imóvel</li>\n",
        "    <li><b>garagem</b> - Número de vagas de garagem</li>\n",
        "    <li><b>banheiros</b> - Número de banheiros</li>\n",
        "    <li><b>lareira</b> - Número de lareiras</li>\n",
        "    <li><b>marmore</b> - Se o imóvel possui acabamento em mármore branco (1) ou não (0)</li>\n",
        "    <li><b>andares</b> - Se o imóvel possui mais de um andar (1) ou não (0)</li>\n",
        "</ul>"
      ]
    },
    {
      "cell_type": "markdown",
      "source": [
        "Observação:\n",
        "\n",
        "Os dados originais foram modificados para simplificar o trabalho."
      ],
      "metadata": {
        "id": "WgDxqW8ghUPd"
      }
    },
    {
      "cell_type": "markdown",
      "metadata": {
        "id": "2mAE8LtI4he1"
      },
      "source": [
        "## Leitura dos dados\n",
        "\n",
        "Dataset está na pasta \"Dados\" com o nome \"HousePrices_HalfMil.csv\" em usa como separador \";\"."
      ]
    },
    {
      "cell_type": "code",
      "execution_count": 3,
      "metadata": {
        "colab": {
          "base_uri": "https://localhost:8080/",
          "height": 363
        },
        "id": "roDOZik84he1",
        "outputId": "52cfb247-383b-481c-a27e-8f042e24fa86"
      },
      "outputs": [
        {
          "output_type": "execute_result",
          "data": {
            "text/plain": [
              "   precos  area  garagem  banheiros  lareira  marmore  andares\n",
              "0   51875    25        3          4        3        0        1\n",
              "1   17875    35        1          3        1        0        0\n",
              "2   47075   195        2          4        2        0        0\n",
              "3   38575    33        2          2        1        0        1\n",
              "4   33775    11        2          3        0        0        1\n",
              "5   35450   148        2          5        2        0        0\n",
              "6   52025   211        2          3        2        1        0\n",
              "7   37550   172        2          2        3        1        0\n",
              "8   31500    62        1          4        2        0        0\n",
              "9   37650   218        3          1        0        1        0"
            ],
            "text/html": [
              "\n",
              "  <div id=\"df-f4d09bb2-a6a1-4e3f-9107-fccd60411185\">\n",
              "    <div class=\"colab-df-container\">\n",
              "      <div>\n",
              "<style scoped>\n",
              "    .dataframe tbody tr th:only-of-type {\n",
              "        vertical-align: middle;\n",
              "    }\n",
              "\n",
              "    .dataframe tbody tr th {\n",
              "        vertical-align: top;\n",
              "    }\n",
              "\n",
              "    .dataframe thead th {\n",
              "        text-align: right;\n",
              "    }\n",
              "</style>\n",
              "<table border=\"1\" class=\"dataframe\">\n",
              "  <thead>\n",
              "    <tr style=\"text-align: right;\">\n",
              "      <th></th>\n",
              "      <th>precos</th>\n",
              "      <th>area</th>\n",
              "      <th>garagem</th>\n",
              "      <th>banheiros</th>\n",
              "      <th>lareira</th>\n",
              "      <th>marmore</th>\n",
              "      <th>andares</th>\n",
              "    </tr>\n",
              "  </thead>\n",
              "  <tbody>\n",
              "    <tr>\n",
              "      <th>0</th>\n",
              "      <td>51875</td>\n",
              "      <td>25</td>\n",
              "      <td>3</td>\n",
              "      <td>4</td>\n",
              "      <td>3</td>\n",
              "      <td>0</td>\n",
              "      <td>1</td>\n",
              "    </tr>\n",
              "    <tr>\n",
              "      <th>1</th>\n",
              "      <td>17875</td>\n",
              "      <td>35</td>\n",
              "      <td>1</td>\n",
              "      <td>3</td>\n",
              "      <td>1</td>\n",
              "      <td>0</td>\n",
              "      <td>0</td>\n",
              "    </tr>\n",
              "    <tr>\n",
              "      <th>2</th>\n",
              "      <td>47075</td>\n",
              "      <td>195</td>\n",
              "      <td>2</td>\n",
              "      <td>4</td>\n",
              "      <td>2</td>\n",
              "      <td>0</td>\n",
              "      <td>0</td>\n",
              "    </tr>\n",
              "    <tr>\n",
              "      <th>3</th>\n",
              "      <td>38575</td>\n",
              "      <td>33</td>\n",
              "      <td>2</td>\n",
              "      <td>2</td>\n",
              "      <td>1</td>\n",
              "      <td>0</td>\n",
              "      <td>1</td>\n",
              "    </tr>\n",
              "    <tr>\n",
              "      <th>4</th>\n",
              "      <td>33775</td>\n",
              "      <td>11</td>\n",
              "      <td>2</td>\n",
              "      <td>3</td>\n",
              "      <td>0</td>\n",
              "      <td>0</td>\n",
              "      <td>1</td>\n",
              "    </tr>\n",
              "    <tr>\n",
              "      <th>5</th>\n",
              "      <td>35450</td>\n",
              "      <td>148</td>\n",
              "      <td>2</td>\n",
              "      <td>5</td>\n",
              "      <td>2</td>\n",
              "      <td>0</td>\n",
              "      <td>0</td>\n",
              "    </tr>\n",
              "    <tr>\n",
              "      <th>6</th>\n",
              "      <td>52025</td>\n",
              "      <td>211</td>\n",
              "      <td>2</td>\n",
              "      <td>3</td>\n",
              "      <td>2</td>\n",
              "      <td>1</td>\n",
              "      <td>0</td>\n",
              "    </tr>\n",
              "    <tr>\n",
              "      <th>7</th>\n",
              "      <td>37550</td>\n",
              "      <td>172</td>\n",
              "      <td>2</td>\n",
              "      <td>2</td>\n",
              "      <td>3</td>\n",
              "      <td>1</td>\n",
              "      <td>0</td>\n",
              "    </tr>\n",
              "    <tr>\n",
              "      <th>8</th>\n",
              "      <td>31500</td>\n",
              "      <td>62</td>\n",
              "      <td>1</td>\n",
              "      <td>4</td>\n",
              "      <td>2</td>\n",
              "      <td>0</td>\n",
              "      <td>0</td>\n",
              "    </tr>\n",
              "    <tr>\n",
              "      <th>9</th>\n",
              "      <td>37650</td>\n",
              "      <td>218</td>\n",
              "      <td>3</td>\n",
              "      <td>1</td>\n",
              "      <td>0</td>\n",
              "      <td>1</td>\n",
              "      <td>0</td>\n",
              "    </tr>\n",
              "  </tbody>\n",
              "</table>\n",
              "</div>\n",
              "      <button class=\"colab-df-convert\" onclick=\"convertToInteractive('df-f4d09bb2-a6a1-4e3f-9107-fccd60411185')\"\n",
              "              title=\"Convert this dataframe to an interactive table.\"\n",
              "              style=\"display:none;\">\n",
              "        \n",
              "  <svg xmlns=\"http://www.w3.org/2000/svg\" height=\"24px\"viewBox=\"0 0 24 24\"\n",
              "       width=\"24px\">\n",
              "    <path d=\"M0 0h24v24H0V0z\" fill=\"none\"/>\n",
              "    <path d=\"M18.56 5.44l.94 2.06.94-2.06 2.06-.94-2.06-.94-.94-2.06-.94 2.06-2.06.94zm-11 1L8.5 8.5l.94-2.06 2.06-.94-2.06-.94L8.5 2.5l-.94 2.06-2.06.94zm10 10l.94 2.06.94-2.06 2.06-.94-2.06-.94-.94-2.06-.94 2.06-2.06.94z\"/><path d=\"M17.41 7.96l-1.37-1.37c-.4-.4-.92-.59-1.43-.59-.52 0-1.04.2-1.43.59L10.3 9.45l-7.72 7.72c-.78.78-.78 2.05 0 2.83L4 21.41c.39.39.9.59 1.41.59.51 0 1.02-.2 1.41-.59l7.78-7.78 2.81-2.81c.8-.78.8-2.07 0-2.86zM5.41 20L4 18.59l7.72-7.72 1.47 1.35L5.41 20z\"/>\n",
              "  </svg>\n",
              "      </button>\n",
              "      \n",
              "  <style>\n",
              "    .colab-df-container {\n",
              "      display:flex;\n",
              "      flex-wrap:wrap;\n",
              "      gap: 12px;\n",
              "    }\n",
              "\n",
              "    .colab-df-convert {\n",
              "      background-color: #E8F0FE;\n",
              "      border: none;\n",
              "      border-radius: 50%;\n",
              "      cursor: pointer;\n",
              "      display: none;\n",
              "      fill: #1967D2;\n",
              "      height: 32px;\n",
              "      padding: 0 0 0 0;\n",
              "      width: 32px;\n",
              "    }\n",
              "\n",
              "    .colab-df-convert:hover {\n",
              "      background-color: #E2EBFA;\n",
              "      box-shadow: 0px 1px 2px rgba(60, 64, 67, 0.3), 0px 1px 3px 1px rgba(60, 64, 67, 0.15);\n",
              "      fill: #174EA6;\n",
              "    }\n",
              "\n",
              "    [theme=dark] .colab-df-convert {\n",
              "      background-color: #3B4455;\n",
              "      fill: #D2E3FC;\n",
              "    }\n",
              "\n",
              "    [theme=dark] .colab-df-convert:hover {\n",
              "      background-color: #434B5C;\n",
              "      box-shadow: 0px 1px 3px 1px rgba(0, 0, 0, 0.15);\n",
              "      filter: drop-shadow(0px 1px 2px rgba(0, 0, 0, 0.3));\n",
              "      fill: #FFFFFF;\n",
              "    }\n",
              "  </style>\n",
              "\n",
              "      <script>\n",
              "        const buttonEl =\n",
              "          document.querySelector('#df-f4d09bb2-a6a1-4e3f-9107-fccd60411185 button.colab-df-convert');\n",
              "        buttonEl.style.display =\n",
              "          google.colab.kernel.accessAllowed ? 'block' : 'none';\n",
              "\n",
              "        async function convertToInteractive(key) {\n",
              "          const element = document.querySelector('#df-f4d09bb2-a6a1-4e3f-9107-fccd60411185');\n",
              "          const dataTable =\n",
              "            await google.colab.kernel.invokeFunction('convertToInteractive',\n",
              "                                                     [key], {});\n",
              "          if (!dataTable) return;\n",
              "\n",
              "          const docLinkHtml = 'Like what you see? Visit the ' +\n",
              "            '<a target=\"_blank\" href=https://colab.research.google.com/notebooks/data_table.ipynb>data table notebook</a>'\n",
              "            + ' to learn more about interactive tables.';\n",
              "          element.innerHTML = '';\n",
              "          dataTable['output_type'] = 'display_data';\n",
              "          await google.colab.output.renderOutput(dataTable, element);\n",
              "          const docLink = document.createElement('div');\n",
              "          docLink.innerHTML = docLinkHtml;\n",
              "          element.appendChild(docLink);\n",
              "        }\n",
              "      </script>\n",
              "    </div>\n",
              "  </div>\n",
              "  "
            ]
          },
          "metadata": {},
          "execution_count": 3
        }
      ],
      "source": [
        "#importando os dados, temos:\n",
        "base_dados = pd.read_csv('HousePrices_HalfMil.csv', sep = ';')\n",
        "base_dados.head(10)"
      ]
    },
    {
      "cell_type": "code",
      "source": [
        "base_dados.info()"
      ],
      "metadata": {
        "colab": {
          "base_uri": "https://localhost:8080/"
        },
        "id": "f2JNqEMa9RBL",
        "outputId": "fc8bb04e-d2b9-4753-98ae-7fc164b9146e"
      },
      "execution_count": 4,
      "outputs": [
        {
          "output_type": "stream",
          "name": "stdout",
          "text": [
            "<class 'pandas.core.frame.DataFrame'>\n",
            "RangeIndex: 1000 entries, 0 to 999\n",
            "Data columns (total 7 columns):\n",
            " #   Column     Non-Null Count  Dtype\n",
            "---  ------     --------------  -----\n",
            " 0   precos     1000 non-null   int64\n",
            " 1   area       1000 non-null   int64\n",
            " 2   garagem    1000 non-null   int64\n",
            " 3   banheiros  1000 non-null   int64\n",
            " 4   lareira    1000 non-null   int64\n",
            " 5   marmore    1000 non-null   int64\n",
            " 6   andares    1000 non-null   int64\n",
            "dtypes: int64(7)\n",
            "memory usage: 54.8 KB\n"
          ]
        }
      ]
    },
    {
      "cell_type": "code",
      "source": [
        "base_dados['garagem'].value_counts()"
      ],
      "metadata": {
        "colab": {
          "base_uri": "https://localhost:8080/"
        },
        "id": "vsIECYTOBKSn",
        "outputId": "833f7807-516c-4889-cc29-c85067b0d3d5"
      },
      "execution_count": 14,
      "outputs": [
        {
          "output_type": "execute_result",
          "data": {
            "text/plain": [
              "2    339\n",
              "3    335\n",
              "1    326\n",
              "Name: garagem, dtype: int64"
            ]
          },
          "metadata": {},
          "execution_count": 14
        }
      ]
    },
    {
      "cell_type": "code",
      "source": [
        "base_dados['banheiros'].value_counts()"
      ],
      "metadata": {
        "colab": {
          "base_uri": "https://localhost:8080/"
        },
        "id": "sUyQdDChBWOs",
        "outputId": "2fe45eef-40a6-437d-fa6d-b1feaed0947d"
      },
      "execution_count": 15,
      "outputs": [
        {
          "output_type": "execute_result",
          "data": {
            "text/plain": [
              "4    232\n",
              "1    216\n",
              "5    191\n",
              "2    182\n",
              "3    179\n",
              "Name: banheiros, dtype: int64"
            ]
          },
          "metadata": {},
          "execution_count": 15
        }
      ]
    },
    {
      "cell_type": "code",
      "source": [
        "base_dados['lareira'].value_counts()"
      ],
      "metadata": {
        "colab": {
          "base_uri": "https://localhost:8080/"
        },
        "id": "pFW8OmjoBcde",
        "outputId": "fc8b0a0e-1567-48f0-93a6-297d6a0b0728"
      },
      "execution_count": 16,
      "outputs": [
        {
          "output_type": "execute_result",
          "data": {
            "text/plain": [
              "3    210\n",
              "4    205\n",
              "0    198\n",
              "2    197\n",
              "1    190\n",
              "Name: lareira, dtype: int64"
            ]
          },
          "metadata": {},
          "execution_count": 16
        }
      ]
    },
    {
      "cell_type": "code",
      "source": [
        "base_dados['marmore'].value_counts()"
      ],
      "metadata": {
        "colab": {
          "base_uri": "https://localhost:8080/"
        },
        "id": "ZCP-FyHcBhy7",
        "outputId": "5573c24a-3d05-4124-bfa2-3ef933915723"
      },
      "execution_count": 18,
      "outputs": [
        {
          "output_type": "execute_result",
          "data": {
            "text/plain": [
              "0    669\n",
              "1    331\n",
              "Name: marmore, dtype: int64"
            ]
          },
          "metadata": {},
          "execution_count": 18
        }
      ]
    },
    {
      "cell_type": "code",
      "source": [
        "base_dados['andares'].value_counts()"
      ],
      "metadata": {
        "colab": {
          "base_uri": "https://localhost:8080/"
        },
        "id": "LubNMrhfBmk6",
        "outputId": "72a1e26e-979b-4fa8-c40a-2518d1282cdd"
      },
      "execution_count": 19,
      "outputs": [
        {
          "output_type": "execute_result",
          "data": {
            "text/plain": [
              "0    515\n",
              "1    485\n",
              "Name: andares, dtype: int64"
            ]
          },
          "metadata": {},
          "execution_count": 19
        }
      ]
    },
    {
      "cell_type": "code",
      "source": [
        "base_dados.describe()"
      ],
      "metadata": {
        "colab": {
          "base_uri": "https://localhost:8080/",
          "height": 300
        },
        "id": "-O0U5GSS9lkp",
        "outputId": "52872f32-4354-405d-a3bc-9ce9fe873d56"
      },
      "execution_count": 5,
      "outputs": [
        {
          "output_type": "execute_result",
          "data": {
            "text/plain": [
              "             precos         area      garagem    banheiros      lareira  \\\n",
              "count   1000.000000  1000.000000  1000.000000  1000.000000  1000.000000   \n",
              "mean   41985.600000   124.326000     2.009000     3.000000     2.034000   \n",
              "std    12140.385408    72.389972     0.813376     1.429701     1.418752   \n",
              "min    13150.000000     1.000000     1.000000     1.000000     0.000000   \n",
              "25%    33112.500000    60.750000     1.000000     2.000000     1.000000   \n",
              "50%    41725.000000   123.000000     2.000000     3.000000     2.000000   \n",
              "75%    51175.000000   187.000000     3.000000     4.000000     3.000000   \n",
              "max    73675.000000   249.000000     3.000000     5.000000     4.000000   \n",
              "\n",
              "           marmore      andares  \n",
              "count  1000.000000  1000.000000  \n",
              "mean      0.331000     0.485000  \n",
              "std       0.470809     0.500025  \n",
              "min       0.000000     0.000000  \n",
              "25%       0.000000     0.000000  \n",
              "50%       0.000000     0.000000  \n",
              "75%       1.000000     1.000000  \n",
              "max       1.000000     1.000000  "
            ],
            "text/html": [
              "\n",
              "  <div id=\"df-dfd17fa1-4074-4339-afbd-44c47333c3eb\">\n",
              "    <div class=\"colab-df-container\">\n",
              "      <div>\n",
              "<style scoped>\n",
              "    .dataframe tbody tr th:only-of-type {\n",
              "        vertical-align: middle;\n",
              "    }\n",
              "\n",
              "    .dataframe tbody tr th {\n",
              "        vertical-align: top;\n",
              "    }\n",
              "\n",
              "    .dataframe thead th {\n",
              "        text-align: right;\n",
              "    }\n",
              "</style>\n",
              "<table border=\"1\" class=\"dataframe\">\n",
              "  <thead>\n",
              "    <tr style=\"text-align: right;\">\n",
              "      <th></th>\n",
              "      <th>precos</th>\n",
              "      <th>area</th>\n",
              "      <th>garagem</th>\n",
              "      <th>banheiros</th>\n",
              "      <th>lareira</th>\n",
              "      <th>marmore</th>\n",
              "      <th>andares</th>\n",
              "    </tr>\n",
              "  </thead>\n",
              "  <tbody>\n",
              "    <tr>\n",
              "      <th>count</th>\n",
              "      <td>1000.000000</td>\n",
              "      <td>1000.000000</td>\n",
              "      <td>1000.000000</td>\n",
              "      <td>1000.000000</td>\n",
              "      <td>1000.000000</td>\n",
              "      <td>1000.000000</td>\n",
              "      <td>1000.000000</td>\n",
              "    </tr>\n",
              "    <tr>\n",
              "      <th>mean</th>\n",
              "      <td>41985.600000</td>\n",
              "      <td>124.326000</td>\n",
              "      <td>2.009000</td>\n",
              "      <td>3.000000</td>\n",
              "      <td>2.034000</td>\n",
              "      <td>0.331000</td>\n",
              "      <td>0.485000</td>\n",
              "    </tr>\n",
              "    <tr>\n",
              "      <th>std</th>\n",
              "      <td>12140.385408</td>\n",
              "      <td>72.389972</td>\n",
              "      <td>0.813376</td>\n",
              "      <td>1.429701</td>\n",
              "      <td>1.418752</td>\n",
              "      <td>0.470809</td>\n",
              "      <td>0.500025</td>\n",
              "    </tr>\n",
              "    <tr>\n",
              "      <th>min</th>\n",
              "      <td>13150.000000</td>\n",
              "      <td>1.000000</td>\n",
              "      <td>1.000000</td>\n",
              "      <td>1.000000</td>\n",
              "      <td>0.000000</td>\n",
              "      <td>0.000000</td>\n",
              "      <td>0.000000</td>\n",
              "    </tr>\n",
              "    <tr>\n",
              "      <th>25%</th>\n",
              "      <td>33112.500000</td>\n",
              "      <td>60.750000</td>\n",
              "      <td>1.000000</td>\n",
              "      <td>2.000000</td>\n",
              "      <td>1.000000</td>\n",
              "      <td>0.000000</td>\n",
              "      <td>0.000000</td>\n",
              "    </tr>\n",
              "    <tr>\n",
              "      <th>50%</th>\n",
              "      <td>41725.000000</td>\n",
              "      <td>123.000000</td>\n",
              "      <td>2.000000</td>\n",
              "      <td>3.000000</td>\n",
              "      <td>2.000000</td>\n",
              "      <td>0.000000</td>\n",
              "      <td>0.000000</td>\n",
              "    </tr>\n",
              "    <tr>\n",
              "      <th>75%</th>\n",
              "      <td>51175.000000</td>\n",
              "      <td>187.000000</td>\n",
              "      <td>3.000000</td>\n",
              "      <td>4.000000</td>\n",
              "      <td>3.000000</td>\n",
              "      <td>1.000000</td>\n",
              "      <td>1.000000</td>\n",
              "    </tr>\n",
              "    <tr>\n",
              "      <th>max</th>\n",
              "      <td>73675.000000</td>\n",
              "      <td>249.000000</td>\n",
              "      <td>3.000000</td>\n",
              "      <td>5.000000</td>\n",
              "      <td>4.000000</td>\n",
              "      <td>1.000000</td>\n",
              "      <td>1.000000</td>\n",
              "    </tr>\n",
              "  </tbody>\n",
              "</table>\n",
              "</div>\n",
              "      <button class=\"colab-df-convert\" onclick=\"convertToInteractive('df-dfd17fa1-4074-4339-afbd-44c47333c3eb')\"\n",
              "              title=\"Convert this dataframe to an interactive table.\"\n",
              "              style=\"display:none;\">\n",
              "        \n",
              "  <svg xmlns=\"http://www.w3.org/2000/svg\" height=\"24px\"viewBox=\"0 0 24 24\"\n",
              "       width=\"24px\">\n",
              "    <path d=\"M0 0h24v24H0V0z\" fill=\"none\"/>\n",
              "    <path d=\"M18.56 5.44l.94 2.06.94-2.06 2.06-.94-2.06-.94-.94-2.06-.94 2.06-2.06.94zm-11 1L8.5 8.5l.94-2.06 2.06-.94-2.06-.94L8.5 2.5l-.94 2.06-2.06.94zm10 10l.94 2.06.94-2.06 2.06-.94-2.06-.94-.94-2.06-.94 2.06-2.06.94z\"/><path d=\"M17.41 7.96l-1.37-1.37c-.4-.4-.92-.59-1.43-.59-.52 0-1.04.2-1.43.59L10.3 9.45l-7.72 7.72c-.78.78-.78 2.05 0 2.83L4 21.41c.39.39.9.59 1.41.59.51 0 1.02-.2 1.41-.59l7.78-7.78 2.81-2.81c.8-.78.8-2.07 0-2.86zM5.41 20L4 18.59l7.72-7.72 1.47 1.35L5.41 20z\"/>\n",
              "  </svg>\n",
              "      </button>\n",
              "      \n",
              "  <style>\n",
              "    .colab-df-container {\n",
              "      display:flex;\n",
              "      flex-wrap:wrap;\n",
              "      gap: 12px;\n",
              "    }\n",
              "\n",
              "    .colab-df-convert {\n",
              "      background-color: #E8F0FE;\n",
              "      border: none;\n",
              "      border-radius: 50%;\n",
              "      cursor: pointer;\n",
              "      display: none;\n",
              "      fill: #1967D2;\n",
              "      height: 32px;\n",
              "      padding: 0 0 0 0;\n",
              "      width: 32px;\n",
              "    }\n",
              "\n",
              "    .colab-df-convert:hover {\n",
              "      background-color: #E2EBFA;\n",
              "      box-shadow: 0px 1px 2px rgba(60, 64, 67, 0.3), 0px 1px 3px 1px rgba(60, 64, 67, 0.15);\n",
              "      fill: #174EA6;\n",
              "    }\n",
              "\n",
              "    [theme=dark] .colab-df-convert {\n",
              "      background-color: #3B4455;\n",
              "      fill: #D2E3FC;\n",
              "    }\n",
              "\n",
              "    [theme=dark] .colab-df-convert:hover {\n",
              "      background-color: #434B5C;\n",
              "      box-shadow: 0px 1px 3px 1px rgba(0, 0, 0, 0.15);\n",
              "      filter: drop-shadow(0px 1px 2px rgba(0, 0, 0, 0.3));\n",
              "      fill: #FFFFFF;\n",
              "    }\n",
              "  </style>\n",
              "\n",
              "      <script>\n",
              "        const buttonEl =\n",
              "          document.querySelector('#df-dfd17fa1-4074-4339-afbd-44c47333c3eb button.colab-df-convert');\n",
              "        buttonEl.style.display =\n",
              "          google.colab.kernel.accessAllowed ? 'block' : 'none';\n",
              "\n",
              "        async function convertToInteractive(key) {\n",
              "          const element = document.querySelector('#df-dfd17fa1-4074-4339-afbd-44c47333c3eb');\n",
              "          const dataTable =\n",
              "            await google.colab.kernel.invokeFunction('convertToInteractive',\n",
              "                                                     [key], {});\n",
              "          if (!dataTable) return;\n",
              "\n",
              "          const docLinkHtml = 'Like what you see? Visit the ' +\n",
              "            '<a target=\"_blank\" href=https://colab.research.google.com/notebooks/data_table.ipynb>data table notebook</a>'\n",
              "            + ' to learn more about interactive tables.';\n",
              "          element.innerHTML = '';\n",
              "          dataTable['output_type'] = 'display_data';\n",
              "          await google.colab.output.renderOutput(dataTable, element);\n",
              "          const docLink = document.createElement('div');\n",
              "          docLink.innerHTML = docLinkHtml;\n",
              "          element.appendChild(docLink);\n",
              "        }\n",
              "      </script>\n",
              "    </div>\n",
              "  </div>\n",
              "  "
            ]
          },
          "metadata": {},
          "execution_count": 5
        }
      ]
    },
    {
      "cell_type": "markdown",
      "source": [
        "Como podemos verificar, não temos valores nulos na base de dados. Portanto, não precisamos fazer um tratamento para os valores faltantes."
      ],
      "metadata": {
        "id": "8Ah8rJ709cJt"
      }
    },
    {
      "cell_type": "markdown",
      "metadata": {
        "id": "C9X3O6ts4he1"
      },
      "source": [
        "## Visualizar os dados"
      ]
    },
    {
      "cell_type": "markdown",
      "source": [
        "Para visualizar os dados, podemos construir distribuições de frequência para as variáveis 'preços', 'area', 'garagem', 'banheiros' e 'lareira' para verificar as distribuições dos dados."
      ],
      "metadata": {
        "id": "GSj0tAzQ-wOy"
      }
    },
    {
      "cell_type": "code",
      "execution_count": 6,
      "metadata": {
        "scrolled": true,
        "colab": {
          "base_uri": "https://localhost:8080/",
          "height": 431
        },
        "id": "j9W4BVVw4he2",
        "outputId": "da63e5b6-89c6-4972-9b06-93a70da5a5ce"
      },
      "outputs": [
        {
          "output_type": "execute_result",
          "data": {
            "text/plain": [
              "<matplotlib.axes._subplots.AxesSubplot at 0x7f7d026b93d0>"
            ]
          },
          "metadata": {},
          "execution_count": 6
        },
        {
          "output_type": "display_data",
          "data": {
            "text/plain": [
              "<Figure size 864x432 with 1 Axes>"
            ],
            "image/png": "[encoded data removed]"
          },
          "metadata": {
            "needs_background": "light"
          }
        }
      ],
      "source": [
        "#Construindo um histograma para observar graficamente a distribuição dos dados de preços, temos:\n",
        "\n",
        "ax = sns.histplot(data = base_dados['precos'], stat = 'proportion',kde = True)\n",
        "ax.figure.set_size_inches(12,6)\n",
        "ax.set_title('Histograma de frequências relativas -  preços de imóveis', fontsize = 18)\n",
        "ax.set_xlabel('Preços ($)', fontsize = 14)\n",
        "ax.set_ylabel('Frequência relativa', fontsize = 14)\n",
        "ax"
      ]
    },
    {
      "cell_type": "code",
      "source": [
        "#Construindo um histograma para observar graficamente a distribuição dos dados de area, temos:\n",
        "\n",
        "ax = sns.histplot(data = base_dados['area'], stat = 'proportion',kde = True)\n",
        "ax.figure.set_size_inches(12,6)\n",
        "ax.set_title('Histograma de frequências relativas -  área de imóveis', fontsize = 18)\n",
        "ax.set_xlabel('m²', fontsize = 14)\n",
        "ax.set_ylabel('Frequência relativa', fontsize = 14)\n",
        "ax"
      ],
      "metadata": {
        "colab": {
          "base_uri": "https://localhost:8080/",
          "height": 431
        },
        "id": "NyBIu2L3ALed",
        "outputId": "93f84766-aefd-4e89-8be6-9456f6c34a2a"
      },
      "execution_count": 7,
      "outputs": [
        {
          "output_type": "execute_result",
          "data": {
            "text/plain": [
              "<matplotlib.axes._subplots.AxesSubplot at 0x7f7cffa59150>"
            ]
          },
          "metadata": {},
          "execution_count": 7
        },
        {
          "output_type": "display_data",
          "data": {
            "text/plain": [
              "<Figure size 864x432 with 1 Axes>"
            ],
            "image/png": "[encoded data removed]"
          },
          "metadata": {
            "needs_background": "light"
          }
        }
      ]
    },
    {
      "cell_type": "markdown",
      "source": [
        "A partir das distribuições de frequência acima, foi possível fazer uma inspeção visual da distribuição dos dados de preços e áreas de imóveis a venda."
      ],
      "metadata": {
        "id": "XpLL0Y1LAnNp"
      }
    },
    {
      "cell_type": "markdown",
      "metadata": {
        "id": "IAGbhlJk4he2"
      },
      "source": [
        "## Verificando o tamanho do dataset"
      ]
    },
    {
      "cell_type": "code",
      "execution_count": 9,
      "metadata": {
        "colab": {
          "base_uri": "https://localhost:8080/"
        },
        "id": "YomXIgra4he3",
        "outputId": "b594767c-ba77-4dc7-b4cb-4711dcbbccd3"
      },
      "outputs": [
        {
          "output_type": "execute_result",
          "data": {
            "text/plain": [
              "1000"
            ]
          },
          "metadata": {},
          "execution_count": 9
        }
      ],
      "source": [
        "#quantidade de dados\n",
        "base_dados.shape[0]"
      ]
    },
    {
      "cell_type": "code",
      "source": [
        "#quantidade de características\n",
        "base_dados.shape[1]"
      ],
      "metadata": {
        "colab": {
          "base_uri": "https://localhost:8080/"
        },
        "id": "93FiJ9ipA6K_",
        "outputId": "976b845c-f1a8-4139-cfbe-6a0b1e0ebbb2"
      },
      "execution_count": 10,
      "outputs": [
        {
          "output_type": "execute_result",
          "data": {
            "text/plain": [
              "7"
            ]
          },
          "metadata": {},
          "execution_count": 10
        }
      ]
    },
    {
      "cell_type": "markdown",
      "metadata": {
        "id": "N8HA3bd34he3"
      },
      "source": [
        "# <font color='red' style='font-size: 30px;'>Análises Preliminares</font>\n",
        "<hr style='border: 2px solid red;'>"
      ]
    },
    {
      "cell_type": "markdown",
      "metadata": {
        "id": "jPlc3yAY4he3"
      },
      "source": [
        "## Estatísticas descritivas"
      ]
    },
    {
      "cell_type": "code",
      "execution_count": 11,
      "metadata": {
        "colab": {
          "base_uri": "https://localhost:8080/",
          "height": 300
        },
        "id": "rEsW1LtM4he4",
        "outputId": "35ec5233-1266-4cab-936e-63b1464e7c8b"
      },
      "outputs": [
        {
          "output_type": "execute_result",
          "data": {
            "text/plain": [
              "             precos         area      garagem    banheiros      lareira  \\\n",
              "count   1000.000000  1000.000000  1000.000000  1000.000000  1000.000000   \n",
              "mean   41985.600000   124.326000     2.009000     3.000000     2.034000   \n",
              "std    12140.385408    72.389972     0.813376     1.429701     1.418752   \n",
              "min    13150.000000     1.000000     1.000000     1.000000     0.000000   \n",
              "25%    33112.500000    60.750000     1.000000     2.000000     1.000000   \n",
              "50%    41725.000000   123.000000     2.000000     3.000000     2.000000   \n",
              "75%    51175.000000   187.000000     3.000000     4.000000     3.000000   \n",
              "max    73675.000000   249.000000     3.000000     5.000000     4.000000   \n",
              "\n",
              "           marmore      andares  \n",
              "count  1000.000000  1000.000000  \n",
              "mean      0.331000     0.485000  \n",
              "std       0.470809     0.500025  \n",
              "min       0.000000     0.000000  \n",
              "25%       0.000000     0.000000  \n",
              "50%       0.000000     0.000000  \n",
              "75%       1.000000     1.000000  \n",
              "max       1.000000     1.000000  "
            ],
            "text/html": [
              "\n",
              "  <div id=\"df-00849b0a-321c-4377-be50-18ca9a4dc23e\">\n",
              "    <div class=\"colab-df-container\">\n",
              "      <div>\n",
              "<style scoped>\n",
              "    .dataframe tbody tr th:only-of-type {\n",
              "        vertical-align: middle;\n",
              "    }\n",
              "\n",
              "    .dataframe tbody tr th {\n",
              "        vertical-align: top;\n",
              "    }\n",
              "\n",
              "    .dataframe thead th {\n",
              "        text-align: right;\n",
              "    }\n",
              "</style>\n",
              "<table border=\"1\" class=\"dataframe\">\n",
              "  <thead>\n",
              "    <tr style=\"text-align: right;\">\n",
              "      <th></th>\n",
              "      <th>precos</th>\n",
              "      <th>area</th>\n",
              "      <th>garagem</th>\n",
              "      <th>banheiros</th>\n",
              "      <th>lareira</th>\n",
              "      <th>marmore</th>\n",
              "      <th>andares</th>\n",
              "    </tr>\n",
              "  </thead>\n",
              "  <tbody>\n",
              "    <tr>\n",
              "      <th>count</th>\n",
              "      <td>1000.000000</td>\n",
              "      <td>1000.000000</td>\n",
              "      <td>1000.000000</td>\n",
              "      <td>1000.000000</td>\n",
              "      <td>1000.000000</td>\n",
              "      <td>1000.000000</td>\n",
              "      <td>1000.000000</td>\n",
              "    </tr>\n",
              "    <tr>\n",
              "      <th>mean</th>\n",
              "      <td>41985.600000</td>\n",
              "      <td>124.326000</td>\n",
              "      <td>2.009000</td>\n",
              "      <td>3.000000</td>\n",
              "      <td>2.034000</td>\n",
              "      <td>0.331000</td>\n",
              "      <td>0.485000</td>\n",
              "    </tr>\n",
              "    <tr>\n",
              "      <th>std</th>\n",
              "      <td>12140.385408</td>\n",
              "      <td>72.389972</td>\n",
              "      <td>0.813376</td>\n",
              "      <td>1.429701</td>\n",
              "      <td>1.418752</td>\n",
              "      <td>0.470809</td>\n",
              "      <td>0.500025</td>\n",
              "    </tr>\n",
              "    <tr>\n",
              "      <th>min</th>\n",
              "      <td>13150.000000</td>\n",
              "      <td>1.000000</td>\n",
              "      <td>1.000000</td>\n",
              "      <td>1.000000</td>\n",
              "      <td>0.000000</td>\n",
              "      <td>0.000000</td>\n",
              "      <td>0.000000</td>\n",
              "    </tr>\n",
              "    <tr>\n",
              "      <th>25%</th>\n",
              "      <td>33112.500000</td>\n",
              "      <td>60.750000</td>\n",
              "      <td>1.000000</td>\n",
              "      <td>2.000000</td>\n",
              "      <td>1.000000</td>\n",
              "      <td>0.000000</td>\n",
              "      <td>0.000000</td>\n",
              "    </tr>\n",
              "    <tr>\n",
              "      <th>50%</th>\n",
              "      <td>41725.000000</td>\n",
              "      <td>123.000000</td>\n",
              "      <td>2.000000</td>\n",
              "      <td>3.000000</td>\n",
              "      <td>2.000000</td>\n",
              "      <td>0.000000</td>\n",
              "      <td>0.000000</td>\n",
              "    </tr>\n",
              "    <tr>\n",
              "      <th>75%</th>\n",
              "      <td>51175.000000</td>\n",
              "      <td>187.000000</td>\n",
              "      <td>3.000000</td>\n",
              "      <td>4.000000</td>\n",
              "      <td>3.000000</td>\n",
              "      <td>1.000000</td>\n",
              "      <td>1.000000</td>\n",
              "    </tr>\n",
              "    <tr>\n",
              "      <th>max</th>\n",
              "      <td>73675.000000</td>\n",
              "      <td>249.000000</td>\n",
              "      <td>3.000000</td>\n",
              "      <td>5.000000</td>\n",
              "      <td>4.000000</td>\n",
              "      <td>1.000000</td>\n",
              "      <td>1.000000</td>\n",
              "    </tr>\n",
              "  </tbody>\n",
              "</table>\n",
              "</div>\n",
              "      <button class=\"colab-df-convert\" onclick=\"convertToInteractive('df-00849b0a-321c-4377-be50-18ca9a4dc23e')\"\n",
              "              title=\"Convert this dataframe to an interactive table.\"\n",
              "              style=\"display:none;\">\n",
              "        \n",
              "  <svg xmlns=\"http://www.w3.org/2000/svg\" height=\"24px\"viewBox=\"0 0 24 24\"\n",
              "       width=\"24px\">\n",
              "    <path d=\"M0 0h24v24H0V0z\" fill=\"none\"/>\n",
              "    <path d=\"M18.56 5.44l.94 2.06.94-2.06 2.06-.94-2.06-.94-.94-2.06-.94 2.06-2.06.94zm-11 1L8.5 8.5l.94-2.06 2.06-.94-2.06-.94L8.5 2.5l-.94 2.06-2.06.94zm10 10l.94 2.06.94-2.06 2.06-.94-2.06-.94-.94-2.06-.94 2.06-2.06.94z\"/><path d=\"M17.41 7.96l-1.37-1.37c-.4-.4-.92-.59-1.43-.59-.52 0-1.04.2-1.43.59L10.3 9.45l-7.72 7.72c-.78.78-.78 2.05 0 2.83L4 21.41c.39.39.9.59 1.41.59.51 0 1.02-.2 1.41-.59l7.78-7.78 2.81-2.81c.8-.78.8-2.07 0-2.86zM5.41 20L4 18.59l7.72-7.72 1.47 1.35L5.41 20z\"/>\n",
              "  </svg>\n",
              "      </button>\n",
              "      \n",
              "  <style>\n",
              "    .colab-df-container {\n",
              "      display:flex;\n",
              "      flex-wrap:wrap;\n",
              "      gap: 12px;\n",
              "    }\n",
              "\n",
              "    .colab-df-convert {\n",
              "      background-color: #E8F0FE;\n",
              "      border: none;\n",
              "      border-radius: 50%;\n",
              "      cursor: pointer;\n",
              "      display: none;\n",
              "      fill: #1967D2;\n",
              "      height: 32px;\n",
              "      padding: 0 0 0 0;\n",
              "      width: 32px;\n",
              "    }\n",
              "\n",
              "    .colab-df-convert:hover {\n",
              "      background-color: #E2EBFA;\n",
              "      box-shadow: 0px 1px 2px rgba(60, 64, 67, 0.3), 0px 1px 3px 1px rgba(60, 64, 67, 0.15);\n",
              "      fill: #174EA6;\n",
              "    }\n",
              "\n",
              "    [theme=dark] .colab-df-convert {\n",
              "      background-color: #3B4455;\n",
              "      fill: #D2E3FC;\n",
              "    }\n",
              "\n",
              "    [theme=dark] .colab-df-convert:hover {\n",
              "      background-color: #434B5C;\n",
              "      box-shadow: 0px 1px 3px 1px rgba(0, 0, 0, 0.15);\n",
              "      filter: drop-shadow(0px 1px 2px rgba(0, 0, 0, 0.3));\n",
              "      fill: #FFFFFF;\n",
              "    }\n",
              "  </style>\n",
              "\n",
              "      <script>\n",
              "        const buttonEl =\n",
              "          document.querySelector('#df-00849b0a-321c-4377-be50-18ca9a4dc23e button.colab-df-convert');\n",
              "        buttonEl.style.display =\n",
              "          google.colab.kernel.accessAllowed ? 'block' : 'none';\n",
              "\n",
              "        async function convertToInteractive(key) {\n",
              "          const element = document.querySelector('#df-00849b0a-321c-4377-be50-18ca9a4dc23e');\n",
              "          const dataTable =\n",
              "            await google.colab.kernel.invokeFunction('convertToInteractive',\n",
              "                                                     [key], {});\n",
              "          if (!dataTable) return;\n",
              "\n",
              "          const docLinkHtml = 'Like what you see? Visit the ' +\n",
              "            '<a target=\"_blank\" href=https://colab.research.google.com/notebooks/data_table.ipynb>data table notebook</a>'\n",
              "            + ' to learn more about interactive tables.';\n",
              "          element.innerHTML = '';\n",
              "          dataTable['output_type'] = 'display_data';\n",
              "          await google.colab.output.renderOutput(dataTable, element);\n",
              "          const docLink = document.createElement('div');\n",
              "          docLink.innerHTML = docLinkHtml;\n",
              "          element.appendChild(docLink);\n",
              "        }\n",
              "      </script>\n",
              "    </div>\n",
              "  </div>\n",
              "  "
            ]
          },
          "metadata": {},
          "execution_count": 11
        }
      ],
      "source": [
        "base_dados.describe()"
      ]
    },
    {
      "cell_type": "markdown",
      "source": [
        "A partir das estatísticas descritivas para a base de dados, podemos visualizar possíveis inconsistências nos dados. Por exemplo, dados com áreas negativas seriam dados errôneos inseridos na base de dados. Caso fossem encontrados dados com área negativa, tal dado deveria ser tratado (removido ou ter o valor substituído pela média, por exemplo) para não influenciar negativamente no desempenho do algoritmo de aprendizado de máquina."
      ],
      "metadata": {
        "id": "nv91HFUoBt5i"
      }
    },
    {
      "cell_type": "markdown",
      "source": [
        "Na análise descritiva, são encontrados dados com valor de área de 1 m². Talvez, tais dados estejam incorretos. Como a base de dados não informa a unidade utilizada como medida de área, não podemos afirmar se são ou não incorretos."
      ],
      "metadata": {
        "id": "UiKp_jmICVFK"
      }
    },
    {
      "cell_type": "markdown",
      "metadata": {
        "id": "-OYBrSNn4he4"
      },
      "source": [
        "## Matriz de correlação\n",
        "\n",
        "<p style='font-size: 18px; line-height: 2; margin: 10px 50px; text-align: justify;'>O <b>coeficiente de correlação</b> é uma medida de associação linear entre duas variáveis e situa-se entre <b>-1</b> e <b>+1</b> sendo que <b>-1</b> indica associação negativa perfeita e <b>+1</b> indica associação positiva perfeita.</p>\n",
        "\n",
        "### Observe as correlações entre as variáveis:\n",
        "<ul style='font-size: 16px; line-height: 2; text-align: justify;'>\n",
        "    <li>Quais são mais correlacionadas com a variável dependente (Preço)?</li>\n",
        "    <li>Qual o relacionamento entre elas (positivo ou negativo)?</li>\n",
        "    <li>Existe correlação forte entre as variáveis explicativas?</li>\n",
        "</ul>"
      ]
    },
    {
      "cell_type": "code",
      "execution_count": 20,
      "metadata": {
        "colab": {
          "base_uri": "https://localhost:8080/",
          "height": 269
        },
        "id": "ug9TXX2B4he4",
        "outputId": "c24c8b25-e72b-4f1a-f931-ec357a30691a"
      },
      "outputs": [
        {
          "output_type": "execute_result",
          "data": {
            "text/plain": [
              "           precos    area  garagem  banheiros  lareira  marmore  andares\n",
              "precos     1.0000  0.1177   0.1028     0.1244   0.1072   0.4308   0.6315\n",
              "area       0.1177  1.0000  -0.0075    -0.0114   0.0121  -0.0153  -0.0180\n",
              "garagem    0.1028 -0.0075   1.0000     0.0671   0.0605  -0.0156  -0.0206\n",
              "banheiros  0.1244 -0.0114   0.0671     1.0000   0.0484  -0.0253  -0.0182\n",
              "lareira    0.1072  0.0121   0.0605     0.0484   1.0000   0.0296  -0.0035\n",
              "marmore    0.4308 -0.0153  -0.0156    -0.0253   0.0296   1.0000  -0.0065\n",
              "andares    0.6315 -0.0180  -0.0206    -0.0182  -0.0035  -0.0065   1.0000"
            ],
            "text/html": [
              "\n",
              "  <div id=\"df-425d4afa-660c-4d94-a879-b933c7bf5baf\">\n",
              "    <div class=\"colab-df-container\">\n",
              "      <div>\n",
              "<style scoped>\n",
              "    .dataframe tbody tr th:only-of-type {\n",
              "        vertical-align: middle;\n",
              "    }\n",
              "\n",
              "    .dataframe tbody tr th {\n",
              "        vertical-align: top;\n",
              "    }\n",
              "\n",
              "    .dataframe thead th {\n",
              "        text-align: right;\n",
              "    }\n",
              "</style>\n",
              "<table border=\"1\" class=\"dataframe\">\n",
              "  <thead>\n",
              "    <tr style=\"text-align: right;\">\n",
              "      <th></th>\n",
              "      <th>precos</th>\n",
              "      <th>area</th>\n",
              "      <th>garagem</th>\n",
              "      <th>banheiros</th>\n",
              "      <th>lareira</th>\n",
              "      <th>marmore</th>\n",
              "      <th>andares</th>\n",
              "    </tr>\n",
              "  </thead>\n",
              "  <tbody>\n",
              "    <tr>\n",
              "      <th>precos</th>\n",
              "      <td>1.0000</td>\n",
              "      <td>0.1177</td>\n",
              "      <td>0.1028</td>\n",
              "      <td>0.1244</td>\n",
              "      <td>0.1072</td>\n",
              "      <td>0.4308</td>\n",
              "      <td>0.6315</td>\n",
              "    </tr>\n",
              "    <tr>\n",
              "      <th>area</th>\n",
              "      <td>0.1177</td>\n",
              "      <td>1.0000</td>\n",
              "      <td>-0.0075</td>\n",
              "      <td>-0.0114</td>\n",
              "      <td>0.0121</td>\n",
              "      <td>-0.0153</td>\n",
              "      <td>-0.0180</td>\n",
              "    </tr>\n",
              "    <tr>\n",
              "      <th>garagem</th>\n",
              "      <td>0.1028</td>\n",
              "      <td>-0.0075</td>\n",
              "      <td>1.0000</td>\n",
              "      <td>0.0671</td>\n",
              "      <td>0.0605</td>\n",
              "      <td>-0.0156</td>\n",
              "      <td>-0.0206</td>\n",
              "    </tr>\n",
              "    <tr>\n",
              "      <th>banheiros</th>\n",
              "      <td>0.1244</td>\n",
              "      <td>-0.0114</td>\n",
              "      <td>0.0671</td>\n",
              "      <td>1.0000</td>\n",
              "      <td>0.0484</td>\n",
              "      <td>-0.0253</td>\n",
              "      <td>-0.0182</td>\n",
              "    </tr>\n",
              "    <tr>\n",
              "      <th>lareira</th>\n",
              "      <td>0.1072</td>\n",
              "      <td>0.0121</td>\n",
              "      <td>0.0605</td>\n",
              "      <td>0.0484</td>\n",
              "      <td>1.0000</td>\n",
              "      <td>0.0296</td>\n",
              "      <td>-0.0035</td>\n",
              "    </tr>\n",
              "    <tr>\n",
              "      <th>marmore</th>\n",
              "      <td>0.4308</td>\n",
              "      <td>-0.0153</td>\n",
              "      <td>-0.0156</td>\n",
              "      <td>-0.0253</td>\n",
              "      <td>0.0296</td>\n",
              "      <td>1.0000</td>\n",
              "      <td>-0.0065</td>\n",
              "    </tr>\n",
              "    <tr>\n",
              "      <th>andares</th>\n",
              "      <td>0.6315</td>\n",
              "      <td>-0.0180</td>\n",
              "      <td>-0.0206</td>\n",
              "      <td>-0.0182</td>\n",
              "      <td>-0.0035</td>\n",
              "      <td>-0.0065</td>\n",
              "      <td>1.0000</td>\n",
              "    </tr>\n",
              "  </tbody>\n",
              "</table>\n",
              "</div>\n",
              "      <button class=\"colab-df-convert\" onclick=\"convertToInteractive('df-425d4afa-660c-4d94-a879-b933c7bf5baf')\"\n",
              "              title=\"Convert this dataframe to an interactive table.\"\n",
              "              style=\"display:none;\">\n",
              "        \n",
              "  <svg xmlns=\"http://www.w3.org/2000/svg\" height=\"24px\"viewBox=\"0 0 24 24\"\n",
              "       width=\"24px\">\n",
              "    <path d=\"M0 0h24v24H0V0z\" fill=\"none\"/>\n",
              "    <path d=\"M18.56 5.44l.94 2.06.94-2.06 2.06-.94-2.06-.94-.94-2.06-.94 2.06-2.06.94zm-11 1L8.5 8.5l.94-2.06 2.06-.94-2.06-.94L8.5 2.5l-.94 2.06-2.06.94zm10 10l.94 2.06.94-2.06 2.06-.94-2.06-.94-.94-2.06-.94 2.06-2.06.94z\"/><path d=\"M17.41 7.96l-1.37-1.37c-.4-.4-.92-.59-1.43-.59-.52 0-1.04.2-1.43.59L10.3 9.45l-7.72 7.72c-.78.78-.78 2.05 0 2.83L4 21.41c.39.39.9.59 1.41.59.51 0 1.02-.2 1.41-.59l7.78-7.78 2.81-2.81c.8-.78.8-2.07 0-2.86zM5.41 20L4 18.59l7.72-7.72 1.47 1.35L5.41 20z\"/>\n",
              "  </svg>\n",
              "      </button>\n",
              "      \n",
              "  <style>\n",
              "    .colab-df-container {\n",
              "      display:flex;\n",
              "      flex-wrap:wrap;\n",
              "      gap: 12px;\n",
              "    }\n",
              "\n",
              "    .colab-df-convert {\n",
              "      background-color: #E8F0FE;\n",
              "      border: none;\n",
              "      border-radius: 50%;\n",
              "      cursor: pointer;\n",
              "      display: none;\n",
              "      fill: #1967D2;\n",
              "      height: 32px;\n",
              "      padding: 0 0 0 0;\n",
              "      width: 32px;\n",
              "    }\n",
              "\n",
              "    .colab-df-convert:hover {\n",
              "      background-color: #E2EBFA;\n",
              "      box-shadow: 0px 1px 2px rgba(60, 64, 67, 0.3), 0px 1px 3px 1px rgba(60, 64, 67, 0.15);\n",
              "      fill: #174EA6;\n",
              "    }\n",
              "\n",
              "    [theme=dark] .colab-df-convert {\n",
              "      background-color: #3B4455;\n",
              "      fill: #D2E3FC;\n",
              "    }\n",
              "\n",
              "    [theme=dark] .colab-df-convert:hover {\n",
              "      background-color: #434B5C;\n",
              "      box-shadow: 0px 1px 3px 1px rgba(0, 0, 0, 0.15);\n",
              "      filter: drop-shadow(0px 1px 2px rgba(0, 0, 0, 0.3));\n",
              "      fill: #FFFFFF;\n",
              "    }\n",
              "  </style>\n",
              "\n",
              "      <script>\n",
              "        const buttonEl =\n",
              "          document.querySelector('#df-425d4afa-660c-4d94-a879-b933c7bf5baf button.colab-df-convert');\n",
              "        buttonEl.style.display =\n",
              "          google.colab.kernel.accessAllowed ? 'block' : 'none';\n",
              "\n",
              "        async function convertToInteractive(key) {\n",
              "          const element = document.querySelector('#df-425d4afa-660c-4d94-a879-b933c7bf5baf');\n",
              "          const dataTable =\n",
              "            await google.colab.kernel.invokeFunction('convertToInteractive',\n",
              "                                                     [key], {});\n",
              "          if (!dataTable) return;\n",
              "\n",
              "          const docLinkHtml = 'Like what you see? Visit the ' +\n",
              "            '<a target=\"_blank\" href=https://colab.research.google.com/notebooks/data_table.ipynb>data table notebook</a>'\n",
              "            + ' to learn more about interactive tables.';\n",
              "          element.innerHTML = '';\n",
              "          dataTable['output_type'] = 'display_data';\n",
              "          await google.colab.output.renderOutput(dataTable, element);\n",
              "          const docLink = document.createElement('div');\n",
              "          docLink.innerHTML = docLinkHtml;\n",
              "          element.appendChild(docLink);\n",
              "        }\n",
              "      </script>\n",
              "    </div>\n",
              "  </div>\n",
              "  "
            ]
          },
          "metadata": {},
          "execution_count": 20
        }
      ],
      "source": [
        "#construindo a matriz de correlação, temos:\n",
        "base_dados.corr().round(4)"
      ]
    },
    {
      "cell_type": "markdown",
      "source": [
        "Também podemos utilizar o mapa de calor de correlações da biblioteca Seaborn para melhor visualização das correlações entre as variáveis."
      ],
      "metadata": {
        "id": "76ICJN28FJMf"
      }
    },
    {
      "cell_type": "code",
      "source": [
        "#construindo o mapa de calor de correlações, temos:\n",
        "ax = sns.heatmap(base_dados.corr(), annot = True)\n",
        "ax.figure.set_size_inches(12,6)"
      ],
      "metadata": {
        "colab": {
          "base_uri": "https://localhost:8080/",
          "height": 417
        },
        "id": "tou3xH5WF_vh",
        "outputId": "0eb7f280-30f4-438c-f830-0b544dae6a2b"
      },
      "execution_count": 24,
      "outputs": [
        {
          "output_type": "display_data",
          "data": {
            "text/plain": [
              "<Figure size 864x432 with 2 Axes>"
            ],
            "image/png": "[encoded data removed]"
          },
          "metadata": {
            "needs_background": "light"
          }
        }
      ]
    },
    {
      "cell_type": "markdown",
      "source": [
        "Como podemos verificar, os preços dos imóveis apresentam uma boa correlação linear com a variável 'marmore' e 'andares', apresentando correlações positivas de 0,43 e 0,63, respectivamente. Imóveis com acabamento em mármore branco apresentam valor superior. Em relação ao número de andares, o preço é maior para imóveis com mais de 1 andar."
      ],
      "metadata": {
        "id": "_GZrOQwvHVsM"
      }
    },
    {
      "cell_type": "markdown",
      "source": [
        "Para construção de algoritmos de aprendizado de máquina, é importante que as características explicativas não possuam correlações altas entre si. Visualizando a matriz de correlação, é possível verificar que as correlações entre as variáveis explicativas são baixas."
      ],
      "metadata": {
        "id": "kk7eaFd3JAnT"
      }
    },
    {
      "cell_type": "markdown",
      "metadata": {
        "id": "m3VBDROx4he4"
      },
      "source": [
        "# <font color='red' style='font-size: 30px;'>Comportamento da Variável Dependente (Y)</font>\n",
        "<hr style='border: 2px solid red;'>"
      ]
    },
    {
      "cell_type": "markdown",
      "metadata": {
        "id": "zTZ4vFNp4he5"
      },
      "source": [
        "# Análises gráficas"
      ]
    },
    {
      "cell_type": "markdown",
      "metadata": {
        "id": "mLV9kzpi4he5"
      },
      "source": [
        "![Box-Plot.png](data:image/png;base64,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)"
      ]
    },
    {
      "cell_type": "markdown",
      "metadata": {
        "id": "C-d5r0-b4he5"
      },
      "source": [
        "## Importando biblioteca seaborn"
      ]
    },
    {
      "cell_type": "code",
      "execution_count": 25,
      "metadata": {
        "id": "YgRV3znh4he5"
      },
      "outputs": [],
      "source": [
        "import seaborn as sns"
      ]
    },
    {
      "cell_type": "markdown",
      "metadata": {
        "id": "Lze1Y_uq4he6"
      },
      "source": [
        "## Box plot da variável *dependente* (y)\n",
        "\n",
        "\n",
        "### Avalie o comportamento da distribuição da variável dependente:\n",
        "<ul style='font-size: 16px; line-height: 2; text-align: justify;'>\n",
        "    <li>Parecem existir valores discrepantes (outliers)?</li>\n",
        "    <li>O box plot apresenta alguma tendência?</li>\n",
        "</ul>"
      ]
    },
    {
      "cell_type": "markdown",
      "metadata": {
        "id": "PvkX9U-C4he6"
      },
      "source": [
        "https://seaborn.pydata.org/generated/seaborn.boxplot.html?highlight=boxplot#seaborn.boxplot"
      ]
    },
    {
      "cell_type": "code",
      "execution_count": 32,
      "metadata": {
        "colab": {
          "base_uri": "https://localhost:8080/",
          "height": 413
        },
        "id": "QiclPwBj4he6",
        "outputId": "daa7dfc9-d4fb-424d-db59-b14dbaeec84f"
      },
      "outputs": [
        {
          "output_type": "execute_result",
          "data": {
            "text/plain": [
              "<matplotlib.axes._subplots.AxesSubplot at 0x7f7cfc83ee50>"
            ]
          },
          "metadata": {},
          "execution_count": 32
        },
        {
          "output_type": "display_data",
          "data": {
            "text/plain": [
              "<Figure size 864x432 with 1 Axes>"
            ],
            "image/png": "[encoded data removed]"
          },
          "metadata": {
            "needs_background": "light"
          }
        }
      ],
      "source": [
        "#plotando o boxplot da variável dependente preços, temos:\n",
        "\n",
        "ax = sns.boxplot(data = base_dados['precos'], width = 0.2)\n",
        "ax.figure.set_size_inches(12,6) #tamanho da figura\n",
        "ax.set_title('Preços dos imóveis',fontsize = 18) #configurando o título do gráfico\n",
        "ax"
      ]
    },
    {
      "cell_type": "code",
      "source": [
        "base_dados['precos'].quantile([0.25,0.75])"
      ],
      "metadata": {
        "colab": {
          "base_uri": "https://localhost:8080/"
        },
        "id": "m86nAeQ4MZ14",
        "outputId": "0bf5327a-287d-4081-dee6-02c5198301d1"
      },
      "execution_count": 34,
      "outputs": [
        {
          "output_type": "execute_result",
          "data": {
            "text/plain": [
              "0.25    33112.5\n",
              "0.75    51175.0\n",
              "Name: precos, dtype: float64"
            ]
          },
          "metadata": {},
          "execution_count": 34
        }
      ]
    },
    {
      "cell_type": "markdown",
      "source": [
        "Os dados de preços dos imóveis, aparentemente, não apresentam tendências assimétricas, com a maioria dos valores situados entre 33112 e 51175. Além disso, não há valores de outliers."
      ],
      "metadata": {
        "id": "L32-tjnjMENI"
      }
    },
    {
      "cell_type": "markdown",
      "metadata": {
        "id": "kQUQM5ST4he7"
      },
      "source": [
        "## Investigando a variável *dependente* (y) juntamente com outras características\n",
        "\n",
        "Faça um box plot da variável dependente em conjunto com cada variável explicativa (somente as categóricas).\n",
        "\n",
        "### Avalie o comportamento da distribuição da variável dependente com cada variável explicativa categórica:\n",
        "<ul style='font-size: 16px; line-height: 2; text-align: justify;'>\n",
        "    <li>As estatísticas apresentam mudança significativa entre as categorias?</li>\n",
        "    <li>O box plot apresenta alguma tendência bem definida?</li>\n",
        "</ul>"
      ]
    },
    {
      "cell_type": "markdown",
      "source": [
        "Identificando as variáveis cataegórias, temos:"
      ],
      "metadata": {
        "id": "Svit6MsgNPIi"
      }
    },
    {
      "cell_type": "code",
      "source": [
        "base_dados.head(10)"
      ],
      "metadata": {
        "colab": {
          "base_uri": "https://localhost:8080/",
          "height": 363
        },
        "id": "Iq-ujPIINSWN",
        "outputId": "2426d59d-6373-4d72-d802-6e3bfc65ccd9"
      },
      "execution_count": 35,
      "outputs": [
        {
          "output_type": "execute_result",
          "data": {
            "text/plain": [
              "   precos  area  garagem  banheiros  lareira  marmore  andares\n",
              "0   51875    25        3          4        3        0        1\n",
              "1   17875    35        1          3        1        0        0\n",
              "2   47075   195        2          4        2        0        0\n",
              "3   38575    33        2          2        1        0        1\n",
              "4   33775    11        2          3        0        0        1\n",
              "5   35450   148        2          5        2        0        0\n",
              "6   52025   211        2          3        2        1        0\n",
              "7   37550   172        2          2        3        1        0\n",
              "8   31500    62        1          4        2        0        0\n",
              "9   37650   218        3          1        0        1        0"
            ],
            "text/html": [
              "\n",
              "  <div id=\"df-31549b3a-1dfa-4333-b140-9e7b1e7b3b9f\">\n",
              "    <div class=\"colab-df-container\">\n",
              "      <div>\n",
              "<style scoped>\n",
              "    .dataframe tbody tr th:only-of-type {\n",
              "        vertical-align: middle;\n",
              "    }\n",
              "\n",
              "    .dataframe tbody tr th {\n",
              "        vertical-align: top;\n",
              "    }\n",
              "\n",
              "    .dataframe thead th {\n",
              "        text-align: right;\n",
              "    }\n",
              "</style>\n",
              "<table border=\"1\" class=\"dataframe\">\n",
              "  <thead>\n",
              "    <tr style=\"text-align: right;\">\n",
              "      <th></th>\n",
              "      <th>precos</th>\n",
              "      <th>area</th>\n",
              "      <th>garagem</th>\n",
              "      <th>banheiros</th>\n",
              "      <th>lareira</th>\n",
              "      <th>marmore</th>\n",
              "      <th>andares</th>\n",
              "    </tr>\n",
              "  </thead>\n",
              "  <tbody>\n",
              "    <tr>\n",
              "      <th>0</th>\n",
              "      <td>51875</td>\n",
              "      <td>25</td>\n",
              "      <td>3</td>\n",
              "      <td>4</td>\n",
              "      <td>3</td>\n",
              "      <td>0</td>\n",
              "      <td>1</td>\n",
              "    </tr>\n",
              "    <tr>\n",
              "      <th>1</th>\n",
              "      <td>17875</td>\n",
              "      <td>35</td>\n",
              "      <td>1</td>\n",
              "      <td>3</td>\n",
              "      <td>1</td>\n",
              "      <td>0</td>\n",
              "      <td>0</td>\n",
              "    </tr>\n",
              "    <tr>\n",
              "      <th>2</th>\n",
              "      <td>47075</td>\n",
              "      <td>195</td>\n",
              "      <td>2</td>\n",
              "      <td>4</td>\n",
              "      <td>2</td>\n",
              "      <td>0</td>\n",
              "      <td>0</td>\n",
              "    </tr>\n",
              "    <tr>\n",
              "      <th>3</th>\n",
              "      <td>38575</td>\n",
              "      <td>33</td>\n",
              "      <td>2</td>\n",
              "      <td>2</td>\n",
              "      <td>1</td>\n",
              "      <td>0</td>\n",
              "      <td>1</td>\n",
              "    </tr>\n",
              "    <tr>\n",
              "      <th>4</th>\n",
              "      <td>33775</td>\n",
              "      <td>11</td>\n",
              "      <td>2</td>\n",
              "      <td>3</td>\n",
              "      <td>0</td>\n",
              "      <td>0</td>\n",
              "      <td>1</td>\n",
              "    </tr>\n",
              "    <tr>\n",
              "      <th>5</th>\n",
              "      <td>35450</td>\n",
              "      <td>148</td>\n",
              "      <td>2</td>\n",
              "      <td>5</td>\n",
              "      <td>2</td>\n",
              "      <td>0</td>\n",
              "      <td>0</td>\n",
              "    </tr>\n",
              "    <tr>\n",
              "      <th>6</th>\n",
              "      <td>52025</td>\n",
              "      <td>211</td>\n",
              "      <td>2</td>\n",
              "      <td>3</td>\n",
              "      <td>2</td>\n",
              "      <td>1</td>\n",
              "      <td>0</td>\n",
              "    </tr>\n",
              "    <tr>\n",
              "      <th>7</th>\n",
              "      <td>37550</td>\n",
              "      <td>172</td>\n",
              "      <td>2</td>\n",
              "      <td>2</td>\n",
              "      <td>3</td>\n",
              "      <td>1</td>\n",
              "      <td>0</td>\n",
              "    </tr>\n",
              "    <tr>\n",
              "      <th>8</th>\n",
              "      <td>31500</td>\n",
              "      <td>62</td>\n",
              "      <td>1</td>\n",
              "      <td>4</td>\n",
              "      <td>2</td>\n",
              "      <td>0</td>\n",
              "      <td>0</td>\n",
              "    </tr>\n",
              "    <tr>\n",
              "      <th>9</th>\n",
              "      <td>37650</td>\n",
              "      <td>218</td>\n",
              "      <td>3</td>\n",
              "      <td>1</td>\n",
              "      <td>0</td>\n",
              "      <td>1</td>\n",
              "      <td>0</td>\n",
              "    </tr>\n",
              "  </tbody>\n",
              "</table>\n",
              "</div>\n",
              "      <button class=\"colab-df-convert\" onclick=\"convertToInteractive('df-31549b3a-1dfa-4333-b140-9e7b1e7b3b9f')\"\n",
              "              title=\"Convert this dataframe to an interactive table.\"\n",
              "              style=\"display:none;\">\n",
              "        \n",
              "  <svg xmlns=\"http://www.w3.org/2000/svg\" height=\"24px\"viewBox=\"0 0 24 24\"\n",
              "       width=\"24px\">\n",
              "    <path d=\"M0 0h24v24H0V0z\" fill=\"none\"/>\n",
              "    <path d=\"M18.56 5.44l.94 2.06.94-2.06 2.06-.94-2.06-.94-.94-2.06-.94 2.06-2.06.94zm-11 1L8.5 8.5l.94-2.06 2.06-.94-2.06-.94L8.5 2.5l-.94 2.06-2.06.94zm10 10l.94 2.06.94-2.06 2.06-.94-2.06-.94-.94-2.06-.94 2.06-2.06.94z\"/><path d=\"M17.41 7.96l-1.37-1.37c-.4-.4-.92-.59-1.43-.59-.52 0-1.04.2-1.43.59L10.3 9.45l-7.72 7.72c-.78.78-.78 2.05 0 2.83L4 21.41c.39.39.9.59 1.41.59.51 0 1.02-.2 1.41-.59l7.78-7.78 2.81-2.81c.8-.78.8-2.07 0-2.86zM5.41 20L4 18.59l7.72-7.72 1.47 1.35L5.41 20z\"/>\n",
              "  </svg>\n",
              "      </button>\n",
              "      \n",
              "  <style>\n",
              "    .colab-df-container {\n",
              "      display:flex;\n",
              "      flex-wrap:wrap;\n",
              "      gap: 12px;\n",
              "    }\n",
              "\n",
              "    .colab-df-convert {\n",
              "      background-color: #E8F0FE;\n",
              "      border: none;\n",
              "      border-radius: 50%;\n",
              "      cursor: pointer;\n",
              "      display: none;\n",
              "      fill: #1967D2;\n",
              "      height: 32px;\n",
              "      padding: 0 0 0 0;\n",
              "      width: 32px;\n",
              "    }\n",
              "\n",
              "    .colab-df-convert:hover {\n",
              "      background-color: #E2EBFA;\n",
              "      box-shadow: 0px 1px 2px rgba(60, 64, 67, 0.3), 0px 1px 3px 1px rgba(60, 64, 67, 0.15);\n",
              "      fill: #174EA6;\n",
              "    }\n",
              "\n",
              "    [theme=dark] .colab-df-convert {\n",
              "      background-color: #3B4455;\n",
              "      fill: #D2E3FC;\n",
              "    }\n",
              "\n",
              "    [theme=dark] .colab-df-convert:hover {\n",
              "      background-color: #434B5C;\n",
              "      box-shadow: 0px 1px 3px 1px rgba(0, 0, 0, 0.15);\n",
              "      filter: drop-shadow(0px 1px 2px rgba(0, 0, 0, 0.3));\n",
              "      fill: #FFFFFF;\n",
              "    }\n",
              "  </style>\n",
              "\n",
              "      <script>\n",
              "        const buttonEl =\n",
              "          document.querySelector('#df-31549b3a-1dfa-4333-b140-9e7b1e7b3b9f button.colab-df-convert');\n",
              "        buttonEl.style.display =\n",
              "          google.colab.kernel.accessAllowed ? 'block' : 'none';\n",
              "\n",
              "        async function convertToInteractive(key) {\n",
              "          const element = document.querySelector('#df-31549b3a-1dfa-4333-b140-9e7b1e7b3b9f');\n",
              "          const dataTable =\n",
              "            await google.colab.kernel.invokeFunction('convertToInteractive',\n",
              "                                                     [key], {});\n",
              "          if (!dataTable) return;\n",
              "\n",
              "          const docLinkHtml = 'Like what you see? Visit the ' +\n",
              "            '<a target=\"_blank\" href=https://colab.research.google.com/notebooks/data_table.ipynb>data table notebook</a>'\n",
              "            + ' to learn more about interactive tables.';\n",
              "          element.innerHTML = '';\n",
              "          dataTable['output_type'] = 'display_data';\n",
              "          await google.colab.output.renderOutput(dataTable, element);\n",
              "          const docLink = document.createElement('div');\n",
              "          docLink.innerHTML = docLinkHtml;\n",
              "          element.appendChild(docLink);\n",
              "        }\n",
              "      </script>\n",
              "    </div>\n",
              "  </div>\n",
              "  "
            ]
          },
          "metadata": {},
          "execution_count": 35
        }
      ]
    },
    {
      "cell_type": "markdown",
      "source": [
        "As variáveis categóricas são: 'garagem', 'banheiros', 'lareira', 'marmore' e 'andares'. Agora vamos avaliar o comportamento da variável dependente 'preços' em relação às variáveis explicativas categóricas."
      ],
      "metadata": {
        "id": "ciQLRLizNWUY"
      }
    },
    {
      "cell_type": "markdown",
      "metadata": {
        "id": "5lNI6NCe4he7"
      },
      "source": [
        "### Box-plot (Preço X Garagem)"
      ]
    },
    {
      "cell_type": "code",
      "source": [
        "labels = [str(item) for item in base_dados['garagem'].unique()]\n",
        "labels.sort()\n",
        "labels"
      ],
      "metadata": {
        "colab": {
          "base_uri": "https://localhost:8080/"
        },
        "id": "wsv2gtjoOMZt",
        "outputId": "537f145b-67ee-484e-fcd6-d84457b22b6a"
      },
      "execution_count": 55,
      "outputs": [
        {
          "output_type": "execute_result",
          "data": {
            "text/plain": [
              "['1', '2', '3']"
            ]
          },
          "metadata": {},
          "execution_count": 55
        }
      ]
    },
    {
      "cell_type": "code",
      "execution_count": 56,
      "metadata": {
        "colab": {
          "base_uri": "https://localhost:8080/",
          "height": 542
        },
        "id": "ckxMlVm-4he7",
        "outputId": "f2ce1dbd-af1e-4da5-8ece-64738616b020"
      },
      "outputs": [
        {
          "output_type": "execute_result",
          "data": {
            "text/plain": [
              "<matplotlib.axes._subplots.AxesSubplot at 0x7f7cfc720210>"
            ]
          },
          "metadata": {},
          "execution_count": 56
        },
        {
          "output_type": "display_data",
          "data": {
            "text/plain": [
              "<Figure size 1008x576 with 1 Axes>"
            ],
            "image/png": "[encoded data removed]"
          },
          "metadata": {
            "needs_background": "light"
          }
        }
      ],
      "source": [
        "#plotando o boxplot, temos:\n",
        "ax = sns.boxplot(x = 'garagem',y = 'precos', data = base_dados)\n",
        "ax.figure.set_size_inches(14,8) #tamanho da figura\n",
        "ax.set_title('Preços dos imóveis X Quantidade de garagens',fontsize = 18) #configurando o título do gráfico\n",
        "ax.set_xlabel('Quantidade de garagens',fontsize = 14) #configurando o eixo x\n",
        "ax.set_xticklabels(labels = labels, fontsize = 12) #configurando os labels do eixo x\n",
        "ax"
      ]
    },
    {
      "cell_type": "markdown",
      "source": [
        "Há uma pequena tendência de aumento nos preços com o aumento do número de garagens no imóvel. Tal resultadop já era esperado, tendo em vista que a correlação linear entre preços e quantidade de garagens é positiva, como indicado na matriz de correlação."
      ],
      "metadata": {
        "id": "jXdeLS6kP6Vp"
      }
    },
    {
      "cell_type": "markdown",
      "metadata": {
        "id": "RcB8_jyy4he7"
      },
      "source": [
        "### Box-plot (Preço X Banheiros)"
      ]
    },
    {
      "cell_type": "code",
      "source": [
        "labels = [str(item) for item in base_dados['banheiros'].unique()]\n",
        "labels.sort()\n",
        "labels"
      ],
      "metadata": {
        "colab": {
          "base_uri": "https://localhost:8080/"
        },
        "id": "pg9o35hQQQME",
        "outputId": "d6495412-20c8-4531-99ae-a9506886861e"
      },
      "execution_count": 57,
      "outputs": [
        {
          "output_type": "execute_result",
          "data": {
            "text/plain": [
              "['1', '2', '3', '4', '5']"
            ]
          },
          "metadata": {},
          "execution_count": 57
        }
      ]
    },
    {
      "cell_type": "code",
      "execution_count": 58,
      "metadata": {
        "colab": {
          "base_uri": "https://localhost:8080/",
          "height": 542
        },
        "id": "KNg-5WHw4he7",
        "outputId": "8f8c8df7-e90a-40c6-eb07-6ffb292f9737"
      },
      "outputs": [
        {
          "output_type": "execute_result",
          "data": {
            "text/plain": [
              "<matplotlib.axes._subplots.AxesSubplot at 0x7f7cfcac1c50>"
            ]
          },
          "metadata": {},
          "execution_count": 58
        },
        {
          "output_type": "display_data",
          "data": {
            "text/plain": [
              "<Figure size 1008x576 with 1 Axes>"
            ],
            "image/png": "[encoded data removed]"
          },
          "metadata": {
            "needs_background": "light"
          }
        }
      ],
      "source": [
        "#plotando o boxplot, temos:\n",
        "ax = sns.boxplot(x = 'banheiros',y = 'precos', data = base_dados)\n",
        "ax.figure.set_size_inches(14,8) #tamanho da figura\n",
        "ax.set_title('Preços dos imóveis X Quantidade de banheiros',fontsize = 18) #configurando o título do gráfico\n",
        "ax.set_xlabel('Quantidade de banheiros',fontsize = 14) #configurando o eixo x\n",
        "ax.set_xticklabels(labels = labels, fontsize = 12) #configurando os labels do eixo x\n",
        "ax"
      ]
    },
    {
      "cell_type": "markdown",
      "source": [
        "É observado uma tendência de aumento dos preços dos imóveis com o aumento do número de banheiros. Como vimos na matriz de correlação, há uma correlação linear positiva entre os preços dos imóveis e a quantidade de banheiros."
      ],
      "metadata": {
        "id": "QSUwkYfdQgv_"
      }
    },
    {
      "cell_type": "markdown",
      "metadata": {
        "id": "22oJ5Ubk4he7"
      },
      "source": [
        "### Box-plot (Preço X Lareira)"
      ]
    },
    {
      "cell_type": "code",
      "source": [
        "labels = [str(item) for item in base_dados['lareira'].unique()]\n",
        "labels.sort()\n",
        "labels"
      ],
      "metadata": {
        "colab": {
          "base_uri": "https://localhost:8080/"
        },
        "id": "PsmPpqr3RxpL",
        "outputId": "0a78b843-6a8a-4d96-8c3d-de25d6117592"
      },
      "execution_count": 63,
      "outputs": [
        {
          "output_type": "execute_result",
          "data": {
            "text/plain": [
              "['0', '1', '2', '3', '4']"
            ]
          },
          "metadata": {},
          "execution_count": 63
        }
      ]
    },
    {
      "cell_type": "code",
      "execution_count": 64,
      "metadata": {
        "colab": {
          "base_uri": "https://localhost:8080/",
          "height": 542
        },
        "id": "ajiSl4cM4he7",
        "outputId": "0bfbd15f-560c-462a-ce88-2d63c36285ad"
      },
      "outputs": [
        {
          "output_type": "execute_result",
          "data": {
            "text/plain": [
              "<matplotlib.axes._subplots.AxesSubplot at 0x7f7cfcd9bdd0>"
            ]
          },
          "metadata": {},
          "execution_count": 64
        },
        {
          "output_type": "display_data",
          "data": {
            "text/plain": [
              "<Figure size 1008x576 with 1 Axes>"
            ],
            "image/png": "[encoded data removed]"
          },
          "metadata": {
            "needs_background": "light"
          }
        }
      ],
      "source": [
        "#plotando o boxplot, temos:\n",
        "ax = sns.boxplot(x = 'lareira',y = 'precos', data = base_dados)\n",
        "ax.figure.set_size_inches(14,8) #tamanho da figura\n",
        "ax.set_title('Preços dos imóveis X Quantidade de lareiras',fontsize = 18) #configurando o título do gráfico\n",
        "ax.set_xlabel('Quantidade de lareiras',fontsize = 14) #configurando o eixo x\n",
        "ax.set_xticklabels(labels = labels, fontsize = 12) #configurando os labels do eixo x\n",
        "ax"
      ]
    },
    {
      "cell_type": "markdown",
      "metadata": {
        "id": "OQK0HgYM4he8"
      },
      "source": [
        "### Box-plot (Preço X Acabamento em Mármore)"
      ]
    },
    {
      "cell_type": "code",
      "source": [
        "#plotando o boxplot, temos:\n",
        "ax = sns.boxplot(x = 'marmore',y = 'precos', data = base_dados)\n",
        "ax.figure.set_size_inches(14,8) #tamanho da figura\n",
        "ax.set_title('Preços dos imóveis X Acabamento em mármore',fontsize = 18) #configurando o título do gráfico\n",
        "ax.set_xlabel('Acabamento em mármore',fontsize = 14) #configurando o eixo x\n",
        "ax.set_xticklabels(labels = ['Não','Sim'], fontsize = 12) #configurando os labels do eixo x\n",
        "ax"
      ],
      "metadata": {
        "colab": {
          "base_uri": "https://localhost:8080/",
          "height": 542
        },
        "id": "843gNVi0RWe0",
        "outputId": "86306b96-6f82-43f1-e401-e6f939c5cc71"
      },
      "execution_count": 66,
      "outputs": [
        {
          "output_type": "execute_result",
          "data": {
            "text/plain": [
              "<matplotlib.axes._subplots.AxesSubplot at 0x7f7cfc5d6290>"
            ]
          },
          "metadata": {},
          "execution_count": 66
        },
        {
          "output_type": "display_data",
          "data": {
            "text/plain": [
              "<Figure size 1008x576 with 1 Axes>"
            ],
            "image/png": "[encoded data removed]"
          },
          "metadata": {
            "needs_background": "light"
          }
        }
      ]
    },
    {
      "cell_type": "markdown",
      "source": [
        "Como podemos ver, o preço do imóvel aumenta consideravelmente quando o acabamento é feito em mármore branco."
      ],
      "metadata": {
        "id": "27_2TXvyVOfm"
      }
    },
    {
      "cell_type": "markdown",
      "metadata": {
        "id": "VKRuCZIC4he8"
      },
      "source": [
        "### Box-plot (Preço X Andares)"
      ]
    },
    {
      "cell_type": "code",
      "execution_count": 68,
      "metadata": {
        "colab": {
          "base_uri": "https://localhost:8080/",
          "height": 542
        },
        "id": "rxQwwfUQ4he8",
        "outputId": "3d85a7c2-afd4-4dea-c7b3-e3a9cb9ee080"
      },
      "outputs": [
        {
          "output_type": "execute_result",
          "data": {
            "text/plain": [
              "<matplotlib.axes._subplots.AxesSubplot at 0x7f7cfc46bf10>"
            ]
          },
          "metadata": {},
          "execution_count": 68
        },
        {
          "output_type": "display_data",
          "data": {
            "text/plain": [
              "<Figure size 1008x576 with 1 Axes>"
            ],
            "image/png": "[encoded data removed]"
          },
          "metadata": {
            "needs_background": "light"
          }
        }
      ],
      "source": [
        "#plotando o boxplot, temos:\n",
        "ax = sns.boxplot(x = 'andares',y = 'precos', data = base_dados)\n",
        "ax.figure.set_size_inches(14,8) #tamanho da figura\n",
        "ax.set_title('Preços dos imóveis X Número de andares',fontsize = 18) #configurando o título do gráfico\n",
        "ax.set_xlabel('Quantidade de andares',fontsize = 14) #configurando o eixo x\n",
        "ax.set_xticklabels(labels = ['Até 1 andar','Mais de 1 andar'], fontsize = 12) #configurando os labels do eixo x\n",
        "ax"
      ]
    },
    {
      "cell_type": "markdown",
      "source": [
        "Como podemos verificar, o preço do imóvel aumenta significativamente para imóveis com mais de 1 andar."
      ],
      "metadata": {
        "id": "XjiBbgDTVvb4"
      }
    },
    {
      "cell_type": "markdown",
      "source": [
        "Conclusão:\n",
        "\n",
        "Os boxplots que apresentam uma tendência mais bem definida são os boxplots para as variáveis 'andares' e 'marmore'. Tal resultado já era previsto, pois há uma boa correlação linear entre as duas variáveis explicativas e a variável dependente."
      ],
      "metadata": {
        "id": "qz-mKXpDWrGy"
      }
    },
    {
      "cell_type": "markdown",
      "metadata": {
        "id": "DbzouqbB4he8"
      },
      "source": [
        "## Distribuição de frequências da variável *dependente* (y)\n",
        "\n",
        "Construa um histograma da variável dependente (Preço).\n",
        "\n",
        "### Avalie:\n",
        "<ul style='font-size: 16px; line-height: 2; text-align: justify;'>\n",
        "    <li>A distribuição de frequências da variável dependente parece ser assimétrica?</li>\n",
        "    <li>É possível supor que a variável dependente segue uma distribuição normal?</li>\n",
        "</ul>"
      ]
    },
    {
      "cell_type": "markdown",
      "metadata": {
        "id": "KHPhzT_P4he8"
      },
      "source": [
        "https://seaborn.pydata.org/generated/seaborn.distplot.html?highlight=distplot#seaborn.distplot"
      ]
    },
    {
      "cell_type": "code",
      "execution_count": 76,
      "metadata": {
        "colab": {
          "base_uri": "https://localhost:8080/",
          "height": 473
        },
        "id": "l2bgAGcv4he9",
        "outputId": "5d4b0311-2186-403f-c786-a1b1dccc3085"
      },
      "outputs": [
        {
          "output_type": "execute_result",
          "data": {
            "text/plain": [
              "<seaborn.axisgrid.FacetGrid at 0x7f7cfc2a8b50>"
            ]
          },
          "metadata": {},
          "execution_count": 76
        },
        {
          "output_type": "display_data",
          "data": {
            "text/plain": [
              "<Figure size 864x432 with 1 Axes>"
            ],
            "image/png": "[encoded data removed]"
          },
          "metadata": {
            "needs_background": "light"
          }
        }
      ],
      "source": [
        "#Construindo um histograma para observação da distribuição dos dados de consumo de cerveja:\n",
        "ax = sns.displot(data = base_dados['precos'],kind = 'hist', kde = True)\n",
        "ax.figure.set_size_inches(12,6)\n",
        "plt.title('Histograma de frequências relativas -  preços de imóveis', fontsize = 18)\n",
        "plt.xlabel('Preços ($)', fontsize = 14)\n",
        "ax"
      ]
    },
    {
      "cell_type": "markdown",
      "source": [
        "Conclusão:\n",
        "\n",
        "Os dados da variável dependente 'preços' não apresenta assimetria, ou seja, os dados são simétricos. Além disso, a distribuição dos dados possui, aproximadamente, forma de sino. Logo, podemos considerar que os dados de preços são aproximadamente normais. No presente trabalho, apenas a inspeção visual a partir de histogramas é o suficiente para verificar se os dados são aproximadamente normais. Porém, há casos onde devemos utilizar métodos formais para testar a normalidade da distribuição dos dados. Há importantes métodos estatísticos que são utilizados apenas para dados normalmente distribuídos, daí a importância dos testes de normalidade."
      ],
      "metadata": {
        "id": "P3j3npaoXFbw"
      }
    },
    {
      "cell_type": "markdown",
      "metadata": {
        "id": "dBbPigk_4he9"
      },
      "source": [
        "## Gráficos de dispersão entre as variáveis do dataset"
      ]
    },
    {
      "cell_type": "markdown",
      "metadata": {
        "id": "cETzhN0V4he9"
      },
      "source": [
        "## Plotando o pairplot fixando somente uma variável no eixo y\n",
        "\n",
        "https://seaborn.pydata.org/generated/seaborn.pairplot.html?highlight=pairplot#seaborn.pairplot\n",
        "\n",
        "Plote gráficos de dispersão da variável dependente contra cada variável explicativa. Utilize o pairplot da biblioteca seaborn para isso.\n",
        "\n",
        "Plote o mesmo gráfico utilizando o parâmetro kind='reg'.\n",
        "\n",
        "### Avalie:\n",
        "<ul style='font-size: 16px; line-height: 2; text-align: justify;'>\n",
        "    <li>É possível identificar alguma relação linear entre as variáveis?</li>\n",
        "    <li>A relação é positiva ou negativa?</li>\n",
        "    <li>Compare com os resultados obtidos na matriz de correlação.</li>\n",
        "</ul>"
      ]
    },
    {
      "cell_type": "markdown",
      "source": [
        "O gráfico de dispersão é utilizado para visualizar se há ou não alguma tendência linear entre a variável dependente e as variáveis explicativas."
      ],
      "metadata": {
        "id": "NvWSD19vZcQI"
      }
    },
    {
      "cell_type": "code",
      "source": [
        "base_dados.columns"
      ],
      "metadata": {
        "colab": {
          "base_uri": "https://localhost:8080/"
        },
        "id": "fq_7ZEUQZLDW",
        "outputId": "d4eb1b92-5fcb-4113-cf0f-bea4a0695b63"
      },
      "execution_count": 77,
      "outputs": [
        {
          "output_type": "execute_result",
          "data": {
            "text/plain": [
              "Index(['precos', 'area', 'garagem', 'banheiros', 'lareira', 'marmore',\n",
              "       'andares'],\n",
              "      dtype='object')"
            ]
          },
          "metadata": {},
          "execution_count": 77
        }
      ]
    },
    {
      "cell_type": "code",
      "execution_count": 80,
      "metadata": {
        "colab": {
          "base_uri": "https://localhost:8080/",
          "height": 249
        },
        "id": "hB31ep644he9",
        "outputId": "43a6a40e-d8d0-40fc-9e0b-e6c8651ffc0b"
      },
      "outputs": [
        {
          "output_type": "execute_result",
          "data": {
            "text/plain": [
              "<seaborn.axisgrid.PairGrid at 0x7f7cfa25c350>"
            ]
          },
          "metadata": {},
          "execution_count": 80
        },
        {
          "output_type": "display_data",
          "data": {
            "text/plain": [
              "<Figure size 1080x180 with 6 Axes>"
            ],
            "image/png": "[encoded data removed]"
          },
          "metadata": {
            "needs_background": "light"
          }
        }
      ],
      "source": [
        "#plotando os gráficos de dispersão, temos:\n",
        "ax = sns.pairplot(base_dados, y_vars = 'precos',x_vars = ['area','garagem','banheiros','lareira','marmore','andares'])\n",
        "ax.fig.suptitle('Dispersão entre as variáveis', fontsize = 20, y = 1.15)\n",
        "ax"
      ]
    },
    {
      "cell_type": "code",
      "execution_count": 81,
      "metadata": {
        "colab": {
          "base_uri": "https://localhost:8080/",
          "height": 249
        },
        "id": "NZ63wMLs4he9",
        "outputId": "f2381f74-0bc1-404d-8e29-0527f88e580e"
      },
      "outputs": [
        {
          "output_type": "execute_result",
          "data": {
            "text/plain": [
              "<seaborn.axisgrid.PairGrid at 0x7f7cfa069c90>"
            ]
          },
          "metadata": {},
          "execution_count": 81
        },
        {
          "output_type": "display_data",
          "data": {
            "text/plain": [
              "<Figure size 1080x180 with 6 Axes>"
            ],
            "image/png": "[encoded data removed]"
          },
          "metadata": {
            "needs_background": "light"
          }
        }
      ],
      "source": [
        "#plotando os gráficos de dispersão, temos:\n",
        "ax = sns.pairplot(base_dados, y_vars = 'precos',x_vars = ['area','garagem','banheiros','lareira','marmore','andares'], kind = 'reg')\n",
        "ax.fig.suptitle('Dispersão entre as variáveis', fontsize = 20, y = 1.15)\n",
        "ax"
      ]
    },
    {
      "cell_type": "markdown",
      "source": [
        "Conclusão:\n",
        "\n",
        "Como podemos ver através dos gráficos de dispersão, há uma pequena tendência linear entre as variáveis explicativas e a variável dependente. Além disso, a tendênciar linear é pequena para as variáveis área, garagem, banheiros e lareira, enquanto é observado uma tendência linear maior entre as variáveis marmore e andares. Este resultado está de acordo com o observado na matriz de correlação, uma vez que os maiores coeficientes de correlação foram encontrados para as duas últimas."
      ],
      "metadata": {
        "id": "vJdt0L6kZlyB"
      }
    },
    {
      "cell_type": "markdown",
      "source": [
        "Para a variável area, nota-se uma grande variação nos preços. "
      ],
      "metadata": {
        "id": "F-iimYQlat7V"
      }
    },
    {
      "cell_type": "markdown",
      "metadata": {
        "id": "WIY67ABn4he9"
      },
      "source": [
        "# <font color='red' style='font-size: 30px;'>Estimando um Modelo de Regressão Linear</font>\n",
        "<hr style='border: 2px solid red;'>"
      ]
    },
    {
      "cell_type": "markdown",
      "metadata": {
        "id": "iXZFxqAL4he-"
      },
      "source": [
        "## Importando o *train_test_split* da biblioteca *scikit-learn*\n",
        "\n",
        "https://scikit-learn.org/stable/modules/generated/sklearn.model_selection.train_test_split.html"
      ]
    },
    {
      "cell_type": "markdown",
      "source": [
        "a função train_test_split é repsonsável por dividir o conjunto de dados em dados de treinamento e teste."
      ],
      "metadata": {
        "id": "QYJHDKidbF7G"
      }
    },
    {
      "cell_type": "code",
      "execution_count": 82,
      "metadata": {
        "id": "kcT8oQAN4he-"
      },
      "outputs": [],
      "source": [
        "from sklearn.model_selection import train_test_split"
      ]
    },
    {
      "cell_type": "markdown",
      "metadata": {
        "id": "N1i6lcYx4he-"
      },
      "source": [
        "## Criando uma Series (pandas) para armazenar a variável dependente (y)"
      ]
    },
    {
      "cell_type": "code",
      "execution_count": 83,
      "metadata": {
        "colab": {
          "base_uri": "https://localhost:8080/"
        },
        "id": "kNSRYUUY4he-",
        "outputId": "a6498b70-7dbb-496c-8f0e-425d048c311e"
      },
      "outputs": [
        {
          "output_type": "execute_result",
          "data": {
            "text/plain": [
              "0    51875\n",
              "1    17875\n",
              "2    47075\n",
              "3    38575\n",
              "4    33775\n",
              "5    35450\n",
              "6    52025\n",
              "7    37550\n",
              "8    31500\n",
              "9    37650\n",
              "Name: precos, dtype: int64"
            ]
          },
          "metadata": {},
          "execution_count": 83
        }
      ],
      "source": [
        "y = base_dados['precos']\n",
        "y.head(10)"
      ]
    },
    {
      "cell_type": "code",
      "source": [
        "y.shape"
      ],
      "metadata": {
        "colab": {
          "base_uri": "https://localhost:8080/"
        },
        "id": "ormJ9Nh6bf8z",
        "outputId": "ede117f5-a181-45c0-e6c5-d94b701c66c1"
      },
      "execution_count": 86,
      "outputs": [
        {
          "output_type": "execute_result",
          "data": {
            "text/plain": [
              "(1000,)"
            ]
          },
          "metadata": {},
          "execution_count": 86
        }
      ]
    },
    {
      "cell_type": "markdown",
      "metadata": {
        "id": "RJv42KWv4he-"
      },
      "source": [
        "## Criando um DataFrame (pandas) para armazenar as variáveis explicativas (X)"
      ]
    },
    {
      "cell_type": "code",
      "source": [
        "base_dados.columns"
      ],
      "metadata": {
        "colab": {
          "base_uri": "https://localhost:8080/"
        },
        "id": "z6MZu3nNbT3g",
        "outputId": "ecff0839-9324-45d0-c84e-c9d04157b3ac"
      },
      "execution_count": 84,
      "outputs": [
        {
          "output_type": "execute_result",
          "data": {
            "text/plain": [
              "Index(['precos', 'area', 'garagem', 'banheiros', 'lareira', 'marmore',\n",
              "       'andares'],\n",
              "      dtype='object')"
            ]
          },
          "metadata": {},
          "execution_count": 84
        }
      ]
    },
    {
      "cell_type": "code",
      "execution_count": 85,
      "metadata": {
        "colab": {
          "base_uri": "https://localhost:8080/",
          "height": 363
        },
        "id": "6wza3GGp4he-",
        "outputId": "7028e27c-f328-4edd-c6d6-81f8ee0d9d84"
      },
      "outputs": [
        {
          "output_type": "execute_result",
          "data": {
            "text/plain": [
              "   area  garagem  banheiros  lareira  marmore  andares\n",
              "0    25        3          4        3        0        1\n",
              "1    35        1          3        1        0        0\n",
              "2   195        2          4        2        0        0\n",
              "3    33        2          2        1        0        1\n",
              "4    11        2          3        0        0        1\n",
              "5   148        2          5        2        0        0\n",
              "6   211        2          3        2        1        0\n",
              "7   172        2          2        3        1        0\n",
              "8    62        1          4        2        0        0\n",
              "9   218        3          1        0        1        0"
            ],
            "text/html": [
              "\n",
              "  <div id=\"df-38f68a06-2237-405c-bffc-d7116014f541\">\n",
              "    <div class=\"colab-df-container\">\n",
              "      <div>\n",
              "<style scoped>\n",
              "    .dataframe tbody tr th:only-of-type {\n",
              "        vertical-align: middle;\n",
              "    }\n",
              "\n",
              "    .dataframe tbody tr th {\n",
              "        vertical-align: top;\n",
              "    }\n",
              "\n",
              "    .dataframe thead th {\n",
              "        text-align: right;\n",
              "    }\n",
              "</style>\n",
              "<table border=\"1\" class=\"dataframe\">\n",
              "  <thead>\n",
              "    <tr style=\"text-align: right;\">\n",
              "      <th></th>\n",
              "      <th>area</th>\n",
              "      <th>garagem</th>\n",
              "      <th>banheiros</th>\n",
              "      <th>lareira</th>\n",
              "      <th>marmore</th>\n",
              "      <th>andares</th>\n",
              "    </tr>\n",
              "  </thead>\n",
              "  <tbody>\n",
              "    <tr>\n",
              "      <th>0</th>\n",
              "      <td>25</td>\n",
              "      <td>3</td>\n",
              "      <td>4</td>\n",
              "      <td>3</td>\n",
              "      <td>0</td>\n",
              "      <td>1</td>\n",
              "    </tr>\n",
              "    <tr>\n",
              "      <th>1</th>\n",
              "      <td>35</td>\n",
              "      <td>1</td>\n",
              "      <td>3</td>\n",
              "      <td>1</td>\n",
              "      <td>0</td>\n",
              "      <td>0</td>\n",
              "    </tr>\n",
              "    <tr>\n",
              "      <th>2</th>\n",
              "      <td>195</td>\n",
              "      <td>2</td>\n",
              "      <td>4</td>\n",
              "      <td>2</td>\n",
              "      <td>0</td>\n",
              "      <td>0</td>\n",
              "    </tr>\n",
              "    <tr>\n",
              "      <th>3</th>\n",
              "      <td>33</td>\n",
              "      <td>2</td>\n",
              "      <td>2</td>\n",
              "      <td>1</td>\n",
              "      <td>0</td>\n",
              "      <td>1</td>\n",
              "    </tr>\n",
              "    <tr>\n",
              "      <th>4</th>\n",
              "      <td>11</td>\n",
              "      <td>2</td>\n",
              "      <td>3</td>\n",
              "      <td>0</td>\n",
              "      <td>0</td>\n",
              "      <td>1</td>\n",
              "    </tr>\n",
              "    <tr>\n",
              "      <th>5</th>\n",
              "      <td>148</td>\n",
              "      <td>2</td>\n",
              "      <td>5</td>\n",
              "      <td>2</td>\n",
              "      <td>0</td>\n",
              "      <td>0</td>\n",
              "    </tr>\n",
              "    <tr>\n",
              "      <th>6</th>\n",
              "      <td>211</td>\n",
              "      <td>2</td>\n",
              "      <td>3</td>\n",
              "      <td>2</td>\n",
              "      <td>1</td>\n",
              "      <td>0</td>\n",
              "    </tr>\n",
              "    <tr>\n",
              "      <th>7</th>\n",
              "      <td>172</td>\n",
              "      <td>2</td>\n",
              "      <td>2</td>\n",
              "      <td>3</td>\n",
              "      <td>1</td>\n",
              "      <td>0</td>\n",
              "    </tr>\n",
              "    <tr>\n",
              "      <th>8</th>\n",
              "      <td>62</td>\n",
              "      <td>1</td>\n",
              "      <td>4</td>\n",
              "      <td>2</td>\n",
              "      <td>0</td>\n",
              "      <td>0</td>\n",
              "    </tr>\n",
              "    <tr>\n",
              "      <th>9</th>\n",
              "      <td>218</td>\n",
              "      <td>3</td>\n",
              "      <td>1</td>\n",
              "      <td>0</td>\n",
              "      <td>1</td>\n",
              "      <td>0</td>\n",
              "    </tr>\n",
              "  </tbody>\n",
              "</table>\n",
              "</div>\n",
              "      <button class=\"colab-df-convert\" onclick=\"convertToInteractive('df-38f68a06-2237-405c-bffc-d7116014f541')\"\n",
              "              title=\"Convert this dataframe to an interactive table.\"\n",
              "              style=\"display:none;\">\n",
              "        \n",
              "  <svg xmlns=\"http://www.w3.org/2000/svg\" height=\"24px\"viewBox=\"0 0 24 24\"\n",
              "       width=\"24px\">\n",
              "    <path d=\"M0 0h24v24H0V0z\" fill=\"none\"/>\n",
              "    <path d=\"M18.56 5.44l.94 2.06.94-2.06 2.06-.94-2.06-.94-.94-2.06-.94 2.06-2.06.94zm-11 1L8.5 8.5l.94-2.06 2.06-.94-2.06-.94L8.5 2.5l-.94 2.06-2.06.94zm10 10l.94 2.06.94-2.06 2.06-.94-2.06-.94-.94-2.06-.94 2.06-2.06.94z\"/><path d=\"M17.41 7.96l-1.37-1.37c-.4-.4-.92-.59-1.43-.59-.52 0-1.04.2-1.43.59L10.3 9.45l-7.72 7.72c-.78.78-.78 2.05 0 2.83L4 21.41c.39.39.9.59 1.41.59.51 0 1.02-.2 1.41-.59l7.78-7.78 2.81-2.81c.8-.78.8-2.07 0-2.86zM5.41 20L4 18.59l7.72-7.72 1.47 1.35L5.41 20z\"/>\n",
              "  </svg>\n",
              "      </button>\n",
              "      \n",
              "  <style>\n",
              "    .colab-df-container {\n",
              "      display:flex;\n",
              "      flex-wrap:wrap;\n",
              "      gap: 12px;\n",
              "    }\n",
              "\n",
              "    .colab-df-convert {\n",
              "      background-color: #E8F0FE;\n",
              "      border: none;\n",
              "      border-radius: 50%;\n",
              "      cursor: pointer;\n",
              "      display: none;\n",
              "      fill: #1967D2;\n",
              "      height: 32px;\n",
              "      padding: 0 0 0 0;\n",
              "      width: 32px;\n",
              "    }\n",
              "\n",
              "    .colab-df-convert:hover {\n",
              "      background-color: #E2EBFA;\n",
              "      box-shadow: 0px 1px 2px rgba(60, 64, 67, 0.3), 0px 1px 3px 1px rgba(60, 64, 67, 0.15);\n",
              "      fill: #174EA6;\n",
              "    }\n",
              "\n",
              "    [theme=dark] .colab-df-convert {\n",
              "      background-color: #3B4455;\n",
              "      fill: #D2E3FC;\n",
              "    }\n",
              "\n",
              "    [theme=dark] .colab-df-convert:hover {\n",
              "      background-color: #434B5C;\n",
              "      box-shadow: 0px 1px 3px 1px rgba(0, 0, 0, 0.15);\n",
              "      filter: drop-shadow(0px 1px 2px rgba(0, 0, 0, 0.3));\n",
              "      fill: #FFFFFF;\n",
              "    }\n",
              "  </style>\n",
              "\n",
              "      <script>\n",
              "        const buttonEl =\n",
              "          document.querySelector('#df-38f68a06-2237-405c-bffc-d7116014f541 button.colab-df-convert');\n",
              "        buttonEl.style.display =\n",
              "          google.colab.kernel.accessAllowed ? 'block' : 'none';\n",
              "\n",
              "        async function convertToInteractive(key) {\n",
              "          const element = document.querySelector('#df-38f68a06-2237-405c-bffc-d7116014f541');\n",
              "          const dataTable =\n",
              "            await google.colab.kernel.invokeFunction('convertToInteractive',\n",
              "                                                     [key], {});\n",
              "          if (!dataTable) return;\n",
              "\n",
              "          const docLinkHtml = 'Like what you see? Visit the ' +\n",
              "            '<a target=\"_blank\" href=https://colab.research.google.com/notebooks/data_table.ipynb>data table notebook</a>'\n",
              "            + ' to learn more about interactive tables.';\n",
              "          element.innerHTML = '';\n",
              "          dataTable['output_type'] = 'display_data';\n",
              "          await google.colab.output.renderOutput(dataTable, element);\n",
              "          const docLink = document.createElement('div');\n",
              "          docLink.innerHTML = docLinkHtml;\n",
              "          element.appendChild(docLink);\n",
              "        }\n",
              "      </script>\n",
              "    </div>\n",
              "  </div>\n",
              "  "
            ]
          },
          "metadata": {},
          "execution_count": 85
        }
      ],
      "source": [
        "X = base_dados[['area','garagem','banheiros','lareira','marmore','andares']]\n",
        "X.head(10)"
      ]
    },
    {
      "cell_type": "code",
      "source": [
        "X.shape"
      ],
      "metadata": {
        "colab": {
          "base_uri": "https://localhost:8080/"
        },
        "id": "ZYAdyFnObiVD",
        "outputId": "faa41316-b886-454b-cf0f-3282a94714e7"
      },
      "execution_count": 87,
      "outputs": [
        {
          "output_type": "execute_result",
          "data": {
            "text/plain": [
              "(1000, 6)"
            ]
          },
          "metadata": {},
          "execution_count": 87
        }
      ]
    },
    {
      "cell_type": "markdown",
      "metadata": {
        "id": "SI2g2Emx4he-"
      },
      "source": [
        "## Criando os datasets de treino e de teste"
      ]
    },
    {
      "cell_type": "code",
      "execution_count": 88,
      "metadata": {
        "id": "UmreG-iE4he_"
      },
      "outputs": [],
      "source": [
        "X_train, X_test, y_train, y_test = train_test_split(X,y,test_size = 0.3, random_state = 2811)"
      ]
    },
    {
      "cell_type": "markdown",
      "metadata": {
        "id": "uLwBa-s94he_"
      },
      "source": [
        "## Importando *LinearRegression* e *metrics* da biblioteca *scikit-learn*\n",
        "\n",
        "https://scikit-learn.org/stable/modules/generated/sklearn.linear_model.LinearRegression.html\n",
        "\n",
        "https://scikit-learn.org/stable/modules/classes.html#regression-metrics"
      ]
    },
    {
      "cell_type": "code",
      "execution_count": 95,
      "metadata": {
        "id": "UQDzhmIo4he_"
      },
      "outputs": [],
      "source": [
        "from sklearn.linear_model import LinearRegression\n",
        "from sklearn import metrics"
      ]
    },
    {
      "cell_type": "markdown",
      "metadata": {
        "id": "HXz-DO8h4hfA"
      },
      "source": [
        "## Instanciando a classe *LinearRegression()*"
      ]
    },
    {
      "cell_type": "code",
      "execution_count": 90,
      "metadata": {
        "id": "MkMr2piw4hfA"
      },
      "outputs": [],
      "source": [
        "modelo = LinearRegression()"
      ]
    },
    {
      "cell_type": "markdown",
      "metadata": {
        "id": "1_uNENWV4hfA"
      },
      "source": [
        "## Utilizando o método *fit()* para estimar o modelo linear utilizando os dados de TREINO (y_train e X_train)\n",
        "\n",
        "https://scikit-learn.org/stable/modules/generated/sklearn.linear_model.LinearRegression.html#sklearn.linear_model.LinearRegression.fit"
      ]
    },
    {
      "cell_type": "code",
      "execution_count": 91,
      "metadata": {
        "colab": {
          "base_uri": "https://localhost:8080/"
        },
        "id": "7zgKkReO4hfA",
        "outputId": "798be1ee-58c1-4137-c54a-376e467bece7"
      },
      "outputs": [
        {
          "output_type": "execute_result",
          "data": {
            "text/plain": [
              "LinearRegression()"
            ]
          },
          "metadata": {},
          "execution_count": 91
        }
      ],
      "source": [
        "modelo.fit(X_train, y_train)"
      ]
    },
    {
      "cell_type": "markdown",
      "metadata": {
        "id": "jhvUugAR4hfA"
      },
      "source": [
        "## Obtendo o coeficiente de determinação (R²) do modelo estimado com os dados de TREINO\n",
        "\n",
        "https://scikit-learn.org/stable/modules/generated/sklearn.linear_model.LinearRegression.html#sklearn.linear_model.LinearRegression.score\n",
        "\n",
        "\n",
        "### Avalie:\n",
        "<ul style='font-size: 16px; line-height: 2; text-align: justify;'>\n",
        "    <li>O modelo apresenta um bom ajuste?</li>\n",
        "    <li>Você lembra o que representa o R²?</li>\n",
        "    <li>Qual medida podemos tomar para melhorar essa estatística?</li>\n",
        "</ul>"
      ]
    },
    {
      "cell_type": "code",
      "execution_count": 92,
      "metadata": {
        "colab": {
          "base_uri": "https://localhost:8080/"
        },
        "id": "ETh-unRF4hfB",
        "outputId": "7f4f4cee-3094-49d4-a02d-5822742063a9"
      },
      "outputs": [
        {
          "output_type": "stream",
          "name": "stdout",
          "text": [
            "R² do modelo, a partir da estimativa com dados de treino: 0.636\n"
          ]
        }
      ],
      "source": [
        "print('R² do modelo, a partir da estimativa com dados de treino: {}'.format(modelo.score(X_train,y_train).round(3)))"
      ]
    },
    {
      "cell_type": "markdown",
      "source": [
        "Conclusão:\n",
        "\n",
        "Quanto mais próximo de 1 o R² estiver melhor o ajuste dos dados a reta de regressão linear obtida a partir do modelo de regressão linear. O resultado de R² = 0.636 indica que 63,6% das variações na variável dependente são explicadas pelas variáveis explicativas. Para esse valor de coeficiente de determinação, podemos concluir que o ajuste dos dados é razoável. Para melhorar o coeficiente de determinação do modelo, poderíamos construir novos modelos com variáveis explicativas diferentes.\n",
        "\n",
        "É importante lembrar que, quanto mais características explicativas forem fornecidas ao modelo, o coeficiente de determinação sempre irá aumentar. Logo, o coeficiente de determinação não é melhor métrica para avaliar o desempenho do modelo, pois quanto mais característica maior será o coeficiente de determinação. Inserir mais variáveis explicativas no modelo poderá atrapalhar o desempenho, essa redução no desempenho não é mostrada no coeficiente de determinação."
      ],
      "metadata": {
        "id": "4dxg1SYzc3LT"
      }
    },
    {
      "cell_type": "markdown",
      "metadata": {
        "id": "vWOO0DOI4hfB"
      },
      "source": [
        "## Gerando previsões para os dados de TESTE (X_test) utilizando o método *predict()*\n",
        "\n",
        "https://scikit-learn.org/stable/modules/generated/sklearn.linear_model.LinearRegression.html#sklearn.linear_model.LinearRegression.predict"
      ]
    },
    {
      "cell_type": "code",
      "execution_count": 93,
      "metadata": {
        "id": "OAy-ce-A4hfB"
      },
      "outputs": [],
      "source": [
        "y_previsto = modelo.predict(X_test)"
      ]
    },
    {
      "cell_type": "markdown",
      "metadata": {
        "id": "1plIM1u04hfB"
      },
      "source": [
        "## Obtendo o coeficiente de determinação (R²) para as previsões do nosso modelo\n",
        "\n",
        "https://scikit-learn.org/stable/modules/generated/sklearn.metrics.r2_score.html#sklearn.metrics.r2_score"
      ]
    },
    {
      "cell_type": "code",
      "execution_count": 96,
      "metadata": {
        "colab": {
          "base_uri": "https://localhost:8080/"
        },
        "id": "f64gcecq4hfB",
        "outputId": "7600622f-0c7d-44ff-9986-b4fdc67729a7"
      },
      "outputs": [
        {
          "output_type": "stream",
          "name": "stdout",
          "text": [
            "R² estimado com os dados de teste: 0.67\n"
          ]
        }
      ],
      "source": [
        "print('R² estimado com os dados de teste: {}'.format(metrics.r2_score(y_test, y_previsto).round(2)))"
      ]
    },
    {
      "cell_type": "markdown",
      "metadata": {
        "id": "sPEpMJ364hfB"
      },
      "source": [
        "# <font color='red' style='font-size: 30px;'>Obtendo Previsões Pontuais</font>\n",
        "<hr style='border: 2px solid red;'>"
      ]
    },
    {
      "cell_type": "markdown",
      "metadata": {
        "id": "2rqd2soG4hfC"
      },
      "source": [
        "## Criando um simulador simples\n",
        "\n",
        "Crie um simulador que gere estimativas de preço a partir de um conjunto de informações de um imóvel."
      ]
    },
    {
      "cell_type": "code",
      "execution_count": 102,
      "metadata": {
        "colab": {
          "base_uri": "https://localhost:8080/"
        },
        "id": "8J-C6JWc4hfC",
        "outputId": "bdb782ad-4262-4235-88e1-e50b182ff6fc"
      },
      "outputs": [
        {
          "output_type": "stream",
          "name": "stdout",
          "text": [
            "Valor previsto do imóvel: 46389.804757092425\n"
          ]
        },
        {
          "output_type": "stream",
          "name": "stderr",
          "text": [
            "/usr/local/lib/python3.7/dist-packages/sklearn/base.py:451: UserWarning: X does not have valid feature names, but LinearRegression was fitted with feature names\n",
            "  \"X does not have valid feature names, but\"\n"
          ]
        }
      ],
      "source": [
        "area = 38\n",
        "garagem = 2\n",
        "banheiros = 4\n",
        "lareira = 4\n",
        "marmore = 0\n",
        "andares = 1\n",
        "\n",
        "entrada = [[area,garagem,banheiros,lareira,marmore,andares]]\n",
        "\n",
        "print('Valor previsto do imóvel: {}'.format(modelo.predict(entrada)[0]))"
      ]
    },
    {
      "cell_type": "markdown",
      "metadata": {
        "id": "F6MOEvKP4hfC"
      },
      "source": [
        "# <font color='red' style='font-size: 30px;'>Métricas de Regressão</font>\n",
        "<hr style='border: 2px solid red;'>"
      ]
    },
    {
      "cell_type": "markdown",
      "metadata": {
        "id": "Wos-UDkb4hfC"
      },
      "source": [
        "## Métricas da regressão\n",
        "<hr>\n",
        "\n",
        "fonte: https://scikit-learn.org/stable/modules/model_evaluation.html#regression-metrics\n",
        "\n",
        "Algumas estatísticas obtidas do modelo de regressão são muito úteis como critério de comparação entre modelos estimados e de seleção do melhor modelo, as principais métricas de regressão que o scikit-learn disponibiliza para modelos lineares são as seguintes:\n",
        "\n",
        "### Erro Quadrático Médio\n",
        "\n",
        "Média dos quadrados dos erros. Ajustes melhores apresentam $EQM$ mais baixo.\n",
        "\n",
        "$$EQM(y, \\hat{y}) = \\frac 1n\\sum_{i=0}^{n-1}(y_i-\\hat{y}_i)^2$$\n",
        "\n",
        "### Raíz do Erro Quadrático Médio\n",
        "\n",
        "Raíz quadrada da média dos quadrados dos erros. Ajustes melhores apresentam $\\sqrt{EQM}$ mais baixo.\n",
        "\n",
        "$$\\sqrt{EQM(y, \\hat{y})} = \\sqrt{\\frac 1n\\sum_{i=0}^{n-1}(y_i-\\hat{y}_i)^2}$$\n",
        "\n",
        "### Coeficiente de Determinação - R²\n",
        "\n",
        "O coeficiente de determinação (R²) é uma medida resumida que diz quanto a linha de regressão ajusta-se aos dados. É um valor entra 0 e 1.\n",
        "\n",
        "$$R^2(y, \\hat{y}) = 1 - \\frac {\\sum_{i=0}^{n-1}(y_i-\\hat{y}_i)^2}{\\sum_{i=0}^{n-1}(y_i-\\bar{y}_i)^2}$$"
      ]
    },
    {
      "cell_type": "markdown",
      "metadata": {
        "id": "8DvsI8ji4hfC"
      },
      "source": [
        "## Obtendo métricas para o modelo"
      ]
    },
    {
      "cell_type": "markdown",
      "source": [
        "As métricas podem ser utilizadas para comparar diferentes modelos usando diferentes características explicativas e nos auxiliar na escolha do melhor conjunto de características para implementação do algoritmo de aprendizado de máquina."
      ],
      "metadata": {
        "id": "A7wB4tsWgTSh"
      }
    },
    {
      "cell_type": "code",
      "execution_count": 103,
      "metadata": {
        "colab": {
          "base_uri": "https://localhost:8080/",
          "height": 143
        },
        "id": "aKRpnm924hfC",
        "outputId": "900cb1b4-11bb-42e2-a066-b6199ca106ae"
      },
      "outputs": [
        {
          "output_type": "execute_result",
          "data": {
            "text/plain": [
              "                            Métricas de desempenho\n",
              "Erro quadrático médio                  50197019.50\n",
              "Raiz erro quadrático médio                 7084.99\n",
              "R²                                            0.67"
            ],
            "text/html": [
              "\n",
              "  <div id=\"df-3fd8606a-faf6-4cf3-a315-80285f294717\">\n",
              "    <div class=\"colab-df-container\">\n",
              "      <div>\n",
              "<style scoped>\n",
              "    .dataframe tbody tr th:only-of-type {\n",
              "        vertical-align: middle;\n",
              "    }\n",
              "\n",
              "    .dataframe tbody tr th {\n",
              "        vertical-align: top;\n",
              "    }\n",
              "\n",
              "    .dataframe thead th {\n",
              "        text-align: right;\n",
              "    }\n",
              "</style>\n",
              "<table border=\"1\" class=\"dataframe\">\n",
              "  <thead>\n",
              "    <tr style=\"text-align: right;\">\n",
              "      <th></th>\n",
              "      <th>Métricas de desempenho</th>\n",
              "    </tr>\n",
              "  </thead>\n",
              "  <tbody>\n",
              "    <tr>\n",
              "      <th>Erro quadrático médio</th>\n",
              "      <td>50197019.50</td>\n",
              "    </tr>\n",
              "    <tr>\n",
              "      <th>Raiz erro quadrático médio</th>\n",
              "      <td>7084.99</td>\n",
              "    </tr>\n",
              "    <tr>\n",
              "      <th>R²</th>\n",
              "      <td>0.67</td>\n",
              "    </tr>\n",
              "  </tbody>\n",
              "</table>\n",
              "</div>\n",
              "      <button class=\"colab-df-convert\" onclick=\"convertToInteractive('df-3fd8606a-faf6-4cf3-a315-80285f294717')\"\n",
              "              title=\"Convert this dataframe to an interactive table.\"\n",
              "              style=\"display:none;\">\n",
              "        \n",
              "  <svg xmlns=\"http://www.w3.org/2000/svg\" height=\"24px\"viewBox=\"0 0 24 24\"\n",
              "       width=\"24px\">\n",
              "    <path d=\"M0 0h24v24H0V0z\" fill=\"none\"/>\n",
              "    <path d=\"M18.56 5.44l.94 2.06.94-2.06 2.06-.94-2.06-.94-.94-2.06-.94 2.06-2.06.94zm-11 1L8.5 8.5l.94-2.06 2.06-.94-2.06-.94L8.5 2.5l-.94 2.06-2.06.94zm10 10l.94 2.06.94-2.06 2.06-.94-2.06-.94-.94-2.06-.94 2.06-2.06.94z\"/><path d=\"M17.41 7.96l-1.37-1.37c-.4-.4-.92-.59-1.43-.59-.52 0-1.04.2-1.43.59L10.3 9.45l-7.72 7.72c-.78.78-.78 2.05 0 2.83L4 21.41c.39.39.9.59 1.41.59.51 0 1.02-.2 1.41-.59l7.78-7.78 2.81-2.81c.8-.78.8-2.07 0-2.86zM5.41 20L4 18.59l7.72-7.72 1.47 1.35L5.41 20z\"/>\n",
              "  </svg>\n",
              "      </button>\n",
              "      \n",
              "  <style>\n",
              "    .colab-df-container {\n",
              "      display:flex;\n",
              "      flex-wrap:wrap;\n",
              "      gap: 12px;\n",
              "    }\n",
              "\n",
              "    .colab-df-convert {\n",
              "      background-color: #E8F0FE;\n",
              "      border: none;\n",
              "      border-radius: 50%;\n",
              "      cursor: pointer;\n",
              "      display: none;\n",
              "      fill: #1967D2;\n",
              "      height: 32px;\n",
              "      padding: 0 0 0 0;\n",
              "      width: 32px;\n",
              "    }\n",
              "\n",
              "    .colab-df-convert:hover {\n",
              "      background-color: #E2EBFA;\n",
              "      box-shadow: 0px 1px 2px rgba(60, 64, 67, 0.3), 0px 1px 3px 1px rgba(60, 64, 67, 0.15);\n",
              "      fill: #174EA6;\n",
              "    }\n",
              "\n",
              "    [theme=dark] .colab-df-convert {\n",
              "      background-color: #3B4455;\n",
              "      fill: #D2E3FC;\n",
              "    }\n",
              "\n",
              "    [theme=dark] .colab-df-convert:hover {\n",
              "      background-color: #434B5C;\n",
              "      box-shadow: 0px 1px 3px 1px rgba(0, 0, 0, 0.15);\n",
              "      filter: drop-shadow(0px 1px 2px rgba(0, 0, 0, 0.3));\n",
              "      fill: #FFFFFF;\n",
              "    }\n",
              "  </style>\n",
              "\n",
              "      <script>\n",
              "        const buttonEl =\n",
              "          document.querySelector('#df-3fd8606a-faf6-4cf3-a315-80285f294717 button.colab-df-convert');\n",
              "        buttonEl.style.display =\n",
              "          google.colab.kernel.accessAllowed ? 'block' : 'none';\n",
              "\n",
              "        async function convertToInteractive(key) {\n",
              "          const element = document.querySelector('#df-3fd8606a-faf6-4cf3-a315-80285f294717');\n",
              "          const dataTable =\n",
              "            await google.colab.kernel.invokeFunction('convertToInteractive',\n",
              "                                                     [key], {});\n",
              "          if (!dataTable) return;\n",
              "\n",
              "          const docLinkHtml = 'Like what you see? Visit the ' +\n",
              "            '<a target=\"_blank\" href=https://colab.research.google.com/notebooks/data_table.ipynb>data table notebook</a>'\n",
              "            + ' to learn more about interactive tables.';\n",
              "          element.innerHTML = '';\n",
              "          dataTable['output_type'] = 'display_data';\n",
              "          await google.colab.output.renderOutput(dataTable, element);\n",
              "          const docLink = document.createElement('div');\n",
              "          docLink.innerHTML = docLinkHtml;\n",
              "          element.appendChild(docLink);\n",
              "        }\n",
              "      </script>\n",
              "    </div>\n",
              "  </div>\n",
              "  "
            ]
          },
          "metadata": {},
          "execution_count": 103
        }
      ],
      "source": [
        "#calculando o erro quadrático médio entre y verdadeiro e y previsto usando os dados de teste, temos:\n",
        "EQM = metrics.mean_squared_error(y_test,y_previsto).round(2) \n",
        "#calculando a raiz quadrada do erro quadrático médio, temos:\n",
        "REQM = np.sqrt(metrics.mean_squared_error(y_test,y_previsto)).round(2)\n",
        "#Calculando o coeficiente de determinação R², temos:\n",
        "R2 = metrics.r2_score(y_test,y_previsto).round(2)\n",
        "\n",
        "#criando um dataframe contendo as métricas do modelo, temos:\n",
        "metricas_modelo = pd.DataFrame([EQM,REQM,R2],['Erro quadrático médio','Raiz erro quadrático médio','R²'], columns = ['Métricas de desempenho'])\n",
        "\n",
        "metricas_modelo"
      ]
    },
    {
      "cell_type": "markdown",
      "metadata": {
        "id": "Y0zSF45j4hfD"
      },
      "source": [
        "# <font color='red' style='font-size: 30px;'>Salvando e Carregando o Modelo Estimado</font>\n",
        "<hr style='border: 2px solid red;'>"
      ]
    },
    {
      "cell_type": "markdown",
      "metadata": {
        "id": "6EDLqWiU4hfD"
      },
      "source": [
        "## Importando a biblioteca pickle"
      ]
    },
    {
      "cell_type": "code",
      "execution_count": 105,
      "metadata": {
        "id": "H1Netv-S4hfD"
      },
      "outputs": [],
      "source": [
        "import pickle"
      ]
    },
    {
      "cell_type": "markdown",
      "metadata": {
        "id": "bkGCiGDE4hfF"
      },
      "source": [
        "## Salvando o modelo estimado"
      ]
    },
    {
      "cell_type": "code",
      "execution_count": 106,
      "metadata": {
        "id": "gWPvwxSi4hfG"
      },
      "outputs": [],
      "source": [
        "output = open('modelo_preco','wb')\n",
        "pickle.dump(modelo,output)\n",
        "output.close()"
      ]
    },
    {
      "cell_type": "markdown",
      "metadata": {
        "id": "JXxrNWAh4hfG"
      },
      "source": [
        "### Em um novo notebook/projeto Python\n",
        "\n",
        "<h4 style='color: blue; font-weight: normal'>In [1]:</h4>\n",
        "\n",
        "```sh\n",
        "import pickle\n",
        "\n",
        "modelo = open('modelo_preço','rb')\n",
        "lm_new = pickle.load(modelo)\n",
        "modelo.close()\n",
        "\n",
        "area = 38\n",
        "garagem = 2\n",
        "banheiros = 4\n",
        "lareira = 4\n",
        "marmore = 0\n",
        "andares = 1\n",
        "\n",
        "entrada = [[area, garagem, banheiros, lareira, marmore, andares]]\n",
        "\n",
        "print('$ {0:.2f}'.format(lm_new.predict(entrada)[0]))\n",
        "```\n",
        "\n",
        "<h4 style='color: red; font-weight: normal'>Out [1]:</h4>\n",
        "\n",
        "```\n",
        "$ 46389.80\n",
        "```"
      ]
    }
  ],
  "metadata": {
    "kernelspec": {
      "display_name": "Python 3",
      "language": "python",
      "name": "python3"
    },
    "language_info": {
      "codemirror_mode": {
        "name": "ipython",
        "version": 3
      },
      "file_extension": ".py",
      "mimetype": "text/x-python",
      "name": "python",
      "nbconvert_exporter": "python",
      "pygments_lexer": "ipython3",
      "version": "3.7.0"
    },
    "colab": {
      "name": "Regressao Linear - Exercicio.ipynb",
      "provenance": []
    }
  },
  "nbformat": 4,
  "nbformat_minor": 0
}